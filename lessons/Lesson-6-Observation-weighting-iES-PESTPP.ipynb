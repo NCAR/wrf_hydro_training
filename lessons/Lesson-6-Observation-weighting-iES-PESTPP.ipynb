{
 "cells": [
  {
   "cell_type": "markdown",
   "metadata": {},
   "source": [
    "# Differential weighting based on both the regrouping of observations and also behavior of the prior ensemble\n"
   ]
  },
  {
   "cell_type": "code",
   "execution_count": null,
   "metadata": {},
   "outputs": [],
   "source": [
    "import pandas as pd\n",
    "import pyemu\n",
    "import sys\n",
    "import shutil\n",
    "import os\n",
    "import numpy as np\n",
    "from pathlib import Path\n",
    "from datetime import datetime as dt\n",
    "from matplotlib.backends.backend_pdf import PdfPages\n",
    "import matplotlib.pyplot as plt\n",
    "import matplotlib as mpl\n",
    "#sys.path.append('../scripts/')\n",
    "sys.path.append(os.path.abspath('../scripts/'))\n",
    "from obs_helper import get_obs_df, parsename\n",
    "from pytsproc import filters, series_metrics\n",
    "plt.rcParams['font.size']=12\n",
    "%matplotlib inline\n",
    "import warnings\n",
    "warnings.simplefilter(\"ignore\", DeprecationWarning)"
   ]
  },
  {
   "cell_type": "code",
   "execution_count": null,
   "metadata": {},
   "outputs": [],
   "source": [
    "wkdir = Path('/home/docker/wrf-hydro-training/output/lesson4/host') # original host directory\n",
    "priordir = Path('/home/docker/wrf-hydro-training/output/lesson5/host') # original host directory\n",
    "plotdir = Path('/home/docker/wrf-hydro-training/output/lesson6/plots')"
   ]
  },
  {
   "cell_type": "code",
   "execution_count": null,
   "metadata": {},
   "outputs": [],
   "source": [
    "if not os.path.exists(plotdir):\n",
    "    plotdir.mkdir()"
   ]
  },
  {
   "cell_type": "markdown",
   "metadata": {},
   "source": [
    "**Read in the PESTPP control file from Lesson4**"
   ]
  },
  {
   "cell_type": "code",
   "execution_count": null,
   "metadata": {},
   "outputs": [],
   "source": [
    "pst = pyemu.Pst(str(wkdir / 'wrfpst.pst'), resfile=str(wkdir / 'wrfpst.base.rei'))"
   ]
  },
  {
   "cell_type": "code",
   "execution_count": null,
   "metadata": {},
   "outputs": [],
   "source": [
    "pst.parameter_data"
   ]
  },
  {
   "cell_type": "code",
   "execution_count": null,
   "metadata": {},
   "outputs": [],
   "source": [
    "pst.observation_data.head()"
   ]
  },
  {
   "cell_type": "code",
   "execution_count": null,
   "metadata": {},
   "outputs": [],
   "source": [
    "pst.plot(kind='phi_pie')"
   ]
  },
  {
   "cell_type": "code",
   "execution_count": null,
   "metadata": {},
   "outputs": [],
   "source": [
    "obs = pst.observation_data.copy()\n",
    "obs.loc[obs.obsval==-9999, 'obsval'] = np.nan\n",
    "\n",
    "obs['dtime'] = [np.nan] + [parsename(i) for i in obs.iloc[1:].index]\n",
    "\n",
    "# trim off the burn-in period\n",
    "obs.loc[obs.dtime<'2018-08-05', 'obgnme'] = 'burn_in'\n",
    "# label the validation period\n",
    "obs.loc[(obs.dtime>='2018-08-05') & (obs.dtime<'2018-08-15'), 'obgnme'] = 'validation'"
   ]
  },
  {
   "cell_type": "code",
   "execution_count": null,
   "metadata": {},
   "outputs": [],
   "source": [
    "# copy over the updated obsgroups to the original\n",
    "pst.observation_data.obgnme = obs.obgnme.values\n",
    "\n",
    "obgnames = obs.obgnme.copy()\n",
    "\n",
    "obgnames.loc['kge'] = 'kge'\n",
    "obgnames.unique()"
   ]
  },
  {
   "cell_type": "code",
   "execution_count": null,
   "metadata": {},
   "outputs": [],
   "source": [
    "obs['discharge'] = obs.obsval"
   ]
  },
  {
   "cell_type": "code",
   "execution_count": null,
   "metadata": {
    "scrolled": true,
    "tags": []
   },
   "outputs": [],
   "source": [
    "obs.iloc[:]"
   ]
  },
  {
   "cell_type": "markdown",
   "metadata": {},
   "source": [
    "## for next analysis, trim off kge and burn in period, and set index to datetime"
   ]
  },
  {
   "cell_type": "code",
   "execution_count": null,
   "metadata": {
    "scrolled": true,
    "tags": []
   },
   "outputs": [],
   "source": [
    "# Finding the NaN streamflows\n",
    "obs = obs.iloc[1:].loc[obs.dtime>='2018-08-01']\n",
    "obs.set_index('dtime', drop=False, inplace=True)\n",
    "obs.loc[obs.discharge.isnull()]"
   ]
  },
  {
   "cell_type": "code",
   "execution_count": null,
   "metadata": {},
   "outputs": [],
   "source": [
    "# fill in the nan discharge values with linear interpolatoin\n",
    "obs['discharge']=obs.discharge.interpolate()\n",
    "\n",
    "# flip back the NaN obs values to -9999\n",
    "obs.loc[obs.obsval.isnull(), 'obsval'] = -9999"
   ]
  },
  {
   "cell_type": "markdown",
   "metadata": {},
   "source": [
    "# quantiles"
   ]
  },
  {
   "cell_type": "code",
   "execution_count": null,
   "metadata": {},
   "outputs": [],
   "source": [
    "# set number of quantiles\n",
    "quantiles=4\n",
    "\n",
    "quantile_vals = [obs.discharge.quantile(((i+1)/quantiles)) for i in range(quantiles)]\n",
    "\n",
    "quantile_vals\n",
    "\n",
    "#identify the locations of the quantiles\n",
    "obs['quantile_grp'] = np.nan\n",
    "for i,q_current in zip(range(1,quantiles+1),quantile_vals):\n",
    "    if i==1:\n",
    "        obs.loc[obs.discharge<=q_current, 'quantile_grp'] = 'q1'\n",
    "    else:\n",
    "        obs.loc[(obs.discharge <= q_current) & (obs.discharge>quantile_vals[i-2]), 'quantile_grp'] = f'q{i}'\n",
    "        \n",
    "\n",
    "assert len(obs.loc[obs.quantile_grp.isnull()]) == 0\n",
    "\n",
    "obs.quantile_grp.unique()\n",
    "\n",
    "for cn,cg in obs.groupby('quantile_grp'):\n",
    "    print(cn, len(cg))"
   ]
  },
  {
   "cell_type": "markdown",
   "metadata": {},
   "source": [
    "# event based weighting"
   ]
  },
  {
   "cell_type": "code",
   "execution_count": null,
   "metadata": {},
   "outputs": [],
   "source": [
    "Qhe = series_metrics.hydro_events(obs,  wlen=50, prominence=25, height=2)"
   ]
  },
  {
   "cell_type": "code",
   "execution_count": null,
   "metadata": {},
   "outputs": [],
   "source": [
    " ax = obs.discharge.plot(figsize=(14,4))\n",
    " [ax.axvline(i, c='orange', alpha=.4) for i in Qhe[0]];\n",
    " [ax.axvline(i, c='green', alpha=.4) for i in Qhe[1]['event_ends']];\n"
   ]
  },
  {
   "cell_type": "code",
   "execution_count": null,
   "metadata": {},
   "outputs": [],
   "source": [
    "Qhe[1]"
   ]
  },
  {
   "cell_type": "code",
   "execution_count": null,
   "metadata": {
    "scrolled": true,
    "tags": []
   },
   "outputs": [],
   "source": [
    " obs.obgnme = obs.quantile_grp\n",
    " for st, en in zip(Qhe[0], Qhe[1]['event_ends']):\n",
    "     obs.loc[(obs.index>=st) & (obs.index<=en), 'obgnme'] = 'recession'\n",
    "     obs.loc[(obs.index==st), 'obgnme'] = 'event_peak'"
   ]
  },
  {
   "cell_type": "code",
   "execution_count": null,
   "metadata": {
    "scrolled": true,
    "tags": []
   },
   "outputs": [],
   "source": [
    "obs.loc[obs.obgnme=='recession']"
   ]
  },
  {
   "cell_type": "code",
   "execution_count": null,
   "metadata": {},
   "outputs": [],
   "source": [
    "obs.loc[obs.obgnme=='event_peak']"
   ]
  },
  {
   "cell_type": "markdown",
   "metadata": {},
   "source": [
    "## Let's check out how the groups look in the hydrographs"
   ]
  },
  {
   "cell_type": "code",
   "execution_count": null,
   "metadata": {},
   "outputs": [],
   "source": [
    "cm = mpl.cm.get_cmap('jet_r')\n",
    "grps = obs.obgnme.unique()\n",
    "colors = [cm(i/len(grps)) for i in range(len(grps))]\n",
    "i=0\n",
    "with PdfPages(plotdir / 'obs_monthly_new_groups.pdf') as outpdf:\n",
    "    for cn, cg in obs.groupby(pd.Grouper(freq=\"M\")):\n",
    "        print(f'plotting {cn.month:02d}/{cn.year}\\r', end='')\n",
    "        ax = cg.discharge.plot(figsize=(10,6), lw=.3, color='k', alpha = .4)\n",
    "        st = [i for i in Qhe[0] if i in cg.index]\n",
    "        en = [i for i in Qhe[1]['event_ends'] if i in cg.index]\n",
    "        [ax.axvline(i, c='orange', alpha=.4) for i in st];\n",
    "        [ax.axvline(i, c='green', alpha=.4) for i in en];\n",
    "        for cgrp, c in zip(grps, colors):\n",
    "            if cgrp in cg.obgnme.unique():\n",
    "                pg = cg.loc[cg.obgnme==cgrp]\n",
    "                pg = pg.set_index('dtime').asfreq('H')\n",
    "                pg.discharge.plot(ax=ax, lw=2, color=c, label=cgrp)\n",
    "        plt.legend()\n",
    "        plt.title(f'{cn.month}/{cn.year}')\n",
    "        plt.tight_layout()\n",
    "        outpdf.savefig()\n",
    "        plt.close('all')"
   ]
  },
  {
   "cell_type": "markdown",
   "metadata": {},
   "source": [
    "## now bring the new observation group names back to `pst.observation_data`"
   ]
  },
  {
   "cell_type": "code",
   "execution_count": null,
   "metadata": {
    "scrolled": true,
    "tags": []
   },
   "outputs": [],
   "source": [
    "pst.observation_data.loc[obs.obsnme, 'obgnme'] = obs.obgnme.values\n",
    "\n",
    "pst.observation_data.loc[pst.observation_data.index.isin(obs.obsnme), 'obgnme'] = obs.obgnme.values\n",
    "\n",
    "pst.observation_data.loc[pst.observation_data['obsval'] == -9999, 'obgnme'] = 'burn_in'\n",
    "pst.observation_data.loc[pst.observation_data['obsval'] == -9999, 'weight'] = 0\n",
    "pst.observation_data.loc[pst.observation_data['obgnme'] == 'burn_in', 'weight'] = 0\n",
    "pst.observation_data"
   ]
  },
  {
   "cell_type": "code",
   "execution_count": null,
   "metadata": {},
   "outputs": [],
   "source": [
    "pst.plot(kind='phi_pie')"
   ]
  },
  {
   "cell_type": "code",
   "execution_count": null,
   "metadata": {},
   "outputs": [],
   "source": [
    "pst.phi_components_normalized"
   ]
  },
  {
   "cell_type": "code",
   "execution_count": null,
   "metadata": {},
   "outputs": [],
   "source": [
    "pst.observation_data.loc[pst.observation_data.obgnme=='streamflow', \n",
    "                         'obgnme'] = 'kge'"
   ]
  },
  {
   "cell_type": "code",
   "execution_count": null,
   "metadata": {},
   "outputs": [],
   "source": [
    "pst.phi_components"
   ]
  },
  {
   "cell_type": "code",
   "execution_count": null,
   "metadata": {},
   "outputs": [],
   "source": [
    "new_portions = {k: i*pst.nnz_obs for k,i in \n",
    "                pst.phi_components_normalized.items()}\n",
    "new_portions"
   ]
  },
  {
   "cell_type": "markdown",
   "metadata": {
    "tags": []
   },
   "source": [
    "# Prepare the PEST++ control file for an experiment with focus on low_flow \n",
    "- Name of the control file will be wrfpst.pst"
   ]
  },
  {
   "cell_type": "code",
   "execution_count": null,
   "metadata": {},
   "outputs": [],
   "source": [
    "pst = pyemu.Pst(str(wkdir / 'wrfpst.pst'), \n",
    "                resfile=str(wkdir / 'wrfpst.base.rei'))\n",
    "# shenanigas to set up the burn-In and validation periods\n",
    "pst.observation_data.loc[obgnames.index, 'obgnme'] = obgnames\n",
    "pst.observation_data.loc[obs.obsnme, 'obgnme'] = obs.obgnme.values\n",
    "pst.observation_data.loc['kge', 'obgnme'] = 'kge'"
   ]
  },
  {
   "cell_type": "code",
   "execution_count": null,
   "metadata": {},
   "outputs": [],
   "source": [
    "pst.observation_data.loc[pst.observation_data['obsval'] == -9999, 'obgnme'] = 'burn_in'\n",
    "pst.observation_data.loc[pst.observation_data['obsval'] == -9999, 'weight'] = 0\n",
    "pst.observation_data.loc[pst.observation_data['obgnme'] == 'burn_in', 'weight'] = 0\n",
    "pst.observation_data.loc[pst.observation_data['obgnme'] == 'validation', 'weight'] = 0"
   ]
  },
  {
   "cell_type": "code",
   "execution_count": null,
   "metadata": {
    "scrolled": true,
    "tags": []
   },
   "outputs": [],
   "source": [
    "pst.observation_data[:]"
   ]
  },
  {
   "cell_type": "code",
   "execution_count": null,
   "metadata": {},
   "outputs": [],
   "source": [
    "wkdir"
   ]
  },
  {
   "cell_type": "code",
   "execution_count": null,
   "metadata": {},
   "outputs": [],
   "source": [
    "obs = pst.observation_data.copy()\n",
    "obs.loc[obs.obsval==-9999, 'obsval'] = np.nan\n",
    "\n",
    "obs['dtime'] = [np.nan] + [parsename(i) for i in obs.iloc[1:].index]\n",
    "\n",
    "# trim off the burn-in period\n",
    "obs.loc[obs.dtime<'2018-08-05', 'obgnme'] = 'burn_in'\n",
    "# label the validation period\n",
    "obs.loc[(obs.dtime>='2018-08-05') & (obs.dtime<'2018-08-15'), 'obgnme'] = 'validation'"
   ]
  },
  {
   "cell_type": "code",
   "execution_count": null,
   "metadata": {},
   "outputs": [],
   "source": [
    "obs[obs.obgnme == \"validation\"] "
   ]
  },
  {
   "cell_type": "markdown",
   "metadata": {},
   "source": [
    "### first set weights to 10% CV"
   ]
  },
  {
   "cell_type": "code",
   "execution_count": null,
   "metadata": {},
   "outputs": [],
   "source": [
    "pst.plot(kind='phi_pie')"
   ]
  },
  {
   "cell_type": "code",
   "execution_count": null,
   "metadata": {},
   "outputs": [],
   "source": [
    "pst.observation_data.loc[pst.observation_data.obgnme != 'kge' , 'weight'] = \\\n",
    "    10 / pst.observation_data.loc[pst.observation_data.obgnme != 'kge' , 'obsval']\n",
    "\n",
    "pst.observation_data.loc[pst.observation_data['obsval'] == -9999, 'obgnme'] = 'burn_in'\n",
    "pst.observation_data.loc[pst.observation_data['obsval'] == -9999, 'weight'] = 0\n",
    "\n",
    "pst.observation_data.loc[pst.observation_data.obgnme == 'burn_in' , 'weight'] = 0 \n",
    "pst.observation_data.loc[pst.observation_data.obgnme == 'validation' , 'weight'] = 0 \n",
    "\n",
    "pst.res['weight'] = pst.observation_data.weight.values # have to trick the residuals to know about new obsgp"
   ]
  },
  {
   "cell_type": "code",
   "execution_count": null,
   "metadata": {},
   "outputs": [],
   "source": [
    "pst.observation_data.head()"
   ]
  },
  {
   "cell_type": "code",
   "execution_count": null,
   "metadata": {},
   "outputs": [],
   "source": [
    "pst.plot(kind='phi_pie')"
   ]
  },
  {
   "cell_type": "code",
   "execution_count": null,
   "metadata": {},
   "outputs": [],
   "source": [
    "# make sure there were no 0 flow values which would result in infinite weights\n",
    "assert np.unique(np.isinf(pst.observation_data.weight.values)) == np.array([False])"
   ]
  },
  {
   "cell_type": "code",
   "execution_count": null,
   "metadata": {},
   "outputs": [],
   "source": [
    "new_portions = {'burn_in': 0.0,\n",
    "'event_peak': 0.1,\n",
    " 'validation':0,\n",
    " 'kge': 0.,\n",
    " 'q1': 0.4,\n",
    " 'q2': 0.1,\n",
    " 'q3': 0.1,\n",
    " 'q4': 0.1,\n",
    " 'recession': 0.2}"
   ]
  },
  {
   "cell_type": "code",
   "execution_count": null,
   "metadata": {},
   "outputs": [],
   "source": [
    "new_portions = {k:v*pst.nnz_obs for k,v in \n",
    "                new_portions.items()}"
   ]
  },
  {
   "cell_type": "code",
   "execution_count": null,
   "metadata": {},
   "outputs": [],
   "source": [
    "pst.res['group'] = pst.observation_data.obgnme.values # have to trick the residuals to know about new obsgp\n",
    "pst.res['weight'] = pst.observation_data.weight.values # have to trick the residuals to know about new obsgp\n",
    "pst.adjust_weights(obsgrp_dict=new_portions)"
   ]
  },
  {
   "cell_type": "code",
   "execution_count": null,
   "metadata": {},
   "outputs": [],
   "source": [
    "pst.plot(kind='phi_pie')"
   ]
  },
  {
   "cell_type": "markdown",
   "metadata": {},
   "source": [
    "# Rejection Sampling Based on Prior MC runs\n",
    "### next we need to recalculated phi with new weights to perform rejection sampling\n"
   ]
  },
  {
   "cell_type": "code",
   "execution_count": null,
   "metadata": {},
   "outputs": [],
   "source": [
    "obens = pyemu.ObservationEnsemble.from_csv(pst, str(priordir / 'wrfpst.0.obs.csv'),\n",
    "                                           index_col=0, dtype={'real_name':str})"
   ]
  },
  {
   "cell_type": "code",
   "execution_count": null,
   "metadata": {},
   "outputs": [],
   "source": [
    "obens.head()"
   ]
  },
  {
   "cell_type": "code",
   "execution_count": null,
   "metadata": {},
   "outputs": [],
   "source": [
    "phi = obens.phi_vector\n",
    "print(len(phi))"
   ]
  },
  {
   "cell_type": "code",
   "execution_count": null,
   "metadata": {},
   "outputs": [],
   "source": [
    "#No noise\n",
    "phi.hist(bins=10)"
   ]
  },
  {
   "cell_type": "code",
   "execution_count": null,
   "metadata": {},
   "outputs": [],
   "source": [
    "phicutoff = 7500"
   ]
  },
  {
   "cell_type": "code",
   "execution_count": null,
   "metadata": {},
   "outputs": [],
   "source": [
    "print(len(phi))\n",
    "phi = phi.loc[phi<phicutoff]\n",
    "print(len(phi))\n"
   ]
  },
  {
   "cell_type": "code",
   "execution_count": null,
   "metadata": {},
   "outputs": [],
   "source": [
    "reals_to_keep = phi.index.values"
   ]
  },
  {
   "cell_type": "code",
   "execution_count": null,
   "metadata": {},
   "outputs": [],
   "source": [
    "prior_pars = pd.read_csv(priordir / 'wrfpst.0.par.csv', index_col=0, dtype={'real_name':str})\n",
    "pp = prior_pars.loc[reals_to_keep]\n",
    "pp.index = [str(i) for i in range(len(pp)-1)] + ['base']\n",
    "pp.to_csv(\n",
    "            priordir/'wrfpst.starting_pars.csv')\n",
    "oe = obens._df.loc[reals_to_keep].copy()\n",
    "oe.index = pp.index\n",
    "oe.to_csv(\n",
    "            priordir/'wrfpst.starting_obs.csv')"
   ]
  },
  {
   "cell_type": "code",
   "execution_count": null,
   "metadata": {},
   "outputs": [],
   "source": [
    "#pst.observation_data.to_csv(priordir/'wrfpst.obs_data.csv')"
   ]
  },
  {
   "cell_type": "markdown",
   "metadata": {},
   "source": [
    "# Create iES run directory"
   ]
  },
  {
   "cell_type": "markdown",
   "metadata": {},
   "source": [
    "### Delete iES folder if it is already exist."
   ]
  },
  {
   "cell_type": "code",
   "execution_count": null,
   "metadata": {},
   "outputs": [],
   "source": [
    "if os.path.exists(Path('/home/docker/wrf-hydro-training/output/lesson6/iES_Run')):\n",
    "    shutil.rmtree('/home/docker/wrf-hydro-training/output/lesson6/iES_Run')"
   ]
  },
  {
   "cell_type": "code",
   "execution_count": null,
   "metadata": {},
   "outputs": [],
   "source": [
    "%%bash\n",
    "cp -r ~/wrf-hydro-training/output/lesson4/Single_Model_Run/ ~/wrf-hydro-training/output/lesson6/iES_Run\n",
    "ls ~/wrf-hydro-training/output/lesson6/iES_Run"
   ]
  },
  {
   "cell_type": "code",
   "execution_count": null,
   "metadata": {},
   "outputs": [],
   "source": [
    "wkdir = Path('/home/docker/wrf-hydro-training/output/lesson4/host')\n",
    "priordir = Path('/home/docker/wrf-hydro-training/output/lesson5/host') # original host directory\n",
    "iesdir = Path('/home/docker/wrf-hydro-training/output/lesson6/iES_Run') # original host directory"
   ]
  },
  {
   "cell_type": "code",
   "execution_count": null,
   "metadata": {},
   "outputs": [],
   "source": [
    "#!cp ~/wrf-hydro-training/example_case/OBS/Observation_File_20180801_20180901.csv ~/wrf-hydro-training/output/lesson4/host/\n",
    "pst = pyemu.Pst(str(wkdir / 'wrfpst.pst'), resfile=str(wkdir / 'wrfpst.0.base.rei'))"
   ]
  },
  {
   "cell_type": "code",
   "execution_count": null,
   "metadata": {},
   "outputs": [],
   "source": [
    "obens = pyemu.ObservationEnsemble.from_csv(pst, str(priordir / 'wrfpst.0.obs.csv'),\n",
    "                                           index_col=0, dtype={'real_name':str})"
   ]
  },
  {
   "cell_type": "code",
   "execution_count": null,
   "metadata": {},
   "outputs": [],
   "source": [
    "prior_pars = pd.read_csv(priordir / 'wrfpst.0.par.csv', index_col=0, dtype={'real_name':str})\n",
    "pp = prior_pars.loc[reals_to_keep]\n",
    "pp.index = [str(i) for i in range(len(pp)-1)] + ['base']\n",
    "pp.to_csv('/home/docker/wrf-hydro-training/output/lesson6/iES_Run/wrfpst.starting_pars.csv')\n",
    "oo = obens._df.loc[reals_to_keep].copy()\n",
    "oo.index = pp.index\n",
    "oo.to_csv('/home/docker/wrf-hydro-training/output/lesson6/iES_Run/wrfpst.starting_obs.csv')"
   ]
  },
  {
   "cell_type": "code",
   "execution_count": null,
   "metadata": {},
   "outputs": [],
   "source": [
    "#!cp ~/wrf-hydro-training/example_case/OBS/obs_noise_01473000_300ens_201808.csv ~/wrf-hydro-training/output/lesson5/host/wrfpst.obs+noise.csv "
   ]
  },
  {
   "cell_type": "code",
   "execution_count": null,
   "metadata": {},
   "outputs": [],
   "source": [
    "obs_noise_ens = pd.read_csv('/home/docker/wrf-hydro-training/example_case/OBS/obs_noise_01473000_300ens_201808.csv', index_col = 'real_name', dtype={'real_name':str})\n",
    "one = obs_noise_ens.loc[reals_to_keep].copy()\n",
    "one.index=pp.index\n",
    "one.to_csv('/home/docker/wrf-hydro-training/output/lesson6/iES_Run/wrfpst.starting_obs+noise.csv')\n"
   ]
  },
  {
   "cell_type": "code",
   "execution_count": null,
   "metadata": {},
   "outputs": [],
   "source": [
    "obs_noise_ens.head()"
   ]
  },
  {
   "cell_type": "markdown",
   "metadata": {},
   "source": [
    "**Load the existing pest control file and set some problem specific PESTPP-IES settings**"
   ]
  },
  {
   "cell_type": "code",
   "execution_count": null,
   "metadata": {},
   "outputs": [],
   "source": [
    "len(reals_to_keep)"
   ]
  },
  {
   "cell_type": "code",
   "execution_count": null,
   "metadata": {},
   "outputs": [],
   "source": [
    "pst.control_data.noptmax=3\n",
    "pst.pestpp_options[\"ies_num_reals\"] = len(reals_to_keep)\n",
    "pst.pestpp_options[\"overdue_giveup_minutes\"] = 200\n",
    "pst.pestpp_options[\"ies_no_noise\"] = 'false'\n",
    "pst.pestpp_options[\"ies_observation_ensemble\"] = 'wrfpst.starting_obs+noise.csv'\n",
    "pst.pestpp_options[\"ies_restart_observation_ensemble\"] = 'wrfpst.starting_obs.csv'\n",
    "pst.pestpp_options[\"ies_parameter_ensemble\"] = 'wrfpst.starting_pars.csv'\n",
    "\n",
    "pst.write(iesdir/'wrfpst.pst', version=2)"
   ]
  },
  {
   "cell_type": "markdown",
   "metadata": {},
   "source": [
    "**Step 6. Running PEST++ with WRF-Hydro**\n",
    "\n"
   ]
  },
  {
   "cell_type": "code",
   "execution_count": null,
   "metadata": {},
   "outputs": [],
   "source": [
    "# rel_path (str, optional) – the relative path to where pest(++) should be run from within the worker_dir, defaults to the uppermost level of the worker dir. \n",
    "\n",
    "pyemu.utils.os_utils.start_workers(worker_dir = \"/home/docker/wrf-hydro-training/output/lesson6/iES_Run\", \n",
    "                                   exe_rel_path = \"pestpp-ies\", \n",
    "                                   pst_rel_path = \"wrfpst.pst\", \n",
    "                                   num_workers=2, \n",
    "                                   worker_root='/home/docker/wrf-hydro-training/output/lesson6/',\n",
    "                                   master_dir = \"/home/docker/wrf-hydro-training/output/lesson6/host\",\n",
    "                                   port=4004, \n",
    "                                   verbose = True, \n",
    "                                   cleanup = False)\n"
   ]
  },
  {
   "cell_type": "markdown",
   "metadata": {},
   "source": [
    "**Step 7. Let check the run directory**\n",
    "\n",
    "Check the PEST++ workers directory\n"
   ]
  },
  {
   "cell_type": "code",
   "execution_count": null,
   "metadata": {},
   "outputs": [],
   "source": [
    "%%bash \n",
    "ls  ~/wrf-hydro-training/output/lesson6/worker_0/WRFHydro_Model/"
   ]
  }
 ],
 "metadata": {
  "kernelspec": {
   "display_name": "Python 3",
   "language": "python",
   "name": "python3"
  },
  "language_info": {
   "codemirror_mode": {
    "name": "ipython",
    "version": 3
   },
   "file_extension": ".py",
   "mimetype": "text/x-python",
   "name": "python",
   "nbconvert_exporter": "python",
   "pygments_lexer": "ipython3",
   "version": "3.8.3"
  }
 },
 "nbformat": 4,
 "nbformat_minor": 5
}
