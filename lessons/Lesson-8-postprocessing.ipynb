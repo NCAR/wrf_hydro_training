{
 "cells": [
  {
   "cell_type": "markdown",
   "metadata": {},
   "source": [
    "<img src='https://repository-images.githubusercontent.com/121802384/c355bb80-7d42-11e9-9e0e-4729609f9fbc' alt='WRF-Hydro Logo' width=\"15%\"/>\n",
    "\n",
    "# Lesson 7 - Evaluating Model Performance "
   ]
  },
  {
   "cell_type": "markdown",
   "metadata": {},
   "source": [
    "## Overview\n",
    "In this lesson, We will discuss WRF-Hydro model performance evaluation using model outcomes. After model calibration and validation, we have a best parameter set for WRF-Hydro model. Applying the best parameter set to an objectve basin, we will be able to generate various hydrological variables such as streamflow, snow, soil moisture and more. Many error functions are used for model perfomnace evaulation. In particular, we will be focused on the streamflow analysis.\n",
    "As mentioned in Lesson 3, the WRF-Hydro output files employ standard netCDF4 files, and we use a few Python libraries and commands in this tutorial. "
   ]
  },
  {
   "cell_type": "markdown",
   "metadata": {},
   "source": [
    "## Introduction to our Python environment and libraries\n",
    "As mentioned Lesson 3, we are using Python 3 for all exercises in this tutorial. Please refer to the Lesson 3 for details of python environemnt and libraries."
   ]
  },
  {
   "cell_type": "markdown",
   "metadata": {},
   "source": [
    "## Dataset for NetCDF4\n",
    "In the lesson, the Python command of Dataset is used for WRF-Hydro outputs that are netCDF4 files.\n",
    "\n",
    "`Dataset('path-to-netcdf-file','r')`: Read a single netCDF file. \n",
    "\n",
    "After we read the datasets, we can extract some variables which are included in the netCDF output files. This example indicates the variable of steamflow: \n",
    "\n",
    "`my_dataset = Dataset('path-to-netcdf-file','r')`\n",
    "\n",
    "`streamflow_data = my_dataset.variables['streamflow']`\n"
   ]
  },
  {
   "cell_type": "markdown",
   "metadata": {},
   "source": [
    "## Error Criteria\n",
    "Some error functions are used to evaluate WRF-Hydro model performances. \n",
    "\n",
    "| Error Functions | Formula | Best Match Value |\n",
    "| ------------- | ------------- | ------------- |\n",
    "| Root Mean Square Error | $$ \\text{RMSE} = \\sqrt{\\frac{1}{n}\\sum_{i=1}^{n}(OBS_i - SIM_i)^2} $$ | <center> 0 </center> |\n",
    "| Percent Bias | $$ \\text{PBIAS} = \\frac{\\sum_{i=1}^{n} (OBS_i - \\ SIM_i)}{\\sum_{i=1}^{n} OBS_i} \\times 100 $$ | <center> 0 </center> |\n",
    "| Nash–Sutcliffe efficiency | $$ \\text{NSE} = 1 - \\frac{\\sum_{i=1}^{n} (OBS_i - \\ SIM_i)^2}{\\sum_{i=1}^{n} (OBS_i - \\bar{OBS})^2} $$ | <center> 1 </center> |\n",
    "| Kling-Gupta Efficiency | $$ \\text{KGE} = 1 - \\sqrt{(r - 1)^2 + (\\beta - 1)^2 + (\\gamma - 1)^2} $$ | <center> 1 </center> |"
   ]
  },
  {
   "cell_type": "markdown",
   "metadata": {},
   "source": [
    "## Examples\n",
    "### Plot and Calculate Errors in Daily Streamflow"
   ]
  },
  {
   "cell_type": "markdown",
   "metadata": {},
   "source": [
    "In this example, we will plot the simulated and observed values using real 2-year WRF-Hydro model outputs, and calculate the errors between them."
   ]
  },
  {
   "cell_type": "markdown",
   "metadata": {
    "deletable": false
   },
   "source": [
    "**Load WRF-Hydro Output**"
   ]
  },
  {
   "cell_type": "code",
   "execution_count": null,
   "metadata": {},
   "outputs": [],
   "source": [
    "path = \"/home/docker/wrf-hydro-training/example_case/supplemental/wrf-hydro-output/\"\n",
    "usgsid = 13010065 # SNAKE RIVER AB JACKSON LAKE AT FLAGG RANCH WY\n",
    "comid = 23123539"
   ]
  },
  {
   "cell_type": "markdown",
   "metadata": {},
   "source": [
    "**Load the libraries**"
   ]
  },
  {
   "cell_type": "code",
   "execution_count": null,
   "metadata": {},
   "outputs": [],
   "source": [
    "import datetime\n",
    "import numpy as np\n",
    "import pandas as pd\n",
    "import hydroeval as hydro\n",
    "import matplotlib.pyplot as plt\n",
    "import math\n",
    "from netCDF4 import Dataset\n",
    "from datetime import date, timedelta"
   ]
  },
  {
   "cell_type": "markdown",
   "metadata": {
    "deletable": false
   },
   "source": [
    "**Read netCDF files and Extract Daily Streamflow Simulations**"
   ]
  },
  {
   "cell_type": "code",
   "execution_count": null,
   "metadata": {},
   "outputs": [],
   "source": [
    "# Simulated from 2019-01-01 to 2020-12-31\n",
    "begDate = datetime.datetime(2019,1,1)\n",
    "endDate = datetime.datetime(2021,1,1)\n",
    "dt = endDate - begDate\n",
    "nHours = dt.days*24\n",
    "time1 = np.empty([nHours],np.int32)\n",
    "data1 = np.empty([nHours],np.float32)\n",
    "# Read Simulated Streamflow \n",
    "for hour in range(0,nHours):\n",
    "    dcurrent = begDate + datetime.timedelta(seconds=3600*hour)\n",
    "    fileIn = path + dcurrent.strftime('%Y%m%d%H') + '00.CHANOBS_DOMAIN1'\n",
    "    todays = dcurrent.strftime('%Y%m%d%H')\n",
    "    idTmp = Dataset(fileIn,'r')\n",
    "    index = np.where(idTmp.variables['feature_id'][:] == comid)[0]\n",
    "    time1[hour] = int(todays)\n",
    "    data1[hour] = idTmp.variables['streamflow'][0][index]\n",
    "timeday = np.arange(np.datetime64(\"2019-01-01\"), np.datetime64(\"2021-01-01\"))\n",
    "timehour = np.arange(np.datetime64(\"2019-01-01\"), np.datetime64(\"2021-01-01\"), timedelta(hours=1))\n",
    "base_hour = pd.DataFrame(data1[:])\n",
    "# cms to cfs\n",
    "base_hour = base_hour * 35.314666\n",
    "base_hour['time'] = timehour\n",
    "base_hour.columns = ['Base_Hours','Time']\n",
    "base_day = base_hour.set_index('Time').resample('24H').mean()"
   ]
  },
  {
   "cell_type": "markdown",
   "metadata": {
    "deletable": false
   },
   "source": [
    "**Read .csv file and Extract Daily Streamflow Observations**"
   ]
  },
  {
   "cell_type": "code",
   "execution_count": null,
   "metadata": {
    "deletable": false
   },
   "outputs": [],
   "source": [
    "# Read Observed Streamflow\n",
    "pathobs = path + str(usgsid) + '.csv'\n",
    "obsdf = pd.read_csv(pathobs)\n",
    "# cms to cfs\n",
    "obsdf.obs = obsdf.obs * 35.314666\n",
    "print (obsdf)"
   ]
  },
  {
   "cell_type": "markdown",
   "metadata": {
    "deletable": false
   },
   "source": [
    "**Calculate Daily Streamflow Errors**"
   ]
  },
  {
   "cell_type": "code",
   "execution_count": null,
   "metadata": {
    "deletable": false
   },
   "outputs": [],
   "source": [
    "SIM=pd.DataFrame(base_day); SIM=SIM.reset_index(drop=True); SIM.columns=['flow']\n",
    "OBS=pd.DataFrame(obsdf.obs); OBS=OBS.reset_index(drop=True); OBS.columns=['flow']\n",
    "# Root mean square error\n",
    "rmse = np.sqrt(np.mean((OBS-SIM)**2))\n",
    "# Percent Bias\n",
    "aver_bias=np.mean(SIM-OBS)\n",
    "pv = np.std(OBS)\n",
    "pbias = 100 * (abs(aver_bias) / pv)\n",
    "# Nash-Sutcliffe efficiency\n",
    "nse = hydro.evaluator(hydro.nse, SIM,OBS)\n",
    "# Kling-Gupta effciency\n",
    "kge,r,alpha,beta=hydro.evaluator(hydro.kge,SIM,OBS)"
   ]
  },
  {
   "cell_type": "markdown",
   "metadata": {
    "deletable": false
   },
   "source": [
    "**Plotting Daily Streamflow**"
   ]
  },
  {
   "cell_type": "code",
   "execution_count": null,
   "metadata": {
    "deletable": false
   },
   "outputs": [],
   "source": [
    "# Plot\n",
    "fig = plt.figure()\n",
    "plt.plot(timeday,base_day,\"-b\",label=\"WRFHydro-Simulation\")\n",
    "plt.scatter(timeday,obsdf.obs,marker='.',color='r',zorder=10,label=\"Observed\")\n",
    "plt.xlabel('Time (YEAR)')\n",
    "plt.ylabel('Daily Streammflow (CFS)')\n",
    "plt.legend(loc='upper left')\n",
    "titlename = 'USGS : ' + str(usgsid)\n",
    "plt.title(titlename)\n",
    "plt.xticks(rotation=45);\n",
    "fig.text(0.7,0.8,'OBS vs. Baseline')\n",
    "RMSE=\"RMSE   = {:.2f}\".format(rmse.item())\n",
    "PBIAS=\"Pbias = {:.2f}\".format(pbias.item())\n",
    "NSE=\"NSE = {:.2f}\".format(nse.item())\n",
    "KGE=\"KGE = {:.2f}\".format(kge.item())\n",
    "fig.text(0.7,0.75,str(RMSE))\n",
    "fig.text(0.7,0.70,str(PBIAS))\n",
    "fig.text(0.7,0.65,str(NSE))\n",
    "fig.text(0.7,0.60,str(KGE));"
   ]
  },
  {
   "cell_type": "markdown",
   "metadata": {
    "deletable": false
   },
   "source": [
    "\n"
   ]
  },
  {
   "cell_type": "markdown",
   "metadata": {
    "deletable": false
   },
   "source": [
    "### Plot and Calculate Errors in Monthly Flow Volume\n",
    "**Monthly Streamflow Volume**"
   ]
  },
  {
   "cell_type": "code",
   "execution_count": null,
   "metadata": {},
   "outputs": [],
   "source": [
    "# Definition \n",
    "def nofdays (x):\n",
    "    return math.ceil(x / 24)\n",
    "def cf2kaf_convert (x):\n",
    "    return x*24*3600 / 43560 / 1000\n",
    "# Monthly averages\n",
    "base_mon = base_hour.set_index('Time').groupby(pd.Grouper(freq='M'))['Base_Hours'].mean()\n",
    "# Number of days in each month\n",
    "hours_in_mon = base_hour.set_index('Time').groupby(pd.Grouper(freq='M'))['Base_Hours'].count()\n",
    "days_in_mon = hours_in_mon.apply(nofdays)\n",
    "# cubic-feet to acre-feet\n",
    "cf2kaf = days_in_mon.apply(cf2kaf_convert)\n",
    "# Monthly flow volume\n",
    "base_tot = base_mon * cf2kaf\n",
    "print (base_tot)"
   ]
  },
  {
   "cell_type": "markdown",
   "metadata": {
    "deletable": false
   },
   "source": [
    "**Read .csv file and Extract Monthly Observed Flow Volume**"
   ]
  },
  {
   "cell_type": "code",
   "execution_count": null,
   "metadata": {},
   "outputs": [],
   "source": [
    "# Read Observed Streaflow\n",
    "pathobs = path + str(usgsid) + '.csv'\n",
    "obsdf = pd.read_csv(pathobs)\n",
    "obs_day = pd.DataFrame(obsdf.obs)\n",
    "# cms to cfs\n",
    "obs_day = obs_day * 35.314666\n",
    "obs_day['newTime'] = timeday\n",
    "obs_mon = obs_day.set_index('newTime').groupby(pd.Grouper(freq='M'))['obs'].mean()\n",
    "obs_days_in_mon = obs_day.set_index('newTime').groupby(pd.Grouper(freq='M'))['obs'].count()\n",
    "obs_cf2kaf = obs_days_in_mon.apply(cf2kaf_convert)\n",
    "obs_tot = obs_mon * obs_cf2kaf\n",
    "print (obs_tot)"
   ]
  },
  {
   "cell_type": "markdown",
   "metadata": {},
   "source": [
    "**Calculate Monthly Flow Volume Errors**"
   ]
  },
  {
   "cell_type": "code",
   "execution_count": null,
   "metadata": {},
   "outputs": [],
   "source": [
    "# Root mean square error\n",
    "rmse = np.sqrt(np.mean((obs_tot-base_tot)**2))\n",
    "# Percent Bias\n",
    "aver_bias=np.mean(base_tot-obs_tot)\n",
    "pv = np.std(obs_tot)\n",
    "pbias = 100 * (abs(aver_bias) / pv)\n",
    "# Nash-Sutcliffe efficiency\n",
    "nse = hydro.evaluator(hydro.nse,base_tot,obs_tot)\n",
    "# Kling-Gupta effciency\n",
    "kge,r,alpha,beta=hydro.evaluator(hydro.kge,base_tot,obs_tot)"
   ]
  },
  {
   "cell_type": "markdown",
   "metadata": {},
   "source": [
    "**Plotting Monthly Flow Volume**"
   ]
  },
  {
   "cell_type": "code",
   "execution_count": null,
   "metadata": {},
   "outputs": [],
   "source": [
    "# Plot\n",
    "fig = plt.figure()\n",
    "xxx = np.arange(np.datetime64(\"2019-01\"), np.datetime64(\"2021-01\"))\n",
    "plt.plot(xxx,base_tot,\"-b\",label=\"WRFHydro-Simulation\")\n",
    "plt.scatter(xxx,obs_tot,marker='.',color='r',zorder=10,label=\"Observed\")\n",
    "plt.xlabel('Time (YEAR)')\n",
    "plt.ylabel('Monthly Flow Volume (kac-ft)')\n",
    "plt.legend(loc='upper left')\n",
    "titlename = 'USGS : ' + str(usgsid)\n",
    "plt.title(titlename)\n",
    "plt.xticks(rotation=45);\n",
    "fig.text(0.7,0.8,'OBS vs. Baseline')\n",
    "RMSE=\"RMSE   = {:.2f}\".format(rmse.item())\n",
    "PBIAS=\"Pbias = {:.2f}\".format(pbias.item())\n",
    "NSE=\"NSE = {:.2f}\".format(nse.item())\n",
    "KGE=\"KGE = {:.2f}\".format(kge.item())\n",
    "fig.text(0.7,0.75,str(RMSE))\n",
    "fig.text(0.7,0.70,str(PBIAS))\n",
    "fig.text(0.7,0.65,str(NSE))\n",
    "fig.text(0.7,0.60,str(KGE));"
   ]
  },
  {
   "cell_type": "markdown",
   "metadata": {},
   "source": [
    "### Plot Annual Accumulated Flow"
   ]
  },
  {
   "cell_type": "markdown",
   "metadata": {},
   "source": [
    "**Re-Arrange Simulation and Observations**"
   ]
  },
  {
   "cell_type": "code",
   "execution_count": null,
   "metadata": {},
   "outputs": [],
   "source": [
    "# Save Stremflow to each date\n",
    "newsyear=2019\n",
    "neweyear=2020\n",
    "nday = 365\n",
    "obsval = []\n",
    "baseval = []\n",
    "for j in range(newsyear,neweyear):\n",
    "    syearday = str(j) + '-01-01'\n",
    "    eyearday = str(j) + '-12-31'\n",
    "    obs1yr = obs_day[(obs_day.newTime >= syearday) & (obs_day.newTime <= eyearday)]\n",
    "    base_day['Time'] = timeday\n",
    "    sim1yr = base_day[(base_day.Time >= syearday) & (base_day.Time <= eyearday)]\n",
    "    obs1yr_val=obs1yr['obs'].values; obs1yr_val=np.reshape(obs1yr_val,(nday,1))\n",
    "    sim1yr_val=sim1yr['Base_Hours'].values; sim1yr_val=np.reshape(sim1yr_val,(nday,1))\n",
    "    obsval.append(obs1yr_val)\n",
    "    baseval.append(sim1yr_val)\n",
    "obs_merge = np.concatenate(obsval,axis=1)\n",
    "base_merge= np.concatenate(baseval,axis=1)\n",
    "# cfs to kac-ft\n",
    "obs_merge = obs_merge * 0.001983\n",
    "base_merge = base_merge * 0.001983\n",
    "df_obs = pd.DataFrame(obs_merge)\n",
    "df_base = pd.DataFrame(base_merge)\n",
    "# Median\n",
    "base_median = df_base.median(axis=1)\n",
    "basefin = base_median.cumsum()\n",
    "obs_median = df_obs.median(axis=1)\n",
    "obs_median_10q = df_obs.quantile(0.1,axis=1)\n",
    "obs_median_90q = df_obs.quantile(0.9,axis=1)\n",
    "obsfin = obs_median.cumsum()\n",
    "obsfin_10q = obs_median_10q.cumsum()\n",
    "obsfin_90q = obs_median_90q.cumsum()"
   ]
  },
  {
   "cell_type": "markdown",
   "metadata": {},
   "source": [
    "**Plotting Annual Accumulated Flow**"
   ]
  },
  {
   "cell_type": "code",
   "execution_count": null,
   "metadata": {},
   "outputs": [],
   "source": [
    "# Plot\n",
    "fig = plt.figure()\n",
    "ax = plt.axes()\n",
    "xxx = [j for j in range(0,nday)]\n",
    "plt.plot(basefin,\"-b\",label=\"WRFHydro-Simulation\")\n",
    "plt.plot(obsfin,marker='.',color='r',zorder=10,label=\"Observed\")\n",
    "plt.fill_between(xxx,obsfin_10q,obsfin_90q,facecolor=\"grey\",color='grey',alpha=0.5,label='Observations (10th-90th percentile)')\n",
    "plt.xlabel('Time (Day)')\n",
    "plt.ylabel('Accumulated Flow (kac-ft)')\n",
    "plt.legend(loc='upper left')\n",
    "titlename = 'USGS : ' + str(usgsid)\n",
    "plt.title(titlename)\n",
    "ax.set_xticks([0, 31, 59, 90, 120, 150, 181, 212, 243, 273, 303, 334])\n",
    "ax.set_xticklabels(['Jan', 'Feb', 'Mar', 'Apr', 'May', 'Jun', 'Jul', 'Aug', 'Sep', 'Oct', 'Nov', 'Dec'])\n",
    "plt.xticks(rotation=45);"
   ]
  },
  {
   "cell_type": "markdown",
   "metadata": {},
   "source": [
    "### Plot Flow Duration Curve"
   ]
  },
  {
   "cell_type": "markdown",
   "metadata": {},
   "source": [
    "**Sorted Simulation and Observations**"
   ]
  },
  {
   "cell_type": "code",
   "execution_count": null,
   "metadata": {},
   "outputs": [],
   "source": [
    "# Sorting Streamflow\n",
    "base_sort=np.sort(base_day.Base_Hours)[::-1]\n",
    "exceedence = np.arange(1.,len(base_sort)+1) / len(base_sort)\n",
    "obs_sort=np.sort(obs_day.obs)[::-1]"
   ]
  },
  {
   "cell_type": "markdown",
   "metadata": {},
   "source": [
    "**Plotting Flow Duration Curve**"
   ]
  },
  {
   "cell_type": "code",
   "execution_count": null,
   "metadata": {},
   "outputs": [],
   "source": [
    "# Plot\n",
    "fig = plt.figure()\n",
    "plt.plot(exceedence*100,base_sort,\"-b\",label=\"Baseline\")\n",
    "plt.plot(exceedence*100,obs_sort,\"-r\",label=\"Observed\")\n",
    "plt.ylabel(\"Flow Rate  [ CFS ]\")\n",
    "plt.xlabel(\"Exceedence [%] \")\n",
    "titlename = 'USGS : ' + str(usgsid)\n",
    "plt.title(titlename)"
   ]
  },
  {
   "cell_type": "code",
   "execution_count": null,
   "metadata": {},
   "outputs": [],
   "source": []
  }
 ],
 "metadata": {
  "kernelspec": {
   "display_name": "Python 3",
   "language": "python",
   "name": "python3"
  },
  "language_info": {
   "codemirror_mode": {
    "name": "ipython",
    "version": 3
   },
   "file_extension": ".py",
   "mimetype": "text/x-python",
   "name": "python",
   "nbconvert_exporter": "python",
   "pygments_lexer": "ipython3",
   "version": "3.8.3"
  },
  "toc": {
   "base_numbering": 1,
   "nav_menu": {},
   "number_sections": true,
   "sideBar": true,
   "skip_h1_title": true,
   "title_cell": "Table of Contents",
   "title_sidebar": "Contents",
   "toc_cell": true,
   "toc_position": {
    "height": "calc(100% - 180px)",
    "left": "10px",
    "top": "150px",
    "width": "464px"
   },
   "toc_section_display": true,
   "toc_window_display": true
  }
 },
 "nbformat": 4,
 "nbformat_minor": 4
}
