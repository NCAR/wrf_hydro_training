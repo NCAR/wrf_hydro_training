{
 "cells": [
  {
   "cell_type": "markdown",
   "metadata": {},
   "source": [
    "<img src='https://repository-images.githubusercontent.com/121802384/c355bb80-7d42-11e9-9e0e-4729609f9fbc' alt='WRF-Hydro Logo' width=\"15%\"/>\n",
    "\n",
    "# Lesson x - Evaluating Model Performance "
   ]
  },
  {
   "cell_type": "markdown",
   "metadata": {},
   "source": [
    "## Overview\n",
    "In this lesson, We will discuss WRF-Hydro model performance evaluation using model outcomes. After model calibration and validation, we have a best parameter set for WRF-Hydro model. Applying the best parameter set to an objectve basin, we will be able to generate various hydrological variables such as streamflow, snow, soil moisture and more. Many error functions are used for model perfomnace evaulation. In particular, we will be focused on the streamflow analysis.\n",
    "As mentioned in Lesson 3, the WRF-Hydro output files employ standard netCDF4 files, and we use a few Python libraries and commands in this tutorial. "
   ]
  },
  {
   "cell_type": "markdown",
   "metadata": {},
   "source": [
    "## Introduction to our Python environment and libraries\n",
    "As mentioned Lesson 3, we are using Python 3 for all exercises in this tutorial. Please refer to the Lesson 3 for details of python environemnt and libraries."
   ]
  },
  {
   "cell_type": "markdown",
   "metadata": {},
   "source": [
    "## Dataset for NetCDF4\n",
    "In the lesson, the Python command of Dataset is used for WRF-Hydro outputs that are netCDF4 files.\n",
    "\n",
    "`Dataset('path-to-netcdf-file','r')`: Read a single netCDF file. \n",
    "\n",
    "After we read the datasets, we can extract some variables which are included in the netCDF output files. This example indicates the variable of steamflow: \n",
    "\n",
    "`my_dataset = Dataset('path-to-netcdf-file','r')`\n",
    "\n",
    "`streamflow_data = my_dataset.variables['streamflow']`\n"
   ]
  },
  {
   "cell_type": "markdown",
   "metadata": {},
   "source": [
    "## Error Criteria\n",
    "Some error functions are used to evaluate WRF-Hydro model performances. \n",
    "\n",
    "| Error Functions | Formula | Best Match Value |\n",
    "| ------------- | ------------- | ------------- |\n",
    "| Root Mean Square Error | $$ \\text{RMSE} = \\sqrt{\\frac{1}{n}\\sum_{i=1}^{n}(OBS_i - SIM_i)^2} $$ | <center> 0 </center> |\n",
    "| Percent Bias | $$ \\text{PBIAS} = \\frac{\\sum_{i=1}^{n} (OBS_i - \\ SIM_i)}{\\sum_{i=1}^{n} OBS_i} \\times 100 $$ | <center> 0 </center> |\n",
    "| Nash–Sutcliffe efficiency | $$ \\text{NSE} = 1 - \\frac{\\sum_{i=1}^{n} (OBS_i - \\ SIM_i)^2}{\\sum_{i=1}^{n} (OBS_i - \\bar{OBS})^2} $$ | <center> 1 </center> |\n",
    "| Kling-Gupta Efficiency | $$ \\text{KGE} = 1 - \\sqrt{(r - 1)^2 + (\\beta - 1)^2 + (\\gamma - 1)^2} $$ | <center> 1 </center> |"
   ]
  },
  {
   "cell_type": "markdown",
   "metadata": {},
   "source": [
    "## Examples\n",
    "### Plot and Calculate Errors in Streamflow"
   ]
  },
  {
   "cell_type": "markdown",
   "metadata": {},
   "source": [
    "In this example, we will plot the simulated and observed values using real 2-year WRF-Hydro model outputs, and calculate the errors between them."
   ]
  },
  {
   "cell_type": "markdown",
   "metadata": {
    "deletable": false
   },
   "source": [
    "**Load WRF-Hydro Output**"
   ]
  },
  {
   "cell_type": "code",
   "execution_count": 283,
   "metadata": {},
   "outputs": [],
   "source": [
    "path = \"/home/docker/wrf-hydro-training/example_case/supplemental/wrf-hydro-output/\"\n",
    "usgsid = 13010065\n",
    "comid = 23123539"
   ]
  },
  {
   "cell_type": "markdown",
   "metadata": {},
   "source": [
    "**Load the libraries**"
   ]
  },
  {
   "cell_type": "code",
   "execution_count": 284,
   "metadata": {},
   "outputs": [],
   "source": [
    "import datetime\n",
    "import numpy as np\n",
    "import pandas as pd\n",
    "import hydroeval as hydro\n",
    "import matplotlib.pyplot as plt\n",
    "from netCDF4 import Dataset\n",
    "from datetime import date, timedelta"
   ]
  },
  {
   "cell_type": "markdown",
   "metadata": {
    "deletable": false
   },
   "source": [
    "**Read netCDF files and Extract Simulations**"
   ]
  },
  {
   "cell_type": "code",
   "execution_count": 285,
   "metadata": {},
   "outputs": [
    {
     "name": "stdout",
     "output_type": "stream",
     "text": [
      "            Base_Hours\n",
      "Time                  \n",
      "2019-01-01    5.719860\n",
      "2019-01-02    5.688402\n",
      "2019-01-03    5.657236\n",
      "2019-01-04    5.626369\n",
      "2019-01-05    5.595802\n",
      "...                ...\n",
      "2020-12-27    5.850914\n",
      "2020-12-28    5.824188\n",
      "2020-12-29    5.797671\n",
      "2020-12-30    5.771356\n",
      "2020-12-31    5.745191\n",
      "\n",
      "[731 rows x 1 columns]\n"
     ]
    }
   ],
   "source": [
    "begDate = datetime.datetime(2019,1,1)\n",
    "endDate = datetime.datetime(2021,1,1)\n",
    "dt = endDate - begDate\n",
    "nHours = dt.days*24\n",
    "time1 = np.empty([nHours],np.int32)\n",
    "data1 = np.empty([nHours],np.float32)\n",
    "for hour in range(0,nHours):\n",
    "    dcurrent = begDate + datetime.timedelta(seconds=3600*hour)\n",
    "    fileIn = path + dcurrent.strftime('%Y%m%d%H') + '00.CHANOBS_DOMAIN1'\n",
    "    todays = dcurrent.strftime('%Y%m%d%H')\n",
    "    idTmp = Dataset(fileIn,'r')\n",
    "    index = np.where(idTmp.variables['feature_id'][:] == comid)[0]\n",
    "    time1[hour] = int(todays)\n",
    "    data1[hour] = idTmp.variables['streamflow'][0][index]\n",
    "\n",
    "timeday = np.arange(np.datetime64(\"2019-01-01\"), np.datetime64(\"2021-01-01\"))\n",
    "timehour = np.arange(np.datetime64(\"2019-01-01\"), np.datetime64(\"2021-01-01\"), timedelta(hours=1))\n",
    "base_hour = pd.DataFrame(data1[:])\n",
    "base_hour['time'] = timehour\n",
    "base_hour.columns = ['Base_Hours','Time']\n",
    "base_day = base_hour.set_index('Time').resample('24H').mean()\n",
    "print (base_day)"
   ]
  },
  {
   "cell_type": "markdown",
   "metadata": {
    "deletable": false
   },
   "source": [
    "**Read .csv file and Extract Observations**"
   ]
  },
  {
   "cell_type": "code",
   "execution_count": 286,
   "metadata": {
    "deletable": false
   },
   "outputs": [
    {
     "name": "stdout",
     "output_type": "stream",
     "text": [
      "      site_no   POSIXct quality_flag       obs  threshold  basinType\n",
      "0    13010065    1/1/19          A e  9.542829  111.56898          0\n",
      "1    13010065    1/2/19            A  9.712731  111.56898          0\n",
      "2    13010065    1/3/19            A  9.882633  111.56898          0\n",
      "3    13010065    1/4/19            A  9.825999  111.56898          0\n",
      "4    13010065    1/5/19            A  9.797682  111.56898          0\n",
      "..        ...       ...          ...       ...        ...        ...\n",
      "726  13010065  12/27/20            A  8.126979  111.56898          0\n",
      "727  13010065  12/28/20            A  7.872126  111.56898          0\n",
      "728  13010065  12/29/20            A  8.240247  111.56898          0\n",
      "729  13010065  12/30/20            A  8.240247  111.56898          0\n",
      "730  13010065  12/31/20            A  7.928760  111.56898          0\n",
      "\n",
      "[731 rows x 6 columns]\n"
     ]
    }
   ],
   "source": [
    "pathobs = path + str(usgsid) + '.csv'\n",
    "obsdf = pd.read_csv(pathobs)\n",
    "print (obsdf)"
   ]
  },
  {
   "cell_type": "markdown",
   "metadata": {
    "deletable": false
   },
   "source": [
    "**Calculate Errors**"
   ]
  },
  {
   "cell_type": "code",
   "execution_count": 287,
   "metadata": {
    "deletable": false
   },
   "outputs": [
    {
     "name": "stdout",
     "output_type": "stream",
     "text": [
      "flow    15.03325\n",
      "dtype: float64\n"
     ]
    }
   ],
   "source": [
    "SIM=pd.DataFrame(base_day); SIM=SIM.reset_index(drop=True); SIM.columns=['flow']\n",
    "OBS=pd.DataFrame(obsdf.obs); OBS=OBS.reset_index(drop=True); OBS.columns=['flow']\n",
    "\n",
    "rmse = np.sqrt(np.mean((OBS-SIM)**2))\n",
    "\n",
    "aver_bias=np.mean(SIM-OBS)\n",
    "pv = np.std(OBS)\n",
    "pbias = 100 * (abs(aver_bias) / pv)\n",
    "\n",
    "nse = hydro.evaluator(hydro.nse, SIM,OBS)\n",
    "\n",
    "kge,r,alpha,beta=hydro.evaluator(hydro.kge,SIM,OBS)\n",
    "\n",
    "print(rmse)"
   ]
  },
  {
   "cell_type": "markdown",
   "metadata": {
    "deletable": false
   },
   "source": [
    "**Plotting Streamflow**"
   ]
  },
  {
   "cell_type": "code",
   "execution_count": 288,
   "metadata": {
    "deletable": false
   },
   "outputs": [
    {
     "data": {
      "image/png": "[encoded data removed]",
      "text/plain": [
       "<Figure size 432x288 with 1 Axes>"
      ]
     },
     "metadata": {
      "needs_background": "light"
     },
     "output_type": "display_data"
    }
   ],
   "source": [
    "fig = plt.figure()\n",
    "plt.plot(timeday,base_day,\"-b\",label=\"WRFHydro-Simulation\")\n",
    "plt.scatter(timeday,obsdf.obs,marker='.',color='r',zorder=10,label=\"Observed\")\n",
    "plt.xlabel('Time (YEAR)')\n",
    "plt.ylabel('Daily Streammflow (CMS)')\n",
    "plt.legend(loc='upper left')\n",
    "titlename = 'USGS : ' + str(usgsid)\n",
    "plt.title(titlename)\n",
    "plt.xticks(rotation=45);\n",
    "fig.text(0.7,0.8,'OBS vs. Baseline')\n",
    "RMSE=\"RMSE   = {:.2f}\".format(rmse.item())\n",
    "PBIAS=\"Pbias = {:.2f}\".format(pbias.item())\n",
    "NSE=\"NSE = {:.2f}\".format(nse.item())\n",
    "KGE=\"KGE = {:.2f}\".format(kge.item())\n",
    "fig.text(0.7,0.75,str(RMSE))\n",
    "fig.text(0.7,0.70,str(PBIAS))\n",
    "fig.text(0.7,0.65,str(NSE))\n",
    "fig.text(0.7,0.60,str(KGE));"
   ]
  },
  {
   "cell_type": "markdown",
   "metadata": {
    "deletable": false
   },
   "source": [
    "\n"
   ]
  },
  {
   "cell_type": "markdown",
   "metadata": {
    "deletable": false
   },
   "source": []
  },
  {
   "cell_type": "markdown",
   "metadata": {
    "deletable": false
   },
   "source": []
  }
 ],
 "metadata": {
  "kernelspec": {
   "display_name": "Python 3",
   "language": "python",
   "name": "python3"
  },
  "language_info": {
   "codemirror_mode": {
    "name": "ipython",
    "version": 3
   },
   "file_extension": ".py",
   "mimetype": "text/x-python",
   "name": "python",
   "nbconvert_exporter": "python",
   "pygments_lexer": "ipython3",
   "version": "3.8.3"
  },
  "toc": {
   "base_numbering": 1,
   "nav_menu": {},
   "number_sections": true,
   "sideBar": true,
   "skip_h1_title": true,
   "title_cell": "Table of Contents",
   "title_sidebar": "Contents",
   "toc_cell": true,
   "toc_position": {
    "height": "calc(100% - 180px)",
    "left": "10px",
    "top": "150px",
    "width": "464px"
   },
   "toc_section_display": true,
   "toc_window_display": true
  }
 },
 "nbformat": 4,
 "nbformat_minor": 4
}
