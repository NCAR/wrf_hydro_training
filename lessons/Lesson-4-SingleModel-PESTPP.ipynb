{
 "cells": [
  {
   "cell_type": "markdown",
   "metadata": {},
   "source": [
    "# Lesson 4 - Creating a sinle WRF-Hydro model run through PEST++\n",
    "\n",
    "Add text describing why ... "
   ]
  },
  {
   "cell_type": "code",
   "execution_count": 1,
   "metadata": {},
   "outputs": [],
   "source": [
    "# load the required libraries \n",
    "import os \n",
    "import pyemu "
   ]
  },
  {
   "cell_type": "markdown",
   "metadata": {},
   "source": [
    "**Step 1. Create a work directory and copy all the required information** \n",
    "\n",
    "This folder needs to have all the required information for running PEST++ which included the followings: \n",
    "* PEST++ binary files \n",
    "* PEST++ necessary files (control file, template file, instruction file) \n",
    "* WRF-Hydro executable and TBL files  \n",
    "* WRF-Hydro example case (static files, forcing and namelists)"
   ]
  },
  {
   "cell_type": "code",
   "execution_count": 2,
   "metadata": {},
   "outputs": [
    {
     "name": "stderr",
     "output_type": "stream",
     "text": [
      "/home/docker/miniconda3/lib/python3.8/site-packages/ipykernel/ipkernel.py:287: DeprecationWarning: `should_run_async` will not call `transform_cell` automatically in the future. Please pass the result to `transformed_cell` argument and any exception that happen during thetransform in `preprocessing_exc_tuple` in IPython 7.17 and above.\n"
     ]
    }
   ],
   "source": [
    "%%bash\n",
    "# create the working directory\n",
    "mkdir -p /home/docker/wrf-hydro-training/output/lesson4/Single_Model_Run"
   ]
  },
  {
   "cell_type": "markdown",
   "metadata": {},
   "source": [
    "**Step 2. Copy WRF-Hydro related files**\n",
    "\n",
    "We will create a folder named `WRFHydro_Model` and copy the required WRF-Hydro model in there. \n",
    "We start with copying the WRF-Hydro executable and the TABLE files from the *~/wrf-hydro-training/wrf_hydro_nwm_public/trunk/NDHMS/Run* directory. These files are small so we will make actual copies rather than symbolic links in this case. "
   ]
  },
  {
   "cell_type": "code",
   "execution_count": 3,
   "metadata": {},
   "outputs": [
    {
     "name": "stdout",
     "output_type": "stream",
     "text": [
      "CHANPARM.TBL\n",
      "GENPARM.TBL\n",
      "HYDRO.TBL\n",
      "MPTABLE.TBL\n",
      "SOILPARM.TBL\n",
      "wrf_hydro.exe\n"
     ]
    },
    {
     "name": "stderr",
     "output_type": "stream",
     "text": [
      "/home/docker/miniconda3/lib/python3.8/site-packages/ipykernel/ipkernel.py:287: DeprecationWarning: `should_run_async` will not call `transform_cell` automatically in the future. Please pass the result to `transformed_cell` argument and any exception that happen during thetransform in `preprocessing_exc_tuple` in IPython 7.17 and above.\n"
     ]
    }
   ],
   "source": [
    "%%bash\n",
    "\n",
    "cd /home/docker/wrf-hydro-training/output/lesson4/Single_Model_Run\n",
    "\n",
    "# create a new folder to hold all the WRF-Hydro files\n",
    "mkdir WRFHydro_Model\n",
    "cd WRFHydro_Model\n",
    "\n",
    "# copy the wrf_hydro executable and the \n",
    "cp ~/wrf-hydro-training/wrf_hydro_nwm_public/trunk/NDHMS/Run/*.TBL .\n",
    "cp ~/wrf-hydro-training/wrf_hydro_nwm_public/trunk/NDHMS/Run/wrf_hydro.exe .\n",
    "\n",
    "ls "
   ]
  },
  {
   "cell_type": "markdown",
   "metadata": {},
   "source": [
    "Next we need to copy all the specific domain information such as static input files (`DOMAIN`), the atmospheric forcing files (`FORCING`), the model restart files to have a warm start simulations (`RESTART`) and the namelits provided with the example case. "
   ]
  },
  {
   "cell_type": "code",
   "execution_count": 4,
   "metadata": {},
   "outputs": [
    {
     "name": "stdout",
     "output_type": "stream",
     "text": [
      "CHANPARM.TBL\n",
      "DOMAIN\n",
      "FORCING\n",
      "GENPARM.TBL\n",
      "hydro.namelist\n",
      "HYDRO.TBL\n",
      "MPTABLE.TBL\n",
      "namelist.hrldas\n",
      "RESTARTS\n",
      "SOILPARM.TBL\n",
      "wrf_hydro.exe\n"
     ]
    },
    {
     "name": "stderr",
     "output_type": "stream",
     "text": [
      "/home/docker/miniconda3/lib/python3.8/site-packages/ipykernel/ipkernel.py:287: DeprecationWarning: `should_run_async` will not call `transform_cell` automatically in the future. Please pass the result to `transformed_cell` argument and any exception that happen during thetransform in `preprocessing_exc_tuple` in IPython 7.17 and above.\n"
     ]
    }
   ],
   "source": [
    "%%bash \n",
    "# Let's copy the example case files\n",
    "cd /home/docker/wrf-hydro-training/output/lesson4/Single_Model_Run/WRFHydro_Model\n",
    "ln -sf ~/wrf-hydro-training/example_case/FORCING .\n",
    "ln -sf ~/wrf-hydro-training/example_case/DOMAIN .\n",
    "ln -sf ~/wrf-hydro-training/example_case/RESTARTS .\n",
    "\n",
    "# copy namelist \n",
    "cp ~/wrf-hydro-training/example_case/namelist.hrldas .\n",
    "cp ~/wrf-hydro-training/example_case/hydro.namelist .\n",
    "ls "
   ]
  },
  {
   "cell_type": "markdown",
   "metadata": {},
   "source": [
    "**Step 3. Copy PEST++ binary file**\n"
   ]
  },
  {
   "cell_type": "code",
   "execution_count": 5,
   "metadata": {},
   "outputs": [
    {
     "name": "stderr",
     "output_type": "stream",
     "text": [
      "/home/docker/miniconda3/lib/python3.8/site-packages/ipykernel/ipkernel.py:287: DeprecationWarning: `should_run_async` will not call `transform_cell` automatically in the future. Please pass the result to `transformed_cell` argument and any exception that happen during thetransform in `preprocessing_exc_tuple` in IPython 7.17 and above.\n"
     ]
    }
   ],
   "source": [
    "%%bash \n",
    "# Move one directory up, to the working directory\n",
    "cd /home/docker/wrf-hydro-training/output/lesson4/Single_Model_Run\n",
    "\n",
    "# copy the PEST++ binary files \n",
    "cp /home/docker/wrf-hydro-training/pestpp_bin/pestpp-ies ."
   ]
  },
  {
   "cell_type": "markdown",
   "metadata": {},
   "source": [
    "**Step 4. Copy all WRF-Hydro/PESTPP files**\n",
    "Copy the control file, instruction and template files which are required by the PEST++. \n",
    "Copy the run script for running the WRF-Hydro Pre-processing, execution and post processing."
   ]
  },
  {
   "cell_type": "code",
   "execution_count": 6,
   "metadata": {},
   "outputs": [
    {
     "name": "stderr",
     "output_type": "stream",
     "text": [
      "/home/docker/miniconda3/lib/python3.8/site-packages/ipykernel/ipkernel.py:287: DeprecationWarning: `should_run_async` will not call `transform_cell` automatically in the future. Please pass the result to `transformed_cell` argument and any exception that happen during thetransform in `preprocessing_exc_tuple` in IPython 7.17 and above.\n"
     ]
    }
   ],
   "source": [
    "%%bash \n",
    "cd /home/docker/wrf-hydro-training/output/lesson4/Single_Model_Run\n",
    "\n",
    "# copy all the pestpp required files \n",
    "cp /home/docker/wrf-hydro-training/example_case/PESTPP/* ."
   ]
  },
  {
   "cell_type": "markdown",
   "metadata": {},
   "source": [
    "**Step 5. Make modifications to the files**\n",
    "\n",
    "Placeholder for later ... "
   ]
  },
  {
   "cell_type": "markdown",
   "metadata": {},
   "source": [
    "**Step 6. Running PEST++ with WRF-Hydro**\n",
    "\n"
   ]
  },
  {
   "cell_type": "code",
   "execution_count": 8,
   "metadata": {},
   "outputs": [
    {
     "name": "stderr",
     "output_type": "stream",
     "text": [
      "/home/docker/miniconda3/lib/python3.8/site-packages/ipykernel/ipkernel.py:287: DeprecationWarning: `should_run_async` will not call `transform_cell` automatically in the future. Please pass the result to `transformed_cell` argument and any exception that happen during thetransform in `preprocessing_exc_tuple` in IPython 7.17 and above.\n"
     ]
    },
    {
     "name": "stdout",
     "output_type": "stream",
     "text": [
      "master:./pestpp-ies wrfpst.pst /h :4004 in /home/docker/wrf-hydro-training/output/lesson4/host\n",
      "worker:./pestpp-ies wrfpst.pst /h localhost:4004 in /home/docker/wrf-hydro-training/output/lesson4/worker_0\n"
     ]
    },
    {
     "ename": "Exception",
     "evalue": "start_workers() master returned non-zero: 1",
     "output_type": "error",
     "traceback": [
      "\u001b[0;31m---------------------------------------------------------------------------\u001b[0m",
      "\u001b[0;31mException\u001b[0m                                 Traceback (most recent call last)",
      "\u001b[0;32m<ipython-input-8-4f219e4717da>\u001b[0m in \u001b[0;36m<module>\u001b[0;34m\u001b[0m\n\u001b[1;32m      2\u001b[0m \u001b[0;31m# This option is usually not needed unless you are one of those crazy people who spreads files across countless subdirectories.\u001b[0m\u001b[0;34m\u001b[0m\u001b[0;34m\u001b[0m\u001b[0;34m\u001b[0m\u001b[0m\n\u001b[1;32m      3\u001b[0m \u001b[0;34m\u001b[0m\u001b[0m\n\u001b[0;32m----> 4\u001b[0;31m pyemu.utils.os_utils.start_workers(worker_dir = \"/home/docker/wrf-hydro-training/output/lesson4/Single_Model_Run\", \n\u001b[0m\u001b[1;32m      5\u001b[0m                                    \u001b[0mexe_rel_path\u001b[0m \u001b[0;34m=\u001b[0m \u001b[0;34m\"pestpp-ies\"\u001b[0m\u001b[0;34m,\u001b[0m\u001b[0;34m\u001b[0m\u001b[0;34m\u001b[0m\u001b[0m\n\u001b[1;32m      6\u001b[0m                                    \u001b[0mpst_rel_path\u001b[0m \u001b[0;34m=\u001b[0m \u001b[0;34m\"wrfpst.pst\"\u001b[0m\u001b[0;34m,\u001b[0m\u001b[0;34m\u001b[0m\u001b[0;34m\u001b[0m\u001b[0m\n",
      "\u001b[0;32m~/miniconda3/lib/python3.8/site-packages/pyemu/utils/os_utils.py\u001b[0m in \u001b[0;36mstart_workers\u001b[0;34m(worker_dir, exe_rel_path, pst_rel_path, num_workers, worker_root, port, rel_path, local, cleanup, master_dir, verbose, silent_master, reuse_master, restart)\u001b[0m\n\u001b[1;32m    379\u001b[0m         \u001b[0mret_val\u001b[0m \u001b[0;34m=\u001b[0m \u001b[0mmaster_p\u001b[0m\u001b[0;34m.\u001b[0m\u001b[0mreturncode\u001b[0m\u001b[0;34m\u001b[0m\u001b[0;34m\u001b[0m\u001b[0m\n\u001b[1;32m    380\u001b[0m         \u001b[0;32mif\u001b[0m \u001b[0mret_val\u001b[0m \u001b[0;34m!=\u001b[0m \u001b[0;36m0\u001b[0m\u001b[0;34m:\u001b[0m\u001b[0;34m\u001b[0m\u001b[0;34m\u001b[0m\u001b[0m\n\u001b[0;32m--> 381\u001b[0;31m             \u001b[0;32mraise\u001b[0m \u001b[0mException\u001b[0m\u001b[0;34m(\u001b[0m\u001b[0;34m\"start_workers() master returned non-zero: {0}\"\u001b[0m\u001b[0;34m.\u001b[0m\u001b[0mformat\u001b[0m\u001b[0;34m(\u001b[0m\u001b[0mret_val\u001b[0m\u001b[0;34m)\u001b[0m\u001b[0;34m)\u001b[0m\u001b[0;34m\u001b[0m\u001b[0;34m\u001b[0m\u001b[0m\n\u001b[0m",
      "\u001b[0;31mException\u001b[0m: start_workers() master returned non-zero: 1"
     ]
    }
   ],
   "source": [
    "# rel_path (str, optional) – the relative path to where pest(++) should be run from within the worker_dir, defaults to the uppermost level of the worker dir. \n",
    "# This option is usually not needed unless you are one of those crazy people who spreads files across countless subdirectories.\n",
    "\n",
    "pyemu.utils.os_utils.start_workers(worker_dir = \"/home/docker/wrf-hydro-training/output/lesson4/Single_Model_Run\", \n",
    "                                   exe_rel_path = \"pestpp-ies\", \n",
    "                                   pst_rel_path = \"wrfpst.pst\", \n",
    "                                   num_workers=1, \n",
    "                                   worker_root='/home/docker/wrf-hydro-training/output/lesson4/',\n",
    "                                   master_dir = \"/home/docker/wrf-hydro-training/output/lesson4/host\",\n",
    "                                   port=4004, \n",
    "                                   verbose = True, \n",
    "                                   cleanup = False)\n"
   ]
  },
  {
   "cell_type": "code",
   "execution_count": null,
   "metadata": {},
   "outputs": [],
   "source": []
  }
 ],
 "metadata": {
  "kernelspec": {
   "display_name": "Python 3",
   "language": "python",
   "name": "python3"
  },
  "language_info": {
   "codemirror_mode": {
    "name": "ipython",
    "version": 3
   },
   "file_extension": ".py",
   "mimetype": "text/x-python",
   "name": "python",
   "nbconvert_exporter": "python",
   "pygments_lexer": "ipython3",
   "version": "3.8.3"
  }
 },
 "nbformat": 4,
 "nbformat_minor": 4
}
