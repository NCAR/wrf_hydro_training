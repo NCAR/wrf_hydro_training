{
 "cells": [
  {
   "cell_type": "markdown",
   "metadata": {},
   "source": [
    "# Lesson 4 - Creating a sinle WRF-Hydro model run through PEST++\n",
    "\n",
    "Add text describing why ... "
   ]
  },
  {
   "cell_type": "code",
   "execution_count": null,
   "metadata": {},
   "outputs": [],
   "source": [
    "# load the required libraries \n",
    "import os \n",
    "import pyemu "
   ]
  },
  {
   "cell_type": "markdown",
   "metadata": {},
   "source": [
    "**Step 1. Create a work directory and copy all the required information** \n",
    "\n",
    "This folder needs to have all the required information for running PEST++ which included the followings: \n",
    "* PEST++ binary files \n",
    "* PEST++ necessary files (control file, template file, instruction file) \n",
    "* WRF-Hydro executable and TBL files  \n",
    "* WRF-Hydro example case (static files, forcing and namelists)"
   ]
  },
  {
   "cell_type": "code",
   "execution_count": null,
   "metadata": {},
   "outputs": [],
   "source": [
    "%%bash\n",
    "# create the working directory\n",
    "mkdir -p /home/docker/wrf-hydro-training/output/lesson4/Single_Model_Run"
   ]
  },
  {
   "cell_type": "markdown",
   "metadata": {},
   "source": [
    "**Step 2. Copy WRF-Hydro related files**\n",
    "\n",
    "We will create a folder named `WRFHydro_Model` and copy the required WRF-Hydro model in there. \n",
    "We start with copying the WRF-Hydro executable and the TABLE files from the *~/wrf-hydro-training/wrf_hydro_nwm_public/trunk/NDHMS/Run* directory. These files are small so we will make actual copies rather than symbolic links in this case. "
   ]
  },
  {
   "cell_type": "code",
   "execution_count": null,
   "metadata": {},
   "outputs": [],
   "source": [
    "%%bash\n",
    "\n",
    "cd /home/docker/wrf-hydro-training/output/lesson4/Single_Model_Run\n",
    "\n",
    "# create a new folder to hold all the WRF-Hydro files\n",
    "mkdir WRFHydro_Model\n",
    "cd WRFHydro_Model\n",
    "\n",
    "# copy the wrf_hydro executable and the \n",
    "cp ~/wrf-hydro-training/wrf_hydro_nwm_public/trunk/NDHMS/Run/*.TBL .\n",
    "cp ~/wrf-hydro-training/wrf_hydro_nwm_public/trunk/NDHMS/Run/wrf_hydro.exe .\n",
    "\n",
    "ls "
   ]
  },
  {
   "cell_type": "markdown",
   "metadata": {},
   "source": [
    "Next we need to copy all the specific domain information such as static input files (`DOMAIN`), the atmospheric forcing files (`FORCING`), the model restart files to have a warm start simulations (`RESTART`) and the namelits provided with the example case. "
   ]
  },
  {
   "cell_type": "code",
   "execution_count": null,
   "metadata": {},
   "outputs": [],
   "source": [
    "%%bash \n",
    "# Let's copy the example case files\n",
    "cd /home/docker/wrf-hydro-training/output/lesson4/Single_Model_Run/WRFHydro_Model\n",
    "ln -sf ~/wrf-hydro-training/example_case/FORCING .\n",
    "ln -sf ~/wrf-hydro-training/example_case/DOMAIN .\n",
    "ln -sf ~/wrf-hydro-training/example_case/RESTARTS .\n",
    "\n",
    "# copy namelist \n",
    "cp ~/wrf-hydro-training/example_case/namelist.hrldas .\n",
    "cp ~/wrf-hydro-training/example_case/hydro.namelist .\n",
    "ls "
   ]
  },
  {
   "cell_type": "markdown",
   "metadata": {},
   "source": [
    "**Step 3. Copy PEST++ binary file**\n"
   ]
  },
  {
   "cell_type": "code",
   "execution_count": null,
   "metadata": {},
   "outputs": [],
   "source": [
    "%%bash \n",
    "# Move one directory up, to the working directory\n",
    "cd /home/docker/wrf-hydro-training/output/lesson4/Single_Model_Run\n",
    "\n",
    "# copy the PEST++ binary files \n",
    "cp /home/docker/wrf-hydro-training/pestpp_bin/pestpp-ies ."
   ]
  },
  {
   "cell_type": "markdown",
   "metadata": {},
   "source": [
    "**Step 4. Copy all WRF-Hydro/PESTPP files**\n",
    "Copy the control file, instruction and template files which are required by the PEST++. \n",
    "Copy the run script for running the WRF-Hydro Pre-processing, execution and post processing."
   ]
  },
  {
   "cell_type": "code",
   "execution_count": null,
   "metadata": {},
   "outputs": [],
   "source": [
    "%%bash \n",
    "cd /home/docker/wrf-hydro-training/output/lesson4/Single_Model_Run\n",
    "\n",
    "# copy all the pestpp required files \n",
    "cp /home/docker/wrf-hydro-training/example_case/PESTPP/* ."
   ]
  },
  {
   "cell_type": "markdown",
   "metadata": {},
   "source": [
    "**Step 5. Make modifications to the files**\n",
    "\n",
    "Let s modify the namelists to read the netcdf files from the WRF-Hydro run directory instead of the DOMAIN directory, since we make modification to these files. The pre-processing script will read the parameters from the PEST++ output files and then modifying the input netcdf files to WRF-Hydro. "
   ]
  },
  {
   "cell_type": "code",
   "execution_count": null,
   "metadata": {},
   "outputs": [],
   "source": [
    "%%bash \n",
    "cd /home/docker/wrf-hydro-training/output/lesson4/Single_Model_Run/WRFHydro_Model/\n",
    "# Edit namelist.hrldas \n",
    "sed -i -e 's#DOMAIN/soil_properties.nc#soil_properties.nc#g' namelist.hrldas\n",
    "sed -i -e 's#DOMAIN/Fulldom.nc#Fulldom.nc#g' hydro.namelist\n",
    "sed -i -e 's#DOMAIN/HYDRO_TBL_2D.nc#HYDRO_TBL_2D.nc#g' hydro.namelist\n",
    "sed -i -e 's#DOMAIN/GWBUCKPARM.nc#GWBUCKPARM.nc#g' hydro.namelist"
   ]
  },
  {
   "cell_type": "markdown",
   "metadata": {},
   "source": [
    "**Step 6. Running PEST++ with WRF-Hydro**\n",
    "\n"
   ]
  },
  {
   "cell_type": "code",
   "execution_count": null,
   "metadata": {},
   "outputs": [],
   "source": [
    "# rel_path (str, optional) – the relative path to where pest(++) should be run from within the worker_dir, defaults to the uppermost level of the worker dir. \n",
    "# This option is usually not needed unless you are one of those crazy people who spreads files across countless subdirectories.\n",
    "\n",
    "pyemu.utils.os_utils.start_workers(worker_dir = \"/home/docker/wrf-hydro-training/output/lesson4/Single_Model_Run\", \n",
    "                                   exe_rel_path = \"pestpp-ies\", \n",
    "                                   pst_rel_path = \"wrfpst.pst\", \n",
    "                                   num_workers=1, \n",
    "                                   worker_root='/home/docker/wrf-hydro-training/output/lesson4/',\n",
    "                                   master_dir = \"/home/docker/wrf-hydro-training/output/lesson4/host\",\n",
    "                                   port=4004, \n",
    "                                   verbose = True, \n",
    "                                   cleanup = False)\n"
   ]
  },
  {
   "cell_type": "markdown",
   "metadata": {},
   "source": [
    "**Step 7. Let the run directory**\n",
    "\n",
    "Check the PEST++ top directory \n",
    "host directory \n",
    "1 of the workers directory\n"
   ]
  },
  {
   "cell_type": "code",
   "execution_count": null,
   "metadata": {},
   "outputs": [],
   "source": [
    "%%bash \n",
    "ls  /home/docker/wrf-hydro-training/output/lesson4/Single_Model_Run/WRFHydro_Model/"
   ]
  },
  {
   "cell_type": "code",
   "execution_count": null,
   "metadata": {},
   "outputs": [],
   "source": []
  }
 ],
 "metadata": {
  "kernelspec": {
   "display_name": "Python 3",
   "language": "python",
   "name": "python3"
  },
  "language_info": {
   "codemirror_mode": {
    "name": "ipython",
    "version": 3
   },
   "file_extension": ".py",
   "mimetype": "text/x-python",
   "name": "python",
   "nbconvert_exporter": "python",
   "pygments_lexer": "ipython3",
   "version": "3.8.3"
  }
 },
 "nbformat": 4,
 "nbformat_minor": 4
}
