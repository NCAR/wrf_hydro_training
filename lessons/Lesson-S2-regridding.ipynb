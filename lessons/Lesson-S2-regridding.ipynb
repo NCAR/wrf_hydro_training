{
 "cells": [
  {
   "cell_type": "markdown",
   "metadata": {},
   "source": [
    "<img src='https://repository-images.githubusercontent.com/121802384/c355bb80-7d42-11e9-9e0e-4729609f9fbc' alt='WRF-Hydro Logo' width=\"15%\"/>\n",
    "\n",
    "# Lesson S2- Regridding supplemental precip forcing data to the WRF-Hydro domain"
   ]
  },
  {
   "cell_type": "markdown",
   "metadata": {},
   "source": [
    "## Overview\n",
    "In this lesson, we cover regridding Multi Radar Multi Sensor(MRMS) forcing data to a WRF-Hydro domain using the Python-based WRF-Hydro Forcing Engine. "
   ]
  },
  {
   "cell_type": "markdown",
   "metadata": {},
   "source": [
    "## Required software and datasets"
   ]
  },
  {
   "cell_type": "markdown",
   "metadata": {},
   "source": [
    "### Meteorological Forcing Engine (MFE) software\n",
    "The WRF-Hydro Meteorological Forcing Engine (MFE) software can be downloaded from https://github.com/NCAR/WrfHydroForcing"
   ]
  },
  {
   "cell_type": "markdown",
   "metadata": {},
   "source": [
    "### Data sources\n",
    "For this training, data has already been included for the simulation time period. \n",
    "\n",
    "**NOTE: These data are for instructional purposes only and do not include forcing data used for model spinup**\n"
   ]
  },
  {
   "cell_type": "markdown",
   "metadata": {},
   "source": [
    "**Step 1: Extract the NLDAS2 forcing data provided with this tutorial**"
   ]
  },
  {
   "cell_type": "code",
   "execution_count": null,
   "metadata": {},
   "outputs": [],
   "source": [
    "%%bash\n",
    "cd ~/wrf-hydro-training/example_case/regridding\n",
    "tar -xf fe_forcing.tar.gz"
   ]
  },
  {
   "cell_type": "markdown",
   "metadata": {},
   "source": [
    "**Step 2: View the contents of the input_files directory**"
   ]
  },
  {
   "cell_type": "code",
   "execution_count": null,
   "metadata": {},
   "outputs": [],
   "source": [
    "%%bash\n",
    "ls ~/wrf-hydro-training/example_case/regridding/fe_forcing/supp_netcdf/20230720 | head -10"
   ]
  },
  {
   "cell_type": "markdown",
   "metadata": {},
   "source": [
    "Let's view the data in the MRMS supplemental precip inputs:"
   ]
  },
  {
   "cell_type": "code",
   "execution_count": null,
   "metadata": {},
   "outputs": [],
   "source": [
    "import xarray as xr\n",
    "import hvplot.xarray\n",
    "\n",
    "ldas_in = xr.open_mfdataset('/home/docker/wrf-hydro-training/example_case/regridding/fe_forcing/supp_netcdf/20230720/*')\n",
    "\n",
    "input_field = ldas_in.PrecipRate_0mabovemeansealevel\n",
    "\n",
    "input_field.hvplot(groupby='time', data_aspect=1.0, xaxis=None, yaxis=None,\n",
    "                   title=input_field.short_name, attr_labels=False, widget_location='bottom',\n",
    "                   cmap='gist_ncar', clim=(input_field.min(), input_field.max()))"
   ]
  },
  {
   "cell_type": "markdown",
   "metadata": {},
   "source": [
    "**Step 3: View the domain metadata files**\n",
    "\n",
    "The Forcing Engine requires two additional static input files; a WRF *geogrid* file (for grid information), and an optional Spatial Metadata template file to copy attributes from."
   ]
  },
  {
   "cell_type": "code",
   "execution_count": null,
   "metadata": {},
   "outputs": [],
   "source": [
    "%%bash\n",
    "cp /home/docker/DOMAIN/geo_em.d0x.nc /home/docker/wrf-hydro-training/example_case/regridding/fe_forcing/\n",
    "cp /home/docker/DOMAIN/GEOGRID_LDASOUT_Spatial_Metadata.nc /home/docker/wrf-hydro-training/example_case/regridding/fe_forcing/\n",
    "ls ~/wrf-hydro-training/example_case/regridding/fe_forcing/*nc"
   ]
  },
  {
   "cell_type": "markdown",
   "metadata": {},
   "source": [
    "We have the necessary files, now we can begin the regridding process."
   ]
  },
  {
   "cell_type": "markdown",
   "metadata": {},
   "source": [
    "## Editing the forcing engine configuration file\n",
    "The WRF-Hydro Forcing Engine requires a configuration file to specify the input types, forecast time periods, and other options needed for regridding and pre-processing the forcing data."
   ]
  },
  {
   "cell_type": "markdown",
   "metadata": {},
   "source": [
    "**Step 1: Examine the supplied *nldas_fe.config* configuration file and verify the times and forcing input types**"
   ]
  },
  {
   "cell_type": "code",
   "execution_count": null,
   "metadata": {
    "scrolled": true
   },
   "outputs": [],
   "source": [
    "%%bash\n",
    "mkdir /home/docker/wrf-hydro-training/example_case/regridding/fe_forcing/output\n",
    "cat ~/wrf-hydro-training/example_case/regridding/fe_forcing/fe.config"
   ]
  },
  {
   "cell_type": "markdown",
   "metadata": {},
   "source": [
    "## Regridding the forcing data using the forcing engine\n",
    "In this section we will regrid all our forcing data using the configuration shown above"
   ]
  },
  {
   "cell_type": "markdown",
   "metadata": {},
   "source": [
    "**Step 1: Run the Forcing Engine driver (`genForcing.py`)**\n",
    "\n",
    "`genForcing.py` takes 3 arguments: the path to the configuration file, a version number, and a configuration name. The version and name are arbitrary and used for logging and are inserted as netCDF Global Attributes in the LDASIN output files."
   ]
  },
  {
   "cell_type": "code",
   "execution_count": null,
   "metadata": {},
   "outputs": [],
   "source": [
    "%%bash\n",
    "cd ~/wrf-hydro-training/example_case/regridding/fe_forcing\n",
    "rm -rf output/*          # clean up any existing runs\n",
    "python WrfHydroForcing/genForcing.py fe.config 3.0 MR > .tmp"
   ]
  },
  {
   "cell_type": "markdown",
   "metadata": {},
   "source": [
    "The Forcing Engine sends most of its output to a log file specified in the configuration file. Only severe errors are printed to *stdout* so a successful run will produce no output."
   ]
  },
  {
   "cell_type": "markdown",
   "metadata": {},
   "source": [
    "**Step 2: View the Forcing Engine Log:**"
   ]
  },
  {
   "cell_type": "code",
   "execution_count": null,
   "metadata": {
    "scrolled": true
   },
   "outputs": [],
   "source": [
    "%%bash\n",
    "cat /home/docker/wrf-hydro-training/example_case/regridding/fe_forcing/output/LOG_MR*"
   ]
  },
  {
   "cell_type": "markdown",
   "metadata": {},
   "source": [
    "**Step 3: View the contents of the *output_files* directory**\n",
    "\n",
    "The Forcing Engine will generate output files in a directory heirarchy rooted in `output_files`. Lets view the contents of the directory:"
   ]
  },
  {
   "cell_type": "code",
   "execution_count": null,
   "metadata": {},
   "outputs": [],
   "source": [
    "%%bash\n",
    "ls -R ~/wrf-hydro-training/example_case/regridding/fe_forcing/output"
   ]
  },
  {
   "cell_type": "markdown",
   "metadata": {},
   "source": [
    "**Step 4: View the contents of the LDASIN files**\n",
    "\n",
    "Now, let's look at the actual regridded data in the output files. Try changing the variable from \"RAINRATE\" to others in the file to see the other fields."
   ]
  },
  {
   "cell_type": "code",
   "execution_count": null,
   "metadata": {},
   "outputs": [],
   "source": [
    "import xarray as xr\n",
    "import hvplot.xarray\n",
    "\n",
    "ldas_in = xr.open_mfdataset('/home/docker/wrf-hydro-training/example_case/regridding/fe_forcing/output/2023072000/2023*.PRECIP_DOMAIN1')\n",
    "ldas_in"
   ]
  },
  {
   "cell_type": "code",
   "execution_count": null,
   "metadata": {},
   "outputs": [],
   "source": [
    "output_field = ldas_in.precip_rate\n",
    "\n",
    "output_field.hvplot(groupby='time', xaxis=None, yaxis=None, \n",
    "                    title=output_field.name, attr_labels=False, widget_location='bottom',\n",
    "                    cmap='gist_ncar', clim=(output_field.min(), output_field.max()))"
   ]
  },
  {
   "cell_type": "markdown",
   "metadata": {},
   "source": [
    "© UCAR 2020"
   ]
  }
 ],
 "metadata": {
  "kernelspec": {
   "display_name": "Python 3",
   "language": "python",
   "name": "python3"
  },
  "language_info": {
   "codemirror_mode": {
    "name": "ipython",
    "version": 3
   },
   "file_extension": ".py",
   "mimetype": "text/x-python",
   "name": "python",
   "nbconvert_exporter": "python",
   "pygments_lexer": "ipython3",
   "version": "3.8.3"
  },
  "toc": {
   "base_numbering": 1,
   "nav_menu": {},
   "number_sections": true,
   "sideBar": true,
   "skip_h1_title": true,
   "title_cell": "Table of Contents",
   "title_sidebar": "Contents",
   "toc_cell": true,
   "toc_position": {},
   "toc_section_display": true,
   "toc_window_display": false
  }
 },
 "nbformat": 4,
 "nbformat_minor": 4
}
