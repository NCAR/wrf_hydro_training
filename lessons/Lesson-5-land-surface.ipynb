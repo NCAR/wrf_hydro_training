{
 "cells": [
  {
   "cell_type": "markdown",
   "metadata": {},
   "source": [
    "<img src='https://repository-images.githubusercontent.com/121802384/c355bb80-7d42-11e9-9e0e-4729609f9fbc' alt='WRF-Hydro Logo' width=\"15%\"/>\n",
    "\n",
    "# Lesson 5 - Land surface experiments"
   ]
  },
  {
   "cell_type": "markdown",
   "metadata": {},
   "source": [
    "## Overview\n",
    "In [Lesson 4](Lesson-4-run-options.ipynb) we experimented with different initial and boundary conditions (precipitation). \n",
    "\n",
    "In this lesson, we experiment with parameter adjustments to evaluate impacts on streamflow.\n",
    "\n",
    "**NOTE: If you have not completed Lessons 1 through 4, please stop and do so now.**"
   ]
  },
  {
   "cell_type": "markdown",
   "metadata": {},
   "source": [
    "### Compiling WRF-Hydro\n",
    "Below are the commands to compile WRF-Hydro. We are doing a quick short-cut to edit the setEnvar.sh to make sure HYDRO_D and SPATIAL_SOIL are both active. See [Lesson 1](Lesson-1-compile.ipynb) if you have any questions on these settings.\n",
    "\n",
    "**NOTE: You only need to do these steps if you do not already have a compiled binary. If you do, you can skip the compile steps.**"
   ]
  },
  {
   "cell_type": "code",
   "execution_count": null,
   "metadata": {},
   "outputs": [],
   "source": [
    "%%bash\n",
    "# Change to the trunk/NDHMS directory and configure for gfort\n",
    "cd ~/wrf-hydro-training/wrf_hydro_nwm_public/trunk/NDHMS/\n",
    "./configure 2\n",
    "\n",
    "# Make a copy of the template environment variable file, setEnvars.sh\n",
    "cp ~/wrf-hydro-training/wrf_hydro_nwm_public/trunk/NDHMS/template/setEnvar.sh \\\n",
    "~/wrf-hydro-training/wrf_hydro_nwm_public/trunk/NDHMS/setEnvar.sh\n",
    "\n",
    "# Edit setEnvar.sh to turn on debug (HYDRO_D=1) and spatial soils (SPATIAL_SOIL=1)\n",
    "sed -i -e 's#export HYDRO_D=0#export HYDRO_D=1#g' ~/wrf-hydro-training/wrf_hydro_nwm_public/trunk/NDHMS/setEnvar.sh\n",
    "sed -i -e 's#export SPATIAL_SOIL=0#export SPATIAL_SOIL=1#g' ~/wrf-hydro-training/wrf_hydro_nwm_public/trunk/NDHMS/setEnvar.sh\n",
    "\n",
    "# Compile the code\n",
    "./compile_offline_NoahMP.sh setEnvar.sh >> compile.log 2>&1\n",
    "\n",
    "# Check to make sure it completed successfully and confirm the correct compile-time options were set.\n",
    "tail -13 ~/wrf-hydro-training/wrf_hydro_nwm_public/trunk/NDHMS/compile.log"
   ]
  },
  {
   "cell_type": "markdown",
   "metadata": {},
   "source": [
    "## Experiment with Modified Parameters\n",
    "There are a number of key parameters that impact water partitioning, storage, and movement through the model system. We have pulled many of the most important model parameters into NetCDF files to ease parameter display and manipulation, as well as to allow the parameters to vary independently in space. Key terrain routing parameter files include:\n",
    "* soil_properties.nc - NoahMP soil and vegetation properties (LSM grid)\n",
    "* hydro2dtbl.nc - Lateral routing model soil and surface parameters (LSM grid)\n",
    "* Fulldom_hires.nc - Lateral routing model high-res parameters (routing grid)\n",
    "* GWBUCKPARM.nc - Groundwater baseflow bucket model parameters (groundwater basin objects)\n",
    "\n",
    "In this lesson, we will manipulate parameters in the `soil_properties.nc` (*refkdt*, *dksat*, *bexp*) and `Fulldom_hires.nc` (*LKSATFAC*, *RETDEPRTFAC*) files."
   ]
  },
  {
   "cell_type": "markdown",
   "metadata": {},
   "source": [
    "### Step 1: Create a new template directory and and run default parameter test case\n",
    "As in the first section, we will make a new simulation directory and use this as a template for creating multiple new simulation directories.\n",
    "\n",
    "**Step 1a: Create a new template directory for the parameter experiments.**"
   ]
  },
  {
   "cell_type": "code",
   "execution_count": null,
   "metadata": {},
   "outputs": [],
   "source": [
    "%%bash\n",
    "# Make a new directory for our default baseline simulation\n",
    "mkdir -p ~/wrf-hydro-training/output/lesson5/run_default_template\n",
    "\n",
    "# Copy our model files to the simulation directory\n",
    "cp ~/wrf-hydro-training/wrf_hydro_nwm_public/trunk/NDHMS/Run/*.TBL \\\n",
    "~/wrf-hydro-training/output/lesson5/run_default_template\n",
    "cp ~/wrf-hydro-training/wrf_hydro_nwm_public/trunk/NDHMS/Run/wrf_hydro.exe \\\n",
    "~/wrf-hydro-training/output/lesson5/run_default_template\n",
    "\n",
    "# Create symbolic links to large domain files\n",
    "cp -as $HOME/wrf-hydro-training/example_case/FORCING \\\n",
    "~/wrf-hydro-training/output/lesson5/run_default_template\n",
    "cp -as $HOME/wrf-hydro-training/example_case/IWAAs/RESTART \\\n",
    "~/wrf-hydro-training/output/lesson5/run_default_template/RESTART\n",
    "\n",
    "# Copy the domain/parameter files so we can modify them\n",
    "cp -r $HOME/wrf-hydro-training/example_case/IWAAs/DOMAIN \\\n",
    "~/wrf-hydro-training/output/lesson5/run_default_template/DOMAIN\n",
    "\n",
    "# Copy namelist files\n",
    "cp ~/wrf-hydro-training/example_case/IWAAs/namelist.hrldas \\\n",
    "~/wrf-hydro-training/output/lesson5/run_default_template\n",
    "cp ~/wrf-hydro-training/example_case/IWAAs/hydro.namelist \\\n",
    "~/wrf-hydro-training/output/lesson5/run_default_template"
   ]
  },
  {
   "cell_type": "markdown",
   "metadata": {},
   "source": [
    "**Step 1b: Specify the simulation length in the namelist.hrldas file**\n",
    "\n",
    "KHOUR = 2927"
   ]
  },
  {
   "cell_type": "code",
   "execution_count": null,
   "metadata": {},
   "outputs": [],
   "source": [
    "%%bash\n",
    "sed -i -e 's/KHOUR = 1485/KHOUR = 2927/g' ~/wrf-hydro-training/output/lesson5/run_default_template/namelist.hrldas"
   ]
  },
  {
   "cell_type": "markdown",
   "metadata": {},
   "source": [
    "**Step 1c: Setup and run the default parameter baseline experiment**\n",
    "\n",
    "We now make a new run directory to run the baseline simulation with default (uncalibrated) parameters."
   ]
  },
  {
   "cell_type": "code",
   "execution_count": null,
   "metadata": {},
   "outputs": [],
   "source": [
    "%%bash\n",
    "cp -r ~/wrf-hydro-training/output/lesson5/run_default_template \\\n",
    "~/wrf-hydro-training/output/lesson5/run_parameter_baseline"
   ]
  },
  {
   "cell_type": "markdown",
   "metadata": {},
   "source": [
    "Launch the baseline run and make sure it completes successfully."
   ]
  },
  {
   "cell_type": "code",
   "execution_count": null,
   "metadata": {},
   "outputs": [],
   "source": [
    "%%bash\n",
    "cd ~/wrf-hydro-training/output/lesson5/run_parameter_baseline\n",
    "mpirun -np 8 ./wrf_hydro.exe >> run.log 2>&1"
   ]
  },
  {
   "cell_type": "code",
   "execution_count": null,
   "metadata": {},
   "outputs": [],
   "source": [
    "%%bash\n",
    "tail -1 ~/wrf-hydro-training/output/lesson5/run_parameter_baseline/diag_hydro.00000"
   ]
  },
  {
   "cell_type": "markdown",
   "metadata": {},
   "source": [
    "**Step 1d: Plot the hydrograph for the baseline (default) run**\n",
    "\n",
    "We want to take a quick look at the hydrograph for the default parameter run so we see what behavior we might want to adjust.\n",
    "\n",
    "We will use Python and the `xarray` library to load the data and plot hydrographs. For an intro to these tools, please see [Lesson 3](Lesson-3-visualize.ipynb).\n",
    "\n",
    "**Load the xarray python package**"
   ]
  },
  {
   "cell_type": "code",
   "execution_count": null,
   "metadata": {},
   "outputs": [],
   "source": [
    "# Load the required libraries\n",
    "import xarray as xr\n",
    "import matplotlib.pyplot as plt\n",
    "import pandas as pd\n",
    "import datetime as dt\n",
    "\n",
    "xr.set_options(display_style=\"html\")\n",
    "from pandas.plotting import register_matplotlib_converters\n",
    "register_matplotlib_converters()"
   ]
  },
  {
   "cell_type": "code",
   "execution_count": null,
   "metadata": {},
   "outputs": [],
   "source": [
    "%%time\n",
    "# Pull the channel output files into xarray objects \n",
    "chanobs_control = xr.open_mfdataset('/home/docker/wrf-hydro-training/output/lesson5/run_parameter_baseline/*CHANOBS*',\n",
    "                            combine='by_coords')\n",
    "obs = pd.read_csv('/home/docker/wrf-hydro-training/example_case/USGS_obs.csv',dtype=str)\n",
    "obs['dateTime'] = pd.to_datetime(obs['dateTime'])\n",
    "obs['streamflow_cms'] = pd.to_numeric(obs['streamflow_cms'])"
   ]
  },
  {
   "cell_type": "markdown",
   "metadata": {},
   "source": [
    "**Plot the hydrographs folr the below outlet gage:**\n",
    "\n",
    "**Table 1. USGS Stream Gage IDs and associated WRF-Hydro feature_id indices.**\n",
    "\n",
    "|USGS Gage ID|WRF-Hydro gage feature_id|Gage Information|\n",
    "|------|:-:|---|\n",
    "| 13010065 | 23123539 |https://waterdata.usgs.gov/nwis/dv/?site_no=13010065&referred_module=sw"
   ]
  },
  {
   "cell_type": "code",
   "execution_count": null,
   "metadata": {},
   "outputs": [],
   "source": [
    "%%time\n",
    "# Plot the baseline hydrograph\n",
    "fig, axes = plt.subplots(ncols=1,figsize=(12, 6))\n",
    "plt.suptitle('Hydrographs for parameter experiment',fontsize=24)\n",
    "chanobs_control.sel(feature_id = 23123539).streamflow.plot(label='Control',\n",
    "                                                        color='black',\n",
    "                                                        linestyle='--')\n",
    "obs[obs['site_no'] == '13010065'].plot(x='dateTime',\n",
    "                                       y='streamflow_cms',\n",
    "                                       ax=axes,\n",
    "                                       label='Observed',\n",
    "                                       color='grey')\n",
    "plot_times = chanobs_control.time.data\n",
    "plot_time_buffer = pd.to_timedelta(2, unit='D') \n",
    "plt.xlim([plot_times.min()-plot_time_buffer, plot_times.max()+plot_time_buffer])\n",
    "plt.legend()\n",
    "plt.show()"
   ]
  },
  {
   "cell_type": "markdown",
   "metadata": {},
   "source": [
    "### Step 2: Modify NoahMP parameters using NCO tools\n",
    "\n",
    "We will create a new simulation directory for our parameter manipulation experiment. \n",
    "\n",
    "All of the parameter file edits will be done using NCO. NCO (NetCDF Operators, http://nco.sourceforge.net/) is a set of useful utilities to manipulate NetCDF files.\n",
    "\n",
    "We will modify:\\\n",
    "1.soil_properties.nc \\\n",
    "2.Fulldom_hires.nc\n",
    "\n",
    "**Step 2a: Setup the parameter experiment run directory**\n",
    "\n",
    "First make a new run directory where we can start modifying parameter files."
   ]
  },
  {
   "cell_type": "code",
   "execution_count": null,
   "metadata": {},
   "outputs": [],
   "source": [
    "%%bash\n",
    "cp -r ~/wrf-hydro-training/output/lesson5/run_default_template \\\n",
    "~/wrf-hydro-training/output/lesson5/run_parameter_mods"
   ]
  },
  {
   "cell_type": "markdown",
   "metadata": {},
   "source": [
    "**Step 2b: Use the NCO command `ncap2` to modify the *bexp* parameter values in the `soil_properties.nc` file.**\n",
    "\n",
    "Here we will use the NCO command `ncap2` to increase *bexp* by a factor of 3.0. *bexp* parameter  controls how actual conductivity is scaled from saturated conductivity based on soil water content.\n",
    "\n",
    "First, we check the current parameter values using `ncdump`."
   ]
  },
  {
   "cell_type": "markdown",
   "metadata": {},
   "source": [
    "**BEXP**"
   ]
  },
  {
   "cell_type": "markdown",
   "metadata": {},
   "source": [
    "Use `ncdump` to check the starting values of *bexp*. Note that these also vary spatially by soil type. We will increase these values by a factor of 3.0."
   ]
  },
  {
   "cell_type": "code",
   "execution_count": null,
   "metadata": {},
   "outputs": [],
   "source": [
    "%%bash\n",
    "\n",
    "ncdump -v bexp ~/wrf-hydro-training/output/lesson5/run_parameter_mods/DOMAIN/soil_properties.nc \\\n",
    "| tail -n 10"
   ]
  },
  {
   "cell_type": "code",
   "execution_count": null,
   "metadata": {},
   "outputs": [],
   "source": [
    "%%bash\n",
    "\n",
    "ncap2 -O -s \"bexp=float(bexp*3)\" \\\n",
    "~/wrf-hydro-training/output/lesson5/run_parameter_mods/DOMAIN/soil_properties.nc \\\n",
    "~/wrf-hydro-training/output/lesson5/run_parameter_mods/DOMAIN/soil_properties.nc\n",
    "ncdump -v bexp ~/wrf-hydro-training/output/lesson5/run_parameter_mods/DOMAIN/soil_properties.nc \\\n",
    "| tail -n 10"
   ]
  },
  {
   "cell_type": "markdown",
   "metadata": {},
   "source": [
    "### Step 3: Modify terrain routing parameters using NCO tools\n",
    "\n",
    "Now we will turn our attention to the parameters that affect lateral routing behavior.\n",
    "\n",
    "**Step 3a: Use the NCO command `ncap2` to modify the *OVROUGHRTFAC* parameter values in the `Fulldom_hires.nc` file**\n",
    "\n",
    "**OVROUGHRTFAC**\n",
    "\n",
    "We will use the NCO command `ncap2` to increase the *OVROUGHRTFAC* by factor of 5.\n",
    "\n",
    "First, we check the current parameter values."
   ]
  },
  {
   "cell_type": "markdown",
   "metadata": {},
   "source": [
    "Then, we modify the parameter values using `ncap2` and confirm our changes."
   ]
  },
  {
   "cell_type": "code",
   "execution_count": null,
   "metadata": {},
   "outputs": [],
   "source": [
    "%%bash\n",
    "\n",
    "ncdump -v OVROUGHRTFAC ~/wrf-hydro-training/output/lesson5/run_parameter_mods/DOMAIN/Fulldom_hires.nc \\\n",
    "| tail -n 10"
   ]
  },
  {
   "cell_type": "code",
   "execution_count": null,
   "metadata": {},
   "outputs": [],
   "source": [
    "%%bash\n",
    "\n",
    "ncap2 -O -s \"OVROUGHRTFAC=float(OVROUGHRTFAC*5)\" \\\n",
    "~/wrf-hydro-training/output/lesson5/run_parameter_mods/DOMAIN/Fulldom_hires.nc \\\n",
    "~/wrf-hydro-training/output/lesson5/run_parameter_mods/DOMAIN/Fulldom_hires.nc"
   ]
  },
  {
   "cell_type": "code",
   "execution_count": null,
   "metadata": {},
   "outputs": [],
   "source": [
    "%%bash\n",
    "ncdump -v OVROUGHRTFAC ~/wrf-hydro-training/output/lesson5/run_parameter_mods/DOMAIN/Fulldom_hires.nc \\\n",
    "| tail -n 10"
   ]
  },
  {
   "cell_type": "markdown",
   "metadata": {},
   "source": [
    "**Step 3b: Run the simulation**\n",
    "\n",
    "Now we are ready to run a simulation with our new modified parameters."
   ]
  },
  {
   "cell_type": "code",
   "execution_count": null,
   "metadata": {},
   "outputs": [],
   "source": [
    "%%bash\n",
    "cd ~/wrf-hydro-training/output/lesson5/run_parameter_mods\n",
    "mpirun -np 8 ./wrf_hydro.exe >> run.log 2>&1"
   ]
  },
  {
   "cell_type": "markdown",
   "metadata": {},
   "source": [
    "Check to make sure your run completed successfully."
   ]
  },
  {
   "cell_type": "code",
   "execution_count": null,
   "metadata": {},
   "outputs": [],
   "source": [
    "%%bash\n",
    "\n",
    "tail -1 ~/wrf-hydro-training/output/lesson5/run_parameter_mods/diag_hydro.00000"
   ]
  },
  {
   "cell_type": "markdown",
   "metadata": {},
   "source": [
    "### Results\n",
    "We will now look at the differences in streamflow between our baseline run with default parmeters and the simulation using our new modified parameters.\n",
    "\n",
    "We will use Python and the `xarray` library to load the data and plot hydrographs. For an intro to these tools, please see [Lesson 3](Lesson-3-visualize.ipynb)."
   ]
  },
  {
   "cell_type": "markdown",
   "metadata": {},
   "source": [
    "**Load the CHANOBS streamflow datasets**\n",
    "\n",
    "We are going to use the CHANOBS files because it will limit the number of grid cells to only those which we have specified have a gage."
   ]
  },
  {
   "cell_type": "code",
   "execution_count": null,
   "metadata": {},
   "outputs": [],
   "source": [
    "%%time\n",
    "# Pull the channel output files into xarray objects \n",
    "chanobs_param_mods = xr.open_mfdataset('/home/docker/wrf-hydro-training/output/lesson5/run_parameter_mods/*CHANOBS*',\n",
    "                                       combine='by_coords')"
   ]
  },
  {
   "cell_type": "markdown",
   "metadata": {},
   "source": [
    "**Plot the hydrographs**"
   ]
  },
  {
   "cell_type": "code",
   "execution_count": null,
   "metadata": {},
   "outputs": [],
   "source": [
    "%%time\n",
    "fig, axes = plt.subplots(ncols=1,figsize=(12, 6))\n",
    "plt.suptitle('Hydrographs for parameter experiment: OVROUGHRTFAC, bexp',fontsize=24)\n",
    "chanobs_control.sel(feature_id = 23123539).streamflow.plot(label='Control',\n",
    "                                                    color='black',\n",
    "                                                    linestyle='--')\n",
    "chanobs_param_mods.sel(feature_id = 23123539).streamflow.plot(label='Parameter Modifications',\n",
    "                                                       color='red',\n",
    "                                                       linestyle='-')\n",
    "obs[obs['site_no'] == '13010065'].plot(x='dateTime',\n",
    "                                       y='streamflow_cms',\n",
    "                                       ax=axes,\n",
    "                                       label='Observed',\n",
    "                                       color='grey')\n",
    "plot_times = chanobs_control.time.data\n",
    "plot_time_buffer = pd.to_timedelta(2, unit='D') \n",
    "plt.xlim([plot_times.min()-plot_time_buffer, plot_times.max()+plot_time_buffer])\n",
    "plt.legend()\n",
    "plt.show()"
   ]
  },
  {
   "cell_type": "markdown",
   "metadata": {},
   "source": [
    "We see definite differences between the streamflow responses with and without parameter modifications (red solid and black dashed lines, respectively). The low streamflow bias in the original run (black) is mitigated in the \"calibrated\" run (red).\n",
    "\n",
    "**Load the LDASOUT land model output files**\n",
    "\n",
    "In our simulations, we specified land surface model output (LDASOUT) files once per day. We will read those in using xarray."
   ]
  },
  {
   "cell_type": "code",
   "execution_count": null,
   "metadata": {},
   "outputs": [],
   "source": [
    "ldasout_baseline = xr.open_mfdataset('/home/docker/wrf-hydro-training/output/lesson5/run_parameter_baseline/*.LDASOUT*',\n",
    "                            combine='by_coords')\n",
    "ldasout_mods = xr.open_mfdataset('/home/docker/wrf-hydro-training/output/lesson5/run_parameter_mods/*.LDASOUT*',\n",
    "                            combine='by_coords')"
   ]
  },
  {
   "cell_type": "markdown",
   "metadata": {},
   "source": [
    "**Plot the mean soil moisture time series**"
   ]
  },
  {
   "cell_type": "code",
   "execution_count": null,
   "metadata": {},
   "outputs": [],
   "source": [
    "# Calculate the mean bottom-layer soil moisture across the domain\n",
    "smois_baseline_avg = ldasout_baseline.SOIL_M.sel(soil_layers_stag = 3).mean(dim=('y','x'))\n",
    "smois_mods_avg = ldasout_mods.SOIL_M.sel(soil_layers_stag = 3).mean(dim=('y','x')) \n",
    "\n",
    "# Plot the soil moisture time series\n",
    "fig, axes = plt.subplots(ncols=1,figsize=(12, 6))\n",
    "plt.suptitle('Average Soil Moisture: Bottom Layer',fontsize=24)\n",
    "smois_baseline_avg.plot(label='Control', color='black', linestyle='--')\n",
    "smois_mods_avg.plot(label='Parameter Modifications', color='red', linestyle='-')\n",
    "plt.legend()\n",
    "plt.show()"
   ]
  },
  {
   "cell_type": "markdown",
   "metadata": {},
   "source": [
    "In the \"calibrated\" simulation, we are partitoning more water to surface runoff and encouraging faster vertical and lateral soil water drainage. Both parameter modifications result in less water being stored in the soil column, as shown in the soil moisture plot above, and more water going to streamflow."
   ]
  },
  {
   "cell_type": "markdown",
   "metadata": {},
   "source": [
    "### Discussion\n",
    "Our baseline simulation with default parameters had an initial high recessions during July and August. We increased *OVROUGHRTFAC*, multiplier on Manning’s roughness (OV_ROUGH in HYDRO.TBL or OV_ROUGH2D hydro2dtbl.nc), to better match our activated terrain physics and encourage less surface runoff. The overland flow roughness parameter affects the speed of overland transmitters downstream. \n",
    "\n",
    "We increased *bexp* or pore size distribution index to reduce baseflow. It dependents on soil texture, particularly clay fraction, controlling the vertical drainage rate. Both smcmax and bexp can greatly impact the dry-period water drainage rate (July and August). The parameter bexp that controls the speed of flows through the soil column. Large pore size distribution (BEXP) speeds vertical routing within deep soil layers and thus short-lasting baseflows. Our modified parameter experiment results do better match the gage observations, though we still have some issues predicting high flow during June. It could likely be due to inappropriate rainfall/snow partitioning resulted from forcing uncertainties.\n",
    "\n",
    "**IMPORTANT NOTE**: We abbreviated this parameter calibration exercise to fit within a short lesson. In practice, you would want to give the model time to adjust to a new parameter set by running an extended \"spin-up\" period before the time period you are evaluating. You would also want to expose the model to a wider range of conditions than the short event demostrated here. Model parameters calibrated to a short event may not transfer well to other time periods. Good practice is to calibrate your model to a wide range of conditions to minimize the impacts of forcing, gage, or model physics/parameter uncertainties."
   ]
  },
  {
   "cell_type": "markdown",
   "metadata": {},
   "source": [
    "### Other Commonly Calibrated Parameters\n",
    "\n",
    "**SLOPE**\n",
    "\n",
    "There are a number of Noah/NoahMP model parameters that affect water partitioning. One important parameter that we commonly adjust is *slope*. Originally estimated based on land surface topography (hence the name *slope*), the *slope* parameter controls how open or closed the bottom boundary of the soil column is. It is a multiplier on the bottom boundary conductivity. Values range from 0 to 1, where 0 is a completely closed bottom boundary and 1 is completely open. Lower *slope* values will keep more water in the soil column, while higher values will allow more water to drain to the channel or to deeper baseflow stores, depending on the selected baseflow physics options.\n",
    "\n",
    "**SMCMAX, SMCREF, SMCWLT**\n",
    "\n",
    "Soil water holding capacity is controlled by the porosity (*smcmax*), field capacity (*smcref*), and wilting point (*smcwlt*). These properties are specified by soil texture class, but also vary significantly in space so can be calibrated.\n"
   ]
  },
  {
   "cell_type": "markdown",
   "metadata": {},
   "source": [
    "# Next up - Do it yourself!\n",
    "This concludes Lesson 5. Spend some time creating your own parameter experiments.\n",
    "\n",
    "The next lesson is [Lesson 6](Lesson-6-lakes.ipynb).\n",
    "\n",
    "**IT IS BEST TO EITHER SHUTDOWN THIS LESSON OR CLOSE IT BEFORE PROCEEDING TO THE NEXT LESSON TO AVOID POSSIBLY EXCEEDING ALLOCATED MEMORY. Shutdown the lesson be either closing the browser tab for the lesson or selecting `Kernel -> Shut Down Kernel` in JupyterLab.**\n",
    "\n",
    "© UCAR 2020"
   ]
  }
 ],
 "metadata": {
  "kernelspec": {
   "display_name": "Python 3",
   "language": "python",
   "name": "python3"
  },
  "language_info": {
   "codemirror_mode": {
    "name": "ipython",
    "version": 3
   },
   "file_extension": ".py",
   "mimetype": "text/x-python",
   "name": "python",
   "nbconvert_exporter": "python",
   "pygments_lexer": "ipython3",
   "version": "3.8.3"
  },
  "toc": {
   "base_numbering": 1,
   "nav_menu": {},
   "number_sections": true,
   "sideBar": true,
   "skip_h1_title": true,
   "title_cell": "Table of Contents",
   "title_sidebar": "Contents",
   "toc_cell": true,
   "toc_position": {
    "height": "calc(100% - 180px)",
    "left": "10px",
    "top": "150px",
    "width": "414px"
   },
   "toc_section_display": true,
   "toc_window_display": true
  }
 },
 "nbformat": 4,
 "nbformat_minor": 4
}
