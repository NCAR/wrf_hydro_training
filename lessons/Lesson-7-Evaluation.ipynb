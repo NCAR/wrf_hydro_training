{
 "cells": [
  {
   "cell_type": "markdown",
   "metadata": {},
   "source": [
    "# Lesson 7: Investigating the results of the iES runs\n",
    "\n",
    "Now that the model iES run is finished, we will look into the progress of objective function (phi) with iteration, as well as the model performance (only KGE) at the best iteration. "
   ]
  },
  {
   "cell_type": "code",
   "execution_count": null,
   "metadata": {},
   "outputs": [],
   "source": [
    "import pandas as pd\n",
    "import pyemu\n",
    "import sys\n",
    "import shutil\n",
    "import os\n",
    "import numpy as np\n",
    "from pathlib import Path\n",
    "from datetime import datetime as dt\n",
    "import matplotlib.pyplot as plt\n",
    "from matplotlib.backends.backend_pdf import PdfPages\n",
    "from pytsproc import filters, series_metrics\n",
    "plt.rcParams['font.size']=12\n",
    "%matplotlib inline\n",
    "import warnings\n",
    "warnings.filterwarnings(\"ignore\", category=DeprecationWarning)"
   ]
  },
  {
   "cell_type": "code",
   "execution_count": null,
   "metadata": {},
   "outputs": [],
   "source": [
    "kge_calc = pyemu.metrics._KGE"
   ]
  },
  {
   "cell_type": "markdown",
   "metadata": {},
   "source": [
    "Let us define where the output directory of the iES experiment is, and also the path where the figures will be saved for this lesson. "
   ]
  },
  {
   "cell_type": "code",
   "execution_count": null,
   "metadata": {},
   "outputs": [],
   "source": [
    "test_root = 'wrfpst' \n",
    "wkdir = Path('/home/docker/wrf-hydro-training/output/lesson6/host') # original host directory\n",
    "outdir = Path('/home/docker/wrf-hydro-training/output/lesson7/plots')\n",
    "if not os.path.exists(outdir):\n",
    "    outdir.mkdir(parents = True)"
   ]
  },
  {
   "cell_type": "markdown",
   "metadata": {},
   "source": [
    "## Read in the phi of ensemble \n",
    "We will read the phi values for all the iterations."
   ]
  },
  {
   "cell_type": "code",
   "execution_count": null,
   "metadata": {},
   "outputs": [],
   "source": [
    "phi = pd.read_csv(wkdir / f'{test_root}.phi.actual.csv')"
   ]
  },
  {
   "cell_type": "code",
   "execution_count": null,
   "metadata": {},
   "outputs": [],
   "source": [
    "phi"
   ]
  },
  {
   "cell_type": "code",
   "execution_count": null,
   "metadata": {},
   "outputs": [],
   "source": [
    "plt.figure(figsize=(6,4))\n",
    "ax = phi['base'].plot(legend=False, lw=1.5, color='r', label='base')\n",
    "phi.iloc[:,6:7].plot(legend=False,lw=0.5,color='k',alpha=0.15,label='realizations', ax = ax)\n",
    "plt.legend(['base','realizations'])\n",
    "phi.iloc[:,6:].plot(legend=False,lw=0.5,alpha=0.15,color='k', ax = ax)\n",
    "phi['base'].plot(legend=False, lw=1.5, color='r', ax=ax)\n",
    "plt.ylabel('Phi')\n",
    "plt.xlabel('iES iteration')\n",
    "plt.xticks(ticks=np.arange(3))\n",
    "ax.axes.tick_params(length=7, direction='in', right=True, top=True)\n",
    "plt.legend(['base','realizations'], title='EXPLANATION', frameon=False, bbox_to_anchor =(0.97, 0.95))\n"
   ]
  },
  {
   "cell_type": "markdown",
   "metadata": {},
   "source": [
    "### Define what iteration is the best\n",
    "\n",
    "This is so going forward we plot the information related to this iteration. "
   ]
  },
  {
   "cell_type": "code",
   "execution_count": null,
   "metadata": {},
   "outputs": [],
   "source": [
    "best_iter=2\n",
    "phivec = phi.loc[best_iter][5:].copy().dropna()"
   ]
  },
  {
   "cell_type": "code",
   "execution_count": null,
   "metadata": {},
   "outputs": [],
   "source": [
    "phivec.hist(bins=5)"
   ]
  },
  {
   "cell_type": "markdown",
   "metadata": {},
   "source": [
    "### Rejection sampling \n",
    "\n",
    "We usually do not use all the ensemble members if there is a ensemble size is large, \n",
    "however, this training has only 30 members to start with, which a few were dropped at the rejection sampling step prior to the iES. \n",
    "We will drop any members with phi values higher than 500 going forward."
   ]
  },
  {
   "cell_type": "code",
   "execution_count": null,
   "metadata": {},
   "outputs": [],
   "source": [
    "phi_too_high = 100"
   ]
  },
  {
   "cell_type": "code",
   "execution_count": null,
   "metadata": {},
   "outputs": [],
   "source": [
    "fig, ax = plt.subplots(1,2, figsize=(6,4))\n",
    "phivec.hist(bins=3, ax=ax[0])\n",
    "ax[0].axvline(phi_too_high, color='k', label='cutoff PHI')\n",
    "ax[0].legend()\n",
    "ax[0].set_ylabel('Frequency')\n",
    "print('Number of reals before rejection sampling: {}'.format(len(phivec)))\n",
    "phivec = phivec[phivec<phi_too_high]\n",
    "print('Number of reals after rejection sampling: {}'.format(len(phivec)))\n",
    "phivec.hist(bins=50, ax=ax[1])\n",
    "ax[1].set_xlim(ax[0].get_xlim())\n",
    "ax[0].set_xlabel('Realization PHI')\n",
    "ax[1].set_xlabel('Realization PHI')\n",
    "ax[0].set_title('PHI distribution')\n",
    "ax[1].set_title('PHI distribution trimmed')\n",
    "\n",
    "handles, labels = ax[0].get_legend_handles_labels()\n",
    "ax[0].legend(handles, labels, loc='best')"
   ]
  },
  {
   "cell_type": "code",
   "execution_count": null,
   "metadata": {},
   "outputs": [],
   "source": [
    "reals_to_keep = phivec.index.values\n",
    "reals_to_keep"
   ]
  },
  {
   "cell_type": "markdown",
   "metadata": {},
   "source": [
    "## Read in the ensemble of model simulations "
   ]
  },
  {
   "cell_type": "code",
   "execution_count": null,
   "metadata": {},
   "outputs": [],
   "source": [
    "if not os.path.exists(wkdir / f'{test_root}.{best_iter}.obs.csv'):\n",
    "    with tarfile.open(wkdir / f'{test_root}.{best_iter}.obs.csv.tar') as ctar:\n",
    "        ctar.extractall(wkdir)\n",
    "obens = pd.read_csv(wkdir / f'{test_root}.{best_iter}.obs.csv', index_col=0, dtype={'real_name':str})"
   ]
  },
  {
   "cell_type": "code",
   "execution_count": null,
   "metadata": {},
   "outputs": [],
   "source": [
    "print(len(obens))\n",
    "obens=obens.loc[reals_to_keep]\n",
    "print(len(obens))"
   ]
  },
  {
   "cell_type": "code",
   "execution_count": null,
   "metadata": {},
   "outputs": [],
   "source": [
    "obens"
   ]
  },
  {
   "cell_type": "markdown",
   "metadata": {},
   "source": [
    "The first entry of the observation is the kge values calculated through the post processing script. We display the KGE values which are for duration of the calibration period. "
   ]
  },
  {
   "cell_type": "code",
   "execution_count": null,
   "metadata": {},
   "outputs": [],
   "source": [
    "kge = obens.kge"
   ]
  },
  {
   "cell_type": "code",
   "execution_count": null,
   "metadata": {},
   "outputs": [],
   "source": [
    "kge.hist(bins=5)"
   ]
  },
  {
   "cell_type": "code",
   "execution_count": null,
   "metadata": {},
   "outputs": [],
   "source": [
    "# Function for parsing the name of the observation \n",
    "def parsename(cn):\n",
    "    '''\n",
    "    parse the dates from the WRF_hydro obs names\n",
    "    '''\n",
    "    tmp = cn.replace('obs_','')\n",
    "    return dt.strptime(tmp, '%Y%m%d_%H0000')"
   ]
  },
  {
   "cell_type": "code",
   "execution_count": null,
   "metadata": {},
   "outputs": [],
   "source": [
    "obens = obens[obens.columns[1:]]\n",
    "obens = obens.T\n",
    "\n",
    "datetime = [parsename(i) for i in obens.index]\n",
    "obens.index = datetime"
   ]
  },
  {
   "cell_type": "markdown",
   "metadata": {},
   "source": [
    "# Plot the streamflow ensemble "
   ]
  },
  {
   "cell_type": "markdown",
   "metadata": {},
   "source": [
    "First let's read the observation. We define a simple function to read the observation to be used for plotting. "
   ]
  },
  {
   "cell_type": "code",
   "execution_count": null,
   "metadata": {},
   "outputs": [],
   "source": [
    "\n",
    "\n",
    "# Function for reading streamflow values \n",
    "def get_obs_df(wkdir):\n",
    "    '''\n",
    "    read in the observations and return a df with KGE removed and \n",
    "    index set as the datetime\n",
    "    '''\n",
    "    obs= pd.read_csv(wkdir / 'wrfpst.obs_data.csv')\n",
    "\n",
    "        \n",
    "    kge = obs.iloc[0]\n",
    "    obs= obs.iloc[1:]\n",
    "\n",
    "\n",
    "    obs['datetime'] = [parsename(i) for i in obs.obsnme]\n",
    "    obs.set_index(obs.datetime, inplace=True)\n",
    "\n",
    "    # set missing values as nan\n",
    "    obs.loc[obs.obsval<0, 'obsval'] = np.nan\n",
    "\n",
    "    return obs\n",
    "\n",
    "obs= get_obs_df(wkdir)\n",
    "obs"
   ]
  },
  {
   "cell_type": "markdown",
   "metadata": {},
   "source": [
    "## Let's join the observation to the model simulations "
   ]
  },
  {
   "cell_type": "code",
   "execution_count": null,
   "metadata": {},
   "outputs": [],
   "source": [
    "# bring in the observed values\n",
    "obens = obens.join(obs.obsval)"
   ]
  },
  {
   "cell_type": "code",
   "execution_count": null,
   "metadata": {},
   "outputs": [],
   "source": [
    "obens"
   ]
  },
  {
   "cell_type": "code",
   "execution_count": null,
   "metadata": {},
   "outputs": [],
   "source": [
    "with PdfPages(outdir / 'ens_monthly.pdf') as outpdf:\n",
    "    for cn, cg in obens.groupby(pd.Grouper(freq=\"M\")):\n",
    "        print(f'plotting {cn.month:02d}/{cn.year}\\r', end='')\n",
    "        ax = cg.obsval.plot(color='orange', lw=1.5, figsize=(10,5), label='Observation')\n",
    "        cg.base.plot(ax=ax, lw = 1.5, color='blue', label='Base Realization')\n",
    "        cg.plot(color='k', lw=.6, alpha=.2, ax=ax, legend=False, label='Realizations')\n",
    "        plt.legend(labels=['Observation','Base Realization','Realizations'])\n",
    "        plt.title(f'{cn.month}/{cn.year}')\n",
    "        plt.tight_layout()\n",
    "        ax.set_ylim([0,500])\n",
    "        outpdf.savefig()\n",
    "        plt.show()\n",
    "        plt.close('all')"
   ]
  },
  {
   "cell_type": "code",
   "execution_count": null,
   "metadata": {},
   "outputs": [],
   "source": [
    "with PdfPages(outdir / 'ens_monthly_log10.pdf') as outpdf:\n",
    "    for cn, cg in obens.groupby(pd.Grouper(freq=\"M\")):\n",
    "        print(f'plotting {cn.month:02d}/{cn.year}\\r', end='')\n",
    "        ax = cg.obsval.apply(np.log10).plot(color='orange', lw=1.5, figsize=(10,5), label='Observation')\n",
    "        cg.base.apply(np.log10).plot(ax=ax, lw = 1.5, color='blue', label='Base Realization')\n",
    "        cg.apply(np.log10).plot(color='k', lw=.6, alpha=.2, ax=ax, legend=False, label='Realizations')\n",
    "        plt.legend(labels=['Observation','Base Realization','Realizations'])\n",
    "        plt.title(f'{cn.month}/{cn.year}')\n",
    "        plt.tight_layout()\n",
    "        ax.set_ylim([0,np.log10(500)])\n",
    "        outpdf.savefig()\n",
    "        plt.show()\n",
    "        plt.close('all')\n"
   ]
  },
  {
   "cell_type": "markdown",
   "metadata": {},
   "source": [
    "# Check KGE of calibration and validation periods independently"
   ]
  },
  {
   "cell_type": "code",
   "execution_count": null,
   "metadata": {},
   "outputs": [],
   "source": [
    "obsval= obens['obsval']\n",
    "ens_all = obens[[i for i in obens.columns if ('obs' not in i) & ('ens' not in i)]]"
   ]
  },
  {
   "cell_type": "code",
   "execution_count": null,
   "metadata": {},
   "outputs": [],
   "source": [
    "val_kge = {}\n",
    "reals = ens_all.columns\n",
    "kge_out = [kge_calc(ens_all.loc[(obens.index>='2018-08-02') & (obens.index<'2018-08-10')][i],\n",
    "                        obsval.loc[(obens.index>='2018-08-02') & (obens.index<'2018-08-10')]) for i in reals]\n",
    "val_kge = pd.DataFrame({'real':reals,\n",
    "                           'kge':kge_out})\n",
    "val_kge.set_index('real', drop=True, inplace=True)"
   ]
  },
  {
   "cell_type": "code",
   "execution_count": null,
   "metadata": {},
   "outputs": [],
   "source": [
    "cal_kge = {}\n",
    "reals = ens_all.columns\n",
    "kge_out = [kge_calc(ens_all.loc[obens.index>='2018-08-10'][i],\n",
    "                        obsval.loc[obens.index>='2018-08-10']) for i in reals]\n",
    "cal_kge = pd.DataFrame({'real':reals,\n",
    "                           'kge':kge_out})\n",
    "cal_kge.set_index('real', drop=True, inplace=True)"
   ]
  },
  {
   "cell_type": "code",
   "execution_count": null,
   "metadata": {},
   "outputs": [],
   "source": [
    "fig, ax = plt.subplots(2,1, figsize=(8,8))\n",
    "\n",
    "cal_kge.hist(ax=ax[0])\n",
    "ax[0].set_xlim((0,1))\n",
    "ax[0].set_title('Calibration')\n",
    "\n",
    "val_kge.hist( ax=ax[1])\n",
    "ax[1].set_xlim((0,1))\n",
    "ax[1].set_title('Validation')\n",
    "\n",
    "ax[1].set_xlabel('KGE', fontweight ='bold')"
   ]
  },
  {
   "cell_type": "code",
   "execution_count": null,
   "metadata": {},
   "outputs": [],
   "source": []
  }
 ],
 "metadata": {
  "kernelspec": {
   "display_name": "Python 3",
   "language": "python",
   "name": "python3"
  },
  "language_info": {
   "codemirror_mode": {
    "name": "ipython",
    "version": 3
   },
   "file_extension": ".py",
   "mimetype": "text/x-python",
   "name": "python",
   "nbconvert_exporter": "python",
   "pygments_lexer": "ipython3",
   "version": "3.8.3"
  }
 },
 "nbformat": 4,
 "nbformat_minor": 5
}
