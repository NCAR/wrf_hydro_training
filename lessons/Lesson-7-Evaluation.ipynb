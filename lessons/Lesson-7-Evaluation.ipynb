{
 "cells": [
  {
   "cell_type": "markdown",
   "metadata": {},
   "source": [
    "# Lesson 7: Investigating the results of the IES runs"
   ]
  },
  {
   "cell_type": "code",
   "execution_count": null,
   "metadata": {},
   "outputs": [],
   "source": [
    "import pandas as pd\n",
    "import pyemu\n",
    "import sys\n",
    "import shutil\n",
    "import os\n",
    "import numpy as np\n",
    "from pathlib import Path\n",
    "from datetime import datetime as dt\n",
    "from matplotlib.backends.backend_pdf import PdfPages\n",
    "import matplotlib.pyplot as plt\n",
    "import matplotlib as mpl\n",
    "#sys.path.append('../scripts/')\n",
    "sys.path.append(os.path.abspath('../scripts/'))\n",
    "from obs_helper import get_obs_df, parsename\n",
    "from pytsproc import filters, series_metrics\n",
    "plt.rcParams['font.size']=12\n",
    "%matplotlib inline\n",
    "import warnings\n",
    "warnings.filterwarnings(\"ignore\", category=DeprecationWarning)"
   ]
  },
  {
   "cell_type": "code",
   "execution_count": null,
   "metadata": {},
   "outputs": [],
   "source": [
    "kge_calc = pyemu.metrics._KGE"
   ]
  },
  {
   "cell_type": "code",
   "execution_count": null,
   "metadata": {},
   "outputs": [],
   "source": [
    "test_root = 'wrfpst' # base name for the run\n",
    "wkdir = Path('/home/docker/wrf-hydro-training/output/lesson6/host') # original host directory\n",
    "outdir = Path('/home/docker/wrf-hydro-training/output/lesson7/plots')\n",
    "if not os.path.exists(outdir):\n",
    "    outdir.mkdir()"
   ]
  },
  {
   "cell_type": "markdown",
   "metadata": {},
   "source": [
    "# read in the observed values"
   ]
  },
  {
   "cell_type": "code",
   "execution_count": null,
   "metadata": {},
   "outputs": [],
   "source": [
    "obs= get_obs_df(Path('/home/docker/wrf-hydro-training/output/lesson6/worker_0/'))"
   ]
  },
  {
   "cell_type": "code",
   "execution_count": null,
   "metadata": {},
   "outputs": [],
   "source": [
    "obs"
   ]
  },
  {
   "cell_type": "markdown",
   "metadata": {},
   "source": [
    "# read in the phi of ensemble"
   ]
  },
  {
   "cell_type": "code",
   "execution_count": null,
   "metadata": {},
   "outputs": [],
   "source": [
    "phi = pd.read_csv(wkdir / f'{test_root}.phi.actual.csv')"
   ]
  },
  {
   "cell_type": "code",
   "execution_count": null,
   "metadata": {},
   "outputs": [],
   "source": [
    "phi"
   ]
  },
  {
   "cell_type": "code",
   "execution_count": null,
   "metadata": {},
   "outputs": [],
   "source": [
    "plt.figure(figsize=(6,4))\n",
    "ax = phi['base'].plot(legend=False, lw=1.5, color='r', label='base')\n",
    "phi.iloc[:,6:7].plot(legend=False,lw=0.5,color='k',alpha=0.15,label='realizations', ax = ax)\n",
    "plt.legend(['base','realizations'])\n",
    "phi.iloc[:,6:].plot(legend=False,lw=0.5,alpha=0.15,color='k', ax = ax)\n",
    "phi['base'].plot(legend=False, lw=1.5, color='r', ax=ax)\n",
    "plt.ylabel('Phi')\n",
    "plt.xlabel('iES iteration')\n",
    "plt.xticks(ticks=np.arange(4))\n",
    "ax.axes.tick_params(length=7, direction='in', right=True, top=True)\n",
    "plt.legend(['base','realizations'], title='EXPLANATION', frameon=False, bbox_to_anchor =(0.97, 0.95))\n"
   ]
  },
  {
   "cell_type": "code",
   "execution_count": null,
   "metadata": {},
   "outputs": [],
   "source": [
    "best_iter=3\n",
    "phivec = phi.loc[best_iter][5:].copy().dropna()\n"
   ]
  },
  {
   "cell_type": "code",
   "execution_count": null,
   "metadata": {},
   "outputs": [],
   "source": [
    "phivec.hist(bins=5)"
   ]
  },
  {
   "cell_type": "code",
   "execution_count": null,
   "metadata": {},
   "outputs": [],
   "source": [
    "phi_too_high = 903100000\n"
   ]
  },
  {
   "cell_type": "code",
   "execution_count": null,
   "metadata": {},
   "outputs": [],
   "source": [
    "fig, ax = plt.subplots(1,2, figsize=(6,4))\n",
    "phivec.hist(bins=3, ax=ax[0])\n",
    "ax[0].axvline(phi_too_high, color='k', label='cutoff PHI')\n",
    "ax[0].legend()\n",
    "ax[0].set_ylabel('Frequency')\n",
    "print('Number of reals before rejection sampling: {}'.format(len(phivec)))\n",
    "phivec = phivec[phivec<phi_too_high]\n",
    "print('Number of reals after rejection sampling: {}'.format(len(phivec)))\n",
    "phivec.hist(bins=50, ax=ax[1])\n",
    "ax[1].set_xlim(ax[0].get_xlim())\n",
    "ax[0].set_xlabel('Realization PHI')\n",
    "ax[1].set_xlabel('Realization PHI')\n",
    "ax[0].set_title('PHI distribution')\n",
    "ax[1].set_title('PHI distribution trimmed')\n",
    "\n",
    "handles, labels = ax[0].get_legend_handles_labels()\n",
    "ax[0].legend(handles, labels, loc='best')"
   ]
  },
  {
   "cell_type": "code",
   "execution_count": null,
   "metadata": {},
   "outputs": [],
   "source": [
    "reals_to_keep = phivec.index.values\n",
    "reals_to_keep"
   ]
  },
  {
   "cell_type": "markdown",
   "metadata": {},
   "source": [
    "# read in the ensemble"
   ]
  },
  {
   "cell_type": "code",
   "execution_count": null,
   "metadata": {},
   "outputs": [],
   "source": [
    "\n",
    "if not os.path.exists(wkdir / f'{test_root}.{best_iter}.obs.csv'):\n",
    "    with tarfile.open(wkdir / f'{test_root}.{best_iter}.obs.csv.tar') as ctar:\n",
    "        ctar.extractall(wkdir)\n",
    "obens = pd.read_csv(wkdir / f'{test_root}.{best_iter}.obs.csv', index_col=0, dtype={'real_name':str})"
   ]
  },
  {
   "cell_type": "code",
   "execution_count": null,
   "metadata": {},
   "outputs": [],
   "source": [
    "print(len(obens))\n",
    "obens=obens.loc[reals_to_keep]\n",
    "print(len(obens))"
   ]
  },
  {
   "cell_type": "code",
   "execution_count": null,
   "metadata": {},
   "outputs": [],
   "source": [
    "obens"
   ]
  },
  {
   "cell_type": "code",
   "execution_count": null,
   "metadata": {},
   "outputs": [],
   "source": [
    "kge = obens.kge"
   ]
  },
  {
   "cell_type": "code",
   "execution_count": null,
   "metadata": {},
   "outputs": [],
   "source": [
    "kge.hist(bins=5)"
   ]
  },
  {
   "cell_type": "code",
   "execution_count": null,
   "metadata": {},
   "outputs": [],
   "source": [
    "obens = obens[obens.columns[1:]]\n",
    "obens = obens.T\n",
    "datetime = [parsename(i) for i in obens.index]\n",
    "obens.index = datetime"
   ]
  },
  {
   "cell_type": "markdown",
   "metadata": {},
   "source": [
    "# Grab a random subset of columns to plot"
   ]
  },
  {
   "cell_type": "code",
   "execution_count": null,
   "metadata": {},
   "outputs": [],
   "source": [
    "obens.columns"
   ]
  },
  {
   "cell_type": "markdown",
   "metadata": {},
   "source": [
    "### run one of the following two blocks to indicate which ensemble individual mambers to plot"
   ]
  },
  {
   "cell_type": "code",
   "execution_count": null,
   "metadata": {},
   "outputs": [],
   "source": [
    "# choose random plotcols\n",
    "plotcols = np.random.choice(obens.columns[:-1],75)"
   ]
  },
  {
   "cell_type": "code",
   "execution_count": null,
   "metadata": {},
   "outputs": [],
   "source": [
    "# or choose best plotcols based on kge\n",
    "best_res = 25\n",
    "plotcols = kge.sort_values().iloc[-best_res:].index"
   ]
  },
  {
   "cell_type": "code",
   "execution_count": null,
   "metadata": {},
   "outputs": [],
   "source": [
    "# get bounds of the ensemble\n",
    "obens['min_ens'] = obens.min(axis=1)\n",
    "obens['max_ens'] = obens.max(axis=1)\n",
    "plt.fill_between(obens.index, obens.min_ens,obens.max_ens, alpha=.8)"
   ]
  },
  {
   "cell_type": "code",
   "execution_count": null,
   "metadata": {},
   "outputs": [],
   "source": [
    "obens"
   ]
  },
  {
   "cell_type": "code",
   "execution_count": null,
   "metadata": {},
   "outputs": [],
   "source": [
    "# bring in the observed values\n",
    "obens = obens.join(obs.obsval)\n",
    "#obens = obens.join(obs, rsuffix='_obs')\n"
   ]
  },
  {
   "cell_type": "code",
   "execution_count": null,
   "metadata": {},
   "outputs": [],
   "source": [
    "obens"
   ]
  },
  {
   "cell_type": "code",
   "execution_count": null,
   "metadata": {},
   "outputs": [],
   "source": [
    "with PdfPages(outdir / 'ens_monthly_VALIDATION.pdf') as outpdf:\n",
    "    for cn, cg in obens.loc[(obens.index>='2018-08-01') & (obens.index<'2018-08-31')].groupby(pd.Grouper(freq=\"M\")):\n",
    "        print(f'plotting {cn.month:02d}/{cn.year}\\r', end='')\n",
    "        ax = cg.obsval.plot(color='orange', lw=1.5, figsize=(10,5), label='Observation')\n",
    "        ax.fill_between(cg.index, cg.min_ens,cg.max_ens, alpha=.2, label='Ensemble Band')\n",
    "        cg[plotcols[0]].plot(color='k', lw=.6, alpha=.2, ax=ax, legend=False, label='Select Realizations')\n",
    "        #cg.base.plot(ax=ax, lw = 1.5, color='blue', label='Base Realization')\n",
    "        plt.legend()\n",
    "        cg[plotcols].plot(color='k', lw=.2, alpha=.5, ax=ax, legend=False, label=None)\n",
    "        plt.title(f'{cn.month}/{cn.year}')\n",
    "        plt.tight_layout()\n",
    "        plotmax = 150\n",
    "        #plotmax = np.max((500, cg.max_ens.max()))\n",
    "        ax.set_ylim([0,plotmax])\n",
    "        outpdf.savefig()\n",
    "        plt.show()\n",
    "        plt.close('all')"
   ]
  },
  {
   "cell_type": "code",
   "execution_count": null,
   "metadata": {},
   "outputs": [],
   "source": [
    "with PdfPages(outdir / 'ens_monthly_VALIDATION_log10.pdf') as outpdf:\n",
    "    for cn, cg in obens.loc[(obens.index>='2018-08-01') & (obens.index<'2018-08-31')].groupby(pd.Grouper(freq=\"M\")):\n",
    "        print(f'plotting {cn.month:02d}/{cn.year}\\r', end='')\n",
    "        ax = cg.obsval.apply(np.log10).plot(color='orange', lw=1.5, figsize=(10,5), label='Observation')\n",
    "        ax.fill_between(cg.index, cg.apply(np.log10).min_ens,cg.apply(np.log10).max_ens, alpha=.2, label='Ensemble Band')\n",
    "        \n",
    "        cg[plotcols[0]].apply(np.log10).plot(color='k', lw=.6, alpha=.2, ax=ax, legend=False, label='Select Realizations')\n",
    "        #cg.base.apply(np.log10).plot(ax=ax, lw = 1.5, color='blue', label='Base Realization')\n",
    "        plt.legend()\n",
    "        cg[plotcols].apply(np.log10).plot(color='k', lw=.2, alpha=.5, ax=ax, legend=False, label=None)\n",
    "        plt.title(f'{cn.month}/{cn.year}')\n",
    "        plt.tight_layout()\n",
    "        plotmax = np.max((500, cg.max_ens.max()))\n",
    "        ax.set_ylim([0,np.log10(plotmax)])\n",
    "        outpdf.savefig()\n",
    "        plt.show()\n",
    "        plt.close('all')"
   ]
  },
  {
   "cell_type": "markdown",
   "metadata": {},
   "source": [
    "# Check KGE of calibration and validation periods independently"
   ]
  },
  {
   "cell_type": "code",
   "execution_count": null,
   "metadata": {},
   "outputs": [],
   "source": [
    "obsval= obens['obsval']\n",
    "#nwm_q = obens[['nwm_optimal','nwm_initial']]\n",
    "ppp_q = obens[[i for i in obens.columns if ('nwm' not in i) & ('obs' not in i) & ('ens' not in i)]]\n",
    "ppp_q_top = obens[plotcols]"
   ]
  },
  {
   "cell_type": "code",
   "execution_count": null,
   "metadata": {},
   "outputs": [],
   "source": [
    "val_kge = {}\n",
    "for cn,ce in zip(['ppp', 'ppp_top'],[ppp_q, ppp_q_top]):\n",
    "    reals = ce.columns\n",
    "    kge_out = [kge_calc(ce.loc[(obens.index>='2018-08-05') & (obens.index<'2018-08-15')][i],\n",
    "                        obsval.loc[(obens.index>='2018-08-05') & (obens.index<'2018-08-15')]) for i in reals]\n",
    "    val_kge[cn] = pd.DataFrame({'real':reals,\n",
    "                           'kge':kge_out})\n",
    "    val_kge[cn].set_index('real', drop=True, inplace=True)"
   ]
  },
  {
   "cell_type": "code",
   "execution_count": null,
   "metadata": {},
   "outputs": [],
   "source": [
    "cal_kge = {}\n",
    "for cn,ce in zip(['ppp', 'ppp_top'],[ppp_q, ppp_q_top]):\n",
    "    reals = ce.columns\n",
    "    kge_out = [kge_calc(ce.loc[obens.index>='2018-08-15'][i],\n",
    "                        obsval.loc[obens.index>='2018-08-15']) for i in reals]\n",
    "    cal_kge[cn] = pd.DataFrame({'real':reals,\n",
    "                           'kge':kge_out})\n",
    "    cal_kge[cn].set_index('real', drop=True, inplace=True)"
   ]
  },
  {
   "cell_type": "code",
   "execution_count": null,
   "metadata": {},
   "outputs": [],
   "source": [
    "fig, ax = plt.subplots(2,1, figsize=(8,8))\n",
    "\n",
    "# calibration on top\n",
    "cal_kge['ppp'].hist(bins=50, ax=ax[0])\n",
    "ax[0].set_xlim((0,1))\n",
    "ax[0].set_title('Calibration')\n",
    "#ax[0].axvline(cal_kge['nwm'].loc['nwm_optimal', 'kge'], lw=1.5, color='orange')\n",
    "val_kge['ppp'].hist(bins=50, ax=ax[1])\n",
    "ax[1].set_xlim((0,1))\n",
    "ax[1].set_title('Validation')\n",
    "#ax[1].axvline(val_kge['nwm'].loc['nwm_optimal', 'kge'], lw=1.5, color='orange')"
   ]
  },
  {
   "cell_type": "code",
   "execution_count": null,
   "metadata": {},
   "outputs": [],
   "source": [
    "fig, ax = plt.subplots(2,1, figsize=(8,8))\n",
    "\n",
    "# calibration on top\n",
    "cal_kge['ppp_top'].hist(ax=ax[0])\n",
    "ax[0].set_xlim((0,1))\n",
    "ax[0].set_title('Calibration')\n",
    "#ax[0].axvline(cal_kge['nwm'].loc['nwm_optimal', 'kge'], lw=1.5, color='orange')\n",
    "val_kge['ppp_top'].hist( ax=ax[1])\n",
    "ax[1].set_xlim((0,1))\n",
    "ax[1].set_title('Validation')\n",
    "#ax[1].axvline(val_kge['nwm'].loc['nwm_optimal', 'kge'], lw=1.5, color='orange')"
   ]
  },
  {
   "cell_type": "markdown",
   "metadata": {},
   "source": [
    "# Explore the parameters"
   ]
  },
  {
   "cell_type": "code",
   "execution_count": null,
   "metadata": {},
   "outputs": [],
   "source": [
    "parens = pd.read_csv(wkdir / f'{test_root}.{best_iter}.par.csv', index_col=0, dtype={'real_name':str})"
   ]
  },
  {
   "cell_type": "code",
   "execution_count": null,
   "metadata": {},
   "outputs": [],
   "source": [
    "parens"
   ]
  },
  {
   "cell_type": "code",
   "execution_count": null,
   "metadata": {},
   "outputs": [],
   "source": []
  }
 ],
 "metadata": {
  "kernelspec": {
   "display_name": "Python 3",
   "language": "python",
   "name": "python3"
  },
  "language_info": {
   "codemirror_mode": {
    "name": "ipython",
    "version": 3
   },
   "file_extension": ".py",
   "mimetype": "text/x-python",
   "name": "python",
   "nbconvert_exporter": "python",
   "pygments_lexer": "ipython3",
   "version": "3.8.3"
  }
 },
 "nbformat": 4,
 "nbformat_minor": 5
}
