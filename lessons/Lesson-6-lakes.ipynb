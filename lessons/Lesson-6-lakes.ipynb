{
 "cells": [
  {
   "cell_type": "markdown",
   "metadata": {},
   "source": [
    "<img src='https://repository-images.githubusercontent.com/121802384/c355bb80-7d42-11e9-9e0e-4729609f9fbc' alt='WRF-Hydro Logo' width=\"15%\"/>\n",
    "\n",
    "# Lesson 6 - Lake options for the IWAAs configuration"
   ]
  },
  {
   "cell_type": "markdown",
   "metadata": {},
   "source": [
    "## Overview\n",
    "In [Lesson 4](Lesson-4-run-options.ipynb) we covered some experiments in tinkering with terrain physics. In this lesson, we specifically experiment with lake physics options. \n",
    "\n",
    "We conduct two experiments in this lesson: \n",
    "\n",
    "1. Adding lakes to the simulation\n",
    "2. Modifying lake parameters\n",
    "\n",
    "See [here](https://ral.ucar.edu/sites/default/files/public/Channel%20Routing_Lakes.pdf) for reference material on lakes and channel routing in WRF-Hydro."
   ]
  },
  {
   "cell_type": "markdown",
   "metadata": {},
   "source": [
    "### Compiling WRF-Hydro\n",
    "We do not need to modify the code binary to conduct lake physics experiments, so we will use the compiled code from the template directory.  \n",
    "\n",
    "If you need to recompile the code, refer to the instructions in [Lesson 2](Lesson-2-run.ipynb)."
   ]
  },
  {
   "cell_type": "markdown",
   "metadata": {},
   "source": [
    "### Creating the simulation directory and running a baseline (Lake off) WRF-Hydro simulation\n",
    "Below are the commands from Lesson 2 to create the simulation directory and run a WRF-Hydro simulation. This simulation will be run exactly as was done in Lesson 2 and will serve as our baseline simulation. We will modify run-time options in subsequent simulations in the lesson and compare the outputs.  "
   ]
  },
  {
   "cell_type": "code",
   "execution_count": null,
   "metadata": {},
   "outputs": [],
   "source": [
    "%%bash\n",
    "\n",
    "# Make a new directory for our baseline simulation\n",
    "mkdir -p ~/wrf-hydro-training/output/lesson6/run_IWAAs_baseline\n",
    "cd ~/wrf-hydro-training/output/lesson6/run_IWAAs_baseline\n",
    "\n",
    "# Copy our model files and domain files to the simulation directory\n",
    "cp ~/wrf-hydro-training/wrf_hydro_nwm_public/trunk/NDHMS/Run/*.TBL .\n",
    "cp ~/wrf-hydro-training/wrf_hydro_nwm_public/trunk/NDHMS/Run/wrf_hydro.exe .\n",
    "cp -r ~/wrf-hydro-training/example_case/IWAAs/DOMAIN .\n",
    "\n",
    "# Create symbolic links to forcing and restarts\n",
    "ln -sf ~/wrf-hydro-training/example_case/FORCING .\n",
    "ln -sf ~/wrf-hydro-training/example_case/IWAAs/RESTART .\n",
    "\n",
    "# Copy namelist files\n",
    "cp ~/wrf-hydro-training/example_case/IWAAs/namelist.hrldas .\n",
    "cp ~/wrf-hydro-training/example_case/IWAAs/hydro.namelist ."
   ]
  },
  {
   "cell_type": "markdown",
   "metadata": {},
   "source": [
    "**Step 3: First Specify the lake parameter file (Line #159 in `hydro.namelist` in this exercise):**\n",
    "\n",
    "<pre>\n",
    "! Specify the lake parameter file (e.g.: \"LAKEPARM.nc\" for netcdf or \"LAKEPARM.TBL\" for text).\n",
    "! Note REQUIRED if lakes are on.\n",
    "<span style=\"color:blue\">!route_lake_f = \"./DOMAIN/LAKEPARM.nc\"</span>\n",
    "</pre>\n",
    "\n",
    "**Second, Turn on the CHRTOUT output files in the `hydro.namelist` file. We need the CHRTOUT files in the next steps.** \n",
    "<pre>\n",
    "<span style=\"color:blue\">CHRTOUT_DOMAIN = 1           ! Netcdf point timeseries output at all channel points (1d)</span>\n",
    "<span style=\"color:blue\">                             ! 0 = no output, 1 = output</span>\n",
    "</pre>"
   ]
  },
  {
   "cell_type": "code",
   "execution_count": null,
   "metadata": {},
   "outputs": [],
   "source": [
    "%%bash\n",
    "# Run the simulation\n",
    "cd ~/wrf-hydro-training/output/lesson6/run_IWAAs_baseline\n",
    "mpirun -np 8 ./wrf_hydro.exe >> run.log 2>&1"
   ]
  },
  {
   "cell_type": "code",
   "execution_count": null,
   "metadata": {},
   "outputs": [],
   "source": [
    "%%bash\n",
    "\n",
    "# Check that it finished successfully\n",
    "tail -1 ~/wrf-hydro-training/output/lesson6/run_IWAAs_baseline/diag_hydro.00000"
   ]
  },
  {
   "cell_type": "markdown",
   "metadata": {},
   "source": [
    "## Setup for experiments\n",
    "\n",
    "We will create a new simulation directory for each experiment. First, we will make a new simulation directory as we did with the baseline run above and use this as a template for creating multiple new simulation directories.\n",
    "\n",
    "**Step 1: Create a simulation directory to use as a template**"
   ]
  },
  {
   "cell_type": "code",
   "execution_count": null,
   "metadata": {},
   "outputs": [],
   "source": [
    "%%bash\n",
    "\n",
    "# Make a new directory for our baseline simulation\n",
    "mkdir -p ~/wrf-hydro-training/output/lesson6/run_IWAAs_template\n",
    "cd ~/wrf-hydro-training/output/lesson6/run_IWAAs_template\n",
    "\n",
    "# Copy our model files to the simulation directory\n",
    "cp ~/wrf-hydro-training/wrf_hydro_nwm_public/trunk/NDHMS/Run/*.TBL .\n",
    "cp ~/wrf-hydro-training/wrf_hydro_nwm_public/trunk/NDHMS/Run/wrf_hydro.exe .\n",
    "cp -as $HOME/wrf-hydro-training/example_case/IWAAs/DOMAIN .\n",
    "\n",
    "# Create symbolic links\n",
    "ln -sf $HOME/wrf-hydro-training/example_case/FORCING .\n",
    "ln -sf $HOME/wrf-hydro-training/example_case/IWAAs/RESTART .\n",
    "\n",
    "# Copy namelist files\n",
    "cp ~/wrf-hydro-training/example_case/IWAAs/namelist.hrldas .\n",
    "cp ~/wrf-hydro-training/example_case/IWAAs/hydro.namelist ."
   ]
  },
  {
   "cell_type": "markdown",
   "metadata": {},
   "source": [
    "**Step 2: View the contents**"
   ]
  },
  {
   "cell_type": "code",
   "execution_count": null,
   "metadata": {},
   "outputs": [],
   "source": [
    "%%bash\n",
    "\n",
    "ls ~/wrf-hydro-training/output/lesson6/run_IWAAs_template"
   ]
  },
  {
   "cell_type": "markdown",
   "metadata": {},
   "source": [
    "### Review the baseline\n",
    "First, we will recall the hydrograph from location below the lake, at the outlet of the basin: "
   ]
  },
  {
   "cell_type": "code",
   "execution_count": null,
   "metadata": {},
   "outputs": [],
   "source": [
    "# Load the required libraries\n",
    "import xarray as xr\n",
    "import matplotlib.pyplot as plt\n",
    "import pandas as pd\n",
    "\n",
    "xr.set_options(display_style=\"html\")\n",
    "from pandas.plotting import register_matplotlib_converters\n",
    "register_matplotlib_converters()"
   ]
  },
  {
   "cell_type": "code",
   "execution_count": null,
   "metadata": {},
   "outputs": [],
   "source": [
    "chanobs_baseline = xr.open_mfdataset('/home/docker/wrf-hydro-training/output/lesson6/run_IWAAs_baseline/*CHANOBS*',\n",
    "                            combine='by_coords')\n",
    "obs = pd.read_csv('/home/docker/wrf-hydro-training/example_case/USGS_obs.csv',dtype=str)\n",
    "obs['dateTime'] = pd.to_datetime(obs['dateTime'])\n",
    "obs['streamflow_cms'] = pd.to_numeric(obs['streamflow_cms'])"
   ]
  },
  {
   "cell_type": "markdown",
   "metadata": {},
   "source": [
    "**Plot the default hydrograph at the main outlet of the basin**"
   ]
  },
  {
   "cell_type": "code",
   "execution_count": null,
   "metadata": {},
   "outputs": [],
   "source": [
    "from pandas.plotting import register_matplotlib_converters\n",
    "register_matplotlib_converters()\n",
    "\n",
    "fig, axes = plt.subplots(ncols=1,figsize=(12, 6))\n",
    "plt.suptitle('Hydrographs for lakes off at stream at the main outlet of the basin',fontsize=24)\n",
    "chanobs_baseline.sel(feature_id = 23123539).streamflow.plot(label='Lakes off',\n",
    "                                                        color='black',\n",
    "                                                        linestyle='--')\n",
    "obs[obs['site_no'] == '13010065'].plot(x='dateTime',\n",
    "                                       y='streamflow_cms',\n",
    "                                       ax=axes,\n",
    "                                       label='Observed',\n",
    "                                       color='grey')\n",
    "plot_times = chanobs_baseline.time.data\n",
    "plot_time_buffer = pd.to_timedelta(2, unit='D') \n",
    "plt.xlim([plot_times.min()-plot_time_buffer, plot_times.max()+plot_time_buffer])\n",
    "plt.legend()\n",
    "plt.show()"
   ]
  },
  {
   "cell_type": "markdown",
   "metadata": {},
   "source": [
    "## Experiment 1 - Adding the lakes to the simulation"
   ]
  },
  {
   "cell_type": "markdown",
   "metadata": {},
   "source": [
    "### Background\n",
    "In the IWAAs channel routing configuration, WRF-Hydro can be run with lakes on or off. \n",
    "\n",
    "In this configuration, the lakes are represented as objects connected by channel reaches, rather than explicitly defined on the grid. \n",
    "The only change to execute with and without lakes are edits in the `hydro.namelist`. See below for details.\n",
    "\n",
    "Note: In the grid-based routing, the lakes are explicitly represented on the fine grid (i.e. in the `LAKEGRID` variable in the `Fulldom_hires.nc` file). This is different from how lakes are represented in reach-based routing. Therefore, if a user wants to run the grid-based routing configuration without lakes, they should run the GIS pre-processing tools and NOT specify a lake polygon file. This will create a `Fulldom_hires.nc` file with the LAKEGRID variable = -9999 (fill values). "
   ]
  },
  {
   "cell_type": "markdown",
   "metadata": {},
   "source": [
    "### Objective\n",
    "Run a simulation for the IWAAs configuration **with** representing lakes and compare the resulting hydrographs at a gage downstream of the lake. "
   ]
  },
  {
   "cell_type": "markdown",
   "metadata": {},
   "source": [
    "### Create experiment simulation directory"
   ]
  },
  {
   "cell_type": "code",
   "execution_count": null,
   "metadata": {},
   "outputs": [],
   "source": [
    "%%bash\n",
    "\n",
    "# Make a new directory for our baseline simulation\n",
    "mkdir -p ~/wrf-hydro-training/output/lesson6/run_lakes_on\n",
    "cd ~/wrf-hydro-training/output/lesson6/run_lakes_on\n",
    "# Copy our model files to the simulation directory\n",
    "cp ~/wrf-hydro-training/wrf_hydro_nwm_public/trunk/NDHMS/Run/*.TBL .\n",
    "cp ~/wrf-hydro-training/wrf_hydro_nwm_public/trunk/NDHMS/Run/wrf_hydro.exe .\n",
    "cp -as $HOME/wrf-hydro-training/example_case/IWAAs/DOMAIN .\n",
    "\n",
    "# Create symbolic links\n",
    "ln -sf $HOME/wrf-hydro-training/example_case/FORCING .\n",
    "ln -sf $HOME/wrf-hydro-training/example_case/IWAAs/RESTART .\n",
    "\n",
    "# Copy namelist files\n",
    "cp ~/wrf-hydro-training/example_case/IWAAs/namelist.hrldas .\n",
    "cp ~/wrf-hydro-training/example_case/IWAAs/hydro.namelist ."
   ]
  },
  {
   "cell_type": "markdown",
   "metadata": {},
   "source": [
    "**Step 3: Check that lakes are on in the `hydro.namelist` file. There are two modifications:**\n",
    "\n",
    "There are two options in the [hydro.namelist](../output/lesson6/run_IWAAs_template/hydro.namelist) to turn lakes on.\n",
    "\n",
    "First specify the lake parameter file (Line #159 in hydro.namelist in this exercise):\n",
    "\n",
    "<pre>\n",
    "! Specify the lake parameter file (e.g.: \"LAKEPARM.nc\" for netcdf or \"LAKEPARM.TBL\" for text).\n",
    "! Note REQUIRED if lakes are on.\n",
    "<span style=\"color:blue\">route_lake_f = \"./DOMAIN/LAKEPARM.nc\"</span>\n",
    "</pre>\n",
    "\n",
    "Second is turning on the `lakeout` and `CHRTOUT` output files.\n",
    "<pre>\n",
    "<span style=\"color:blue\">outlake = 1                  ! Netcdf grid of lake values (1d)</span>\n",
    "<span style=\"color:blue\">                             ! 0 = no output, 1 = output</span>\n",
    "\n",
    "<span style=\"color:blue\">CHRTOUT_DOMAIN = 1           ! Netcdf point timeseries output at all channel points (1d)</span>\n",
    "<span style=\"color:blue\">                             ! 0 = no output, 1 = output</span>\n",
    "<pre>"
   ]
  },
  {
   "cell_type": "markdown",
   "metadata": {},
   "source": [
    "**Step 1: Run the simulations**"
   ]
  },
  {
   "cell_type": "code",
   "execution_count": null,
   "metadata": {},
   "outputs": [],
   "source": [
    "%%bash\n",
    "\n",
    "cd ~/wrf-hydro-training/output/lesson6/run_lakes_on\n",
    "mpirun -np 8 ./wrf_hydro.exe >> run.log 2>&1"
   ]
  },
  {
   "cell_type": "markdown",
   "metadata": {},
   "source": [
    "**Step 2: Check that the simulation finished successfully**"
   ]
  },
  {
   "cell_type": "code",
   "execution_count": null,
   "metadata": {},
   "outputs": [],
   "source": [
    "%%bash\n",
    "\n",
    "tail -1 ~/wrf-hydro-training/output/lesson6/run_lakes_on/diag_hydro.00000"
   ]
  },
  {
   "cell_type": "markdown",
   "metadata": {},
   "source": [
    "### Results\n",
    "We will now look at the differences in streamflow between our baseline run with lakes off and our experiment with lakes on.\n",
    "\n",
    "We will use Python and the `xarray` library to load the data and plot hydrographs. For an intro to these tools, please see [Lesson 3](Lesson-3-visualize.ipynb)."
   ]
  },
  {
   "cell_type": "markdown",
   "metadata": {},
   "source": [
    "**Load the CHRTOUT streamflow datasets**\n"
   ]
  },
  {
   "cell_type": "code",
   "execution_count": null,
   "metadata": {},
   "outputs": [],
   "source": [
    "%%time\n",
    "chrtout_baseline = xr.open_mfdataset('/home/docker/wrf-hydro-training/output/lesson6/run_IWAAs_baseline/*CHRTOUT*',\n",
    "                            combine='by_coords')\n",
    "chrtout_lakes_on = xr.open_mfdataset('/home/docker/wrf-hydro-training/output/lesson6/run_lakes_on/*CHRTOUT*',\n",
    "                            combine='by_coords')\n",
    "obs = pd.read_csv('/home/docker/wrf-hydro-training/example_case/USGS_obs.csv',dtype=str)\n",
    "obs['dateTime'] = pd.to_datetime(obs['dateTime'])\n",
    "obs['streamflow_cms'] = pd.to_numeric(obs['streamflow_cms'])"
   ]
  },
  {
   "cell_type": "markdown",
   "metadata": {},
   "source": [
    "**Plot the hydrographs at the stream location upstream of the lake to ensure they are identical.**"
   ]
  },
  {
   "cell_type": "code",
   "execution_count": null,
   "metadata": {},
   "outputs": [],
   "source": [
    "%%time\n",
    "fig, axes = plt.subplots(ncols=1,figsize=(12, 6))\n",
    "plt.suptitle('Hydrographs for lakes on and off at stream location upstream of lake',fontsize=24)\n",
    "chrtout_lakes_on.sel(feature_id = 23123871).streamflow.plot(label='Lakes on',\n",
    "                                                        color='blue',\n",
    "                                                        linestyle='-')\n",
    "chrtout_baseline.sel(feature_id = 23123871).streamflow.plot(label='Lakes off',\n",
    "                                                        color='black',\n",
    "                                                        linestyle='--')\n",
    "plt.legend()\n",
    "plt.show()"
   ]
  },
  {
   "cell_type": "markdown",
   "metadata": {},
   "source": [
    "### Discussion\n",
    "The streamflow values at the stream location upstream of the lake were identical between the simulation with lakes represented and the simulation without lakes represented. This is expected.. and if we did not see this result, it would be an indication of an error somewhere in the process.  \n",
    "However, at the stream location downstream of a lake we see that streamflow is considerably higher in the simulation without lakes represented. This reflects the expected behavior of the lake attenuating streamflow at the outlet due to storage. "
   ]
  },
  {
   "cell_type": "markdown",
   "metadata": {},
   "source": [
    "**Plot the hydrographs at the stream location downstream of the lake**"
   ]
  },
  {
   "cell_type": "code",
   "execution_count": null,
   "metadata": {},
   "outputs": [],
   "source": [
    "%%time\n",
    "fig, axes = plt.subplots(ncols=1,figsize=(12, 6))\n",
    "plt.suptitle('Hydrographs for lakes on and off at the main outlet of the basin',fontsize=24)\n",
    "chrtout_lakes_on.sel(feature_id = 23123539).streamflow.plot(label='Lakes on',\n",
    "                                                        color='blue',\n",
    "                                                        linestyle='-')\n",
    "chrtout_baseline.sel(feature_id = 23123539).streamflow.plot(label='Lakes off',\n",
    "                                                        color='black',\n",
    "                                                        linestyle='--')\n",
    "obs[obs['site_no'] == '13010065'].plot(x='dateTime',\n",
    "                                         y='streamflow_cms',\n",
    "                                         ax=axes,\n",
    "                                         label='Observed',\n",
    "                                         color='grey')\n",
    "plot_times = chanobs_baseline.time.data\n",
    "plot_time_buffer = pd.to_timedelta(2, unit='D') \n",
    "plt.xlim([plot_times.min()-plot_time_buffer, plot_times.max()+plot_time_buffer])\n",
    "plt.legend()\n",
    "plt.show()"
   ]
  },
  {
   "cell_type": "markdown",
   "metadata": {},
   "source": [
    "### Summary\n",
    "The 'lakes-off' simulation shows a higher peak compared with the 'lakes-on'. We confirm that this lake serves to attenuate flow during a high event."
   ]
  },
  {
   "cell_type": "markdown",
   "metadata": {},
   "source": [
    "# Experiment 2 - Modifying lake parameters in `LAKEPARM.nc`"
   ]
  },
  {
   "cell_type": "markdown",
   "metadata": {},
   "source": [
    "### Background\n",
    "The orifice and weir lake parameters populated into LAKEPARM.nc by the GIS pre-processing tools are essentially placeholders for the user to replace with their own data. The accuracy of these parameters can have a significant impact on the storage and thus outflow of the lake. **We highly recommend replacing the default lake parameters with known values!**"
   ]
  },
  {
   "cell_type": "markdown",
   "metadata": {},
   "source": [
    "### Objective\n",
    "In this exercise, we will update one of these parameters, the weir length - `WeirL`, with an estimate from observations and explore the impact on the streamflow at the downstream gauge."
   ]
  },
  {
   "cell_type": "markdown",
   "metadata": {},
   "source": [
    "### First, let's make a new directory to conduct this experiment."
   ]
  },
  {
   "cell_type": "code",
   "execution_count": null,
   "metadata": {},
   "outputs": [],
   "source": [
    "%%bash\n",
    "\n",
    "cp -r ~/wrf-hydro-training/output/lesson6/run_IWAAs_template \\\n",
    "~/wrf-hydro-training/output/lesson6/run_lakeparm_edit"
   ]
  },
  {
   "cell_type": "markdown",
   "metadata": {},
   "source": [
    "### Before modifying anything, let's check the current default value of the WeirL in `LAKEPARM.nc`"
   ]
  },
  {
   "cell_type": "code",
   "execution_count": null,
   "metadata": {
    "scrolled": true
   },
   "outputs": [],
   "source": [
    "%%bash\n",
    "\n",
    "ncdump -v WeirL ~/wrf-hydro-training/output/lesson6/run_lakeparm_edit/DOMAIN/LAKEPARM.nc"
   ]
  },
  {
   "cell_type": "markdown",
   "metadata": {},
   "source": [
    "### Edit the lake parameter file and run the simulation\n",
    "**Step 1: Edit the `LAKEPARM.nc` file**\n",
    "\n",
    "NCO (NetCDF Operators, http://nco.sourceforge.net/) is a set of useful utilities to manipulate NetCDF files. We will use the NCO command `ncap2` to edit the WeirL variable."
   ]
  },
  {
   "cell_type": "code",
   "execution_count": null,
   "metadata": {},
   "outputs": [],
   "source": [
    "%%bash\n",
    "ncap2 -s \"where(lake_id==120053977) WeirL=12\" ~/wrf-hydro-training/output/lesson6/run_lakeparm_edit/DOMAIN/LAKEPARM.nc ~/wrf-hydro-training/output/lesson6/run_lakeparm_edit/DOMAIN/LAKEPARM_WeirL_12.nc"
   ]
  },
  {
   "cell_type": "markdown",
   "metadata": {},
   "source": [
    "**Step 2: Verify that the change was made**\n",
    "\n",
    "We will check the value of the `WeirL` variable in our new `LAKEPARM_WeirL_12.nc` file against the original `LAKEPARM.nc` file."
   ]
  },
  {
   "cell_type": "code",
   "execution_count": null,
   "metadata": {
    "scrolled": true
   },
   "outputs": [],
   "source": [
    "%%bash\n",
    "\n",
    "ncdump -v WeirL ~/wrf-hydro-training/output/lesson6/run_lakeparm_edit/DOMAIN/LAKEPARM_WeirL_12.nc"
   ]
  },
  {
   "cell_type": "markdown",
   "metadata": {},
   "source": [
    "**Step 3: Edit the *hydro.namelist* to use the new *LAKEPARM_WeirL_12.nc***\n",
    "\n",
    "We will change the `route_lake_f` option in the [hydro.namelist](../output/lesson6/run_lakeparm_edit/hydro.namelist) to use the edited lakeparm file. \n",
    "\n",
    "First specify the lake parameter file (Line #159 in hydro.namelist in this excercise):\n",
    "\n",
    "<pre>\n",
    "! Specify the lake parameter file (e.g.: \"LAKEPARM.nc\" for netcdf or \"LAKEPARM.TBL\" for text).\n",
    "! Note REQUIRED if lakes are on.\n",
    "<span style=\"color:blue\">route_lake_f = \"./DOMAIN/LAKEPARM_WeirL_12.nc\"</span>\n",
    "</pre>\n",
    "\n",
    "Second is turning on the `lakeout` output files.\n",
    "<pre>\n",
    "<span style=\"color:blue\">outlake = 1                  ! Netcdf grid of lake values (1d)</span>\n",
    "<span style=\"color:blue\">                             ! 0 = no output, 1 = output</span>\n",
    "\n",
    "<span style=\"color:blue\">CHRTOUT_DOMAIN = 1           ! Netcdf point timeseries output at all channel points (1d)</span>\n",
    "<span style=\"color:blue\">                             ! 0 = no output, 1 = output</span>\n",
    "<pre>\n",
    "\n",
    "**Step 4: Run the simulation**"
   ]
  },
  {
   "cell_type": "code",
   "execution_count": null,
   "metadata": {},
   "outputs": [],
   "source": [
    "%%bash\n",
    "\n",
    "cd ~/wrf-hydro-training/output/lesson6/run_lakeparm_edit\n",
    "mpirun -np 8 ./wrf_hydro.exe >> run.log 2>&1"
   ]
  },
  {
   "cell_type": "code",
   "execution_count": null,
   "metadata": {},
   "outputs": [],
   "source": [
    "%%bash\n",
    "\n",
    "tail -1 ~/wrf-hydro-training/output/lesson6/run_lakeparm_edit/diag_hydro.00000"
   ]
  },
  {
   "cell_type": "markdown",
   "metadata": {},
   "source": [
    "### Results\n",
    "We will now look at the differences in streamflow between our baseline (Lakes off) run with the original WeirL of 10m and our edited WeirL of 12m.\n",
    "\n",
    "We will use Python and the `xarray` library to load the data and plot hydrographs. For an intro to these tools, please see [Lesson 3](Lesson-3-visualize.ipynb)."
   ]
  },
  {
   "cell_type": "markdown",
   "metadata": {},
   "source": [
    "**Load the CHANOBS streamflow datasets**\n",
    "\n",
    "We are going to use the *CHANOBS* files because it will limit the number of grid cells to only those which we have specified have a gage."
   ]
  },
  {
   "cell_type": "code",
   "execution_count": null,
   "metadata": {},
   "outputs": [],
   "source": [
    "chrtout_lakeparm_edit = xr.open_mfdataset('/home/docker/wrf-hydro-training/output/lesson6/run_lakeparm_edit/*CHRTOUT*',\n",
    "                            combine='by_coords')\n",
    "obs = pd.read_csv('/home/docker/wrf-hydro-training/example_case/USGS_obs.csv',dtype=str)\n",
    "obs['dateTime'] = pd.to_datetime(obs['dateTime'])\n",
    "obs['streamflow_cms'] = pd.to_numeric(obs['streamflow_cms'])"
   ]
  },
  {
   "cell_type": "markdown",
   "metadata": {},
   "source": [
    "**Plot the hydrographs**"
   ]
  },
  {
   "cell_type": "markdown",
   "metadata": {},
   "source": [
    "**Compare the result from experiment 1, where the lakes were added.**"
   ]
  },
  {
   "cell_type": "code",
   "execution_count": null,
   "metadata": {},
   "outputs": [],
   "source": [
    "%%time\n",
    "fig, axes = plt.subplots(ncols=1,figsize=(12, 6))\n",
    "plt.suptitle('Hydrographs of lake off, lake on, and modified weir length.',fontsize=24)\n",
    "chrtout_lakeparm_edit.sel(feature_id = 23123539).streamflow.plot(label='WeirL = 12m',\n",
    "                                                        color='blue',\n",
    "                                                        linestyle='-')\n",
    "chrtout_baseline.sel(feature_id = 23123539).streamflow.plot(label='Lake off',\n",
    "                                                        color='black',\n",
    "                                                        linestyle='--')\n",
    "chrtout_lakes_on.sel(feature_id = 23123539).streamflow.plot(label='WeirL = 10m',\n",
    "                                                        color='red',\n",
    "                                                        linestyle='--')\n",
    "obs[obs['site_no'] == '13010065'].plot(x='dateTime',\n",
    "                                       y='streamflow_cms',\n",
    "                                       ax=axes,\n",
    "                                       label='Observed',\n",
    "                                       color='grey')\n",
    "plot_times = chanobs_baseline.time.data\n",
    "plot_time_buffer = pd.to_timedelta(2, unit='D')\n",
    "plt.xlim([plot_times.min()-plot_time_buffer, plot_times.max()+plot_time_buffer])\n",
    "plt.legend()\n",
    "plt.show()"
   ]
  },
  {
   "cell_type": "markdown",
   "metadata": {},
   "source": [
    "### Summary\n",
    "The increase in weir length causes more water to discharge from the lake earlier than the default."
   ]
  },
  {
   "cell_type": "markdown",
   "metadata": {},
   "source": [
    "**Load the LAKEOUT files to investigate three lake-related variables: inflow, outflow, and water surface elevation.**"
   ]
  },
  {
   "cell_type": "code",
   "execution_count": null,
   "metadata": {},
   "outputs": [],
   "source": [
    "%%time\n",
    "lakeout_lakes_on = xr.open_mfdataset('/home/docker/wrf-hydro-training/output/lesson6/run_lakes_on/*LAKEOUT*',\n",
    "                            combine='by_coords')\n",
    "lakeout_weir12 = xr.open_mfdataset('/home/docker/wrf-hydro-training/output/lesson6/run_lakeparm_edit/*LAKEOUT*',\n",
    "                            combine='by_coords')"
   ]
  },
  {
   "cell_type": "code",
   "execution_count": null,
   "metadata": {},
   "outputs": [],
   "source": [
    "%%time\n",
    "fig, axes = plt.subplots(ncols=1,figsize=(12, 6))\n",
    "plt.suptitle('Outflow, lakes on (WeirL=10) and modified (WeirL=12m)',fontsize=24)\n",
    "\n",
    "lakeout_weir12.sel(feature_id = 120053977).outflow.plot(label='WeirL = 12m',\n",
    "                                                        color='blue',\n",
    "                                                        linestyle='-')\n",
    "lakeout_lakes_on.sel(feature_id = 120053977).outflow.plot(label='Baseline, WeirL = 10m',\n",
    "                                                        color='black',\n",
    "                                                        linestyle='--')\n",
    "plt.legend()\n",
    "plt.show()"
   ]
  },
  {
   "cell_type": "code",
   "execution_count": null,
   "metadata": {},
   "outputs": [],
   "source": [
    "%%time\n",
    "fig, axes = plt.subplots(ncols=1,figsize=(12, 6))\n",
    "plt.suptitle('Water Surface Elevation, lakes on (WeirL=10) and modified (WeirL=12m)',fontsize=24)\n",
    "\n",
    "lakeout_weir12.sel(feature_id = 120053977).water_sfc_elev.plot(label='WeirL = 12m',\n",
    "                                                        color='blue',\n",
    "                                                        linestyle='-')\n",
    "lakeout_lakes_on.sel(feature_id = 120053977).water_sfc_elev.plot(label='Baseline, WeirL = 10m',\n",
    "                                                        color='black',\n",
    "                                                        linestyle='--')\n",
    "plt.legend()\n",
    "plt.show()"
   ]
  },
  {
   "cell_type": "markdown",
   "metadata": {},
   "source": [
    "### **On your own experiments**: \n",
    "In the above cells, modify the `inflow` variable selection in the plotting function above to `outflow`, then to `water_sfc_elev`.  Feel free to copy and paste the plotting cells so that each of the plots are saved. "
   ]
  },
  {
   "cell_type": "markdown",
   "metadata": {},
   "source": [
    "### Discussion\n",
    "**Streamflow**: We expect that extending the weir length via the `WeirL` parameter causes the lake to discharge more water out of the weir when the lake level meets (exceeds) the weir elevation. This results an increase of streamflow downstream of the lake. \n",
    "\n",
    "**Lake outputs**: As expected, the inflow into the lake is the same in both simulations (baseline and modified WeirL). However, we find that the discharge is significantly different, due to more discharge out of the weir. From the lake level perspective, the baseline simulation shows that the lake continues to fill, and at a slower pace, the modified experiment with a longer WeirL keeps the lake level from reaching near its maximum."
   ]
  },
  {
   "cell_type": "markdown",
   "metadata": {},
   "source": [
    "# Next up - WRF-Hydro calibration\n",
    "This concludes lesson 6. \n",
    "\n",
    "**IT IS BEST TO EITHER SHUTDOWN THIS LESSON OR CLOSE IT BEFORE PROCEEDING TO THE NEXT LESSON TO AVOID POSSIBLY EXCEEDING ALLOCATED MEMORY. Shutdown the lesson be either closing the browser tab for the lesson or selecting `Kernel -> Shut Down Kernel` in JupyterLab.**\n",
    "\n",
    "© UCAR 2020"
   ]
  },
  {
   "cell_type": "code",
   "execution_count": null,
   "metadata": {},
   "outputs": [],
   "source": []
  }
 ],
 "metadata": {
  "kernelspec": {
   "display_name": "Python 3",
   "language": "python",
   "name": "python3"
  },
  "language_info": {
   "codemirror_mode": {
    "name": "ipython",
    "version": 3
   },
   "file_extension": ".py",
   "mimetype": "text/x-python",
   "name": "python",
   "nbconvert_exporter": "python",
   "pygments_lexer": "ipython3",
   "version": "3.8.3"
  },
  "toc": {
   "base_numbering": 1,
   "nav_menu": {},
   "number_sections": true,
   "sideBar": true,
   "skip_h1_title": true,
   "title_cell": "Table of Contents",
   "title_sidebar": "Contents",
   "toc_cell": true,
   "toc_position": {
    "height": "calc(100% - 180px)",
    "left": "10px",
    "top": "150px",
    "width": "414px"
   },
   "toc_section_display": true,
   "toc_window_display": true
  }
 },
 "nbformat": 4,
 "nbformat_minor": 4
}
