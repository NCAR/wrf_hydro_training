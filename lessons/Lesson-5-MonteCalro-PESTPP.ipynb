{
 "cells": [
  {
   "cell_type": "markdown",
   "metadata": {},
   "source": [
    "# Lesson 5 - Create a prior Monte Carlo model run \n",
    "\n",
    "Add text describing why ... "
   ]
  },
  {
   "cell_type": "code",
   "execution_count": null,
   "metadata": {},
   "outputs": [],
   "source": [
    "import pandas as pd\n",
    "import pyemu\n",
    "import sys\n",
    "import shutil\n",
    "import os\n",
    "import numpy as np\n",
    "from pathlib import Path"
   ]
  },
  {
   "cell_type": "markdown",
   "metadata": {},
   "source": [
    "# **Step 1. Create prior Monte Carlo run directory**\n",
    "\n",
    "Given the information needed for the Monte Carlo run is similar to the Single Model run and the only difference is in the PEST++ control file content, we copy the files in *Single_Model_Run* directory and name it *Prior_MC_Model_Run* in this lesson."
   ]
  },
  {
   "cell_type": "code",
   "execution_count": null,
   "metadata": {},
   "outputs": [],
   "source": [
    "%%bash\n",
    "# create the run directory for lesson 5\n",
    "mkdir ~/wrf-hydro-training/output/lesson5\n",
    "\n",
    "# copy the run directory from lesson 4 to 5 to avoid compiling a run directory\n",
    "cp -rf ~/wrf-hydro-training/output/lesson4/Single_Model_Run/ ~/wrf-hydro-training/output/lesson5/Prior_MC_Model_Run\n",
    "\n",
    "# let's check out the content of the folder \n",
    "ls ~/wrf-hydro-training/output/lesson5/Prior_MC_Model_Run"
   ]
  },
  {
   "cell_type": "markdown",
   "metadata": {},
   "source": [
    "# **Step 2. Make modification to the PEST++ control file** \n",
    "\n",
    "There are two options that needs modification: \n",
    "* noptmax : this option is set to 0 for the single model run and needs to change to -1 to indicate we are targeting to do a Monte Carlo model simulation \n",
    "* ies_num_reals: number of realization to run which we want to set to 30 ensembels for this lesson. \n",
    "\n",
    "There are two ways to do this modification, an easy method would be to edit the wrfpst.pst control file directly, the other would be to use the capabilities of PyEMU to read an existing control file and build another based on it. Here, we attemp to show case the second approach. "
   ]
  },
  {
   "cell_type": "code",
   "execution_count": null,
   "metadata": {},
   "outputs": [],
   "source": [
    "# define the path to the host folder from a single model run \n",
    "wkdir = Path('/home/docker/wrf-hydro-training/output/lesson4/host') \n",
    "\n",
    "# define where you would like the modified PEST++ files to reside \n",
    "priordir = Path('/home/docker/wrf-hydro-training/output/lesson5/Prior_MC_Model_Run')"
   ]
  },
  {
   "cell_type": "markdown",
   "metadata": {},
   "source": [
    "**NOTE:** To do this, all the files need to be relatvie to the host, if you check the content of the wrfpst.pst file, the observation file is actually an external file, so let's copy that file into the host directory before reading the control file using PyEMU. "
   ]
  },
  {
   "cell_type": "code",
   "execution_count": null,
   "metadata": {},
   "outputs": [],
   "source": [
    "!cp ~/wrf-hydro-training/example_case/OBS/Observation_File_20180801_20180901.csv ~/wrf-hydro-training/output/lesson4/host/Observation_File_20180801_20180901.csv "
   ]
  },
  {
   "cell_type": "markdown",
   "metadata": {},
   "source": [
    "**Read in the PESTPP control file from Lesson4**"
   ]
  },
  {
   "cell_type": "code",
   "execution_count": null,
   "metadata": {},
   "outputs": [],
   "source": [
    "pst = pyemu.Pst(str(wkdir / 'wrfpst.pst'), resfile=str(wkdir / 'wrfpst.base.rei'))"
   ]
  },
  {
   "cell_type": "markdown",
   "metadata": {},
   "source": [
    "Let's double check what parameters we have in this version of the model using pyemu (you can just look in the PEST control file too.)."
   ]
  },
  {
   "cell_type": "code",
   "execution_count": null,
   "metadata": {},
   "outputs": [],
   "source": [
    "pst.control_data.noptmax"
   ]
  },
  {
   "cell_type": "code",
   "execution_count": null,
   "metadata": {},
   "outputs": [],
   "source": [
    "pst.control_data.noptmax=-1\n",
    "pst.pestpp_options[\"ies_num_reals\"] = 30\n",
    "pst.pestpp_options[\"overdue_giveup_minutes\"] = 200\n",
    "pst.pestpp_options[\"ies_no_noise\"] = 'true'\n",
    "pst.write(priordir/'wrfpst.pst', version=2)"
   ]
  },
  {
   "cell_type": "markdown",
   "metadata": {},
   "source": [
    "# **Step 3. Run the prior ensemble in parallel**\n",
    "\n"
   ]
  },
  {
   "cell_type": "code",
   "execution_count": null,
   "metadata": {},
   "outputs": [],
   "source": [
    "# rel_path (str, optional) – the relative path to where pest(++) should be run from within the worker_dir, defaults to the uppermost level of the worker dir. \n",
    "# This option is usually not needed unless you are one of those crazy people who spreads files across countless subdirectories.\n",
    "\n",
    "pyemu.utils.os_utils.start_workers(worker_dir = \"/home/docker/wrf-hydro-training/output/lesson5/Prior_MC_Model_Run\", \n",
    "                                   exe_rel_path = \"pestpp-ies\", \n",
    "                                   pst_rel_path = \"wrfpst.pst\", \n",
    "                                   num_workers=2, \n",
    "                                   worker_root='/home/docker/wrf-hydro-training/output/lesson5/',\n",
    "                                   master_dir = \"/home/docker/wrf-hydro-training/output/lesson5/host\",\n",
    "                                   port=4004, \n",
    "                                   verbose = True, \n",
    "                                   cleanup = False)"
   ]
  },
  {
   "cell_type": "markdown",
   "metadata": {},
   "source": [
    "# **Step 4. Let check the run directory**\n",
    "\n",
    "Check the PEST++ workers directory, worker_0/WRFHydro_Model/\n"
   ]
  },
  {
   "cell_type": "code",
   "execution_count": null,
   "metadata": {},
   "outputs": [],
   "source": [
    "%%bash \n",
    "    ls  /home/docker/wrf-hydro-training/output/lesson5/worker_0/WRFHydro_Model/"
   ]
  }
 ],
 "metadata": {
  "kernelspec": {
   "display_name": "Python 3",
   "language": "python",
   "name": "python3"
  },
  "language_info": {
   "codemirror_mode": {
    "name": "ipython",
    "version": 3
   },
   "file_extension": ".py",
   "mimetype": "text/x-python",
   "name": "python",
   "nbconvert_exporter": "python",
   "pygments_lexer": "ipython3",
   "version": "3.8.3"
  }
 },
 "nbformat": 4,
 "nbformat_minor": 4
}
