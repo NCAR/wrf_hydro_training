{
 "cells": [
  {
   "cell_type": "markdown",
   "metadata": {},
   "source": [
    "<img src='https://repository-images.githubusercontent.com/121802384/c355bb80-7d42-11e9-9e0e-4729609f9fbc' alt='WRF-Hydro Logo' width=\"15%\"/>\n",
    "\n",
    "# Lesson 0 - Getting started"
   ]
  },
  {
   "cell_type": "markdown",
   "metadata": {},
   "source": [
    "## Overview\n",
    "In this lesson, we cover the basics of getting started with the WRF-Hydro training environment and how to run it from your own machine using the same containerized environment. "
   ]
  },
  {
   "cell_type": "markdown",
   "metadata": {},
   "source": [
    "### Requirements\n",
    "The easiest and recommended way to run these lessons outside of our cloud hosted trainings is via the [wrfhydro/training](https://hub.docker.com/r/wrfhydro/training) Docker container, which has all software dependencies and data pre-installed.\n",
    "\n",
    "* Docker >= v.17.12\n",
    "* Web browser (Google Chrome recommended)"
   ]
  },
  {
   "cell_type": "markdown",
   "metadata": {},
   "source": [
    "### Where to get help and/or post issues\n",
    "If you have general questions about Docker, there are ample online resources including the excellent Docker documentation at https://docs.docker.com.\n",
    "\n",
    "The best place to ask questions or post issues with these lessons is via the Issues page of the GitHub repository at https://github.com/NCAR/wrf_hydro_training/issues."
   ]
  },
  {
   "cell_type": "markdown",
   "metadata": {},
   "source": [
    "## How to run\n",
    "To run from your own machine (as opposed to the cloud hosted training) follow the steps below. \n",
    "\n",
    "Make sure you have Docker installed and that it can access your localhost ports. Most out-of-the-box Docker installations accepting all defaults will have this configuration.\n",
    "\n",
    "**Step 1: Open a terminal or PowerShell session**\n",
    "\n",
    "**Step 2: Pull the wrfhydro/training Docker container for the desired code version**\n",
    "\n",
    "Each training container is specific to a release version of the WRF-Hydro source code, which can be found at https://github.com/NCAR/wrf_hydro_nwm_public/releases. \n",
    "\n",
    "***Note: Training IS NOT SUPPORTED for bleeding-edge, unreleased code***\n",
    "\n",
    "Issue the following command in your terminal to pull a specific version of the training corresponding to your code release version. \n",
    "\n",
    "`docker pull wrfhydro/training:v5.2.0-rc1`\n",
    "\n",
    "**Step 3: Start the training container**\n",
    "Issue the following command in your terminal session to start the training Docker container.\n",
    "\n",
    "`docker run --name wrf-hydro-training -p 8888:8888 -it wrfhydro/training:v5.2.0-rc1`\n",
    "\n",
    "The container will start and perform a number of actions before starting the training. \n",
    "\n",
    "**Note: If you have already started the training once you will need to remove the previous container using the command\n",
    "\n",
    "`docker rm wrf-hydro-training`\n",
    "\n",
    "**Step 4: Connect to JupyterLab server using your browser**\n",
    "\n",
    "At the end of the container startup process an address and password will be printed to the terminal. The address and password are used to connect to JupyterLab. All training lesson notebooks in this container are in the `/home/docker/wrf-hydro-training/lessons` directory and can be opened in the JupyterLab environment.\n",
    "\n",
    "**Step 5: Running the lessons**\n",
    "\n",
    "To run the lessons you may either execute commands by running each cell of the notebooks (recommended). Alternatively, you may open a terminal in JupyterLab by selecting `File -> New -> Terminal` within JupyterLab and input the commands manually if you prefer. You can also use your own terminal by logging into the container with the command `docker exec -it wrf-hydro-training bash`.\n",
    "\n",
    "All lessons assume that the lesson materials are located under your home directory in a folder named *wrf-hydro-training*. If your materials are located in another directory, you will not be able to run the commands in this notebook inside Jupyter and will need to type them manually in your terminal session. "
   ]
  },
  {
   "cell_type": "markdown",
   "metadata": {},
   "source": [
    "## What is included\n",
    "\n",
    "* The model code corresponding to the specified version\n",
    "* An example test case compatible with the model code release\n",
    "* WPS geogrid utility\n",
    "* WRF-Hydro training lessons as Jupyter Notebooks\n",
    "* JupyterLab server\n",
    "\n",
    "**Note: Port forwarding is setup with the `-p 8888:8888` argument, which maps your localhost port to the container port. If you already have something running on port 8888 on your localhost you will need to change this number**\n",
    "\n",
    "© UCAR 2020"
   ]
  }
 ],
 "metadata": {
  "kernelspec": {
   "display_name": "Python 3",
   "language": "python",
   "name": "python3"
  },
  "language_info": {
   "codemirror_mode": {
    "name": "ipython",
    "version": 3
   },
   "file_extension": ".py",
   "mimetype": "text/x-python",
   "name": "python",
   "nbconvert_exporter": "python",
   "pygments_lexer": "ipython3",
   "version": "3.8.3"
  },
  "toc": {
   "base_numbering": 1,
   "nav_menu": {},
   "number_sections": true,
   "sideBar": true,
   "skip_h1_title": true,
   "title_cell": "Table of Contents",
   "title_sidebar": "Contents",
   "toc_cell": false,
   "toc_position": {},
   "toc_section_display": true,
   "toc_window_display": true
  }
 },
 "nbformat": 4,
 "nbformat_minor": 4
}
