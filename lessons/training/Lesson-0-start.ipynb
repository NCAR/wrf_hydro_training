{
 "cells": [
  {
   "cell_type": "markdown",
   "metadata": {},
   "source": [
    "# Lesson 0 - Getting started\n",
    "## Overview\n",
    "In this lesson, we will cover the basics of getting started with the WRF-Hydro training environment. \n",
    "\n",
    "### Requirements\n",
    "The easiest and recommended way to run these lessons is via the [wrfhydro/training](https://hub.docker.com/r/wrfhydro/training/) Docker container, which has all software dependencies and data pre-installed.\n",
    "\n",
    "* Docker >= v.17.12\n",
    "* Web browser (Google Chrome recommended)\n",
    "\n",
    "### Where to get help and/or post issues\n",
    "If you have general questions about Docker, there are ample online resources including the excellent Docker documentation at https://docs.docker.com/.\n",
    "\n",
    "The best place to ask questions or post issues with these lessons is via the Issues page of the GitHub repository at https://github.com/NCAR/wrf_hydro_training/issues.\n",
    "\n",
    "\n",
    "## How to run\n",
    "Make sure you have Docker installed and that it can access your localhost ports. Most out-of-the-box Docker installations accepting all defaults will have this configuration.\n",
    "\n",
    "**Step 1: Open a terminal or PowerShell session**\n",
    "\n",
    "**Step 2: Pull the wrfhydro/training Docker container for the desired code version**\n",
    "Each training container is specific to a release version of the WRF-Hydro source code, which can be found at https://github.com/NCAR/wrf_hydro_nwm_public/releases. **Note: Training IS NOT SUPPORTED for bleeding-edge, unreleased code**\n",
    "\n",
    "Issue the following command in your terminal to pull a specific version of the training corresponding to your code release version. In this example, we will pull the training container for v5.1.x.\n",
    "\n",
    "`docker pull wrfhydro/training:v5.1.x`\n",
    "\n",
    "**Step 3: Start the training container**\n",
    "Issue the following command in your terminal session to start the training Docker container.\n",
    "\n",
    "`docker run --name wrf-hydro-training -p 8888:8888 -it wrfhydro/training:v5.1.x`\n",
    "\n",
    "The container will start and perform a number of actions before starting the training. \n",
    "\n",
    "**Note: If you have already started the training once you will need to remove the previous container using the command\n",
    "\n",
    "`docker rm wrf-hydro-training`\n",
    "\n",
    "**Step 4: Connect to Jupyter Notebook server using your browser**\n",
    "\n",
    "At the end of the container startup process an address and password will be printed to the terminal. The address and password are used to connect to the container Jupyter Notebook server. All training lesson notebooks in this container are in the `/home/docker/wrf-hydro-training/lessons` directory and can be opened in your browser using Jupyter.\n",
    "\n",
    "## What is included\n",
    "\n",
    "* The model code corresponding to the specified version, in this case v5.1.0\n",
    "* An example test case compatible with the model code release.\n",
    "* WPS geogrid utility\n",
    "* WRF-Hydro training lessons as Jupyter Notebooks\n",
    "* Jupyter Notebook server.\n",
    "\n",
    "**Note: Port forwarding is setup with the `-p 8888:8888` argument, which maps your localhost port to the container port. If you already have something running on port 8888 on your localhost you will need to change this number**\n",
    "\n",
    "© UCAR 2018"
   ]
  }
 ],
 "metadata": {
  "kernelspec": {
   "display_name": "Python 3",
   "language": "python",
   "name": "python3"
  },
  "language_info": {
   "codemirror_mode": {
    "name": "ipython",
    "version": 3
   },
   "file_extension": ".py",
   "mimetype": "text/x-python",
   "name": "python",
   "nbconvert_exporter": "python",
   "pygments_lexer": "ipython3",
   "version": "3.6.8"
  },
  "toc": {
   "base_numbering": 1,
   "nav_menu": {},
   "number_sections": true,
   "sideBar": true,
   "skip_h1_title": true,
   "title_cell": "Table of Contents",
   "title_sidebar": "Contents",
   "toc_cell": false,
   "toc_position": {},
   "toc_section_display": true,
   "toc_window_display": true
  }
 },
 "nbformat": 4,
 "nbformat_minor": 2
}
