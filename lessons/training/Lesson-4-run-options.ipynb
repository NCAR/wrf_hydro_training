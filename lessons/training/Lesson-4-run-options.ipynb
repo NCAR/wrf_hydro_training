{
 "cells": [
  {
   "cell_type": "markdown",
   "metadata": {},
   "source": [
    "# Lesson 4 - Run-time options for Gridded configuration"
   ]
  },
  {
   "cell_type": "markdown",
   "metadata": {},
   "source": [
    "## Overview\n",
    "In [Lesson 2](Lesson-2-run.ipynb) we covered the basics of constructing and running a WRF-Hydro simulation using a prepared domain for the 'Gridded' configuration. And in [Lesson 3](Lesson-3-visualize.ipynb), we covered how to do some basic plotting for the 2D input/output files and also plot some time series. \n",
    "\n",
    "In this lesson, we experiment with few different run-time options and do some basic visualization of the outputs using the Python library *xarray*.  \n",
    "\n",
    "**NOTE: If you have not completed Lessons 2 and 3, please stop and do so now.**"
   ]
  },
  {
   "cell_type": "markdown",
   "metadata": {},
   "source": [
    "## Recap of Lessons 1 and 2, compiling and running WRF-Hydro\n",
    "In this section, we quickly recap the commands issued in [Lessons 1](Lesson-1-compile.ipynb) and [2](Lesson-2-run.ipynb) to compile WRF-Hydro and create our simulation directory. We use the prepared domain for the remaining lessons, but feel free to replace the prepared domain with the domain you create in the geospatial hands-on training session. \n",
    "\n",
    "**NOTE: Your domain directory structure and filenames must match the prepared domain EXACTLY**"
   ]
  },
  {
   "cell_type": "markdown",
   "metadata": {},
   "source": [
    "### Compiling WRF-Hydro\n",
    "Below are the commands to compile WRF-Hydro."
   ]
  },
  {
   "cell_type": "code",
   "execution_count": null,
   "metadata": {},
   "outputs": [],
   "source": [
    "%%bash\n",
    "# Change to the trunk/NDHMS directory and configure for GNU gfortran\n",
    "cd ~/wrf-hydro-training/wrf_hydro_nwm_public/trunk/NDHMS\n",
    "./configure 2\n",
    "\n",
    "# Make a copy of the template environment variable file, setEnvars.sh\n",
    "cp ~/wrf-hydro-training/wrf_hydro_nwm_public/trunk/NDHMS/template/setEnvar.sh \\\n",
    "~/wrf-hydro-training/wrf_hydro_nwm_public/trunk/NDHMS/setEnvar.sh"
   ]
  },
  {
   "cell_type": "markdown",
   "metadata": {},
   "source": [
    "**Set compile-time options**\n",
    "\n",
    "Edit the `setEnvar.sh` script to set environment variables required by the compile script. Your [setEnvar.sh](../wrf_hydro_nwm_public/trunk/NDHMS/setEnvar.sh) should look like the bash script below when you are finished. \n",
    "\n",
    "**NOTE:** We are compiling with spatial soil active for this exercise.\n",
    "\n",
    "---\n",
    "\n",
    "```bash\n",
    "#!/bin/bash\n",
    "# WRF-Hydro compile time options\n",
    "\n",
    "# This is a WRF environment variable. Always set to 1=On for compiling WRF-Hydro.\n",
    "export WRF_HYDRO=1\n",
    "\n",
    "# Enhanced diagnostic output for debugging: 0=Off, 1=On.\n",
    "export HYDRO_D=1\n",
    "\n",
    "# Spatially distributed parameters for NoahMP: 0=Off, 1=On.\n",
    "export SPATIAL_SOIL=1  \n",
    "\n",
    "# RAPID model: 0=Off, 1=On.\n",
    "export WRF_HYDRO_RAPID=0\n",
    "\n",
    "# WCOSS file units: 0=Off, 1=On. \n",
    "export NCEP_WCOSS=0\n",
    "\n",
    "# NWM output metadata: 0=Off, 1=On.\n",
    "export NWM_META=0\n",
    "\n",
    "# Streamflow nudging: 0=Off, 1=On.\n",
    "export WRF_HYDRO_NUDGING=0\n",
    "```\n",
    "\n",
    "---\n"
   ]
  },
  {
   "cell_type": "markdown",
   "metadata": {},
   "source": [
    "**Compile WRF-Hydro in standalone mode**"
   ]
  },
  {
   "cell_type": "code",
   "execution_count": null,
   "metadata": {},
   "outputs": [],
   "source": [
    "%%bash\n",
    "cd ~/wrf-hydro-training/wrf_hydro_nwm_public/trunk/NDHMS\n",
    "./compile_offline_NoahMP.sh setEnvar.sh >> compile.log 2>&1\n",
    "\n",
    "tail -13 ~/wrf-hydro-training/wrf_hydro_nwm_public/trunk/NDHMS/compile.log"
   ]
  },
  {
   "cell_type": "markdown",
   "metadata": {},
   "source": [
    "**We have successfully compiled WRF-Hydro and we will use this binary and *.TBL files for the remaining simulations in this lesson**"
   ]
  },
  {
   "cell_type": "markdown",
   "metadata": {},
   "source": [
    "### Creating the simulation directory and running a baseline WRF-Hydro simulation\n",
    "Below are the commands from Lesson 2 to create the simulation directory and run a WRF-Hydro simulation. This simulation will be run exactly as was done in Lesson 2 and will serve as our baseline simulation. We will modify run-time options in subsequent simulations in the lesson and compare the outputs."
   ]
  },
  {
   "cell_type": "code",
   "execution_count": null,
   "metadata": {},
   "outputs": [],
   "source": [
    "%%bash\n",
    "# Make a new directory for our baseline simulation\n",
    "mkdir -p ~/wrf-hydro-training/output/lesson4/run_gridded_baseline\n",
    "\n",
    "# Copy our model files to the simulation directory\n",
    "cp ~/wrf-hydro-training/wrf_hydro_nwm_public/trunk/NDHMS/Run/*.TBL \\\n",
    "~/wrf-hydro-training/output/lesson4/run_gridded_baseline\n",
    "cp ~/wrf-hydro-training/wrf_hydro_nwm_public/trunk/NDHMS/Run/wrf_hydro.exe \\\n",
    "~/wrf-hydro-training/output/lesson4/run_gridded_baseline\n",
    "\n",
    "# Create symbolic links to large domain files\n",
    "cp -as $HOME/wrf-hydro-training/example_case/FORCING \\\n",
    "~/wrf-hydro-training/output/lesson4/run_gridded_baseline\n",
    "cp -as $HOME/wrf-hydro-training/example_case/Gridded/DOMAIN \\\n",
    "~/wrf-hydro-training/output/lesson4/run_gridded_baseline\n",
    "cp -as $HOME/wrf-hydro-training/example_case/Gridded/RESTART \\\n",
    "~/wrf-hydro-training/output/lesson4/run_gridded_baseline\n",
    "\n",
    "# Copy namelist files\n",
    "cp ~/wrf-hydro-training/example_case/Gridded/namelist.hrldas \\\n",
    "~/wrf-hydro-training/output/lesson4/run_gridded_baseline\n",
    "cp ~/wrf-hydro-training/example_case/Gridded/hydro.namelist \\\n",
    "~/wrf-hydro-training/output/lesson4/run_gridded_baseline\n",
    "\n",
    "# Run the simulation\n",
    "cd ~/wrf-hydro-training/output/lesson4/run_gridded_baseline\n",
    "mpirun -np 2 ./wrf_hydro.exe >> run.log 2>&1"
   ]
  },
  {
   "cell_type": "code",
   "execution_count": null,
   "metadata": {},
   "outputs": [],
   "source": [
    "%%bash\n",
    "# Check that it finished successfully\n",
    "tail -1 ~/wrf-hydro-training/output/lesson4/run_gridded_baseline/diag_hydro.00000"
   ]
  },
  {
   "cell_type": "markdown",
   "metadata": {},
   "source": [
    "## Experimenting with run-time options\n",
    "### Setup\n",
    "In this section we will run a few different simulations with different run-time options and explore their effects on the model output.\n",
    "\n",
    "We will create a new simulation directory for each experiment. First, we will make a new simulation directory as we did with the baseline run above and use this as a template for creating multiple new simulation directories.\n",
    "\n",
    "**Step 1: Create a simulation directory to use as a template**"
   ]
  },
  {
   "cell_type": "code",
   "execution_count": null,
   "metadata": {},
   "outputs": [],
   "source": [
    "%%bash\n",
    "# Make a new directory for our baseline simulation\n",
    "mkdir -p ~/wrf-hydro-training/output/lesson4/run_gridded_template\n",
    "\n",
    "# Copy our model files to the simulation directory\n",
    "cp ~/wrf-hydro-training/wrf_hydro_nwm_public/trunk/NDHMS/Run/*.TBL \\\n",
    "~/wrf-hydro-training/output/lesson4/run_gridded_template\n",
    "cp ~/wrf-hydro-training/wrf_hydro_nwm_public/trunk/NDHMS/Run/wrf_hydro.exe \\\n",
    "~/wrf-hydro-training/output/lesson4/run_gridded_template\n",
    "\n",
    "# Create symbolic links to large domain files\n",
    "cp -as $HOME/wrf-hydro-training/example_case/FORCING \\\n",
    "~/wrf-hydro-training/output/lesson4/run_gridded_template\n",
    "cp -as $HOME/wrf-hydro-training/example_case/Gridded/DOMAIN \\\n",
    "~/wrf-hydro-training/output/lesson4/run_gridded_template\n",
    "cp -as $HOME/wrf-hydro-training/example_case/Gridded/RESTART \\\n",
    "~/wrf-hydro-training/output/lesson4/run_gridded_template\n",
    "\n",
    "# Copy namelist files\n",
    "cp ~/wrf-hydro-training/example_case/Gridded/namelist.hrldas \\\n",
    "~/wrf-hydro-training/output/lesson4/run_gridded_template\n",
    "cp ~/wrf-hydro-training/example_case/Gridded/hydro.namelist \\\n",
    "~/wrf-hydro-training/output/lesson4/run_gridded_template"
   ]
  },
  {
   "cell_type": "markdown",
   "metadata": {},
   "source": [
    "**Step 2: View the contents**"
   ]
  },
  {
   "cell_type": "code",
   "execution_count": null,
   "metadata": {},
   "outputs": [],
   "source": [
    "%%bash\n",
    "ls ~/wrf-hydro-training/output/lesson4/run_gridded_template"
   ]
  },
  {
   "cell_type": "markdown",
   "metadata": {},
   "source": [
    "We now have our template simulation directory ready to go. In each experiment we will copy this directory and edit the two namelist files *namelist.hrldas* and *hydro.namelist* to change run-time options."
   ]
  },
  {
   "cell_type": "markdown",
   "metadata": {},
   "source": [
    "## Experiment 1 - Warm vs cold start\n",
    "### Background\n",
    "A model **cold start** is when you start your simulation with default initial conditions. In this case, model states are initialized from the `wrfinput.nc` file (land surface states) and `GWBUCKPARM.nc` (groundwater bucket states, if active). Often these initial values are guesses at global, physically plausible starting values. However, model states like soil moisture, groundwater levels, and stream levels need time to adjust to local climate and environment. So in most cases, we first **spinup** the model to reach an equilibrium state before launching a model experiment and evaluating output. Model states at the end of this **spinup** period can be used to **warm start** a simulation. A **warm start** is when the model simulation begins with the simulated values from a previous run. How long you need to **spinup** your model varies based on the local climate (e.g., drier climates generally take longer than wetter climates), the variables you are interested in (e.g., a fast stabilizing state like shallow soil moisture vs. a slower evolving state like deep groundwater), and local topography and soil types (e.g., sands have shorter memory than clays). \n",
    "\n",
    "### Objective\n",
    "The goal of this experiment is to demonstrate the effect of starting a simulation from a *cold stat* vs. a *warm start*. The Gridded baseline run was started from a *warm start*, so all we need to do is construct a simulation directory and edit the namelists to start from a cold start.\n",
    "\n",
    "### Create experiment simulation directory\n",
    "We will copy our template directory `~/wrf-hydro-training/output/lesson4/run_gridded_template` and edit the `namelist.hrldas` and `hydro.namelist` files to start the model from a cold start. "
   ]
  },
  {
   "cell_type": "code",
   "execution_count": null,
   "metadata": {},
   "outputs": [],
   "source": [
    "%%bash\n",
    "cp -r ~/wrf-hydro-training/output/lesson4/run_gridded_template ~/wrf-hydro-training/output/lesson4/run_cold_start"
   ]
  },
  {
   "cell_type": "markdown",
   "metadata": {},
   "source": [
    "### Edit the namelists and run the simulation\n",
    "If restart files are not provided in the `namelist.hrldas` and `hydro.namelist` files then the simulation will start from a cold start. \n",
    "\n",
    "**Step 1: Edit the *namelist.hrldas* file**\n",
    "\n",
    "Comment out this line `RESTART_FILENAME_REQUESTED = \"RESTART/RESTART.2011082600_DOMAIN1\"` in the [namelist.hrldas](../output/lesson4/run_cold_start/namelist.hrldas) by adding `!` to the start of the line. \n",
    "\n",
    "```\n",
    "!RESTART_FILENAME_REQUESTED = \"RESTART/RESTART.2011082600_DOMAIN1\"\n",
    "```\n",
    "\n",
    "**Step 2: Edit the *hydro.namelist* file**\n",
    "\n",
    "Comment out this line `RESTART_FILE  = 'RESTART/HYDRO_RST.2011-08-26_00_00_DOMAIN1'` in the [hydro.namelist](../output/lesson4/run_cold_start/hydro.namelist) by adding `!` to the start of the line. \n",
    "\n",
    "```\n",
    "! Specify the name of the restart file if starting from restart...comment out with '!' if not...\n",
    "!RESTART_FILE  = 'RESTART/HYDRO_RST.2011-08-26_00_00_DOMAIN1'\n",
    "```\n",
    "Tell the code to use GWBUCKPARM.nc initialization values vs. the restart file starting states by editing the `GW_RESTART` option in the *hydro.namelist*. \n",
    "\n",
    "```\n",
    "! Specify baseflow/bucket model initialization...(0=cold start from table, 1=restart file)\n",
    "GW_RESTART = 0\n",
    "```\n",
    "\n",
    "**Step 3: Run the simulation**"
   ]
  },
  {
   "cell_type": "code",
   "execution_count": null,
   "metadata": {},
   "outputs": [],
   "source": [
    "%%bash\n",
    "cd ~/wrf-hydro-training/output/lesson4/run_cold_start\n",
    "mpirun -np 2 ./wrf_hydro.exe >> run.log 2>&1"
   ]
  },
  {
   "cell_type": "markdown",
   "metadata": {},
   "source": [
    "**Step 4: Check that the simulation finished successfully**"
   ]
  },
  {
   "cell_type": "code",
   "execution_count": null,
   "metadata": {},
   "outputs": [],
   "source": [
    "%%bash\n",
    "tail -1 ~/wrf-hydro-training/output/lesson4/run_cold_start/diag_hydro.00000"
   ]
  },
  {
   "cell_type": "markdown",
   "metadata": {},
   "source": [
    "### Results\n",
    "We will now look at the differences in streamflow between our warm start simulation represented by the *run_gridded_baseline* simulation and our cold start simulation that we ran during this experiment.\n",
    "\n",
    "We will use Python and the `xarray` library to create hydrographs and 2d plots of soil moisture. For an intro to these tools, please see [Lesson 3](Lesson-3-visualize.ipynb).\n",
    "\n",
    "**Load the xarray python package**"
   ]
  },
  {
   "cell_type": "code",
   "execution_count": null,
   "metadata": {},
   "outputs": [],
   "source": [
    "# Load required packages\n",
    "import xarray as xr\n",
    "import matplotlib.pyplot as plt\n",
    "import pandas as pd\n",
    "\n",
    "xr.set_options(display_style=\"html\")\n",
    "from pandas.plotting import register_matplotlib_converters\n",
    "register_matplotlib_converters()"
   ]
  },
  {
   "cell_type": "markdown",
   "metadata": {},
   "source": [
    "#### Hydrographs\n",
    "**Load the CHANOBS streamflow datasets**\n",
    "\n",
    "We are going to use the *CHANOBS* output files to extract the streamflow time series. *CHANOBS* output files contain information for only the grid cells where we have specified a gage is located."
   ]
  },
  {
   "cell_type": "code",
   "execution_count": null,
   "metadata": {},
   "outputs": [],
   "source": [
    "chanobs_baseline = xr.open_mfdataset('/home/docker/wrf-hydro-training/output/lesson4/run_gridded_baseline/*CHANOBS*',\n",
    "                            combine='by_coords')\n",
    "chanobs_cold = xr.open_mfdataset('/home/docker/wrf-hydro-training/output/lesson4/run_cold_start/*CHANOBS*',\n",
    "                            combine='by_coords')\n",
    "obs = pd.read_csv('/home/docker/wrf-hydro-training/example_case/USGS_obs.csv',dtype=str)\n",
    "obs['dateTime'] = pd.to_datetime(obs['dateTime'])\n",
    "obs['streamflow_cms'] = pd.to_numeric(obs['streamflow_cms'])"
   ]
  },
  {
   "cell_type": "markdown",
   "metadata": {},
   "source": [
    "**Plot the hydrographs**"
   ]
  },
  {
   "cell_type": "code",
   "execution_count": null,
   "metadata": {},
   "outputs": [],
   "source": [
    "fig, axes = plt.subplots(ncols=1,figsize=(12, 6))\n",
    "plt.suptitle('Hydrographs for warm and cold starts',fontsize=24)\n",
    "chanobs_baseline.sel(feature_id = 2).streamflow.plot(label='Warm start',\n",
    "                                                     color='black',\n",
    "                                                     linestyle='--')\n",
    "chanobs_cold.sel(feature_id = 2).streamflow.plot(label='Cold start',\n",
    "                                                        color='blue',\n",
    "                                                        linestyle='-')\n",
    "obs[obs['site_no'] == '01374581'].plot(x='dateTime',\n",
    "                                       y='streamflow_cms',\n",
    "                                       ax=axes,\n",
    "                                       label='Observed',\n",
    "                                       color='grey')\n",
    "plt.legend()\n",
    "plt.show()"
   ]
  },
  {
   "cell_type": "markdown",
   "metadata": {},
   "source": [
    "#### Soil moisture at start of simulation\n",
    "The option `t0OutputFlag` in the `hydro.namelist` can be used to output models states at the start of the simulation.\n",
    "\n",
    "```\n",
    "! Option to write output files at time 0 (restart cold start time): 0=no, 1=yes (default)\n",
    "t0OutputFlag = 1\n",
    "```\n",
    "We had this option set to 1 for both of our simulations so that we have outputs at the first timestep. \n",
    "\n",
    "**Load the LDASOUT datasets from the land surface model**"
   ]
  },
  {
   "cell_type": "code",
   "execution_count": null,
   "metadata": {},
   "outputs": [],
   "source": [
    "ldasout_baseline = xr.open_mfdataset('/home/docker/wrf-hydro-training/output/lesson4/run_gridded_baseline/*LDASOUT*',\n",
    "                            combine='by_coords')\n",
    "ldasout_cold = xr.open_mfdataset('/home/docker/wrf-hydro-training/output/lesson4/run_cold_start/*LDASOUT*',\n",
    "                            combine='by_coords')"
   ]
  },
  {
   "cell_type": "markdown",
   "metadata": {},
   "source": [
    "**Plot soil moisture at start of simulation**"
   ]
  },
  {
   "cell_type": "code",
   "execution_count": null,
   "metadata": {},
   "outputs": [],
   "source": [
    "# Select data for t=0 at surface layer\n",
    "ldasout_baseline_t0 = ldasout_baseline.sel(time = '2011-08-26T00:00:00').sel(soil_layers_stag = 0)\n",
    "ldasout_cold_t0 = ldasout_cold.sel(time = '2011-08-26T00:00:00').sel(soil_layers_stag = 0)\n",
    "\n",
    "fig, axes = plt.subplots(ncols=2,figsize=(12, 6))\n",
    "plt.suptitle('Surface soil moisture states at t=0 for warm and cold starts',fontsize=24)\n",
    "ldasout_baseline_t0.SOIL_M.plot(ax=axes[0],vmin=0.1,vmax=0.5)\n",
    "axes[0].set_title('Warm start')\n",
    "ldasout_cold_t0.SOIL_M.plot(ax=axes[1],vmin=0.1,vmax=0.5)\n",
    "axes[1].set_title('Cold start')\n",
    "plt.show()"
   ]
  },
  {
   "cell_type": "markdown",
   "metadata": {},
   "source": [
    "### Discussion"
   ]
  },
  {
   "cell_type": "markdown",
   "metadata": {},
   "source": [
    "Note that the streamflow for the cold start at the start of the simulation is 0 while the streamflow from the warm start (baseline) is > 0. Additionally, the cold start simulation begins with relatively low soil moisture (coming from the *SMOIS* variable in the `wrfinput_d01.nc` file) while the warm start simulation begins with higher soil moisture content (coming from the restart file). As a result they have different responses to the rainfall event. Since in the cold-start simulation soil is relatively drier, it has a higher capacity to store water and therefore more precipitation is partitioned to soil moisture (vs. runoff) compared to the warm-start simulation. \n",
    "\n",
    "This is a good example of why you almost always want to spinup your model prior to analyzing output."
   ]
  },
  {
   "cell_type": "markdown",
   "metadata": {},
   "source": [
    "## Experiment 2 - Supplemental precipitation data"
   ]
  },
  {
   "cell_type": "markdown",
   "metadata": {},
   "source": [
    "### Background\n",
    "Precipitation is commonly the most important driver of hydrologic response. In some applications, for example a flood simulation, you may want to combine atmospheric analyses from reanalysis products or other models with a separate analysis of precipitation (e.g. a gridded gauge product, radar QPE, nowcasts, satellite QPE, etc). To enable such behavior, WRF-Hydro has an option (forcing type 6) to pair standard HRLDAS atmospheric forcing files with supplemental precipitation files."
   ]
  },
  {
   "cell_type": "markdown",
   "metadata": {},
   "source": [
    "### Objective\n",
    "Demonstrate the use of supplemental precipiation data for forcing our simulation."
   ]
  },
  {
   "cell_type": "markdown",
   "metadata": {},
   "source": [
    "### Create experiment simulation directory\n",
    "First we will copy our template directory `~/wrf-hydro-training/output/lesson4/run_gridded_template` to create a new simulation directory for this experiment."
   ]
  },
  {
   "cell_type": "code",
   "execution_count": null,
   "metadata": {},
   "outputs": [],
   "source": [
    "%%bash\n",
    "cp -r ~/wrf-hydro-training/output/lesson4/run_gridded_template \\\n",
    "~/wrf-hydro-training/output/lesson4/run_supp_precip"
   ]
  },
  {
   "cell_type": "markdown",
   "metadata": {},
   "source": [
    "### Edit the namelist and FORCING data and run the simulation\n",
    "\n",
    "**Step 1: Edit the `namelist.hrldas`**\n",
    "\n",
    "The forcing data type is specified in the [namelist.hrldas](../output/lesson4/run_supp_precip/namelist.hrldas) file with the variable `FORC_TYP`. We will change the value from `FORC_TYP=1` for standard HRLDAS hourly format data (all input variables combined into a single LDASIN file per timestep) to `FORC_TYP=6`, which reads both the standard HRLDAS hourly input files AND supplemental precipitation data files.\n",
    "\n",
    "```\n",
    "&WRF_HYDRO_OFFLINE\n",
    "\n",
    "! Specification of forcing data:  1=HRLDAS-hr format, 2=HRLDAS-min format, 3=WRF,\n",
    "!    4=Idealized, 5=Ideal w/ Spec.Precip., 6=HRLDAS-hrl y fomat w/ Spec. Precip,\n",
    "FORC_TYP = 6\n",
    "```\n",
    "**Step 2: Extract the supplemental precipitation data included with the example case**\n",
    "\n",
    "In the supplemental folder in the example case there is a tar file `supp_precip.tar.gz` containing regridded StageIV precipitation data. We will extract this to use for augmenting our FORCING data."
   ]
  },
  {
   "cell_type": "code",
   "execution_count": null,
   "metadata": {},
   "outputs": [],
   "source": [
    "%%bash\n",
    "cd ~/wrf-hydro-training/example_case/supplemental/\n",
    "tar -xf ~/wrf-hydro-training/example_case/supplemental/supp_precip.tar.gz \n",
    "ls ~/wrf-hydro-training/example_case/supplemental/supp_precip | head -10"
   ]
  },
  {
   "cell_type": "markdown",
   "metadata": {},
   "source": [
    "**Step 3: Create a symlink to the supplemental precipitation data**\n",
    "\n",
    "We will add in our supplemental precipitation data to the FORCING folder. Since these data can be rather large we will create a symbolic link."
   ]
  },
  {
   "cell_type": "code",
   "execution_count": null,
   "metadata": {},
   "outputs": [],
   "source": [
    "%%bash\n",
    "ln -s ~/wrf-hydro-training/example_case/supplemental/supp_precip/20110* \\\n",
    "~/wrf-hydro-training/output/lesson4/run_supp_precip/FORCING/"
   ]
  },
  {
   "cell_type": "markdown",
   "metadata": {},
   "source": [
    "Lets take a look at the `FORCING` directory with the new data."
   ]
  },
  {
   "cell_type": "code",
   "execution_count": null,
   "metadata": {},
   "outputs": [],
   "source": [
    "%%bash\n",
    "ls ~/wrf-hydro-training/output/lesson4/run_supp_precip/FORCING/ | head -10"
   ]
  },
  {
   "cell_type": "markdown",
   "metadata": {},
   "source": [
    "Now you see two files per hour. The *PRECIP_FORCING* files will be used for precipitation inputs and *LDASIN_DOMAIN* files will be used for all other forcing fields (e.g., temperature, radiation, wind). Note that the supplemental *PRECIP_FORCING* files are always specified to the minute.\n",
    "\n",
    "**Step 3: Run the simulation**"
   ]
  },
  {
   "cell_type": "code",
   "execution_count": null,
   "metadata": {},
   "outputs": [],
   "source": [
    "%%bash\n",
    "cd ~/wrf-hydro-training/output/lesson4/run_supp_precip\n",
    "mpirun -np 2 ./wrf_hydro.exe >> run.log 2>&1"
   ]
  },
  {
   "cell_type": "markdown",
   "metadata": {},
   "source": [
    "### Results\n",
    "We will now look at the differences in streamflow between our baseline run with NLDAS precipitation and our experiment with supplemental StageIV precipitation."
   ]
  },
  {
   "cell_type": "markdown",
   "metadata": {},
   "source": [
    "#### Hydrographs\n",
    "**Load the CHANOBS streamflow datasets**\n",
    "\n",
    "Again, we use the CHANOBS files to import the streamflow timeseries at specified gage locations."
   ]
  },
  {
   "cell_type": "code",
   "execution_count": null,
   "metadata": {},
   "outputs": [],
   "source": [
    "chanobs_baseline = xr.open_mfdataset('/home/docker/wrf-hydro-training/output/lesson4/run_gridded_baseline/*CHANOBS*',\n",
    "                            combine='by_coords')\n",
    "chanobs_supp_precip = xr.open_mfdataset('/home/docker/wrf-hydro-training/output/lesson4/run_supp_precip/*CHANOBS*',\n",
    "                            combine='by_coords')\n",
    "obs = pd.read_csv('/home/docker/wrf-hydro-training/example_case/USGS_obs.csv',dtype=str)\n",
    "obs['dateTime'] = pd.to_datetime(obs['dateTime'])\n",
    "obs['streamflow_cms'] = pd.to_numeric(obs['streamflow_cms'])"
   ]
  },
  {
   "cell_type": "markdown",
   "metadata": {},
   "source": [
    "**Plot the hydrographs**"
   ]
  },
  {
   "cell_type": "code",
   "execution_count": null,
   "metadata": {},
   "outputs": [],
   "source": [
    "fig, axes = plt.subplots(ncols=1,figsize=(12, 6))\n",
    "plt.suptitle('Hydrographs for NLDAS and Stage IV forcing',fontsize=24)\n",
    "chanobs_baseline.sel(feature_id = 2).streamflow.plot(label='NLDAS',\n",
    "                                                     color='black',\n",
    "                                                     linestyle='--')\n",
    "chanobs_supp_precip.sel(feature_id = 2).streamflow.plot(label='Stage IV',\n",
    "                                                        color='blue',\n",
    "                                                        linestyle='-')\n",
    "obs[obs['site_no'] == '01374581'].plot(x='dateTime',\n",
    "                                       y='streamflow_cms',\n",
    "                                       ax=axes,\n",
    "                                       label='Observed',\n",
    "                                       color='grey')\n",
    "plt.legend()\n",
    "plt.show()"
   ]
  },
  {
   "cell_type": "markdown",
   "metadata": {},
   "source": [
    "#### Precipitation data"
   ]
  },
  {
   "cell_type": "markdown",
   "metadata": {},
   "source": [
    "We read in the precipitation time series data from the two different products using xarray."
   ]
  },
  {
   "cell_type": "code",
   "execution_count": null,
   "metadata": {},
   "outputs": [],
   "source": [
    "ldasin = xr.open_mfdataset('/home/docker/wrf-hydro-training/output/lesson4/run_gridded_baseline/FORCING/*LDASIN*',\n",
    "                            combine='nested', concat_dim='Time')\n",
    "stageiv = xr.open_mfdataset('/home/docker/wrf-hydro-training/output/lesson4/run_supp_precip/FORCING/*PRECIP*',\n",
    "                            combine='nested', concat_dim='Time')"
   ]
  },
  {
   "cell_type": "markdown",
   "metadata": {},
   "source": [
    "Now we calculate a domain-wide mean precipitation time series and plots the two products."
   ]
  },
  {
   "cell_type": "code",
   "execution_count": null,
   "metadata": {},
   "outputs": [],
   "source": [
    "# Calculate the mean precipitation rate (mm/hr) across the domain\n",
    "ldasin_avg = ldasin.RAINRATE.mean(dim=('south_north','west_east')) * 3600\n",
    "stageiv_avg = stageiv.precip_rate.mean(dim=('south_north','west_east')) * 3600\n",
    "\n",
    "# Plot the precipitation time series\n",
    "fig, axes = plt.subplots(ncols=1,figsize=(12, 6))\n",
    "plt.suptitle('Hyetograph for NLDAS and Stage IV forcing',fontsize=24)\n",
    "ldasin_avg.plot(label='NLDAS', color='black', linestyle='--')\n",
    "stageiv_avg.plot(label='Stage IV', color='blue', linestyle='-')\n",
    "plt.legend()\n",
    "plt.show()"
   ]
  },
  {
   "cell_type": "markdown",
   "metadata": {},
   "source": [
    "While the domain-average precipitation time series is mostly consistent between the products, Stage IV shows somewhat lower precipitation towards the end of the event.\n",
    "\n",
    "Since the two products have different native spatial resolutions (NLDAS is ~13km while Stage IV is ~4km), we should also examine the spatial patterns of precipitation."
   ]
  },
  {
   "cell_type": "code",
   "execution_count": null,
   "metadata": {},
   "outputs": [],
   "source": [
    "# Select data for roughly middle of event\n",
    "ldasin_tmid = ldasin.isel(Time = 64)\n",
    "stageiv_tmid = stageiv.isel(Time = 64)\n",
    "\n",
    "# Plot the 2D precipitation grids at hour 60.\n",
    "fig, axes = plt.subplots(ncols=2,figsize=(12, 6))\n",
    "plt.suptitle('Precipitation rate for nldas and stage IV',fontsize=24)\n",
    "ldasin_tmid['RAINRATE'] = ldasin_tmid.RAINRATE*3600\n",
    "ldasin_tmid.RAINRATE.plot(ax=axes[0],vmin=5,vmax=15)\n",
    "axes[0].set_title('NLDAS')\n",
    "stageiv_tmid['precip_rate'] = stageiv_tmid.precip_rate*3600\n",
    "stageiv_tmid.precip_rate.plot(ax=axes[1],vmin=5,vmax=15)\n",
    "axes[1].set_title('StageIV')\n",
    "plt.show()"
   ]
  },
  {
   "cell_type": "markdown",
   "metadata": {},
   "source": [
    "### Discussion \n",
    "The spatial pattern of the two precipitation forcing datasets are very different. Stage IV peaks on the north-west part of the domain and does not contribute to streamflow generation. Additionally, the upstream contributing area has generally a higher mean precipitation rate in the NLDAS forcing compared to the StageIV, resulting in lower streamflow when using the StageIV precip."
   ]
  },
  {
   "cell_type": "markdown",
   "metadata": {},
   "source": [
    "# Next up - Exploring terrain physics\n",
    "This concludes lesson 4. \n",
    "\n",
    "In the [next lesson](Lesson-5-land-surface.ipynb), we will explore terrain physics options and parameters.\n",
    "\n",
    "**IT IS BEST TO EITHER SHUTDOWN THIS LESSON OR CLOSE IT BEFORE PROCEEDING TO THE NEXT LESSON TO AVOID POSSIBLY EXCEEDING ALLOCATED MEMORY. Shutdown the lesson be either closing the browser tab for the lesson or selecting `Kernel -> Shut Down Kernel` in JupyterLab.**\n",
    "\n",
    "© UCAR 2020"
   ]
  }
 ],
 "metadata": {
  "kernelspec": {
   "display_name": "Python 3",
   "language": "python",
   "name": "python3"
  },
  "language_info": {
   "codemirror_mode": {
    "name": "ipython",
    "version": 3
   },
   "file_extension": ".py",
   "mimetype": "text/x-python",
   "name": "python",
   "nbconvert_exporter": "python",
   "pygments_lexer": "ipython3",
   "version": "3.8.3"
  },
  "toc": {
   "base_numbering": 1,
   "nav_menu": {},
   "number_sections": true,
   "sideBar": true,
   "skip_h1_title": true,
   "title_cell": "Table of Contents",
   "title_sidebar": "Contents",
   "toc_cell": true,
   "toc_position": {
    "height": "calc(100% - 180px)",
    "left": "10px",
    "top": "150px",
    "width": "414px"
   },
   "toc_section_display": true,
   "toc_window_display": true
  }
 },
 "nbformat": 4,
 "nbformat_minor": 4
}
