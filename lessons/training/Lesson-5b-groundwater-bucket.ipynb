{
 "cells": [
  {
   "cell_type": "markdown",
   "metadata": {
    "toc": true
   },
   "source": [
    "<h1>Table of Contents<span class=\"tocSkip\"></span></h1>\n",
    "<div class=\"toc\"><ul class=\"toc-item\"><li><span><a href=\"#Overview\" data-toc-modified-id=\"Overview-1\"><span class=\"toc-item-num\">1&nbsp;&nbsp;</span>Overview</a></span><ul class=\"toc-item\"><li><span><a href=\"#Software-and-conventions\" data-toc-modified-id=\"Software-and-conventions-1.1\"><span class=\"toc-item-num\">1.1&nbsp;&nbsp;</span>Software and conventions</a></span></li></ul></li><li><span><a href=\"#Experiment-with-Deeper-Groundwater-Options\" data-toc-modified-id=\"Experiment-with-Deeper-Groundwater-Options-2\"><span class=\"toc-item-num\">2&nbsp;&nbsp;</span>Experiment with Deeper Groundwater Options</a></span><ul class=\"toc-item\"><li><span><a href=\"#Background\" data-toc-modified-id=\"Background-2.1\"><span class=\"toc-item-num\">2.1&nbsp;&nbsp;</span>Background</a></span></li><li><span><a href=\"#Objective\" data-toc-modified-id=\"Objective-2.2\"><span class=\"toc-item-num\">2.2&nbsp;&nbsp;</span>Objective</a></span></li><li><span><a href=\"#Step-1:-Create-a-new-template-directory-and-setup-baseline-parameters\" data-toc-modified-id=\"Step-1:-Create-a-new-template-directory-and-setup-baseline-parameters-2.3\"><span class=\"toc-item-num\">2.3&nbsp;&nbsp;</span>Step 1: Create a new template directory and setup baseline parameters</a></span><ul class=\"toc-item\"><li><span><a href=\"#SLOPE\" data-toc-modified-id=\"SLOPE-2.3.1\"><span class=\"toc-item-num\">2.3.1&nbsp;&nbsp;</span>SLOPE</a></span></li></ul></li><li><span><a href=\"#Step-2:-Create-and-run-the-&quot;exponential-bucket-model&quot;-simulation\" data-toc-modified-id=\"Step-2:-Create-and-run-the-&quot;exponential-bucket-model&quot;-simulation-2.4\"><span class=\"toc-item-num\">2.4&nbsp;&nbsp;</span>Step 2: Create and run the \"exponential bucket model\" simulation</a></span></li><li><span><a href=\"#Step-3:-Create-and-run-the-&quot;groundwater-pass-through&quot;-simulation\" data-toc-modified-id=\"Step-3:-Create-and-run-the-&quot;groundwater-pass-through&quot;-simulation-2.5\"><span class=\"toc-item-num\">2.5&nbsp;&nbsp;</span>Step 3: Create and run the \"groundwater pass-through\" simulation</a></span></li><li><span><a href=\"#Step-4:-Create-and-run-the-&quot;groundwater-off&quot;-simulation\" data-toc-modified-id=\"Step-4:-Create-and-run-the-&quot;groundwater-off&quot;-simulation-2.6\"><span class=\"toc-item-num\">2.6&nbsp;&nbsp;</span>Step 4: Create and run the \"groundwater off\" simulation</a></span></li><li><span><a href=\"#Results\" data-toc-modified-id=\"Results-2.7\"><span class=\"toc-item-num\">2.7&nbsp;&nbsp;</span>Results</a></span></li><li><span><a href=\"#Discussion\" data-toc-modified-id=\"Discussion-2.8\"><span class=\"toc-item-num\">2.8&nbsp;&nbsp;</span>Discussion</a></span></li></ul></li></ul></div>"
   ]
  },
  {
   "cell_type": "markdown",
   "metadata": {},
   "source": [
    "# Lesson 5b - Groundwater Baseflow Experiments\n",
    "## Overview\n",
    "In Lessons 5a we experimented with different terrain routing physics options as well as manipulated a few parameters to evaluate impacts on streamflow. In this lesson we will experiment with different deep groundwater representations in the model\n",
    "\n",
    "**NOTE: If you have not completed Lessons 1 through 5a, please stop and do so now.**\n",
    "\n",
    "### Software and conventions\n",
    "The easiest way to run these lessons is via the [wrfhydro/nwm-training](https://cloud.docker.com/u/wrfhydro/repository/docker/wrfhydro/nwm-training) Docker container, which has all software dependencies and data pre-installed.\n",
    "\n",
    "For a complete description of the software environment used for this training please see [Lesson 0 - Getting started](Lesson-0-start.ipynb).\n",
    "\n",
    "You may either execute commands by running each cell of this notebook. Alternatively, you may open a terminal in Jupyter Lab by selecting `New -> Terminal` in your `Home` tab of Jupyter Lab and input the commands manually if you prefer. You can also use your own terminal by logging into the container with the command `docker exec -it nwm-training bash`\n",
    "\n",
    "All paths used in this lesson assume that the lesson materials are located under your home directory in a folder named `nwm-training`. If your materials are located in another directory, you will not be able to run the commands in this notebook inside Jupyter and will need to type them manually in your terminal session. "
   ]
  },
  {
   "cell_type": "markdown",
   "metadata": {},
   "source": [
    "## Experiment with Deeper Groundwater Options\n",
    "### Background\n",
    "The current NWM has a uniform 2-meter soil column across the full domain. Obviously the 2-m soil column alone cannot fully represent deeper groundwater processes. For this reason, the code for the current NWM includes a few conceptual ways to very simply represent the slower storage and release processes of deeper groundwater. These include:\n",
    "\n",
    "0 = No Groundwater Baseflow Model\n",
    "\n",
    "1 = Exponential Bucket Model\n",
    "\n",
    "2 = Pass-Through Model\n",
    "\n",
    "### Objective\n",
    "Experiment with conceptual groundwater options, then compare hydrographs.\n",
    "\n",
    "### Step 1: Create a new template directory and setup baseline parameters\n",
    "We start with the baseline parameters but will modifiy a few to emphasize the deeper baseflow behavior.\n",
    "\n",
    "**Step 1a: Create a new template directory for the groundwater experiments.**"
   ]
  },
  {
   "cell_type": "code",
   "execution_count": null,
   "metadata": {},
   "outputs": [],
   "source": [
    "%%bash\n",
    "# Make a new directory for our baseline simulation\n",
    "mkdir -p ~/nwm-training/output/lesson5/run_gw_template\n",
    "\n",
    "# Copy our model files to the simulation directory\n",
    "cp ~/nwm-training/wrf_hydro_nwm_public/trunk/NDHMS/Run/*.TBL \\\n",
    "~/nwm-training/output/lesson5/run_gw_template\n",
    "cp ~/nwm-training/wrf_hydro_nwm_public/trunk/NDHMS/Run/wrf_hydro.exe \\\n",
    "~/nwm-training/output/lesson5/run_gw_template\n",
    "\n",
    "# Create symbolic links to large domain files\n",
    "cp -as $HOME/nwm-training/example_case/FORCING \\\n",
    "~/nwm-training/output/lesson5/run_gw_template\n",
    "cp -as $HOME/nwm-training/example_case/NWM/RESTART \\\n",
    "~/nwm-training/output/lesson5/run_gw_template\n",
    "\n",
    "# Copy the domain/parameter files so we can modify them\n",
    "cp -r $HOME/nwm-training/example_case/NWM/DOMAIN \\\n",
    "~/nwm-training/output/lesson5/run_gw_template\n",
    "\n",
    "# Copy namelist files\n",
    "cp ~/nwm-training/example_case/NWM/namelist.hrldas \\\n",
    "~/nwm-training/output/lesson5/run_gw_template\n",
    "cp ~/nwm-training/example_case/NWM/hydro.namelist \\\n",
    "~/nwm-training/output/lesson5/run_gw_template"
   ]
  },
  {
   "cell_type": "markdown",
   "metadata": {},
   "source": [
    "**Step 1b: Use the NCO command `ncap2` to modify the *slope* parameter values in the `soil_properties.nc` file.**\n",
    "\n",
    "#### SLOPE\n",
    "In Lesson 5a we discussed a few Noah/NoahMP parameters that impact flow. We will refresh your memory on the *slope* parameter. Originally estimated based on land surface topography (hence the name *slope*), the *slope* parameter controls how open or closed the bottom boundary of the soil column is. Values range from 0 to 1, where 0 is a completely closed bottom boundary and 1 is completely open. Lower *slope* values will keep more water in the soil column, while higher values will allow more water to drain to the channel or to deeper baseflow stores, depending on the selected physics options.\n",
    "\n",
    "In order to really emphasize the impacts of the baseflow model experiments, we will completely open up the bottom boundary condition (i.e., free drainage).\n",
    "\n",
    "We will use NCO commands to manipulate the model parameter files. NCO (NetCDF Operators, http://nco.sourceforge.net/) is a set of useful utilities to manipulate NetCDF files. We will use the NCO command `ncap2` to increase the *slope* value to 1.0.\n",
    "\n",
    "First, we check the current parameter values using `ncdump` a command line utility included with the netCDF libraries."
   ]
  },
  {
   "cell_type": "code",
   "execution_count": null,
   "metadata": {},
   "outputs": [],
   "source": [
    "%%bash\n",
    "ncdump -v slope ~/nwm-training/output/lesson5/run_gw_template/DOMAIN/soil_properties.nc \\\n",
    "| tail -n 10"
   ]
  },
  {
   "cell_type": "markdown",
   "metadata": {},
   "source": [
    "Note that this parameter varies in space (values based on previous calibration/regionalization), but in general it is fairly low. We modify the parameter values using `ncap2` to completely open the bottom boundary (i.e., free drainage, *slope=1*) and confirm our changes."
   ]
  },
  {
   "cell_type": "code",
   "execution_count": null,
   "metadata": {},
   "outputs": [],
   "source": [
    "%%bash\n",
    "ncap2 -O -s \"slope=slope*0.0+1.0\" \\\n",
    "~/nwm-training/output/lesson5/run_gw_template/DOMAIN/soil_properties.nc \\\n",
    "~/nwm-training/output/lesson5/run_gw_template/DOMAIN/soil_properties.nc\n",
    "ncdump -v slope ~/nwm-training/output/lesson5/run_gw_template/DOMAIN/soil_properties.nc \\\n",
    "| tail -n 10"
   ]
  },
  {
   "cell_type": "markdown",
   "metadata": {},
   "source": [
    "### Step 2: Create and run the \"exponential bucket model\" simulation\n",
    "The NWM currently uses the \"Exponential Bucket Model\" option for groundwater, so we will run that option as our baseline.\n",
    "\n",
    "**Step 2a: Create a copy of the template directory to use for the first groundwater experiment.**"
   ]
  },
  {
   "cell_type": "code",
   "execution_count": null,
   "metadata": {},
   "outputs": [],
   "source": [
    "%%bash\n",
    "cp -r ~/nwm-training/output/lesson5/run_gw_template \\\n",
    "~/nwm-training/output/lesson5/run_gw_expbucket"
   ]
  },
  {
   "cell_type": "markdown",
   "metadata": {},
   "source": [
    "**Step 2b: Confirm the groundwater module setting in the namelist is correct**\n",
    "\n",
    "Look for the `GWBASESWCRT` option and confirm it is set to 1 (exp. bucket)."
   ]
  },
  {
   "cell_type": "code",
   "execution_count": null,
   "metadata": {},
   "outputs": [],
   "source": [
    "%%bash\n",
    "cat ~/nwm-training/output/lesson5/run_gw_expbucket/hydro.namelist"
   ]
  },
  {
   "cell_type": "markdown",
   "metadata": {},
   "source": [
    "**Step 2c: Run the simulation and check to make sure it completed successfully**"
   ]
  },
  {
   "cell_type": "code",
   "execution_count": null,
   "metadata": {},
   "outputs": [],
   "source": [
    "%%bash\n",
    "cd ~/nwm-training/output/lesson5/run_gw_expbucket\n",
    "mpirun -np 1 ./wrf_hydro.exe >> run.log 2>&1"
   ]
  },
  {
   "cell_type": "markdown",
   "metadata": {},
   "source": [
    "Check that the simulation finished successfully"
   ]
  },
  {
   "cell_type": "code",
   "execution_count": null,
   "metadata": {
    "scrolled": true
   },
   "outputs": [],
   "source": [
    "%%bash\n",
    "tail -1 ~/nwm-training/output/lesson5/run_gw_expbucket/diag_hydro.00000"
   ]
  },
  {
   "cell_type": "markdown",
   "metadata": {},
   "source": [
    "### Step 3: Create and run the \"groundwater pass-through\" simulation\n",
    "Now we will see what happens when we simply allow groundwater to pass directly from the soil column to the channel with no storage/attenuation.\n",
    "\n",
    "**Step 3a: Create a copy of the Lesson 5 template directory to use for the second groundwater experiment.**"
   ]
  },
  {
   "cell_type": "code",
   "execution_count": null,
   "metadata": {},
   "outputs": [],
   "source": [
    "%%bash\n",
    "cp -r ~/nwm-training/output/lesson5/run_gw_template \\\n",
    "~/nwm-training/output/lesson5/run_gw_passthru"
   ]
  },
  {
   "cell_type": "markdown",
   "metadata": {},
   "source": [
    "**Step 3b: Edit the `hydro.namelist` file**\n",
    "\n",
    "We will run the same experiment as the Lesson 5 baseline run, but with the deeper groundwater option changed from the exponential bucket model to a simple pass-through representation.\n",
    "\n",
    "We will make one modification to `hydro.namelist` to do this. For this experiment, we will set the *GWBASESWCRT* physics option to 2, which is the simple pass-through option. \n",
    "\n",
    "```\n",
    "! Switch to activate baseflow bucket model...(0=none, 1=exp. bucket, 2=pass-through)\n",
    "GWBASESWCRT = 2\n",
    "```\n",
    "\n",
    "**Step 3c: Run the simulation and check to make sure it completed successfully**"
   ]
  },
  {
   "cell_type": "code",
   "execution_count": null,
   "metadata": {},
   "outputs": [],
   "source": [
    "%%bash\n",
    "cd ~/nwm-training/output/lesson5/run_gw_passthru\n",
    "mpirun -np 1 ./wrf_hydro.exe >> run.log 2>&1"
   ]
  },
  {
   "cell_type": "markdown",
   "metadata": {},
   "source": [
    "Check that the simulation finished successfully"
   ]
  },
  {
   "cell_type": "code",
   "execution_count": null,
   "metadata": {
    "scrolled": true
   },
   "outputs": [],
   "source": [
    "%%bash\n",
    "tail -1 ~/nwm-training/output/lesson5/run_gw_passthru/diag_hydro.00000"
   ]
  },
  {
   "cell_type": "markdown",
   "metadata": {},
   "source": [
    "### Step 4: Create and run the \"groundwater off\" simulation\n",
    "Now we will repeat the process, but with the deeper groundwater option changed from the exponential bucket model to the \"no groundwater\" option.\n",
    "\n",
    "**Step 4a: Create a copy of the Lesson 5 template directory to use for the second groundwater experiment.**"
   ]
  },
  {
   "cell_type": "code",
   "execution_count": null,
   "metadata": {},
   "outputs": [],
   "source": [
    "%%bash\n",
    "cp -r ~/nwm-training/output/lesson5/run_gw_template \\\n",
    "~/nwm-training/output/lesson5/run_gw_off"
   ]
  },
  {
   "cell_type": "markdown",
   "metadata": {},
   "source": [
    "**Step 4b: Edit the `hydro.namelist` file**\n",
    "\n",
    "We will make two modifications to `hydro.namelist` to deactivate the groundwater module. For this experiment, we will set the *GWBASESWCRT* physics option to 0, which turns the deeper groundwater module off. \n",
    "\n",
    "```\n",
    "! Switch to activate baseflow bucket model...(0=none, 1=exp. bucket, 2=pass-through)\n",
    "GWBASESWCRT = 0\n",
    "```\n",
    "When the groundwater module is off, the supplemental channel output variables are not permitted. We can simply turn this supplemental output off by setting *output_channelBucket_influx* to 0.\n",
    "\n",
    "```\n",
    "! Options to output channel & bucket influxes. Only active for UDMP_OPT=1.\n",
    "! Nonzero choice requires that out_dt above matches NOAH_TIMESTEP in namelist.hrldas.\n",
    "! 0=None (default), 1=channel influxes (qSfcLatRunoff, qBucket)\n",
    "! 2=channel+bucket fluxes    (qSfcLatRunoff, qBucket, qBtmVertRunoff_toBucket)\n",
    "! 3=channel accumulations    (accSfcLatRunoff, accBucket) *** NOT TESTED ***\n",
    "output_channelBucket_influx = 0\n",
    "```\n",
    "\n",
    "**Step 4c: Run the simulation and check to make sure it completed**"
   ]
  },
  {
   "cell_type": "code",
   "execution_count": null,
   "metadata": {},
   "outputs": [],
   "source": [
    "%%bash\n",
    "cd ~/nwm-training/output/lesson5/run_gw_off\n",
    "mpirun -np 1 ./wrf_hydro.exe >> run.log 2>&1"
   ]
  },
  {
   "cell_type": "markdown",
   "metadata": {},
   "source": [
    "Check that the simulation finished successfully"
   ]
  },
  {
   "cell_type": "code",
   "execution_count": null,
   "metadata": {
    "scrolled": true
   },
   "outputs": [],
   "source": [
    "%%bash\n",
    "tail -1 ~/nwm-training/output/lesson5/run_gw_off/diag_hydro.00000"
   ]
  },
  {
   "cell_type": "markdown",
   "metadata": {},
   "source": [
    "### Results\n",
    "We will now look at the differences in streamflow between our baseline run with the exponential groundwater bucket module active and our experiments with no groundwater and the simple pass-through module.\n",
    "\n",
    "We will use Python and the `xarray` library to load the data and plot hydrographs. For an intro to these tools, please see Lesson 3.\n",
    "\n",
    "**Load the xarray Python package**"
   ]
  },
  {
   "cell_type": "code",
   "execution_count": null,
   "metadata": {},
   "outputs": [],
   "source": [
    "# Load the xarray package\n",
    "%matplotlib inline\n",
    "import xarray as xr\n",
    "import matplotlib.pyplot as plt\n",
    "import pandas as pd"
   ]
  },
  {
   "cell_type": "markdown",
   "metadata": {},
   "source": [
    "**Load the CHANOBS streamflow datasets**\n",
    "\n",
    "We are going to use the CHANOBS files (vs. CHRTOUT files) because it will limit the number of reaches to only those which have a gage."
   ]
  },
  {
   "cell_type": "code",
   "execution_count": null,
   "metadata": {},
   "outputs": [],
   "source": [
    "chanobs_gw_exp = xr.open_mfdataset('/home/docker/nwm-training/output/lesson5/run_gw_expbucket/*CHANOBS*',\n",
    "                            concat_dim='time')\n",
    "chanobs_gw_thru = xr.open_mfdataset('/home/docker/nwm-training/output/lesson5/run_gw_passthru/*CHANOBS*',\n",
    "                            concat_dim='time')\n",
    "chanobs_gw_off = xr.open_mfdataset('/home/docker/nwm-training/output/lesson5/run_gw_off/*CHANOBS*',\n",
    "                            concat_dim='time')\n",
    "\n",
    "obs = pd.read_csv('/home/docker/nwm-training/example_case/USGS_obs.csv',dtype=str)\n",
    "obs['dateTime'] = pd.to_datetime(obs['dateTime'])\n",
    "obs['streamflow_cms'] = pd.to_numeric(obs['streamflow_cms'])"
   ]
  },
  {
   "cell_type": "markdown",
   "metadata": {},
   "source": [
    "**Plot the hydrographs**"
   ]
  },
  {
   "cell_type": "code",
   "execution_count": null,
   "metadata": {},
   "outputs": [],
   "source": [
    "fig, axes = plt.subplots(ncols=1,figsize=(12, 6))\n",
    "plt.suptitle('Hydrographs for deeper groundwater options',fontsize=24)\n",
    "chanobs_gw_exp.sel(feature_id = 4185779).streamflow.plot(label='Groundwater Exponential Bucket',\n",
    "                                                        color='black',\n",
    "                                                        linestyle='--')\n",
    "chanobs_gw_thru.sel(feature_id = 4185779).streamflow.plot(label='Groundwater Pass-Through',\n",
    "                                                        color='blue',\n",
    "                                                        linestyle='-')\n",
    "chanobs_gw_off.sel(feature_id = 4185779).streamflow.plot(label='Groundwater Off',\n",
    "                                                        color='red',\n",
    "                                                        linestyle='-')\n",
    "\n",
    "obs[obs['site_no'] == '01447720'].plot(x='dateTime',\n",
    "                                       y='streamflow_cms',\n",
    "                                       ax=axes,\n",
    "                                       label='Observed',\n",
    "                                       color='grey')\n",
    "plt.ylim(0,175)\n",
    "plt.legend()\n",
    "plt.show()"
   ]
  },
  {
   "cell_type": "markdown",
   "metadata": {},
   "source": [
    "### Discussion\n",
    "Since we opened up the bottom boundary of the 2-meter soil column (*slope=1.0*), we are allowing more water to enter into the groundwater module. As a result of this we see more baseflow (with the exception of the groundwater off simulation) and smaller peaks than our earlier simulations, where the *slope* parameter was much smaller (average=0.12) and water tended to stay in the soil column or move to direct runoff.\n",
    "\n",
    "When comparing the \"exponential bucket\" model behavior (`GWBASESWCRT=1`, black dashed line) versus \"direct pass-through\" (`GWBASESWCRT=2`, blue solid line), we see the bucket model tends to store water and slowly release it as baseflow in the lower-flow portions of the hydrograph. The pass-through model moves all that stored water directly to the channel, so the streamflow peaks are higher and the baseflow lower.\n",
    "\n",
    "When the groundwater baseflow module is deactivated (`GWBASESWCRT=0`), water that drains out of the bottom of the soil column becomes a sink and is not returned to the system. So the \"groundwater off\" simulation (red solid line) shows lower streamflow overall. Note that this option will not conserve mass, so use with caution."
   ]
  },
  {
   "cell_type": "markdown",
   "metadata": {},
   "source": [
    "# Next up - Do it yourself!\n",
    "This concludes Lesson 5b. Spend some time creating your own parameter and physics experiments.\n",
    "\n",
    "**IT IS BEST TO EITHER SHUTDOWN THIS LESSON OR CLOSE IT BEFORE PROCEEDING TO THE NEXT LESSON TO AVOID POSSIBLY EXCEEDING ALLOCATED MEMORY. Shutdown the lesson be either closing the browser tab for the lesson or selecting `KERNAL->SHUTDOWN` in the jupyter notebook toolbar.**\n",
    "\n",
    "© UCAR 2019"
   ]
  }
 ],
 "metadata": {
  "kernelspec": {
   "display_name": "Python 3",
   "language": "python",
   "name": "python3"
  },
  "language_info": {
   "codemirror_mode": {
    "name": "ipython",
    "version": 3
   },
   "file_extension": ".py",
   "mimetype": "text/x-python",
   "name": "python",
   "nbconvert_exporter": "python",
   "pygments_lexer": "ipython3",
   "version": "3.6.8"
  },
  "toc": {
   "base_numbering": 1,
   "nav_menu": {},
   "number_sections": true,
   "sideBar": true,
   "skip_h1_title": true,
   "title_cell": "Table of Contents",
   "title_sidebar": "Contents",
   "toc_cell": true,
   "toc_position": {
    "height": "calc(100% - 180px)",
    "left": "10px",
    "top": "150px",
    "width": "414px"
   },
   "toc_section_display": true,
   "toc_window_display": true
  }
 },
 "nbformat": 4,
 "nbformat_minor": 2
}
