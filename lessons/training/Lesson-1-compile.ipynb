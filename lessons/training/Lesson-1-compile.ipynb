{
 "cells": [
  {
   "cell_type": "markdown",
   "metadata": {},
   "source": [
    "<img src='https://repository-images.githubusercontent.com/121802384/c355bb80-7d42-11e9-9e0e-4729609f9fbc' alt='WRF-Hydro Logo' width=\"15%\"/>\n",
    "\n",
    "# Lesson 1 - Source code overview and compilation "
   ]
  },
  {
   "cell_type": "markdown",
   "metadata": {},
   "source": [
    "## Overview\n",
    "In this lesson, we cover the basic structure of the WRF-Hydro source code, discuss the various compile-time options, and compile the model. "
   ]
  },
  {
   "cell_type": "markdown",
   "metadata": {},
   "source": [
    "### Software\n",
    "Current, stable WRF-Hydro source code can be obtained from the WRF-Hydro website at https://ral.ucar.edu/projects/wrf_hydro/model-code. \n",
    "\n",
    "The full repository with releases and current developmental versions can be obtained from GitHub at https://github.com/NCAR/wrf_hydro_nwm_public. \n",
    "\n",
    "For a detailed description of model see the [Technical Description](https://wrf-hydro.readthedocs.io/en/latest/index.html)."
   ]
  },
  {
   "cell_type": "markdown",
   "metadata": {},
   "source": [
    "## Orientation to the WRF-Hydro source code directory "
   ]
  },
  {
   "cell_type": "markdown",
   "metadata": {},
   "source": [
    "### Directory structure\n",
    "The top-level directory structure of the code is described below as nested under *src/*. The table below provides a brief descriptions of the file contents of each subdirectory.  \n",
    "\n",
    "**Table 1.** Descriptions of the contents of each source code sub-directory.\n",
    "\n",
    "| File/directory name | Description |\n",
    "| ------------- |:-------------|\n",
    "| arc/ | Contains macro files, which specify the compile configurations, compiler options, links to netCDF libraries, etc. |\n",
    "| cmake_modules/ | Utilities for the experimental CMake build |\n",
    "| CPL/Noah_cpl/ | WRF-Hydro coupling interface for coupling WRF-Hydro components with the standalone (offline) Noah land surface model data assimilation and forecasting system |\n",
    "| CPL/NoahMP_cpl/ | WRF-Hydro coupling interface for coupling WRF-Hydro components with the standalone (offline) Noah-MP land surface model data assimilation and forecasting system |\n",
    "| CPL/WRF_cpl/ | WRF-Hydro coupling interface for coupling WRF-Hydro components with the WRF system |\n",
    "| CPL/CLM_cpl/, CPL/LIS_cpl/, CPL/NUOPC_cpl/ | Work in progress for ongoing coupling work |\n",
    "| Data_Rec/ | Contains some data declaration modules |\n",
    "| Debug_Utilities/ | Debugging utilities |\n",
    "| deprecated/ | Files not currently in use |\n",
    "| Doc/ | Pointer to location of full documentation |\n",
    "| HYDRO_drv/ | High-level WRF-Hydro component driver |\n",
    "| IO/ | I/O interfaces |\n",
    "| Land_models/Noah/ | Noah land surface model driver for standalone applications |\n",
    "| Land_models/NoahMP/ | Noah-MP land surface model driver for standalone applications |\n",
    "| MPP/ | MPI parallelization routines and functions |\n",
    "| nudging/ | Nudging data assimilation routines and functions |\n",
    "| OrchestratorLayer/ | Modules for namelist reads and eventually high level model orchestration |\n",
    "| Rapid_routing/ | Contains code for the RAPID routing model coupling (unsupported and out of date) |\n",
    "| Routing/ | Modules and drivers related to specific routing processes in WRF-Hydro |\n",
    "| template/ | Example namelist files for Noah, Noah-MP, and the WRF-Hydro modules (HYDRO) and example parameter tables for HYDRO. **Note:** Parameter tables for Noah and Noah-MP are stored within the Land_models directory. A sample bash script (setEnvar.sh) that could be passed to the compile script listing compile time options for WRF-Hydro is also located here. |\n",
    "| utils/ | Generic utilities used throughout the code |'\n",
    "| CMakeLists.txt | CMake build file |\n",
    "| README.build.txt | WRF-Hydro build instructions for the standalone model |\n",
    "| wrf_hydro_config | Configure script for coupled WRF-Hydro configuration |\n",
    "| *.json | JSON files used for testing |\n",
    "\n",
    "See the [Technical Description](https://ral.ucar.edu/projects/wrf_hydro/technical-description-user-guide) for more detailed information on individual Fortran modules."
   ]
  },
  {
   "cell_type": "markdown",
   "metadata": {},
   "source": [
    "## Compiling WRF-Hydro"
   ]
  },
  {
   "cell_type": "markdown",
   "metadata": {},
   "source": [
    "### WRF-Hydro compile-time options\n",
    "Compile-time options are choices about the model structure that are determined when the model is compiled. Table 2 below provides a description of the compile time options.\n",
    "\n",
    "**Table 2.** Description of WRF-Hydro compile time options.\n",
    "\n",
    "| Variable | Options | Description |\n",
    "|-------------|-------------|:-------------|\n",
    "| WRF_HYDRO | 1=On | Always set to 1 for compiling WRF-Hydro. |\n",
    "| HYDRO_D | 0=Off, 1=On | Enhanced diagnostic output for debugging. |\n",
    "| SPATIAL_SOIL | 0=Off, 1=On | Spatially distributed parameters for Noah-MP. This allows Noah-MP to use spatially distributed parameters for the land surface model rather than parameter based upon soil class and land use category look up tables. See the [Technical Description](https://ral.ucar.edu/projects/wrf_hydro/technical-description-user-guide) for more information. |\n",
    "| NWM_META | 0=Off, 1=On | NWM output metadata. Do not use unless running the operational NWM. |\n",
    "| WRF_HYDRO_NUDGING | 0=Off, 1=On | Streamflow nudging. Enable the streamflow nudging routines for Muskingum-Cunge Routing. See the [Technical Description](https://ral.ucar.edu/projects/wrf_hydro/technical-description-user-guide) for more information. |\n",
    "| OUTPUT_CHAN_CONN | 0=Off, 1=On | For gridded channel routing, write the channel connectivity to a netcdf file |\n",
    "| PRECIP_DOUBLE | 0=Off, 1=On | Double precipitation from hydro forcing |\n",
    "| NCEP_WCOSS | 0=Off, 1=On | WCOSS file units. Do not use unless working on the WCOSS machines. |"
   ]
  },
  {
   "cell_type": "markdown",
   "metadata": {},
   "source": [
    "### Compiling WRF-Hydro in uncoupled mode\n",
    "In this section we compile the model in uncoupled or standalone mode using the Noah-MP land-surface model. \n",
    "\n",
    "The WRF-Hydro source code currently supports compilation with GNU, Intel, Cray, and NVidia compilers. See the [Standalone (Uncoupled) WRF-Hydro Test Case User Guide](https://wrf-hydro.readthedocs.io/en/latest/appendices.html#a1-standalone-uncoupled-wrf-hydro-test-case-user-guide) and [Build Instructions documentation(https://wrf-hydro.readthedocs.io/en/latest/model-code-config.html#build-instructions) for information on system requirements.\n",
    "\n",
    "**Step 1. List the contents of the *src/* directory.**"
   ]
  },
  {
   "cell_type": "code",
   "execution_count": 1,
   "metadata": {
    "execution": {
     "iopub.execute_input": "2025-04-03T00:39:58.025796Z",
     "iopub.status.busy": "2025-04-03T00:39:58.024976Z",
     "iopub.status.idle": "2025-04-03T00:39:58.150358Z",
     "shell.execute_reply": "2025-04-03T00:39:58.149364Z"
    }
   },
   "outputs": [
    {
     "name": "stdout",
     "output_type": "stream",
     "text": [
      "CMakeLists.txt   \u001b[0m\u001b[01;34mMPP\u001b[0m                \u001b[01;32mcompile_offline_Noah.sh\u001b[0m    nwm.md\n"
     ]
    },
    {
     "name": "stdout",
     "output_type": "stream",
     "text": [
      "\u001b[01;34mCPL\u001b[0m              Makefile           \u001b[01;32mcompile_offline_NoahMP.sh\u001b[0m  nwm_doxyfile\n"
     ]
    },
    {
     "name": "stdout",
     "output_type": "stream",
     "text": [
      "\u001b[01;34mData_Rec\u001b[0m         \u001b[01;34mOrchestratorLayer\u001b[0m  compile_options.json       \u001b[01;34mtemplate\u001b[0m\n"
     ]
    },
    {
     "name": "stdout",
     "output_type": "stream",
     "text": [
      "\u001b[01;34mDebug_Utilities\u001b[0m  README.build.md    \u001b[01;32mconfigure\u001b[0m                  \u001b[01;34mutils\u001b[0m\n"
     ]
    },
    {
     "name": "stdout",
     "output_type": "stream",
     "text": [
      "\u001b[01;34mDoc\u001b[0m              \u001b[01;34mRapid_routing\u001b[0m      \u001b[01;34mdeprecated\u001b[0m                 \u001b[01;32mwrf_hydro_config\u001b[0m\n"
     ]
    },
    {
     "name": "stdout",
     "output_type": "stream",
     "text": [
      "\u001b[01;34mHYDRO_drv\u001b[0m        \u001b[01;34mRouting\u001b[0m            hrldas_namelists.json\n"
     ]
    },
    {
     "name": "stdout",
     "output_type": "stream",
     "text": [
      "\u001b[01;34mIO\u001b[0m               \u001b[01;34marc\u001b[0m                hydro_namelists.json\n"
     ]
    },
    {
     "name": "stdout",
     "output_type": "stream",
     "text": [
      "\u001b[01;34mLand_models\u001b[0m      \u001b[01;34mcmake-modules\u001b[0m      \u001b[01;34mnudging\u001b[0m\n"
     ]
    }
   ],
   "source": [
    "ls ~/wrf-hydro-training/wrf_hydro_nwm_public/src"
   ]
  },
  {
   "cell_type": "markdown",
   "metadata": {},
   "source": [
    "**Step 2. Configure the compilation environment.**\n",
    "\n",
    "Use the `CMake` build system for compilation, choose non-default compilation time options from *Table 2*, turn on with `-DFOO=1`."
   ]
  },
  {
   "cell_type": "code",
   "execution_count": 2,
   "metadata": {
    "execution": {
     "iopub.execute_input": "2025-04-03T00:39:58.153583Z",
     "iopub.status.busy": "2025-04-03T00:39:58.153307Z",
     "iopub.status.idle": "2025-04-03T00:39:59.486116Z",
     "shell.execute_reply": "2025-04-03T00:39:59.482591Z"
    }
   },
   "outputs": [
    {
     "name": "stdout",
     "output_type": "stream",
     "text": [
      "\u001b[0m-- NetCDF Include Dir(s): /usr/include /usr/include\u001b[0m\n"
     ]
    },
    {
     "name": "stdout",
     "output_type": "stream",
     "text": [
      "\u001b[0m-- Setting LSM to: NoahMP\u001b[0m\n"
     ]
    },
    {
     "name": "stdout",
     "output_type": "stream",
     "text": [
      "\u001b[0m=============================================================\u001b[0m\n"
     ]
    },
    {
     "name": "stdout",
     "output_type": "stream",
     "text": [
      "\u001b[0m-- Start of WRF-Hydro Env VARIABLES\u001b[0m\n"
     ]
    },
    {
     "name": "stdout",
     "output_type": "stream",
     "text": [
      "\u001b[0mWRF_HYDRO = 1\u001b[0m\n"
     ]
    },
    {
     "name": "stdout",
     "output_type": "stream",
     "text": [
      "\u001b[0mHYDRO_D = 1\u001b[0m\n"
     ]
    },
    {
     "name": "stdout",
     "output_type": "stream",
     "text": [
      "\u001b[0mWRF_HYDRO_RAPID = 0\u001b[0m\n"
     ]
    },
    {
     "name": "stdout",
     "output_type": "stream",
     "text": [
      "\u001b[0mSPATIAL_SOIL = 0\u001b[0m\n"
     ]
    },
    {
     "name": "stdout",
     "output_type": "stream",
     "text": [
      "\u001b[0mWRFIO_NCD_LARGE_FILE_SUPPORT = 0\u001b[0m\n"
     ]
    },
    {
     "name": "stdout",
     "output_type": "stream",
     "text": [
      "\u001b[0mNCEP_WCOSS = 0\u001b[0m\n"
     ]
    },
    {
     "name": "stdout",
     "output_type": "stream",
     "text": [
      "\u001b[0mNWM_META = 0\u001b[0m\n"
     ]
    },
    {
     "name": "stdout",
     "output_type": "stream",
     "text": [
      "\u001b[0mWRF_HYDRO_NUDGING = 0\u001b[0m\n"
     ]
    },
    {
     "name": "stdout",
     "output_type": "stream",
     "text": [
      "\u001b[0mOUTPUT_CHAN_CONN = 0\u001b[0m\n"
     ]
    },
    {
     "name": "stdout",
     "output_type": "stream",
     "text": [
      "\u001b[0mPRECIP_DOUBLE = 0\u001b[0m\n"
     ]
    },
    {
     "name": "stdout",
     "output_type": "stream",
     "text": [
      "\u001b[0mWRF_HYDRO_NUOPC = 0\u001b[0m\n"
     ]
    },
    {
     "name": "stdout",
     "output_type": "stream",
     "text": [
      "\u001b[0m=============================================================\u001b[0m\n"
     ]
    },
    {
     "name": "stdout",
     "output_type": "stream",
     "text": [
      "\u001b[0m-- Using gfortran\u001b[0m\n"
     ]
    },
    {
     "name": "stdout",
     "output_type": "stream",
     "text": [
      "\u001b[0m-- CMAKE_Fortran_COMPILER full path: /usr/bin/f95\u001b[0m\n"
     ]
    },
    {
     "name": "stdout",
     "output_type": "stream",
     "text": [
      "\u001b[0m-- Building NoahMP LSM\u001b[0m\n"
     ]
    },
    {
     "name": "stdout",
     "output_type": "stream",
     "text": [
      "-- Configuring done (0.9s)\n"
     ]
    },
    {
     "name": "stdout",
     "output_type": "stream",
     "text": [
      "-- Generating done (0.1s)\n"
     ]
    },
    {
     "name": "stdout",
     "output_type": "stream",
     "text": [
      "-- Build files have been written to: /home/docker/wrf-hydro-training/wrf_hydro_nwm_public/build\n"
     ]
    }
   ],
   "source": [
    "cd ~/wrf-hydro-training/wrf_hydro_nwm_public/\n",
    "mkdir -p build\n",
    "cd build\n",
    "cmake .. -DHYDRO_D=1"
   ]
  },
  {
   "cell_type": "markdown",
   "metadata": {},
   "source": [
    "**Step 3. Compile WRF-Hydro in standalone mode**"
   ]
  },
  {
   "cell_type": "code",
   "execution_count": 3,
   "metadata": {
    "execution": {
     "iopub.execute_input": "2025-04-03T00:39:59.492783Z",
     "iopub.status.busy": "2025-04-03T00:39:59.492308Z",
     "iopub.status.idle": "2025-04-03T00:40:00.434912Z",
     "shell.execute_reply": "2025-04-03T00:40:00.431538Z"
    },
    "scrolled": true
   },
   "outputs": [],
   "source": [
    "make -j 2 &> compile.log\n",
    "# make symlink from wrf_hydro to wrf_hydro.exe, this has been done in the main repo\n",
    "cd Run;  ln -sf wrf_hydro.exe wrf_hydro; ln -sf wrf_hydro_NoahMP.exe wrf_hydroMP; cd .."
   ]
  },
  {
   "cell_type": "markdown",
   "metadata": {},
   "source": [
    "**Step 4. Check the compile log to make sure that compilation completed successfully**\n",
    "\n",
    "The last few lines of your compile log should indicate that \"Make was successful\" and the environment variables used in the compile."
   ]
  },
  {
   "cell_type": "code",
   "execution_count": 4,
   "metadata": {
    "execution": {
     "iopub.execute_input": "2025-04-03T00:40:00.441535Z",
     "iopub.status.busy": "2025-04-03T00:40:00.440979Z",
     "iopub.status.idle": "2025-04-03T00:40:00.569031Z",
     "shell.execute_reply": "2025-04-03T00:40:00.564536Z"
    }
   },
   "outputs": [
    {
     "name": "stdout",
     "output_type": "stream",
     "text": [
      "[ 63%] Built target noahmp_phys\n"
     ]
    },
    {
     "name": "stdout",
     "output_type": "stream",
     "text": [
      "[ 68%] Built target hydro_data_rec\n"
     ]
    },
    {
     "name": "stdout",
     "output_type": "stream",
     "text": [
      "[ 71%] Built target hydro_routing_reservoirs_hybrid\n"
     ]
    },
    {
     "name": "stdout",
     "output_type": "stream",
     "text": [
      "[ 74%] Built target hydro_routing_reservoirs_rfc\n"
     ]
    },
    {
     "name": "stdout",
     "output_type": "stream",
     "text": [
      "[ 76%] Built target hydro_routing_diversions\n"
     ]
    },
    {
     "name": "stdout",
     "output_type": "stream",
     "text": [
      "[ 91%] Built target hydro_routing\n"
     ]
    },
    {
     "name": "stdout",
     "output_type": "stream",
     "text": [
      "[ 93%] Built target hydro_driver\n"
     ]
    },
    {
     "name": "stdout",
     "output_type": "stream",
     "text": [
      "[ 96%] Built target hydro_noahmp_cpl\n"
     ]
    },
    {
     "name": "stdout",
     "output_type": "stream",
     "text": [
      "[ 97%] Linking Fortran executable wrfhydro.exe\n"
     ]
    },
    {
     "name": "stdout",
     "output_type": "stream",
     "text": [
      "[100%] Built target wrfhydro.exe\n"
     ]
    }
   ],
   "source": [
    "tail -10 compile.log"
   ]
  },
  {
   "cell_type": "markdown",
   "metadata": {},
   "source": [
    "## Exploring compilation artifacts\n",
    "After a successful compilation, there will be a new directory created called `Run` in the `build/` directory. The `Run` directory contains the compiled binary `wrf_hydro` as well as a number of template input files to assist users with parameterizing WRF-Hydro.\n",
    "\n",
    "**Check the contents of the Run directory**"
   ]
  },
  {
   "cell_type": "code",
   "execution_count": 5,
   "metadata": {
    "execution": {
     "iopub.execute_input": "2025-04-03T00:40:00.576793Z",
     "iopub.status.busy": "2025-04-03T00:40:00.576093Z",
     "iopub.status.idle": "2025-04-03T00:40:00.702922Z",
     "shell.execute_reply": "2025-04-03T00:40:00.698860Z"
    }
   },
   "outputs": [
    {
     "name": "stdout",
     "output_type": "stream",
     "text": [
      "CHANPARM.TBL  MPTABLE.TBL   hydro.namelist   \u001b[0m\u001b[01;36mwrf_hydro.exe\u001b[0m\n"
     ]
    },
    {
     "name": "stdout",
     "output_type": "stream",
     "text": [
      "GENPARM.TBL   Makefile      namelist.hrldas  \u001b[01;36mwrf_hydroMP\u001b[0m\n"
     ]
    },
    {
     "name": "stdout",
     "output_type": "stream",
     "text": [
      "HYDRO.TBL     SOILPARM.TBL  \u001b[01;36mwrf_hydro\u001b[0m        \u001b[01;32mwrf_hydro_NoahMP.exe\u001b[0m\n"
     ]
    }
   ],
   "source": [
    "ls Run"
   ]
  },
  {
   "cell_type": "markdown",
   "metadata": {},
   "source": [
    "The Run directory now contains parameter tables, two namelist files, and the executable. \n",
    "\n",
    "Table 3 below briefly describes the contents of the Run directory and more information on the individual files can be found in the [Technical Description](https://ral.ucar.edu/projects/wrf_hydro/technical-description-user-guide).\n",
    "\n",
    "**Table 3.** Description of the file contents of the `Run` directory.\n",
    "\n",
    "| Filename | Description |\n",
    "| ------------- |:-------------|\n",
    "| CHANPARM.TBL| Channel routing parameter table. |\n",
    "| GENPARM.TBL | This file contains global parameters for the Noah-MP land surface model. |\n",
    "| HYDRO.TBL | Parameter table for lateral flow routing within WRF-Hydro. In the HYDRO.TBL file parameters are specified by land cover type or soil category. |\n",
    "| MPTABLE.TBL | Land surface model parameters that are a function of land cover type. |\n",
    "| SOILPARM.TBL | Land surface model parameters assigned based upon the soil classification. |\n",
    "| hydro.namelist | Specifies the settings for all of the routing components of WRF-Hydro. |\n",
    "| namelist.hrldas | Specifies the land surface model options to be used. |\n",
    "| wrf_hydro.exe, wrf_hydro | Symbolic link to the WRF-Hydro executable/binary file. |\n",
    "| wrf_hydro_NoahMP.exe, wrf_hydro_NoahMP | Exectable/binary file for WRF-Hydro with Noah-MP. |"
   ]
  },
  {
   "cell_type": "markdown",
   "metadata": {},
   "source": [
    "# Next up - Running WRF-Hydro\n",
    "This concludes Lesson 1. In the [next lesson](Lesson-2-run.ipynb) we will run a basic WRF-Hydro simulation using a prepared domain and briefly discuss run-time options.\n",
    "\n",
    "**IT IS BEST TO EITHER SHUTDOWN THIS LESSON OR CLOSE IT BEFORE PROCEEDING TO THE NEXT LESSON TO AVOID POSSIBLY EXCEEDING ALLOCATED MEMORY. Shutdown the lesson be either closing the browser tab for the lesson or selecting `Kernel -> Shut Down Kernel` in JupyterLab.**\n",
    "\n",
    "© UCAR 2025"
   ]
  }
 ],
 "metadata": {
  "kernelspec": {
   "display_name": "Bash",
   "language": "bash",
   "name": "bash"
  },
  "language_info": {
   "codemirror_mode": "shell",
   "file_extension": ".sh",
   "mimetype": "text/x-sh",
   "name": "bash"
  },
  "toc": {
   "base_numbering": 1,
   "nav_menu": {},
   "number_sections": true,
   "sideBar": true,
   "skip_h1_title": true,
   "title_cell": "Table of Contents",
   "title_sidebar": "Contents",
   "toc_cell": true,
   "toc_position": {
    "height": "calc(100% - 180px)",
    "left": "10px",
    "top": "150px",
    "width": "464px"
   },
   "toc_section_display": true,
   "toc_window_display": true
  }
 },
 "nbformat": 4,
 "nbformat_minor": 4
}
