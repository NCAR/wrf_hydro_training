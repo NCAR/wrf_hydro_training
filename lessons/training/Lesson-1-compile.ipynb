{
 "cells": [
  {
   "cell_type": "markdown",
   "metadata": {},
   "source": [
    "# Lesson 1 - Source code overview and compilation "
   ]
  },
  {
   "cell_type": "markdown",
   "metadata": {},
   "source": [
    "## Overview\n",
    "In this lesson, we cover the basic structure of the WRF-Hydro source code, discuss the various compile-time options, and compile the model. "
   ]
  },
  {
   "cell_type": "markdown",
   "metadata": {},
   "source": [
    "### Software\n",
    "Current, stable WRF-Hydro source code can be obtained from the WRF-Hydro website at https://ral.ucar.edu/projects/wrf_hydro/model-code. \n",
    "\n",
    "The full repository including bleeding-edge versions can be obtained from GitHub at https://github.com/NCAR/wrf_hydro_nwm_public. \n",
    "\n",
    "For a detailed description of model see the [Technical Description](https://ral.ucar.edu/projects/wrf_hydro/technical-description-user-guide)."
   ]
  },
  {
   "cell_type": "markdown",
   "metadata": {},
   "source": [
    "## Orientation to the WRF-Hydro source code directory "
   ]
  },
  {
   "cell_type": "markdown",
   "metadata": {},
   "source": [
    "### Directory structure\n",
    "The top-level directory structure of the code is described below as nested under *trunk/NDHMS*. The table below provides a brief descriptions of the file contents of each subdirectory.  \n",
    "\n",
    "**Table 1.** Descriptions of the contents of each source code sub-directory.\n",
    "\n",
    "| File/directory name | Description |\n",
    "| ------------- |:-------------|\n",
    "| arc/ | Contains macro files, which specify the compile configurations, compiler options, links to netCDF libraries, etc. |\n",
    "| cmake_modules/ | Utilities for the experimental CMake build |\n",
    "| CPL/Noah_cpl/ | WRF-Hydro coupling interface for coupling WRF-Hydro components with the standalone (offline) Noah land surface model data assimilation and forecasting system |\n",
    "| CPL/NoahMP_cpl/ | WRF-Hydro coupling interface for coupling WRF-Hydro components with the standalone (offline) Noah-MP land surface model data assimilation and forecasting system |\n",
    "| CPL/WRF_cpl/ | WRF-Hydro coupling interface for coupling WRF-Hydro components with the WRF system |\n",
    "| CPL/CLM_cpl/, CPL/LIS_cpl/, CPL/NUOPC_cpl/ | Work in progress for ongoing coupling work |\n",
    "| Data_Rec/ | Contains some data declaration modules |\n",
    "| Debug_Utilities/ | Debugging utilities |\n",
    "| deprecated/ | Files not currently in use |\n",
    "| Doc/ | Pointer to location of full documentation |\n",
    "| HYDRO_drv/ | High-level WRF-Hydro component driver |\n",
    "| IO/ | I/O interfaces |\n",
    "| Land_models/Noah/ | Noah land surface model driver for standalone applications |\n",
    "| Land_models/NoahMP/ | Noah-MP land surface model driver for standalone applications |\n",
    "| MPP/ | MPI parallelization routines and functions |\n",
    "| nudging/ | Nudging data assimilation routines and functions |\n",
    "| OrchestratorLayer/ | Modules for namelist reads and eventually high level model orchestration |\n",
    "| Rapid_routing/ | Contains code for the RAPID routing model coupling (unsupported and out of date) |\n",
    "| Routing/ | Modules and drivers related to specific routing processes in WRF-Hydro |\n",
    "| template/ | Example namelist files for Noah, Noah-MP, and the WRF-Hydro modules (HYDRO) and example parameter tables for HYDRO. **Note:** Parameter tables for Noah and Noah-MP are stored within the Land_models directory. A sample bash script (setEnvar.sh) that could be passed to the compile script listing compile time options for WRF-Hydro is also located here. |\n",
    "| utils/ | Generic utilities used throughout the code |\n",
    "| compile_offline_Noah.sh | Script for compiling WRF-Hydro standalone version with the Noah land surface model |\n",
    "| compile_offline_NoahMP.sh | Script for compiling WRF-Hydro standalone version with the Noah-MP land surface model |\n",
    "| configure | Script to configure the WRF-Hydro compilation |\n",
    "| Makefile | Top-level makefile for building and cleaning WRF-Hydro code |\n",
    "| README.build.txt | WRF-Hydro build instructions for the standalone model |\n",
    "| wrf_hydro_config | Configure script for coupled WRF-Hydro configuration |\n",
    "| *.json | JSON files used for testing |\n",
    "\n",
    "See the [Technical Description](https://ral.ucar.edu/projects/wrf_hydro/technical-description-user-guide) for more detailed information on individual Fortran modules."
   ]
  },
  {
   "cell_type": "markdown",
   "metadata": {},
   "source": [
    "## Compiling WRF-Hydro"
   ]
  },
  {
   "cell_type": "markdown",
   "metadata": {},
   "source": [
    "### WRF-Hydro compile-time options\n",
    "Compile-time options are choices about the model structure that are determined when the model is compiled. Table 2 below provides a description of the compile time options.\n",
    "\n",
    "**Table 2.** Description of WRF-Hydro compile time options.\n",
    "\n",
    "| Variable | Options | Description |\n",
    "|-------------|-------------|:-------------|\n",
    "| WRF_HYDRO | 1=On | Always set to 1 for compiling WRF-Hydro. |\n",
    "| HYDRO_D | 0=Off, 1=On | Enhanced diagnostic output for debugging. |\n",
    "| SPATIAL_SOIL | 0=Off, 1=On | Spatially distributed parameters for Noah-MP. This allows Noah-MP to use spatially distributed parameters for the land surface model rather than parameter based upon soil class and land use category look up tables. See the [Technical Description](https://ral.ucar.edu/projects/wrf_hydro/technical-description-user-guide) for more information. |\n",
    "| WRF_HYDRO_RAPID | 0=Off, 1=On | Coupling with the RAPID routing model. This option is not currently supported.  |\n",
    "| NCEP_WCOSS | 0=Off, 1=On | WCOSS file units. Do not use unless working on the WCOSS machines. |\n",
    "| NWM_META | 0=Off, 1=On | NWM output metadata. Do not use unless running the operational NWM. |\n",
    "| WRF_HYDRO_NUDGING | 0=Off, 1=On | Streamflow nudging. Enable the streamflow nudging routines for Muskingum-Cunge Routing. See the [Technical Description](https://ral.ucar.edu/projects/wrf_hydro/technical-description-user-guide) for more information. |"
   ]
  },
  {
   "cell_type": "markdown",
   "metadata": {},
   "source": [
    "### Compiling WRF-Hydro in uncoupled mode\n",
    "In this section we compile the model in uncoupled or standalone mode using the Noah-MP land-surface model. \n",
    "\n",
    "The WRF-Hydro source code currently supports compilation with Intel and GNU compilers. See the [How To Build & Run WRF-Hydro in Standalone Mode user guide ](https://ral.ucar.edu/projects/wrf_hydro/technical-description-user-guide) for information on system requirements.  \n",
    "\n",
    "**Step 1. List the contents of the *trunk/NDHMS* directory.**"
   ]
  },
  {
   "cell_type": "code",
   "execution_count": null,
   "metadata": {},
   "outputs": [],
   "source": [
    "ls ~/wrf-hydro-training/wrf_hydro_nwm_public/trunk/NDHMS"
   ]
  },
  {
   "cell_type": "markdown",
   "metadata": {},
   "source": [
    "**Step 2. Configure the compilation environment.**\n",
    "\n",
    "As noted in Table 1, the script `configure` is used to configure the compilation environment. Execute the `configure` script and you will be prompted with a choice of compiler. Because we are using the GNU Fortran compiler in our training environment, we will select *option 2* for GNU / gfortran.\n",
    "\n",
    "**NOTE: If you are running this tutorial on your own system, select the appropriate compiler for your system.**"
   ]
  },
  {
   "cell_type": "code",
   "execution_count": null,
   "metadata": {},
   "outputs": [],
   "source": [
    "cd ~/wrf-hydro-training/wrf_hydro_nwm_public/trunk/NDHMS/\n",
    "./configure 2"
   ]
  },
  {
   "cell_type": "markdown",
   "metadata": {},
   "source": [
    "**Step 3. Make a copy of the template environment variable file, *template/setEnvar.sh***\n",
    "\n",
    "As described in Table 1, the `template/setEnvar.sh` script can be used to specify compile-time options by setting environment variables. We will use this method of compilation for this lesson."
   ]
  },
  {
   "cell_type": "code",
   "execution_count": null,
   "metadata": {},
   "outputs": [],
   "source": [
    "cp template/setEnvar.sh setEnvar.sh"
   ]
  },
  {
   "cell_type": "markdown",
   "metadata": {},
   "source": [
    "**Step 4. Set compile-time options**\n",
    "\n",
    "Edit the `~/wrf-hydro-training/wrf_hydro_nwm_public/trunk/NDHMS/setEnvar.sh` script to set environment variables required by the compile script. Your `setEnvar.sh` should look like the bash script below when you are finished.  \n",
    "\n",
    "---\n",
    "\n",
    "```bash\n",
    "#!/bin/bash\n",
    "  \n",
    "# WRF-Hydro compile time options\n",
    "\n",
    "# This is a WRF environment variable. Always set to 1=On for compiling WRF-Hydro.\n",
    "export WRF_HYDRO=1\n",
    "\n",
    "# Enhanced diagnostic output for debugging: 0=Off, 1=On.\n",
    "export HYDRO_D=1\n",
    "\n",
    "# Spatially distributed parameters for NoahMP: 0=Off, 1=On.\n",
    "export SPATIAL_SOIL=1\n",
    "\n",
    "# RAPID model: 0=Off, 1=On.\n",
    "export WRF_HYDRO_RAPID=0\n",
    "\n",
    "# WCOSS file units: 0=Off, 1=On.\n",
    "export NCEP_WCOSS=0\n",
    "\n",
    "# NWM output metadata: 0=Off, 1=On.\n",
    "export NWM_META=0\n",
    "\n",
    "# Streamflow nudging: 0=Off, 1=On.\n",
    "export WRF_HYDRO_NUDGING=0\n",
    "```\n",
    "\n",
    "---\n"
   ]
  },
  {
   "cell_type": "markdown",
   "metadata": {},
   "source": [
    "**Step 5. Compile WRF-Hydro in standalone mode**\n",
    "\n",
    "We support compiling the standalone WRF-Hydro model with either the Noah or Noah-MP land surface models. Two helper scripts are supplied, `compile_offline_Noah.sh` and `compile_offline_NoahMP.sh`, to assist users with the compilation process. \n",
    "\n",
    "We will be compiling with the Noah-MP land surface model for this lesson and thus we will be using the `compile_offline_NoahMP.sh` script.\n",
    "\n",
    "The `compile_offline_Noah.sh` and `compile_offline_NoahMP.sh` execute a similar process during compilation, and this process is described in more detail in [How to Build & Run WRF-Hydro in Standalone Mode](https://ral.ucar.edu/projects/wrf_hydro/technical-description-user-guide) and the [Technical Description](https://ral.ucar.edu/projects/wrf_hydro/technical-description-user-guide). One action that these scripts perform is to source the `setEnvar.sh` script to specify compile-time options by setting environment variables.\n",
    "\n",
    "We will now compile the model by executing the `compile_offline_NoahMP.sh` script and supplying our `setEnvar.sh` script as the first argument. Additionally, we will pipe the output from the compilation process to a log file because compilation can generate a lot of output."
   ]
  },
  {
   "cell_type": "code",
   "execution_count": null,
   "metadata": {
    "scrolled": true
   },
   "outputs": [],
   "source": [
    "./compile_offline_NoahMP.sh setEnvar.sh >> compile.log 2>&1"
   ]
  },
  {
   "cell_type": "markdown",
   "metadata": {},
   "source": [
    "**Step 6. Check the compile log to make sure that compilation completed successfully**\n",
    "\n",
    "The last few lines of your compile log should indicate that \"Make was successful\" and the environment variables used in the compile."
   ]
  },
  {
   "cell_type": "code",
   "execution_count": null,
   "metadata": {},
   "outputs": [],
   "source": [
    "tail -13 compile.log"
   ]
  },
  {
   "cell_type": "markdown",
   "metadata": {},
   "source": [
    "## Exploring compilation artifacts\n",
    "After a successful compilation, there will be a new directory created called `Run` in the `trunk/NDHMS` directory. The `Run` directory contains the compiled binary `wrf_hydro.exe` as well as a number of template input files to assist users with parameterizing WRF-Hydro.\n",
    "\n",
    "**Check the contents of the Run directory**"
   ]
  },
  {
   "cell_type": "code",
   "execution_count": null,
   "metadata": {},
   "outputs": [],
   "source": [
    "ls Run"
   ]
  },
  {
   "cell_type": "markdown",
   "metadata": {},
   "source": [
    "The Run directory now contains parameter tables, two namelist files, and the executable. \n",
    "\n",
    "Table 3 below briefly describes the contents of the Run directory and more information on the individual files can be found in the [Technical Description](https://ral.ucar.edu/projects/wrf_hydro/technical-description-user-guide).\n",
    "\n",
    "**Table 3.** Description of the file contents of the `Run` directory.\n",
    "\n",
    "| Filename | Description |\n",
    "| ------------- |:-------------|\n",
    "| CHANPARM.TBL| Channel routing parameter table. |\n",
    "| GENPARM.TBL | This file contains global parameters for the Noah-MP land surface model. |\n",
    "| HYDRO.TBL | Parameter table for lateral flow routing within WRF-Hydro. In the HYDRO.TBL file parameters are specified by land cover type or soil category. |\n",
    "| MPTABLE.TBL | Land surface model parameters that are a function of land cover type. |\n",
    "| SOILPARM.TBL | Land surface model parameters assigned based upon the soil classification. |\n",
    "| hydro.namelist | Specifies the settings for all of the routing components of WRF-Hydro. |\n",
    "| namelist.hrldas | Specifies the land surface model options to be used. |\n",
    "| wrf_hydro.exe | WRF-Hydro executable/binary file. |\n",
    "| wrf_hydro_NoahMP.exe | Symbolic link to the executable file compiled for WRF-Hydro with Noah-MP. |"
   ]
  },
  {
   "cell_type": "markdown",
   "metadata": {},
   "source": [
    "# Next up - Running WRF-Hydro\n",
    "This concludes Lesson 1. In the [next lesson](Lesson-2-run.ipynb) we will run a basic WRF-Hydro simulation using a prepared domain and briefly discuss run-time options.\n",
    "\n",
    "**IT IS BEST TO EITHER SHUTDOWN THIS LESSON OR CLOSE IT BEFORE PROCEEDING TO THE NEXT LESSON TO AVOID POSSIBLY EXCEEDING ALLOCATED MEMORY. Shutdown the lesson be either closing the browser tab for the lesson or selecting `Kernel -> Shut Down Kernel` in JupyterLab.**\n",
    "\n",
    "© UCAR 2020"
   ]
  }
 ],
 "metadata": {
  "kernelspec": {
   "display_name": "Bash",
   "language": "bash",
   "name": "bash"
  },
  "language_info": {
   "codemirror_mode": "shell",
   "file_extension": ".sh",
   "mimetype": "text/x-sh",
   "name": "bash"
  },
  "toc": {
   "base_numbering": 1,
   "nav_menu": {},
   "number_sections": true,
   "sideBar": true,
   "skip_h1_title": true,
   "title_cell": "Table of Contents",
   "title_sidebar": "Contents",
   "toc_cell": true,
   "toc_position": {
    "height": "calc(100% - 180px)",
    "left": "10px",
    "top": "150px",
    "width": "464px"
   },
   "toc_section_display": true,
   "toc_window_display": true
  }
 },
 "nbformat": 4,
 "nbformat_minor": 4
}
