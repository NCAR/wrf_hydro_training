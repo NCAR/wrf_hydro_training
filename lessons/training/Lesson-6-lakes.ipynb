{
 "cells": [
  {
   "cell_type": "markdown",
   "metadata": {},
   "source": [
    "<img src='https://repository-images.githubusercontent.com/121802384/c355bb80-7d42-11e9-9e0e-4729609f9fbc' alt='WRF-Hydro Logo' width=\"15%\"/>\n",
    "\n",
    "# Lesson 6 - Lake options for the gridded configuration"
   ]
  },
  {
   "cell_type": "markdown",
   "metadata": {},
   "source": [
    "## Overview\n",
    "In [Lesson 4](Lesson-4-run-options.ipynb) we covered some experiments in tinkering with terrain physics. In this lesson, we specifically experiment with lake physics options. \n",
    "\n",
    "We conduct two experiments in this lesson: \n",
    "\n",
    "1. Removing lakes from the simulation\n",
    "2. Modifying lake parameters\n",
    "\n",
    "See [here](https://ral.ucar.edu/sites/default/files/public/Channel%20Routing_Lakes.pdf) for reference material on lakes and channel routing in WRF-Hydro."
   ]
  },
  {
   "cell_type": "markdown",
   "metadata": {},
   "source": [
    "### Compiling WRF-Hydro\n",
    "We do not need to modify the code binary to conduct lake physics experiments, so we will use the compiled code from the template directory.  \n",
    "\n",
    "If you need to recompile the code, refer to the instructions in [Lesson 2](Lesson-2-run.ipynb)."
   ]
  },
  {
   "cell_type": "markdown",
   "metadata": {},
   "source": [
    "### Creating the simulation directory and running a baseline WRF-Hydro simulation\n",
    "Below are the commands from Lesson 2 to create the simulation directory and run a WRF-Hydro simulation. This simulation will be run exactly as was done in Lesson 2 and will serve as our baseline simulation. We will modify run-time options in subsequent simulations in the lesson and compare the outputs.  "
   ]
  },
  {
   "cell_type": "code",
   "execution_count": 10,
   "metadata": {},
   "outputs": [],
   "source": [
    "%%bash\n",
    "\n",
    "# Make a new directory for our baseline simulation\n",
    "rm -rf ~/wrf-hydro-training/output/lesson6/run_gridded_baseline\n",
    "mkdir -p ~/wrf-hydro-training/output/lesson6/run_gridded_baseline\n",
    "\n",
    "# Copy our model files to the simulation directory\n",
    "cp ~/wrf-hydro-training/wrf_hydro_nwm_public/build/Run/*.TBL \\\n",
    "  ~/wrf-hydro-training/output/lesson6/run_gridded_baseline\n",
    "cp ~/wrf-hydro-training/wrf_hydro_nwm_public/build/Run/wrf_hydro \\\n",
    "  ~/wrf-hydro-training/output/lesson6/run_gridded_baseline\n",
    "\n",
    "# Create symbolic links to large domain files\n",
    "cp -as $HOME/wrf-hydro-training/example_case/FORCING \\\n",
    "  ~/wrf-hydro-training/output/lesson6/run_gridded_baseline\n",
    "cp -as $HOME/wrf-hydro-training/example_case/Gridded/DOMAIN \\\n",
    "  ~/wrf-hydro-training/output/lesson6/run_gridded_baseline\n",
    "cp -as $HOME/wrf-hydro-training/example_case/Gridded/RESTART \\\n",
    "  ~/wrf-hydro-training/output/lesson6/run_gridded_baseline\n",
    "\n",
    "# Copy namelist files\n",
    "cp ~/wrf-hydro-training/example_case/Gridded/namelist.hrldas \\\n",
    "  ~/wrf-hydro-training/output/lesson6/run_gridded_baseline\n",
    "cp ~/wrf-hydro-training/example_case/Gridded/hydro.namelist \\\n",
    "  ~/wrf-hydro-training/output/lesson6/run_gridded_baseline"
   ]
  },
  {
   "cell_type": "markdown",
   "metadata": {},
   "source": [
    "**Run the simulation**"
   ]
  },
  {
   "cell_type": "code",
   "execution_count": 11,
   "metadata": {},
   "outputs": [],
   "source": [
    "%%bash\n",
    "cd ~/wrf-hydro-training/output/lesson6/run_gridded_baseline\n",
    "mpirun -np 2 ./wrf_hydro &> run.log"
   ]
  },
  {
   "cell_type": "code",
   "execution_count": 12,
   "metadata": {},
   "outputs": [],
   "source": [
    "%%bash\n",
    "cd ~/wrf-hydro-training/output/lesson6/run_gridded_baseline"
   ]
  },
  {
   "cell_type": "code",
   "execution_count": 13,
   "metadata": {
    "scrolled": true
   },
   "outputs": [
    {
     "name": "stdout",
     "output_type": "stream",
     "text": [
      " The model finished successfully.......\n"
     ]
    }
   ],
   "source": [
    "%%bash\n",
    "\n",
    "# Check that it finished successfully\n",
    "tail -1 ~/wrf-hydro-training/output/lesson6/run_gridded_baseline/diag_hydro.00000"
   ]
  },
  {
   "cell_type": "markdown",
   "metadata": {},
   "source": [
    "## Setup for experiments\n",
    "\n",
    "We will create a new simulation directory for each experiment. First, we will make a new simulation directory as we did with the baseline run above and use this as a template for creating multiple new simulation directories.\n",
    "\n",
    "**Step 1: Create a simulation directory to use as a template**"
   ]
  },
  {
   "cell_type": "code",
   "execution_count": 14,
   "metadata": {},
   "outputs": [],
   "source": [
    "%%bash\n",
    "\n",
    "# Make a new directory for our baseline simulation\n",
    "rm -rf ~/wrf-hydro-training/output/lesson6/run_gridded_template\n",
    "mkdir -p ~/wrf-hydro-training/output/lesson6/run_gridded_template\n",
    "\n",
    "# Copy our model files to the simulation directory\n",
    "cp ~/wrf-hydro-training/wrf_hydro_nwm_public/build/Run/*.TBL \\\n",
    "  ~/wrf-hydro-training/output/lesson6/run_gridded_template\n",
    "cp ~/wrf-hydro-training/wrf_hydro_nwm_public/build/Run/wrf_hydro \\\n",
    "  ~/wrf-hydro-training/output/lesson6/run_gridded_template\n",
    "\n",
    "# Create symbolic links to large domain files\n",
    "cp -as $HOME/wrf-hydro-training/example_case/FORCING \\\n",
    "  ~/wrf-hydro-training/output/lesson6/run_gridded_template\n",
    "cp -as $HOME/wrf-hydro-training/example_case/Gridded/DOMAIN \\\n",
    "  ~/wrf-hydro-training/output/lesson6/run_gridded_template\n",
    "cp -as $HOME/wrf-hydro-training/example_case/Gridded/RESTART \\\n",
    "  ~/wrf-hydro-training/output/lesson6/run_gridded_template\n",
    "\n",
    "# Copy namelist files\n",
    "cp ~/wrf-hydro-training/example_case/Gridded/namelist.hrldas \\\n",
    "  ~/wrf-hydro-training/output/lesson6/run_gridded_template\n",
    "cp ~/wrf-hydro-training/example_case/Gridded/hydro.namelist \\\n",
    "  ~/wrf-hydro-training/output/lesson6/run_gridded_template"
   ]
  },
  {
   "cell_type": "markdown",
   "metadata": {},
   "source": [
    "**Step 2: View the contents**"
   ]
  },
  {
   "cell_type": "code",
   "execution_count": 15,
   "metadata": {},
   "outputs": [
    {
     "name": "stdout",
     "output_type": "stream",
     "text": [
      "CHANPARM.TBL\n",
      "DOMAIN\n",
      "FORCING\n",
      "GENPARM.TBL\n",
      "HYDRO.TBL\n",
      "MPTABLE.TBL\n",
      "RESTART\n",
      "SOILPARM.TBL\n",
      "hydro.namelist\n",
      "namelist.hrldas\n",
      "wrf_hydro\n"
     ]
    },
    {
     "name": "stdout",
     "output_type": "stream",
     "text": [
      "melist.hrldas\n",
      "wrf_hydro\n"
     ]
    }
   ],
   "source": [
    "%%bash\n",
    "\n",
    "ls ~/wrf-hydro-training/output/lesson6/run_gridded_template"
   ]
  },
  {
   "cell_type": "markdown",
   "metadata": {},
   "source": [
    "### Review the baseline\n",
    "First, we will recall the hydrograph from location below the lake, at the outlet of the basin: "
   ]
  },
  {
   "cell_type": "code",
   "execution_count": 16,
   "metadata": {},
   "outputs": [],
   "source": [
    "# Load the required libraries\n",
    "import xarray as xr\n",
    "import matplotlib.pyplot as plt\n",
    "import pandas as pd\n",
    "\n",
    "xr.set_options(display_style=\"html\")\n",
    "from pandas.plotting import register_matplotlib_converters\n",
    "register_matplotlib_converters()"
   ]
  },
  {
   "cell_type": "code",
   "execution_count": 17,
   "metadata": {},
   "outputs": [],
   "source": [
    "chanobs_baseline = xr.open_mfdataset('/home/docker/wrf-hydro-training/output/lesson6/run_gridded_baseline/*CHANOBS*',\n",
    "                            combine='by_coords')\n",
    "obs = pd.read_csv('/home/docker/wrf-hydro-training/example_case/USGS_obs.csv',dtype=str)\n",
    "obs['dateTime'] = pd.to_datetime(obs['dateTime'])\n",
    "obs['streamflow_cms'] = pd.to_numeric(obs['streamflow_cms'])"
   ]
  },
  {
   "cell_type": "markdown",
   "metadata": {},
   "source": [
    "**Plot the default hydrograph at the stream location downstream of the lake**"
   ]
  },
  {
   "cell_type": "code",
   "execution_count": 18,
   "metadata": {},
   "outputs": [
    {
     "data": {
      "image/png": "[encoded data removed]",
      "text/plain": [
       "<Figure size 1200x600 with 1 Axes>"
      ]
     },
     "metadata": {},
     "output_type": "display_data"
    }
   ],
   "source": [
    "from pandas.plotting import register_matplotlib_converters\n",
    "register_matplotlib_converters()\n",
    "\n",
    "fig, axes = plt.subplots(ncols=1,figsize=(12, 6))\n",
    "plt.suptitle('Hydrographs for lakes on and off at stream location downstream of lake',fontsize=24)\n",
    "chanobs_baseline.sel(feature_id = 2).streamflow.plot(label='Lakes on',\n",
    "                                                        color='black',\n",
    "                                                        linestyle='--')\n",
    "obs[obs['site_no'] == '01447720'].plot(x='dateTime',\n",
    "                                       y='streamflow_cms',\n",
    "                                       ax=axes,\n",
    "                                       label='Observed',\n",
    "                                       color='grey')\n",
    "plt.legend()\n",
    "plt.show()"
   ]
  },
  {
   "cell_type": "markdown",
   "metadata": {},
   "source": [
    "From this default simulation, we have some work to do for improving the lake's representation.  First, let's see what happens when the lake is removed completely."
   ]
  },
  {
   "cell_type": "markdown",
   "metadata": {},
   "source": [
    "## Experiment 1 - Removing lakes from the simulation"
   ]
  },
  {
   "cell_type": "markdown",
   "metadata": {},
   "source": [
    "### Background\n",
    "In the gridded channel routing configuration, WRF-Hydro can be run with lakes on or off. \n",
    "\n",
    "**However, it is not as simple as flipping a switch** because in the gridded configuration, the lakes are explicitly represented on the fine grid (i.e. in the `LAKEGRID` variable in the `Fulldom_hires.nc` file).  This is different from how lakes are represented in reach-based routing, where lakes are represented as objects connected by channel reaches, rather than explicitly defined on the grid. Therefore, if a user wants to run the gridded routing configuration without lakes, they should run the GIS pre-processing tools and NOT specify a lake polygon file. This will create a `Fulldom_hires.nc` file with the LAKEGRID variable = -9999 (fill values). \n",
    "\n",
    "**Thus, we recommend that users setup two different domain directories to run with and without lakes, as is demonstrated in this training.**  \n",
    "\n",
    "The only other changes to execute with and without lakes are edits in the `hydro.namelist`. See below for details."
   ]
  },
  {
   "cell_type": "markdown",
   "metadata": {},
   "source": [
    "### Objective\n",
    "Run a simulation for the Gridded configuration without representing lakes and compare the resulting hydrographs at a gage downstream of the lake. "
   ]
  },
  {
   "cell_type": "markdown",
   "metadata": {},
   "source": [
    "### Create experiment simulation directory\n",
    "Note, we **WILL NOT** be able to use our `run_gridded_template` directory for this experiment because we have to use different geospatial data. These data are provided for you in the `example_case/Gridded_no_lakes` directory."
   ]
  },
  {
   "cell_type": "code",
   "execution_count": 19,
   "metadata": {},
   "outputs": [],
   "source": [
    "%%bash\n",
    "\n",
    "# Make a new directory for our baseline simulation\n",
    "rm -rf ~/wrf-hydro-training/output/lesson6/run_lakes_off\n",
    "mkdir -p ~/wrf-hydro-training/output/lesson6/run_lakes_off\n",
    "\n",
    "# Copy our model files to the simulation directory\n",
    "cp ~/wrf-hydro-training/wrf_hydro_nwm_public/build/Run/*.TBL \\\n",
    "  ~/wrf-hydro-training/output/lesson6/run_lakes_off\n",
    "cp ~/wrf-hydro-training/wrf_hydro_nwm_public/build/Run/wrf_hydro \\\n",
    "  ~/wrf-hydro-training/output/lesson6/run_lakes_off\n",
    "\n",
    "# Create symbolic links to large domain files\n",
    "cp -as $HOME/wrf-hydro-training/example_case/FORCING \\\n",
    "  ~/wrf-hydro-training/output/lesson6/run_lakes_off\n",
    "cp -as $HOME/wrf-hydro-training/example_case/Gridded_no_lakes/DOMAIN \\\n",
    "  ~/wrf-hydro-training/output/lesson6/run_lakes_off\n",
    "cp -as $HOME/wrf-hydro-training/example_case/Gridded_no_lakes/RESTART \\\n",
    "  ~/wrf-hydro-training/output/lesson6/run_lakes_off\n",
    "\n",
    "# Copy namelist files\n",
    "cp ~/wrf-hydro-training/example_case/Gridded_no_lakes/namelist.hrldas \\\n",
    "  ~/wrf-hydro-training/output/lesson6/run_lakes_off\n",
    "cp ~/wrf-hydro-training/example_case/Gridded_no_lakes/hydro.namelist \\\n",
    "  ~/wrf-hydro-training/output/lesson6/run_lakes_off"
   ]
  },
  {
   "cell_type": "markdown",
   "metadata": {},
   "source": [
    "### Review the differences and run the simulation\n",
    "\n",
    "**Step 1: Check that the `Fulldom_hires.nc` file in the `Gridded` dir has a lake, i.e. the value of 1 occurs on the grid.**\n",
    "\n",
    "You can use ncdump to check the values of the LAKEGRID variable. On your home machine, using a program like ncview or panoply is an easy way to visually check these values. "
   ]
  },
  {
   "cell_type": "code",
   "execution_count": 20,
   "metadata": {
    "scrolled": true
   },
   "outputs": [
    {
     "name": "stdout",
     "output_type": "stream",
     "text": [
      "    -9999, -9999, -9999, -9999, -9999, -9999, -9999, -9999, -9999, -9999, \n",
      "    -9999, -9999, -9999, -9999, -9999, -9999, -9999, -9999, -9999, -9999, \n",
      "    -9999, -9999, -9999, -9999, -9999, -9999, -9999, -9999, -9999, -9999, \n",
      "    -9999, -9999, -9999, -9999, -9999, -9999, -9999, -9999, -9999, -9999, \n",
      "    -9999, -9999, -9999, -9999, -9999, -9999, -9999, -9999, -9999, -9999,\n",
      "  -9999, -9999, -9999, -9999, -9999, -9999, -9999, -9999, -9999, -9999, \n",
      "    -9999, -9999, -9999, -9999, -9999, -9999, -9999, -9999, -9999, -9999, \n",
      "    -9999, -9999, -9999, -9999, -9999, -9999, -9999, -9999, -9999, -9999, \n",
      "    -9999, -9999, -9999, -9999, -9999, -9999, -9999, -9999, -9999, -9999, \n",
      "    -9999, -9999, -9999, -9999, -9999, -9999, -9999, -9999, -9999, -9999, \n",
      "    -9999, -9999, -9999, -9999, -9999, -9999, -9999, -9999, -9999, -9999,\n",
      "  -9999, -9999, -9999, -9999, -9999, -9999, -9999, -9999, -9999, -9999, \n",
      "    -9999, -9999, -9999, -9999, -9999, -9999, -9999, -9999, -9999, -9999, \n",
      "    -9999, -9999, -9999, -9999, -9999, -9999, -9999, -9999, -9999, -9999, \n",
      "    -9999, -9999, -9999, -9999, -9999, -9999, -9999, -9999, -9999, -9999, \n",
      "    -9999, -9999, -9999, -9999, -9999, -9999, -9999, -9999, -9999, -9999, \n",
      "    -9999, -9999, -9999, -9999, -9999, -9999, -9999, -9999, -9999, -9999,\n",
      "  -9999, -9999, -9999, -9999, -9999, -9999, -9999, -9999, -9999, -9999, \n",
      "    -9999, -9999, -9999, -9999, -9999, -9999, -9999, -9999, -9999, -9999, \n",
      "    -9999, -9999, -9999, -9999, -9999, -9999, -9999, -9999, -9999, -9999, \n",
      "    -9999, -9999, -9999, -9999, -9999, -9999, -9999, -9999, -9999, -9999, \n",
      "    -9999, -9999, -9999, -9999, -9999, -9999, -9999, -9999, -9999, -9999, \n",
      "    -9999, -9999, -9999, -9999, -9999, -9999, -9999, -9999, -9999, -9999,\n",
      "  -9999, -9999, -9999, -9999, -9999, -9999, -9999, -9999, -9999, -9999, \n",
      "    -9999, -9999, -9999, -9999, -9999, -9999, -9999, -9999, -9999, -9999, \n",
      "    -9999, -9999, -9999, -9999, -9999, -9999, -9999, -9999, -9999, -9999, \n",
      "    -9999, -9999, -9999, -9999, -9999, -9999, -9999, -9999, -9999, -9999, \n",
      "    -9999, -9999, -9999, -9999, -9999, -9999, -9999, -9999, -9999, -9999, \n",
      "    -9999, -9999, -9999, -9999, -9999, -9999, -9999, -9999, -9999, -9999,\n",
      "  -9999, -9999, -9999, -9999, -9999, -9999, -9999, -9999, -9999, -9999, \n",
      "    -9999, -9999, -9999, -9999, -9999, -9999, -9999, -9999, -9999, -9999, \n",
      "    -9999, -9999, -9999, -9999, -9999, -9999, -9999, -9999, -9999, -9999, \n",
      "    -9999, -9999, -9999, -9999, -9999, -9999, -9999, -9999, -9999, -9999, \n",
      "    -9999, -9999, -9999, -9999, -9999, -9999, -9999, -9999, -9999, -9999, \n",
      "    -9999, -9999, -9999, -9999, -9999, -9999, -9999, -9999, -9999, -9999,\n",
      "  -9999, -9999, -9999, -9999, -9999, -9999, -9999, -9999, -9999, -9999, \n",
      "    -9999, -9999, -9999, -9999, -9999, -9999, -9999, -9999, -9999, -9999, \n",
      "    -9999, -9999, -9999, -9999, -9999, -9999, -9999, -9999, -9999, -9999, \n",
      "    -9999, -9999, -9999, -9999, -9999, -9999, -9999, -9999, -9999, -9999, \n",
      "    -9999, -9999, -9999, -9999, -9999, -9999, -9999, -9999, -9999, -9999, \n",
      "    -9999, -9999, -9999, -9999, -9999, -9999, -9999, -9999, -9999, -9999,\n",
      "  -9999, -9999, -9999, -9999, -9999, -9999, -9999, -9999, -9999, -9999, \n",
      "    -9999, -9999, -9999, -9999, -9999, -9999, -9999, -9999, -9999, -9999, \n",
      "    -9999, -9999, -9999, -9999, -9999, -9999, -9999, -9999, -9999, -9999, \n",
      "    -9999, -9999, -9999, -9999, -9999, -9999, -9999, -9999, -9999, -9999, \n",
      "    -9999, -9999, -9999, -9999, -9999, -9999, -9999, -9999, -9999, -9999, \n",
      "    -9999, -9999, -9999, -9999, -9999, -9999, -9999, -9999, -9999, -9999,\n",
      "  -9999, -9999, -9999, -9999, -9999, -9999, -9999, -9999, -9999, -9999, \n",
      "    -9999, -9999, -9999, -9999, -9999, -9999, -9999, -9999, -9999, -9999, \n",
      "    -9999, -9999, -9999, -9999, -9999, -9999, -9999, -9999, -9999, -9999, \n",
      "    -9999, -9999, -9999, -9999, -9999, -9999, -9999, -9999, -9999, -9999, \n",
      "    -9999, -9999, -9999, -9999, -9999, -9999, -9999, -9999, -9999, -9999, \n",
      "    -9999, -9999, -9999, -9999, -9999, -9999, -9999, -9999, -9999, -9999,\n",
      "  -9999, -9999, -9999, -9999, -9999, -9999, -9999, -9999, -9999, -9999, \n",
      "    -9999, -9999, -9999, -9999, -9999, -9999, -9999, -9999, -9999, -9999, \n",
      "    -9999, -9999, -9999, -9999, -9999, -9999, -9999, -9999, -9999, -9999, \n",
      "    -9999, -9999, -9999, -9999, -9999, -9999, -9999, -9999, -9999, -9999, \n",
      "    -9999, -9999, -9999, -9999, -9999, -9999, -9999, -9999, -9999, -9999, \n",
      "    -9999, -9999, -9999, -9999, -9999, -9999, -9999, -9999, -9999, -9999,\n",
      "  -9999, -9999, -9999, -9999, -9999, -9999, -9999, -9999, -9999, -9999, \n",
      "    -9999, -9999, -9999, -9999, -9999, -9999, -9999, -9999, -9999, -9999, \n",
      "    -9999, -9999, -9999, -9999, -9999, -9999, -9999, -9999, -9999, -9999, \n",
      "    -9999, -9999, -9999, -9999, -9999, -9999, -9999, -9999, -9999, -9999, \n",
      "    -9999, -9999, -9999, -9999, -9999, -9999, -9999, -9999, -9999, -9999, \n",
      "    -9999, -9999, -9999, -9999, -9999, -9999, -9999, -9999, -9999, -9999,\n",
      "  -9999, -9999, -9999, -9999, -9999, -9999, -9999, -9999, -9999, -9999, \n",
      "    -9999, -9999, -9999, -9999, -9999, -9999, -9999, -9999, -9999, -9999, \n",
      "    -9999, -9999, -9999, -9999, -9999, -9999, -9999, -9999, -9999, -9999, \n",
      "    -9999, -9999, -9999, -9999, -9999, -9999, -9999, -9999, -9999, -9999, \n",
      "    -9999, -9999, -9999, -9999, -9999, -9999, -9999, -9999, -9999, -9999, \n",
      "    -9999, -9999, -9999, -9999, -9999, -9999, -9999, -9999, -9999, -9999,\n",
      "  -9999, -9999, -9999, -9999, -9999, -9999, -9999, -9999, -9999, -9999, \n",
      "    -9999, -9999, -9999, -9999, -9999, -9999, -9999, -9999, -9999, -9999, \n",
      "    -9999, -9999, -9999, -9999, -9999, -9999, -9999, -9999, -9999, -9999, \n",
      "    -9999, -9999, -9999, -9999, -9999, -9999, -9999, -9999, -9999, -9999, \n",
      "    -9999, -9999, -9999, -9999, -9999, -9999, -9999, -9999, -9999, -9999, \n",
      "    -9999, -9999, -9999, -9999, -9999, -9999, -9999, -9999, -9999, -9999,\n",
      "  -9999, -9999, -9999, -9999, -9999, -9999, -9999, -9999, -9999, -9999, \n",
      "    -9999, -9999, -9999, -9999, -9999, -9999, -9999, -9999, -9999, -9999, \n",
      "    -9999, -9999, -9999, -9999, -9999, -9999, -9999, -9999, -9999, -9999, \n",
      "    -9999, -9999, -9999, -9999, -9999, -9999, -9999, -9999, -9999, -9999, \n",
      "    -9999, -9999, -9999, -9999, -9999, -9999, -9999, -9999, -9999, -9999, \n",
      "    -9999, -9999, -9999, -9999, -9999, -9999, -9999, -9999, -9999, -9999,\n",
      "  -9999, -9999, -9999, -9999, -9999, -9999, -9999, -9999, -9999, -9999, \n",
      "    -9999, -9999, -9999, -9999, -9999, -9999, -9999, -9999, -9999, -9999, \n",
      "    -9999, -9999, -9999, -9999, -9999, -9999, -9999, -9999, -9999, -9999, \n",
      "    -9999, -9999, -9999, -9999, -9999, -9999, -9999, -9999, -9999, -9999, \n",
      "    -9999, -9999, -9999, -9999, -9999, -9999, -9999, -9999, -9999, -9999, \n",
      "    -9999, -9999, -9999, -9999, -9999, -9999, -9999, -9999, -9999, -9999,\n",
      "  -9999, -9999, -9999, -9999, -9999, -9999, -9999, -9999, -9999, -9999, \n",
      "    -9999, -9999, -9999, -9999, -9999, -9999, -9999, -9999, -9999, -9999, \n",
      "    -9999, -9999, -9999, -9999, -9999, -9999, -9999, -9999, -9999, -9999, \n",
      "    -9999, -9999, -9999, -9999, -9999, -9999, -9999, -9999, -9999, -9999, \n",
      "    -9999, -9999, -9999, -9999, -9999, -9999, -9999, -9999, -9999, -9999, \n",
      "    -9999, -9999, -9999, -9999, -9999, -9999, -9999, -9999, -9999, -9999,\n",
      "  -9999, -9999, -9999, -9999, -9999, -9999, -9999, -9999, -9999, -9999, \n",
      "    -9999, -9999, -9999, -9999, -9999, -9999, -9999, -9999, -9999, -9999, \n",
      "    -9999, -9999, -9999, -9999, -9999, -9999, -9999, -9999, -9999, -9999, \n",
      "    -9999, -9999, -9999, -9999, -9999, -9999, -9999, -9999, -9999, -9999, \n",
      "    -9999, -9999, -9999, -9999, -9999, -9999, -9999, -9999, -9999, -9999, \n",
      "    -9999, -9999, -9999, -9999, -9999, -9999, -9999, -9999, -9999, -9999,\n",
      "  -9999, -9999, -9999, -9999, -9999, -9999, -9999, -9999, -9999, -9999, \n",
      "    -9999, -9999, -9999, -9999, -9999, -9999, -9999, -9999, -9999, -9999, \n",
      "    -9999, -9999, -9999, -9999, -9999, -9999, -9999, -9999, -9999, -9999, \n",
      "    -9999, -9999, -9999, -9999, -9999, -9999, -9999, -9999, -9999, -9999, \n",
      "    -9999, -9999, -9999, -9999, -9999, -9999, -9999, -9999, -9999, -9999, \n",
      "    -9999, -9999, -9999, -9999, -9999, -9999, -9999, -9999, -9999, -9999,\n",
      "  -9999, -9999, -9999, -9999, -9999, -9999, -9999, -9999, -9999, -9999, \n",
      "    -9999, -9999, -9999, -9999, -9999, -9999, -9999, -9999, -9999, -9999, \n",
      "    -9999, -9999, -9999, -9999, -9999, -9999, -9999, -9999, -9999, -9999, \n",
      "    -9999, -9999, -9999, -9999, -9999, -9999, -9999, -9999, -9999, -9999, \n",
      "    -9999, -9999, -9999, -9999, -9999, -9999, -9999, -9999, -9999, -9999, \n",
      "    -9999, -9999, -9999, -9999, -9999, -9999, -9999, -9999, -9999, -9999,\n",
      "  -9999, -9999, -9999, -9999, -9999, -9999, -9999, -9999, -9999, -9999, \n",
      "    -9999, -9999, -9999, -9999, -9999, -9999, -9999, -9999, -9999, -9999, \n",
      "    -9999, -9999, -9999, -9999, -9999, -9999, -9999, -9999, -9999, -9999, \n",
      "    -9999, -9999, -9999, -9999, -9999, -9999, -9999, -9999, -9999, -9999, \n",
      "    -9999, -9999, -9999, -9999, -9999, -9999, -9999, -9999, -9999, -9999, \n",
      "    -9999, -9999, -9999, -9999, -9999, -9999, -9999, -9999, -9999, -9999,\n",
      "  -9999, -9999, -9999, -9999, -9999, -9999, -9999, -9999, -9999, -9999, \n",
      "    -9999, -9999, -9999, -9999, -9999, -9999, -9999, -9999, -9999, -9999, \n",
      "    -9999, -9999, -9999, -9999, -9999, -9999, -9999, -9999, -9999, -9999, \n",
      "    -9999, -9999, -9999, -9999, -9999, -9999, -9999, -9999, -9999, -9999, \n",
      "    -9999, -9999, -9999, -9999, -9999, -9999, -9999, -9999, -9999, -9999, \n",
      "    -9999, -9999, -9999, -9999, -9999, -9999, -9999, -9999, -9999, -9999,\n",
      "  -9999, -9999, -9999, -9999, -9999, -9999, -9999, -9999, -9999, -9999, \n",
      "    -9999, -9999, -9999, -9999, -9999, -9999, -9999, -9999, -9999, -9999, \n",
      "    -9999, -9999, -9999, -9999, -9999, -9999, -9999, -9999, -9999, -9999, \n",
      "    -9999, -9999, -9999, -9999, -9999, -9999, -9999, -9999, -9999, -9999, \n",
      "    -9999, -9999, -9999, -9999, -9999, -9999, -9999, -9999, -9999, -9999, \n",
      "    -9999, -9999, -9999, -9999, -9999, -9999, -9999, -9999, -9999, -9999,\n",
      "  -9999, -9999, -9999, -9999, -9999, -9999, -9999, -9999, -9999, -9999, \n",
      "    -9999, -9999, -9999, -9999, -9999, -9999, -9999, -9999, -9999, -9999, \n",
      "    -9999, -9999, -9999, -9999, -9999, -9999, -9999, -9999, -9999, -9999, \n",
      "    -9999, -9999, -9999, -9999, -9999, -9999, -9999, -9999, -9999, -9999, \n",
      "    -9999, -9999, -9999, -9999, -9999, -9999, -9999, -9999, -9999, -9999, \n",
      "    -9999, -9999, -9999, -9999, -9999, -9999, -9999, -9999, -9999, -9999,\n",
      "  -9999, -9999, -9999, -9999, -9999, -9999, -9999, -9999, -9999, -9999, \n",
      "    -9999, -9999, -9999, -9999, -9999, -9999, -9999, -9999, -9999, -9999, \n",
      "    -9999, -9999, -9999, -9999, -9999, -9999, -9999, -9999, -9999, -9999, \n",
      "    -9999, -9999, -9999, -9999, -9999, -9999, -9999, -9999, -9999, -9999, \n",
      "    -9999, -9999, -9999, -9999, -9999, -9999, -9999, -9999, -9999, -9999, \n",
      "    -9999, -9999, -9999, -9999, -9999, -9999, -9999, -9999, -9999, -9999,\n",
      "  -9999, -9999, -9999, -9999, -9999, -9999, -9999, -9999, -9999, -9999, \n",
      "    -9999, -9999, -9999, -9999, -9999, -9999, -9999, -9999, -9999, -9999, \n",
      "    -9999, -9999, -9999, -9999, -9999, -9999, -9999, -9999, -9999, -9999, \n",
      "    -9999, -9999, -9999, -9999, -9999, -9999, -9999, -9999, -9999, -9999, \n",
      "    -9999, -9999, -9999, -9999, -9999, -9999, -9999, -9999, -9999, -9999, \n",
      "    -9999, -9999, -9999, -9999, -9999, -9999, -9999, -9999, -9999, -9999,\n",
      "  -9999, -9999, -9999, -9999, -9999, -9999, -9999, -9999, -9999, -9999, \n",
      "    -9999, -9999, -9999, -9999, -9999, -9999, -9999, -9999, -9999, -9999, \n",
      "    -9999, -9999, -9999, -9999, -9999, -9999, -9999, -9999, -9999, -9999, \n",
      "    -9999, -9999, -9999, -9999, -9999, -9999, -9999, -9999, -9999, -9999, \n",
      "    -9999, -9999, -9999, -9999, -9999, -9999, -9999, -9999, -9999, -9999, \n",
      "    -9999, -9999, -9999, -9999, -9999, -9999, -9999, -9999, -9999, -9999,\n",
      "  -9999, -9999, -9999, -9999, -9999, -9999, -9999, -9999, -9999, -9999, \n",
      "    -9999, -9999, -9999, -9999, -9999, -9999, -9999, -9999, -9999, -9999, \n",
      "    -9999, -9999, -9999, -9999, -9999, -9999, -9999, -9999, -9999, -9999, \n",
      "    -9999, -9999, -9999, -9999, -9999, -9999, -9999, -9999, -9999, -9999, \n",
      "    -9999, -9999, -9999, -9999, -9999, -9999, -9999, -9999, -9999, -9999, \n",
      "    -9999, -9999, -9999, -9999, -9999, -9999, -9999, -9999, -9999, -9999,\n",
      "  -9999, -9999, -9999, -9999, -9999, -9999, -9999, -9999, -9999, -9999, \n",
      "    -9999, -9999, -9999, -9999, -9999, -9999, -9999, -9999, -9999, -9999, \n",
      "    -9999, -9999, -9999, -9999, -9999, -9999, -9999, -9999, -9999, -9999, \n",
      "    -9999, -9999, -9999, -9999, -9999, -9999, -9999, -9999, -9999, -9999, \n",
      "    -9999, -9999, -9999, -9999, -9999, -9999, -9999, -9999, -9999, -9999, \n",
      "    -9999, -9999, -9999, -9999, -9999, -9999, -9999, -9999, -9999, -9999,\n",
      "  -9999, -9999, -9999, -9999, -9999, -9999, -9999, -9999, -9999, -9999, \n",
      "    -9999, -9999, -9999, -9999, -9999, -9999, -9999, -9999, -9999, -9999, \n",
      "    -9999, -9999, -9999, -9999, -9999, -9999, -9999, -9999, -9999, -9999, \n",
      "    -9999, -9999, -9999, -9999, -9999, -9999, -9999, -9999, -9999, -9999, \n",
      "    -9999, -9999, -9999, -9999, -9999, -9999, -9999, -9999, -9999, -9999, \n",
      "    -9999, -9999, -9999, -9999, -9999, -9999, -9999, -9999, -9999, -9999,\n",
      "  -9999, -9999, -9999, -9999, -9999, -9999, -9999, -9999, -9999, -9999, \n",
      "    -9999, -9999, -9999, -9999, -9999, -9999, -9999, -9999, -9999, -9999, \n",
      "    -9999, -9999, -9999, -9999, -9999, -9999, -9999, -9999, -9999, -9999, \n",
      "    -9999, -9999, -9999, -9999, -9999, -9999, -9999, -9999, -9999, -9999, \n",
      "    -9999, 1, -9999, -9999, -9999, -9999, -9999, -9999, -9999, -9999, -9999, \n",
      "    -9999, -9999, -9999, -9999, -9999, -9999, -9999, -9999, -9999,\n",
      "  -9999, -9999, -9999, -9999, -9999, -9999, -9999, -9999, -9999, -9999, \n",
      "    -9999, -9999, -9999, -9999, -9999, -9999, -9999, -9999, -9999, -9999, \n",
      "    -9999, -9999, -9999, -9999, -9999, -9999, -9999, -9999, -9999, -9999, \n",
      "    -9999, -9999, -9999, -9999, -9999, -9999, -9999, -9999, -9999, -9999, \n",
      "    -9999, 1, 1, -9999, -9999, -9999, -9999, -9999, -9999, -9999, -9999, \n",
      "    -9999, -9999, -9999, -9999, -9999, -9999, -9999, -9999, -9999,\n",
      "  -9999, -9999, -9999, -9999, -9999, -9999, -9999, -9999, -9999, -9999, \n",
      "    -9999, -9999, -9999, -9999, -9999, -9999, -9999, -9999, -9999, -9999, \n",
      "    -9999, -9999, -9999, -9999, -9999, -9999, -9999, -9999, -9999, -9999, \n",
      "    -9999, -9999, -9999, -9999, -9999, -9999, -9999, -9999, -9999, -9999, \n",
      "    -9999, -9999, 1, 1, 1, 1, -9999, -9999, -9999, -9999, -9999, -9999, \n",
      "    -9999, -9999, -9999, -9999, -9999, -9999, -9999, -9999,\n",
      "  -9999, -9999, -9999, -9999, -9999, -9999, -9999, -9999, -9999, -9999, \n",
      "    -9999, -9999, -9999, -9999, -9999, -9999, -9999, -9999, -9999, -9999, \n",
      "    -9999, -9999, -9999, -9999, -9999, -9999, -9999, -9999, -9999, -9999, \n",
      "    -9999, -9999, -9999, -9999, -9999, -9999, -9999, -9999, -9999, -9999, \n",
      "    -9999, -9999, -9999, -9999, 1, 1, 1, 1, 1, 1, -9999, -9999, -9999, -9999, \n",
      "    -9999, -9999, -9999, -9999, -9999, -9999,\n",
      "  -9999, -9999, -9999, -9999, -9999, -9999, -9999, -9999, -9999, -9999, \n",
      "    -9999, -9999, -9999, -9999, -9999, -9999, -9999, -9999, -9999, -9999, \n",
      "    -9999, -9999, -9999, -9999, -9999, -9999, -9999, -9999, -9999, -9999, \n",
      "    -9999, -9999, -9999, -9999, -9999, -9999, -9999, -9999, -9999, -9999, \n",
      "    -9999, -9999, -9999, -9999, -9999, 1, 1, 1, 1, 1, -9999, -9999, -9999, \n",
      "    -9999, -9999, -9999, -9999, -9999, -9999, -9999,\n",
      "  -9999, -9999, -9999, -9999, -9999, -9999, -9999, -9999, -9999, -9999, \n",
      "    -9999, -9999, -9999, -9999, -9999, -9999, -9999, -9999, -9999, -9999, \n",
      "    -9999, -9999, -9999, -9999, -9999, -9999, -9999, -9999, -9999, -9999, \n",
      "    -9999, -9999, -9999, -9999, -9999, -9999, -9999, -9999, -9999, -9999, \n",
      "    -9999, -9999, -9999, -9999, -9999, -9999, 1, 1, 1, -9999, -9999, -9999, \n",
      "    -9999, -9999, -9999, -9999, -9999, -9999, -9999, -9999,\n",
      "  -9999, -9999, -9999, -9999, -9999, -9999, -9999, -9999, -9999, -9999, \n",
      "    -9999, -9999, -9999, -9999, -9999, -9999, -9999, -9999, -9999, -9999, \n",
      "    -9999, -9999, -9999, -9999, -9999, -9999, -9999, -9999, -9999, -9999, \n",
      "    -9999, -9999, -9999, -9999, -9999, -9999, -9999, -9999, -9999, -9999, \n",
      "    -9999, -9999, -9999, -9999, -9999, -9999, -9999, 1, 1, 1, -9999, -9999, \n",
      "    -9999, -9999, -9999, -9999, -9999, -9999, -9999, -9999,\n",
      "  -9999, -9999, -9999, -9999, -9999, -9999, -9999, -9999, -9999, -9999, \n",
      "    -9999, -9999, -9999, -9999, -9999, -9999, -9999, -9999, -9999, -9999, \n",
      "    -9999, -9999, -9999, -9999, -9999, -9999, -9999, -9999, -9999, -9999, \n",
      "    -9999, -9999, -9999, -9999, -9999, -9999, -9999, -9999, -9999, -9999, \n",
      "    -9999, -9999, -9999, -9999, -9999, -9999, -9999, -9999, 1, 1, 1, 1, \n",
      "    -9999, -9999, -9999, -9999, -9999, -9999, -9999, -9999,\n",
      "  -9999, -9999, -9999, -9999, -9999, -9999, -9999, -9999, -9999, -9999, \n",
      "    -9999, -9999, -9999, -9999, -9999, -9999, -9999, -9999, -9999, -9999, \n",
      "    -9999, -9999, -9999, -9999, -9999, -9999, -9999, -9999, -9999, -9999, \n",
      "    -9999, -9999, -9999, -9999, -9999, -9999, -9999, -9999, -9999, -9999, \n",
      "    -9999, -9999, -9999, -9999, -9999, -9999, -9999, -9999, -9999, 1, 1, 1, \n",
      "    -9999, -9999, -9999, -9999, -9999, -9999, -9999, -9999,\n",
      "  -9999, -9999, -9999, -9999, -9999, -9999, -9999, -9999, -9999, -9999, \n",
      "    -9999, -9999, -9999, -9999, -9999, -9999, -9999, -9999, -9999, -9999, \n",
      "    -9999, -9999, -9999, -9999, -9999, -9999, -9999, -9999, -9999, -9999, \n",
      "    -9999, -9999, -9999, -9999, -9999, -9999, -9999, -9999, -9999, -9999, \n",
      "    -9999, -9999, -9999, -9999, -9999, -9999, -9999, -9999, 1, 1, 1, 1, \n",
      "    -9999, -9999, -9999, -9999, -9999, -9999, -9999, -9999,\n",
      "  -9999, -9999, -9999, -9999, -9999, -9999, -9999, -9999, -9999, -9999, \n",
      "    -9999, -9999, -9999, -9999, -9999, -9999, -9999, -9999, -9999, -9999, \n",
      "    -9999, -9999, -9999, -9999, -9999, -9999, -9999, -9999, -9999, -9999, \n",
      "    -9999, -9999, -9999, -9999, -9999, -9999, -9999, -9999, -9999, -9999, \n",
      "    -9999, -9999, -9999, -9999, -9999, -9999, -9999, -9999, 1, 1, -9999, \n",
      "    -9999, -9999, -9999, -9999, -9999, -9999, -9999, -9999, -9999,\n",
      "  -9999, -9999, -9999, -9999, -9999, -9999, -9999, -9999, -9999, -9999, \n",
      "    -9999, -9999, -9999, -9999, -9999, -9999, -9999, -9999, -9999, -9999, \n",
      "    -9999, -9999, -9999, -9999, -9999, -9999, -9999, -9999, -9999, -9999, \n",
      "    -9999, -9999, -9999, -9999, -9999, -9999, -9999, -9999, -9999, -9999, \n",
      "    -9999, -9999, -9999, -9999, -9999, -9999, -9999, -9999, 1, -9999, -9999, \n",
      "    -9999, -9999, -9999, -9999, -9999, -9999, -9999, -9999, -9999,\n",
      "  -9999, -9999, -9999, -9999, -9999, -9999, -9999, -9999, -9999, -9999, \n",
      "    -9999, -9999, -9999, -9999, -9999, -9999, -9999, -9999, -9999, -9999, \n",
      "    -9999, -9999, -9999, -9999, -9999, -9999, -9999, -9999, -9999, -9999, \n",
      "    -9999, -9999, -9999, -9999, -9999, -9999, -9999, -9999, -9999, -9999, \n",
      "    -9999, -9999, -9999, -9999, -9999, -9999, -9999, -9999, 1, 1, -9999, \n",
      "    -9999, -9999, -9999, -9999, -9999, -9999, -9999, -9999, -9999,\n",
      "  -9999, -9999, -9999, -9999, -9999, -9999, -9999, -9999, -9999, -9999, \n",
      "    -9999, -9999, -9999, -9999, -9999, -9999, -9999, -9999, -9999, -9999, \n",
      "    -9999, -9999, -9999, -9999, -9999, -9999, -9999, -9999, -9999, -9999, \n",
      "    -9999, -9999, -9999, -9999, -9999, -9999, -9999, -9999, -9999, -9999, \n",
      "    -9999, -9999, -9999, -9999, -9999, -9999, -9999, -9999, -9999, 1, -9999, \n",
      "    -9999, -9999, -9999, -9999, -9999, -9999, -9999, -9999, -9999,\n",
      "  -9999, -9999, -9999, -9999, -9999, -9999, -9999, -9999, -9999, -9999, \n",
      "    -9999, -9999, -9999, -9999, -9999, -9999, -9999, -9999, -9999, -9999, \n",
      "    -9999, -9999, -9999, -9999, -9999, -9999, -9999, -9999, -9999, -9999, \n",
      "    -9999, -9999, -9999, -9999, -9999, -9999, -9999, -9999, -9999, -9999, \n",
      "    -9999, -9999, -9999, -9999, -9999, -9999, -9999, -9999, -9999, 1, -9999, \n",
      "    -9999, -9999, -9999, -9999, -9999, -9999, -9999, -9999, -9999,\n",
      "  -9999, -9999, -9999, -9999, -9999, -9999, -9999, -9999, -9999, -9999, \n",
      "    -9999, -9999, -9999, -9999, -9999, -9999, -9999, -9999, -9999, -9999, \n",
      "    -9999, -9999, -9999, -9999, -9999, -9999, -9999, -9999, -9999, -9999, \n",
      "    -9999, -9999, -9999, -9999, -9999, -9999, -9999, -9999, -9999, -9999, \n",
      "    -9999, -9999, -9999, -9999, -9999, -9999, -9999, -9999, -9999, -9999, \n",
      "    -9999, -9999, -9999, -9999, -9999, -9999, -9999, -9999, -9999, -9999,\n",
      "  -9999, -9999, -9999, -9999, -9999, -9999, -9999, -9999, -9999, -9999, \n",
      "    -9999, -9999, -9999, -9999, -9999, -9999, -9999, -9999, -9999, -9999, \n",
      "    -9999, -9999, -9999, -9999, -9999, -9999, -9999, -9999, -9999, -9999, \n",
      "    -9999, -9999, -9999, -9999, -9999, -9999, -9999, -9999, -9999, -9999, \n",
      "    -9999, -9999, -9999, -9999, -9999, -9999, -9999, -9999, -9999, -9999, \n",
      "    -9999, -9999, -9999, -9999, -9999, -9999, -9999, -9999, -9999, -9999,\n",
      "  -9999, -9999, -9999, -9999, -9999, -9999, -9999, -9999, -9999, -9999, \n",
      "    -9999, -9999, -9999, -9999, -9999, -9999, -9999, -9999, -9999, -9999, \n",
      "    -9999, -9999, -9999, -9999, -9999, -9999, -9999, -9999, -9999, -9999, \n",
      "    -9999, -9999, -9999, -9999, -9999, -9999, -9999, -9999, -9999, -9999, \n",
      "    -9999, -9999, -9999, -9999, -9999, -9999, -9999, -9999, -9999, -9999, \n",
      "    -9999, -9999, -9999, -9999, -9999, -9999, -9999, -9999, -9999, -9999,\n",
      "  -9999, -9999, -9999, -9999, -9999, -9999, -9999, -9999, -9999, -9999, \n",
      "    -9999, -9999, -9999, -9999, -9999, -9999, -9999, -9999, -9999, -9999, \n",
      "    -9999, -9999, -9999, -9999, -9999, -9999, -9999, -9999, -9999, -9999, \n",
      "    -9999, -9999, -9999, -9999, -9999, -9999, -9999, -9999, -9999, -9999, \n",
      "    -9999, -9999, -9999, -9999, -9999, -9999, -9999, -9999, -9999, -9999, \n",
      "    -9999, -9999, -9999, -9999, -9999, -9999, -9999, -9999, -9999, -9999,\n",
      "  -9999, -9999, -9999, -9999, -9999, -9999, -9999, -9999, -9999, -9999, \n",
      "    -9999, -9999, -9999, -9999, -9999, -9999, -9999, -9999, -9999, -9999, \n",
      "    -9999, -9999, -9999, -9999, -9999, -9999, -9999, -9999, -9999, -9999, \n",
      "    -9999, -9999, -9999, -9999, -9999, -9999, -9999, -9999, -9999, -9999, \n",
      "    -9999, -9999, -9999, -9999, -9999, -9999, -9999, -9999, -9999, -9999, \n",
      "    -9999, -9999, -9999, -9999, -9999, -9999, -9999, -9999, -9999, -9999,\n",
      "  -9999, -9999, -9999, -9999, -9999, -9999, -9999, -9999, -9999, -9999, \n",
      "    -9999, -9999, -9999, -9999, -9999, -9999, -9999, -9999, -9999, -9999, \n",
      "    -9999, -9999, -9999, -9999, -9999, -9999, -9999, -9999, -9999, -9999, \n",
      "    -9999, -9999, -9999, -9999, -9999, -9999, -9999, -9999, -9999, -9999, \n",
      "    -9999, -9999, -9999, -9999, -9999, -9999, -9999, -9999, -9999, -9999, \n",
      "    -9999, -9999, -9999, -9999, -9999, -9999, -9999, -9999, -9999, -9999 ;\n",
      "}\n"
     ]
    },
    {
     "name": "stdout",
     "output_type": "stream",
     "text": [
      "-9999, -9999, -9999, -9999, -9999, -9999, -9999, \n",
      "    -9999, -9999, -9999, -9999, -9999, -9999, -999"
     ]
    },
    {
     "name": "stdout",
     "output_type": "stream",
     "text": [
      "9, -9999, -9999, -9999, \n",
      "    -9999, -9999, -9999, -9999, -9999, -9999, -9999, -9999, -9999, -9999, \n"
     ]
    },
    {
     "name": "stdout",
     "output_type": "stream",
     "text": [
      "    -9999, -9999, -9999, -9999, -9999, -9999, -9999, -9999, -9999, -9999,\n",
      "  -9999, -9999, -9999, -99"
     ]
    },
    {
     "name": "stdout",
     "output_type": "stream",
     "text": [
      "99, -9999, -9999, -9999, -9999, -9999, -9999, \n",
      "    -9999, -9999, -9999, -9999, -9999, -9999, -9999, "
     ]
    },
    {
     "name": "stdout",
     "output_type": "stream",
     "text": [
      "-9999, -9999, -9999, \n",
      "    -9999, -9999, -9999, -9999, -9999, -9999, -9999, -9999, -9999, -9999, \n",
      "   "
     ]
    },
    {
     "name": "stdout",
     "output_type": "stream",
     "text": [
      " -9999, -9999, -9999, -9999, -9999, -9999, -9999, -9999, -9999, -9999, \n",
      "    -9999, -9999, -9999, -99"
     ]
    },
    {
     "name": "stdout",
     "output_type": "stream",
     "text": [
      "99, -9999, -9999, -9999, -9999, -9999, -9999, \n",
      "    -9999, -9999, -9999, -9999, -9999, -9999, -9999, "
     ]
    },
    {
     "name": "stdout",
     "output_type": "stream",
     "text": [
      "-9999, -9999, -9999,\n",
      "  -9999, -9999, -9999, -9999, -9999, -9999, -9999, -9999, -9999, -9999, \n",
      "    -9"
     ]
    },
    {
     "name": "stdout",
     "output_type": "stream",
     "text": [
      "999, -9999, -9999, -9999, -9999, -9999, -9999, -9999, -9999, -9999, \n",
      "    -9999, -9999, -9999, -9999,"
     ]
    },
    {
     "name": "stdout",
     "output_type": "stream",
     "text": [
      " -9999, -9999, -9999, -9999, -9999, -9999, \n",
      "    -9999, -9999, -9999, -9999, -9999, -9999, -9999, -99"
     ]
    },
    {
     "name": "stdout",
     "output_type": "stream",
     "text": [
      "99, -9999, -9999, \n",
      "    -9999, -9999, -9999, -9999, -9999, -9999, -9999, -9999, -9999, -9999, \n",
      "    -9"
     ]
    },
    {
     "name": "stdout",
     "output_type": "stream",
     "text": [
      "999, -9999, -9999, -9999, -9999, -9999, -9999, -9999, -9999, -9999,\n",
      "  -9999, -9999, -9999, -9999, -9"
     ]
    },
    {
     "name": "stdout",
     "output_type": "stream",
     "text": [
      "999, -9999, -9999, -9999, -9999, -9999, \n",
      "    -9999, -9999, -9999, -9999, -9999, -9999, -9999, -9999,"
     ]
    },
    {
     "name": "stdout",
     "output_type": "stream",
     "text": [
      " -9999, -9999, \n",
      "    -9999, -9999, -9999, -9999, -9999, -9999, -9999, -9999, -9999, -9999, \n",
      "    -9999"
     ]
    },
    {
     "name": "stdout",
     "output_type": "stream",
     "text": [
      ", -9999, -9999, -9999, -9999, -9999, -9999, -9999, -9999, -9999, \n",
      "    -9999, -9999, -9999, -9999, -9"
     ]
    },
    {
     "name": "stdout",
     "output_type": "stream",
     "text": [
      "999, -9999, -9999, -9999, -9999, -9999, \n",
      "    -9999, -9999, -9999, -9999, -9999, -9999, -9999, -9999,"
     ]
    },
    {
     "name": "stdout",
     "output_type": "stream",
     "text": [
      " -9999, -9999,\n",
      "  -9999, -9999, -9999, -9999, -9999, -9999, -9999, -9999, -9999, -9999, \n",
      "    -9999, -"
     ]
    },
    {
     "name": "stdout",
     "output_type": "stream",
     "text": [
      "9999, -9999, -9999, -9999, -9999, -9999, -9999, -9999, -9999, \n",
      "    -9999, -9999, -9999, -9999, -9999"
     ]
    },
    {
     "name": "stdout",
     "output_type": "stream",
     "text": [
      ", -9999, -9999, -9999, -9999, -9999, \n",
      "    -9999, -9999, -9999, -9999, -9999, -9999, -9999, -9999, -9"
     ]
    },
    {
     "name": "stdout",
     "output_type": "stream",
     "text": [
      "999, -9999, \n",
      "    -9999, -9999, -9999, -9999, -9999, -9999, -9999, -9999, -9999, -9999, \n",
      "    -9999, -"
     ]
    },
    {
     "name": "stdout",
     "output_type": "stream",
     "text": [
      "9999, -9999, -9999, -9999, -9999, -9999, -9999, -9999, -9999,\n",
      "  -9999, -9999, -9999, -9999, -9999, -"
     ]
    },
    {
     "name": "stdout",
     "output_type": "stream",
     "text": [
      "9999, -9999, -9999, -9999, -9999, \n",
      "    -9999, -9999, -9999, -9999, -9999, -9999, -9999, -9999, -9999"
     ]
    },
    {
     "name": "stdout",
     "output_type": "stream",
     "text": [
      ", -9999, \n",
      "    -9999, -9999, -9999, -9999, -9999, -9999, -9999, -9999, -9999, -9999, \n",
      "    -9999, -999"
     ]
    },
    {
     "name": "stdout",
     "output_type": "stream",
     "text": [
      "9, -9999, -9999, -9999, -9999, -9999, -9999, -9999, -9999, \n",
      "    -9999, -9999, -9999, -9999, -9999, -"
     ]
    },
    {
     "name": "stdout",
     "output_type": "stream",
     "text": [
      "9999, -9999, -9999, -9999, -9999, \n",
      "    -9999, -9999, -9999, -9999, -9999, -9999, -9999, -9999, -9999"
     ]
    },
    {
     "name": "stdout",
     "output_type": "stream",
     "text": [
      ", -9999,\n",
      "  -9999, -9999, -9999, -9999, -9999, -9999, -9999, -9999, -9999, -9999, \n",
      "    -9999, -9999, "
     ]
    },
    {
     "name": "stdout",
     "output_type": "stream",
     "text": [
      "-9999, -9999, -9999, -9999, -9999, -9999, -9999, -9999, \n",
      "    -9999, -9999, -9999, -9999, -9999, -999"
     ]
    },
    {
     "name": "stdout",
     "output_type": "stream",
     "text": [
      "9, -9999, -9999, -9999, -9999, \n",
      "    -9999, -9999, -9999, -9999, -9999, -9999, -9999, -9999, -9999, -"
     ]
    },
    {
     "name": "stdout",
     "output_type": "stream",
     "text": [
      "9999, \n",
      "    -9999, -9999, -9999, -9999, -9999, -9999, -9999, -9999, -9999, -9999, \n",
      "    -9999, -9999, "
     ]
    },
    {
     "name": "stdout",
     "output_type": "stream",
     "text": [
      "-9999, -9999, -9999, -9999, -9999, -9999, -9999, -9999,\n",
      "  -9999, -9999, -9999, -9999, -9999, -9999, "
     ]
    },
    {
     "name": "stdout",
     "output_type": "stream",
     "text": [
      "-9999, -9999, -9999, -9999, \n",
      "    -9999, -9999, -9999, -9999, -9999, -9999, -9999, -9999, -9999, -999"
     ]
    },
    {
     "name": "stdout",
     "output_type": "stream",
     "text": [
      "9, \n",
      "    -9999, -9999, -9999, -9999, -9999, -9999, -9999, -9999, -9999, -9999, \n",
      "    -9999, -9999, -99"
     ]
    },
    {
     "name": "stdout",
     "output_type": "stream",
     "text": [
      "99, -9999, -9999, -9999, -9999, -9999, -9999, -9999, \n",
      "    -9999, -9999, -9999, -9999, -9999, -9999, "
     ]
    },
    {
     "name": "stdout",
     "output_type": "stream",
     "text": [
      "-9999, -9999, -9999, -9999, \n",
      "    -9999, -9999, -9999, -9999, -9999, -9999, -9999, -9999, -9999, -999"
     ]
    },
    {
     "name": "stdout",
     "output_type": "stream",
     "text": [
      "9,\n",
      "  -9999, -9999, -9999, -9999, -9999, -9999, -9999, -9999, -9999, -9999, \n",
      "    -9999, -9999, -9999,"
     ]
    },
    {
     "name": "stdout",
     "output_type": "stream",
     "text": [
      " -9999, -9999, -9999, -9999, -9999, -9999, -9999, \n",
      "    -9999, -9999, -9999, -9999, -9999, -9999, -99"
     ]
    },
    {
     "name": "stdout",
     "output_type": "stream",
     "text": [
      "99, -9999, -9999, -9999, \n",
      "    -9999, -9999, -9999, -9999, -9999, -9999, -9999, -9999, -9999, -9999, "
     ]
    },
    {
     "name": "stdout",
     "output_type": "stream",
     "text": [
      "\n",
      "    -9999, -9999, -9999, -9999, -9999, -9999, -9999, -9999, -9999, -9999, \n",
      "    -9999, -9999, -9999,"
     ]
    },
    {
     "name": "stdout",
     "output_type": "stream",
     "text": [
      " -9999, -9999, -9999, -9999, -9999, -9999, -9999,\n",
      "  -9999, -9999, -9999, -9999, -9999, -9999, -9999,"
     ]
    },
    {
     "name": "stdout",
     "output_type": "stream",
     "text": [
      " -9999, -9999, -9999, \n",
      "    -9999, -9999, -9999, -9999, -9999, -9999, -9999, -9999, -9999, -9999, \n",
      "  "
     ]
    },
    {
     "name": "stdout",
     "output_type": "stream",
     "text": [
      "  -9999, -9999, -9999, -9999, -9999, -9999, -9999, -9999, -9999, -9999, \n",
      "    -9999, -9999, -9999, -9"
     ]
    },
    {
     "name": "stdout",
     "output_type": "stream",
     "text": [
      "999, -9999, -9999, -9999, -9999, -9999, -9999, \n",
      "    -9999, -9999, -9999, -9999, -9999, -9999, -9999,"
     ]
    },
    {
     "name": "stdout",
     "output_type": "stream",
     "text": [
      " -9999, -9999, -9999, \n",
      "    -9999, -9999, -9999, -9999, -9999, -9999, -9999, -9999, -9999, -9999,\n",
      "  -"
     ]
    },
    {
     "name": "stdout",
     "output_type": "stream",
     "text": [
      "9999, -9999, -9999, -9999, -9999, -9999, -9999, -9999, -9999, -9999, \n",
      "    -9999, -9999, -9999, -9999"
     ]
    },
    {
     "name": "stdout",
     "output_type": "stream",
     "text": [
      ", -9999, -9999, -9999, -9999, -9999, -9999, \n",
      "    -9999, -9999, -9999, -9999, -9999, -9999, -9999, -9"
     ]
    },
    {
     "name": "stdout",
     "output_type": "stream",
     "text": [
      "999, -9999, -9999, \n",
      "    -9999, -9999, -9999, -9999, -9999, -9999, -9999, -9999, -9999, -9999, \n",
      "    -"
     ]
    },
    {
     "name": "stdout",
     "output_type": "stream",
     "text": [
      "9999, -9999, -9999, -9999, -9999, -9999, -9999, -9999, -9999, -9999, \n",
      "    -9999, -9999, -9999, -9999"
     ]
    },
    {
     "name": "stdout",
     "output_type": "stream",
     "text": [
      ", -9999, -9999, -9999, -9999, -9999, -9999,\n",
      "  -9999, -9999, -9999, -9999, -9999, -9999, -9999, -9999"
     ]
    },
    {
     "name": "stdout",
     "output_type": "stream",
     "text": [
      ", -9999, -9999, \n",
      "    -9999, -9999, -9999, -9999, -9999, -9999, -9999, -9999, -9999, -9999, \n",
      "    -999"
     ]
    },
    {
     "name": "stdout",
     "output_type": "stream",
     "text": [
      "9, -9999, -9999, -9999, -9999, -9999, -9999, -9999, -9999, -9999, \n",
      "    -9999, -9999, -9999, -9999, -"
     ]
    },
    {
     "name": "stdout",
     "output_type": "stream",
     "text": [
      "9999, -9999, -9999, -9999, -9999, -9999, \n",
      "    -9999, -9999, -9999, -9999, -9999, -9999, -9999, -9999"
     ]
    },
    {
     "name": "stdout",
     "output_type": "stream",
     "text": [
      ", -9999, -9999, \n",
      "    -9999, -9999, -9999, -9999, -9999, -9999, -9999, -9999, -9999, -9999,\n",
      "  -9999, "
     ]
    },
    {
     "name": "stdout",
     "output_type": "stream",
     "text": [
      "-9999, -9999, -9999, -9999, -9999, -9999, -9999, -9999, -9999, \n",
      "    -9999, -9999, -9999, -9999, -999"
     ]
    },
    {
     "name": "stdout",
     "output_type": "stream",
     "text": [
      "9, -9999, -9999, -9999, -9999, -9999, \n",
      "    -9999, -9999, -9999, -9999, -9999, -9999, -9999, -9999, -"
     ]
    },
    {
     "name": "stdout",
     "output_type": "stream",
     "text": [
      "9999, -9999, \n",
      "    -9999, -9999, -9999, -9999, -9999, -9999, -9999, -9999, -9999, -9999, \n",
      "    -9999, "
     ]
    },
    {
     "name": "stdout",
     "output_type": "stream",
     "text": [
      "-9999, -9999, -9999, -9999, -9999, -9999, -9999, -9999, -9999, \n",
      "    -9999, -9999, -9999, -9999, -999"
     ]
    },
    {
     "name": "stdout",
     "output_type": "stream",
     "text": [
      "9, -9999, -9999, -9999, -9999, -9999,\n",
      "  -9999, -9999, -9999, -9999, -9999, -9999, -9999, -9999, -999"
     ]
    },
    {
     "name": "stdout",
     "output_type": "stream",
     "text": [
      "9, -9999, \n",
      "    -9999, -9999, -9999, -9999, -9999, -9999, -9999, -9999, -9999, -9999, \n",
      "    -9999, -99"
     ]
    },
    {
     "name": "stdout",
     "output_type": "stream",
     "text": [
      "99, -9999, -9999, -9999, -9999, -9999, -9999, -9999, -9999, \n",
      "    -9999, -9999, -9999, -9999, -9999, "
     ]
    },
    {
     "name": "stdout",
     "output_type": "stream",
     "text": [
      "-9999, -9999, -9999, -9999, -9999, \n",
      "    -9999, -9999, -9999, -9999, -9999, -9999, -9999, -9999, -999"
     ]
    },
    {
     "name": "stdout",
     "output_type": "stream",
     "text": [
      "9, -9999, \n",
      "    -9999, -9999, -9999, -9999, -9999, -9999, -9999, -9999, -9999, -9999,\n",
      "  -9999, -9999,"
     ]
    },
    {
     "name": "stdout",
     "output_type": "stream",
     "text": [
      " -9999, -9999, -9999, -9999, -9999, -9999, -9999, -9999, \n",
      "    -9999, -9999, -9999, -9999, -9999, -99"
     ]
    },
    {
     "name": "stdout",
     "output_type": "stream",
     "text": [
      "99, -9999, -9999, -9999, -9999, \n",
      "    -9999, -9999, -9999, -9999, -9999, -9999, -9999, -9999, -9999, "
     ]
    },
    {
     "name": "stdout",
     "output_type": "stream",
     "text": [
      "-9999, \n",
      "    -9999, -9999, -9999, -9999, -9999, -9999, -9999, -9999, -9999, -9999, \n",
      "    -9999, -9999,"
     ]
    },
    {
     "name": "stdout",
     "output_type": "stream",
     "text": [
      " -9999, -9999, -9999, -9999, -9999, -9999, -9999, -9999, \n",
      "    -9999, -9999, -9999, -9999, -9999, -99"
     ]
    },
    {
     "name": "stdout",
     "output_type": "stream",
     "text": [
      "99, -9999, -9999, -9999, -9999,\n",
      "  -9999, -9999, -9999, -9999, -9999, -9999, -9999, -9999, -9999, -99"
     ]
    },
    {
     "name": "stdout",
     "output_type": "stream",
     "text": [
      "99, \n",
      "    -9999, -9999, -9999, -9999, -9999, -9999, -9999, -9999, -9999, -9999, \n",
      "    -9999, -9999, -9"
     ]
    },
    {
     "name": "stdout",
     "output_type": "stream",
     "text": [
      "999, -9999, -9999, -9999, -9999, -9999, -9999, -9999, \n",
      "    -9999, -9999, -9999, -9999, -9999, -9999,"
     ]
    },
    {
     "name": "stdout",
     "output_type": "stream",
     "text": [
      " -9999, -9999, -9999, -9999, \n",
      "    -9999, -9999, -9999, -9999, -9999, -9999, -9999, -9999, -9999, -99"
     ]
    },
    {
     "name": "stdout",
     "output_type": "stream",
     "text": [
      "99, \n",
      "    -9999, -9999, -9999, -9999, -9999, -9999, -9999, -9999, -9999, -9999,\n",
      "  -9999, -9999, -9999"
     ]
    },
    {
     "name": "stdout",
     "output_type": "stream",
     "text": [
      ", -9999, -9999, -9999, -9999, -9999, -9999, -9999, \n",
      "    -9999, -9999, -9999, -9999, -9999, -9999, -9"
     ]
    },
    {
     "name": "stdout",
     "output_type": "stream",
     "text": [
      "999, -9999, -9999, -9999, \n",
      "    -9999, -9999, -9999, -9999, -9999, -9999, -9999, -9999, -9999, -9999,"
     ]
    },
    {
     "name": "stdout",
     "output_type": "stream",
     "text": [
      " \n",
      "    -9999, -9999, -9999, -9999, -9999, -9999, -9999, -9999, -9999, -9999, \n",
      "    -9999, -9999, -9999"
     ]
    },
    {
     "name": "stdout",
     "output_type": "stream",
     "text": [
      ", -9999, -9999, -9999, -9999, -9999, -9999, -9999, \n",
      "    -9999, -9999, -9999, -9999, -9999, -9999, -9"
     ]
    },
    {
     "name": "stdout",
     "output_type": "stream",
     "text": [
      "999, -9999, -9999, -9999,\n",
      "  -9999, -9999, -9999, -9999, -9999, -9999, -9999, -9999, -9999, -9999, \n",
      " "
     ]
    },
    {
     "name": "stdout",
     "output_type": "stream",
     "text": [
      "   -9999, -9999, -9999, -9999, -9999, -9999, -9999, -9999, -9999, -9999, \n",
      "    -9999, -9999, -9999, -"
     ]
    },
    {
     "name": "stdout",
     "output_type": "stream",
     "text": [
      "9999, -9999, -9999, -9999, -9999, -9999, -9999, \n",
      "    -9999, -9999, -9999, -9999, -9999, -9999, -9999"
     ]
    },
    {
     "name": "stdout",
     "output_type": "stream",
     "text": [
      ", -9999, -9999, -9999, \n",
      "    -9999, -9999, -9999, -9999, -9999, -9999, -9999, -9999, -9999, -9999, \n",
      " "
     ]
    },
    {
     "name": "stdout",
     "output_type": "stream",
     "text": [
      "   -9999, -9999, -9999, -9999, -9999, -9999, -9999, -9999, -9999, -9999,\n",
      "  -9999, -9999, -9999, -999"
     ]
    },
    {
     "name": "stdout",
     "output_type": "stream",
     "text": [
      "9, -9999, -9999, -9999, -9999, -9999, -9999, \n",
      "    -9999, -9999, -9999, -9999, -9999, -9999, -9999, -"
     ]
    },
    {
     "name": "stdout",
     "output_type": "stream",
     "text": [
      "9999, -9999, -9999, \n",
      "    -9999, -9999, -9999, -9999, -9999, -9999, -9999, -9999, -9999, -9999, \n",
      "    "
     ]
    },
    {
     "name": "stdout",
     "output_type": "stream",
     "text": [
      "-9999, -9999, -9999, -9999, -9999, -9999, -9999, -9999, -9999, -9999, \n",
      "    -9999, -9999, -9999, -999"
     ]
    },
    {
     "name": "stdout",
     "output_type": "stream",
     "text": [
      "9, -9999, -9999, -9999, -9999, -9999, -9999, \n",
      "    -9999, -9999, -9999, -9999, -9999, -9999, -9999, -"
     ]
    },
    {
     "name": "stdout",
     "output_type": "stream",
     "text": [
      "9999, -9999, -9999,\n",
      "  -9999, -9999, -9999, -9999, -9999, -9999, -9999, -9999, -9999, -9999, \n",
      "    -99"
     ]
    },
    {
     "name": "stdout",
     "output_type": "stream",
     "text": [
      "99, -9999, -9999, -9999, -9999, -9999, -9999, -9999, -9999, -9999, \n",
      "    -9999, -9999, -9999, -9999, "
     ]
    },
    {
     "name": "stdout",
     "output_type": "stream",
     "text": [
      "-9999, -9999, -9999, -9999, -9999, -9999, \n",
      "    -9999, -9999, -9999, -9999, -9999, -9999, -9999, -999"
     ]
    },
    {
     "name": "stdout",
     "output_type": "stream",
     "text": [
      "9, -9999, -9999, \n",
      "    -9999, -9999, -9999, -9999, -9999, -9999, -9999, -9999, -9999, -9999, \n",
      "    -99"
     ]
    },
    {
     "name": "stdout",
     "output_type": "stream",
     "text": [
      "99, -9999, -9999, -9999, -9999, -9999, -9999, -9999, -9999, -9999,\n",
      "  -9999, -9999, -9999, -9999, -99"
     ]
    },
    {
     "name": "stdout",
     "output_type": "stream",
     "text": [
      "99, -9999, -9999, -9999, -9999, -9999, \n",
      "    -9999, -9999, -9999, -9999, -9999, -9999, -9999, -9999, "
     ]
    },
    {
     "name": "stdout",
     "output_type": "stream",
     "text": [
      "-9999, -9999, \n",
      "    -9999, -9999, -9999, -9999, -9999, -9999, -9999, -9999, -9999, -9999, \n",
      "    -9999,"
     ]
    },
    {
     "name": "stdout",
     "output_type": "stream",
     "text": [
      " -9999, -9999, -9999, -9999, -9999, -9999, -9999, -9999, -9999, \n",
      "    -9999, -9999, -9999, -9999, -99"
     ]
    },
    {
     "name": "stdout",
     "output_type": "stream",
     "text": [
      "99, -9999, -9999, -9999, -9999, -9999, \n",
      "    -9999, -9999, -9999, -9999, -9999, -9999, -9999, -9999, "
     ]
    },
    {
     "name": "stdout",
     "output_type": "stream",
     "text": [
      "-9999, -9999,\n",
      "  -9999, -9999, -9999, -9999, -9999, -9999, -9999, -9999, -9999, -9999, \n",
      "    -9999, -9"
     ]
    },
    {
     "name": "stdout",
     "output_type": "stream",
     "text": [
      "999, -9999, -9999, -9999, -9999, -9999, -9999, -9999, -9999, \n",
      "    -9999, -9999, -9999, -9999, -9999,"
     ]
    },
    {
     "name": "stdout",
     "output_type": "stream",
     "text": [
      " -9999, -9999, -9999, -9999, -9999, \n",
      "    -9999, -9999, -9999, -9999, -9999, -9999, -9999, -9999, -99"
     ]
    },
    {
     "name": "stdout",
     "output_type": "stream",
     "text": [
      "99, -9999, \n",
      "    -9999, -9999, -9999, -9999, -9999, -9999, -9999, -9999, -9999, -9999, \n",
      "    -9999, -9"
     ]
    },
    {
     "name": "stdout",
     "output_type": "stream",
     "text": [
      "999, -9999, -9999, -9999, -9999, -9999, -9999, -9999, -9999,\n",
      "  -9999, -9999, -9999, -9999, -9999, -9"
     ]
    },
    {
     "name": "stdout",
     "output_type": "stream",
     "text": [
      "999, -9999, -9999, -9999, -9999, \n",
      "    -9999, -9999, -9999, -9999, -9999, -9999, -9999, -9999, -9999,"
     ]
    },
    {
     "name": "stdout",
     "output_type": "stream",
     "text": [
      " -9999, \n",
      "    -9999, -9999, -9999, -9999, -9999, -9999, -9999, -9999, -9999, -9999, \n",
      "    -9999, -9999"
     ]
    },
    {
     "name": "stdout",
     "output_type": "stream",
     "text": [
      ", -9999, -9999, -9999, -9999, -9999, -9999, -9999, -9999, \n",
      "    -9999, -9999, -9999, -9999, -9999, -9"
     ]
    },
    {
     "name": "stdout",
     "output_type": "stream",
     "text": [
      "999, -9999, -9999, -9999, -9999, \n",
      "    -9999, -9999, -9999, -9999, -9999, -9999, -9999, -9999, -9999,"
     ]
    },
    {
     "name": "stdout",
     "output_type": "stream",
     "text": [
      " -9999,\n",
      "  -9999, -9999, -9999, -9999, -9999, -9999, -9999, -9999, -9999, -9999, \n",
      "    -9999, -9999, -"
     ]
    },
    {
     "name": "stdout",
     "output_type": "stream",
     "text": [
      "9999, -9999, -9999, -9999, -9999, -9999, -9999, -9999, \n",
      "    -9999, -9999, -9999, -9999, -9999, -9999"
     ]
    },
    {
     "name": "stdout",
     "output_type": "stream",
     "text": [
      ", -9999, -9999, -9999, -9999, \n",
      "    -9999, -9999, -9999, -9999, -9999, -9999, -9999, -9999, -9999, -9"
     ]
    },
    {
     "name": "stdout",
     "output_type": "stream",
     "text": [
      "999, \n",
      "    -9999, -9999, -9999, -9999, -9999, -9999, -9999, -9999, -9999, -9999, \n",
      "    -9999, -9999, -"
     ]
    },
    {
     "name": "stdout",
     "output_type": "stream",
     "text": [
      "9999, -9999, -9999, -9999, -9999, -9999, -9999, -9999,\n",
      "  -9999, -9999, -9999, -9999, -9999, -9999, -"
     ]
    },
    {
     "name": "stdout",
     "output_type": "stream",
     "text": [
      "9999, -9999, -9999, -9999, \n",
      "    -9999, -9999, -9999, -9999, -9999, -9999, -9999, -9999, -9999, -9999"
     ]
    },
    {
     "name": "stdout",
     "output_type": "stream",
     "text": [
      ", \n",
      "    -9999, -9999, -9999, -9999, -9999, -9999, -9999, -9999, -9999, -9999, \n",
      "    -9999, -9999, -999"
     ]
    },
    {
     "name": "stdout",
     "output_type": "stream",
     "text": [
      "9, -9999, -9999, -9999, -9999, -9999, -9999, -9999, \n",
      "    -9999, -9999, -9999, -9999, -9999, -9999, -"
     ]
    },
    {
     "name": "stdout",
     "output_type": "stream",
     "text": [
      "9999, -9999, -9999, -9999, \n",
      "    -9999, -9999, -9999, -9999, -9999, -9999, -9999, -9999, -9999, -9999"
     ]
    },
    {
     "name": "stdout",
     "output_type": "stream",
     "text": [
      ",\n",
      "  -9999, -9999, -9999, -9999, -9999, -9999, -9999, -9999, -9999, -9999, \n",
      "    -9999, -9999, -9999, "
     ]
    },
    {
     "name": "stdout",
     "output_type": "stream",
     "text": [
      "-9999, -9999, -9999, -9999, -9999, -9999, -9999, \n",
      "    -9999, -9999, -9999, -9999, -9999, -9999, -999"
     ]
    },
    {
     "name": "stdout",
     "output_type": "stream",
     "text": [
      "9, -9999, -9999, -9999, \n",
      "    -9999, -9999, -9999, -9999, -9999, -9999, -9999, -9999, -9999, -9999, \n"
     ]
    },
    {
     "name": "stdout",
     "output_type": "stream",
     "text": [
      "    -9999, -9999, -9999, -9999, -9999, -9999, -9999, -9999, -9999, -9999, \n",
      "    -9999, -9999, -9999, "
     ]
    },
    {
     "name": "stdout",
     "output_type": "stream",
     "text": [
      "-9999, -9999, -9999, -9999, -9999, -9999, -9999,\n",
      "  -9999, -9999, -9999, -9999, -9999, -9999, -9999, "
     ]
    },
    {
     "name": "stdout",
     "output_type": "stream",
     "text": [
      "-9999, -9999, -9999, \n",
      "    -9999, -9999, -9999, -9999, -9999, -9999, -9999, -9999, -9999, -9999, \n",
      "   "
     ]
    },
    {
     "name": "stdout",
     "output_type": "stream",
     "text": [
      " -9999, -9999, -9999, -9999, -9999, -9999, -9999, -9999, -9999, -9999, \n",
      "    -9999, -9999, -9999, -99"
     ]
    },
    {
     "name": "stdout",
     "output_type": "stream",
     "text": [
      "99, -9999, -9999, -9999, -9999, -9999, -9999, \n",
      "    -9999, -9999, -9999, -9999, -9999, -9999, -9999, "
     ]
    },
    {
     "name": "stdout",
     "output_type": "stream",
     "text": [
      "-9999, -9999, -9999, \n",
      "    -9999, -9999, -9999, -9999, -9999, -9999, -9999, -9999, -9999, -9999,\n",
      "  -9"
     ]
    },
    {
     "name": "stdout",
     "output_type": "stream",
     "text": [
      "999, -9999, -9999, -9999, -9999, -9999, -9999, -9999, -9999, -9999, \n",
      "    -9999, -9999, -9999, -9999,"
     ]
    },
    {
     "name": "stdout",
     "output_type": "stream",
     "text": [
      " -9999, -9999, -9999, -9999, -9999, -9999, \n",
      "    -9999, -9999, -9999, -9999, -9999, -9999, -9999, -99"
     ]
    },
    {
     "name": "stdout",
     "output_type": "stream",
     "text": [
      "99, -9999, -9999, \n",
      "    -9999, -9999, -9999, -9999, -9999, -9999, -9999, -9999, -9999, -9999, \n",
      "    -9"
     ]
    },
    {
     "name": "stdout",
     "output_type": "stream",
     "text": [
      "999, -9999, -9999, -9999, -9999, -9999, -9999, -9999, -9999, -9999, \n",
      "    -9999, -9999, -9999, -9999,"
     ]
    },
    {
     "name": "stdout",
     "output_type": "stream",
     "text": [
      " -9999, -9999, -9999, -9999, -9999, -9999,\n",
      "  -9999, -9999, -9999, -9999, -9999, -9999, -9999, -9999,"
     ]
    },
    {
     "name": "stdout",
     "output_type": "stream",
     "text": [
      " -9999, -9999, \n",
      "    -9999, -9999, -9999, -9999, -9999, -9999, -9999, -9999, -9999, -9999, \n",
      "    -9999"
     ]
    },
    {
     "name": "stdout",
     "output_type": "stream",
     "text": [
      ", -9999, -9999, -9999, -9999, -9999, -9999, -9999, -9999, -9999, \n",
      "    -9999, -9999, -9999, -9999, -9"
     ]
    },
    {
     "name": "stdout",
     "output_type": "stream",
     "text": [
      "999, -9999, -9999, -9999, -9999, -9999, \n",
      "    -9999, -9999, -9999, -9999, -9999, -9999, -9999, -9999,"
     ]
    },
    {
     "name": "stdout",
     "output_type": "stream",
     "text": [
      " -9999, -9999, \n",
      "    -9999, -9999, -9999, -9999, -9999, -9999, -9999, -9999, -9999, -9999,\n",
      "  -9999, -"
     ]
    },
    {
     "name": "stdout",
     "output_type": "stream",
     "text": [
      "9999, -9999, -9999, -9999, -9999, -9999, -9999, -9999, -9999, \n",
      "    -9999, -9999, -9999, -9999, -9999"
     ]
    },
    {
     "name": "stdout",
     "output_type": "stream",
     "text": [
      ", -9999, -9999, -9999, -9999, -9999, \n",
      "    -9999, -9999, -9999, -9999, -9999, -9999, -9999, -9999, -9"
     ]
    },
    {
     "name": "stdout",
     "output_type": "stream",
     "text": [
      "999, -9999, \n",
      "    -9999, -9999, -9999, -9999, -9999, -9999, -9999, -9999, -9999, -9999, \n",
      "    -9999, 1"
     ]
    },
    {
     "name": "stdout",
     "output_type": "stream",
     "text": [
      ", -9999, -9999, -9999, -9999, -9999, -9999, -9999, -9999, -9999, \n",
      "    -9999, -9999, -9999, -9999, -9"
     ]
    },
    {
     "name": "stdout",
     "output_type": "stream",
     "text": [
      "999, -9999, -9999, -9999, -9999,\n",
      "  -9999, -9999, -9999, -9999, -9999, -9999, -9999, -9999, -9999, -9"
     ]
    },
    {
     "name": "stdout",
     "output_type": "stream",
     "text": [
      "999, \n",
      "    -9999, -9999, -9999, -9999, -9999, -9999, -9999, -9999, -9999, -9999, \n",
      "    -9999, -9999, -"
     ]
    },
    {
     "name": "stdout",
     "output_type": "stream",
     "text": [
      "9999, -9999, -9999, -9999, -9999, -9999, -9999, -9999, \n",
      "    -9999, -9999, -9999, -9999, -9999, -9999"
     ]
    },
    {
     "name": "stdout",
     "output_type": "stream",
     "text": [
      ", -9999, -9999, -9999, -9999, \n",
      "    -9999, 1, 1, -9999, -9999, -9999, -9999, -9999, -9999, -9999, -99"
     ]
    },
    {
     "name": "stdout",
     "output_type": "stream",
     "text": [
      "99, \n",
      "    -9999, -9999, -9999, -9999, -9999, -9999, -9999, -9999, -9999,\n",
      "  -9999, -9999, -9999, -9999"
     ]
    },
    {
     "name": "stdout",
     "output_type": "stream",
     "text": [
      ", -9999, -9999, -9999, -9999, -9999, -9999, \n",
      "    -9999, -9999, -9999, -9999, -9999, -9999, -9999, -9"
     ]
    },
    {
     "name": "stdout",
     "output_type": "stream",
     "text": [
      "999, -9999, -9999, \n",
      "    -9999, -9999, -9999, -9999, -9999, -9999, -9999, -9999, -9999, -9999, \n",
      "    -"
     ]
    },
    {
     "name": "stdout",
     "output_type": "stream",
     "text": [
      "9999, -9999, -9999, -9999, -9999, -9999, -9999, -9999, -9999, -9999, \n",
      "    -9999, -9999, 1, 1, 1, 1, "
     ]
    },
    {
     "name": "stdout",
     "output_type": "stream",
     "text": [
      "-9999, -9999, -9999, -9999, -9999, -9999, \n",
      "    -9999, -9999, -9999, -9999, -9999, -9999, -9999, -999"
     ]
    },
    {
     "name": "stdout",
     "output_type": "stream",
     "text": [
      "9,\n",
      "  -9999, -9999, -9999, -9999, -9999, -9999, -9999, -9999, -9999, -9999, \n",
      "    -9999, -9999, -9999,"
     ]
    },
    {
     "name": "stdout",
     "output_type": "stream",
     "text": [
      " -9999, -9999, -9999, -9999, -9999, -9999, -9999, \n",
      "    -9999, -9999, -9999, -9999, -9999, -9999, -99"
     ]
    },
    {
     "name": "stdout",
     "output_type": "stream",
     "text": [
      "99, -9999, -9999, -9999, \n",
      "    -9999, -9999, -9999, -9999, -9999, -9999, -9999, -9999, -9999, -9999, "
     ]
    },
    {
     "name": "stdout",
     "output_type": "stream",
     "text": [
      "\n",
      "    -9999, -9999, -9999, -9999, 1, 1, 1, 1, 1, 1, -9999, -9999, -9999, -9999, \n",
      "    -9999, -9999, -9"
     ]
    },
    {
     "name": "stdout",
     "output_type": "stream",
     "text": [
      "999, -9999, -9999, -9999,\n",
      "  -9999, -9999, -9999, -9999, -9999, -9999, -9999, -9999, -9999, -9999, \n",
      " "
     ]
    },
    {
     "name": "stdout",
     "output_type": "stream",
     "text": [
      "   -9999, -9999, -9999, -9999, -9999, -9999, -9999, -9999, -9999, -9999, \n",
      "    -9999, -9999, -9999, -"
     ]
    },
    {
     "name": "stdout",
     "output_type": "stream",
     "text": [
      "9999, -9999, -9999, -9999, -9999, -9999, -9999, \n",
      "    -9999, -9999, -9999, -9999, -9999, -9999, -9999"
     ]
    },
    {
     "name": "stdout",
     "output_type": "stream",
     "text": [
      ", -9999, -9999, -9999, \n",
      "    -9999, -9999, -9999, -9999, -9999, 1, 1, 1, 1, 1, -9999, -9999, -9999, \n"
     ]
    },
    {
     "name": "stdout",
     "output_type": "stream",
     "text": [
      "    -9999, -9999, -9999, -9999, -9999, -9999, -9999,\n",
      "  -9999, -9999, -9999, -9999, -9999, -9999, -99"
     ]
    },
    {
     "name": "stdout",
     "output_type": "stream",
     "text": [
      "99, -9999, -9999, -9999, \n",
      "    -9999, -9999, -9999, -9999, -9999, -9999, -9999, -9999, -9999, -9999, "
     ]
    },
    {
     "name": "stdout",
     "output_type": "stream",
     "text": [
      "\n",
      "    -9999, -9999, -9999, -9999, -9999, -9999, -9999, -9999, -9999, -9999, \n",
      "    -9999, -9999, -9999,"
     ]
    },
    {
     "name": "stdout",
     "output_type": "stream",
     "text": [
      " -9999, -9999, -9999, -9999, -9999, -9999, -9999, \n",
      "    -9999, -9999, -9999, -9999, -9999, -9999, 1, "
     ]
    },
    {
     "name": "stdout",
     "output_type": "stream",
     "text": [
      "1, 1, -9999, -9999, -9999, \n",
      "    -9999, -9999, -9999, -9999, -9999, -9999, -9999, -9999,\n",
      "  -9999, -99"
     ]
    },
    {
     "name": "stdout",
     "output_type": "stream",
     "text": [
      "99, -9999, -9999, -9999, -9999, -9999, -9999, -9999, -9999, \n",
      "    -9999, -9999, -9999, -9999, -9999, "
     ]
    },
    {
     "name": "stdout",
     "output_type": "stream",
     "text": [
      "-9999, -9999, -9999, -9999, -9999, \n",
      "    -9999, -9999, -9999, -9999, -9999, -9999, -9999, -9999, -999"
     ]
    },
    {
     "name": "stdout",
     "output_type": "stream",
     "text": [
      "9, -9999, \n",
      "    -9999, -9999, -9999, -9999, -9999, -9999, -9999, -9999, -9999, -9999, \n",
      "    -9999, -99"
     ]
    },
    {
     "name": "stdout",
     "output_type": "stream",
     "text": [
      "99, -9999, -9999, -9999, -9999, -9999, 1, 1, 1, -9999, -9999, \n",
      "    -9999, -9999, -9999, -9999, -9999"
     ]
    },
    {
     "name": "stdout",
     "output_type": "stream",
     "text": [
      ", -9999, -9999, -9999,\n",
      "  -9999, -9999, -9999, -9999, -9999, -9999, -9999, -9999, -9999, -9999, \n",
      "    "
     ]
    },
    {
     "name": "stdout",
     "output_type": "stream",
     "text": [
      "-9999, -9999, -9999, -9999, -9999, -9999, -9999, -9999, -9999, -9999, \n",
      "    -9999, -9999, -9999, -999"
     ]
    },
    {
     "name": "stdout",
     "output_type": "stream",
     "text": [
      "9, -9999, -9999, -9999, -9999, -9999, -9999, \n",
      "    -9999, -9999, -9999, -9999, -9999, -9999, -9999, -"
     ]
    },
    {
     "name": "stdout",
     "output_type": "stream",
     "text": [
      "9999, -9999, -9999, \n",
      "    -9999, -9999, -9999, -9999, -9999, -9999, -9999, -9999, 1, 1, 1, 1, \n",
      "    -9"
     ]
    },
    {
     "name": "stdout",
     "output_type": "stream",
     "text": [
      "999, -9999, -9999, -9999, -9999, -9999, -9999, -9999,\n",
      "  -9999, -9999, -9999, -9999, -9999, -9999, -9"
     ]
    },
    {
     "name": "stdout",
     "output_type": "stream",
     "text": [
      "999, -9999, -9999, -9999, \n",
      "    -9999, -9999, -9999, -9999, -9999, -9999, -9999, -9999, -9999, -9999,"
     ]
    },
    {
     "name": "stdout",
     "output_type": "stream",
     "text": [
      " \n",
      "    -9999, -9999, -9999, -9999, -9999, -9999, -9999, -9999, -9999, -9999, \n",
      "    -9999, -9999, -9999"
     ]
    },
    {
     "name": "stdout",
     "output_type": "stream",
     "text": [
      ", -9999, -9999, -9999, -9999, -9999, -9999, -9999, \n",
      "    -9999, -9999, -9999, -9999, -9999, -9999, -9"
     ]
    },
    {
     "name": "stdout",
     "output_type": "stream",
     "text": [
      "999, -9999, -9999, 1, 1, 1, \n",
      "    -9999, -9999, -9999, -9999, -9999, -9999, -9999, -9999,\n",
      "  -9999, -9"
     ]
    },
    {
     "name": "stdout",
     "output_type": "stream",
     "text": [
      "999, -9999, -9999, -9999, -9999, -9999, -9999, -9999, -9999, \n",
      "    -9999, -9999, -9999, -9999, -9999,"
     ]
    },
    {
     "name": "stdout",
     "output_type": "stream",
     "text": [
      " -9999, -9999, -9999, -9999, -9999, \n",
      "    -9999, -9999, -9999, -9999, -9999, -9999, -9999, -9999, -99"
     ]
    },
    {
     "name": "stdout",
     "output_type": "stream",
     "text": [
      "99, -9999, \n",
      "    -9999, -9999, -9999, -9999, -9999, -9999, -9999, -9999, -9999, -9999, \n",
      "    -9999, -9"
     ]
    },
    {
     "name": "stdout",
     "output_type": "stream",
     "text": [
      "999, -9999, -9999, -9999, -9999, -9999, -9999, 1, 1, 1, 1, \n",
      "    -9999, -9999, -9999, -9999, -9999, -"
     ]
    },
    {
     "name": "stdout",
     "output_type": "stream",
     "text": [
      "9999, -9999, -9999,\n",
      "  -9999, -9999, -9999, -9999, -9999, -9999, -9999, -9999, -9999, -9999, \n",
      "    -99"
     ]
    },
    {
     "name": "stdout",
     "output_type": "stream",
     "text": [
      "99, -9999, -9999, -9999, -9999, -9999, -9999, -9999, -9999, -9999, \n",
      "    -9999, -9999, -9999, -9999, "
     ]
    },
    {
     "name": "stdout",
     "output_type": "stream",
     "text": [
      "-9999, -9999, -9999, -9999, -9999, -9999, \n",
      "    -9999, -9999, -9999, -9999, -9999, -9999, -9999, -999"
     ]
    },
    {
     "name": "stdout",
     "output_type": "stream",
     "text": [
      "9, -9999, -9999, \n",
      "    -9999, -9999, -9999, -9999, -9999, -9999, -9999, -9999, 1, 1, -9999, \n",
      "    -999"
     ]
    },
    {
     "name": "stdout",
     "output_type": "stream",
     "text": [
      "9, -9999, -9999, -9999, -9999, -9999, -9999, -9999, -9999,\n",
      "  -9999, -9999, -9999, -9999, -9999, -999"
     ]
    },
    {
     "name": "stdout",
     "output_type": "stream",
     "text": [
      "9, -9999, -9999, -9999, -9999, \n",
      "    -9999, -9999, -9999, -9999, -9999, -9999, -9999, -9999, -9999, -"
     ]
    },
    {
     "name": "stdout",
     "output_type": "stream",
     "text": [
      "9999, \n",
      "    -9999, -9999, -9999, -9999, -9999, -9999, -9999, -9999, -9999, -9999, \n",
      "    -9999, -9999, "
     ]
    },
    {
     "name": "stdout",
     "output_type": "stream",
     "text": [
      "-9999, -9999, -9999, -9999, -9999, -9999, -9999, -9999, \n",
      "    -9999, -9999, -9999, -9999, -9999, -999"
     ]
    },
    {
     "name": "stdout",
     "output_type": "stream",
     "text": [
      "9, -9999, -9999, 1, -9999, -9999, \n",
      "    -9999, -9999, -9999, -9999, -9999, -9999, -9999, -9999, -9999"
     ]
    },
    {
     "name": "stdout",
     "output_type": "stream",
     "text": [
      ",\n",
      "  -9999, -9999, -9999, -9999, -9999, -9999, -9999, -9999, -9999, -9999, \n",
      "    -9999, -9999, -9999, "
     ]
    },
    {
     "name": "stdout",
     "output_type": "stream",
     "text": [
      "-9999, -9999, -9999, -9999, -9999, -9999, -9999, \n",
      "    -9999, -9999, -9999, -9999, -9999, -9999, -999"
     ]
    },
    {
     "name": "stdout",
     "output_type": "stream",
     "text": [
      "9, -9999, -9999, -9999, \n",
      "    -9999, -9999, -9999, -9999, -9999, -9999, -9999, -9999, -9999, -9999, \n"
     ]
    },
    {
     "name": "stdout",
     "output_type": "stream",
     "text": [
      "    -9999, -9999, -9999, -9999, -9999, -9999, -9999, -9999, 1, 1, -9999, \n",
      "    -9999, -9999, -9999, -"
     ]
    },
    {
     "name": "stdout",
     "output_type": "stream",
     "text": [
      "9999, -9999, -9999, -9999, -9999, -9999,\n",
      "  -9999, -9999, -9999, -9999, -9999, -9999, -9999, -9999, -"
     ]
    },
    {
     "name": "stdout",
     "output_type": "stream",
     "text": [
      "9999, -9999, \n",
      "    -9999, -9999, -9999, -9999, -9999, -9999, -9999, -9999, -9999, -9999, \n",
      "    -9999, "
     ]
    },
    {
     "name": "stdout",
     "output_type": "stream",
     "text": [
      "-9999, -9999, -9999, -9999, -9999, -9999, -9999, -9999, -9999, \n",
      "    -9999, -9999, -9999, -9999, -999"
     ]
    },
    {
     "name": "stdout",
     "output_type": "stream",
     "text": [
      "9, -9999, -9999, -9999, -9999, -9999, \n",
      "    -9999, -9999, -9999, -9999, -9999, -9999, -9999, -9999, -"
     ]
    },
    {
     "name": "stdout",
     "output_type": "stream",
     "text": [
      "9999, 1, -9999, \n",
      "    -9999, -9999, -9999, -9999, -9999, -9999, -9999, -9999, -9999,\n",
      "  -9999, -9999, "
     ]
    },
    {
     "name": "stdout",
     "output_type": "stream",
     "text": [
      "-9999, -9999, -9999, -9999, -9999, -9999, -9999, -9999, \n",
      "    -9999, -9999, -9999, -9999, -9999, -999"
     ]
    },
    {
     "name": "stdout",
     "output_type": "stream",
     "text": [
      "9, -9999, -9999, -9999, -9999, \n",
      "    -9999, -9999, -9999, -9999, -9999, -9999, -9999, -9999, -9999, -"
     ]
    },
    {
     "name": "stdout",
     "output_type": "stream",
     "text": [
      "9999, \n",
      "    -9999, -9999, -9999, -9999, -9999, -9999, -9999, -9999, -9999, -9999, \n",
      "    -9999, -9999, "
     ]
    },
    {
     "name": "stdout",
     "output_type": "stream",
     "text": [
      "-9999, -9999, -9999, -9999, -9999, -9999, -9999, 1, -9999, \n",
      "    -9999, -9999, -9999, -9999, -9999, -"
     ]
    },
    {
     "name": "stdout",
     "output_type": "stream",
     "text": [
      "9999, -9999, -9999, -9999,\n",
      "  -9999, -9999, -9999, -9999, -9999, -9999, -9999, -9999, -9999, -9999, \n"
     ]
    },
    {
     "name": "stdout",
     "output_type": "stream",
     "text": [
      "    -9999, -9999, -9999, -9999, -9999, -9999, -9999, -9999, -9999, -9999, \n",
      "    -9999, -9999, -9999, "
     ]
    },
    {
     "name": "stdout",
     "output_type": "stream",
     "text": [
      "-9999, -9999, -9999, -9999, -9999, -9999, -9999, \n",
      "    -9999, -9999, -9999, -9999, -9999, -9999, -999"
     ]
    },
    {
     "name": "stdout",
     "output_type": "stream",
     "text": [
      "9, -9999, -9999, -9999, \n",
      "    -9999, -9999, -9999, -9999, -9999, -9999, -9999, -9999, -9999, -9999, \n"
     ]
    },
    {
     "name": "stdout",
     "output_type": "stream",
     "text": [
      "    -9999, -9999, -9999, -9999, -9999, -9999, -9999, -9999, -9999, -9999,\n",
      "  -9999, -9999, -9999, -99"
     ]
    },
    {
     "name": "stdout",
     "output_type": "stream",
     "text": [
      "99, -9999, -9999, -9999, -9999, -9999, -9999, \n",
      "    -9999, -9999, -9999, -9999, -9999, -9999, -9999, "
     ]
    },
    {
     "name": "stdout",
     "output_type": "stream",
     "text": [
      "-9999, -9999, -9999, \n",
      "    -9999, -9999, -9999, -9999, -9999, -9999, -9999, -9999, -9999, -9999, \n",
      "   "
     ]
    },
    {
     "name": "stdout",
     "output_type": "stream",
     "text": [
      " -9999, -9999, -9999, -9999, -9999, -9999, -9999, -9999, -9999, -9999, \n",
      "    -9999, -9999, -9999, -99"
     ]
    },
    {
     "name": "stdout",
     "output_type": "stream",
     "text": [
      "99, -9999, -9999, -9999, -9999, -9999, -9999, \n",
      "    -9999, -9999, -9999, -9999, -9999, -9999, -9999, "
     ]
    },
    {
     "name": "stdout",
     "output_type": "stream",
     "text": [
      "-9999, -9999, -9999,\n",
      "  -9999, -9999, -9999, -9999, -9999, -9999, -9999, -9999, -9999, -9999, \n",
      "    -9"
     ]
    },
    {
     "name": "stdout",
     "output_type": "stream",
     "text": [
      "999, -9999, -9999, -9999, -9999, -9999, -9999, -9999, -9999, -9999, \n",
      "    -9999, -9999, -9999, -9999,"
     ]
    },
    {
     "name": "stdout",
     "output_type": "stream",
     "text": [
      " -9999, -9999, -9999, -9999, -9999, -9999, \n",
      "    -9999, -9999, -9999, -9999, -9999, -9999, -9999, -99"
     ]
    },
    {
     "name": "stdout",
     "output_type": "stream",
     "text": [
      "99, -9999, -9999, \n",
      "    -9999, -9999, -9999, -9999, -9999, -9999, -9999, -9999, -9999, -9999, \n",
      "    -9"
     ]
    },
    {
     "name": "stdout",
     "output_type": "stream",
     "text": [
      "999, -9999, -9999, -9999, -9999, -9999, -9999, -9999, -9999, -9999,\n",
      "  -9999, -9999, -9999, -9999, -9"
     ]
    },
    {
     "name": "stdout",
     "output_type": "stream",
     "text": [
      "999, -9999, -9999, -9999, -9999, -9999, \n",
      "    -9999, -9999, -9999, -9999, -9999, -9999, -9999, -9999,"
     ]
    },
    {
     "name": "stdout",
     "output_type": "stream",
     "text": [
      " -9999, -9999, \n",
      "    -9999, -9999, -9999, -9999, -9999, -9999, -9999, -9999, -9999, -9999, \n",
      "    -9999"
     ]
    },
    {
     "name": "stdout",
     "output_type": "stream",
     "text": [
      ", -9999, -9999, -9999, -9999, -9999, -9999, -9999, -9999, -9999, \n",
      "    -9999, -9999, -9999, -9999, -9"
     ]
    },
    {
     "name": "stdout",
     "output_type": "stream",
     "text": [
      "999, -9999, -9999, -9999, -9999, -9999, \n",
      "    -9999, -9999, -9999, -9999, -9999, -9999, -9999, -9999,"
     ]
    },
    {
     "name": "stdout",
     "output_type": "stream",
     "text": [
      " -9999, -9999,\n",
      "  -9999, -9999, -9999, -9999, -9999, -9999, -9999, -9999, -9999, -9999, \n",
      "    -9999, -"
     ]
    },
    {
     "name": "stdout",
     "output_type": "stream",
     "text": [
      "9999, -9999, -9999, -9999, -9999, -9999, -9999, -9999, -9999, \n",
      "    -9999, -9999, -9999, -9999, -9999"
     ]
    },
    {
     "name": "stdout",
     "output_type": "stream",
     "text": [
      ", -9999, -9999, -9999, -9999, -9999, \n",
      "    -9999, -9999, -9999, -9999, -9999, -9999, -9999, -9999, -9"
     ]
    },
    {
     "name": "stdout",
     "output_type": "stream",
     "text": [
      "999, -9999, \n",
      "    -9999, -9999, -9999, -9999, -9999, -9999, -9999, -9999, -9999, -9999, \n",
      "    -9999, -"
     ]
    },
    {
     "name": "stdout",
     "output_type": "stream",
     "text": [
      "9999, -9999, -9999, -9999, -9999, -9999, -9999, -9999, -9999,\n",
      "  -9999, -9999, -9999, -9999, -9999, -"
     ]
    },
    {
     "name": "stdout",
     "output_type": "stream",
     "text": [
      "9999, -9999, -9999, -9999, -9999, \n",
      "    -9999, -9999, -9999, -9999, -9999, -9999, -9999, -9999, -9999"
     ]
    },
    {
     "name": "stdout",
     "output_type": "stream",
     "text": [
      ", -9999, \n",
      "    -9999, -9999, -9999, -9999, -9999, -9999, -9999, -9999, -9999, -9999, \n",
      "    -9999, -999"
     ]
    },
    {
     "name": "stdout",
     "output_type": "stream",
     "text": [
      "9, -9999, -9999, -9999, -9999, -9999, -9999, -9999, -9999, \n",
      "    -9999, -9999, -9999, -9999, -9999, -"
     ]
    },
    {
     "name": "stdout",
     "output_type": "stream",
     "text": [
      "9999, -9999, -9999, -9999, -9999, \n",
      "    -9999, -9999, -9999, -9999, -9999, -9999, -9999, -9999, -9999"
     ]
    },
    {
     "name": "stdout",
     "output_type": "stream",
     "text": [
      ", -9999 ;\n",
      "}\n"
     ]
    }
   ],
   "source": [
    "%%bash\n",
    "\n",
    "ncdump -v LAKEGRID ~/wrf-hydro-training/output/lesson6/run_gridded_template/DOMAIN/Fulldom_hires.nc | tail -300"
   ]
  },
  {
   "cell_type": "markdown",
   "metadata": {},
   "source": [
    "Run the same command on the original `Fulldom_hires.nc` file in the `Gridded_no_lakes` directory to show there are no lake values (1's)"
   ]
  },
  {
   "cell_type": "code",
   "execution_count": 21,
   "metadata": {
    "scrolled": true
   },
   "outputs": [
    {
     "name": "stdout",
     "output_type": "stream",
     "text": [
      "    -9999, -9999, -9999, -9999, -9999, -9999, -9999, -9999, -9999, -9999, \n",
      "    -9999, -9999, -9999, -9999, -9999, -9999, -9999, -9999, -9999, -9999, \n",
      "    -9999, -9999, -9999, -9999, -9999, -9999, -9999, -9999, -9999, -9999, \n",
      "    -9999, -9999, -9999, -9999, -9999, -9999, -9999, -9999, -9999, -9999, \n",
      "    -9999, -9999, -9999, -9999, -9999, -9999, -9999, -9999, -9999, -9999,\n",
      "  -9999, -9999, -9999, -9999, -9999, -9999, -9999, -9999, -9999, -9999, \n",
      "    -9999, -9999, -9999, -9999, -9999, -9999, -9999, -9999, -9999, -9999, \n",
      "    -9999, -9999, -9999, -9999, -9999, -9999, -9999, -9999, -9999, -9999, \n",
      "    -9999, -9999, -9999, -9999, -9999, -9999, -9999, -9999, -9999, -9999, \n",
      "    -9999, -9999, -9999, -9999, -9999, -9999, -9999, -9999, -9999, -9999, \n",
      "    -9999, -9999, -9999, -9999, -9999, -9999, -9999, -9999, -9999, -9999,\n",
      "  -9999, -9999, -9999, -9999, -9999, -9999, -9999, -9999, -9999, -9999, \n",
      "    -9999, -9999, -9999, -9999, -9999, -9999, -9999, -9999, -9999, -9999, \n",
      "    -9999, -9999, -9999, -9999, -9999, -9999, -9999, -9999, -9999, -9999, \n",
      "    -9999, -9999, -9999, -9999, -9999, -9999, -9999, -9999, -9999, -9999, \n",
      "    -9999, -9999, -9999, -9999, -9999, -9999, -9999, -9999, -9999, -9999, \n",
      "    -9999, -9999, -9999, -9999, -9999, -9999, -9999, -9999, -9999, -9999,\n",
      "  -9999, -9999, -9999, -9999, -9999, -9999, -9999, -9999, -9999, -9999, \n",
      "    -9999, -9999, -9999, -9999, -9999, -9999, -9999, -9999, -9999, -9999, \n",
      "    -9999, -9999, -9999, -9999, -9999, -9999, -9999, -9999, -9999, -9999, \n",
      "    -9999, -9999, -9999, -9999, -9999, -9999, -9999, -9999, -9999, -9999, \n",
      "    -9999, -9999, -9999, -9999, -9999, -9999, -9999, -9999, -9999, -9999, \n",
      "    -9999, -9999, -9999, -9999, -9999, -9999, -9999, -9999, -9999, -9999,\n",
      "  -9999, -9999, -9999, -9999, -9999, -9999, -9999, -9999, -9999, -9999, \n",
      "    -9999, -9999, -9999, -9999, -9999, -9999, -9999, -9999, -9999, -9999, \n",
      "    -9999, -9999, -9999, -9999, -9999, -9999, -9999, -9999, -9999, -9999, \n",
      "    -9999, -9999, -9999, -9999, -9999, -9999, -9999, -9999, -9999, -9999, \n",
      "    -9999, -9999, -9999, -9999, -9999, -9999, -9999, -9999, -9999, -9999, \n",
      "    -9999, -9999, -9999, -9999, -9999, -9999, -9999, -9999, -9999, -9999,\n",
      "  -9999, -9999, -9999, -9999, -9999, -9999, -9999, -9999, -9999, -9999, \n",
      "    -9999, -9999, -9999, -9999, -9999, -9999, -9999, -9999, -9999, -9999, \n",
      "    -9999, -9999, -9999, -9999, -9999, -9999, -9999, -9999, -9999, -9999, \n",
      "    -9999, -9999, -9999, -9999, -9999, -9999, -9999, -9999, -9999, -9999, \n",
      "    -9999, -9999, -9999, -9999, -9999, -9999, -9999, -9999, -9999, -9999, \n",
      "    -9999, -9999, -9999, -9999, -9999, -9999, -9999, -9999, -9999, -9999,\n",
      "  -9999, -9999, -9999, -9999, -9999, -9999, -9999, -9999, -9999, -9999, \n",
      "    -9999, -9999, -9999, -9999, -9999, -9999, -9999, -9999, -9999, -9999, \n",
      "    -9999, -9999, -9999, -9999, -9999, -9999, -9999, -9999, -9999, -9999, \n",
      "    -9999, -9999, -9999, -9999, -9999, -9999, -9999, -9999, -9999, -9999, \n",
      "    -9999, -9999, -9999, -9999, -9999, -9999, -9999, -9999, -9999, -9999, \n",
      "    -9999, -9999, -9999, -9999, -9999, -9999, -9999, -9999, -9999, -9999,\n",
      "  -9999, -9999, -9999, -9999, -9999, -9999, -9999, -9999, -9999, -9999, \n",
      "    -9999, -9999, -9999, -9999, -9999, -9999, -9999, -9999, -9999, -9999, \n",
      "    -9999, -9999, -9999, -9999, -9999, -9999, -9999, -9999, -9999, -9999, \n",
      "    -9999, -9999, -9999, -9999, -9999, -9999, -9999, -9999, -9999, -9999, \n",
      "    -9999, -9999, -9999, -9999, -9999, -9999, -9999, -9999, -9999, -9999, \n",
      "    -9999, -9999, -9999, -9999, -9999, -9999, -9999, -9999, -9999, -9999,\n",
      "  -9999, -9999, -9999, -9999, -9999, -9999, -9999, -9999, -9999, -9999, \n",
      "    -9999, -9999, -9999, -9999, -9999, -9999, -9999, -9999, -9999, -9999, \n",
      "    -9999, -9999, -9999, -9999, -9999, -9999, -9999, -9999, -9999, -9999, \n",
      "    -9999, -9999, -9999, -9999, -9999, -9999, -9999, -9999, -9999, -9999, \n",
      "    -9999, -9999, -9999, -9999, -9999, -9999, -9999, -9999, -9999, -9999, \n",
      "    -9999, -9999, -9999, -9999, -9999, -9999, -9999, -9999, -9999, -9999,\n",
      "  -9999, -9999, -9999, -9999, -9999, -9999, -9999, -9999, -9999, -9999, \n",
      "    -9999, -9999, -9999, -9999, -9999, -9999, -9999, -9999, -9999, -9999, \n",
      "    -9999, -9999, -9999, -9999, -9999, -9999, -9999, -9999, -9999, -9999, \n",
      "    -9999, -9999, -9999, -9999, -9999, -9999, -9999, -9999, -9999, -9999, \n",
      "    -9999, -9999, -9999, -9999, -9999, -9999, -9999, -9999, -9999, -9999, \n",
      "    -9999, -9999, -9999, -9999, -9999, -9999, -9999, -9999, -9999, -9999,\n",
      "  -9999, -9999, -9999, -9999, -9999, -9999, -9999, -9999, -9999, -9999, \n",
      "    -9999, -9999, -9999, -9999, -9999, -9999, -9999, -9999, -9999, -9999, \n",
      "    -9999, -9999, -9999, -9999, -9999, -9999, -9999, -9999, -9999, -9999, \n",
      "    -9999, -9999, -9999, -9999, -9999, -9999, -9999, -9999, -9999, -9999, \n",
      "    -9999, -9999, -9999, -9999, -9999, -9999, -9999, -9999, -9999, -9999, \n",
      "    -9999, -9999, -9999, -9999, -9999, -9999, -9999, -9999, -9999, -9999,\n",
      "  -9999, -9999, -9999, -9999, -9999, -9999, -9999, -9999, -9999, -9999, \n",
      "    -9999, -9999, -9999, -9999, -9999, -9999, -9999, -9999, -9999, -9999, \n",
      "    -9999, -9999, -9999, -9999, -9999, -9999, -9999, -9999, -9999, -9999, \n",
      "    -9999, -9999, -9999, -9999, -9999, -9999, -9999, -9999, -9999, -9999, \n",
      "    -9999, -9999, -9999, -9999, -9999, -9999, -9999, -9999, -9999, -9999, \n",
      "    -9999, -9999, -9999, -9999, -9999, -9999, -9999, -9999, -9999, -9999,\n",
      "  -9999, -9999, -9999, -9999, -9999, -9999, -9999, -9999, -9999, -9999, \n",
      "    -9999, -9999, -9999, -9999, -9999, -9999, -9999, -9999, -9999, -9999, \n",
      "    -9999, -9999, -9999, -9999, -9999, -9999, -9999, -9999, -9999, -9999, \n",
      "    -9999, -9999, -9999, -9999, -9999, -9999, -9999, -9999, -9999, -9999, \n",
      "    -9999, -9999, -9999, -9999, -9999, -9999, -9999, -9999, -9999, -9999, \n",
      "    -9999, -9999, -9999, -9999, -9999, -9999, -9999, -9999, -9999, -9999,\n",
      "  -9999, -9999, -9999, -9999, -9999, -9999, -9999, -9999, -9999, -9999, \n",
      "    -9999, -9999, -9999, -9999, -9999, -9999, -9999, -9999, -9999, -9999, \n",
      "    -9999, -9999, -9999, -9999, -9999, -9999, -9999, -9999, -9999, -9999, \n",
      "    -9999, -9999, -9999, -9999, -9999, -9999, -9999, -9999, -9999, -9999, \n",
      "    -9999, -9999, -9999, -9999, -9999, -9999, -9999, -9999, -9999, -9999, \n",
      "    -9999, -9999, -9999, -9999, -9999, -9999, -9999, -9999, -9999, -9999,\n",
      "  -9999, -9999, -9999, -9999, -9999, -9999, -9999, -9999, -9999, -9999, \n",
      "    -9999, -9999, -9999, -9999, -9999, -9999, -9999, -9999, -9999, -9999, \n",
      "    -9999, -9999, -9999, -9999, -9999, -9999, -9999, -9999, -9999, -9999, \n",
      "    -9999, -9999, -9999, -9999, -9999, -9999, -9999, -9999, -9999, -9999, \n",
      "    -9999, -9999, -9999, -9999, -9999, -9999, -9999, -9999, -9999, -9999, \n",
      "    -9999, -9999, -9999, -9999, -9999, -9999, -9999, -9999, -9999, -9999,\n",
      "  -9999, -9999, -9999, -9999, -9999, -9999, -9999, -9999, -9999, -9999, \n",
      "    -9999, -9999, -9999, -9999, -9999, -9999, -9999, -9999, -9999, -9999, \n",
      "    -9999, -9999, -9999, -9999, -9999, -9999, -9999, -9999, -9999, -9999, \n",
      "    -9999, -9999, -9999, -9999, -9999, -9999, -9999, -9999, -9999, -9999, \n",
      "    -9999, -9999, -9999, -9999, -9999, -9999, -9999, -9999, -9999, -9999, \n",
      "    -9999, -9999, -9999, -9999, -9999, -9999, -9999, -9999, -9999, -9999,\n",
      "  -9999, -9999, -9999, -9999, -9999, -9999, -9999, -9999, -9999, -9999, \n",
      "    -9999, -9999, -9999, -9999, -9999, -9999, -9999, -9999, -9999, -9999, \n",
      "    -9999, -9999, -9999, -9999, -9999, -9999, -9999, -9999, -9999, -9999, \n",
      "    -9999, -9999, -9999, -9999, -9999, -9999, -9999, -9999, -9999, -9999, \n",
      "    -9999, -9999, -9999, -9999, -9999, -9999, -9999, -9999, -9999, -9999, \n",
      "    -9999, -9999, -9999, -9999, -9999, -9999, -9999, -9999, -9999, -9999,\n",
      "  -9999, -9999, -9999, -9999, -9999, -9999, -9999, -9999, -9999, -9999, \n",
      "    -9999, -9999, -9999, -9999, -9999, -9999, -9999, -9999, -9999, -9999, \n",
      "    -9999, -9999, -9999, -9999, -9999, -9999, -9999, -9999, -9999, -9999, \n",
      "    -9999, -9999, -9999, -9999, -9999, -9999, -9999, -9999, -9999, -9999, \n",
      "    -9999, -9999, -9999, -9999, -9999, -9999, -9999, -9999, -9999, -9999, \n",
      "    -9999, -9999, -9999, -9999, -9999, -9999, -9999, -9999, -9999, -9999,\n",
      "  -9999, -9999, -9999, -9999, -9999, -9999, -9999, -9999, -9999, -9999, \n",
      "    -9999, -9999, -9999, -9999, -9999, -9999, -9999, -9999, -9999, -9999, \n",
      "    -9999, -9999, -9999, -9999, -9999, -9999, -9999, -9999, -9999, -9999, \n",
      "    -9999, -9999, -9999, -9999, -9999, -9999, -9999, -9999, -9999, -9999, \n",
      "    -9999, -9999, -9999, -9999, -9999, -9999, -9999, -9999, -9999, -9999, \n",
      "    -9999, -9999, -9999, -9999, -9999, -9999, -9999, -9999, -9999, -9999,\n",
      "  -9999, -9999, -9999, -9999, -9999, -9999, -9999, -9999, -9999, -9999, \n",
      "    -9999, -9999, -9999, -9999, -9999, -9999, -9999, -9999, -9999, -9999, \n",
      "    -9999, -9999, -9999, -9999, -9999, -9999, -9999, -9999, -9999, -9999, \n",
      "    -9999, -9999, -9999, -9999, -9999, -9999, -9999, -9999, -9999, -9999, \n",
      "    -9999, -9999, -9999, -9999, -9999, -9999, -9999, -9999, -9999, -9999, \n",
      "    -9999, -9999, -9999, -9999, -9999, -9999, -9999, -9999, -9999, -9999,\n",
      "  -9999, -9999, -9999, -9999, -9999, -9999, -9999, -9999, -9999, -9999, \n",
      "    -9999, -9999, -9999, -9999, -9999, -9999, -9999, -9999, -9999, -9999, \n",
      "    -9999, -9999, -9999, -9999, -9999, -9999, -9999, -9999, -9999, -9999, \n",
      "    -9999, -9999, -9999, -9999, -9999, -9999, -9999, -9999, -9999, -9999, \n",
      "    -9999, -9999, -9999, -9999, -9999, -9999, -9999, -9999, -9999, -9999, \n",
      "    -9999, -9999, -9999, -9999, -9999, -9999, -9999, -9999, -9999, -9999,\n",
      "  -9999, -9999, -9999, -9999, -9999, -9999, -9999, -9999, -9999, -9999, \n",
      "    -9999, -9999, -9999, -9999, -9999, -9999, -9999, -9999, -9999, -9999, \n",
      "    -9999, -9999, -9999, -9999, -9999, -9999, -9999, -9999, -9999, -9999, \n",
      "    -9999, -9999, -9999, -9999, -9999, -9999, -9999, -9999, -9999, -9999, \n",
      "    -9999, -9999, -9999, -9999, -9999, -9999, -9999, -9999, -9999, -9999, \n",
      "    -9999, -9999, -9999, -9999, -9999, -9999, -9999, -9999, -9999, -9999,\n",
      "  -9999, -9999, -9999, -9999, -9999, -9999, -9999, -9999, -9999, -9999, \n",
      "    -9999, -9999, -9999, -9999, -9999, -9999, -9999, -9999, -9999, -9999, \n",
      "    -9999, -9999, -9999, -9999, -9999, -9999, -9999, -9999, -9999, -9999, \n",
      "    -9999, -9999, -9999, -9999, -9999, -9999, -9999, -9999, -9999, -9999, \n",
      "    -9999, -9999, -9999, -9999, -9999, -9999, -9999, -9999, -9999, -9999, \n",
      "    -9999, -9999, -9999, -9999, -9999, -9999, -9999, -9999, -9999, -9999,\n",
      "  -9999, -9999, -9999, -9999, -9999, -9999, -9999, -9999, -9999, -9999, \n",
      "    -9999, -9999, -9999, -9999, -9999, -9999, -9999, -9999, -9999, -9999, \n",
      "    -9999, -9999, -9999, -9999, -9999, -9999, -9999, -9999, -9999, -9999, \n",
      "    -9999, -9999, -9999, -9999, -9999, -9999, -9999, -9999, -9999, -9999, \n",
      "    -9999, -9999, -9999, -9999, -9999, -9999, -9999, -9999, -9999, -9999, \n",
      "    -9999, -9999, -9999, -9999, -9999, -9999, -9999, -9999, -9999, -9999,\n",
      "  -9999, -9999, -9999, -9999, -9999, -9999, -9999, -9999, -9999, -9999, \n",
      "    -9999, -9999, -9999, -9999, -9999, -9999, -9999, -9999, -9999, -9999, \n",
      "    -9999, -9999, -9999, -9999, -9999, -9999, -9999, -9999, -9999, -9999, \n",
      "    -9999, -9999, -9999, -9999, -9999, -9999, -9999, -9999, -9999, -9999, \n",
      "    -9999, -9999, -9999, -9999, -9999, -9999, -9999, -9999, -9999, -9999, \n",
      "    -9999, -9999, -9999, -9999, -9999, -9999, -9999, -9999, -9999, -9999,\n",
      "  -9999, -9999, -9999, -9999, -9999, -9999, -9999, -9999, -9999, -9999, \n",
      "    -9999, -9999, -9999, -9999, -9999, -9999, -9999, -9999, -9999, -9999, \n",
      "    -9999, -9999, -9999, -9999, -9999, -9999, -9999, -9999, -9999, -9999, \n",
      "    -9999, -9999, -9999, -9999, -9999, -9999, -9999, -9999, -9999, -9999, \n",
      "    -9999, -9999, -9999, -9999, -9999, -9999, -9999, -9999, -9999, -9999, \n",
      "    -9999, -9999, -9999, -9999, -9999, -9999, -9999, -9999, -9999, -9999,\n",
      "  -9999, -9999, -9999, -9999, -9999, -9999, -9999, -9999, -9999, -9999, \n",
      "    -9999, -9999, -9999, -9999, -9999, -9999, -9999, -9999, -9999, -9999, \n",
      "    -9999, -9999, -9999, -9999, -9999, -9999, -9999, -9999, -9999, -9999, \n",
      "    -9999, -9999, -9999, -9999, -9999, -9999, -9999, -9999, -9999, -9999, \n",
      "    -9999, -9999, -9999, -9999, -9999, -9999, -9999, -9999, -9999, -9999, \n",
      "    -9999, -9999, -9999, -9999, -9999, -9999, -9999, -9999, -9999, -9999,\n",
      "  -9999, -9999, -9999, -9999, -9999, -9999, -9999, -9999, -9999, -9999, \n",
      "    -9999, -9999, -9999, -9999, -9999, -9999, -9999, -9999, -9999, -9999, \n",
      "    -9999, -9999, -9999, -9999, -9999, -9999, -9999, -9999, -9999, -9999, \n",
      "    -9999, -9999, -9999, -9999, -9999, -9999, -9999, -9999, -9999, -9999, \n",
      "    -9999, -9999, -9999, -9999, -9999, -9999, -9999, -9999, -9999, -9999, \n",
      "    -9999, -9999, -9999, -9999, -9999, -9999, -9999, -9999, -9999, -9999,\n",
      "  -9999, -9999, -9999, -9999, -9999, -9999, -9999, -9999, -9999, -9999, \n",
      "    -9999, -9999, -9999, -9999, -9999, -9999, -9999, -9999, -9999, -9999, \n",
      "    -9999, -9999, -9999, -9999, -9999, -9999, -9999, -9999, -9999, -9999, \n",
      "    -9999, -9999, -9999, -9999, -9999, -9999, -9999, -9999, -9999, -9999, \n",
      "    -9999, -9999, -9999, -9999, -9999, -9999, -9999, -9999, -9999, -9999, \n",
      "    -9999, -9999, -9999, -9999, -9999, -9999, -9999, -9999, -9999, -9999,\n",
      "  -9999, -9999, -9999, -9999, -9999, -9999, -9999, -9999, -9999, -9999, \n",
      "    -9999, -9999, -9999, -9999, -9999, -9999, -9999, -9999, -9999, -9999, \n",
      "    -9999, -9999, -9999, -9999, -9999, -9999, -9999, -9999, -9999, -9999, \n",
      "    -9999, -9999, -9999, -9999, -9999, -9999, -9999, -9999, -9999, -9999, \n",
      "    -9999, -9999, -9999, -9999, -9999, -9999, -9999, -9999, -9999, -9999, \n",
      "    -9999, -9999, -9999, -9999, -9999, -9999, -9999, -9999, -9999, -9999,\n",
      "  -9999, -9999, -9999, -9999, -9999, -9999, -9999, -9999, -9999, -9999, \n",
      "    -9999, -9999, -9999, -9999, -9999, -9999, -9999, -9999, -9999, -9999, \n",
      "    -9999, -9999, -9999, -9999, -9999, -9999, -9999, -9999, -9999, -9999, \n",
      "    -9999, -9999, -9999, -9999, -9999, -9999, -9999, -9999, -9999, -9999, \n",
      "    -9999, -9999, -9999, -9999, -9999, -9999, -9999, -9999, -9999, -9999, \n",
      "    -9999, -9999, -9999, -9999, -9999, -9999, -9999, -9999, -9999, -9999,\n",
      "  -9999, -9999, -9999, -9999, -9999, -9999, -9999, -9999, -9999, -9999, \n",
      "    -9999, -9999, -9999, -9999, -9999, -9999, -9999, -9999, -9999, -9999, \n",
      "    -9999, -9999, -9999, -9999, -9999, -9999, -9999, -9999, -9999, -9999, \n",
      "    -9999, -9999, -9999, -9999, -9999, -9999, -9999, -9999, -9999, -9999, \n",
      "    -9999, -9999, -9999, -9999, -9999, -9999, -9999, -9999, -9999, -9999, \n",
      "    -9999, -9999, -9999, -9999, -9999, -9999, -9999, -9999, -9999, -9999,\n",
      "  -9999, -9999, -9999, -9999, -9999, -9999, -9999, -9999, -9999, -9999, \n",
      "    -9999, -9999, -9999, -9999, -9999, -9999, -9999, -9999, -9999, -9999, \n",
      "    -9999, -9999, -9999, -9999, -9999, -9999, -9999, -9999, -9999, -9999, \n",
      "    -9999, -9999, -9999, -9999, -9999, -9999, -9999, -9999, -9999, -9999, \n",
      "    -9999, -9999, -9999, -9999, -9999, -9999, -9999, -9999, -9999, -9999, \n",
      "    -9999, -9999, -9999, -9999, -9999, -9999, -9999, -9999, -9999, -9999,\n",
      "  -9999, -9999, -9999, -9999, -9999, -9999, -9999, -9999, -9999, -9999, \n",
      "    -9999, -9999, -9999, -9999, -9999, -9999, -9999, -9999, -9999, -9999, \n",
      "    -9999, -9999, -9999, -9999, -9999, -9999, -9999, -9999, -9999, -9999, \n",
      "    -9999, -9999, -9999, -9999, -9999, -9999, -9999, -9999, -9999, -9999, \n",
      "    -9999, -9999, -9999, -9999, -9999, -9999, -9999, -9999, -9999, -9999, \n",
      "    -9999, -9999, -9999, -9999, -9999, -9999, -9999, -9999, -9999, -9999,\n",
      "  -9999, -9999, -9999, -9999, -9999, -9999, -9999, -9999, -9999, -9999, \n",
      "    -9999, -9999, -9999, -9999, -9999, -9999, -9999, -9999, -9999, -9999, \n",
      "    -9999, -9999, -9999, -9999, -9999, -9999, -9999, -9999, -9999, -9999, \n",
      "    -9999, -9999, -9999, -9999, -9999, -9999, -9999, -9999, -9999, -9999, \n",
      "    -9999, -9999, -9999, -9999, -9999, -9999, -9999, -9999, -9999, -9999, \n",
      "    -9999, -9999, -9999, -9999, -9999, -9999, -9999, -9999, -9999, -9999,\n",
      "  -9999, -9999, -9999, -9999, -9999, -9999, -9999, -9999, -9999, -9999, \n",
      "    -9999, -9999, -9999, -9999, -9999, -9999, -9999, -9999, -9999, -9999, \n",
      "    -9999, -9999, -9999, -9999, -9999, -9999, -9999, -9999, -9999, -9999, \n",
      "    -9999, -9999, -9999, -9999, -9999, -9999, -9999, -9999, -9999, -9999, \n",
      "    -9999, -9999, -9999, -9999, -9999, -9999, -9999, -9999, -9999, -9999, \n",
      "    -9999, -9999, -9999, -9999, -9999, -9999, -9999, -9999, -9999, -9999,\n",
      "  -9999, -9999, -9999, -9999, -9999, -9999, -9999, -9999, -9999, -9999, \n",
      "    -9999, -9999, -9999, -9999, -9999, -9999, -9999, -9999, -9999, -9999, \n",
      "    -9999, -9999, -9999, -9999, -9999, -9999, -9999, -9999, -9999, -9999, \n",
      "    -9999, -9999, -9999, -9999, -9999, -9999, -9999, -9999, -9999, -9999, \n",
      "    -9999, -9999, -9999, -9999, -9999, -9999, -9999, -9999, -9999, -9999, \n",
      "    -9999, -9999, -9999, -9999, -9999, -9999, -9999, -9999, -9999, -9999,\n",
      "  -9999, -9999, -9999, -9999, -9999, -9999, -9999, -9999, -9999, -9999, \n",
      "    -9999, -9999, -9999, -9999, -9999, -9999, -9999, -9999, -9999, -9999, \n",
      "    -9999, -9999, -9999, -9999, -9999, -9999, -9999, -9999, -9999, -9999, \n",
      "    -9999, -9999, -9999, -9999, -9999, -9999, -9999, -9999, -9999, -9999, \n",
      "    -9999, -9999, -9999, -9999, -9999, -9999, -9999, -9999, -9999, -9999, \n",
      "    -9999, -9999, -9999, -9999, -9999, -9999, -9999, -9999, -9999, -9999,\n",
      "  -9999, -9999, -9999, -9999, -9999, -9999, -9999, -9999, -9999, -9999, \n",
      "    -9999, -9999, -9999, -9999, -9999, -9999, -9999, -9999, -9999, -9999, \n",
      "    -9999, -9999, -9999, -9999, -9999, -9999, -9999, -9999, -9999, -9999, \n",
      "    -9999, -9999, -9999, -9999, -9999, -9999, -9999, -9999, -9999, -9999, \n",
      "    -9999, -9999, -9999, -9999, -9999, -9999, -9999, -9999, -9999, -9999, \n",
      "    -9999, -9999, -9999, -9999, -9999, -9999, -9999, -9999, -9999, -9999,\n",
      "  -9999, -9999, -9999, -9999, -9999, -9999, -9999, -9999, -9999, -9999, \n",
      "    -9999, -9999, -9999, -9999, -9999, -9999, -9999, -9999, -9999, -9999, \n",
      "    -9999, -9999, -9999, -9999, -9999, -9999, -9999, -9999, -9999, -9999, \n",
      "    -9999, -9999, -9999, -9999, -9999, -9999, -9999, -9999, -9999, -9999, \n",
      "    -9999, -9999, -9999, -9999, -9999, -9999, -9999, -9999, -9999, -9999, \n",
      "    -9999, -9999, -9999, -9999, -9999, -9999, -9999, -9999, -9999, -9999,\n",
      "  -9999, -9999, -9999, -9999, -9999, -9999, -9999, -9999, -9999, -9999, \n",
      "    -9999, -9999, -9999, -9999, -9999, -9999, -9999, -9999, -9999, -9999, \n",
      "    -9999, -9999, -9999, -9999, -9999, -9999, -9999, -9999, -9999, -9999, \n",
      "    -9999, -9999, -9999, -9999, -9999, -9999, -9999, -9999, -9999, -9999, \n",
      "    -9999, -9999, -9999, -9999, -9999, -9999, -9999, -9999, -9999, -9999, \n",
      "    -9999, -9999, -9999, -9999, -9999, -9999, -9999, -9999, -9999, -9999,\n",
      "  -9999, -9999, -9999, -9999, -9999, -9999, -9999, -9999, -9999, -9999, \n",
      "    -9999, -9999, -9999, -9999, -9999, -9999, -9999, -9999, -9999, -9999, \n",
      "    -9999, -9999, -9999, -9999, -9999, -9999, -9999, -9999, -9999, -9999, \n",
      "    -9999, -9999, -9999, -9999, -9999, -9999, -9999, -9999, -9999, -9999, \n",
      "    -9999, -9999, -9999, -9999, -9999, -9999, -9999, -9999, -9999, -9999, \n",
      "    -9999, -9999, -9999, -9999, -9999, -9999, -9999, -9999, -9999, -9999,\n",
      "  -9999, -9999, -9999, -9999, -9999, -9999, -9999, -9999, -9999, -9999, \n",
      "    -9999, -9999, -9999, -9999, -9999, -9999, -9999, -9999, -9999, -9999, \n",
      "    -9999, -9999, -9999, -9999, -9999, -9999, -9999, -9999, -9999, -9999, \n",
      "    -9999, -9999, -9999, -9999, -9999, -9999, -9999, -9999, -9999, -9999, \n",
      "    -9999, -9999, -9999, -9999, -9999, -9999, -9999, -9999, -9999, -9999, \n",
      "    -9999, -9999, -9999, -9999, -9999, -9999, -9999, -9999, -9999, -9999,\n",
      "  -9999, -9999, -9999, -9999, -9999, -9999, -9999, -9999, -9999, -9999, \n",
      "    -9999, -9999, -9999, -9999, -9999, -9999, -9999, -9999, -9999, -9999, \n",
      "    -9999, -9999, -9999, -9999, -9999, -9999, -9999, -9999, -9999, -9999, \n",
      "    -9999, -9999, -9999, -9999, -9999, -9999, -9999, -9999, -9999, -9999, \n",
      "    -9999, -9999, -9999, -9999, -9999, -9999, -9999, -9999, -9999, -9999, \n",
      "    -9999, -9999, -9999, -9999, -9999, -9999, -9999, -9999, -9999, -9999,\n",
      "  -9999, -9999, -9999, -9999, -9999, -9999, -9999, -9999, -9999, -9999, \n",
      "    -9999, -9999, -9999, -9999, -9999, -9999, -9999, -9999, -9999, -9999, \n",
      "    -9999, -9999, -9999, -9999, -9999, -9999, -9999, -9999, -9999, -9999, \n",
      "    -9999, -9999, -9999, -9999, -9999, -9999, -9999, -9999, -9999, -9999, \n",
      "    -9999, -9999, -9999, -9999, -9999, -9999, -9999, -9999, -9999, -9999, \n",
      "    -9999, -9999, -9999, -9999, -9999, -9999, -9999, -9999, -9999, -9999,\n",
      "  -9999, -9999, -9999, -9999, -9999, -9999, -9999, -9999, -9999, -9999, \n",
      "    -9999, -9999, -9999, -9999, -9999, -9999, -9999, -9999, -9999, -9999, \n",
      "    -9999, -9999, -9999, -9999, -9999, -9999, -9999, -9999, -9999, -9999, \n",
      "    -9999, -9999, -9999, -9999, -9999, -9999, -9999, -9999, -9999, -9999, \n",
      "    -9999, -9999, -9999, -9999, -9999, -9999, -9999, -9999, -9999, -9999, \n",
      "    -9999, -9999, -9999, -9999, -9999, -9999, -9999, -9999, -9999, -9999,\n",
      "  -9999, -9999, -9999, -9999, -9999, -9999, -9999, -9999, -9999, -9999, \n",
      "    -9999, -9999, -9999, -9999, -9999, -9999, -9999, -9999, -9999, -9999, \n",
      "    -9999, -9999, -9999, -9999, -9999, -9999, -9999, -9999, -9999, -9999, \n",
      "    -9999, -9999, -9999, -9999, -9999, -9999, -9999, -9999, -9999, -9999, \n",
      "    -9999, -9999, -9999, -9999, -9999, -9999, -9999, -9999, -9999, -9999, \n",
      "    -9999, -9999, -9999, -9999, -9999, -9999, -9999, -9999, -9999, -9999,\n",
      "  -9999, -9999, -9999, -9999, -9999, -9999, -9999, -9999, -9999, -9999, \n",
      "    -9999, -9999, -9999, -9999, -9999, -9999, -9999, -9999, -9999, -9999, \n",
      "    -9999, -9999, -9999, -9999, -9999, -9999, -9999, -9999, -9999, -9999, \n",
      "    -9999, -9999, -9999, -9999, -9999, -9999, -9999, -9999, -9999, -9999, \n",
      "    -9999, -9999, -9999, -9999, -9999, -9999, -9999, -9999, -9999, -9999, \n",
      "    -9999, -9999, -9999, -9999, -9999, -9999, -9999, -9999, -9999, -9999,\n",
      "  -9999, -9999, -9999, -9999, -9999, -9999, -9999, -9999, -9999, -9999, \n",
      "    -9999, -9999, -9999, -9999, -9999, -9999, -9999, -9999, -9999, -9999, \n",
      "    -9999, -9999, -9999, -9999, -9999, -9999, -9999, -9999, -9999, -9999, \n",
      "    -9999, -9999, -9999, -9999, -9999, -9999, -9999, -9999, -9999, -9999, \n",
      "    -9999, -9999, -9999, -9999, -9999, -9999, -9999, -9999, -9999, -9999, \n",
      "    -9999, -9999, -9999, -9999, -9999, -9999, -9999, -9999, -9999, -9999,\n",
      "  -9999, -9999, -9999, -9999, -9999, -9999, -9999, -9999, -9999, -9999, \n",
      "    -9999, -9999, -9999, -9999, -9999, -9999, -9999, -9999, -9999, -9999, \n",
      "    -9999, -9999, -9999, -9999, -9999, -9999, -9999, -9999, -9999, -9999, \n",
      "    -9999, -9999, -9999, -9999, -9999, -9999, -9999, -9999, -9999, -9999, \n",
      "    -9999, -9999, -9999, -9999, -9999, -9999, -9999, -9999, -9999, -9999, \n",
      "    -9999, -9999, -9999, -9999, -9999, -9999, -9999, -9999, -9999, -9999 ;\n",
      "}\n"
     ]
    },
    {
     "name": "stdout",
     "output_type": "stream",
     "text": [
      "-9999, -9999, -9999, -9999, -9999, -9999, -9999, \n",
      "    -9999, -9999, -9999, -9999, -9999, -9999, -999"
     ]
    },
    {
     "name": "stdout",
     "output_type": "stream",
     "text": [
      "9, -9999, -9999, -9999, \n",
      "    -9999, -9999, -9999, -9999, -9999, -9999, -9999, -9999, -9999, -9999, \n"
     ]
    },
    {
     "name": "stdout",
     "output_type": "stream",
     "text": [
      "    -9999, -9999, -9999, -9999, -9999, -9999, -9999, -9999, -9999, -9999,\n",
      "  -9999, -9999, -9999, -99"
     ]
    },
    {
     "name": "stdout",
     "output_type": "stream",
     "text": [
      "99, -9999, -9999, -9999, -9999, -9999, -9999, \n",
      "    -9999, -9999, -9999, -9999, -9999, -9999, -9999, "
     ]
    },
    {
     "name": "stdout",
     "output_type": "stream",
     "text": [
      "-9999, -9999, -9999, \n",
      "    -9999, -9999, -9999, -9999, -9999, -9999, -9999, -9999, -9999, -9999, \n",
      "   "
     ]
    },
    {
     "name": "stdout",
     "output_type": "stream",
     "text": [
      " -9999, -9999, -9999, -9999, -9999, -9999, -9999, -9999, -9999, -9999, \n",
      "    -9999, -9999, -9999, -99"
     ]
    },
    {
     "name": "stdout",
     "output_type": "stream",
     "text": [
      "99, -9999, -9999, -9999, -9999, -9999, -9999, \n",
      "    -9999, -9999, -9999, -9999, -9999, -9999, -9999, "
     ]
    },
    {
     "name": "stdout",
     "output_type": "stream",
     "text": [
      "-9999, -9999, -9999,\n",
      "  -9999, -9999, -9999, -9999, -9999, -9999, -9999, -9999, -9999, -9999, \n",
      "    -9"
     ]
    },
    {
     "name": "stdout",
     "output_type": "stream",
     "text": [
      "999, -9999, -9999, -9999, -9999, -9999, -9999, -9999, -9999, -9999, \n",
      "    -9999, -9999, -9999, -9999,"
     ]
    },
    {
     "name": "stdout",
     "output_type": "stream",
     "text": [
      " -9999, -9999, -9999, -9999, -9999, -9999, \n",
      "    -9999, -9999, -9999, -9999, -9999, -9999, -9999, -99"
     ]
    },
    {
     "name": "stdout",
     "output_type": "stream",
     "text": [
      "99, -9999, -9999, \n",
      "    -9999, -9999, -9999, -9999, -9999, -9999, -9999, -9999, -9999, -9999, \n",
      "    -9"
     ]
    },
    {
     "name": "stdout",
     "output_type": "stream",
     "text": [
      "999, -9999, -9999, -9999, -9999, -9999, -9999, -9999, -9999, -9999,\n",
      "  -9999, -9999, -9999, -9999, -9"
     ]
    },
    {
     "name": "stdout",
     "output_type": "stream",
     "text": [
      "999, -9999, -9999, -9999, -9999, -9999, \n",
      "    -9999, -9999, -9999, -9999, -9999, -9999, -9999, -9999,"
     ]
    },
    {
     "name": "stdout",
     "output_type": "stream",
     "text": [
      " -9999, -9999, \n",
      "    -9999, -9999, -9999, -9999, -9999, -9999, -9999, -9999, -9999, -9999, \n",
      "    -9999"
     ]
    },
    {
     "name": "stdout",
     "output_type": "stream",
     "text": [
      ", -9999, -9999, -9999, -9999, -9999, -9999, -9999, -9999, -9999, \n",
      "    -9999, -9999, -9999, -9999, -9"
     ]
    },
    {
     "name": "stdout",
     "output_type": "stream",
     "text": [
      "999, -9999, -9999, -9999, -9999, -9999, \n",
      "    -9999, -9999, -9999, -9999, -9999, -9999, -9999, -9999,"
     ]
    },
    {
     "name": "stdout",
     "output_type": "stream",
     "text": [
      " -9999, -9999,\n",
      "  -9999, -9999, -9999, -9999, -9999, -9999, -9999, -9999, -9999, -9999, \n",
      "    -9999, -"
     ]
    },
    {
     "name": "stdout",
     "output_type": "stream",
     "text": [
      "9999, -9999, -9999, -9999, -9999, -9999, -9999, -9999, -9999, \n",
      "    -9999, -9999, -9999, -9999, -9999"
     ]
    },
    {
     "name": "stdout",
     "output_type": "stream",
     "text": [
      ", -9999, -9999, -9999, -9999, -9999, \n",
      "    -9999, -9999, -9999, -9999, -9999, -9999, -9999, -9999, -9"
     ]
    },
    {
     "name": "stdout",
     "output_type": "stream",
     "text": [
      "999, -9999, \n",
      "    -9999, -9999, -9999, -9999, -9999, -9999, -9999, -9999, -9999, -9999, \n",
      "    -9999, -"
     ]
    },
    {
     "name": "stdout",
     "output_type": "stream",
     "text": [
      "9999, -9999, -9999, -9999, -9999, -9999, -9999, -9999, -9999,\n",
      "  -9999, -9999, -9999, -9999, -9999, -"
     ]
    },
    {
     "name": "stdout",
     "output_type": "stream",
     "text": [
      "9999, -9999, -9999, -9999, -9999, \n",
      "    -9999, -9999, -9999, -9999, -9999, -9999, -9999, -9999, -9999"
     ]
    },
    {
     "name": "stdout",
     "output_type": "stream",
     "text": [
      ", -9999, \n",
      "    -9999, -9999, -9999, -9999, -9999, -9999, -9999, -9999, -9999, -9999, \n",
      "    -9999, -999"
     ]
    },
    {
     "name": "stdout",
     "output_type": "stream",
     "text": [
      "9, -9999, -9999, -9999, -9999, -9999, -9999, -9999, -9999, \n",
      "    -9999, -9999, -9999, -9999, -9999, -"
     ]
    },
    {
     "name": "stdout",
     "output_type": "stream",
     "text": [
      "9999, -9999, -9999, -9999, -9999, \n",
      "    -9999, -9999, -9999, -9999, -9999, -9999, -9999, -9999, -9999"
     ]
    },
    {
     "name": "stdout",
     "output_type": "stream",
     "text": [
      ", -9999,\n",
      "  -9999, -9999, -9999, -9999, -9999, -9999, -9999, -9999, -9999, -9999, \n",
      "    -9999, -9999, "
     ]
    },
    {
     "name": "stdout",
     "output_type": "stream",
     "text": [
      "-9999, -9999, -9999, -9999, -9999, -9999, -9999, -9999, \n",
      "    -9999, -9999, -9999, -9999, -9999, -999"
     ]
    },
    {
     "name": "stdout",
     "output_type": "stream",
     "text": [
      "9, -9999, -9999, -9999, -9999, \n",
      "    -9999, -9999, -9999, -9999, -9999, -9999, -9999, -9999, -9999, -"
     ]
    },
    {
     "name": "stdout",
     "output_type": "stream",
     "text": [
      "9999, \n",
      "    -9999, -9999, -9999, -9999, -9999, -9999, -9999, -9999, -9999, -9999, \n",
      "    -9999, -9999, "
     ]
    },
    {
     "name": "stdout",
     "output_type": "stream",
     "text": [
      "-9999, -9999, -9999, -9999, -9999, -9999, -9999, -9999,\n",
      "  -9999, -9999, -9999, -9999, -9999, -9999, "
     ]
    },
    {
     "name": "stdout",
     "output_type": "stream",
     "text": [
      "-9999, -9999, -9999, -9999, \n",
      "    -9999, -9999, -9999, -9999, -9999, -9999, -9999, -9999, -9999, -999"
     ]
    },
    {
     "name": "stdout",
     "output_type": "stream",
     "text": [
      "9, \n",
      "    -9999, -9999, -9999, -9999, -9999, -9999, -9999, -9999, -9999, -9999, \n",
      "    -9999, -9999, -99"
     ]
    },
    {
     "name": "stdout",
     "output_type": "stream",
     "text": [
      "99, -9999, -9999, -9999, -9999, -9999, -9999, -9999, \n",
      "    -9999, -9999, -9999, -9999, -9999, -9999, "
     ]
    },
    {
     "name": "stdout",
     "output_type": "stream",
     "text": [
      "-9999, -9999, -9999, -9999, \n",
      "    -9999, -9999, -9999, -9999, -9999, -9999, -9999, -9999, -9999, -999"
     ]
    },
    {
     "name": "stdout",
     "output_type": "stream",
     "text": [
      "9,\n",
      "  -9999, -9999, -9999, -9999, -9999, -9999, -9999, -9999, -9999, -9999, \n",
      "    -9999, -9999, -9999,"
     ]
    },
    {
     "name": "stdout",
     "output_type": "stream",
     "text": [
      " -9999, -9999, -9999, -9999, -9999, -9999, -9999, \n",
      "    -9999, -9999, -9999, -9999, -9999, -9999, -99"
     ]
    },
    {
     "name": "stdout",
     "output_type": "stream",
     "text": [
      "99, -9999, -9999, -9999, \n",
      "    -9999, -9999, -9999, -9999, -9999, -9999, -9999, -9999, -9999, -9999, "
     ]
    },
    {
     "name": "stdout",
     "output_type": "stream",
     "text": [
      "\n",
      "    -9999, -9999, -9999, -9999, -9999, -9999, -9999, -9999, -9999, -9999, \n",
      "    -9999, -9999, -9999,"
     ]
    },
    {
     "name": "stdout",
     "output_type": "stream",
     "text": [
      " -9999, -9999, -9999, -9999, -9999, -9999, -9999,\n",
      "  -9999, -9999, -9999, -9999, -9999, -9999, -9999,"
     ]
    },
    {
     "name": "stdout",
     "output_type": "stream",
     "text": [
      " -9999, -9999, -9999, \n",
      "    -9999, -9999, -9999, -9999, -9999, -9999, -9999, -9999, -9999, -9999, \n",
      "  "
     ]
    },
    {
     "name": "stdout",
     "output_type": "stream",
     "text": [
      "  -9999, -9999, -9999, -9999, -9999, -9999, -9999, -9999, -9999, -9999, \n",
      "    -9999, -9999, -9999, -9"
     ]
    },
    {
     "name": "stdout",
     "output_type": "stream",
     "text": [
      "999, -9999, -9999, -9999, -9999, -9999, -9999, \n",
      "    -9999, -9999, -9999, -9999, -9999, -9999, -9999,"
     ]
    },
    {
     "name": "stdout",
     "output_type": "stream",
     "text": [
      " -9999, -9999, -9999, \n",
      "    -9999, -9999, -9999, -9999, -9999, -9999, -9999, -9999, -9999, -9999,\n",
      "  -"
     ]
    },
    {
     "name": "stdout",
     "output_type": "stream",
     "text": [
      "9999, -9999, -9999, -9999, -9999, -9999, -9999, -9999, -9999, -9999, \n",
      "    -9999, -9999, -9999, -9999"
     ]
    },
    {
     "name": "stdout",
     "output_type": "stream",
     "text": [
      ", -9999, -9999, -9999, -9999, -9999, -9999, \n",
      "    -9999, -9999, -9999, -9999, -9999, -9999, -9999, -9"
     ]
    },
    {
     "name": "stdout",
     "output_type": "stream",
     "text": [
      "999, -9999, -9999, \n",
      "    -9999, -9999, -9999, -9999, -9999, -9999, -9999, -9999, -9999, -9999, \n",
      "    -"
     ]
    },
    {
     "name": "stdout",
     "output_type": "stream",
     "text": [
      "9999, -9999, -9999, -9999, -9999, -9999, -9999, -9999, -9999, -9999, \n",
      "    -9999, -9999, -9999, -9999"
     ]
    },
    {
     "name": "stdout",
     "output_type": "stream",
     "text": [
      ", -9999, -9999, -9999, -9999, -9999, -9999,\n",
      "  -9999, -9999, -9999, -9999, -9999, -9999, -9999, -9999"
     ]
    },
    {
     "name": "stdout",
     "output_type": "stream",
     "text": [
      ", -9999, -9999, \n",
      "    -9999, -9999, -9999, -9999, -9999, -9999, -9999, -9999, -9999, -9999, \n",
      "    -999"
     ]
    },
    {
     "name": "stdout",
     "output_type": "stream",
     "text": [
      "9, -9999, -9999, -9999, -9999, -9999, -9999, -9999, -9999, -9999, \n",
      "    -9999, -9999, -9999, -9999, -"
     ]
    },
    {
     "name": "stdout",
     "output_type": "stream",
     "text": [
      "9999, -9999, -9999, -9999, -9999, -9999, \n",
      "    -9999, -9999, -9999, -9999, -9999, -9999, -9999, -9999"
     ]
    },
    {
     "name": "stdout",
     "output_type": "stream",
     "text": [
      ", -9999, -9999, \n",
      "    -9999, -9999, -9999, -9999, -9999, -9999, -9999, -9999, -9999, -9999,\n",
      "  -9999, "
     ]
    },
    {
     "name": "stdout",
     "output_type": "stream",
     "text": [
      "-9999, -9999, -9999, -9999, -9999, -9999, -9999, -9999, -9999, \n",
      "    -9999, -9999, -9999, -9999, -999"
     ]
    },
    {
     "name": "stdout",
     "output_type": "stream",
     "text": [
      "9, -9999, -9999, -9999, -9999, -9999, \n",
      "    -9999, -9999, -9999, -9999, -9999, -9999, -9999, -9999, -"
     ]
    },
    {
     "name": "stdout",
     "output_type": "stream",
     "text": [
      "9999, -9999, \n",
      "    -9999, -9999, -9999, -9999, -9999, -9999, -9999, -9999, -9999, -9999, \n",
      "    -9999, "
     ]
    },
    {
     "name": "stdout",
     "output_type": "stream",
     "text": [
      "-9999, -9999, -9999, -9999, -9999, -9999, -9999, -9999, -9999, \n",
      "    -9999, -9999, -9999, -9999, -999"
     ]
    },
    {
     "name": "stdout",
     "output_type": "stream",
     "text": [
      "9, -9999, -9999, -9999, -9999, -9999,\n",
      "  -9999, -9999, -9999, -9999, -9999, -9999, -9999, -9999, -999"
     ]
    },
    {
     "name": "stdout",
     "output_type": "stream",
     "text": [
      "9, -9999, \n",
      "    -9999, -9999, -9999, -9999, -9999, -9999, -9999, -9999, -9999, -9999, \n",
      "    -9999, -99"
     ]
    },
    {
     "name": "stdout",
     "output_type": "stream",
     "text": [
      "99, -9999, -9999, -9999, -9999, -9999, -9999, -9999, -9999, \n",
      "    -9999, -9999, -9999, -9999, -9999, "
     ]
    },
    {
     "name": "stdout",
     "output_type": "stream",
     "text": [
      "-9999, -9999, -9999, -9999, -9999, \n",
      "    -9999, -9999, -9999, -9999, -9999, -9999, -9999, -9999, -999"
     ]
    },
    {
     "name": "stdout",
     "output_type": "stream",
     "text": [
      "9, -9999, \n",
      "    -9999, -9999, -9999, -9999, -9999, -9999, -9999, -9999, -9999, -9999,\n",
      "  -9999, -9999,"
     ]
    },
    {
     "name": "stdout",
     "output_type": "stream",
     "text": [
      " -9999, -9999, -9999, -9999, -9999, -9999, -9999, -9999, \n",
      "    -9999, -9999, -9999, -9999, -9999, -99"
     ]
    },
    {
     "name": "stdout",
     "output_type": "stream",
     "text": [
      "99, -9999, -9999, -9999, -9999, \n",
      "    -9999, -9999, -9999, -9999, -9999, -9999, -9999, -9999, -9999, "
     ]
    },
    {
     "name": "stdout",
     "output_type": "stream",
     "text": [
      "-9999, \n",
      "    -9999, -9999, -9999, -9999, -9999, -9999, -9999, -9999, -9999, -9999, \n",
      "    -9999, -9999,"
     ]
    },
    {
     "name": "stdout",
     "output_type": "stream",
     "text": [
      " -9999, -9999, -9999, -9999, -9999, -9999, -9999, -9999, \n",
      "    -9999, -9999, -9999, -9999, -9999, -99"
     ]
    },
    {
     "name": "stdout",
     "output_type": "stream",
     "text": [
      "99, -9999, -9999, -9999, -9999,\n",
      "  -9999, -9999, -9999, -9999, -9999, -9999, -9999, -9999, -9999, -99"
     ]
    },
    {
     "name": "stdout",
     "output_type": "stream",
     "text": [
      "99, \n",
      "    -9999, -9999, -9999, -9999, -9999, -9999, -9999, -9999, -9999, -9999, \n",
      "    -9999, -9999, -9"
     ]
    },
    {
     "name": "stdout",
     "output_type": "stream",
     "text": [
      "999, -9999, -9999, -9999, -9999, -9999, -9999, -9999, \n",
      "    -9999, -9999, -9999, -9999, -9999, -9999,"
     ]
    },
    {
     "name": "stdout",
     "output_type": "stream",
     "text": [
      " -9999, -9999, -9999, -9999, \n",
      "    -9999, -9999, -9999, -9999, -9999, -9999, -9999, -9999, -9999, -99"
     ]
    },
    {
     "name": "stdout",
     "output_type": "stream",
     "text": [
      "99, \n",
      "    -9999, -9999, -9999, -9999, -9999, -9999, -9999, -9999, -9999, -9999,\n",
      "  -9999, -9999, -9999"
     ]
    },
    {
     "name": "stdout",
     "output_type": "stream",
     "text": [
      ", -9999, -9999, -9999, -9999, -9999, -9999, -9999, \n",
      "    -9999, -9999, -9999, -9999, -9999, -9999, -9"
     ]
    },
    {
     "name": "stdout",
     "output_type": "stream",
     "text": [
      "999, -9999, -9999, -9999, \n",
      "    -9999, -9999, -9999, -9999, -9999, -9999, -9999, -9999, -9999, -9999,"
     ]
    },
    {
     "name": "stdout",
     "output_type": "stream",
     "text": [
      " \n",
      "    -9999, -9999, -9999, -9999, -9999, -9999, -9999, -9999, -9999, -9999, \n",
      "    -9999, -9999, -9999"
     ]
    },
    {
     "name": "stdout",
     "output_type": "stream",
     "text": [
      ", -9999, -9999, -9999, -9999, -9999, -9999, -9999, \n",
      "    -9999, -9999, -9999, -9999, -9999, -9999, -9"
     ]
    },
    {
     "name": "stdout",
     "output_type": "stream",
     "text": [
      "999, -9999, -9999, -9999,\n",
      "  -9999, -9999, -9999, -9999, -9999, -9999, -9999, -9999, -9999, -9999, \n",
      " "
     ]
    },
    {
     "name": "stdout",
     "output_type": "stream",
     "text": [
      "   -9999, -9999, -9999, -9999, -9999, -9999, -9999, -9999, -9999, -9999, \n",
      "    -9999, -9999, -9999, -"
     ]
    },
    {
     "name": "stdout",
     "output_type": "stream",
     "text": [
      "9999, -9999, -9999, -9999, -9999, -9999, -9999, \n",
      "    -9999, -9999, -9999, -9999, -9999, -9999, -9999"
     ]
    },
    {
     "name": "stdout",
     "output_type": "stream",
     "text": [
      ", -9999, -9999, -9999, \n",
      "    -9999, -9999, -9999, -9999, -9999, -9999, -9999, -9999, -9999, -9999, \n",
      " "
     ]
    },
    {
     "name": "stdout",
     "output_type": "stream",
     "text": [
      "   -9999, -9999, -9999, -9999, -9999, -9999, -9999, -9999, -9999, -9999,\n",
      "  -9999, -9999, -9999, -999"
     ]
    },
    {
     "name": "stdout",
     "output_type": "stream",
     "text": [
      "9, -9999, -9999, -9999, -9999, -9999, -9999, \n",
      "    -9999, -9999, -9999, -9999, -9999, -9999, -9999, -"
     ]
    },
    {
     "name": "stdout",
     "output_type": "stream",
     "text": [
      "9999, -9999, -9999, \n",
      "    -9999, -9999, -9999, -9999, -9999, -9999, -9999, -9999, -9999, -9999, \n",
      "    "
     ]
    },
    {
     "name": "stdout",
     "output_type": "stream",
     "text": [
      "-9999, -9999, -9999, -9999, -9999, -9999, -9999, -9999, -9999, -9999, \n",
      "    -9999, -9999, -9999, -999"
     ]
    },
    {
     "name": "stdout",
     "output_type": "stream",
     "text": [
      "9, -9999, -9999, -9999, -9999, -9999, -9999, \n",
      "    -9999, -9999, -9999, -9999, -9999, -9999, -9999, -"
     ]
    },
    {
     "name": "stdout",
     "output_type": "stream",
     "text": [
      "9999, -9999, -9999,\n",
      "  -9999, -9999, -9999, -9999, -9999, -9999, -9999, -9999, -9999, -9999, \n",
      "    -99"
     ]
    },
    {
     "name": "stdout",
     "output_type": "stream",
     "text": [
      "99, -9999, -9999, -9999, -9999, -9999, -9999, -9999, -9999, -9999, \n",
      "    -9999, -9999, -9999, -9999, "
     ]
    },
    {
     "name": "stdout",
     "output_type": "stream",
     "text": [
      "-9999, -9999, -9999, -9999, -9999, -9999, \n",
      "    -9999, -9999, -9999, -9999, -9999, -9999, -9999, -999"
     ]
    },
    {
     "name": "stdout",
     "output_type": "stream",
     "text": [
      "9, -9999, -9999, \n",
      "    -9999, -9999, -9999, -9999, -9999, -9999, -9999, -9999, -9999, -9999, \n",
      "    -99"
     ]
    },
    {
     "name": "stdout",
     "output_type": "stream",
     "text": [
      "99, -9999, -9999, -9999, -9999, -9999, -9999, -9999, -9999, -9999,\n",
      "  -9999, -9999, -9999, -9999, -99"
     ]
    },
    {
     "name": "stdout",
     "output_type": "stream",
     "text": [
      "99, -9999, -9999, -9999, -9999, -9999, \n",
      "    -9999, -9999, -9999, -9999, -9999, -9999, -9999, -9999, "
     ]
    },
    {
     "name": "stdout",
     "output_type": "stream",
     "text": [
      "-9999, -9999, \n",
      "    -9999, -9999, -9999, -9999, -9999, -9999, -9999, -9999, -9999, -9999, \n",
      "    -9999,"
     ]
    },
    {
     "name": "stdout",
     "output_type": "stream",
     "text": [
      " -9999, -9999, -9999, -9999, -9999, -9999, -9999, -9999, -9999, \n",
      "    -9999, -9999, -9999, -9999, -99"
     ]
    },
    {
     "name": "stdout",
     "output_type": "stream",
     "text": [
      "99, -9999, -9999, -9999, -9999, -9999, \n",
      "    -9999, -9999, -9999, -9999, -9999, -9999, -9999, -9999, "
     ]
    },
    {
     "name": "stdout",
     "output_type": "stream",
     "text": [
      "-9999, -9999,\n",
      "  -9999, -9999, -9999, -9999, -9999, -9999, -9999, -9999, -9999, -9999, \n",
      "    -9999, -9"
     ]
    },
    {
     "name": "stdout",
     "output_type": "stream",
     "text": [
      "999, -9999, -9999, -9999, -9999, -9999, -9999, -9999, -9999, \n",
      "    -9999, -9999, -9999, -9999, -9999,"
     ]
    },
    {
     "name": "stdout",
     "output_type": "stream",
     "text": [
      " -9999, -9999, -9999, -9999, -9999, \n",
      "    -9999, -9999, -9999, -9999, -9999, -9999, -9999, -9999, -99"
     ]
    },
    {
     "name": "stdout",
     "output_type": "stream",
     "text": [
      "99, -9999, \n",
      "    -9999, -9999, -9999, -9999, -9999, -9999, -9999, -9999, -9999, -9999, \n",
      "    -9999, -9"
     ]
    },
    {
     "name": "stdout",
     "output_type": "stream",
     "text": [
      "999, -9999, -9999, -9999, -9999, -9999, -9999, -9999, -9999,\n",
      "  -9999, -9999, -9999, -9999, -9999, -9"
     ]
    },
    {
     "name": "stdout",
     "output_type": "stream",
     "text": [
      "999, -9999, -9999, -9999, -9999, \n",
      "    -9999, -9999, -9999, -9999, -9999, -9999, -9999, -9999, -9999,"
     ]
    },
    {
     "name": "stdout",
     "output_type": "stream",
     "text": [
      " -9999, \n",
      "    -9999, -9999, -9999, -9999, -9999, -9999, -9999, -9999, -9999, -9999, \n",
      "    -9999, -9999"
     ]
    },
    {
     "name": "stdout",
     "output_type": "stream",
     "text": [
      ", -9999, -9999, -9999, -9999, -9999, -9999, -9999, -9999, \n",
      "    -9999, -9999, -9999, -9999, -9999, -9"
     ]
    },
    {
     "name": "stdout",
     "output_type": "stream",
     "text": [
      "999, -9999, -9999, -9999, -9999, \n",
      "    -9999, -9999, -9999, -9999, -9999, -9999, -9999, -9999, -9999,"
     ]
    },
    {
     "name": "stdout",
     "output_type": "stream",
     "text": [
      " -9999,\n",
      "  -9999, -9999, -9999, -9999, -9999, -9999, -9999, -9999, -9999, -9999, \n",
      "    -9999, -9999, -"
     ]
    },
    {
     "name": "stdout",
     "output_type": "stream",
     "text": [
      "9999, -9999, -9999, -9999, -9999, -9999, -9999, -9999, \n",
      "    -9999, -9999, -9999, -9999, -9999, -9999"
     ]
    },
    {
     "name": "stdout",
     "output_type": "stream",
     "text": [
      ", -9999, -9999, -9999, -9999, \n",
      "    -9999, -9999, -9999, -9999, -9999, -9999, -9999, -9999, -9999, -9"
     ]
    },
    {
     "name": "stdout",
     "output_type": "stream",
     "text": [
      "999, \n",
      "    -9999, -9999, -9999, -9999, -9999, -9999, -9999, -9999, -9999, -9999, \n",
      "    -9999, -9999, -"
     ]
    },
    {
     "name": "stdout",
     "output_type": "stream",
     "text": [
      "9999, -9999, -9999, -9999, -9999, -9999, -9999, -9999,\n",
      "  -9999, -9999, -9999, -9999, -9999, -9999, -"
     ]
    },
    {
     "name": "stdout",
     "output_type": "stream",
     "text": [
      "9999, -9999, -9999, -9999, \n",
      "    -9999, -9999, -9999, -9999, -9999, -9999, -9999, -9999, -9999, -9999"
     ]
    },
    {
     "name": "stdout",
     "output_type": "stream",
     "text": [
      ", \n",
      "    -9999, -9999, -9999, -9999, -9999, -9999, -9999, -9999, -9999, -9999, \n",
      "    -9999, -9999, -999"
     ]
    },
    {
     "name": "stdout",
     "output_type": "stream",
     "text": [
      "9, -9999, -9999, -9999, -9999, -9999, -9999, -9999, \n",
      "    -9999, -9999, -9999, -9999, -9999, -9999, -"
     ]
    },
    {
     "name": "stdout",
     "output_type": "stream",
     "text": [
      "9999, -9999, -9999, -9999, \n",
      "    -9999, -9999, -9999, -9999, -9999, -9999, -9999, -9999, -9999, -9999"
     ]
    },
    {
     "name": "stdout",
     "output_type": "stream",
     "text": [
      ",\n",
      "  -9999, -9999, -9999, -9999, -9999, -9999, -9999, -9999, -9999, -9999, \n",
      "    -9999, -9999, -9999, "
     ]
    },
    {
     "name": "stdout",
     "output_type": "stream",
     "text": [
      "-9999, -9999, -9999, -9999, -9999, -9999, -9999, \n",
      "    -9999, -9999, -9999, -9999, -9999, -9999, -999"
     ]
    },
    {
     "name": "stdout",
     "output_type": "stream",
     "text": [
      "9, -9999, -9999, -9999, \n",
      "    -9999, -9999, -9999, -9999, -9999, -9999, -9999, -9999, -9999, -9999, \n"
     ]
    },
    {
     "name": "stdout",
     "output_type": "stream",
     "text": [
      "    -9999, -9999, -9999, -9999, -9999, -9999, -9999, -9999, -9999, -9999, \n",
      "    -9999, -9999, -9999, "
     ]
    },
    {
     "name": "stdout",
     "output_type": "stream",
     "text": [
      "-9999, -9999, -9999, -9999, -9999, -9999, -9999,\n",
      "  -9999, -9999, -9999, -9999, -9999, -9999, -9999, "
     ]
    },
    {
     "name": "stdout",
     "output_type": "stream",
     "text": [
      "-9999, -9999, -9999, \n",
      "    -9999, -9999, -9999, -9999, -9999, -9999, -9999, -9999, -9999, -9999, \n",
      "   "
     ]
    },
    {
     "name": "stdout",
     "output_type": "stream",
     "text": [
      " -9999, -9999, -9999, -9999, -9999, -9999, -9999, -9999, -9999, -9999, \n",
      "    -9999, -9999, -9999, -99"
     ]
    },
    {
     "name": "stdout",
     "output_type": "stream",
     "text": [
      "99, -9999, -9999, -9999, -9999, -9999, -9999, \n",
      "    -9999, -9999, -9999, -9999, -9999, -9999, -9999, "
     ]
    },
    {
     "name": "stdout",
     "output_type": "stream",
     "text": [
      "-9999, -9999, -9999, \n",
      "    -9999, -9999, -9999, -9999, -9999, -9999, -9999, -9999, -9999, -9999,\n",
      "  -9"
     ]
    },
    {
     "name": "stdout",
     "output_type": "stream",
     "text": [
      "999, -9999, -9999, -9999, -9999, -9999, -9999, -9999, -9999, -9999, \n",
      "    -9999, -9999, -9999, -9999,"
     ]
    },
    {
     "name": "stdout",
     "output_type": "stream",
     "text": [
      " -9999, -9999, -9999, -9999, -9999, -9999, \n",
      "    -9999, -9999, -9999, -9999, -9999, -9999, -9999, -99"
     ]
    },
    {
     "name": "stdout",
     "output_type": "stream",
     "text": [
      "99, -9999, -9999, \n",
      "    -9999, -9999, -9999, -9999, -9999, -9999, -9999, -9999, -9999, -9999, \n",
      "    -9"
     ]
    },
    {
     "name": "stdout",
     "output_type": "stream",
     "text": [
      "999, -9999, -9999, -9999, -9999, -9999, -9999, -9999, -9999, -9999, \n",
      "    -9999, -9999, -9999, -9999,"
     ]
    },
    {
     "name": "stdout",
     "output_type": "stream",
     "text": [
      " -9999, -9999, -9999, -9999, -9999, -9999,\n",
      "  -9999, -9999, -9999, -9999, -9999, -9999, -9999, -9999,"
     ]
    },
    {
     "name": "stdout",
     "output_type": "stream",
     "text": [
      " -9999, -9999, \n",
      "    -9999, -9999, -9999, -9999, -9999, -9999, -9999, -9999, -9999, -9999, \n",
      "    -9999"
     ]
    },
    {
     "name": "stdout",
     "output_type": "stream",
     "text": [
      ", -9999, -9999, -9999, -9999, -9999, -9999, -9999, -9999, -9999, \n",
      "    -9999, -9999, -9999, -9999, -9"
     ]
    },
    {
     "name": "stdout",
     "output_type": "stream",
     "text": [
      "999, -9999, -9999, -9999, -9999, -9999, \n",
      "    -9999, -9999, -9999, -9999, -9999, -9999, -9999, -9999,"
     ]
    },
    {
     "name": "stdout",
     "output_type": "stream",
     "text": [
      " -9999, -9999, \n",
      "    -9999, -9999, -9999, -9999, -9999, -9999, -9999, -9999, -9999, -9999,\n",
      "  -9999, -"
     ]
    },
    {
     "name": "stdout",
     "output_type": "stream",
     "text": [
      "9999, -9999, -9999, -9999, -9999, -9999, -9999, -9999, -9999, \n",
      "    -9999, -9999, -9999, -9999, -9999"
     ]
    },
    {
     "name": "stdout",
     "output_type": "stream",
     "text": [
      ", -9999, -9999, -9999, -9999, -9999, \n",
      "    -9999, -9999, -9999, -9999, -9999, -9999, -9999, -9999, -9"
     ]
    },
    {
     "name": "stdout",
     "output_type": "stream",
     "text": [
      "999, -9999, \n",
      "    -9999, -9999, -9999, -9999, -9999, -9999, -9999, -9999, -9999, -9999, \n",
      "    -9999, -"
     ]
    },
    {
     "name": "stdout",
     "output_type": "stream",
     "text": [
      "9999, -9999, -9999, -9999, -9999, -9999, -9999, -9999, -9999, \n",
      "    -9999, -9999, -9999, -9999, -9999"
     ]
    },
    {
     "name": "stdout",
     "output_type": "stream",
     "text": [
      ", -9999, -9999, -9999, -9999, -9999,\n",
      "  -9999, -9999, -9999, -9999, -9999, -9999, -9999, -9999, -9999"
     ]
    },
    {
     "name": "stdout",
     "output_type": "stream",
     "text": [
      ", -9999, \n",
      "    -9999, -9999, -9999, -9999, -9999, -9999, -9999, -9999, -9999, -9999, \n",
      "    -9999, -999"
     ]
    },
    {
     "name": "stdout",
     "output_type": "stream",
     "text": [
      "9, -9999, -9999, -9999, -9999, -9999, -9999, -9999, -9999, \n",
      "    -9999, -9999, -9999, -9999, -9999, -"
     ]
    },
    {
     "name": "stdout",
     "output_type": "stream",
     "text": [
      "9999, -9999, -9999, -9999, -9999, \n",
      "    -9999, -9999, -9999, -9999, -9999, -9999, -9999, -9999, -9999"
     ]
    },
    {
     "name": "stdout",
     "output_type": "stream",
     "text": [
      ", -9999, \n",
      "    -9999, -9999, -9999, -9999, -9999, -9999, -9999, -9999, -9999, -9999,\n",
      "  -9999, -9999, "
     ]
    },
    {
     "name": "stdout",
     "output_type": "stream",
     "text": [
      "-9999, -9999, -9999, -9999, -9999, -9999, -9999, -9999, \n",
      "    -9999, -9999, -9999, -9999, -9999, -999"
     ]
    },
    {
     "name": "stdout",
     "output_type": "stream",
     "text": [
      "9, -9999, -9999, -9999, -9999, \n",
      "    -9999, -9999, -9999, -9999, -9999, -9999, -9999, -9999, -9999, -"
     ]
    },
    {
     "name": "stdout",
     "output_type": "stream",
     "text": [
      "9999, \n",
      "    -9999, -9999, -9999, -9999, -9999, -9999, -9999, -9999, -9999, -9999, \n",
      "    -9999, -9999, "
     ]
    },
    {
     "name": "stdout",
     "output_type": "stream",
     "text": [
      "-9999, -9999, -9999, -9999, -9999, -9999, -9999, -9999, \n",
      "    -9999, -9999, -9999, -9999, -9999, -999"
     ]
    },
    {
     "name": "stdout",
     "output_type": "stream",
     "text": [
      "9, -9999, -9999, -9999, -9999,\n",
      "  -9999, -9999, -9999, -9999, -9999, -9999, -9999, -9999, -9999, -999"
     ]
    },
    {
     "name": "stdout",
     "output_type": "stream",
     "text": [
      "9, \n",
      "    -9999, -9999, -9999, -9999, -9999, -9999, -9999, -9999, -9999, -9999, \n",
      "    -9999, -9999, -99"
     ]
    },
    {
     "name": "stdout",
     "output_type": "stream",
     "text": [
      "99, -9999, -9999, -9999, -9999, -9999, -9999, -9999, \n",
      "    -9999, -9999, -9999, -9999, -9999, -9999, "
     ]
    },
    {
     "name": "stdout",
     "output_type": "stream",
     "text": [
      "-9999, -9999, -9999, -9999, \n",
      "    -9999, -9999, -9999, -9999, -9999, -9999, -9999, -9999, -9999, -999"
     ]
    },
    {
     "name": "stdout",
     "output_type": "stream",
     "text": [
      "9, \n",
      "    -9999, -9999, -9999, -9999, -9999, -9999, -9999, -9999, -9999, -9999,\n",
      "  -9999, -9999, -9999,"
     ]
    },
    {
     "name": "stdout",
     "output_type": "stream",
     "text": [
      " -9999, -9999, -9999, -9999, -9999, -9999, -9999, \n",
      "    -9999, -9999, -9999, -9999, -9999, -9999, -99"
     ]
    },
    {
     "name": "stdout",
     "output_type": "stream",
     "text": [
      "99, -9999, -9999, -9999, \n",
      "    -9999, -9999, -9999, -9999, -9999, -9999, -9999, -9999, -9999, -9999, "
     ]
    },
    {
     "name": "stdout",
     "output_type": "stream",
     "text": [
      "\n",
      "    -9999, -9999, -9999, -9999, -9999, -9999, -9999, -9999, -9999, -9999, \n",
      "    -9999, -9999, -9999,"
     ]
    },
    {
     "name": "stdout",
     "output_type": "stream",
     "text": [
      " -9999, -9999, -9999, -9999, -9999, -9999, -9999, \n",
      "    -9999, -9999, -9999, -9999, -9999, -9999, -99"
     ]
    },
    {
     "name": "stdout",
     "output_type": "stream",
     "text": [
      "99, -9999, -9999, -9999,\n",
      "  -9999, -9999, -9999, -9999, -9999, -9999, -9999, -9999, -9999, -9999, \n",
      "  "
     ]
    },
    {
     "name": "stdout",
     "output_type": "stream",
     "text": [
      "  -9999, -9999, -9999, -9999, -9999, -9999, -9999, -9999, -9999, -9999, \n",
      "    -9999, -9999, -9999, -9"
     ]
    },
    {
     "name": "stdout",
     "output_type": "stream",
     "text": [
      "999, -9999, -9999, -9999, -9999, -9999, -9999, \n",
      "    -9999, -9999, -9999, -9999, -9999, -9999, -9999,"
     ]
    },
    {
     "name": "stdout",
     "output_type": "stream",
     "text": [
      " -9999, -9999, -9999, \n",
      "    -9999, -9999, -9999, -9999, -9999, -9999, -9999, -9999, -9999, -9999, \n",
      "  "
     ]
    },
    {
     "name": "stdout",
     "output_type": "stream",
     "text": [
      "  -9999, -9999, -9999, -9999, -9999, -9999, -9999, -9999, -9999, -9999,\n",
      "  -9999, -9999, -9999, -9999"
     ]
    },
    {
     "name": "stdout",
     "output_type": "stream",
     "text": [
      ", -9999, -9999, -9999, -9999, -9999, -9999, \n",
      "    -9999, -9999, -9999, -9999, -9999, -9999, -9999, -9"
     ]
    },
    {
     "name": "stdout",
     "output_type": "stream",
     "text": [
      "999, -9999, -9999, \n",
      "    -9999, -9999, -9999, -9999, -9999, -9999, -9999, -9999, -9999, -9999, \n",
      "    -"
     ]
    },
    {
     "name": "stdout",
     "output_type": "stream",
     "text": [
      "9999, -9999, -9999, -9999, -9999, -9999, -9999, -9999, -9999, -9999, \n",
      "    -9999, -9999, -9999, -9999"
     ]
    },
    {
     "name": "stdout",
     "output_type": "stream",
     "text": [
      ", -9999, -9999, -9999, -9999, -9999, -9999, \n",
      "    -9999, -9999, -9999, -9999, -9999, -9999, -9999, -9"
     ]
    },
    {
     "name": "stdout",
     "output_type": "stream",
     "text": [
      "999, -9999, -9999,\n",
      "  -9999, -9999, -9999, -9999, -9999, -9999, -9999, -9999, -9999, -9999, \n",
      "    -999"
     ]
    },
    {
     "name": "stdout",
     "output_type": "stream",
     "text": [
      "9, -9999, -9999, -9999, -9999, -9999, -9999, -9999, -9999, -9999, \n",
      "    -9999, -9999, -9999, -9999, -"
     ]
    },
    {
     "name": "stdout",
     "output_type": "stream",
     "text": [
      "9999, -9999, -9999, -9999, -9999, -9999, \n",
      "    -9999, -9999, -9999, -9999, -9999, -9999, -9999, -9999"
     ]
    },
    {
     "name": "stdout",
     "output_type": "stream",
     "text": [
      ", -9999, -9999, \n",
      "    -9999, -9999, -9999, -9999, -9999, -9999, -9999, -9999, -9999, -9999, \n",
      "    -999"
     ]
    },
    {
     "name": "stdout",
     "output_type": "stream",
     "text": [
      "9, -9999, -9999, -9999, -9999, -9999, -9999, -9999, -9999, -9999,\n",
      "  -9999, -9999, -9999, -9999, -999"
     ]
    },
    {
     "name": "stdout",
     "output_type": "stream",
     "text": [
      "9, -9999, -9999, -9999, -9999, -9999, \n",
      "    -9999, -9999, -9999, -9999, -9999, -9999, -9999, -9999, -"
     ]
    },
    {
     "name": "stdout",
     "output_type": "stream",
     "text": [
      "9999, -9999, \n",
      "    -9999, -9999, -9999, -9999, -9999, -9999, -9999, -9999, -9999, -9999, \n",
      "    -9999, "
     ]
    },
    {
     "name": "stdout",
     "output_type": "stream",
     "text": [
      "-9999, -9999, -9999, -9999, -9999, -9999, -9999, -9999, -9999, \n",
      "    -9999, -9999, -9999, -9999, -999"
     ]
    },
    {
     "name": "stdout",
     "output_type": "stream",
     "text": [
      "9, -9999, -9999, -9999, -9999, -9999, \n",
      "    -9999, -9999, -9999, -9999, -9999, -9999, -9999, -9999, -"
     ]
    },
    {
     "name": "stdout",
     "output_type": "stream",
     "text": [
      "9999, -9999,\n",
      "  -9999, -9999, -9999, -9999, -9999, -9999, -9999, -9999, -9999, -9999, \n",
      "    -9999, -99"
     ]
    },
    {
     "name": "stdout",
     "output_type": "stream",
     "text": [
      "99, -9999, -9999, -9999, -9999, -9999, -9999, -9999, -9999, \n",
      "    -9999, -9999, -9999, -9999, -9999, "
     ]
    },
    {
     "name": "stdout",
     "output_type": "stream",
     "text": [
      "-9999, -9999, -9999, -9999, -9999, \n",
      "    -9999, -9999, -9999, -9999, -9999, -9999, -9999, -9999, -999"
     ]
    },
    {
     "name": "stdout",
     "output_type": "stream",
     "text": [
      "9, -9999, \n",
      "    -9999, -9999, -9999, -9999, -9999, -9999, -9999, -9999, -9999, -9999, \n",
      "    -9999, -99"
     ]
    },
    {
     "name": "stdout",
     "output_type": "stream",
     "text": [
      "99, -9999, -9999, -9999, -9999, -9999, -9999, -9999, -9999,\n",
      "  -9999, -9999, -9999, -9999, -9999, -99"
     ]
    },
    {
     "name": "stdout",
     "output_type": "stream",
     "text": [
      "99, -9999, -9999, -9999, -9999, \n",
      "    -9999, -9999, -9999, -9999, -9999, -9999, -9999, -9999, -9999, "
     ]
    },
    {
     "name": "stdout",
     "output_type": "stream",
     "text": [
      "-9999, \n",
      "    -9999, -9999, -9999, -9999, -9999, -9999, -9999, -9999, -9999, -9999, \n",
      "    -9999, -9999,"
     ]
    },
    {
     "name": "stdout",
     "output_type": "stream",
     "text": [
      " -9999, -9999, -9999, -9999, -9999, -9999, -9999, -9999, \n",
      "    -9999, -9999, -9999, -9999, -9999, -99"
     ]
    },
    {
     "name": "stdout",
     "output_type": "stream",
     "text": [
      "99, -9999, -9999, -9999, -9999, \n",
      "    -9999, -9999, -9999, -9999, -9999, -9999, -9999, -9999, -9999, "
     ]
    },
    {
     "name": "stdout",
     "output_type": "stream",
     "text": [
      "-9999,\n",
      "  -9999, -9999, -9999, -9999, -9999, -9999, -9999, -9999, -9999, -9999, \n",
      "    -9999, -9999, -9"
     ]
    },
    {
     "name": "stdout",
     "output_type": "stream",
     "text": [
      "999, -9999, -9999, -9999, -9999, -9999, -9999, -9999, \n",
      "    -9999, -9999, -9999, -9999, -9999, -9999,"
     ]
    },
    {
     "name": "stdout",
     "output_type": "stream",
     "text": [
      " -9999, -9999, -9999, -9999, \n",
      "    -9999, -9999, -9999, -9999, -9999, -9999, -9999, -9999, -9999, -99"
     ]
    },
    {
     "name": "stdout",
     "output_type": "stream",
     "text": [
      "99, \n",
      "    -9999, -9999, -9999, -9999, -9999, -9999, -9999, -9999, -9999, -9999, \n",
      "    -9999, -9999, -9"
     ]
    },
    {
     "name": "stdout",
     "output_type": "stream",
     "text": [
      "999, -9999, -9999, -9999, -9999, -9999, -9999, -9999,\n",
      "  -9999, -9999, -9999, -9999, -9999, -9999, -9"
     ]
    },
    {
     "name": "stdout",
     "output_type": "stream",
     "text": [
      "999, -9999, -9999, -9999, \n",
      "    -9999, -9999, -9999, -9999, -9999, -9999, -9999, -9999, -9999, -9999,"
     ]
    },
    {
     "name": "stdout",
     "output_type": "stream",
     "text": [
      " \n",
      "    -9999, -9999, -9999, -9999, -9999, -9999, -9999, -9999, -9999, -9999, \n",
      "    -9999, -9999, -9999"
     ]
    },
    {
     "name": "stdout",
     "output_type": "stream",
     "text": [
      ", -9999, -9999, -9999, -9999, -9999, -9999, -9999, \n",
      "    -9999, -9999, -9999, -9999, -9999, -9999, -9"
     ]
    },
    {
     "name": "stdout",
     "output_type": "stream",
     "text": [
      "999, -9999, -9999, -9999, \n",
      "    -9999, -9999, -9999, -9999, -9999, -9999, -9999, -9999, -9999, -9999,"
     ]
    },
    {
     "name": "stdout",
     "output_type": "stream",
     "text": [
      "\n",
      "  -9999, -9999, -9999, -9999, -9999, -9999, -9999, -9999, -9999, -9999, \n",
      "    -9999, -9999, -9999, -"
     ]
    },
    {
     "name": "stdout",
     "output_type": "stream",
     "text": [
      "9999, -9999, -9999, -9999, -9999, -9999, -9999, \n",
      "    -9999, -9999, -9999, -9999, -9999, -9999, -9999"
     ]
    },
    {
     "name": "stdout",
     "output_type": "stream",
     "text": [
      ", -9999, -9999, -9999, \n",
      "    -9999, -9999, -9999, -9999, -9999, -9999, -9999, -9999, -9999, -9999, \n",
      " "
     ]
    },
    {
     "name": "stdout",
     "output_type": "stream",
     "text": [
      "   -9999, -9999, -9999, -9999, -9999, -9999, -9999, -9999, -9999, -9999, \n",
      "    -9999, -9999, -9999, -"
     ]
    },
    {
     "name": "stdout",
     "output_type": "stream",
     "text": [
      "9999, -9999, -9999, -9999, -9999, -9999, -9999,\n",
      "  -9999, -9999, -9999, -9999, -9999, -9999, -9999, -"
     ]
    },
    {
     "name": "stdout",
     "output_type": "stream",
     "text": [
      "9999, -9999, -9999, \n",
      "    -9999, -9999, -9999, -9999, -9999, -9999, -9999, -9999, -9999, -9999, \n",
      "    "
     ]
    },
    {
     "name": "stdout",
     "output_type": "stream",
     "text": [
      "-9999, -9999, -9999, -9999, -9999, -9999, -9999, -9999, -9999, -9999, \n",
      "    -9999, -9999, -9999, -999"
     ]
    },
    {
     "name": "stdout",
     "output_type": "stream",
     "text": [
      "9, -9999, -9999, -9999, -9999, -9999, -9999, \n",
      "    -9999, -9999, -9999, -9999, -9999, -9999, -9999, -"
     ]
    },
    {
     "name": "stdout",
     "output_type": "stream",
     "text": [
      "9999, -9999, -9999, \n",
      "    -9999, -9999, -9999, -9999, -9999, -9999, -9999, -9999, -9999, -9999,\n",
      "  -99"
     ]
    },
    {
     "name": "stdout",
     "output_type": "stream",
     "text": [
      "99, -9999, -9999, -9999, -9999, -9999, -9999, -9999, -9999, -9999, \n",
      "    -9999, -9999, -9999, -9999, "
     ]
    },
    {
     "name": "stdout",
     "output_type": "stream",
     "text": [
      "-9999, -9999, -9999, -9999, -9999, -9999, \n",
      "    -9999, -9999, -9999, -9999, -9999, -9999, -9999, -999"
     ]
    },
    {
     "name": "stdout",
     "output_type": "stream",
     "text": [
      "9, -9999, -9999, \n",
      "    -9999, -9999, -9999, -9999, -9999, -9999, -9999, -9999, -9999, -9999, \n",
      "    -99"
     ]
    },
    {
     "name": "stdout",
     "output_type": "stream",
     "text": [
      "99, -9999, -9999, -9999, -9999, -9999, -9999, -9999, -9999, -9999, \n",
      "    -9999, -9999, -9999, -9999, "
     ]
    },
    {
     "name": "stdout",
     "output_type": "stream",
     "text": [
      "-9999, -9999, -9999, -9999, -9999, -9999,\n",
      "  -9999, -9999, -9999, -9999, -9999, -9999, -9999, -9999, "
     ]
    },
    {
     "name": "stdout",
     "output_type": "stream",
     "text": [
      "-9999, -9999, \n",
      "    -9999, -9999, -9999, -9999, -9999, -9999, -9999, -9999, -9999, -9999, \n",
      "    -9999,"
     ]
    },
    {
     "name": "stdout",
     "output_type": "stream",
     "text": [
      " -9999, -9999, -9999, -9999, -9999, -9999, -9999, -9999, -9999, \n",
      "    -9999, -9999, -9999, -9999, -99"
     ]
    },
    {
     "name": "stdout",
     "output_type": "stream",
     "text": [
      "99, -9999, -9999, -9999, -9999, -9999, \n",
      "    -9999, -9999, -9999, -9999, -9999, -9999, -9999, -9999, "
     ]
    },
    {
     "name": "stdout",
     "output_type": "stream",
     "text": [
      "-9999, -9999, \n",
      "    -9999, -9999, -9999, -9999, -9999, -9999, -9999, -9999, -9999, -9999,\n",
      "  -9999, -9"
     ]
    },
    {
     "name": "stdout",
     "output_type": "stream",
     "text": [
      "999, -9999, -9999, -9999, -9999, -9999, -9999, -9999, -9999, \n",
      "    -9999, -9999, -9999, -9999, -9999,"
     ]
    },
    {
     "name": "stdout",
     "output_type": "stream",
     "text": [
      " -9999, -9999, -9999, -9999, -9999, \n",
      "    -9999, -9999, -9999, -9999, -9999, -9999, -9999, -9999, -99"
     ]
    },
    {
     "name": "stdout",
     "output_type": "stream",
     "text": [
      "99, -9999, \n",
      "    -9999, -9999, -9999, -9999, -9999, -9999, -9999, -9999, -9999, -9999, \n",
      "    -9999, -9"
     ]
    },
    {
     "name": "stdout",
     "output_type": "stream",
     "text": [
      "999, -9999, -9999, -9999, -9999, -9999, -9999, -9999, -9999, \n",
      "    -9999, -9999, -9999, -9999, -9999,"
     ]
    },
    {
     "name": "stdout",
     "output_type": "stream",
     "text": [
      " -9999, -9999, -9999, -9999, -9999,\n",
      "  -9999, -9999, -9999, -9999, -9999, -9999, -9999, -9999, -9999,"
     ]
    },
    {
     "name": "stdout",
     "output_type": "stream",
     "text": [
      " -9999, \n",
      "    -9999, -9999, -9999, -9999, -9999, -9999, -9999, -9999, -9999, -9999, \n",
      "    -9999, -9999"
     ]
    },
    {
     "name": "stdout",
     "output_type": "stream",
     "text": [
      ", -9999, -9999, -9999, -9999, -9999, -9999, -9999, -9999, \n",
      "    -9999, -9999, -9999, -9999, -9999, -9"
     ]
    },
    {
     "name": "stdout",
     "output_type": "stream",
     "text": [
      "999, -9999, -9999, -9999, -9999, \n",
      "    -9999, -9999, -9999, -9999, -9999, -9999, -9999, -9999, -9999,"
     ]
    },
    {
     "name": "stdout",
     "output_type": "stream",
     "text": [
      " -9999, \n",
      "    -9999, -9999, -9999, -9999, -9999, -9999, -9999, -9999, -9999, -9999,\n",
      "  -9999, -9999, -"
     ]
    },
    {
     "name": "stdout",
     "output_type": "stream",
     "text": [
      "9999, -9999, -9999, -9999, -9999, -9999, -9999, -9999, \n",
      "    -9999, -9999, -9999, -9999, -9999, -9999"
     ]
    },
    {
     "name": "stdout",
     "output_type": "stream",
     "text": [
      ", -9999, -9999, -9999, -9999, \n",
      "    -9999, -9999, -9999, -9999, -9999, -9999, -9999, -9999, -9999, -9"
     ]
    },
    {
     "name": "stdout",
     "output_type": "stream",
     "text": [
      "999, \n",
      "    -9999, -9999, -9999, -9999, -9999, -9999, -9999, -9999, -9999, -9999, \n",
      "    -9999, -9999, -"
     ]
    },
    {
     "name": "stdout",
     "output_type": "stream",
     "text": [
      "9999, -9999, -9999, -9999, -9999, -9999, -9999, -9999, \n",
      "    -9999, -9999, -9999, -9999, -9999, -9999"
     ]
    },
    {
     "name": "stdout",
     "output_type": "stream",
     "text": [
      ", -9999, -9999, -9999, -9999,\n",
      "  -9999, -9999, -9999, -9999, -9999, -9999, -9999, -9999, -9999, -9999"
     ]
    },
    {
     "name": "stdout",
     "output_type": "stream",
     "text": [
      ", \n",
      "    -9999, -9999, -9999, -9999, -9999, -9999, -9999, -9999, -9999, -9999, \n",
      "    -9999, -9999, -999"
     ]
    },
    {
     "name": "stdout",
     "output_type": "stream",
     "text": [
      "9, -9999, -9999, -9999, -9999, -9999, -9999, -9999, \n",
      "    -9999, -9999, -9999, -9999, -9999, -9999, -"
     ]
    },
    {
     "name": "stdout",
     "output_type": "stream",
     "text": [
      "9999, -9999, -9999, -9999, \n",
      "    -9999, -9999, -9999, -9999, -9999, -9999, -9999, -9999, -9999, -9999"
     ]
    },
    {
     "name": "stdout",
     "output_type": "stream",
     "text": [
      ", \n",
      "    -9999, -9999, -9999, -9999, -9999, -9999, -9999, -9999, -9999, -9999 ;\n",
      "}\n"
     ]
    }
   ],
   "source": [
    "%%bash\n",
    "\n",
    "ncdump -v LAKEGRID ~/wrf-hydro-training/output/lesson6/run_lakes_off/DOMAIN/Fulldom_hires.nc | tail -300"
   ]
  },
  {
   "cell_type": "markdown",
   "metadata": {},
   "source": [
    "**Step 2: Check that lakes are off in the `hydro.namelist` file. There are two modifications:**\n",
    "\n",
    "There are two options in the [hydro.namelist](../example_case/Gridded_no_lakes/hydro.namelist) to turn lakes off.\n",
    "\n",
    "First is commenting out the `route_lake_f` option by starting the line with `!`\n",
    "\n",
    "```\n",
    "! Specify the lake parameter file (e.g.: \"LAKEPARM.nc\" for netcdf or \"LAKEPARM.TBL\" for text).\n",
    "! Note REQUIRED if lakes are on.\n",
    "!route_lake_f = \"./DOMAIN/LAKEPARM.nc\"\n",
    "```\n",
    "\n",
    "Second is turning off the lakeout output files.\n",
    "\n",
    "```\n",
    "outlake  = 0                 ! Netcdf grid of lake values (1d)\n",
    "                             !      0 = no output, 1 = output\n",
    "```"
   ]
  },
  {
   "cell_type": "code",
   "execution_count": 22,
   "metadata": {},
   "outputs": [
    {
     "name": "stdout",
     "output_type": "stream",
     "text": [
      "!route_lake_f = \"./DOMAIN/LAKEPARM.nc\"\n",
      "outlake  = 0                 ! Netcdf grid of lake values (1d)\n"
     ]
    },
    {
     "name": "stdout",
     "output_type": "stream",
     "text": [
      "outlake  = 0                 ! Netcdf grid of lake values (1d)\n"
     ]
    }
   ],
   "source": [
    "%%bash\n",
    "cd ~/wrf-hydro-training/output/lesson6/run_lakes_off\n",
    "grep \"route_lake_f\" hydro.namelist\n",
    "grep \"outlake\" hydro.namelist"
   ]
  },
  {
   "cell_type": "markdown",
   "metadata": {},
   "source": [
    "**Step 3: Run the simulation**"
   ]
  },
  {
   "cell_type": "code",
   "execution_count": 23,
   "metadata": {},
   "outputs": [],
   "source": [
    "%%bash\n",
    "\n",
    "cd ~/wrf-hydro-training/output/lesson6/run_lakes_off\n",
    "mpirun -np 2 ./wrf_hydro &> run.log"
   ]
  },
  {
   "cell_type": "markdown",
   "metadata": {},
   "source": [
    "**Step 3: Check that the simulation finished successfully**"
   ]
  },
  {
   "cell_type": "code",
   "execution_count": 24,
   "metadata": {},
   "outputs": [
    {
     "name": "stdout",
     "output_type": "stream",
     "text": [
      " The model finished successfully.......\n"
     ]
    }
   ],
   "source": [
    "%%bash\n",
    "\n",
    "tail -1 ~/wrf-hydro-training/output/lesson6/run_lakes_off/diag_hydro.00000"
   ]
  },
  {
   "cell_type": "markdown",
   "metadata": {},
   "source": [
    "### Results\n",
    "We will now look at the differences in streamflow between our baseline run with lakes on and our experiment with lakes off.\n",
    "\n",
    "We will use Python and the `xarray` library to load the data and plot hydrographs. For an intro to these tools, please see [Lesson 3](Lesson-3-visualize.ipynb)."
   ]
  },
  {
   "cell_type": "markdown",
   "metadata": {},
   "source": [
    "**Load the CHANOBS streamflow datasets**\n",
    "\n",
    "We are going to use the CHANOBS files because it will limit the number of grid cells to only those which we have specified have a gage."
   ]
  },
  {
   "cell_type": "code",
   "execution_count": 25,
   "metadata": {},
   "outputs": [],
   "source": [
    "chanobs_baseline = xr.open_mfdataset('/home/docker/wrf-hydro-training/output/lesson6/run_gridded_baseline/*CHANOBS*',\n",
    "                            combine='by_coords')\n",
    "chanobs_lakes_off = xr.open_mfdataset('/home/docker/wrf-hydro-training/output/lesson6/run_lakes_off/*CHANOBS*',\n",
    "                            combine='by_coords')\n",
    "obs = pd.read_csv('/home/docker/wrf-hydro-training/example_case/USGS_obs.csv',dtype=str)\n",
    "obs['dateTime'] = pd.to_datetime(obs['dateTime'])\n",
    "obs['streamflow_cms'] = pd.to_numeric(obs['streamflow_cms'])"
   ]
  },
  {
   "cell_type": "markdown",
   "metadata": {},
   "source": [
    "**Plot the hydrographs at the stream location upstream of the lake to ensure they are identical.**"
   ]
  },
  {
   "cell_type": "code",
   "execution_count": 26,
   "metadata": {},
   "outputs": [
    {
     "data": {
      "image/png": "[encoded data removed]",
      "text/plain": [
       "<Figure size 1200x600 with 1 Axes>"
      ]
     },
     "metadata": {},
     "output_type": "display_data"
    }
   ],
   "source": [
    "fig, axes = plt.subplots(ncols=1,figsize=(12, 6))\n",
    "plt.suptitle('Hydrographs for lakes on and off at stream location upstream of lake',fontsize=24)\n",
    "chanobs_lakes_off.sel(feature_id = 3).streamflow.plot(label='Lakes off',\n",
    "                                                        color='blue',\n",
    "                                                        linestyle='-')\n",
    "chanobs_baseline.sel(feature_id = 3).streamflow.plot(label='Lakes on',\n",
    "                                                        color='black',\n",
    "                                                        linestyle='--')\n",
    "obs[obs['site_no'] == '01447720'].plot(x='dateTime',\n",
    "                                       y='streamflow_cms',\n",
    "                                       ax=axes,\n",
    "                                       label='Observed',\n",
    "                                       color='grey')\n",
    "plt.legend()\n",
    "plt.show()"
   ]
  },
  {
   "cell_type": "markdown",
   "metadata": {},
   "source": [
    "### Discussion\n",
    "The streamflow values at the stream location upstream of the lake were identical between the simulation with lakes represented and the simulation without lakes represented. This is expected.. and if we did not see this result, it would be an indication of an error somewhere in the process.  \n",
    "However, at the stream location downstream of a lake we see that streamflow is considerably higher in the simulation without lakes represented. This reflects the expected behavior of the lake attenuating streamflow at the outlet due to storage. "
   ]
  },
  {
   "cell_type": "markdown",
   "metadata": {},
   "source": [
    "**Plot the hydrographs at the stream location downstream of the lake**\n",
    "\n",
    "**NOTE: we changed the `feature_id` to 2 to select a different stream location in the output files and have changed the USGS gauge ID to reflect the downstream gauge location.**"
   ]
  },
  {
   "cell_type": "code",
   "execution_count": 27,
   "metadata": {},
   "outputs": [
    {
     "data": {
      "image/png": "[encoded data removed]",
      "text/plain": [
       "<Figure size 1200x600 with 1 Axes>"
      ]
     },
     "metadata": {},
     "output_type": "display_data"
    }
   ],
   "source": [
    "fig, axes = plt.subplots(ncols=1,figsize=(12, 6))\n",
    "plt.suptitle('Hydrographs for lakes on and off at stream location downstream of lake',fontsize=24)\n",
    "chanobs_lakes_off.sel(feature_id = 2).streamflow.plot(label='Lakes off',\n",
    "                                                        color='blue',\n",
    "                                                        linestyle='-')\n",
    "chanobs_baseline.sel(feature_id = 2).streamflow.plot(label='Lakes on',\n",
    "                                                        color='black',\n",
    "                                                        linestyle='--')\n",
    "obs[obs['site_no'] == '01447720'].plot(x='dateTime',\n",
    "                                         y='streamflow_cms',\n",
    "                                         ax=axes,\n",
    "                                         label='Observed',\n",
    "                                         color='grey')\n",
    "plt.legend()\n",
    "plt.show()"
   ]
  },
  {
   "cell_type": "markdown",
   "metadata": {},
   "source": [
    "### Summary\n",
    "The 'lakes-off' simulation shows a higher and earlier peak compared with the 'lakes-on' and observed hydrographs. We confirm that this lake serves to attenuate flow during a high event."
   ]
  },
  {
   "cell_type": "markdown",
   "metadata": {},
   "source": [
    "# Experiment 2 - Modifying lake parameters in `LAKEPARM.nc`"
   ]
  },
  {
   "cell_type": "markdown",
   "metadata": {},
   "source": [
    "### Background\n",
    "The orifice and weir lake parameters populated into LAKEPARM.nc by the GIS pre-processing tools are essentially placeholders for the user to replace with their own data. The accuracy of these parameters can have a significant impact on the storage and thus outflow of the lake. **We highly recommend replacing the default lake parameters with known values!**"
   ]
  },
  {
   "cell_type": "markdown",
   "metadata": {},
   "source": [
    "### Objective\n",
    "In this exercise, we will update one of these parameters, the weir length - `WeirL`, with an estimate from observations and explore the impact on the streamflow at the downstream gauge."
   ]
  },
  {
   "cell_type": "markdown",
   "metadata": {},
   "source": [
    "### First, let's make a new directory to conduct this experiment."
   ]
  },
  {
   "cell_type": "code",
   "execution_count": 28,
   "metadata": {},
   "outputs": [],
   "source": [
    "%%bash\n",
    "rm -rf ~/wrf-hydro-training/output/lesson6/run_lakeparm_edit\n",
    "cp -r ~/wrf-hydro-training/output/lesson6/run_gridded_template \\\n",
    "  ~/wrf-hydro-training/output/lesson6/run_lakeparm_edit"
   ]
  },
  {
   "cell_type": "markdown",
   "metadata": {},
   "source": [
    "### Before modifying anything, let's check the current default value of the WeirL in `LAKEPARM.nc`"
   ]
  },
  {
   "cell_type": "code",
   "execution_count": 29,
   "metadata": {
    "scrolled": true
   },
   "outputs": [
    {
     "name": "stdout",
     "output_type": "stream",
     "text": [
      "data:\n",
      "\n",
      " WeirL = 10 ;\n",
      "}\n"
     ]
    }
   ],
   "source": [
    "%%bash\n",
    "\n",
    "ncdump -v WeirL ~/wrf-hydro-training/output/lesson6/run_lakeparm_edit/DOMAIN/LAKEPARM.nc | tail -4"
   ]
  },
  {
   "cell_type": "markdown",
   "metadata": {},
   "source": [
    "### Edit the lake parameter file and run the simulation\n",
    "**Step 1: Edit the `LAKEPARM.nc` file**\n",
    "\n",
    "NCO (NetCDF Operators, http://nco.sourceforge.net/) is a set of useful utilities to manipulate NetCDF files. We will use the NCO command ncap2 to edit the WeirL variable."
   ]
  },
  {
   "cell_type": "code",
   "execution_count": 30,
   "metadata": {},
   "outputs": [],
   "source": [
    "%%bash\n",
    "\n",
    "ncap2 -s \"WeirL=667\" ~/wrf-hydro-training/output/lesson6/run_lakeparm_edit/DOMAIN/LAKEPARM.nc \\\n",
    "~/wrf-hydro-training/output/lesson6/run_lakeparm_edit/DOMAIN/LAKEPARM_WeirL_667.nc"
   ]
  },
  {
   "cell_type": "markdown",
   "metadata": {},
   "source": [
    "**Step 2: Verify that the change was made**\n",
    "\n",
    "We will check the value of the `WeirL` variable in our new `LAKEPARM_WeirL_667.nc` file against the original `LAKEPARM.nc` file.\n",
    "\n",
    "`LAKEPARM_WeirL_667.nc`"
   ]
  },
  {
   "cell_type": "code",
   "execution_count": 31,
   "metadata": {
    "scrolled": true
   },
   "outputs": [
    {
     "name": "stdout",
     "output_type": "stream",
     "text": [
      "data:\n",
      "\n",
      " WeirL = 667 ;\n",
      "}\n"
     ]
    }
   ],
   "source": [
    "%%bash\n",
    "ncdump -v WeirL ~/wrf-hydro-training/output/lesson6/run_lakeparm_edit/DOMAIN/LAKEPARM_WeirL_667.nc | tail -4"
   ]
  },
  {
   "cell_type": "markdown",
   "metadata": {},
   "source": [
    "**Step 3: Edit the *hydro.namelist* to use the new *LAKEPARM_WeirL_667.nc***\n",
    "\n",
    "We will change the `route_lake_f` option in the [hydro.namelist](../output/lesson6/run_lakeparm_edit/hydro.namelist) to use the edited lakeparm file. \n",
    "\n",
    "```\n",
    "! Specify the lake parameter file (e.g.: \"LAKEPARM.nc\" for netcdf or \"LAKEPARM.TBL\" for text).\n",
    "! Note REQUIRED if lakes are on.\n",
    "route_lake_f = \"./DOMAIN/LAKEPARM_WeirL_667.nc\"\n",
    "```"
   ]
  },
  {
   "cell_type": "code",
   "execution_count": 32,
   "metadata": {},
   "outputs": [
    {
     "name": "stdout",
     "output_type": "stream",
     "text": [
      "route_lake_f = \"./DOMAIN/LAKEPARM_WeirL_667.nc\"\n"
     ]
    }
   ],
   "source": [
    "%%bash\n",
    "cd ~/wrf-hydro-training/output/lesson6/run_lakeparm_edit\n",
    "sed -i 's|route_lake_f = \"./DOMAIN/LAKEPARM.nc\"|route_lake_f = \"./DOMAIN/LAKEPARM_WeirL_667.nc\"|' hydro.namelist\n",
    "grep \"route_lake_f\" hydro.namelist"
   ]
  },
  {
   "cell_type": "markdown",
   "metadata": {},
   "source": [
    "**Step 3: Run the simulation**"
   ]
  },
  {
   "cell_type": "code",
   "execution_count": 25,
   "metadata": {
    "execution": {
     "iopub.execute_input": "2025-04-03T00:45:34.999092Z",
     "iopub.status.busy": "2025-04-03T00:45:34.998667Z",
     "iopub.status.idle": "2025-04-03T00:45:52.656504Z",
     "shell.execute_reply": "2025-04-03T00:45:52.655037Z"
    }
   },
   "outputs": [],
   "source": [
    "%%bash\n",
    "\n",
    "cd ~/wrf-hydro-training/output/lesson6/run_lakeparm_edit\n",
    "mpirun -np 2 ./wrf_hydro &> run.log"
   ]
  },
  {
   "cell_type": "code",
   "execution_count": 26,
   "metadata": {
    "execution": {
     "iopub.execute_input": "2025-04-03T00:45:52.659587Z",
     "iopub.status.busy": "2025-04-03T00:45:52.659229Z",
     "iopub.status.idle": "2025-04-03T00:45:52.671670Z",
     "shell.execute_reply": "2025-04-03T00:45:52.670885Z"
    }
   },
   "outputs": [
    {
     "name": "stdout",
     "output_type": "stream",
     "text": [
      " The model finished successfully.......\n"
     ]
    }
   ],
   "source": [
    "%%bash\n",
    "\n",
    "tail -1 ~/wrf-hydro-training/output/lesson6/run_lakeparm_edit/diag_hydro.00000"
   ]
  },
  {
   "cell_type": "markdown",
   "metadata": {},
   "source": [
    "### Results\n",
    "We will now look at the differences in streamflow between our baseline run with the original WeirL of 10m and our edited WeirL of 677m.\n",
    "\n",
    "We will use Python and the `xarray` library to load the data and plot hydrographs. For an intro to these tools, please see [Lesson 3](Lesson-3-visualize.ipynb)."
   ]
  },
  {
   "cell_type": "markdown",
   "metadata": {},
   "source": [
    "**Load the CHANOBS streamflow datasets**\n",
    "\n",
    "We are going to use the *CHANOBS* files because it will limit the number of grid cells to only those which we have specified have a gage."
   ]
  },
  {
   "cell_type": "code",
   "execution_count": 27,
   "metadata": {
    "execution": {
     "iopub.execute_input": "2025-04-03T00:45:52.674707Z",
     "iopub.status.busy": "2025-04-03T00:45:52.674322Z",
     "iopub.status.idle": "2025-04-03T00:46:02.844423Z",
     "shell.execute_reply": "2025-04-03T00:46:02.842909Z"
    }
   },
   "outputs": [],
   "source": [
    "chanobs_baseline = xr.open_mfdataset('/home/docker/wrf-hydro-training/output/lesson6/run_gridded_baseline/*CHANOBS*',\n",
    "                            combine='by_coords')\n",
    "chanobs_lakeparm_edit = xr.open_mfdataset('/home/docker/wrf-hydro-training/output/lesson6/run_lakeparm_edit/*CHANOBS*',\n",
    "                            combine='by_coords')\n",
    "obs = pd.read_csv('/home/docker/wrf-hydro-training/example_case/USGS_obs.csv',dtype=str)\n",
    "obs['dateTime'] = pd.to_datetime(obs['dateTime'])\n",
    "obs['streamflow_cms'] = pd.to_numeric(obs['streamflow_cms'])"
   ]
  },
  {
   "cell_type": "markdown",
   "metadata": {},
   "source": [
    "**Plot the hydrographs**"
   ]
  },
  {
   "cell_type": "code",
   "execution_count": 28,
   "metadata": {
    "execution": {
     "iopub.execute_input": "2025-04-03T00:46:02.847905Z",
     "iopub.status.busy": "2025-04-03T00:46:02.847596Z",
     "iopub.status.idle": "2025-04-03T00:46:05.293008Z",
     "shell.execute_reply": "2025-04-03T00:46:05.292060Z"
    }
   },
   "outputs": [
    {
     "data": {
      "image/png": "[encoded data removed]",
      "text/plain": [
       "<Figure size 1200x600 with 1 Axes>"
      ]
     },
     "metadata": {},
     "output_type": "display_data"
    }
   ],
   "source": [
    "fig, axes = plt.subplots(ncols=1,figsize=(12, 6))\n",
    "plt.suptitle('Hydrograph below lake for original and modified weir length.',fontsize=24)\n",
    "chanobs_lakeparm_edit.sel(feature_id = 2).streamflow.plot(label='WeirL = 667m',\n",
    "                                                        color='blue',\n",
    "                                                        linestyle='-')\n",
    "chanobs_baseline.sel(feature_id = 2).streamflow.plot(label='WeirL = 10m',\n",
    "                                                        color='black',\n",
    "                                                        linestyle='--')\n",
    "obs[obs['site_no'] == '01447720'].plot(x='dateTime',\n",
    "                                       y='streamflow_cms',\n",
    "                                       ax=axes,\n",
    "                                       label='Observed',\n",
    "                                       color='grey')\n",
    "plt.legend()\n",
    "plt.show()"
   ]
  },
  {
   "cell_type": "markdown",
   "metadata": {},
   "source": [
    "**Compare the result from experiment 1, where the lake was removed.**"
   ]
  },
  {
   "cell_type": "code",
   "execution_count": 29,
   "metadata": {
    "execution": {
     "iopub.execute_input": "2025-04-03T00:46:05.296188Z",
     "iopub.status.busy": "2025-04-03T00:46:05.295928Z",
     "iopub.status.idle": "2025-04-03T00:46:08.992511Z",
     "shell.execute_reply": "2025-04-03T00:46:08.990970Z"
    }
   },
   "outputs": [
    {
     "data": {
      "image/png": "[encoded data removed]",
      "text/plain": [
       "<Figure size 1200x600 with 1 Axes>"
      ]
     },
     "metadata": {},
     "output_type": "display_data"
    }
   ],
   "source": [
    "fig, axes = plt.subplots(ncols=1,figsize=(12, 6))\n",
    "plt.suptitle('Hydrographs of baseline, no-lake, and modified weir length.',fontsize=24)\n",
    "chanobs_lakeparm_edit.sel(feature_id = 2).streamflow.plot(label='WeirL = 667m',\n",
    "                                                        color='blue',\n",
    "                                                        linestyle='-')\n",
    "chanobs_baseline.sel(feature_id = 2).streamflow.plot(label='WeirL = 10m',\n",
    "                                                        color='black',\n",
    "                                                        linestyle='--')\n",
    "chanobs_lakes_off.sel(feature_id = 2).streamflow.plot(label='Lake off',\n",
    "                                                        color='red',\n",
    "                                                        linestyle='--')\n",
    "obs[obs['site_no'] == '01447720'].plot(x='dateTime',\n",
    "                                       y='streamflow_cms',\n",
    "                                       ax=axes,\n",
    "                                       label='Observed',\n",
    "                                       color='grey')\n",
    "plt.legend()\n",
    "plt.show()"
   ]
  },
  {
   "cell_type": "markdown",
   "metadata": {},
   "source": [
    "### Summary\n",
    "The increase in weir length causes more water to discharge from the lake earlier than the default. The difference in initial condition for the modified WeirL expt is due to not spinning up with this parameter, and the lake initially discharged to meet its equilibrium. When an abrupt parameter change is made without proper spinup, these artifacts are possible. "
   ]
  },
  {
   "cell_type": "markdown",
   "metadata": {},
   "source": [
    "**Load the LAKEOUT files to investigate three lake-related variables: inflow, outflow, and water surface elevation.**"
   ]
  },
  {
   "cell_type": "code",
   "execution_count": 30,
   "metadata": {
    "execution": {
     "iopub.execute_input": "2025-04-03T00:46:08.995689Z",
     "iopub.status.busy": "2025-04-03T00:46:08.995317Z",
     "iopub.status.idle": "2025-04-03T00:46:20.148820Z",
     "shell.execute_reply": "2025-04-03T00:46:20.147375Z"
    }
   },
   "outputs": [],
   "source": [
    "lakeout_baseline = xr.open_mfdataset('/home/docker/wrf-hydro-training/output/lesson6/run_gridded_baseline/*LAKEOUT*',\n",
    "                            combine='by_coords')\n",
    "lakeout_weir667 = xr.open_mfdataset('/home/docker/wrf-hydro-training/output/lesson6/run_lakeparm_edit/*LAKEOUT*',\n",
    "                            combine='by_coords')"
   ]
  },
  {
   "cell_type": "code",
   "execution_count": 31,
   "metadata": {
    "execution": {
     "iopub.execute_input": "2025-04-03T00:46:20.154238Z",
     "iopub.status.busy": "2025-04-03T00:46:20.153577Z",
     "iopub.status.idle": "2025-04-03T00:46:22.938811Z",
     "shell.execute_reply": "2025-04-03T00:46:22.937690Z"
    }
   },
   "outputs": [
    {
     "data": {
      "image/png": "[encoded data removed]",
      "text/plain": [
       "<Figure size 1200x600 with 1 Axes>"
      ]
     },
     "metadata": {},
     "output_type": "display_data"
    }
   ],
   "source": [
    "fig, axes = plt.subplots(ncols=1,figsize=(12, 6))\n",
    "plt.suptitle('Lake output for New Croton Reservoir, baseline (WeirL=10) and modified (WeirL=667m)',fontsize=24)\n",
    "\n",
    "lakeout_weir667.sel(feature_id = 1).water_sfc_elev.plot(label='WeirL = 667m',\n",
    "                                                        color='blue',\n",
    "                                                        linestyle='-')\n",
    "lakeout_baseline.sel(feature_id = 1).water_sfc_elev.plot(label='Baseline, WeirL = 10m',\n",
    "                                                        color='black',\n",
    "                                                        linestyle='--')\n",
    "plt.legend()\n",
    "plt.show()"
   ]
  },
  {
   "cell_type": "markdown",
   "metadata": {},
   "source": [
    "### **On your own experiments**: \n",
    "In the above cells, modify the `inflow` variable selection in the plotting function above to `outflow`, then to `water_sfc_elev`.  Feel free to copy and paste the plotting cells so that each of the plots are saved. "
   ]
  },
  {
   "cell_type": "markdown",
   "metadata": {},
   "source": [
    "### Discussion\n",
    "**Streamflow**: We can see that extending the weir length via the `WeirL` parameter has caused the lake to discharge more water out of the weir when the lake level meets (exceeds) the weir elevation.  This has resulted in an increase of streamflow downstream of the lake.\n",
    "\n",
    "**Lake outputs**: as expected, the inflow into the lake is the same in both simulations (baseline and modified WeirL).  However, we find that the discharge is significantly different, due to more discharge out of the weir.  From the lake level perspective, the baseline simulation shows that the lake continues to fill, and at a slower pace, with the WeirL=10, while the modified experiment with a much longer WeirL keeps the lake level from reaching near its maximum, even during the high inflow condition."
   ]
  },
  {
   "cell_type": "markdown",
   "metadata": {},
   "source": [
    "# Next up - Exploring Gridded vs. the NWM configuration\n",
    "This concludes lesson 6. \n",
    "\n",
    "In the [next lesson](Lesson-7-configurations.ipynb), we will explore the differences between the NWM and Gridded configurations.\n",
    "\n",
    "**IT IS BEST TO EITHER SHUTDOWN THIS LESSON OR CLOSE IT BEFORE PROCEEDING TO THE NEXT LESSON TO AVOID POSSIBLY EXCEEDING ALLOCATED MEMORY. Shutdown the lesson be either closing the browser tab for the lesson or selecting `Kernel -> Shut Down Kernel` in JupyterLab.**\n",
    "\n",
    "© UCAR 2025"
   ]
  }
 ],
 "metadata": {
  "kernelspec": {
   "display_name": "Python 3 (ipykernel)",
   "language": "python",
   "name": "python3"
  },
  "language_info": {
   "codemirror_mode": {
    "name": "ipython",
    "version": 3
   },
   "file_extension": ".py",
   "mimetype": "text/x-python",
   "name": "python",
   "nbconvert_exporter": "python",
   "pygments_lexer": "ipython3",
   "version": "3.12.2"
  },
  "toc": {
   "base_numbering": 1,
   "nav_menu": {},
   "number_sections": true,
   "sideBar": true,
   "skip_h1_title": true,
   "title_cell": "Table of Contents",
   "title_sidebar": "Contents",
   "toc_cell": true,
   "toc_position": {
    "height": "calc(100% - 180px)",
    "left": "10px",
    "top": "150px",
    "width": "414px"
   },
   "toc_section_display": true,
   "toc_window_display": true
  }
 },
 "nbformat": 4,
 "nbformat_minor": 4
}
