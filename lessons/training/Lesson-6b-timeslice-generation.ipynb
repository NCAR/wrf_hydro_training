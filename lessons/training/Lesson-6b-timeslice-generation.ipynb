{
 "cells": [
  {
   "cell_type": "markdown",
   "metadata": {},
   "source": [
    "# Appendix to Lesson 6 - National Water Model Channel-Only & Nudging Data Assimilation\n",
    "\n",
    "## Time slice file generation\n",
    "\n",
    "Of course, if we want to assimilate observations, we need to make the observations available to the model. All these observations are provided for you in the provided test case. This notebook is for the attendees that would like to create their own time slices. The NWM has its own python-based workflow for pulling all available observations from NWIS and creating timeslice files. These timeslices can be used with other runs, including small domains. For research runs where older data may be needed, you may need to construct your own time slice files. The following code shows how to get streamflow observations from USGS NWIS and how to write them to the “time slice” format used by the model. The files are netcdf with certain assumptions.\n",
    "\n",
    "Load the necessary libraries first. "
   ]
  },
  {
   "cell_type": "code",
   "execution_count": null,
   "metadata": {},
   "outputs": [],
   "source": [
    "# All the packages which will be used below\n",
    " library(rwrfhydro)\n",
    " library(dataRetrieval)\n",
    " library(data.table)"
   ]
  },
  {
   "cell_type": "markdown",
   "metadata": {},
   "source": [
    "If you check out the basin map for this test case, there are two USGS gages on the domain. The 01447720 is the outlet location and 01447680 is the interior gage. Here we would like to assimilate the streamflow values in the inerior location (gage 01447680) and evaluate the model performance at the outlet gage (01447720). There are two ways to approach the problem, one is to leave both gages in the routelink file and only provide the observation at the interior location in the time slices. The second option is to remove the outlet gage (01447720) from the routelink file, and then automatically there will not be any data assimilation at that point even if the observation exists in the time slices. Let's first take a look at the first option, since that I what was used in lesson 7. \n",
    "\n",
    "The USGS streamflow data are provided in the NWIS website and can be pulled using the `dataRetrieval` package. You need to specify the gage ID, the parameter code, and the dates that you are interested in. "
   ]
  },
  {
   "cell_type": "code",
   "execution_count": null,
   "metadata": {},
   "outputs": [],
   "source": [
    "## This code is repeated from above, where we pulled in the observations.\n",
    "siteNumber <- c(\"01447680\")\n",
    "parameterCd <- \"00060\"  # Discharge\n",
    "startDate <- \"2011-08-26\"\n",
    "endDate <- \"2011-09-14\"\n",
    "discharge <- dataRetrieval::readNWISuv(siteNumber, parameterCd, startDate, endDate)\n",
    "discharge <- as.data.table(discharge)\n",
    "cfsToCms <- 1/35.31466621266132 \n",
    "discharge[, `:=`(discharge.cms=X_00060_00000*cfsToCms)]\n",
    "print(discharge)"
   ]
  },
  {
   "cell_type": "markdown",
   "metadata": {},
   "source": [
    "As mentioned, the Fortran code requires the gage identifiers to be 15-character wide string variables. This is how to convert trimmed strings to be 15-characters wide with leading blanks"
   ]
  },
  {
   "cell_type": "code",
   "execution_count": null,
   "metadata": {},
   "outputs": [],
   "source": [
    "# reformat the name of th gauge to 15 character\n",
    "discharge$site_no <- formatC(discharge$site_no, width=15)\n",
    "print(discharge)"
   ]
  },
  {
   "cell_type": "markdown",
   "metadata": {},
   "source": [
    "The observations require an associated quality level which is a value in [0,1] with 0 indicating “completely uncertain” and 1 indicating “completely certain” (see qn in the nudging equation above). Here is the crude quality assignment we will use."
   ]
  },
  {
   "cell_type": "code",
   "execution_count": null,
   "metadata": {},
   "outputs": [],
   "source": [
    "# add the quality \n",
    "Qc <- function(dataDf) {\n",
    "  ## assume the worst and then recover what fits out mental model of this chaos.\n",
    "  dataDf$quality <- dataDf$discharge.cms * 0\n",
    "  ## why would any streams with no flow be gaged?? Then again, drought. It's a really dicey value,\n",
    "  ## JLM also limit maximum flows to approx twice what I believe is the largest gaged flow\n",
    "  ## on MS river *2\n",
    "  ## http://nwis.waterdata.usgs.gov/nwis/peak?site_no=07374000&agency_cd=USGS&format=html\n",
    "  ## baton rouge 1945: 1,473,000cfs=41,711cms\n",
    "  ## multiply it roughly by 2\n",
    "  \n",
    "  isValidFlow <- dataDf$discharge.cms > 0 & dataDf$discharge.cms < 90000\n",
    "  wh100 <- which(isValidFlow)\n",
    "  if(length(wh100)) dataDf$quality[wh100] <- 100\n",
    "}\n",
    "discharge$quality <- Qc(discharge)\n",
    "\n",
    "print(discharge)"
   ]
  },
  {
   "cell_type": "markdown",
   "metadata": {},
   "source": [
    "The file also includes a `query_time` variable. This variable indicates when the value was obtained from NWIS. It is not used internally by the model, so it is somewhat optional but can prove helpful when trying to determine updates to time slice files."
   ]
  },
  {
   "cell_type": "code",
   "execution_count": null,
   "metadata": {},
   "outputs": [],
   "source": [
    "# add query time to the data\n",
    "queryTime <- Sys.time()\n",
    "attr(queryTime, \"tzone\") <- \"UTC\"\n",
    "discharge$queryTime <- queryTime   # add the query time\n",
    "print(discharge)"
   ]
  },
  {
   "cell_type": "markdown",
   "metadata": {},
   "source": [
    "The terminology “time slice” comes from the fact that we need to discretize time into “slices”. The model is designed to let this vary (though the option is not exposed, it is currently hard coded). Because the vast majority of gages reporting to NWIS have 15 minute frequency, this was the natural choice for the time slice resolution for the NWM. (Flows also rarely vary at shorter timescales). By selecting this resolution, no more than one observation can be use during any 15 minute period. However it’s actual reporting time is used during the nudging. For 15 minute resolution, the files are stampped “00”, “15”, “30”, and “45”. The data in the files are in ±7.5 minute windows centered on these time stamps. To assign our raw data to a unique timeslice file, we need to calculate which slice it belongs to."
   ]
  },
  {
   "cell_type": "code",
   "execution_count": null,
   "metadata": {},
   "outputs": [],
   "source": [
    "# This function is slightly different than the one currently available in rwrfhydro \n",
    "# add the Round minutes to the discharge data frame \n",
    "RoundMinutes <- function (POSIXct, nearest = 5) {\n",
    "  if ((60%%nearest) != 0)\n",
    "    warning(paste0(\"The nearest argument (passed: \", nearestMin,\n",
    "                   \") is mean to divide 60 with no remainder.\"), immediate. = TRUE)\n",
    "  nearestInv <- 1./nearest\n",
    "  theMin <- as.numeric(format(POSIXct, \"%M\")) + as.numeric(format(POSIXct, \"%S\"))/60\n",
    "  floorDiff <- (theMin - nearest * (floor(theMin/nearest))) / nearest # added by Arezoo\n",
    "  whFloor <- which(floorDiff < 0.5)\n",
    "  roundMin <- (ceiling(theMin * nearestInv)/nearestInv)\n",
    "  roundMin[whFloor] <- (floor(theMin * nearestInv)/nearestInv)[whFloor]\n",
    "  diffMin <- roundMin - theMin\n",
    "  lubridate::floor_date(POSIXct, \"hour\") + lubridate::minutes(floor(roundMin))\n",
    "}\n",
    "\n",
    "discharge$dateTimeRound <- RoundMinutes(discharge$dateTime,nearest=15)\n",
    "\n",
    "print(discharge)"
   ]
  },
  {
   "cell_type": "markdown",
   "metadata": {},
   "source": [
    "Finally, loop through the times and and write the data into time slice files."
   ]
  },
  {
   "cell_type": "code",
   "execution_count": null,
   "metadata": {},
   "outputs": [],
   "source": [
    "outPath <- \"~/nwm-training/output/lesson6/nudgingTimeSliceObs\"\n",
    "dir.create(file.path(outPath), recursive = TRUE)\n",
    "for (i in 1:length(rev(sort(unique(discharge$dateTimeRound))))) {\n",
    "  dfByPosix <- subset(discharge,dateTimeRound == rev(sort(unique(discharge$dateTimeRound)))[i])\n",
    "  dfByPosix$discharge.quality <- dfByPosix$quality\n",
    "  rwrfhydro::WriteNcTimeSlice(dfByPosix,\n",
    "                              outPath=outPath,\n",
    "                              sliceResolution = 15)\n",
    "}\n",
    "\n",
    "print(list.files(outPath))"
   ]
  },
  {
   "cell_type": "markdown",
   "metadata": {},
   "source": [
    "Let s check out the content of the one time slice file. "
   ]
  },
  {
   "cell_type": "code",
   "execution_count": null,
   "metadata": {},
   "outputs": [],
   "source": [
    "rwrfhydro::GetNcdfFile(\"~/nwm-training/example_case/NWM/nudgingTimeSliceObs/2011-08-30_03:30:00.15min.usgsTimeSlice.ncdf\")"
   ]
  },
  {
   "cell_type": "markdown",
   "metadata": {},
   "source": [
    "There is only one observation in this file for gage \"01447680\".\n",
    "\n",
    "© UCAR 2019"
   ]
  }
 ],
 "metadata": {
  "kernelspec": {
   "display_name": "R",
   "language": "R",
   "name": "ir"
  },
  "language_info": {
   "codemirror_mode": "r",
   "file_extension": ".r",
   "mimetype": "text/x-r-source",
   "name": "R",
   "pygments_lexer": "r",
   "version": "3.2.3"
  },
  "toc": {
   "base_numbering": 1,
   "nav_menu": {},
   "number_sections": true,
   "sideBar": true,
   "skip_h1_title": true,
   "title_cell": "Table of Contents",
   "title_sidebar": "Contents",
   "toc_cell": false,
   "toc_position": {},
   "toc_section_display": true,
   "toc_window_display": false
  }
 },
 "nbformat": 4,
 "nbformat_minor": 2
}
