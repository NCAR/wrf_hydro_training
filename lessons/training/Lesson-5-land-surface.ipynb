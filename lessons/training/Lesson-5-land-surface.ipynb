{
 "cells": [
  {
   "cell_type": "markdown",
   "metadata": {},
   "source": [
    "<img src='https://repository-images.githubusercontent.com/121802384/c355bb80-7d42-11e9-9e0e-4729609f9fbc' alt='WRF-Hydro Logo' width=\"15%\"/>\n",
    "\n",
    "# Lesson 5 - Land surface experiments"
   ]
  },
  {
   "cell_type": "markdown",
   "metadata": {},
   "source": [
    "## Overview\n",
    "In [Lesson 4](Lesson-4-run-options.ipynb) we experimented with different initial and boundary conditions (precipitation). \n",
    "\n",
    "In this lesson, we experiment with parameter adjustments to evaluate impacts on streamflow.\n",
    "\n",
    "**NOTE: If you have not completed Lessons 1 through 4, please stop and do so now.**"
   ]
  },
  {
   "cell_type": "markdown",
   "metadata": {},
   "source": [
    "### Compiling WRF-Hydro\n",
    "Below are the commands to compile WRF-Hydro. We are doing a quick short-cut to edit the setEnvar.sh to make sure HYDRO_D and SPATIAL_SOIL are both active. See [Lesson 1](Lesson-1-compile.ipynb) if you have any questions on these settings.\n",
    "\n",
    "**NOTE: You only need to do these steps if you do not already have a compiled binary. If you do, you can skip the compile steps.**"
   ]
  },
  {
   "cell_type": "code",
   "execution_count": 2,
   "metadata": {},
   "outputs": [
    {
     "name": "stdout",
     "output_type": "stream",
     "text": [
      "-- The Fortran compiler identification is GNU 13.3.0\n",
      "-- The C compiler identification is GNU 13.3.0\n",
      "-- Detecting Fortran compiler ABI info\n",
      "-- Detecting Fortran compiler ABI info - done\n",
      "-- Check for working Fortran compiler: /usr/bin/f95 - skipped\n",
      "-- Detecting C compiler ABI info\n",
      "-- Detecting C compiler ABI info - done\n",
      "-- Check for working C compiler: /usr/bin/cc - skipped\n",
      "-- Detecting C compile features\n",
      "-- Detecting C compile features - done\n",
      "-- Found MPI_C: /usr/lib/x86_64-linux-gnu/openmpi/lib/libmpi.so (found version \"3.1\") \n",
      "-- Found MPI_Fortran: /usr/lib/x86_64-linux-gnu/libmpi_usempif08.so (found version \"3.1\") \n",
      "-- Found MPI: TRUE (found version \"3.1\")  \n",
      "-- Found NetCDF: /usr/lib/x86_64-linux-gnu/libnetcdff.so;/usr/lib/x86_64-linux-gnu/libnetcdf.so;-L/usr/lib/x86_64-linux-gnu -L/usr/lib/x86_64-linux-gnu/hdf5/serial -lnetcdf  \n"
     ]
    },
    {
     "name": "stderr",
     "output_type": "stream",
     "text": [
      "\u001b[0m-- NetCDF Include Dir(s): /usr/include /usr/include\u001b[0m\n",
      "\u001b[0m-- Setting LSM to: NoahMP\u001b[0m\n",
      "\u001b[0m=============================================================\u001b[0m\n",
      "\u001b[0m-- Start of WRF-Hydro Env VARIABLES\u001b[0m\n",
      "\u001b[0mWRF_HYDRO = 1\u001b[0m\n",
      "\u001b[0mHYDRO_D = 1\u001b[0m\n",
      "\u001b[0mWRF_HYDRO_RAPID = 0\u001b[0m\n",
      "\u001b[0mSPATIAL_SOIL = 1\u001b[0m\n",
      "\u001b[0mWRFIO_NCD_LARGE_FILE_SUPPORT = 0\u001b[0m\n",
      "\u001b[0mNCEP_WCOSS = 0\u001b[0m\n",
      "\u001b[0mNWM_META = 0\u001b[0m\n",
      "\u001b[0mWRF_HYDRO_NUDGING = 0\u001b[0m\n",
      "\u001b[0mOUTPUT_CHAN_CONN = 0\u001b[0m\n",
      "\u001b[0mPRECIP_DOUBLE = 0\u001b[0m\n",
      "\u001b[0mWRF_HYDRO_NUOPC = 0\u001b[0m\n",
      "\u001b[0m=============================================================\u001b[0m\n",
      "\u001b[0m-- Using gfortran\u001b[0m\n",
      "\u001b[0m-- CMAKE_Fortran_COMPILER full path: /usr/bin/f95\u001b[0m\n",
      "\u001b[0m-- Building NoahMP LSM\u001b[0m\n"
     ]
    },
    {
     "name": "stdout",
     "output_type": "stream",
     "text": [
      "-- Configuring done (1.9s)\n",
      "-- Generating done (0.1s)\n",
      "-- Build files have been written to: /home/docker/wrf-hydro-training/wrf_hydro_nwm_public/build\n",
      "[ 91%] Built target hydro_routing\n",
      "[ 92%] \u001b[32mBuilding Fortran object src/HYDRO_drv/CMakeFiles/hydro_driver.dir/module_HYDRO_drv.F90.o\u001b[0m\n",
      "[ 93%] \u001b[32m\u001b[1mLinking Fortran static library ../../lib/libhydro_driver.a\u001b[0m\n",
      "[ 93%] Built target hydro_driver\n",
      "[ 94%] \u001b[32mBuilding Fortran object src/CPL/NoahMP_cpl/CMakeFiles/hydro_noahmp_cpl.dir/module_hrldas_HYDRO.F.o\u001b[0m\n",
      "[ 95%] \u001b[32mBuilding Fortran object src/CPL/NoahMP_cpl/CMakeFiles/hydro_noahmp_cpl.dir/hrldas_drv_HYDRO.F.o\u001b[0m\n",
      "[ 96%] \u001b[32m\u001b[1mLinking Fortran static library ../../../lib/libhydro_noahmp_cpl.a\u001b[0m\n",
      "[ 96%] Built target hydro_noahmp_cpl\n",
      "[ 97%] \u001b[32mBuilding Fortran object src/CMakeFiles/wrfhydro.exe.dir/Land_models/NoahMP/IO_code/module_hrldas_netcdf_io.F.o\u001b[0m\n",
      "[ 98%] \u001b[32mBuilding Fortran object src/CMakeFiles/wrfhydro.exe.dir/Land_models/NoahMP/IO_code/module_NoahMP_hrldas_driver.F.o\u001b[0m\n",
      "[ 99%] \u001b[32mBuilding Fortran object src/CMakeFiles/wrfhydro.exe.dir/Land_models/NoahMP/IO_code/main_hrldas_driver.F.o\u001b[0m\n",
      "[100%] \u001b[32m\u001b[1mLinking Fortran executable wrfhydro.exe\u001b[0m\n",
      "[100%] Built target wrfhydro.exe\n"
     ]
    },
    {
     "name": "stderr",
     "output_type": "stream",
     "text": [
      "LES\u001b[0m\n",
      "\u001b[0mWRF_HYDRO = 1\u001b[0m\n",
      "\u001b[0mHYDRO_D = 1\u001b[0m\n",
      "\u001b[0mWRF_HYDRO_RAPID = 0\u001b[0m\n",
      "\u001b[0mSPATIAL_SOIL = 1\u001b["
     ]
    },
    {
     "name": "stderr",
     "output_type": "stream",
     "text": [
      "0m\n",
      "\u001b[0mWRFIO_NCD_LARGE_FILE_SUPPORT = 0\u001b[0m"
     ]
    },
    {
     "name": "stderr",
     "output_type": "stream",
     "text": [
      "\n",
      "\u001b[0mNCEP_WCOSS = 0\u001b[0m\n",
      "\u001b[0mNWM_META = 0\u001b[0m\n",
      "\u001b[0mWRF_HYDRO_NUDGING = 0\u001b[0m\n",
      "\u001b[0mOUTPUT_CHAN_CONN = 0\u001b"
     ]
    },
    {
     "name": "stderr",
     "output_type": "stream",
     "text": [
      "[0m\n",
      "\u001b[0mPRECIP_DOUBLE = 0\u001b[0m\n",
      "\u001b[0mWRF_HYDRO_NUOPC = 0\u001b[0m\n",
      "\u001b[0m======================================"
     ]
    },
    {
     "name": "stderr",
     "output_type": "stream",
     "text": [
      "=======================\u001b[0m\n"
     ]
    },
    {
     "name": "stderr",
     "output_type": "stream",
     "text": [
      "\u001b[0m-- Using gfortran\u001b[0m\n",
      "\u001b[0m-- CMAKE_Fortran_COMPILER full path: /usr/bin/f95\u001b[0m\n"
     ]
    },
    {
     "name": "stderr",
     "output_type": "stream",
     "text": [
      "\u001b[0m-- Building NoahMP LSM\u001b[0m\n"
     ]
    },
    {
     "name": "stdout",
     "output_type": "stream",
     "text": [
      "-- Configuring done (0.9s)\n"
     ]
    },
    {
     "name": "stdout",
     "output_type": "stream",
     "text": [
      "-- Generating done (0.1s)\n"
     ]
    },
    {
     "name": "stdout",
     "output_type": "stream",
     "text": [
      "-- Build files have been written to: /home/docker/wrf-hydro-training/wrf_hydro_nwm_public/build\n"
     ]
    },
    {
     "name": "stdout",
     "output_type": "stream",
     "text": [
      "[ 91%] Built target hydro_routing\n",
      "[ 92%] \u001b[32mBuilding Fortran object src/HYDRO_drv/CMakeFiles/hydro"
     ]
    },
    {
     "name": "stdout",
     "output_type": "stream",
     "text": [
      "_driver.dir/module_HYDRO_drv.F90.o\u001b[0m\n",
      "[ 93%] \u001b[32m\u001b[1mLinking Fortran static library ../../lib/libh"
     ]
    },
    {
     "name": "stdout",
     "output_type": "stream",
     "text": [
      "ydro_driver.a\u001b[0m\n",
      "[ 93%] Built target hydro_driver\n",
      "[ 94%] \u001b[32mBuilding Fortran object src/CPL/NoahM"
     ]
    },
    {
     "name": "stdout",
     "output_type": "stream",
     "text": [
      "P_cpl/CMakeFiles/hydro_noahmp_cpl.dir/module_hrldas_HYDRO.F.o\u001b[0m\n",
      "[ 95%] \u001b[32mBuilding Fortran objec"
     ]
    },
    {
     "name": "stdout",
     "output_type": "stream",
     "text": [
      "t src/CPL/NoahMP_cpl/CMakeFiles/hydro_noahmp_cpl.dir/hrldas_drv_HYDRO.F.o\u001b[0m\n",
      "[ 96%] \u001b[32m\u001b[1mLinkin"
     ]
    },
    {
     "name": "stdout",
     "output_type": "stream",
     "text": [
      "g Fortran static library ../../../lib/libhydro_noahmp_cpl.a\u001b[0m\n",
      "[ 96%] Built target hydro_noahmp_cpl"
     ]
    },
    {
     "name": "stdout",
     "output_type": "stream",
     "text": [
      "\n",
      "[ 97%] \u001b[32mBuilding Fortran object src/CMakeFiles/wrfhydro.exe.dir/Land_models/NoahMP/IO_code/modu"
     ]
    },
    {
     "name": "stdout",
     "output_type": "stream",
     "text": [
      "le_hrldas_netcdf_io.F.o\u001b[0m\n",
      "[ 98%] \u001b[32mBuilding Fortran object src/CMakeFiles/wrfhydro.exe.dir/Land"
     ]
    },
    {
     "name": "stdout",
     "output_type": "stream",
     "text": [
      "_models/NoahMP/IO_code/module_NoahMP_hrldas_driver.F.o\u001b[0m\n",
      "[ 99%] \u001b[32mBuilding Fortran object src/C"
     ]
    },
    {
     "name": "stdout",
     "output_type": "stream",
     "text": [
      "MakeFiles/wrfhydro.exe.dir/Land_models/NoahMP/IO_code/main_hrldas_driver.F.o\u001b[0m\n",
      "[100%] \u001b[32m\u001b[1mLin"
     ]
    },
    {
     "name": "stdout",
     "output_type": "stream",
     "text": [
      "king Fortran executable wrfhydro.exe\u001b[0m\n",
      "[100%] Built target wrfhydro.exe\n"
     ]
    }
   ],
   "source": [
    "%%bash\n",
    "# Change to the trunk/NDHMS directory and configure for gfort\n",
    "cd ~/wrf-hydro-training/wrf_hydro_nwm_public/\n",
    "mkdir -p build\n",
    "cd build\n",
    "cmake .. -DHYDRO_D=1 -DSPATIAL_SOIL=1\n",
    "\n",
    "# Compile the code\n",
    "make -j2 &> compile.log\n",
    "# make symlink from wrf_hydro to wrf_hydro.exe, this has been done in the main repo\n",
    "cd Run;  ln -sf wrf_hydro.exe wrf_hydro; ln -sf wrf_hydro_NoahMP.exe wrf_hydroMP; cd ..\n",
    "\n",
    "# Check to make sure it completed successfully and confirm the correct compile-time options were set.\n",
    "tail -13 ~/wrf-hydro-training/wrf_hydro_nwm_public/build/compile.log"
   ]
  },
  {
   "cell_type": "markdown",
   "metadata": {},
   "source": [
    "## Experiment with Modified Parameters\n",
    "There are a number of key parameters that impact water partitioning, storage, and movement through the model system. We have pulled many of the most important model parameters into NetCDF files to ease parameter display and manipulation, as well as to allow the parameters to vary independently in space. Key terrain routing parameter files include:\n",
    "\n",
    "| Filename | Description|\n",
    "| ------------- | ------------- |\n",
    "| soil_properties.nc | NoahMP soil and vegetation properties (LSM grid) |\n",
    "| hydro2dtbl.nc | Lateral routing model soil and surface parameters (LSM grid) |\n",
    "| Fulldom_hires.nc | Lateral routing model high-res parameters (routing grid) |\n",
    "| GWBUCKPARM.nc | Groundwater baseflow bucket model parameters (groundwater basin objects) |\n",
    "\n",
    "\n",
    "In this lesson, we will manipulate parameters in the `soil_properties.nc` (*refkdt*, *dksat*, *bexp*) and `Fulldom_hires.nc` (*LKSATFAC*, *RETDEPRTFAC*) files."
   ]
  },
  {
   "cell_type": "markdown",
   "metadata": {},
   "source": [
    "### Step 1: Create a new template directory and and run default parameter test case\n",
    "As in the first section, we will make a new simulation directory and use this as a template for creating multiple new simulation directories.\n",
    "\n",
    "**Step 1a: Create a new template directory for the parameter experiments.**"
   ]
  },
  {
   "cell_type": "code",
   "execution_count": 3,
   "metadata": {
    "scrolled": true
   },
   "outputs": [],
   "source": [
    "%%bash\n",
    "# Make a new directory for our default baseline simulation\n",
    "rm -rf ~/wrf-hydro-training/output/lesson5/run_default_template\n",
    "mkdir -p ~/wrf-hydro-training/output/lesson5/run_default_template\n",
    "\n",
    "# Copy our model files to the simulation directory\n",
    "cp ~/wrf-hydro-training/wrf_hydro_nwm_public/build/Run/*.TBL \\\n",
    "  ~/wrf-hydro-training/output/lesson5/run_default_template\n",
    "cp ~/wrf-hydro-training/wrf_hydro_nwm_public/build/Run/wrf_hydro \\\n",
    "  ~/wrf-hydro-training/output/lesson5/run_default_template\n",
    "\n",
    "# Create symbolic links to large domain files\n",
    "cp -as $HOME/wrf-hydro-training/example_case/FORCING \\\n",
    "  ~/wrf-hydro-training/output/lesson5/run_default_template\n",
    "cp -as $HOME/wrf-hydro-training/example_case/Gridded_no_lakes/RESTART \\\n",
    "  ~/wrf-hydro-training/output/lesson5/run_default_template/RESTART\n",
    "\n",
    "# Copy the domain/parameter files so we can modify them\n",
    "cp -r $HOME/wrf-hydro-training/example_case/Gridded_no_lakes/DOMAIN \\\n",
    "  ~/wrf-hydro-training/output/lesson5/run_default_template/DOMAIN\n",
    "\n",
    "# Copy namelist files\n",
    "cp ~/wrf-hydro-training/example_case/Gridded_no_lakes/namelist.hrldas \\\n",
    "  ~/wrf-hydro-training/output/lesson5/run_default_template\n",
    "cp ~/wrf-hydro-training/example_case/Gridded_no_lakes/hydro.namelist \\\n",
    "  ~/wrf-hydro-training/output/lesson5/run_default_template"
   ]
  },
  {
   "cell_type": "markdown",
   "metadata": {},
   "source": [
    "**Step 1b: Setup and run the default parameter baseline experiment**\n",
    "\n",
    "We now make a new run directory to run the baseline simulation with default (uncalibrated) parameters."
   ]
  },
  {
   "cell_type": "code",
   "execution_count": 4,
   "metadata": {},
   "outputs": [],
   "source": [
    "%%bash\n",
    "rm -rf ~/wrf-hydro-training/output/lesson5/run_parameter_baseline\n",
    "cp -r ~/wrf-hydro-training/output/lesson5/run_default_template \\\n",
    "  ~/wrf-hydro-training/output/lesson5/run_parameter_baseline"
   ]
  },
  {
   "cell_type": "markdown",
   "metadata": {},
   "source": [
    "Launch the baseline run and make sure it completes successfully."
   ]
  },
  {
   "cell_type": "code",
   "execution_count": 5,
   "metadata": {},
   "outputs": [],
   "source": [
    "%%bash\n",
    "cd ~/wrf-hydro-training/output/lesson5/run_parameter_baseline\n",
    "mpirun -np 2 ./wrf_hydro &> run.log"
   ]
  },
  {
   "cell_type": "code",
   "execution_count": 6,
   "metadata": {},
   "outputs": [
    {
     "name": "stdout",
     "output_type": "stream",
     "text": [
      " The model finished successfully.......\n"
     ]
    }
   ],
   "source": [
    "%%bash\n",
    "tail -1 ~/wrf-hydro-training/output/lesson5/run_parameter_baseline/diag_hydro.00000"
   ]
  },
  {
   "cell_type": "markdown",
   "metadata": {},
   "source": [
    "**Step 1c: Plot the hydrograph for the baseline (default) run**\n",
    "\n",
    "We want to take a quick look at the hydrograph for the default parameter run so we see what behavior we might want to adjust.\n",
    "\n",
    "We will use Python and the `xarray` library to load the data and plot hydrographs. For an intro to these tools, please see [Lesson 3](Lesson-3-visualize.ipynb).\n",
    "\n",
    "**Load the xarray python package**"
   ]
  },
  {
   "cell_type": "code",
   "execution_count": 7,
   "metadata": {},
   "outputs": [],
   "source": [
    "# Load the required libraries\n",
    "import xarray as xr\n",
    "import matplotlib.pyplot as plt\n",
    "import pandas as pd\n",
    "import datetime as dt"
   ]
  },
  {
   "cell_type": "code",
   "execution_count": 8,
   "metadata": {},
   "outputs": [],
   "source": [
    "xr.set_options(display_style=\"html\")\n",
    "from pandas.plotting import register_matplotlib_converters\n",
    "register_matplotlib_converters()"
   ]
  },
  {
   "cell_type": "code",
   "execution_count": 9,
   "metadata": {},
   "outputs": [],
   "source": [
    "# Pull the channel output files into xarray objects \n",
    "chanobs_control = xr.open_mfdataset('/home/docker/wrf-hydro-training/output/lesson5/run_parameter_baseline/*CHANOBS*',\n",
    "                            combine='by_coords')\n",
    "obs = pd.read_csv('/home/docker/wrf-hydro-training/example_case/USGS_obs.csv',dtype=str)\n",
    "obs['dateTime'] = pd.to_datetime(obs['dateTime'])\n",
    "obs['streamflow_cms'] = pd.to_numeric(obs['streamflow_cms'])"
   ]
  },
  {
   "cell_type": "markdown",
   "metadata": {},
   "source": [
    "**Plot the hydrograph for the outlet gage (feature_id = 2, USGS ID 01447720)**\n",
    "\n",
    "Table 1. USGS Stream Gage IDs and associated WRF-Hydro feature_id indices.\n",
    "\n",
    "|USGS Gage ID|WRF-Hydro gage feature_id|Gage Information|\n",
    "|------|:-:|---|\n",
    "| 01447680 | 1 |https://waterdata.usgs.gov/pa/nwis/uv/?site_no=01447680|\n",
    "| 01447720 | 2 |https://waterdata.usgs.gov/nwis/nwismap/?site_no=01447720|"
   ]
  },
  {
   "cell_type": "code",
   "execution_count": 29,
   "metadata": {},
   "outputs": [
    {
     "data": {
      "image/png": "[encoded data removed]",
      "text/plain": [
       "<Figure size 1200x600 with 1 Axes>"
      ]
     },
     "metadata": {},
     "output_type": "display_data"
    }
   ],
   "source": [
    "# Plot the baseline hydrograph\n",
    "fig, axes = plt.subplots(ncols=1,figsize=(12, 6))\n",
    "plt.suptitle('Hydrographs for parameter experiment',fontsize=24)\n",
    "chanobs_control.sel(feature_id = 2).streamflow.plot(label='Control',\n",
    "                                                        color='black',\n",
    "                                                        linestyle='--')\n",
    "obs[obs['site_no'] == '01447720'].plot(x='dateTime',\n",
    "                                       y='streamflow_cms',\n",
    "                                       ax=axes,\n",
    "                                       label='Observed',\n",
    "                                       color='grey')\n",
    "plt.xlim([dt.date(2011, 8, 25), dt.date(2011, 9, 16)])\n",
    "plt.legend()\n",
    "plt.show()"
   ]
  },
  {
   "cell_type": "markdown",
   "metadata": {},
   "source": [
    "### Step 2: Modify NoahMP parameters using NCO tools\n",
    "\n",
    "We will create a new simulation directory for our parameter manipulation experiment. \n",
    "\n",
    "All of the parameter file edits will be done using NCO. NCO (NetCDF Operators, http://nco.sourceforge.net/) is a set of useful utilities to manipulate NetCDF files.\n",
    "\n",
    "**Step 2a: Setup the parameter experiment run directory**\n",
    "\n",
    "First make a new run directory where we can start modifying parameter files."
   ]
  },
  {
   "cell_type": "code",
   "execution_count": 28,
   "metadata": {},
   "outputs": [],
   "source": [
    "%%bash\n",
    "rm -rf ~/wrf-hydro-training/output/lesson5/run_parameter_mods\n",
    "cp -r ~/wrf-hydro-training/output/lesson5/run_default_template \\\n",
    "  ~/wrf-hydro-training/output/lesson5/run_parameter_mods"
   ]
  },
  {
   "cell_type": "markdown",
   "metadata": {},
   "source": [
    "**Step 2b: Use the NCO command `ncap2` to modify the *refkdt* parameter values in the `soil_properties.nc` file.**\n",
    "\n",
    "**REFKDT**\n",
    "\n",
    "An important Noah/NoahMP parameter that we commonly adjust when activating terrain routing is *refkdt*. *Refkdt* controls how easily precipitation reaching the surface infiltrates into the soil column vs. stays on the surface where it can become surface runoff. Higher values of *refkdt* lead to more infiltration and less surface (fast) runoff. This tunable parameter can be set to a relatively high value (e.g., 3.0) suitable for running the column land surface model only. When activating terrain routing to explicitly model these processes, we often reduce this parameter. In addition, if you are calling the land surface model on a small timestep (e.g., seconds to minutes), you may want to reduce this parameter to compensate for the more frequent calls to the vertical infiltration scheme. \n",
    "\n",
    "We will decrease the *refkdt* value, but first we check the current parameter values using `ncdump`."
   ]
  },
  {
   "cell_type": "code",
   "execution_count": 12,
   "metadata": {},
   "outputs": [
    {
     "name": "stdout",
     "output_type": "stream",
     "text": [
      "  3, 3, 3, 3, 3, 3, 3, 3, 3, 3, 3, 3, 3, 3, 3,\n",
      "  3, 3, 3, 3, 3, 3, 3, 3, 3, 3, 3, 3, 3, 3, 3,\n",
      "  3, 3, 3, 3, 3, 3, 3, 3, 3, 3, 3, 3, 3, 3, 3,\n",
      "  3, 3, 3, 3, 3, 3, 3, 3, 3, 3, 3, 3, 3, 3, 3,\n",
      "  3, 3, 3, 3, 3, 3, 3, 3, 3, 3, 3, 3, 3, 3, 3,\n",
      "  3, 3, 3, 3, 3, 3, 3, 3, 3, 3, 3, 3, 3, 3, 3,\n",
      "  3, 3, 3, 3, 3, 3, 3, 3, 3, 3, 3, 3, 3, 3, 3,\n",
      "  3, 3, 3, 3, 3, 3, 3, 3, 3, 3, 3, 3, 3, 3, 3,\n",
      "  3, 3, 3, 3, 3, 3, 3, 3, 3, 3, 3, 3, 3, 3, 3 ;\n",
      "}\n"
     ]
    },
    {
     "name": "stdout",
     "output_type": "stream",
     "text": [
      ", 3, 3, 3, 3, 3, 3, 3, 3, 3, 3, 3, 3, 3,\n",
      "  3, 3, 3, 3, 3, 3, 3, 3, 3, 3, 3, 3, 3, 3, 3,\n",
      "  3, 3, 3, 3"
     ]
    },
    {
     "name": "stdout",
     "output_type": "stream",
     "text": [
      ", 3, 3, 3, 3, 3, 3, 3, 3, 3, 3, 3,\n",
      "  3, 3, 3, 3, 3, 3, 3, 3, 3, 3, 3, 3, 3, 3, 3,\n",
      "  3, 3, 3, 3, 3, 3"
     ]
    },
    {
     "name": "stdout",
     "output_type": "stream",
     "text": [
      ", 3, 3, 3, 3, 3, 3, 3, 3, 3,\n",
      "  3, 3, 3, 3, 3, 3, 3, 3, 3, 3, 3, 3, 3, 3, 3,\n",
      "  3, 3, 3, 3, 3, 3, 3, 3"
     ]
    },
    {
     "name": "stdout",
     "output_type": "stream",
     "text": [
      ", 3, 3, 3, 3, 3, 3, 3 ;\n",
      "}\n"
     ]
    }
   ],
   "source": [
    "%%bash\n",
    "\n",
    "ncdump -v refkdt ~/wrf-hydro-training/output/lesson5/run_parameter_mods/DOMAIN/soil_properties.nc \\\n",
    "  | tail -n 10"
   ]
  },
  {
   "cell_type": "markdown",
   "metadata": {},
   "source": [
    "The default value for *refkdt* is a global 3.0. We modify the parameter values using Python to a lower value (1.0)."
   ]
  },
  {
   "cell_type": "code",
   "execution_count": 13,
   "metadata": {},
   "outputs": [],
   "source": [
    "%%bash\n",
    "\n",
    "ncap2 -O -s \"refkdt=float(refkdt*0.0+1.0)\" \\\n",
    "~/wrf-hydro-training/output/lesson5/run_parameter_mods/DOMAIN/soil_properties.nc \\\n",
    "~/wrf-hydro-training/output/lesson5/run_parameter_mods/DOMAIN/soil_properties.nc"
   ]
  },
  {
   "cell_type": "markdown",
   "metadata": {},
   "source": [
    "We check to make sure the changes are as expected."
   ]
  },
  {
   "cell_type": "code",
   "execution_count": 14,
   "metadata": {},
   "outputs": [
    {
     "name": "stdout",
     "output_type": "stream",
     "text": [
      "  1, 1, 1, 1, 1, 1, 1, 1, 1, 1, 1, 1, 1, 1, 1,\n",
      "  1, 1, 1, 1, 1, 1, 1, 1, 1, 1, 1, 1, 1, 1, 1,\n",
      "  1, 1, 1, 1, 1, 1, 1, 1, 1, 1, 1, 1, 1, 1, 1,\n",
      "  1, 1, 1, 1, 1, 1, 1, 1, 1, 1, 1, 1, 1, 1, 1,\n",
      "  1, 1, 1, 1, 1, 1, 1, 1, 1, 1, 1, 1, 1, 1, 1,\n",
      "  1, 1, 1, 1, 1, 1, 1, 1, 1, 1, 1, 1, 1, 1, 1,\n",
      "  1, 1, 1, 1, 1, 1, 1, 1, 1, 1, 1, 1, 1, 1, 1,\n",
      "  1, 1, 1, 1, 1, 1, 1, 1, 1, 1, 1, 1, 1, 1, 1,\n",
      "  1, 1, 1, 1, 1, 1, 1, 1, 1, 1, 1, 1, 1, 1, 1 ;\n",
      "}\n"
     ]
    },
    {
     "name": "stdout",
     "output_type": "stream",
     "text": [
      ", 1, 1, 1, 1, 1, 1, 1, 1, 1, 1, 1, 1, 1,\n",
      "  1, 1, 1, 1, 1, 1, 1, 1, 1, 1, 1, 1, 1, 1, 1,\n",
      "  1, 1, 1, 1"
     ]
    },
    {
     "name": "stdout",
     "output_type": "stream",
     "text": [
      ", 1, 1, 1, 1, 1, 1, 1, 1, 1, 1, 1,\n",
      "  1, 1, 1, 1, 1, 1, 1, 1, 1, 1, 1, 1, 1, 1, 1,\n",
      "  1, 1, 1, 1, 1, 1"
     ]
    },
    {
     "name": "stdout",
     "output_type": "stream",
     "text": [
      ", 1, 1, 1, 1, 1, 1, 1, 1, 1,\n",
      "  1, 1, 1, 1, 1, 1, 1, 1, 1, 1, 1, 1, 1, 1, 1,\n",
      "  1, 1, 1, 1, 1, 1, 1, 1"
     ]
    },
    {
     "name": "stdout",
     "output_type": "stream",
     "text": [
      ", 1, 1, 1, 1, 1, 1, 1 ;\n",
      "}\n"
     ]
    }
   ],
   "source": [
    "%%bash\n",
    "\n",
    "ncdump -v refkdt ~/wrf-hydro-training/output/lesson5/run_parameter_mods/DOMAIN/soil_properties.nc \\\n",
    "| tail -n 10"
   ]
  },
  {
   "cell_type": "markdown",
   "metadata": {},
   "source": [
    "**Step 2c: Use the NCO command `ncap2` to modify the *dksat* parameter values in the `soil_properties.nc` file.**\n",
    "\n",
    "**DKSAT and BEXP**\n",
    "\n",
    "As with most physically-based hydrological models, the soil saturated hydraulic conductivity (*dksat*) controls the speed at which water moves through the subsurface. This is a sensitive parameter in the model, and while easy to measure at the point scale, *dksat* is tricky to estimate at the scale of kilometers. Initial values are estimated based on soil texture class, but reported ranges have large (many orders of magnitude) variability. This is a common calibration parameter, along with the related *bexp* parameter that controls how actual conductivity is scaled from saturated conductivity based on soil water content.\n",
    "\n",
    "Here we will use the NCO command `ncap2` to increase the *dksat* value by a factor of 8 and *bexp* by a factor of 1.5.\n",
    "\n",
    "First, we check the current parameter values using `ncdump`."
   ]
  },
  {
   "cell_type": "code",
   "execution_count": 15,
   "metadata": {},
   "outputs": [
    {
     "name": "stdout",
     "output_type": "stream",
     "text": [
      "  2.81e-06, 2.81e-06, 2.81e-06, 5.23e-06, 5.23e-06, 5.23e-06, 5.23e-06, \n",
      "    5.23e-06, 5.23e-06, 5.23e-06, 5.23e-06, 5.23e-06, 5.23e-06, 5.23e-06, \n",
      "    5.23e-06,\n",
      "  2.81e-06, 2.81e-06, 2.81e-06, 5.23e-06, 5.23e-06, 5.23e-06, 5.23e-06, \n",
      "    5.23e-06, 5.23e-06, 5.23e-06, 5.23e-06, 5.23e-06, 5.23e-06, 5.23e-06, \n",
      "    5.23e-06,\n",
      "  5.23e-06, 2.81e-06, 2.81e-06, 2.81e-06, 2.81e-06, 5.23e-06, 5.23e-06, \n",
      "    5.23e-06, 5.23e-06, 5.23e-06, 5.23e-06, 5.23e-06, 5.23e-06, 5.23e-06, \n",
      "    5.23e-06 ;\n",
      "}\n"
     ]
    },
    {
     "name": "stdout",
     "output_type": "stream",
     "text": [
      "3e-06, 5.23e-06, 5.23e-06, 5.23e-06, 5.23e-06, \n",
      "    5.23e-06,\n",
      "  2.81e-06, 2.81e-06, 2.81e-06, 5.23e-"
     ]
    },
    {
     "name": "stdout",
     "output_type": "stream",
     "text": [
      "06, 5.23e-06, 5.23e-06, 5.23e-06, \n",
      "    5.23e-06, 5.23e-06, 5.23e-06, 5.23e-06, 5.23e-06, 5.23e-06, 5"
     ]
    },
    {
     "name": "stdout",
     "output_type": "stream",
     "text": [
      ".23e-06, \n",
      "    5.23e-06,\n",
      "  5.23e-06, 2.81e-06, 2.81e-06, 2.81e-06, 2.81e-06, 5.23e-06, 5.23e-06, \n",
      "   "
     ]
    },
    {
     "name": "stdout",
     "output_type": "stream",
     "text": [
      " 5.23e-06, 5.23e-06, 5.23e-06, 5.23e-06, 5.23e-06, 5.23e-06, 5.23e-06, \n",
      "    5.23e-06 ;\n",
      "}\n"
     ]
    }
   ],
   "source": [
    "%%bash\n",
    "\n",
    "ncdump -v dksat ~/wrf-hydro-training/output/lesson5/run_parameter_mods/DOMAIN/soil_properties.nc \\\n",
    "| tail -n 10"
   ]
  },
  {
   "cell_type": "markdown",
   "metadata": {},
   "source": [
    "Note that this parameter's initial values vary in space based on soil texture class. We modify the parameter values using Python to increase by a factor of 8. This maintains the spatial distribution, but encourage faster soil water movement overall."
   ]
  },
  {
   "cell_type": "code",
   "execution_count": 16,
   "metadata": {},
   "outputs": [
    {
     "name": "stdout",
     "output_type": "stream",
     "text": [
      "  2.248e-05, 2.248e-05, 2.248e-05, 4.184e-05, 4.184e-05, 4.184e-05, \n",
      "    4.184e-05, 4.184e-05, 4.184e-05, 4.184e-05, 4.184e-05, 4.184e-05, \n",
      "    4.184e-05, 4.184e-05, 4.184e-05,\n",
      "  2.248e-05, 2.248e-05, 2.248e-05, 4.184e-05, 4.184e-05, 4.184e-05, \n",
      "    4.184e-05, 4.184e-05, 4.184e-05, 4.184e-05, 4.184e-05, 4.184e-05, \n",
      "    4.184e-05, 4.184e-05, 4.184e-05,\n",
      "  4.184e-05, 2.248e-05, 2.248e-05, 2.248e-05, 2.248e-05, 4.184e-05, \n",
      "    4.184e-05, 4.184e-05, 4.184e-05, 4.184e-05, 4.184e-05, 4.184e-05, \n",
      "    4.184e-05, 4.184e-05, 4.184e-05 ;\n",
      "}\n"
     ]
    }
   ],
   "source": [
    "%%bash\n",
    "\n",
    "ncap2 -O -s \"dksat=float(dksat*8.0)\" \\\n",
    "~/wrf-hydro-training/output/lesson5/run_parameter_mods/DOMAIN/soil_properties.nc \\\n",
    "~/wrf-hydro-training/output/lesson5/run_parameter_mods/DOMAIN/soil_properties.nc\n",
    "ncdump -v dksat ~/wrf-hydro-training/output/lesson5/run_parameter_mods/DOMAIN/soil_properties.nc \\\n",
    "| tail -n 10"
   ]
  },
  {
   "cell_type": "markdown",
   "metadata": {},
   "source": [
    "Use `ncdump` to check the starting values of *bexp*. Note that these also vary spatially by soil type. We will increase these values by a factor of 1.5."
   ]
  },
  {
   "cell_type": "code",
   "execution_count": 17,
   "metadata": {},
   "outputs": [
    {
     "name": "stdout",
     "output_type": "stream",
     "text": [
      "    4.74, 4.74, 4.74,\n",
      "  4.74, 5.33, 5.33, 4.74, 4.74, 4.74, 4.74, 4.74, 4.74, 4.74, 4.74, 4.74, \n",
      "    4.74, 4.74, 4.74,\n",
      "  5.33, 5.33, 5.33, 4.74, 4.74, 4.74, 4.74, 4.74, 4.74, 4.74, 4.74, 4.74, \n",
      "    4.74, 4.74, 4.74,\n",
      "  5.33, 5.33, 5.33, 4.74, 4.74, 4.74, 4.74, 4.74, 4.74, 4.74, 4.74, 4.74, \n",
      "    4.74, 4.74, 4.74,\n",
      "  4.74, 5.33, 5.33, 5.33, 5.33, 4.74, 4.74, 4.74, 4.74, 4.74, 4.74, 4.74, \n",
      "    4.74, 4.74, 4.74 ;\n",
      "}\n"
     ]
    },
    {
     "name": "stdout",
     "output_type": "stream",
     "text": [
      " 4.74, 4.74, 4.74,\n",
      "  5.33, 5.33, 5.33, 4.74, 4.74, 4.74, 4.74, 4.74, 4.74, 4.74, 4.74, 4.74, \n",
      "    4."
     ]
    },
    {
     "name": "stdout",
     "output_type": "stream",
     "text": [
      "74, 4.74, 4.74,\n",
      "  5.33, 5.33, 5.33, 4.74, 4.74, 4.74, 4.74, 4.74, 4.74, 4.74, 4.74, 4.74, \n",
      "    4.74,"
     ]
    },
    {
     "name": "stdout",
     "output_type": "stream",
     "text": [
      " 4.74, 4.74,\n",
      "  4.74, 5.33, 5.33, 5.33, 5.33, 4.74, 4.74, 4.74, 4.74, 4.74, 4.74, 4.74, \n",
      "    4.74, 4."
     ]
    },
    {
     "name": "stdout",
     "output_type": "stream",
     "text": [
      "74, 4.74 ;\n",
      "}\n"
     ]
    }
   ],
   "source": [
    "%%bash\n",
    "\n",
    "ncdump -v bexp ~/wrf-hydro-training/output/lesson5/run_parameter_mods/DOMAIN/soil_properties.nc \\\n",
    "| tail -n 10"
   ]
  },
  {
   "cell_type": "code",
   "execution_count": 18,
   "metadata": {},
   "outputs": [
    {
     "name": "stdout",
     "output_type": "stream",
     "text": [
      "    7.11, 7.11, 7.11,\n",
      "  7.11, 7.995, 7.995, 7.11, 7.11, 7.11, 7.11, 7.11, 7.11, 7.11, 7.11, 7.11, \n",
      "    7.11, 7.11, 7.11,\n",
      "  7.995, 7.995, 7.995, 7.11, 7.11, 7.11, 7.11, 7.11, 7.11, 7.11, 7.11, 7.11, \n",
      "    7.11, 7.11, 7.11,\n",
      "  7.995, 7.995, 7.995, 7.11, 7.11, 7.11, 7.11, 7.11, 7.11, 7.11, 7.11, 7.11, \n",
      "    7.11, 7.11, 7.11,\n",
      "  7.11, 7.995, 7.995, 7.995, 7.995, 7.11, 7.11, 7.11, 7.11, 7.11, 7.11, 7.11, \n",
      "    7.11, 7.11, 7.11 ;\n",
      "}\n"
     ]
    }
   ],
   "source": [
    "%%bash\n",
    "\n",
    "ncap2 -O -s \"bexp=float(bexp*1.5)\" \\\n",
    "~/wrf-hydro-training/output/lesson5/run_parameter_mods/DOMAIN/soil_properties.nc \\\n",
    "~/wrf-hydro-training/output/lesson5/run_parameter_mods/DOMAIN/soil_properties.nc\n",
    "ncdump -v bexp ~/wrf-hydro-training/output/lesson5/run_parameter_mods/DOMAIN/soil_properties.nc \\\n",
    "| tail -n 10"
   ]
  },
  {
   "cell_type": "markdown",
   "metadata": {},
   "source": [
    "### Step 3: Modify terrain routing parameters using NCO tools\n",
    "\n",
    "Now we will turn our attention to the parameters that affect lateral routing behavior.\n",
    "\n",
    "**Step 3a: Use the NCO command `ncap2` to modify the *LKSATFAC* and *RETDEPRTFAC* parameter values in the `Fulldom_hires.nc` file**\n",
    "\n",
    "**LKSATFAC**\n",
    "\n",
    "The Fulldom_hires.nc file contains two parameters that are also important for lateral flow processes. The *LKSATFAC* parameter is a multiplier on the prescribed lateral saturated hydraulic conductivity values specified in `hydro2dtbl.nc`. By default, lateral conductivity in `hydro2dtbl.nc` matches vertical conductivity specified in `soil_properties.nc`. However, in the real world we frequently see many orders of magnitude higher conductivities in the lateral direction vs. the vertical direction (due to soil stratigraphy, preferential flowpaths caused by roots and animals, etc.). *LKSATFAC* is an easy way to adjust this anisotropy, and by default it is set to 1,000.\n",
    "\n",
    "We will use the NCO command `ncap2` to increase the *LKSATFAC* value to 16,000 (this encompasses the original dksat multipler of 8 and an additional anisotropy factor of 2,000).\n",
    "\n",
    "First, we check the current parameter values."
   ]
  },
  {
   "cell_type": "code",
   "execution_count": 19,
   "metadata": {},
   "outputs": [
    {
     "name": "stdout",
     "output_type": "stream",
     "text": [
      "    1000, 1000, 1000, 1000, 1000, 1000, 1000, 1000, 1000, 1000, 1000, 1000, \n",
      "    1000, 1000, 1000, 1000, 1000, 1000, 1000, 1000, 1000, 1000, 1000, 1000, \n",
      "    1000, 1000, 1000, 1000, 1000, 1000, 1000, 1000, 1000, 1000, 1000, 1000, \n",
      "    1000, 1000, 1000, 1000, 1000, 1000, 1000, 1000, 1000, 1000, 1000, 1000,\n",
      "  1000, 1000, 1000, 1000, 1000, 1000, 1000, 1000, 1000, 1000, 1000, 1000, \n",
      "    1000, 1000, 1000, 1000, 1000, 1000, 1000, 1000, 1000, 1000, 1000, 1000, \n",
      "    1000, 1000, 1000, 1000, 1000, 1000, 1000, 1000, 1000, 1000, 1000, 1000, \n",
      "    1000, 1000, 1000, 1000, 1000, 1000, 1000, 1000, 1000, 1000, 1000, 1000, \n",
      "    1000, 1000, 1000, 1000, 1000, 1000, 1000, 1000, 1000, 1000, 1000, 1000 ;\n",
      "}\n"
     ]
    },
    {
     "name": "stdout",
     "output_type": "stream",
     "text": [
      "000, 1000, 1000, 1000, 1000, 1000, 1000, 1000, 1000, \n",
      "    1000, 1000, 1000, 1000, 1000, 1000, 1000, "
     ]
    },
    {
     "name": "stdout",
     "output_type": "stream",
     "text": [
      "1000, 1000, 1000, 1000, 1000, \n",
      "    1000, 1000, 1000, 1000, 1000, 1000, 1000, 1000, 1000, 1000, 1000,"
     ]
    },
    {
     "name": "stdout",
     "output_type": "stream",
     "text": [
      " 1000,\n",
      "  1000, 1000, 1000, 1000, 1000, 1000, 1000, 1000, 1000, 1000, 1000, 1000, \n",
      "    1000, 1000, 10"
     ]
    },
    {
     "name": "stdout",
     "output_type": "stream",
     "text": [
      "00, 1000, 1000, 1000, 1000, 1000, 1000, 1000, 1000, 1000, \n",
      "    1000, 1000, 1000, 1000, 1000, 1000, 1"
     ]
    },
    {
     "name": "stdout",
     "output_type": "stream",
     "text": [
      "000, 1000, 1000, 1000, 1000, 1000, \n",
      "    1000, 1000, 1000, 1000, 1000, 1000, 1000, 1000, 1000, 1000, "
     ]
    },
    {
     "name": "stdout",
     "output_type": "stream",
     "text": [
      "1000, 1000, \n",
      "    1000, 1000, 1000, 1000, 1000, 1000, 1000, 1000, 1000, 1000, 1000, 1000 ;\n",
      "}\n"
     ]
    }
   ],
   "source": [
    "%%bash\n",
    "\n",
    "ncdump -v LKSATFAC ~/wrf-hydro-training/output/lesson5/run_parameter_mods/DOMAIN/Fulldom_hires.nc \\\n",
    "| tail -n 10"
   ]
  },
  {
   "cell_type": "markdown",
   "metadata": {},
   "source": [
    "Then, we modify the parameter values and confirm our changes."
   ]
  },
  {
   "cell_type": "code",
   "execution_count": 20,
   "metadata": {},
   "outputs": [
    {
     "name": "stdout",
     "output_type": "stream",
     "text": [
      "    16000, 16000, 16000, 16000, 16000, 16000, 16000, 16000, 16000, 16000, \n",
      "    16000, 16000, 16000, 16000, 16000, 16000, 16000, 16000, 16000, 16000, \n",
      "    16000, 16000, 16000, 16000, 16000, 16000, 16000, 16000, 16000, 16000,\n",
      "  16000, 16000, 16000, 16000, 16000, 16000, 16000, 16000, 16000, 16000, \n",
      "    16000, 16000, 16000, 16000, 16000, 16000, 16000, 16000, 16000, 16000, \n",
      "    16000, 16000, 16000, 16000, 16000, 16000, 16000, 16000, 16000, 16000, \n",
      "    16000, 16000, 16000, 16000, 16000, 16000, 16000, 16000, 16000, 16000, \n",
      "    16000, 16000, 16000, 16000, 16000, 16000, 16000, 16000, 16000, 16000, \n",
      "    16000, 16000, 16000, 16000, 16000, 16000, 16000, 16000, 16000, 16000 ;\n",
      "}\n"
     ]
    }
   ],
   "source": [
    "%%bash\n",
    "\n",
    "ncap2 -O -s \"LKSATFAC=float(LKSATFAC*0.0+16000.0)\" \\\n",
    "~/wrf-hydro-training/output/lesson5/run_parameter_mods/DOMAIN/Fulldom_hires.nc \\\n",
    "~/wrf-hydro-training/output/lesson5/run_parameter_mods/DOMAIN/Fulldom_hires.nc\n",
    "ncdump -v LKSATFAC ~/wrf-hydro-training/output/lesson5/run_parameter_mods/DOMAIN/Fulldom_hires.nc \\\n",
    "| tail -n 10"
   ]
  },
  {
   "cell_type": "markdown",
   "metadata": {},
   "source": [
    "**RETDEPRTFAC**\n",
    "\n",
    "The *RETDEPRTFAC* parameter is a multiplier on the maximum retention depth. Ponded water on the surface above this retention depth threshold can be moved around the landscape via overland flow. The default value in the code is quite small (~0.001mm, though variable by terrain slope) to allow almost all ponded water to be available for routing. However, in many regions landscape features like wetlands, small detention ponds, and heavy vegetation litter/debris can trap water on the land surface. Increasing the *RETDEPRTFAC* multiplier will hold more ponded water on the surface before it becomes runoff.\n",
    "\n",
    "We will use the NCO command `ncap2` to increase the *RETDEPRTFAC* value to 10000 (max of 10mm).\n",
    "\n",
    "First, we check the current parameter values."
   ]
  },
  {
   "cell_type": "code",
   "execution_count": 24,
   "metadata": {
    "execution": {
     "iopub.execute_input": "2025-04-03T00:43:48.825227Z",
     "iopub.status.busy": "2025-04-03T00:43:48.824949Z",
     "iopub.status.idle": "2025-04-03T00:43:48.848629Z",
     "shell.execute_reply": "2025-04-03T00:43:48.847992Z"
    }
   },
   "outputs": [
    {
     "name": "stdout",
     "output_type": "stream",
     "text": [
      "  1, 1, 1, 1, 1, 1, 1, 1, 1, 1, 1, 1, 1, 1, 1, 1, 1, 1, 1, 1, 1, 1, 1, 1, 1, \n",
      "    1, 1, 1, 1, 1, 1, "
     ]
    },
    {
     "name": "stdout",
     "output_type": "stream",
     "text": [
      "1, 1, 1, 1, 1, 1, 1, 1, 1, 1, 1, 1, 1, 1, 1, 1, 1, 1, \n",
      "    1, 1, 1, 1, 1, 1, 1, 1, 1, 1, 1,\n",
      "  1, 1, "
     ]
    },
    {
     "name": "stdout",
     "output_type": "stream",
     "text": [
      "1, 1, 1, 1, 1, 1, 1, 1, 1, 1, 1, 1, 1, 1, 1, 1, 1, 1, 1, 1, 1, 1, 1, \n",
      "    1, 1, 1, 1, 1, 1, 1, 1, 1,"
     ]
    },
    {
     "name": "stdout",
     "output_type": "stream",
     "text": [
      " 1, 1, 1, 1, 1, 1, 1, 1, 1, 1, 1, 1, 1, 1, 1, \n",
      "    1, 1, 1, 1, 1, 1, 1, 1, 1, 1, 1,\n",
      "  1, 1, 1, 1, 1,"
     ]
    },
    {
     "name": "stdout",
     "output_type": "stream",
     "text": [
      " 1, 1, 1, 1, 1, 1, 1, 1, 1, 1, 1, 1, 1, 1, 1, 1, 1, 1, 1, 1, \n",
      "    1, 1, 1, 1, 1, 1, 1, 1, 1, 1, 1, 1"
     ]
    },
    {
     "name": "stdout",
     "output_type": "stream",
     "text": [
      ", 1, 1, 1, 1, 1, 1, 1, 1, 1, 1, 1, 1, \n",
      "    1, 1, 1, 1, 1, 1, 1, 1, 1, 1, 1 ;\n",
      "}\n"
     ]
    }
   ],
   "source": [
    "%%bash\n",
    "\n",
    "ncdump -v RETDEPRTFAC ~/wrf-hydro-training/output/lesson5/run_parameter_mods/DOMAIN/Fulldom_hires.nc \\\n",
    "| tail -n 10"
   ]
  },
  {
   "cell_type": "markdown",
   "metadata": {},
   "source": [
    "Then, we modify the parameter values using Python and confirm our changes."
   ]
  },
  {
   "cell_type": "code",
   "execution_count": 21,
   "metadata": {},
   "outputs": [
    {
     "name": "stdout",
     "output_type": "stream",
     "text": [
      "    10000, 10000, 10000, 10000, 10000, 10000, 10000, 10000, 10000, 10000, \n",
      "    10000, 10000, 10000, 10000, 10000, 10000, 10000, 10000, 10000, 10000, \n",
      "    10000, 10000, 10000, 10000, 10000, 10000, 10000, 10000, 10000, 10000,\n",
      "  10000, 10000, 10000, 10000, 10000, 10000, 10000, 10000, 10000, 10000, \n",
      "    10000, 10000, 10000, 10000, 10000, 10000, 10000, 10000, 10000, 10000, \n",
      "    10000, 10000, 10000, 10000, 10000, 10000, 10000, 10000, 10000, 10000, \n",
      "    10000, 10000, 10000, 10000, 10000, 10000, 10000, 10000, 10000, 10000, \n",
      "    10000, 10000, 10000, 10000, 10000, 10000, 10000, 10000, 10000, 10000, \n",
      "    10000, 10000, 10000, 10000, 10000, 10000, 10000, 10000, 10000, 10000 ;\n",
      "}\n"
     ]
    }
   ],
   "source": [
    "%%bash\n",
    "\n",
    "ncap2 -O -s \"RETDEPRTFAC=float(RETDEPRTFAC*0.0+10000.0)\" \\\n",
    "~/wrf-hydro-training/output/lesson5/run_parameter_mods/DOMAIN/Fulldom_hires.nc \\\n",
    "~/wrf-hydro-training/output/lesson5/run_parameter_mods/DOMAIN/Fulldom_hires.nc\n",
    "ncdump -v RETDEPRTFAC ~/wrf-hydro-training/output/lesson5/run_parameter_mods/DOMAIN/Fulldom_hires.nc \\\n",
    "| tail -n 10"
   ]
  },
  {
   "cell_type": "markdown",
   "metadata": {},
   "source": [
    "**Step 3b: Run the simulation**\n",
    "\n",
    "Now we are ready to run a simulation with our new modified parameters."
   ]
  },
  {
   "cell_type": "code",
   "execution_count": 22,
   "metadata": {},
   "outputs": [],
   "source": [
    "%%bash\n",
    "cd ~/wrf-hydro-training/output/lesson5/run_parameter_mods\n",
    "mpirun -np 2 ./wrf_hydro &> run.log"
   ]
  },
  {
   "cell_type": "markdown",
   "metadata": {},
   "source": [
    "Check to make sure your run completed successfully."
   ]
  },
  {
   "cell_type": "code",
   "execution_count": 23,
   "metadata": {},
   "outputs": [
    {
     "name": "stdout",
     "output_type": "stream",
     "text": [
      " The model finished successfully.......\n"
     ]
    }
   ],
   "source": [
    "%%bash\n",
    "\n",
    "tail -1 ~/wrf-hydro-training/output/lesson5/run_parameter_mods/diag_hydro.00000"
   ]
  },
  {
   "cell_type": "markdown",
   "metadata": {},
   "source": [
    "### Results\n",
    "We will now look at the differences in streamflow between our baseline run with default parmeters and the simulation using our new modified parameters.\n",
    "\n",
    "We will use Python and the `xarray` library to load the data and plot hydrographs. For an intro to these tools, please see [Lesson 3](Lesson-3-visualize.ipynb)."
   ]
  },
  {
   "cell_type": "markdown",
   "metadata": {},
   "source": [
    "**Load the CHANOBS streamflow datasets**\n",
    "\n",
    "We are going to use the CHANOBS files because it will limit the number of grid cells to only those which we have specified have a gage."
   ]
  },
  {
   "cell_type": "code",
   "execution_count": 24,
   "metadata": {},
   "outputs": [],
   "source": [
    "# Pull the channel output files into xarray objects \n",
    "chanobs_param_mods = xr.open_mfdataset('/home/docker/wrf-hydro-training/output/lesson5/run_parameter_mods/*CHANOBS*',\n",
    "                                       combine='by_coords')"
   ]
  },
  {
   "cell_type": "markdown",
   "metadata": {},
   "source": [
    "**Plot the hydrographs**"
   ]
  },
  {
   "cell_type": "code",
   "execution_count": 25,
   "metadata": {},
   "outputs": [
    {
     "data": {
      "image/png": "[encoded data removed]",
      "text/plain": [
       "<Figure size 1200x600 with 1 Axes>"
      ]
     },
     "metadata": {},
     "output_type": "display_data"
    }
   ],
   "source": [
    "fig, axes = plt.subplots(ncols=1,figsize=(12, 6))\n",
    "plt.suptitle('Hydrographs for parameter experiment',fontsize=24)\n",
    "chanobs_control.sel(feature_id = 2).streamflow.plot(label='Control',\n",
    "                                                    color='black',\n",
    "                                                    linestyle='--')\n",
    "chanobs_param_mods.sel(feature_id = 2).streamflow.plot(label='Parameter Modifications',\n",
    "                                                       color='red',\n",
    "                                                       linestyle='-')\n",
    "obs[obs['site_no'] == '01447720'].plot(x='dateTime',\n",
    "                                       y='streamflow_cms',\n",
    "                                       ax=axes,\n",
    "                                       label='Observed',\n",
    "                                       color='grey')\n",
    "plt.xlim([dt.date(2011, 8, 25), dt.date(2011, 9, 16)])\n",
    "plt.legend()\n",
    "plt.show()"
   ]
  },
  {
   "cell_type": "markdown",
   "metadata": {},
   "source": [
    "We see definite differences between the streamflow responses with and without parameter modifications (red solid and black dashed lines, respectively). The low streamflow bias in the original run (black) is mitigated in the \"calibrated\" run (red), and we now see a slight high bias. So where did all the new streamflow come from?\n",
    "\n",
    "**Load the LDASOUT land model output files**\n",
    "\n",
    "In our simulations, we specified land surface model output (LDASOUT) files once per day. We will read those in using xarray."
   ]
  },
  {
   "cell_type": "code",
   "execution_count": 26,
   "metadata": {},
   "outputs": [],
   "source": [
    "ldasout_baseline = xr.open_mfdataset('/home/docker/wrf-hydro-training/output/lesson5/run_parameter_baseline/*.LDASOUT*',\n",
    "                            combine='by_coords')\n",
    "ldasout_mods = xr.open_mfdataset('/home/docker/wrf-hydro-training/output/lesson5/run_parameter_mods/*.LDASOUT*',\n",
    "                            combine='by_coords')"
   ]
  },
  {
   "cell_type": "markdown",
   "metadata": {},
   "source": [
    "**Plot the mean soil moisture time series**"
   ]
  },
  {
   "cell_type": "code",
   "execution_count": 27,
   "metadata": {},
   "outputs": [
    {
     "data": {
      "image/png": "[encoded data removed]",
      "text/plain": [
       "<Figure size 1200x600 with 1 Axes>"
      ]
     },
     "metadata": {},
     "output_type": "display_data"
    }
   ],
   "source": [
    "# Calculate the mean bottom-layer soil moisture across the domain\n",
    "smois_baseline_avg = ldasout_baseline.SOIL_M.sel(soil_layers_stag = 3).mean(dim=('y','x'))\n",
    "smois_mods_avg = ldasout_mods.SOIL_M.sel(soil_layers_stag = 3).mean(dim=('y','x')) \n",
    "\n",
    "# Plot the soil moisture time series\n",
    "fig, axes = plt.subplots(ncols=1,figsize=(12, 6))\n",
    "plt.suptitle('Average Soil Moisture: Bottom Layer',fontsize=24)\n",
    "smois_baseline_avg.plot(label='Control', color='black', linestyle='--')\n",
    "smois_mods_avg.plot(label='Parameter Modifications', color='red', linestyle='-')\n",
    "plt.legend()\n",
    "plt.show()"
   ]
  },
  {
   "cell_type": "markdown",
   "metadata": {},
   "source": [
    "In the \"calibrated\" simulation, we are partitoning more water to surface runoff and encouraging faster vertical and lateral soil water drainage. Both parameter modifications result in less water being stored in the soil column, as shown in the soil moisture plot above, and more water going to streamflow."
   ]
  },
  {
   "cell_type": "markdown",
   "metadata": {},
   "source": [
    "### Discussion\n",
    "Our baseline simulation with default parameters had an initial event peak that was far too low in magnitude, too early, and overly flashy, followed by a longer prolonged flow signal well after the event. We reduced *refkdt* to better match our activated terrain physics and encourage more surface runoff. We increased *dksat* and *bexp* (controlling the vertical drainage rate) and *LKSATFAC* (controlling the lateral drainage rate) to add more spread to the flow peak. We increased *RETDEPRTFAC* to hold more ponded water at the surface. Our modified parameter experiment results do better match the gage observations, though we still have some slight timing issues (too early for the first event, too late for the second) and slightly prolonged recessions. Both could likely be mitigated through further parameter modifications.\n",
    "\n",
    "**IMPORTANT NOTE**: We abbreviated this parameter calibration exercise to fit within a short lesson. In practice, you would want to give the model time to adjust to a new parameter set by running an extended \"spin-up\" period before the time period you are evaluating. You would also want to expose the model to a wider range of conditions than the short event demostrated here. Model parameters calibrated to a short event may not transfer well to other time periods. Good practice is to calibrate your model to a wide range of conditions to minimize the impacts of forcing, gage, or model physics/parameter uncertainties."
   ]
  },
  {
   "cell_type": "markdown",
   "metadata": {},
   "source": [
    "### Other Commonly Calibrated Parameters\n",
    "\n",
    "**SLOPE**\n",
    "\n",
    "There are a number of Noah/NoahMP model parameters that affect water partitioning. One important parameter that we commonly adjust is *slope*. Originally estimated based on land surface topography (hence the name *slope*), the *slope* parameter controls how open or closed the bottom boundary of the soil column is. It is a multiplier on the bottom boundary conductivity. Values range from 0 to 1, where 0 is a completely closed bottom boundary and 1 is completely open. Lower *slope* values will keep more water in the soil column, while higher values will allow more water to drain to the channel or to deeper baseflow stores, depending on the selected baseflow physics options.\n",
    "\n",
    "**SMCMAX, SMCREF, SMCWLT**\n",
    "\n",
    "Soil water holding capacity is controlled by the porosity (*smcmax*), field capacity (*smcref*), and wilting point (*smcwlt*). These properties are specified by soil texture class, but also vary significantly in space so can be calibrated.\n"
   ]
  },
  {
   "cell_type": "markdown",
   "metadata": {},
   "source": [
    "# Next up - Do it yourself!\n",
    "This concludes Lesson 5. Spend some time creating your own parameter experiments.\n",
    "\n",
    "The next lesson is [Lesson 6](Lesson-6-lakes.ipynb).\n",
    "\n",
    "**IT IS BEST TO EITHER SHUTDOWN THIS LESSON OR CLOSE IT BEFORE PROCEEDING TO THE NEXT LESSON TO AVOID POSSIBLY EXCEEDING ALLOCATED MEMORY. Shutdown the lesson be either closing the browser tab for the lesson or selecting `Kernel -> Shut Down Kernel` in JupyterLab.**\n",
    "\n",
    "© UCAR 2025"
   ]
  }
 ],
 "metadata": {
  "kernelspec": {
   "display_name": "Python 3 (ipykernel)",
   "language": "python",
   "name": "python3"
  },
  "language_info": {
   "codemirror_mode": {
    "name": "ipython",
    "version": 3
   },
   "file_extension": ".py",
   "mimetype": "text/x-python",
   "name": "python",
   "nbconvert_exporter": "python",
   "pygments_lexer": "ipython3",
   "version": "3.12.2"
  },
  "toc": {
   "base_numbering": 1,
   "nav_menu": {},
   "number_sections": true,
   "sideBar": true,
   "skip_h1_title": true,
   "title_cell": "Table of Contents",
   "title_sidebar": "Contents",
   "toc_cell": true,
   "toc_position": {
    "height": "calc(100% - 180px)",
    "left": "10px",
    "top": "150px",
    "width": "414px"
   },
   "toc_section_display": true,
   "toc_window_display": true
  }
 },
 "nbformat": 4,
 "nbformat_minor": 4
}
