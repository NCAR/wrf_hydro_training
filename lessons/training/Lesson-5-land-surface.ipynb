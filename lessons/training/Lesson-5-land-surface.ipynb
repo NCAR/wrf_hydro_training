{
 "cells": [
  {
   "cell_type": "markdown",
   "metadata": {
    "toc": true
   },
   "source": [
    "<h1>Table of Contents<span class=\"tocSkip\"></span></h1>\n",
    "<div class=\"toc\"><ul class=\"toc-item\"><li><span><a href=\"#Overview\" data-toc-modified-id=\"Overview-1\"><span class=\"toc-item-num\">1&nbsp;&nbsp;</span>Overview</a></span><ul class=\"toc-item\"><li><span><a href=\"#Software-and-conventions\" data-toc-modified-id=\"Software-and-conventions-1.1\"><span class=\"toc-item-num\">1.1&nbsp;&nbsp;</span>Software and conventions</a></span></li><li><span><a href=\"#Compiling-WRF-Hydro\" data-toc-modified-id=\"Compiling-WRF-Hydro-1.2\"><span class=\"toc-item-num\">1.2&nbsp;&nbsp;</span>Compiling WRF-Hydro</a></span></li></ul></li><li><span><a href=\"#Experiment-with-Terrain-Routing-Options\" data-toc-modified-id=\"Experiment-with-Terrain-Routing-Options-2\"><span class=\"toc-item-num\">2&nbsp;&nbsp;</span>Experiment with Terrain Routing Options</a></span><ul class=\"toc-item\"><li><span><a href=\"#Background\" data-toc-modified-id=\"Background-2.1\"><span class=\"toc-item-num\">2.1&nbsp;&nbsp;</span>Background</a></span></li><li><span><a href=\"#Objective\" data-toc-modified-id=\"Objective-2.2\"><span class=\"toc-item-num\">2.2&nbsp;&nbsp;</span>Objective</a></span></li><li><span><a href=\"#Step-1:-Create-and-run-first-baseline-simulation\" data-toc-modified-id=\"Step-1:-Create-and-run-first-baseline-simulation-2.3\"><span class=\"toc-item-num\">2.3&nbsp;&nbsp;</span>Step 1: Create and run first baseline simulation</a></span></li><li><span><a href=\"#Step-2:-Create-and-run-the-&quot;overland-routing-off&quot;-simulation\" data-toc-modified-id=\"Step-2:-Create-and-run-the-&quot;overland-routing-off&quot;-simulation-2.4\"><span class=\"toc-item-num\">2.4&nbsp;&nbsp;</span>Step 2: Create and run the \"overland routing off\" simulation</a></span></li><li><span><a href=\"#Step-3:-Create-and-run-the-&quot;no-terrain-routing&quot;-simulation\" data-toc-modified-id=\"Step-3:-Create-and-run-the-&quot;no-terrain-routing&quot;-simulation-2.5\"><span class=\"toc-item-num\">2.5&nbsp;&nbsp;</span>Step 3: Create and run the \"no terrain routing\" simulation</a></span></li><li><span><a href=\"#Results\" data-toc-modified-id=\"Results-2.6\"><span class=\"toc-item-num\">2.6&nbsp;&nbsp;</span>Results</a></span></li></ul></li><li><span><a href=\"#Experiment-with-Modified-Parameters\" data-toc-modified-id=\"Experiment-with-Modified-Parameters-3\"><span class=\"toc-item-num\">3&nbsp;&nbsp;</span>Experiment with Modified Parameters</a></span><ul class=\"toc-item\"><li><span><a href=\"#Step-1:-Create-a-new-template-directory-and-and-run-default-parameter-test-case\" data-toc-modified-id=\"Step-1:-Create-a-new-template-directory-and-and-run-default-parameter-test-case-3.1\"><span class=\"toc-item-num\">3.1&nbsp;&nbsp;</span>Step 1: Create a new template directory and and run default parameter test case</a></span></li><li><span><a href=\"#Step-2:-Modify-NoahMP-parameters-using-NCO-tools\" data-toc-modified-id=\"Step-2:-Modify-NoahMP-parameters-using-NCO-tools-3.2\"><span class=\"toc-item-num\">3.2&nbsp;&nbsp;</span>Step 2: Modify NoahMP parameters using NCO tools</a></span></li><li><span><a href=\"#Results\" data-toc-modified-id=\"Results-3.3\"><span class=\"toc-item-num\">3.3&nbsp;&nbsp;</span>Results</a></span></li><li><span><a href=\"#Results\" data-toc-modified-id=\"Results-3.4\"><span class=\"toc-item-num\">3.4&nbsp;&nbsp;</span>Results</a></span></li></ul></li></ul></div>"
   ]
  },
  {
   "cell_type": "markdown",
   "metadata": {},
   "source": [
    "# Lesson 5 - Land Surface Experiments\n",
    "## Overview\n",
    "In Lessons 4 we experimented with different initial and boundary conditions (precipitation). In this lesson, we will experiment with different terrain physics options to evaluate impacts on streamflow. [Click here](https://ral.ucar.edu/sites/default/files/public/TerraingRouting_GroundWater.pdf) for reference material on terrain routing and groundwater in WRF-Hydro. \n",
    "\n",
    "**NOTE: If you have not completed Lessons 1 through 4, please stop and do so now.**\n",
    "\n",
    "### Software and conventions\n",
    "The easiest way to run these lessons is via the [wrfhydro/training](https://hub.docker.com/r/wrfhydro/training/) Docker container, which has all software dependencies and data pre-installed.\n",
    "\n",
    "For a complete description of the software environment used for this training please see [Getting started](http://localhost:8888/notebooks/wrf-hydro-training/lessons/Lesson-0-start.ipynb).\n",
    "\n",
    "You may either execute commands by running each cell of this notebook. Alternatively, you may open a terminal in Jupyter Lab by selecting `New -> Terminal` in your `Home` tab of Jupyter Lab and input the commands manually if you prefer. You can also use your own terminal by logging into the container with the command `docker exec -it wrf-hydro-training bash`\n",
    "\n",
    "All paths used in this lesson assume that the lesson materials are located under your home directory in a folder named `wrf-hydro-training`. If your materials are located in another directory, you will not be able to run the commands in this notebook inside Jupyter and will need to type them manually in your terminal session. \n",
    "\n",
    "### Compiling WRF-Hydro\n",
    "Below are the commands to compile WRF-Hydro. We are doing a quick short-cut to edit the setEnvar.sh to make sure HYDRO_D and SPATIAL_SOIL are both active. See [Lesson 1](http://localhost:8888/notebooks/wrf-hydro-training/lessons/Lesson-1-compile.ipynb) if you have any questions on these settings.\n",
    "\n",
    "**NOTE: You only need to do these steps if you do not already have a compiled binary. If you do, you can skip the compile steps.**"
   ]
  },
  {
   "cell_type": "code",
   "execution_count": null,
   "metadata": {
    "scrolled": true
   },
   "outputs": [],
   "source": [
    "%%bash\n",
    "# Change to the trunk/NDHMS directory and configure for gfort\n",
    "cd ~/wrf-hydro-training/wrf_hydro_nwm_public/trunk/NDHMS/; ./configure 2\n",
    "\n",
    "# Make a copy of the template environment variable file, setEnvars.sh\n",
    "cp ~/wrf-hydro-training/wrf_hydro_nwm_public/trunk/NDHMS/template/setEnvar.sh \\\n",
    "~/wrf-hydro-training/wrf_hydro_nwm_public/trunk/NDHMS/setEnvar.sh\n",
    "\n",
    "# Edit setEnvar.sh to turn on debug (HYDRO_D=1) and spatial soils (SPATIAL_SOIL=1)\n",
    "sed -i -e 's#export HYDRO_D=0#export HYDRO_D=1#g' ~/wrf-hydro-training/wrf_hydro_nwm_public/trunk/NDHMS/setEnvar.sh\n",
    "sed -i -e 's#export SPATIAL_SOIL=0#export SPATIAL_SOIL=1#g' ~/wrf-hydro-training/wrf_hydro_nwm_public/trunk/NDHMS/setEnvar.sh\n",
    "\n",
    "# Compile the code\n",
    "./compile_offline_NoahMP.sh setEnvar.sh >> compile.log 2>&1\n",
    "\n",
    "# Check to make sure it completed successfully and confirm the correct compile-time options were set.\n",
    "tail -13 ~/wrf-hydro-training/wrf_hydro_nwm_public/trunk/NDHMS/compile.log"
   ]
  },
  {
   "cell_type": "markdown",
   "metadata": {},
   "source": [
    "## Experiment with Terrain Routing Options\n",
    "### Background\n",
    "In most global and regional land surface models, model cells are simulated as independent columns and \"runoff\" is interpreted as excess surface and subsurface water that is \"scraped\" from each cell after vertical infiltration and drainage processes complete. WRF-Hydro adds functionality to allow this excess water to instead move laterally around the land surface based on topographic and head gradients. WRF-Hydro can explicitly represent overland flow processes, where infiltration and saturation excess water propagates over the surface through a diffusive wave formulation. In addition, WRF-Hydro includes shallow subsurface flow, allowing saturated soil water to move from cell to cell through a Boussinesq approximation. For more detailed information refer to [WRF-Hydro V5 Technical Description](https://ral.ucar.edu/sites/default/files/public/WRF-HydroV5TechnicalDescription.pdf). \n",
    "\n",
    "### Objective\n",
    "Experiment with lateral flow physics options, then compare hydrographs with and without terrain routing processes active.\n",
    "\n",
    "### Step 1: Create and run first baseline simulation\n",
    "As in Lesson 4, we will create a template directory to use for the terrain physics experiments.\n",
    "\n",
    "**Step 1a: Create a template run directory**"
   ]
  },
  {
   "cell_type": "code",
   "execution_count": null,
   "metadata": {
    "scrolled": true
   },
   "outputs": [],
   "source": [
    "%%bash\n",
    "# Make a new directory for our baseline simulation\n",
    "mkdir -p ~/wrf-hydro-training/output/lesson5/run_gridded_template\n",
    "\n",
    "# Copy our model files to the simulation directory\n",
    "cp ~/wrf-hydro-training/wrf_hydro_nwm_public/trunk/NDHMS/Run/*.TBL \\\n",
    "~/wrf-hydro-training/output/lesson5/run_gridded_template\n",
    "cp ~/wrf-hydro-training/wrf_hydro_nwm_public/trunk/NDHMS/Run/wrf_hydro.exe \\\n",
    "~/wrf-hydro-training/output/lesson5/run_gridded_template\n",
    "cp ~/wrf-hydro-training/example_case/Gridded/namelist.hrldas \\\n",
    "~/wrf-hydro-training/output/lesson5/run_gridded_template\n",
    "cp ~/wrf-hydro-training/example_case/Gridded/hydro.namelist \\\n",
    "~/wrf-hydro-training/output/lesson5/run_gridded_template\n",
    "\n",
    "# Create symbolic links to large domain files\n",
    "cp -as $HOME/wrf-hydro-training/example_case/FORCING \\\n",
    "~/wrf-hydro-training/output/lesson5/run_gridded_template\n",
    "cp -as $HOME/wrf-hydro-training/example_case/Gridded/RESTART \\\n",
    "~/wrf-hydro-training/output/lesson5/run_gridded_template\n",
    "cp -as $HOME/wrf-hydro-training/example_case/Gridded/DOMAIN \\\n",
    "~/wrf-hydro-training/output/lesson5/run_gridded_template\n"
   ]
  },
  {
   "cell_type": "markdown",
   "metadata": {},
   "source": [
    "**Step 1b: Now make a copy of the template directory and run the baseline simulation**\n",
    "\n",
    "First, we remind ourselves what we are running as a baseline. Note in particular that `OVRTSWCRT=1` and `SUBRTSWCRT=1`, meaning that both overland and subsurface flow routing options are active."
   ]
  },
  {
   "cell_type": "code",
   "execution_count": null,
   "metadata": {
    "scrolled": false
   },
   "outputs": [],
   "source": [
    "%%bash\n",
    "# Make a copy of the template directory for the baseline run\n",
    "cp -r ~/wrf-hydro-training/output/lesson5/run_gridded_template \\\n",
    "~/wrf-hydro-training/output/lesson5/run_gridded_baseline\n",
    "# View the hydro.namelist settings\n",
    "cat ~/wrf-hydro-training/output/lesson5/run_gridded_baseline/hydro.namelist"
   ]
  },
  {
   "cell_type": "markdown",
   "metadata": {},
   "source": [
    "Now run the baseline model simulation as-is."
   ]
  },
  {
   "cell_type": "code",
   "execution_count": null,
   "metadata": {
    "scrolled": true
   },
   "outputs": [],
   "source": [
    "%%bash\n",
    "# Run the simulation\n",
    "cd ~/wrf-hydro-training/output/lesson5/run_gridded_baseline\n",
    "mpirun -np 2 ./wrf_hydro.exe >> run.log 2>&1"
   ]
  },
  {
   "cell_type": "markdown",
   "metadata": {},
   "source": [
    "Check that the simulation finished successfully"
   ]
  },
  {
   "cell_type": "code",
   "execution_count": null,
   "metadata": {
    "scrolled": false
   },
   "outputs": [],
   "source": [
    "%%bash\n",
    "tail -1 ~/wrf-hydro-training/output/lesson5/run_gridded_baseline/diag_hydro.00000"
   ]
  },
  {
   "cell_type": "markdown",
   "metadata": {},
   "source": [
    "### Step 2: Create and run the \"overland routing off\" simulation\n",
    "We will run the same experiment as the above baseline run, but with the overland routing module turned off.\n",
    "\n",
    "**Step 2a: Create a new run directory**\n",
    "\n",
    "We first create a `run_overland_routing_off` directory from the template."
   ]
  },
  {
   "cell_type": "code",
   "execution_count": null,
   "metadata": {
    "scrolled": true
   },
   "outputs": [],
   "source": [
    "%%bash\n",
    "cp -r ~/wrf-hydro-training/output/lesson5/run_gridded_template \\\n",
    "~/wrf-hydro-training/output/lesson5/run_overland_routing_off"
   ]
  },
  {
   "cell_type": "markdown",
   "metadata": {},
   "source": [
    "We will make one modification to `hydro.namelist` to turn off the overland routing modules. \n",
    "\n",
    "**Step 2b: Edit the `hydro.namelist` file**\n",
    "\n",
    "For this experiment, we will set the *OVRTSWCRT* physics option to 0, which deactivates overland terrain routing modules. \n",
    "\n",
    "```\n",
    "! Switch to activate surface overland flow routing...(0=no, 1=yes)\n",
    "OVRTSWCRT = 0\n",
    "```\n",
    "\n",
    "**Step 2c: Run the simulation and make sure it finishes successfully**"
   ]
  },
  {
   "cell_type": "code",
   "execution_count": null,
   "metadata": {
    "scrolled": true
   },
   "outputs": [],
   "source": [
    "%%bash\n",
    "cd ~/wrf-hydro-training/output/lesson5/run_overland_routing_off\n",
    "mpirun -np 2 ./wrf_hydro.exe >> run.log 2>&1"
   ]
  },
  {
   "cell_type": "markdown",
   "metadata": {},
   "source": [
    "Check that the simulation finished successfully"
   ]
  },
  {
   "cell_type": "code",
   "execution_count": null,
   "metadata": {
    "scrolled": false
   },
   "outputs": [],
   "source": [
    "%%bash\n",
    "tail -1 ~/wrf-hydro-training/output/lesson5/run_overland_routing_off/diag_hydro.00000"
   ]
  },
  {
   "cell_type": "markdown",
   "metadata": {},
   "source": [
    "### Step 3: Create and run the \"no terrain routing\" simulation\n",
    "Now we run an experiment with all terrain routing options turned off. This will approximate a standard column physics configuration.\n",
    "\n",
    "**Step 3a: Create a new run directory**\n",
    "\n",
    "We first create a `run_no_terrain_routing` directory from the template."
   ]
  },
  {
   "cell_type": "code",
   "execution_count": null,
   "metadata": {
    "scrolled": true
   },
   "outputs": [],
   "source": [
    "%%bash\n",
    "cp -r ~/wrf-hydro-training/output/lesson5/run_gridded_template \\\n",
    "~/wrf-hydro-training/output/lesson5/run_no_terrain_routing"
   ]
  },
  {
   "cell_type": "markdown",
   "metadata": {},
   "source": [
    "**Step3b: Edit the `hydro.namelist` file**\n",
    "We will make three modifications to `hydro.namelist` to turn off all of the terrain routing modules. \n",
    "\n",
    "For this experiment, we will set the *OVRTSWCRT* and *SUBRTSWCRT* physics options to 0, which deactivates both overland and subsurface terrain routing modules. \n",
    "\n",
    "```\n",
    "! Switch to activate subsurface routing...(0=no, 1=yes)\n",
    "SUBRTSWCRT = 0\n",
    "```\n",
    "```\n",
    "! Switch to activate surface overland flow routing...(0=no, 1=yes)\n",
    "OVRTSWCRT = 0\n",
    "```\n",
    "\n",
    "Since we are deactivating all terrain routing physics, we also need to tell the model not to overwrite initial conditions with the routing grids using the *rst_typ* option. Deactivate this function by setting *rst_typ* to 0.\n",
    "\n",
    "```\n",
    "! Reset the LSM soil states from the high-res routing restart file (1=overwrite, 0=no overwrite)\n",
    "! NOTE: Only turn this option on if overland or subsurface rotuing is active!\n",
    "rst_typ = 0\n",
    "```\n",
    "\n",
    "**Step 3c: Run the simulation**"
   ]
  },
  {
   "cell_type": "code",
   "execution_count": null,
   "metadata": {
    "scrolled": true
   },
   "outputs": [],
   "source": [
    "%%bash\n",
    "cd ~/wrf-hydro-training/output/lesson5/run_no_terrain_routing\n",
    "mpirun -np 2 ./wrf_hydro.exe >> run.log 2>&1"
   ]
  },
  {
   "cell_type": "markdown",
   "metadata": {},
   "source": [
    "Check that the simulation finished successfully"
   ]
  },
  {
   "cell_type": "code",
   "execution_count": null,
   "metadata": {
    "scrolled": false
   },
   "outputs": [],
   "source": [
    "%%bash\n",
    "tail -1 ~/wrf-hydro-training/output/lesson5/run_no_terrain_routing/diag_hydro.00000"
   ]
  },
  {
   "cell_type": "markdown",
   "metadata": {},
   "source": [
    "### Results\n",
    "We will now look at the differences in streamflow between our baseline run with all terrain routing options on and our experiments with different terrain routing options turned off.\n",
    "\n",
    "We will use Python and the `xarray` library to load the data and plot hydrographs. For an intro to these tools, please see Lesson 3.\n",
    "\n",
    "**Load the xarray python package**"
   ]
  },
  {
   "cell_type": "code",
   "execution_count": null,
   "metadata": {
    "scrolled": true
   },
   "outputs": [],
   "source": [
    "# Load the xarray package\n",
    "%matplotlib inline\n",
    "import xarray as xr\n",
    "import matplotlib.pyplot as plt\n",
    "import pandas as pd"
   ]
  },
  {
   "cell_type": "markdown",
   "metadata": {},
   "source": [
    "**Load the CHANOBS streamflow datasets**\n",
    "\n",
    "We are going to use the CHANOBS files (vs. CHRTOUT files) because it will limit the number of reaches to only those which have a gage."
   ]
  },
  {
   "cell_type": "code",
   "execution_count": null,
   "metadata": {
    "scrolled": true
   },
   "outputs": [],
   "source": [
    "chanobs_control = xr.open_mfdataset('/home/docker/wrf-hydro-training/output/lesson5/run_gridded_baseline/*CHANOBS*',\n",
    "                            combine='by_coords')\n",
    "chanobs_ov_off = xr.open_mfdataset('/home/docker/wrf-hydro-training/output/lesson5/run_overland_routing_off/*CHANOBS*',\n",
    "                            combine='by_coords')\n",
    "chanobs_terrain_off = xr.open_mfdataset('/home/docker/wrf-hydro-training/output/lesson5/run_no_terrain_routing/*CHANOBS*',\n",
    "                            combine='by_coords')\n",
    "obs = pd.read_csv('/home/docker/wrf-hydro-training/example_case/obs_event.csv',dtype=str)\n",
    "obs['dateTime'] = pd.to_datetime(obs['DATE'])\n",
    "obs['streamflow_cms'] = pd.to_numeric(obs['streamflow_cms'])"
   ]
  },
  {
   "cell_type": "markdown",
   "metadata": {},
   "source": [
    "**Plot the hydrographs**"
   ]
  },
  {
   "cell_type": "code",
   "execution_count": null,
   "metadata": {
    "scrolled": false
   },
   "outputs": [],
   "source": [
    "fig, axes = plt.subplots(ncols=1,figsize=(12, 6))\n",
    "plt.suptitle('Hydrographs for terrain routing physics options',fontsize=24)\n",
    "chanobs_control.sel(feature_id = 3).streamflow.plot(label='All Terrain Routing On',\n",
    "                                                        color='black',\n",
    "                                                        linestyle='--')\n",
    "chanobs_ov_off.sel(feature_id = 3).streamflow.plot(label='Overland Routing Off',\n",
    "                                                        color='blue',\n",
    "                                                        linestyle='-')\n",
    "chanobs_terrain_off.sel(feature_id = 3).streamflow.plot(label='No Terrain Routing',\n",
    "                                                        color='red',\n",
    "                                                        linestyle='-')\n",
    "\n",
    "obs[obs['Location'] == 'Desague'].plot(x='dateTime',\n",
    "                                       y='streamflow_cms',\n",
    "                                       ax=axes,\n",
    "                                       label='Observed',\n",
    "                                       color='grey')\n",
    "plt.ylim(0,16)\n",
    "plt.legend()\n",
    "plt.show()"
   ]
  },
  {
   "cell_type": "markdown",
   "metadata": {},
   "source": [
    "\n",
    "**Load the LDASOUT land model output files**\n",
    "\n",
    "In our simulations, we specified land surface model output (LDASOUT) files every hour. We will read those in using xarray."
   ]
  },
  {
   "cell_type": "code",
   "execution_count": null,
   "metadata": {
    "scrolled": true
   },
   "outputs": [],
   "source": [
    "ldasout_terrain_on = xr.open_mfdataset('/home/docker/wrf-hydro-training/output/lesson5/run_gridded_baseline/*.LDASOUT*',\n",
    "                            combine='by_coords')\n",
    "ldasout_terrain_off = xr.open_mfdataset('/home/docker/wrf-hydro-training/output/lesson5/run_no_terrain_routing/*.LDASOUT*',\n",
    "                            combine='by_coords')"
   ]
  },
  {
   "cell_type": "markdown",
   "metadata": {},
   "source": [
    "**Plot the soil moisture states**\n",
    "\n",
    "Among other variables, the LDASOUT files include soil moisture states (*SOIL_M*) in each of the 4 soil layers. We will select and plot soil moisture in the top soil layer from each simulation at 2011-08-29 00Z. For reference, we also plot the soil types from the model input geogrid file."
   ]
  },
  {
   "cell_type": "code",
   "execution_count": null,
   "metadata": {
    "scrolled": false
   },
   "outputs": [],
   "source": [
    "# Select data for 2017-11-16 12Z at surface layer\n",
    "ldasout_terrain_on_time = ldasout_terrain_on.sel(time = '2017-11-16T12:00:00').sel(soil_layers_stag = 0)\n",
    "ldasout_terrain_off_time = ldasout_terrain_off.sel(time = '2017-11-16T12:00:00').sel(soil_layers_stag = 0)\n",
    "\n",
    "# Plot the top layer soil moisture states\n",
    "fig, axes = plt.subplots(ncols=2,figsize=(12, 6))\n",
    "plt.suptitle('Surface soil moisture states for terrain routing on and off',fontsize=24)\n",
    "ldasout_terrain_on_time.SOIL_M.plot(ax=axes[0],vmin=0.30,vmax=0.45,cmap='viridis_r')\n",
    "axes[0].set_title('Terrain routing on')\n",
    "ldasout_terrain_off_time.SOIL_M.plot(ax=axes[1],vmin=0.30,vmax=0.45,cmap='viridis_r')\n",
    "axes[1].set_title('Terrain routing off')\n",
    "plt.show()"
   ]
  },
  {
   "cell_type": "code",
   "execution_count": null,
   "metadata": {
    "scrolled": true
   },
   "outputs": [],
   "source": [
    "# Load the geogrid dataset for reference\n",
    "geogrid = xr.open_dataset('~/wrf-hydro-training/output/lesson5/run_gridded_baseline/DOMAIN/geo_em.d01.nc')"
   ]
  },
  {
   "cell_type": "code",
   "execution_count": null,
   "metadata": {
    "scrolled": false
   },
   "outputs": [],
   "source": [
    "# Plot the dominant soil type\n",
    "fig, axes = plt.subplots(figsize=(6, 6))\n",
    "geogrid.SCT_DOM.plot(cmap=\"tab20\")\n",
    "axes.set_title('Soil Type')\n",
    "plt.show()"
   ]
  },
  {
   "cell_type": "markdown",
   "metadata": {},
   "source": [
    "The top-level soil moisture state shows significant differences with and without terrain routing active. Overall, we see much more heterogeneity in the \"terrain routing on\" run (above, left) due to lateral redistribution of water. In the \"terrain routing off\" run (above, right), soil moisture distribution is largely controlled by vertical soil properties (e.g., saturated hydraulic conductivity, porosity), and you distinctly see the soil type pattern in the soil moisture states."
   ]
  },
  {
   "cell_type": "markdown",
   "metadata": {},
   "source": [
    "**Plot the mean soil moisture time series**"
   ]
  },
  {
   "cell_type": "code",
   "execution_count": null,
   "metadata": {
    "scrolled": false
   },
   "outputs": [],
   "source": [
    "# Calculate the mean bottom-layer soil moisture across the domain\n",
    "smois_terron_avg = ldasout_terrain_on.SOIL_M.sel(soil_layers_stag = 3).mean(dim=('y','x'))\n",
    "smois_terroff_avg = ldasout_terrain_off.SOIL_M.sel(soil_layers_stag = 3).mean(dim=('y','x')) \n",
    "\n",
    "# Plot the soil moisture time series\n",
    "fig, axes = plt.subplots(ncols=1,figsize=(12, 6))\n",
    "plt.suptitle('Average Soil Moisture: Bottom Layer',fontsize=24)\n",
    "smois_terron_avg.plot(label='Terrain Routing On', color='black', linestyle='-')\n",
    "smois_terroff_avg.plot(label='Terrain Routing Off', color='red', linestyle='-')\n",
    "plt.legend()\n",
    "plt.show()"
   ]
  },
  {
   "cell_type": "markdown",
   "metadata": {},
   "source": [
    "**Load the GWOUT groundwater bucket model output files**"
   ]
  },
  {
   "cell_type": "code",
   "execution_count": null,
   "metadata": {
    "scrolled": true
   },
   "outputs": [],
   "source": [
    "gwbucket_terrain_on = xr.open_mfdataset('/home/docker/wrf-hydro-training/output/lesson5/run_gridded_baseline/*GWOUT*',\n",
    "                            combine='by_coords')\n",
    "gwbucket_terrain_off = xr.open_mfdataset('/home/docker/wrf-hydro-training/output/lesson5/run_no_terrain_routing/*GWOUT*',\n",
    "                            combine='by_coords')\n",
    "gwbucket_ov_off = xr.open_mfdataset('/home/docker/wrf-hydro-training/output/lesson5/run_overland_routing_off/*GWOUT*',\n",
    "                            combine='by_coords')"
   ]
  },
  {
   "cell_type": "markdown",
   "metadata": {},
   "source": [
    "**Plot the mean groundwater bucket level time series**\n",
    "\n",
    "Note that groundwater bucket \"basins\" vary in size, so a simple mean is not a good way to track mass. We do it here for simplicity and to get a general sense of the bucket behavior across the domain."
   ]
  },
  {
   "cell_type": "code",
   "execution_count": null,
   "metadata": {
    "scrolled": false
   },
   "outputs": [],
   "source": [
    "# Calculate the mean bucket level across the domain\n",
    "gwlevel_terron_avg = gwbucket_terrain_on.depth.mean(dim=('feature_id'))\n",
    "gwlevel_terroff_avg = gwbucket_terrain_off.depth.mean(dim=('feature_id')) \n",
    "\n",
    "# Plot the bucket level time series\n",
    "fig, axes = plt.subplots(ncols=1,figsize=(12, 6))\n",
    "plt.suptitle('Average Groundwater Bucket Level',fontsize=24)\n",
    "gwlevel_terron_avg.plot(label='Terrain Routing On', color='black', linestyle='-')\n",
    "gwlevel_terroff_avg.plot(label='Terrain Routing Off', color='red', linestyle='-')\n",
    "plt.legend()\n",
    "plt.show()"
   ]
  },
  {
   "cell_type": "markdown",
   "metadata": {},
   "source": [
    "**IMPORTANT NOTE**: This particular test case has been calibrated to the full terrain routing physics options, so will obviously be sub-optimal for a different physics configuration. You should adjust your parameters to your particular model configuration. You should also re-spinup the model to give it time to adjust to the new physics. We have done neither of those steps in this short example."
   ]
  },
  {
   "cell_type": "markdown",
   "metadata": {},
   "source": [
    "## Experiment with Modified Parameters\n",
    "There are a number of key parameters that impact water partitioning, storage, and movement through the model system. We have pulled many of the most important model parameters into NetCDF files to ease parameter display and manipulation, as well as to allow the parameters to vary independently in space. Key terrain routing parameter files include:\n",
    "* soil_properties.nc - NoahMP soil and vegetation properties (LSM grid)\n",
    "* hydro2dtbl.nc - Lateral routing model soil and surface parameters (LSM grid)\n",
    "* Fulldom_hires.nc - Lateral routing model high-res parameters (routing grid)\n",
    "* GWBUCKPARM.nc - Groundwater baseflow bucket model parameters (groundwater basin objects)\n",
    "\n",
    "In this lesson, we will manipulate parameters in the `soil_properties.nc` (*refkdt*, *dksat*, *bexp*, *slope*) file.\n",
    "\n",
    "### Step 1: Create a new template directory and and run default parameter test case\n",
    "As in the first section, we will make a new simulation directory and use this as a template for creating multiple new simulation directories.\n",
    "\n",
    "**Step 1a: Create a new template directory for the parameter experiments.**"
   ]
  },
  {
   "cell_type": "code",
   "execution_count": null,
   "metadata": {
    "scrolled": true
   },
   "outputs": [],
   "source": [
    "%%bash\n",
    "# Make a new directory for our default baseline simulation\n",
    "mkdir -p ~/wrf-hydro-training/output/lesson5/run_default_template\n",
    "\n",
    "# Copy our model files to the simulation directory\n",
    "cp ~/wrf-hydro-training/wrf_hydro_nwm_public/trunk/NDHMS/Run/*.TBL \\\n",
    "~/wrf-hydro-training/output/lesson5/run_default_template\n",
    "cp ~/wrf-hydro-training/wrf_hydro_nwm_public/trunk/NDHMS/Run/wrf_hydro.exe \\\n",
    "~/wrf-hydro-training/output/lesson5/run_default_template\n",
    "cp ~/wrf-hydro-training/output/lesson5/run_gridded_template/namelist.hrldas \\\n",
    "~/wrf-hydro-training/output/lesson5/run_default_template\n",
    "cp ~/wrf-hydro-training/output/lesson5/run_gridded_template/hydro.namelist \\\n",
    "~/wrf-hydro-training/output/lesson5/run_default_template\n",
    "\n",
    "# Create symbolic links to large domain files\n",
    "cp -as $HOME/wrf-hydro-training/example_case/FORCING \\\n",
    "~/wrf-hydro-training/output/lesson5/run_default_template\n",
    "cp -as $HOME/wrf-hydro-training/example_case/Gridded/RESTART \\\n",
    "~/wrf-hydro-training/output/lesson5/run_default_template\n",
    "cp -as $HOME/wrf-hydro-training/example_case/Gridded/DOMAIN \\\n",
    "~/wrf-hydro-training/output/lesson5/run_default_template\n"
   ]
  },
  {
   "cell_type": "markdown",
   "metadata": {},
   "source": [
    "**Step 1b: Setup and run the default parameter baseline experiment**\n",
    "\n",
    "We now make a new run directory to run the baseline simulation with default (uncalibrated) parameters."
   ]
  },
  {
   "cell_type": "code",
   "execution_count": null,
   "metadata": {
    "scrolled": true
   },
   "outputs": [],
   "source": [
    "%%bash\n",
    "cp -r ~/wrf-hydro-training/output/lesson5/run_default_template \\\n",
    "~/wrf-hydro-training/output/lesson5/run_parameter_baseline"
   ]
  },
  {
   "cell_type": "markdown",
   "metadata": {},
   "source": [
    "Launch the baseline run and make sure it completes successfully."
   ]
  },
  {
   "cell_type": "code",
   "execution_count": null,
   "metadata": {
    "scrolled": true
   },
   "outputs": [],
   "source": [
    "%%bash\n",
    "cd ~/wrf-hydro-training/output/lesson5/run_parameter_baseline\n",
    "mpirun -np 2 ./wrf_hydro.exe >> run.log 2>&1"
   ]
  },
  {
   "cell_type": "code",
   "execution_count": null,
   "metadata": {
    "scrolled": false
   },
   "outputs": [],
   "source": [
    "%%bash\n",
    "tail -1 ~/wrf-hydro-training/output/lesson5/run_parameter_baseline/diag_hydro.00000"
   ]
  },
  {
   "cell_type": "markdown",
   "metadata": {},
   "source": [
    "**Step 1c: Plot the hydrograph for the baseline (default) run**\n",
    "\n",
    "We want to take a quick look at the hydrograph for the default parameter run so we see what behavior we might want to adjust."
   ]
  },
  {
   "cell_type": "code",
   "execution_count": null,
   "metadata": {
    "scrolled": false
   },
   "outputs": [],
   "source": [
    "# Load the xarray package\n",
    "%matplotlib inline\n",
    "import xarray as xr\n",
    "import matplotlib.pyplot as plt\n",
    "import pandas as pd\n",
    "\n",
    "# Pull the channel output files into xarray objects \n",
    "chanobs_control = xr.open_mfdataset('/home/docker/wrf-hydro-training/output/lesson5/run_parameter_baseline/*CHANOBS*',\n",
    "                            combine='by_coords')\n",
    "obs = pd.read_csv('/home/docker/wrf-hydro-training/example_case/obs_event.csv',dtype=str)\n",
    "obs['dateTime'] = pd.to_datetime(obs['DATE'])\n",
    "obs['streamflow_cms'] = pd.to_numeric(obs['streamflow_cms'])\n",
    "\n",
    "# Plot the baseline hydrograph\n",
    "fig, axes = plt.subplots(ncols=1,figsize=(12, 6))\n",
    "plt.suptitle('Hydrographs for parameter experiment',fontsize=24)\n",
    "chanobs_control.sel(feature_id = 3).streamflow.plot(label='Control',\n",
    "                                                        color='black',\n",
    "                                                        linestyle='--')\n",
    "obs[obs['Location'] == 'Desague'].plot(x='dateTime',\n",
    "                                       y='streamflow_cms',\n",
    "                                       ax=axes,\n",
    "                                       label='Observed',\n",
    "                                       color='grey')\n",
    "plt.ylim(0,30)\n",
    "plt.legend()\n",
    "plt.show()"
   ]
  },
  {
   "cell_type": "markdown",
   "metadata": {},
   "source": [
    "### Step 2: Modify NoahMP parameters using NCO tools\n",
    "\n",
    "We will create a new simulation directory for our parameter manipulation experiment. All of the parameter file edits will be done using NCO. NCO (NetCDF Operators, http://nco.sourceforge.net/) is a set of useful utilities to manipulate NetCDF files.\n",
    "\n",
    "**Step 2a: Setup the parameter experiment run directory**\n",
    "\n",
    "First make a new run directory where we can start modifying parameter files."
   ]
  },
  {
   "cell_type": "code",
   "execution_count": null,
   "metadata": {
    "scrolled": true
   },
   "outputs": [],
   "source": [
    "%%bash\n",
    "cp -r ~/wrf-hydro-training/output/lesson5/run_default_template \\\n",
    "~/wrf-hydro-training/output/lesson5/run_parameter_mods"
   ]
  },
  {
   "cell_type": "markdown",
   "metadata": {},
   "source": [
    "**Step 2b: Use the NCO command `ncap2` to modify the *refkdt* parameter values in the `soil_properties.nc` file.**\n",
    "\n",
    "**REFKDT**\n",
    "\n",
    "There are a number of model parameters that affect lateral terrain flow. One important Noah/NoahMP parameter that we commonly adjust when activating terrain routing is *refkdt*. *Refkdt* controls how easily precipitation reaching the surface infiltrates into the soil column vs. stays on the surface where it will be \"scraped\" off as surface runoff. Higher values of *refkdt* lead to more infiltration and less surface (fast) runoff. This tunable parameter can be set to a relatively high value (e.g., 3.0) suitable for running the column land surface model only. When activating terrain routing to explicitly model these processes, we often reduce this parameter. In addition, if you are calling the land surface model on a small timestep (e.g., seconds to minutes), you may want to reduce this parameter to compensate for the more frequent calls to the vertical infiltration scheme. \n",
    "\n",
    "Here we will use the NCO command `ncap2` to decrease the *refkdt* value.\n",
    "\n",
    "First, we check the current parameter values using `ncdump`."
   ]
  },
  {
   "cell_type": "code",
   "execution_count": null,
   "metadata": {
    "scrolled": true
   },
   "outputs": [],
   "source": [
    "%%bash\n",
    "ncdump -v refkdt ~/wrf-hydro-training/output/lesson5/run_parameter_mods/DOMAIN/soil_properties.nc \\\n",
    "| tail -n 10"
   ]
  },
  {
   "cell_type": "markdown",
   "metadata": {},
   "source": [
    "The default value for *refkdt* is a global 3.0. We modify the parameter values using `ncap2` to a lower value (0.1) to encourage less infiltration and more flow available for exfiltration to the channel."
   ]
  },
  {
   "cell_type": "code",
   "execution_count": null,
   "metadata": {
    "scrolled": true
   },
   "outputs": [],
   "source": [
    "%%bash\n",
    "ncap2 -O -s \"refkdt=refkdt*0.0+0.1\" \\\n",
    "~/wrf-hydro-training/output/lesson5/run_parameter_mods/DOMAIN/soil_properties.nc \\\n",
    "~/wrf-hydro-training/output/lesson5/run_parameter_mods/DOMAIN/soil_properties.nc"
   ]
  },
  {
   "cell_type": "markdown",
   "metadata": {},
   "source": [
    "We check to make sure the changes are as expected."
   ]
  },
  {
   "cell_type": "code",
   "execution_count": null,
   "metadata": {
    "scrolled": true
   },
   "outputs": [],
   "source": [
    "%%bash\n",
    "ncdump -v refkdt ~/wrf-hydro-training/output/lesson5/run_parameter_mods/DOMAIN/soil_properties.nc \\\n",
    "| tail -n 10"
   ]
  },
  {
   "cell_type": "markdown",
   "metadata": {},
   "source": [
    "**Step 3b: Run the simulation**\n",
    "\n",
    "Now we are ready to run a simulation with our new modified parameters."
   ]
  },
  {
   "cell_type": "code",
   "execution_count": null,
   "metadata": {
    "scrolled": true
   },
   "outputs": [],
   "source": [
    "%%bash\n",
    "cd ~/wrf-hydro-training/output/lesson5/run_parameter_mods\n",
    "mpirun -np 2 ./wrf_hydro.exe >> run.log 2>&1"
   ]
  },
  {
   "cell_type": "markdown",
   "metadata": {},
   "source": [
    "Check to make sure your run completed successfully."
   ]
  },
  {
   "cell_type": "code",
   "execution_count": null,
   "metadata": {
    "scrolled": false
   },
   "outputs": [],
   "source": [
    "%%bash\n",
    "tail -1 ~/wrf-hydro-training/output/lesson5/run_parameter_mods/diag_hydro.00000"
   ]
  },
  {
   "cell_type": "markdown",
   "metadata": {},
   "source": [
    "### Results\n",
    "We will now look at the differences in streamflow between our baseline run with default parmeters and the simulation using our new modified parameters.\n",
    "\n",
    "We will use Python and the `xarray` library to load the data and plot hydrographs. For an intro to these tools, please see Lesson 3."
   ]
  },
  {
   "cell_type": "code",
   "execution_count": null,
   "metadata": {},
   "outputs": [],
   "source": [
    "chanobs_control = xr.open_mfdataset('/home/docker/wrf-hydro-training/output/lesson5/run_parameter_baseline/*CHANOBS*',\n",
    "                            combine='by_coords')\n",
    "chanobs_param_mods = xr.open_mfdataset('/home/docker/wrf-hydro-training/output/lesson5/run_parameter_mods/*CHANOBS*',\n",
    "                            combine='by_coords')"
   ]
  },
  {
   "cell_type": "code",
   "execution_count": null,
   "metadata": {},
   "outputs": [],
   "source": [
    "fig, axes = plt.subplots(ncols=1,figsize=(12, 6))\n",
    "plt.suptitle('Hydrographs for parameter experiment',fontsize=24)\n",
    "chanobs_control.sel(feature_id = 3).streamflow.plot(label='Control, refkdt=3',\n",
    "                                                        color='black',\n",
    "                                                        linestyle='--')\n",
    "chanobs_param_mods.sel(feature_id = 3).streamflow.plot(label='refkdt=0.1',\n",
    "                                                        color='blue',\n",
    "                                                        linestyle='-')\n",
    "obs[obs['Location'] == 'Desague'].plot(x='dateTime',\n",
    "                                       y='streamflow_cms',\n",
    "                                       ax=axes,\n",
    "                                       label='Observed',\n",
    "                                       color='grey')\n",
    "plt.ylim(0,15)\n",
    "plt.legend()\n",
    "plt.show()"
   ]
  },
  {
   "cell_type": "markdown",
   "metadata": {},
   "source": [
    "\n",
    "**Step 2c: Use the NCO command ncap2 to modify the bexp parameter values in the soil_properties.nc file.**\n",
    "\n",
    "**BEXP**\n",
    "\n",
    "The bexp parameter controls how actual conductivity is scaled from saturated conductivity based on soil water content. Initial values are estimated based on soil texture class, but reported ranges have large (many orders of magnitude) variability.\n",
    "\n",
    "The equation for the application of the BEXP parameter in the calculation of unsaturated hydaulic conductivity (WCND) the NoahMP code is as follows:\n",
    "\n",
    " WCND  = parameters%DKSAT(ISOIL) * FACTR2 ** EXPON\n",
    " where: \n",
    "   parameters%DKSAT(ISOIL) is the saturated hydraulic conductivity (DKSAT) value\n",
    "   FACTR2 is fraction of actual to saturated soil water content [MAX(0.01, SMC/parameters%SMCMAX(ISOIL))]   \n",
    "   EXPON is 2.0*parameters%BEXP(ISOIL) + 3.0\n",
    "\n",
    "First we make a new directory and repeat our previous change to refkdt so that we are building on the previous experiment.\n"
   ]
  },
  {
   "cell_type": "code",
   "execution_count": null,
   "metadata": {},
   "outputs": [],
   "source": [
    "%%bash\n",
    "cp -r ~/wrf-hydro-training/output/lesson5/run_default_template \\\n",
    "~/wrf-hydro-training/output/lesson5/run_parameter_mods2\n",
    "\n",
    "ncap2 -O -s \"refkdt=refkdt*0.0+0.1\" \\\n",
    "~/wrf-hydro-training/output/lesson5/run_parameter_mods2/DOMAIN/soil_properties.nc \\\n",
    "~/wrf-hydro-training/output/lesson5/run_parameter_mods2/DOMAIN/soil_properties.nc\n"
   ]
  },
  {
   "cell_type": "markdown",
   "metadata": {},
   "source": [
    "First, we check the current parameter values using `ncdump`. Note that these also vary spatially by soil type."
   ]
  },
  {
   "cell_type": "code",
   "execution_count": null,
   "metadata": {},
   "outputs": [],
   "source": [
    "%%bash\n",
    "ncdump -v bexp ~/wrf-hydro-training/output/lesson5/run_parameter_mods2/DOMAIN/soil_properties.nc \\\n",
    "| tail -n 10"
   ]
  },
  {
   "cell_type": "markdown",
   "metadata": {},
   "source": [
    "Here we will use the NCO command `ncap2` to decrease *bexp* by a factor of 0.5 to promote more runoff."
   ]
  },
  {
   "cell_type": "code",
   "execution_count": null,
   "metadata": {
    "scrolled": false
   },
   "outputs": [],
   "source": [
    "%%bash\n",
    "ncap2 -O -s \"bexp=bexp*0.5\" \\\n",
    "~/wrf-hydro-training/output/lesson5/run_parameter_mods2/DOMAIN/soil_properties.nc \\\n",
    "~/wrf-hydro-training/output/lesson5/run_parameter_mods2/DOMAIN/soil_properties.nc\n",
    "ncdump -v bexp ~/wrf-hydro-training/output/lesson5/run_parameter_mods2/DOMAIN/soil_properties.nc \\\n",
    "| tail -n 10"
   ]
  },
  {
   "cell_type": "markdown",
   "metadata": {},
   "source": [
    "Now we will run the simulation with the decreased *bexp* and then plot the hydrographs."
   ]
  },
  {
   "cell_type": "code",
   "execution_count": null,
   "metadata": {},
   "outputs": [],
   "source": [
    "%%bash\n",
    "cd ~/wrf-hydro-training/output/lesson5/run_parameter_mods2\n",
    "mpirun -np 2 ./wrf_hydro.exe >> run.log 2>&1"
   ]
  },
  {
   "cell_type": "code",
   "execution_count": null,
   "metadata": {},
   "outputs": [],
   "source": [
    "chanobs_param_mods2 = xr.open_mfdataset('/home/docker/wrf-hydro-training/output/lesson5/run_parameter_mods2/*CHANOBS*',\n",
    "                            combine='by_coords')"
   ]
  },
  {
   "cell_type": "code",
   "execution_count": null,
   "metadata": {},
   "outputs": [],
   "source": [
    "fig, axes = plt.subplots(ncols=1,figsize=(12, 6))\n",
    "plt.suptitle('Hydrographs for parameter experiment',fontsize=24)\n",
    "chanobs_control.sel(feature_id = 3).streamflow.plot(label='Control, w/refkdt=3',\n",
    "                                                        color='black',\n",
    "                                                        linestyle='--')\n",
    "chanobs_param_mods.sel(feature_id = 3).streamflow.plot(label='refkdt=0.1',\n",
    "                                                        color='blue',\n",
    "                                                        linestyle='-')\n",
    "chanobs_param_mods2.sel(feature_id = 3).streamflow.plot(label='refkdt=0.1, bexp*0.5',\n",
    "                                                        color='green',\n",
    "                                                        linestyle='-')\n",
    "obs[obs['Location'] == 'Desague'].plot(x='dateTime',\n",
    "                                       y='streamflow_cms',\n",
    "                                       ax=axes,\n",
    "                                       label='Observed',\n",
    "                                       color='grey')\n",
    "plt.ylim(0,20)\n",
    "plt.legend()\n",
    "plt.show()"
   ]
  },
  {
   "cell_type": "markdown",
   "metadata": {},
   "source": [
    "**Step 2d: Use the NCO command `ncap2` to modify the *dksat* parameter values in the `soil_properties.nc` file.**\n",
    "\n",
    "**dksat**\n",
    "\n",
    "As with most physically based hydrological models, the soil saturated hydraulic conductivity, dksat, controls the speed at which water moves through the subsurface.  This is a sensitive parameter in the model, and while easy to measure at the point scale, dksat is tricky to estimate at the scale of kilometers.  This is a common calibration parameter.  \n",
    "\n",
    "First we make a new directory and modify `refkdt` and `bexp` to the same values as the previous experiments so that we are building on our previous simulations."
   ]
  },
  {
   "cell_type": "code",
   "execution_count": null,
   "metadata": {},
   "outputs": [],
   "source": [
    "%%bash\n",
    "cp -r ~/wrf-hydro-training/output/lesson5/run_default_template \\\n",
    "~/wrf-hydro-training/output/lesson5/run_parameter_mods3\n",
    "\n",
    "ncap2 -O -s \"refkdt=refkdt*0.0+0.1\" \\\n",
    "~/wrf-hydro-training/output/lesson5/run_parameter_mods3/DOMAIN/soil_properties.nc \\\n",
    "~/wrf-hydro-training/output/lesson5/run_parameter_mods3/DOMAIN/soil_properties.nc\n",
    "\n",
    "ncap2 -O -s \"bexp=bexp*0.5\" \\\n",
    "~/wrf-hydro-training/output/lesson5/run_parameter_mods3/DOMAIN/soil_properties.nc \\\n",
    "~/wrf-hydro-training/output/lesson5/run_parameter_mods3/DOMAIN/soil_properties.nc"
   ]
  },
  {
   "cell_type": "markdown",
   "metadata": {},
   "source": [
    "Here we will view the default dksat and then reduce dksat by a factor of 0.5 using the ncap2 NCO command."
   ]
  },
  {
   "cell_type": "code",
   "execution_count": null,
   "metadata": {},
   "outputs": [],
   "source": [
    "%%bash\n",
    "ncdump -v dksat ~/wrf-hydro-training/output/lesson5/run_parameter_mods3/DOMAIN/soil_properties.nc \\\n",
    "| tail -n 10"
   ]
  },
  {
   "cell_type": "code",
   "execution_count": null,
   "metadata": {},
   "outputs": [],
   "source": [
    "%%bash\n",
    "ncap2 -O -s \"dksat=dksat*0.5\" \\\n",
    "~/wrf-hydro-training/output/lesson5/run_parameter_mods3/DOMAIN/soil_properties.nc \\\n",
    "~/wrf-hydro-training/output/lesson5/run_parameter_mods3/DOMAIN/soil_properties.nc\n",
    "ncdump -v dksat ~/wrf-hydro-training/output/lesson5/run_parameter_mods3/DOMAIN/soil_properties.nc \\\n",
    "| tail -n 10"
   ]
  },
  {
   "cell_type": "markdown",
   "metadata": {},
   "source": [
    "**Step 2e: Use the NCO command `ncap2` to modify the *slope* parameter values in the `soil_properties.nc` file.**\n",
    "\n",
    "**SLOPE**\n",
    "\n",
    "Another important Noah/NoahMP parameter that we commonly adjust is *slope*. Originally estimated based on land surface topography (hence the name *slope*), the *slope* parameter actually controls how open or closed the bottom boundary of the soil column is. Values range from 0 to 1, where 0 is a completely closed bottom boundary and 1 is completely open. Lower *slope* values will keep more water in the soil column, while higher values will allow more water to drain to the channel or to deeper baseflow stores, depending on the selected baseflow physics options.\n",
    "\n",
    "As with *refkdt* and *dksat* above, we will use the NCO command `ncap2` to modify the *slope* value.\n",
    "\n",
    "First, we check the current parameter values using `ncdump`."
   ]
  },
  {
   "cell_type": "code",
   "execution_count": null,
   "metadata": {
    "scrolled": false
   },
   "outputs": [],
   "source": [
    "%%bash\n",
    "ncdump -v slope ~/wrf-hydro-training/output/lesson5/run_parameter_mods3/DOMAIN/soil_properties.nc \\\n",
    "| tail -n 10"
   ]
  },
  {
   "cell_type": "markdown",
   "metadata": {},
   "source": [
    "The default value for *slope* is a global 0.1. We modify the parameter values using `ncap2` to open the bottom boundary (slope*0+0.5) and increase the deeper baseflow component."
   ]
  },
  {
   "cell_type": "code",
   "execution_count": null,
   "metadata": {
    "scrolled": true
   },
   "outputs": [],
   "source": [
    "%%bash\n",
    "ncap2 -O -s \"slope=slope*0+0.5\" \\\n",
    "~/wrf-hydro-training/output/lesson5/run_parameter_mods3/DOMAIN/soil_properties.nc \\\n",
    "~/wrf-hydro-training/output/lesson5/run_parameter_mods3/DOMAIN/soil_properties.nc\n",
    "ncdump -v slope ~/wrf-hydro-training/output/lesson5/run_parameter_mods3/DOMAIN/soil_properties.nc \\\n",
    "| tail -n 10"
   ]
  },
  {
   "cell_type": "markdown",
   "metadata": {},
   "source": [
    "Note: we are running this in the same directory as before, but will be able to plot each of the experiments because the datasets are loaded. "
   ]
  },
  {
   "cell_type": "code",
   "execution_count": null,
   "metadata": {},
   "outputs": [],
   "source": [
    "%%bash\n",
    "cd ~/wrf-hydro-training/output/lesson5/run_parameter_mods3\n",
    "mpirun -np 2 ./wrf_hydro.exe >> run.log 2>&1"
   ]
  },
  {
   "cell_type": "code",
   "execution_count": null,
   "metadata": {},
   "outputs": [],
   "source": [
    "chanobs_param_mods3 = xr.open_mfdataset('/home/docker/wrf-hydro-training/output/lesson5/run_parameter_mods3/*CHANOBS*',\n",
    "                            combine='by_coords')"
   ]
  },
  {
   "cell_type": "code",
   "execution_count": null,
   "metadata": {},
   "outputs": [],
   "source": [
    "fig, axes = plt.subplots(ncols=1,figsize=(12, 6))\n",
    "plt.suptitle('Hydrographs for parameter experiment',fontsize=24)\n",
    "chanobs_control.sel(feature_id = 3).streamflow.plot(label='Control, w/refkdt=3, slope=0.1',\n",
    "                                                        color='black',\n",
    "                                                        linestyle='--')\n",
    "chanobs_param_mods.sel(feature_id = 3).streamflow.plot(label='refkdt=0.1, slope=0.1',\n",
    "                                                        color='blue',\n",
    "                                                        linestyle='-')\n",
    "chanobs_param_mods2.sel(feature_id = 3).streamflow.plot(label='refkdt=0.1, slope=0.1, bexp*0.5',\n",
    "                                                        color='green',\n",
    "                                                        linestyle='-')\n",
    "chanobs_param_mods3.sel(feature_id = 3).streamflow.plot(label='refkdt=0.1, bexp*0.5, slope=0.5, dksat*0.5',\n",
    "                                                        color='orange',\n",
    "                                                        linestyle='-')\n",
    "\n",
    "obs[obs['Location'] == 'Desague'].plot(x='dateTime',\n",
    "                                       y='streamflow_cms',\n",
    "                                       ax=axes,\n",
    "                                       label='Observed',\n",
    "                                       color='grey')\n",
    "plt.ylim(0,15)\n",
    "plt.legend()\n",
    "plt.show()"
   ]
  },
  {
   "cell_type": "markdown",
   "metadata": {},
   "source": [
    "**OPTIONAL::: RETDEPRTFAC**\n",
    "\n",
    "The *RETDEPRTFAC* parameter is a multiplier on the maximum retention depth. Ponded water on the surface above this retention depth threshold can be moved around the landscape via overland flow. The default value in the code is quite small (~0.001mm, though variable by terrain slope) to allow almost all ponded water to be available for routing. However, in many regions landscape features like wetlands, small detention ponds, and heavy vegetation litter/debris can trap water on the land surface. Increasing the *RETDEPRTFAC* multiplier will hold more ponded water on the surface before it becomes runoff.\n",
    "\n",
    "We will use the NCO command `ncap2` to reduce *RETDEPRTFAC* value to 0.\n",
    "\n",
    "First, we check the current parameter values."
   ]
  },
  {
   "cell_type": "code",
   "execution_count": null,
   "metadata": {},
   "outputs": [],
   "source": [
    "%%bash\n",
    "cp -r ~/wrf-hydro-training/output/lesson5/run_default_template \\\n",
    "~/wrf-hydro-training/output/lesson5/run_parameter_mods4\n",
    "\n",
    "ncap2 -O -s \"refkdt=refkdt*0.0+0.1\" \\\n",
    "~/wrf-hydro-training/output/lesson5/run_parameter_mods4/DOMAIN/soil_properties.nc \\\n",
    "~/wrf-hydro-training/output/lesson5/run_parameter_mods4/DOMAIN/soil_properties.nc\n",
    "\n",
    "ncap2 -O -s \"bexp=bexp*0.5\" \\\n",
    "~/wrf-hydro-training/output/lesson5/run_parameter_mods4/DOMAIN/soil_properties.nc \\\n",
    "~/wrf-hydro-training/output/lesson5/run_parameter_mods4/DOMAIN/soil_properties.nc\n",
    "\n",
    "ncap2 -O -s \"dksat=dksat*0.5\" \\\n",
    "~/wrf-hydro-training/output/lesson5/run_parameter_mods4/DOMAIN/soil_properties.nc \\\n",
    "~/wrf-hydro-training/output/lesson5/run_parameter_mods4/DOMAIN/soil_properties.nc\n",
    "\n",
    "ncap2 -O -s \"slope=slope*0+0.5\" \\\n",
    "~/wrf-hydro-training/output/lesson5/run_parameter_mods4/DOMAIN/soil_properties.nc \\\n",
    "~/wrf-hydro-training/output/lesson5/run_parameter_mods4/DOMAIN/soil_properties.nc"
   ]
  },
  {
   "cell_type": "code",
   "execution_count": null,
   "metadata": {},
   "outputs": [],
   "source": [
    "%%bash\n",
    "ncdump -v RETDEPRTFAC ~/wrf-hydro-training/output/lesson5/run_parameter_mods4/DOMAIN/Fulldom_hires.nc \\\n",
    "| tail -n 10"
   ]
  },
  {
   "cell_type": "markdown",
   "metadata": {},
   "source": [
    "Then, we modify the parameter values using `ncap2` and confirm our changes."
   ]
  },
  {
   "cell_type": "code",
   "execution_count": null,
   "metadata": {
    "scrolled": true
   },
   "outputs": [],
   "source": [
    "%%bash\n",
    "ncap2 -O -s \"RETDEPRTFAC=RETDEPRTFAC*10000.0\" \\\n",
    "~/wrf-hydro-training/output/lesson5/run_parameter_mods4/DOMAIN/Fulldom_hires.nc \\\n",
    "~/wrf-hydro-training/output/lesson5/run_parameter_mods4/DOMAIN/Fulldom_hires.nc\n",
    "ncdump -v RETDEPRTFAC ~/wrf-hydro-training/output/lesson5/run_parameter_mods4/DOMAIN/Fulldom_hires.nc \\\n",
    "| tail -n 10"
   ]
  },
  {
   "cell_type": "markdown",
   "metadata": {},
   "source": [
    "**Step 3b: Run the simulation**\n",
    "\n",
    "Now we are ready to run a simulation with our new modified parameters."
   ]
  },
  {
   "cell_type": "code",
   "execution_count": null,
   "metadata": {
    "scrolled": true
   },
   "outputs": [],
   "source": [
    "%%bash\n",
    "cd ~/wrf-hydro-training/output/lesson5/run_parameter_mods4\n",
    "mpirun -np 2 ./wrf_hydro.exe >> run.log 2>&1"
   ]
  },
  {
   "cell_type": "markdown",
   "metadata": {},
   "source": [
    "Check to make sure your run completed successfully."
   ]
  },
  {
   "cell_type": "code",
   "execution_count": null,
   "metadata": {
    "scrolled": false
   },
   "outputs": [],
   "source": [
    "%%bash\n",
    "tail -1 ~/wrf-hydro-training/output/lesson5/run_parameter_mods4/diag_hydro.00000"
   ]
  },
  {
   "cell_type": "markdown",
   "metadata": {},
   "source": [
    "### Results\n",
    "We will now look at the differences in streamflow between our baseline run with default parmeters and the simulation using our new modified parameters.\n",
    "\n",
    "We will use Python and the `xarray` library to load the data and plot hydrographs. For an intro to these tools, please see Lesson 3."
   ]
  },
  {
   "cell_type": "markdown",
   "metadata": {},
   "source": [
    "**Load the CHANOBS streamflow datasets and plot the results.**\n",
    "\n",
    "We are going to use the CHANOBS files because it will limit the number of grid cells to only those which we have specified have a gage."
   ]
  },
  {
   "cell_type": "code",
   "execution_count": null,
   "metadata": {},
   "outputs": [],
   "source": [
    "chanobs_param_mods4 = xr.open_mfdataset('/home/docker/wrf-hydro-training/output/lesson5/run_parameter_mods4/*CHANOBS*',\n",
    "                            combine='by_coords')"
   ]
  },
  {
   "cell_type": "code",
   "execution_count": null,
   "metadata": {},
   "outputs": [],
   "source": [
    "fig, axes = plt.subplots(ncols=1,figsize=(12, 6))\n",
    "plt.suptitle('Hydrographs for parameter experiment',fontsize=24)\n",
    "chanobs_control.sel(feature_id = 3).streamflow.plot(label='Control, w/refkdt=3, slope=0.1',\n",
    "                                                        color='black',\n",
    "                                                        linestyle='--')\n",
    "chanobs_param_mods.sel(feature_id = 3).streamflow.plot(label='refkdt=0.1, slope=0.1',\n",
    "                                                        color='blue',\n",
    "                                                        linestyle='-')\n",
    "chanobs_param_mods2.sel(feature_id = 3).streamflow.plot(label='refkdt=0.1, slope=0.1, bexp*2',\n",
    "                                                        color='green',\n",
    "                                                        linestyle='-')\n",
    "chanobs_param_mods3.sel(feature_id = 3).streamflow.plot(label='refkdt=0.1, slope=0.1, bexp*0.5, dksat*0.5',\n",
    "                                                        color='orange',\n",
    "                                                        linestyle='-')\n",
    "chanobs_param_mods4.sel(feature_id = 3).streamflow.plot(label='refkdt=0.1, bexp*0.5, dksat*0.5, slope=0.5, retdeprtfac*10000',\n",
    "                                                        color='red',\n",
    "                                                        linestyle='-')\n",
    "\n",
    "\n",
    "obs[obs['Location'] == 'Desague'].plot(x='dateTime',\n",
    "                                       y='streamflow_cms',\n",
    "                                       ax=axes,\n",
    "                                       label='Observed',\n",
    "                                       color='grey')\n",
    "plt.ylim(0,20)\n",
    "plt.legend()\n",
    "plt.show()"
   ]
  },
  {
   "cell_type": "markdown",
   "metadata": {},
   "source": [
    "# Next up - Do it yourself!\n",
    "This concludes Lesson 5. Spend some time creating your own parameter and physics experiments.\n",
    "\n",
    "**IT IS BEST TO EITHER SHUTDOWN THIS LESSON OR CLOSE IT BEFORE PROCEEDING TO THE NEXT LESSON TO AVOID POSSIBLY EXCEEDING ALLOCATED MEMORY. Shutdown the lesson be either closing the browser tab for the lesson or selecting `KERNAL->SHUTDOWN` in the jupyter notebook toolbar.**"
   ]
  }
 ],
 "metadata": {
  "kernelspec": {
   "display_name": "Python 3",
   "language": "python",
   "name": "python3"
  },
  "language_info": {
   "codemirror_mode": {
    "name": "ipython",
    "version": 3
   },
   "file_extension": ".py",
   "mimetype": "text/x-python",
   "name": "python",
   "nbconvert_exporter": "python",
   "pygments_lexer": "ipython3",
   "version": "3.7.3"
  },
  "toc": {
   "base_numbering": 1,
   "nav_menu": {},
   "number_sections": true,
   "sideBar": true,
   "skip_h1_title": true,
   "title_cell": "Table of Contents",
   "title_sidebar": "Contents",
   "toc_cell": true,
   "toc_position": {
    "height": "calc(100% - 180px)",
    "left": "10px",
    "top": "150px",
    "width": "414px"
   },
   "toc_section_display": true,
   "toc_window_display": true
  }
 },
 "nbformat": 4,
 "nbformat_minor": 2
}
