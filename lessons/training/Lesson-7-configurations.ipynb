{
 "cells": [
  {
   "cell_type": "markdown",
   "metadata": {},
   "source": [
    "<img src='https://repository-images.githubusercontent.com/121802384/c355bb80-7d42-11e9-9e0e-4729609f9fbc' alt='WRF-Hydro Logo' width=\"15%\"/>\n",
    "\n",
    "# Lesson 7 - Exploring gridded and NWM configurations"
   ]
  },
  {
   "cell_type": "markdown",
   "metadata": {},
   "source": [
    "## Overview\n",
    "In this lesson we compare the differences between a gridded channel routing simulation and a cutout from the National Water Model (NWM) which uses a different channel routing method and has some differences in model physics and parameters.  "
   ]
  },
  {
   "cell_type": "markdown",
   "metadata": {},
   "source": [
    "### Creating the simulation directory and running a baseline WRF-Hydro simulation\n",
    "Below are the commands from lesson 2 to create the simulation direcory and run a WRF-Hydro simulation. This simulation will be run exactly as was done in Lesson 2 and will serve as our baseline simulation. We will modify run-time options in subsequent simulations in the lesson and compare the outputs.  \n",
    "\n",
    "**Note that we are skipping the compile step here, and using the binary from lesson 2.**"
   ]
  },
  {
   "cell_type": "code",
   "execution_count": 1,
   "metadata": {
    "execution": {
     "iopub.execute_input": "2025-04-03T00:46:27.019156Z",
     "iopub.status.busy": "2025-04-03T00:46:27.018477Z",
     "iopub.status.idle": "2025-04-03T00:46:27.095520Z",
     "shell.execute_reply": "2025-04-03T00:46:27.093984Z"
    }
   },
   "outputs": [],
   "source": [
    "%%bash\n",
    "\n",
    "# Make a new directory for our baseline simulation\n",
    "rm -rf ~/wrf-hydro-training/output/lesson7/run_gridded_baseline\n",
    "mkdir -p ~/wrf-hydro-training/output/lesson7/run_gridded_baseline\n",
    "\n",
    "# Copy our model files to the simulation directory from lesson 2\n",
    "cp ~/wrf-hydro-training/wrf_hydro_nwm_public/build/Run/*.TBL \\\n",
    "  ~/wrf-hydro-training/output/lesson7/run_gridded_baseline\n",
    "cp ~/wrf-hydro-training/wrf_hydro_nwm_public/build/Run/wrf_hydro \\\n",
    "  ~/wrf-hydro-training/output/lesson7/run_gridded_baseline\n",
    "\n",
    "# Create symbolic links to large domain files\n",
    "cp -as $HOME/wrf-hydro-training/example_case/FORCING \\\n",
    "  ~/wrf-hydro-training/output/lesson7/run_gridded_baseline\n",
    "cp -as $HOME/wrf-hydro-training/example_case/Gridded/DOMAIN \\\n",
    "  ~/wrf-hydro-training/output/lesson7/run_gridded_baseline\n",
    "cp -as $HOME/wrf-hydro-training/example_case/Gridded/RESTART \\\n",
    "  ~/wrf-hydro-training/output/lesson7/run_gridded_baseline\n",
    "\n",
    "# Copy namelist files\n",
    "cp ~/wrf-hydro-training/example_case/Gridded/namelist.hrldas \\\n",
    "  ~/wrf-hydro-training/output/lesson7/run_gridded_baseline\n",
    "cp ~/wrf-hydro-training/example_case/Gridded/hydro.namelist \\\n",
    "  ~/wrf-hydro-training/output/lesson7/run_gridded_baseline"
   ]
  },
  {
   "cell_type": "markdown",
   "metadata": {},
   "source": [
    "## National Water Model configuration (NWM)\n",
    "In this section we will discuss the differences between the National Water Model (NWM) configuration and the baseline Gridded configuration. Afterwards, we will run a NWM simulation and visualize some of the differences. \n",
    "\n",
    "### Create a NWM simulation directory"
   ]
  },
  {
   "cell_type": "code",
   "execution_count": 2,
   "metadata": {
    "execution": {
     "iopub.execute_input": "2025-04-03T00:46:27.098688Z",
     "iopub.status.busy": "2025-04-03T00:46:27.098385Z",
     "iopub.status.idle": "2025-04-03T00:46:27.139685Z",
     "shell.execute_reply": "2025-04-03T00:46:27.138795Z"
    }
   },
   "outputs": [],
   "source": [
    "%%bash\n",
    "\n",
    "# Make a new directory for our baseline simulation\n",
    "rm -rf ~/wrf-hydro-training/output/lesson7/run_nwm\n",
    "mkdir -p ~/wrf-hydro-training/output/lesson7/run_nwm\n",
    "\n",
    "# Copy our model files to the simulation directory from lesson 2\n",
    "cp ~/wrf-hydro-training/wrf_hydro_nwm_public/build/Run/*.TBL \\\n",
    "  ~/wrf-hydro-training/output/lesson7/run_nwm\n",
    "cp ~/wrf-hydro-training/wrf_hydro_nwm_public/build/Run/wrf_hydro \\\n",
    "  ~/wrf-hydro-training/output/lesson7/run_nwm\n",
    "\n",
    "# Create symbolic links to large domain files\n",
    "cp -as $HOME/wrf-hydro-training/example_case/FORCING \\\n",
    "  ~/wrf-hydro-training/output/lesson7/run_nwm\n",
    "cp -as $HOME/wrf-hydro-training/example_case/NWM/DOMAIN \\\n",
    "  ~/wrf-hydro-training/output/lesson7/run_nwm\n",
    "cp -as $HOME/wrf-hydro-training/example_case/NWM/RESTART \\\n",
    "  ~/wrf-hydro-training/output/lesson7/run_nwm\n",
    "\n",
    "# Copy namelist files\n",
    "cp ~/wrf-hydro-training/example_case/NWM/namelist.hrldas \\\n",
    "  ~/wrf-hydro-training/output/lesson7/run_nwm\n",
    "cp ~/wrf-hydro-training/example_case/NWM/hydro.namelist \\\n",
    "  ~/wrf-hydro-training/output/lesson7/run_nwm"
   ]
  },
  {
   "cell_type": "markdown",
   "metadata": {},
   "source": [
    "### Compare the contents of the NWM simulation directory to the Gridded simulation directory\n",
    "In this section we will compare the files in the NWM simulation directory to those in the Gridded simulation directory.\n",
    "\n",
    "**View the contents of the NWM simulation directory**"
   ]
  },
  {
   "cell_type": "code",
   "execution_count": 3,
   "metadata": {
    "execution": {
     "iopub.execute_input": "2025-04-03T00:46:27.142887Z",
     "iopub.status.busy": "2025-04-03T00:46:27.142500Z",
     "iopub.status.idle": "2025-04-03T00:46:27.154473Z",
     "shell.execute_reply": "2025-04-03T00:46:27.153552Z"
    },
    "scrolled": true
   },
   "outputs": [
    {
     "name": "stdout",
     "output_type": "stream",
     "text": [
      "CHANPARM.TBL\n",
      "DOMAIN\n",
      "FORCING\n",
      "GENPARM.TBL\n",
      "HYDRO.TBL\n",
      "MPTABLE.TBL\n",
      "RESTART\n",
      "SOILPARM.TBL\n",
      "hydro.namelist\n",
      "na"
     ]
    },
    {
     "name": "stdout",
     "output_type": "stream",
     "text": [
      "melist.hrldas\n",
      "wrf_hydro\n"
     ]
    }
   ],
   "source": [
    "%%bash\n",
    "ls ~/wrf-hydro-training/output/lesson7/run_nwm"
   ]
  },
  {
   "cell_type": "markdown",
   "metadata": {},
   "source": [
    "**View the contents of the Gridded simulation directory**"
   ]
  },
  {
   "cell_type": "code",
   "execution_count": 4,
   "metadata": {
    "execution": {
     "iopub.execute_input": "2025-04-03T00:46:27.180687Z",
     "iopub.status.busy": "2025-04-03T00:46:27.180253Z",
     "iopub.status.idle": "2025-04-03T00:46:27.192498Z",
     "shell.execute_reply": "2025-04-03T00:46:27.191662Z"
    },
    "scrolled": true
   },
   "outputs": [
    {
     "name": "stdout",
     "output_type": "stream",
     "text": [
      "CHANPARM.TBL\n",
      "DOMAIN\n",
      "FORCING\n",
      "GENPARM.TBL\n",
      "HYDRO.TBL\n",
      "MPTABLE.TBL\n",
      "RESTART\n",
      "SOILPARM.TBL\n",
      "hydro.namelist\n",
      "na"
     ]
    },
    {
     "name": "stdout",
     "output_type": "stream",
     "text": [
      "melist.hrldas\n",
      "wrf_hydro\n"
     ]
    }
   ],
   "source": [
    "%%bash\n",
    "ls ~/wrf-hydro-training/output/lesson7/run_gridded_baseline"
   ]
  },
  {
   "cell_type": "markdown",
   "metadata": {},
   "source": [
    "Here we can see that at the top level the directories contents look the same. However, there are differences in the *DOMAIN* and *RESTART* directories."
   ]
  },
  {
   "cell_type": "markdown",
   "metadata": {},
   "source": [
    "**View the contents of the *NWM/DOMAIN* directory**"
   ]
  },
  {
   "cell_type": "code",
   "execution_count": 5,
   "metadata": {
    "execution": {
     "iopub.execute_input": "2025-04-03T00:46:27.195226Z",
     "iopub.status.busy": "2025-04-03T00:46:27.194851Z",
     "iopub.status.idle": "2025-04-03T00:46:27.206435Z",
     "shell.execute_reply": "2025-04-03T00:46:27.205530Z"
    }
   },
   "outputs": [
    {
     "name": "stdout",
     "output_type": "stream",
     "text": [
      "Fulldom_hires.nc\n",
      "GEOGRID_LDASOUT_Spatial_Metadata.nc\n",
      "GWBUCKPARM.nc\n",
      "LAKEPARM.nc\n",
      "Route_Link.nc\n",
      "geo_em."
     ]
    },
    {
     "name": "stdout",
     "output_type": "stream",
     "text": [
      "d01.nc\n",
      "hydro2dtbl.nc\n",
      "soil_properties.nc\n",
      "spatialweights.nc\n",
      "wrfinput_d01.nc\n"
     ]
    }
   ],
   "source": [
    "%%bash\n",
    "ls ~/wrf-hydro-training/output/lesson7/run_nwm/DOMAIN"
   ]
  },
  {
   "cell_type": "markdown",
   "metadata": {},
   "source": [
    "**View the contents of the *Gridded/DOMAIN* directory**"
   ]
  },
  {
   "cell_type": "code",
   "execution_count": 6,
   "metadata": {
    "execution": {
     "iopub.execute_input": "2025-04-03T00:46:27.209286Z",
     "iopub.status.busy": "2025-04-03T00:46:27.208955Z",
     "iopub.status.idle": "2025-04-03T00:46:27.219994Z",
     "shell.execute_reply": "2025-04-03T00:46:27.218657Z"
    }
   },
   "outputs": [
    {
     "name": "stdout",
     "output_type": "stream",
     "text": [
      "Fulldom_hires.nc\n",
      "GEOGRID_LDASOUT_Spatial_Metadata.nc\n",
      "GWBASINS.nc\n",
      "GWBUCKPARM.nc\n",
      "LAKEPARM.nc\n",
      "geo_em.d0"
     ]
    },
    {
     "name": "stdout",
     "output_type": "stream",
     "text": [
      "1.nc\n",
      "hydro2dtbl.nc\n",
      "lake_shapes\n",
      "soil_properties.nc\n",
      "wrfinput_d01.nc\n"
     ]
    }
   ],
   "source": [
    "%%bash\n",
    "ls ~/wrf-hydro-training/output/lesson7/run_gridded_baseline/DOMAIN"
   ]
  },
  {
   "cell_type": "markdown",
   "metadata": {},
   "source": [
    "**Explore the differences**\n",
    "\n",
    "Note the file differences in the *NWM* directory compared to the *Gridded* directory. Below is a table of these files and descriptions.\n",
    "\n",
    "| Filename | Description | Source | Required |\n",
    "| ------------- | ------------- | ------------- | ------------- |\n",
    "| GWBASINS.nc | 2D file defining the locations of groundwater basins | pre-processing| Required for gridded when the baseflow bucket model is turned on and user defined mapping is off |\n",
    "|Route_Link.nc | Channel reach parameters (contains ComID,gage ID & channel params) | pre-processing | Required if reach based routing is used (including user defined mapping) |\n",
    "|nudgingParams.nc| Parameters used for data assimilation streamflow nudging | user defined | No, and not available for gridded |\n",
    "| spatialweights.nc | Spatial weight file used to map fluxes to catchment objects | distributed with NWM domain files | When using user defined mapping |\n"
   ]
  },
  {
   "cell_type": "markdown",
   "metadata": {},
   "source": [
    "**NOTE: We can ignore the *Gridded/lake_shapes* directory, it simply contains geospatial data used for creating the domain**"
   ]
  },
  {
   "cell_type": "markdown",
   "metadata": {},
   "source": [
    "### Explore the namelist differences between the NWM and Gridded configurations\n",
    "In this section we will explore the namelists differences between the NWM and Gridded configurations"
   ]
  },
  {
   "cell_type": "markdown",
   "metadata": {},
   "source": [
    "**View the difference between *NWM* namelist.hrldas and *Gridded* namelist.hrldas**"
   ]
  },
  {
   "cell_type": "code",
   "execution_count": 7,
   "metadata": {
    "execution": {
     "iopub.execute_input": "2025-04-03T00:46:27.223275Z",
     "iopub.status.busy": "2025-04-03T00:46:27.222924Z",
     "iopub.status.idle": "2025-04-03T00:46:27.235912Z",
     "shell.execute_reply": "2025-04-03T00:46:27.234757Z"
    },
    "scrolled": true
   },
   "outputs": [
    {
     "name": "stdout",
     "output_type": "stream",
     "text": [
      "24c24\n",
      "< RUNOFF_OPTION                     = 7\n",
      "---\n",
      "> RUNOFF_OPTION                     = 3\n",
      "29c29\n",
      "< SN"
     ]
    },
    {
     "name": "stdout",
     "output_type": "stream",
     "text": [
      "OW_ALBEDO_OPTION                = 1\n",
      "---\n",
      "> SNOW_ALBEDO_OPTION                = 2\n",
      "35c35\n",
      "< IMPERV_OPTIO"
     ]
    },
    {
     "name": "stdout",
     "output_type": "stream",
     "text": [
      "N                     = 2  !(0->none; 1->total; 2->Alley&Veenhuis; 9->orig)\n",
      "---\n",
      "> IMPERV_OPTION     "
     ]
    },
    {
     "name": "stdout",
     "output_type": "stream",
     "text": [
      "                = 9  !(0->none; 1->total; 2->Alley&Veenhuis; 9->orig)\n",
      "93d92\n",
      "< \n"
     ]
    }
   ],
   "source": [
    "%%bash\n",
    "diff ~/wrf-hydro-training/output/lesson7/run_nwm/namelist.hrldas ~/wrf-hydro-training/output/lesson7/run_gridded_baseline/namelist.hrldas || true"
   ]
  },
  {
   "cell_type": "markdown",
   "metadata": {},
   "source": [
    "**View the difference between *NWM* hydro.namelist and *Gridded* hydro.namelist**"
   ]
  },
  {
   "cell_type": "code",
   "execution_count": 8,
   "metadata": {
    "execution": {
     "iopub.execute_input": "2025-04-03T00:46:27.238982Z",
     "iopub.status.busy": "2025-04-03T00:46:27.238706Z",
     "iopub.status.idle": "2025-04-03T00:46:27.267079Z",
     "shell.execute_reply": "2025-04-03T00:46:27.266452Z"
    },
    "scrolled": true
   },
   "outputs": [
    {
     "name": "stdout",
     "output_type": "stream",
     "text": [
      "65c65\n",
      "< ! 1 = with scale/offset/compression, ! 2 = with scale/offset/NO compression,\n",
      "---\n",
      "> ! 1 = wit"
     ]
    },
    {
     "name": "stdout",
     "output_type": "stream",
     "text": [
      "h scale/offset/compression, ! 2 = with scale/offset/NO compression, \n",
      "82c82\n",
      "< output_channelBucket_in"
     ]
    },
    {
     "name": "stdout",
     "output_type": "stream",
     "text": [
      "flux = 2\n",
      "---\n",
      "> output_channelBucket_influx = 0\n",
      "89c89\n",
      "< CHRTOUT_GRID = 0             ! Netcdf grid of"
     ]
    },
    {
     "name": "stdout",
     "output_type": "stream",
     "text": [
      " channel streamflow values (2d)\n",
      "---\n",
      "> CHRTOUT_GRID = 1             ! Netcdf grid of channel streamfl"
     ]
    },
    {
     "name": "stdout",
     "output_type": "stream",
     "text": [
      "ow values (2d)\n",
      "122c122\n",
      "< DTRT_CH = 300\n",
      "---\n",
      "> DTRT_CH = 10\n",
      "138c138\n",
      "< imperv_adj = 1\n",
      "---\n",
      "> imperv_adj "
     ]
    },
    {
     "name": "stdout",
     "output_type": "stream",
     "text": [
      "= 0\n",
      "144c144\n",
      "< channel_option = 2\n",
      "---\n",
      "> channel_option = 3\n",
      "147c147\n",
      "< route_link_f = \"./DOMAIN/Route_L"
     ]
    },
    {
     "name": "stdout",
     "output_type": "stream",
     "text": [
      "ink.nc\"\n",
      "---\n",
      "> !route_link_f = \"\"\n",
      "151c151\n",
      "< compound_channel = .TRUE.\n",
      "---\n",
      "> compound_channel = .FALSE"
     ]
    },
    {
     "name": "stdout",
     "output_type": "stream",
     "text": [
      ".\n",
      "162c162,166\n",
      "< GWBASESWCRT = 4\n",
      "---\n",
      "> GWBASESWCRT = 1\n",
      "> \n",
      "> ! Switch to activate bucket model loss (0"
     ]
    },
    {
     "name": "stdout",
     "output_type": "stream",
     "text": [
      "=no, 1=yes)\n",
      "> ! This option is currently only supported if using reach-based routing with UDMP=1.\n",
      "> "
     ]
    },
    {
     "name": "stdout",
     "output_type": "stream",
     "text": [
      "bucket_loss = 0\n",
      "166c170\n",
      "< !gwbasmskfil = \"./DOMAIN/GWBASINS.nc\"\n",
      "---\n",
      "> gwbasmskfil = \"./DOMAIN/GWBASI"
     ]
    },
    {
     "name": "stdout",
     "output_type": "stream",
     "text": [
      "NS.nc\"\n",
      "172c176\n",
      "< UDMP_OPT = 1\n",
      "---\n",
      "> UDMP_OPT = 0\n",
      "175c179\n",
      "< udmap_file = \"./DOMAIN/spatialweights.nc\""
     ]
    },
    {
     "name": "stdout",
     "output_type": "stream",
     "text": [
      "\n",
      "---\n",
      "> !udmap_file = \"\"\n",
      "181,233d184\n",
      "< ! Path to the \"timeslice\" observation files.\n",
      "< timeSlicePath ="
     ]
    },
    {
     "name": "stdout",
     "output_type": "stream",
     "text": [
      " \"./nudgingTimeSliceObs/\"\n",
      "< \n",
      "< nudgingParamFile = \"./DOMAIN/nudgingParams.nc\"\n",
      "< \n",
      "< ! Nudging restart"
     ]
    },
    {
     "name": "stdout",
     "output_type": "stream",
     "text": [
      " file = \"nudgingLastObsFile\"\n",
      "< ! nudgingLastObsFile defaults to '', which will look for nudgingLastO"
     ]
    },
    {
     "name": "stdout",
     "output_type": "stream",
     "text": [
      "bs.YYYY-mm-dd_HH:MM:SS.nc\n",
      "< !   **AT THE INITALIZATION TIME OF THE RUN**. Set to a missing file to u"
     ]
    },
    {
     "name": "stdout",
     "output_type": "stream",
     "text": [
      "se no restart.\n",
      "< !nudgingLastObsFile = '/a/nonexistent/file/gives/nudging/cold/start'\n",
      "< \n",
      "< !! Parall"
     ]
    },
    {
     "name": "stdout",
     "output_type": "stream",
     "text": [
      "el input of nudging timeslice observation files?\n",
      "< readTimesliceParallel = .TRUE.\n",
      "< \n",
      "< ! temporalPer"
     ]
    },
    {
     "name": "stdout",
     "output_type": "stream",
     "text": [
      "sistence defaults to true, only runs if necessary params present.\n",
      "< temporalPersistence = .TRUE.\n",
      "< \n"
     ]
    },
    {
     "name": "stdout",
     "output_type": "stream",
     "text": [
      "< ! The total number of last (obs, modeled) pairs to save in nudgingLastObs for\n",
      "< ! removal of bias."
     ]
    },
    {
     "name": "stdout",
     "output_type": "stream",
     "text": [
      " This is the maximum array length. (This option is active when persistBias=FALSE)\n",
      "< ! (Default=960=1"
     ]
    },
    {
     "name": "stdout",
     "output_type": "stream",
     "text": [
      "0days @15min obs resolution, if all the obs are present and longer if not.)\n",
      "< nLastObs = 480\n",
      "< \n",
      "< ! "
     ]
    },
    {
     "name": "stdout",
     "output_type": "stream",
     "text": [
      "If using temporalPersistence the last observation persists by default.\n",
      "< ! This option instead persi"
     ]
    },
    {
     "name": "stdout",
     "output_type": "stream",
     "text": [
      "sts the bias after the last observation.\n",
      "< persistBias = .TRUE.\n",
      "< \n",
      "< ! AnA (FALSE)  vs Forecast (TRU"
     ]
    },
    {
     "name": "stdout",
     "output_type": "stream",
     "text": [
      "E) bias persistence.\n",
      "< ! If persistBias: Does the window for calculating the bias end at\n",
      "< ! model i"
     ]
    },
    {
     "name": "stdout",
     "output_type": "stream",
     "text": [
      "nit time (=t0)?\n",
      "< ! FALSE = window ends at model time (moving),\n",
      "< ! TRUE = window ends at init=t0(fc"
     ]
    },
    {
     "name": "stdout",
     "output_type": "stream",
     "text": [
      "st) time.\n",
      "< ! (If commented out, Default=FALSE)\n",
      "< ! Note: Perfect restart tests require this option "
     ]
    },
    {
     "name": "stdout",
     "output_type": "stream",
     "text": [
      "to be .FALSE.\n",
      "< biasWindowBeforeT0 = .FALSE.\n",
      "< \n",
      "< ! If persistBias: Only use this many last (obs, mo"
     ]
    },
    {
     "name": "stdout",
     "output_type": "stream",
     "text": [
      "deled) pairs. (If Commented out, Default=-1*nLastObs)\n",
      "< ! > 0: apply an age-based filter, units=hour"
     ]
    },
    {
     "name": "stdout",
     "output_type": "stream",
     "text": [
      "s.\n",
      "< ! = 0: apply no additional filter, use all available/usable obs.\n",
      "< ! < 0: apply an count-based "
     ]
    },
    {
     "name": "stdout",
     "output_type": "stream",
     "text": [
      "filter, units=count\n",
      "< maxAgePairsBiasPersist = 3\n",
      "< \n",
      "< ! If persistBias: The minimum number of last ("
     ]
    },
    {
     "name": "stdout",
     "output_type": "stream",
     "text": [
      "obs, modeled) pairs, with age less than\n",
      "< ! maxAgePairsBiasPersist, required to apply a bias correct"
     ]
    },
    {
     "name": "stdout",
     "output_type": "stream",
     "text": [
      "ion. (default=8)\n",
      "< minNumPairsBiasPersist = 1\n",
      "< \n",
      "< ! If persistBias: give more weight to observation"
     ]
    },
    {
     "name": "stdout",
     "output_type": "stream",
     "text": [
      "s closer in time? (default=FALSE)\n",
      "< invDistTimeWeightBias = .TRUE.\n",
      "< \n",
      "< ! If persistBias: \"No constr"
     ]
    },
    {
     "name": "stdout",
     "output_type": "stream",
     "text": [
      "uctive interference in bias correction?\", Reduce the bias adjustment\n",
      "< ! when the model and the bias"
     ]
    },
    {
     "name": "stdout",
     "output_type": "stream",
     "text": [
      " adjustment have the same sign relative to the modeled flow at t0?\n",
      "< ! (default=FALSE)\n",
      "< ! Note: Per"
     ]
    },
    {
     "name": "stdout",
     "output_type": "stream",
     "text": [
      "fect restart tests require this option to be .FALSE.\n",
      "< noConstInterfBias = .TRUE.\n",
      "< \n",
      "235d185\n",
      "< \n"
     ]
    }
   ],
   "source": [
    "%%bash\n",
    "diff ~/wrf-hydro-training/output/lesson7/run_nwm/hydro.namelist ~/wrf-hydro-training/output/lesson7/run_gridded_baseline/hydro.namelist || true"
   ]
  },
  {
   "cell_type": "markdown",
   "metadata": {},
   "source": [
    "### Run the default Gridded and NWM simulations\n",
    "In this section we will run default simulations for the NWM and Gridded configurations using our prepared simulation directories. "
   ]
  },
  {
   "cell_type": "markdown",
   "metadata": {},
   "source": [
    "**Step 1: Run the NWM simulation**"
   ]
  },
  {
   "cell_type": "code",
   "execution_count": 9,
   "metadata": {
    "execution": {
     "iopub.execute_input": "2025-04-03T00:46:27.269694Z",
     "iopub.status.busy": "2025-04-03T00:46:27.269267Z",
     "iopub.status.idle": "2025-04-03T00:46:40.861527Z",
     "shell.execute_reply": "2025-04-03T00:46:40.860647Z"
    }
   },
   "outputs": [],
   "source": [
    "%%bash\n",
    "# Run the simulation\n",
    "cd ~/wrf-hydro-training/output/lesson7/run_nwm\n",
    "mpirun -np 2 ./wrf_hydro &> run.log"
   ]
  },
  {
   "cell_type": "code",
   "execution_count": 10,
   "metadata": {
    "execution": {
     "iopub.execute_input": "2025-04-03T00:46:40.864620Z",
     "iopub.status.busy": "2025-04-03T00:46:40.864324Z",
     "iopub.status.idle": "2025-04-03T00:46:40.875900Z",
     "shell.execute_reply": "2025-04-03T00:46:40.874909Z"
    }
   },
   "outputs": [
    {
     "name": "stdout",
     "output_type": "stream",
     "text": [
      " The model finished successfully.......\n"
     ]
    }
   ],
   "source": [
    "%%bash\n",
    "# Check that it finished successfully\n",
    "tail -1 ~/wrf-hydro-training/output/lesson7/run_nwm/diag_hydro.00000"
   ]
  },
  {
   "cell_type": "markdown",
   "metadata": {},
   "source": [
    "**Step 2: Run the gridded simulation**"
   ]
  },
  {
   "cell_type": "code",
   "execution_count": 11,
   "metadata": {
    "execution": {
     "iopub.execute_input": "2025-04-03T00:46:40.879795Z",
     "iopub.status.busy": "2025-04-03T00:46:40.879251Z",
     "iopub.status.idle": "2025-04-03T00:47:01.389301Z",
     "shell.execute_reply": "2025-04-03T00:47:01.387794Z"
    }
   },
   "outputs": [],
   "source": [
    "%%bash\n",
    "# Run the simulation\n",
    "cd ~/wrf-hydro-training/output/lesson7/run_gridded_baseline\n",
    "mpirun -np 2 ./wrf_hydro &> run.log"
   ]
  },
  {
   "cell_type": "code",
   "execution_count": 12,
   "metadata": {
    "execution": {
     "iopub.execute_input": "2025-04-03T00:47:01.393048Z",
     "iopub.status.busy": "2025-04-03T00:47:01.392738Z",
     "iopub.status.idle": "2025-04-03T00:47:01.405918Z",
     "shell.execute_reply": "2025-04-03T00:47:01.404733Z"
    }
   },
   "outputs": [
    {
     "name": "stdout",
     "output_type": "stream",
     "text": [
      " The model finished successfully.......\n"
     ]
    }
   ],
   "source": [
    "%%bash\n",
    "# Check that it finished successfully\n",
    "tail -1 ~/wrf-hydro-training/output/lesson7/run_gridded_baseline/diag_hydro.00000"
   ]
  },
  {
   "cell_type": "markdown",
   "metadata": {},
   "source": [
    "### View the hydrographs\n",
    "**Load the xarray python package**"
   ]
  },
  {
   "cell_type": "code",
   "execution_count": 13,
   "metadata": {
    "execution": {
     "iopub.execute_input": "2025-04-03T00:47:01.409525Z",
     "iopub.status.busy": "2025-04-03T00:47:01.409136Z",
     "iopub.status.idle": "2025-04-03T00:47:02.323543Z",
     "shell.execute_reply": "2025-04-03T00:47:02.321939Z"
    }
   },
   "outputs": [],
   "source": [
    "# Load the xarray package\n",
    "import xarray as xr\n",
    "import matplotlib.pyplot as plt\n",
    "import pandas as pd\n",
    "\n",
    "xr.set_options(display_style=\"html\")\n",
    "from pandas.plotting import register_matplotlib_converters\n",
    "register_matplotlib_converters()"
   ]
  },
  {
   "cell_type": "markdown",
   "metadata": {},
   "source": [
    "**Load the CHANOBS streamflow datasets**\n",
    "\n",
    "We are going to use the CHANOBS files because it will limit the number of grid cells to only those which we have specified have a gage."
   ]
  },
  {
   "cell_type": "code",
   "execution_count": 14,
   "metadata": {
    "execution": {
     "iopub.execute_input": "2025-04-03T00:47:02.327228Z",
     "iopub.status.busy": "2025-04-03T00:47:02.326757Z",
     "iopub.status.idle": "2025-04-03T00:47:13.204050Z",
     "shell.execute_reply": "2025-04-03T00:47:13.202869Z"
    }
   },
   "outputs": [],
   "source": [
    "chanobs_gridded = xr.open_mfdataset('/home/docker/wrf-hydro-training/output/lesson7/run_gridded_baseline/*CHANOBS*',\n",
    "                            combine='by_coords')\n",
    "chanobs_nwm = xr.open_mfdataset('/home/docker/wrf-hydro-training/output/lesson7/run_nwm/*CHANOBS*',\n",
    "                            combine='by_coords')\n",
    "obs = pd.read_csv('/home/docker/wrf-hydro-training/example_case/USGS_obs.csv',dtype=str)\n",
    "obs['dateTime'] = pd.to_datetime(obs['dateTime'])\n",
    "obs['streamflow_cms'] = pd.to_numeric(obs['streamflow_cms'])"
   ]
  },
  {
   "cell_type": "markdown",
   "metadata": {},
   "source": [
    "**Plot the hydrographs**\n",
    "\n",
    "**Table 1. USGS Stream Gage IDs and associated WRF-Hydro feature_id indices.**\n",
    "\n",
    "|USGS Gage ID|WRF-Hydro gage feature_id|NWM ComID|Gage Information|\n",
    "|------|:-:|---|---|\n",
    "| 01374559 | 1 |6226964|https://waterdata.usgs.gov/pa/nwis/uv/?site_no=01374559|\n",
    "| 01447720 | 2 |6227008|https://waterdata.usgs.gov/nwis/nwismap/?site_no=01447720|"
   ]
  },
  {
   "cell_type": "code",
   "execution_count": 15,
   "metadata": {
    "execution": {
     "iopub.execute_input": "2025-04-03T00:47:13.207170Z",
     "iopub.status.busy": "2025-04-03T00:47:13.206858Z",
     "iopub.status.idle": "2025-04-03T00:47:16.181741Z",
     "shell.execute_reply": "2025-04-03T00:47:16.180204Z"
    }
   },
   "outputs": [
    {
     "data": {
      "image/png": "[encoded data removed]",
      "text/plain": [
       "<Figure size 1200x600 with 1 Axes>"
      ]
     },
     "metadata": {},
     "output_type": "display_data"
    }
   ],
   "source": [
    "fig, axes = plt.subplots(ncols=1,figsize=(12, 6))\n",
    "plt.suptitle('Hydrographs for NWM and gridded configurations',fontsize=24)\n",
    "chanobs_gridded.sel(feature_id = 2).streamflow.plot(label='Gridded',\n",
    "                                                     color='black',\n",
    "                                                     linestyle='--')\n",
    "chanobs_nwm.sel(feature_id = 6227008).streamflow.plot(label='NWM',\n",
    "                                                        color='blue',\n",
    "                                                        linestyle='-')\n",
    "obs[obs['site_no'] == '01447720'].plot(x='dateTime',\n",
    "                                       y='streamflow_cms',\n",
    "                                       ax=axes,\n",
    "                                       label='Observed',\n",
    "                                       color='grey')\n",
    "plt.legend()\n",
    "plt.show()"
   ]
  },
  {
   "cell_type": "markdown",
   "metadata": {},
   "source": [
    "## Summary\n",
    "The gridded default simulation more closely resembles the observations for the Irene event in the upstream catchment than the NWM default simulation.  The differences are wrapped up in several aspects: \n",
    "1. The NWM has been calibrated to fit various USGS headwater stream gauges.\n",
    "2. The geogrids for NWM and gridded are different, resulting in differences in some default geogrid parameters\n",
    "3. Fundamental differences in channel physics\n",
    "4. NWM undergoes a mapping process to transfer fluxes between the grids to the vector network (the spatial weights), whereas the gridded configuration has a 1:1 mapping. "
   ]
  },
  {
   "cell_type": "markdown",
   "metadata": {},
   "source": [
    "### If time permits...\n",
    "View the *CHANNELGRID* variable from each `Fulldom_hires.nc` file for the NWM and Gridded domains using xarray.\n",
    "\n",
    "Note the differences and be ready to discuss."
   ]
  },
  {
   "cell_type": "markdown",
   "metadata": {},
   "source": [
    "# Congratulations!\n",
    "This concludes lesson 7, our last hands on experiment.  \n",
    "\n",
    "© UCAR 2025"
   ]
  }
 ],
 "metadata": {
  "kernelspec": {
   "display_name": "Python 3 (ipykernel)",
   "language": "python",
   "name": "python3"
  },
  "language_info": {
   "codemirror_mode": {
    "name": "ipython",
    "version": 3
   },
   "file_extension": ".py",
   "mimetype": "text/x-python",
   "name": "python",
   "nbconvert_exporter": "python",
   "pygments_lexer": "ipython3",
   "version": "3.12.2"
  },
  "toc": {
   "base_numbering": 1,
   "nav_menu": {},
   "number_sections": true,
   "sideBar": true,
   "skip_h1_title": true,
   "title_cell": "Table of Contents",
   "title_sidebar": "Contents",
   "toc_cell": true,
   "toc_position": {
    "height": "calc(100% - 180px)",
    "left": "10px",
    "top": "150px",
    "width": "414px"
   },
   "toc_section_display": true,
   "toc_window_display": true
  }
 },
 "nbformat": 4,
 "nbformat_minor": 4
}
