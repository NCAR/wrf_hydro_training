{
 "cells": [
  {
   "cell_type": "markdown",
   "metadata": {},
   "source": [
    "# Lesson S1 - Defining the model domain and initial conditions using the WRF Preprocessing System (WPS)"
   ]
  },
  {
   "cell_type": "markdown",
   "metadata": {},
   "source": [
    "## Overview\n",
    "This lesson covers creating your case-specific domain and defining static and initial conditions used for the land surface model within WRF-Hydro. "
   ]
  },
  {
   "cell_type": "markdown",
   "metadata": {},
   "source": [
    "### Software and input data\n",
    "The uses the following software:\n",
    "* WPS v4.2 built with the GNU compilers\n",
    "* R environment including all libraries for running create_wrfinput and create_soilproperties scripts\n",
    "* WPS geographical input data for the contiguous United States \n",
    "\n",
    "**Note:** Only USGS and default datasets are supported in this container. Lai_modis_30s, nlcd2011_30m, and topo_30s are subsets for training purposes only"
   ]
  },
  {
   "cell_type": "markdown",
   "metadata": {},
   "source": [
    "## Defining the model domain and creating the geogrid file\n",
    "WRF-Hydro leverages the extensive domain generation and geophysical dataset processing tools available in the [WRF Preprocessing System (WPS)](http://www2.mmm.ucar.edu/wrf/users/) to define model domains and generate input files for the land surface model. In particular WRF-Hydro requires the geogrid and file derived from these WPS utilities and a wrfinput file from WRF or a utility script provided by the WRF-Hydro team. \n",
    "\n",
    "This tutorial walks users through the process of manually creating a geogrid file from an existing WPS installation and creating wrfinput files from provided script package.  \n",
    "\n",
    "For those interested in the details of running the complete WPS system and generating wrfinput files through WRF, this is covered in our Docker training on the coupled WRF and WRF-Hydro modeling system."
   ]
  },
  {
   "cell_type": "markdown",
   "metadata": {},
   "source": [
    "### Data sources\n",
    "The WPS geographical input data (e.g. land cover, soil texture, and terrain height) are some of the primary datasets used by WRF-Hydro. The entire dataset collection can be obtained from the WPS geographical input data [download page](http://www2.mmm.ucar.edu/wrf/users/download/get_sources_wps_geog.html). However, these data are rather large (~50GB) and contain a number of datasets that are not used in most implementations of WRF-Hydro. \n",
    "\n",
    "To facilitate the domain generation process, the WRF-Hydro team has created a subset of the data by removing unnecessary data, removing resolutions of the data not commonly used, and limiting the areal extent of this subset. This is consistent with the availability of other datasets used in this tutorial. Thus, the dataset provided with this container is considerably smaller than the complete WPS geographical input dataset."
   ]
  },
  {
   "cell_type": "markdown",
   "metadata": {},
   "source": [
    "### WPS geogrid\n",
    "The WPS program *geogrid.exe* is used to create the `geo_em.d01.nc` file, hereafter referred to as the *geogrid* file. The `geogrid.exe` program takes a Fortran namelist (`namelist.wps`) defining the projection, resolution, and extent of the model domain as well as the desired input fields and the [WPS geographical input data](http://www2.mmm.ucar.edu/wrf/users/download/get_sources_wps_geog.html) as inputs and creates the geogrid file. "
   ]
  },
  {
   "cell_type": "markdown",
   "metadata": {},
   "source": [
    "### Defining domain boundaries\n",
    "The land surface model in WRF-Hydro operates on the domain defined within the geogrid file. The geogrid.exe program generates this file based upon input variables specified in the `namelist.wps` file. \n",
    "\n",
    "The first step to creating the geogrid file is to define our domain boundaries. The `geogrid.exe` program takes a centerpoint, x and y grid specifications, and other projection information to define a bounding box for the domain. If you do not already have coordinates, you can obtain them from Google Earth or a standard GIS system. However, for this tutorial we have supplied the coordinates for you and you may use the WRF-Hydro geogrid Python command line utility to visualize the domain location and create the geogrid file given these coordinates."
   ]
  },
  {
   "cell_type": "markdown",
   "metadata": {},
   "source": [
    "### Exploring the WPS geogrid utility\n",
    "The WPS `geogrid.exe` utility is controlled by options set in the `namelist.wps`. As previously stated, there are many options in the `namelist.wps` file that are not relevant to most WRF-Hydro users. For educational purposes, we will take a quick look at a full `namelist.wps` file and then discuss the relevant options used by the WRF-Hydro geogrid utility in more detail."
   ]
  },
  {
   "cell_type": "markdown",
   "metadata": {},
   "source": [
    "#### Setting up the lesson directory\n",
    "\n",
    "**Step 1: Setup the directory for this lesson**\n",
    "\n",
    "First, we need to create a directory to hold the inputs and outputs for this lesson."
   ]
  },
  {
   "cell_type": "code",
   "execution_count": null,
   "metadata": {
    "scrolled": true
   },
   "outputs": [],
   "source": [
    "%%bash\n",
    "\n",
    "mkdir -p ~/wrf-hydro-training/lesson-wps/geogrid"
   ]
  },
  {
   "cell_type": "markdown",
   "metadata": {},
   "source": [
    "**Step 2: View the namelist** \n",
    "    \n",
    "In the example case is a sample `namelist.wps` file for the domain of interest"
   ]
  },
  {
   "cell_type": "code",
   "execution_count": null,
   "metadata": {
    "scrolled": true
   },
   "outputs": [],
   "source": [
    "%%bash\n",
    "\n",
    "cd ~/wrf-hydro-training/lesson-wps\n",
    "cp ~/wrf-hydro-training/example_case/supplemental/namelist.wps .\n",
    "cat namelist.wps"
   ]
  },
  {
   "cell_type": "markdown",
   "metadata": {},
   "source": [
    "A full description of these options can be found in the [WPS User Guide](http://www2.mmm.ucar.edu/wrf/users/docs/user_guide_V3.9/users_guide_chap3.html). \n",
    "\n",
    "The options that are of interest to most WRF-Hydro users are the following:\n",
    "\n",
    "**Table 1. WPS namelist options relevent to WRF-Hydro**\n",
    "\n",
    "|Option|Description|\n",
    "|------|-----------|\n",
    "| e_we | The number of grid edges in the west-east dimension. The number of grid centers will be e_we-1. |\n",
    "| e_sn | The number of grid edges in the south-north dimension. The number of grid centers will be e_sn-1. |\n",
    "| ref_lat | A real value specifying the latitude part of a (latitude, longitude) center-point of the domain. |\n",
    "| ref_lon | A real value specifying the longitude part of a (latitude, longitude) center-point of the domain. West longitudes are negative, and the value of ref_lon should be in the range [-180, 180]. |\n",
    "| dx | A real value specifying the grid distance in the x-direction where the map scale factor is 1. The grid distance is in meters for the 'polar', 'lambert', and 'mercator' projection, and in degrees longitude for the 'lat-lon' projection. |\n",
    "| dy | A real value specifying the grid distance in the y-direction where the map scale factor is 1. The grid distance is in meters for the 'polar', 'lambert', and 'mercator' projection, and in degrees latitude for the 'lat-lon' projection. |\n",
    "| map_proj | A character string specifying the projection of the simulation domain. Accepted projections are 'lambert', 'polar', 'mercator', and 'lat-lon'. Default value is 'lambert'. |\n",
    "| truelat1 | A real value specifying, the first true latitude for the Lambert conformal conic projection, or the only true latitude for the Mercator and polar stereographic projections. |\n",
    "| truelat2 | A real value specifying, the second true latitude for the Lambert conformal conic projection. For all other projections, truelat2 is ignored. No default value. |\n",
    "| stand_lon | A real value specifying, the longitude that is parallel with the y-axis in the Lambert conformal and polar stereographic projections. For the regular latitude-longitude projection, this value gives the rotation about the earth's geographic poles. No default value. |\n",
    "| geog_data_res | A character string specifying a corresponding resolution or list of resolutions separated by + symbols of source data to be used when interpolating static terrestrial data to the grid. This string should contain a resolution matching a string preceding a colon in a rel_path or abs_path specification (see the description of GEOGRID.TBL options) in the GEOGRID.TBL file for each field. If a resolution in the string does not match any such string in a rel_path or abs_path specification for a field in GEOGRID.TBL, a default resolution of data for that field, if one is specified, will be used. If multiple resolutions match, the first resolution to match a string in a rel_path or abs_path specification in the GEOGRID.TBL file will be used. Default value is 'default'. |\n",
    "| geog_data_path | A character string giving the path, either relative or absolute, to the directory where the geographical data directories may be found. This path is the one to which rel_path specifications in the GEOGRID.TBL file are given in relation to. No default value. |"
   ]
  },
  {
   "cell_type": "markdown",
   "metadata": {},
   "source": [
    "### Making the geogrid file\n",
    "In this section, we will create the geogrid file using the WPS geogrid utility. "
   ]
  },
  {
   "cell_type": "code",
   "execution_count": null,
   "metadata": {
    "scrolled": true
   },
   "outputs": [],
   "source": [
    "%%bash\n",
    "\n",
    "cd ~/wrf-hydro-training/lesson-wps\n",
    "cp ~/WRF_WPS/WPS/geogrid/*.exe geogrid\n",
    "cp ~/WRF_WPS/geog_conus/*TBL* geogrid/GEOGRID.TBL\n",
    "\n",
    "./geogrid/geogrid.exe"
   ]
  },
  {
   "cell_type": "markdown",
   "metadata": {},
   "source": [
    "### Inspecting the geogrid file\n",
    "Now that we have created our geogrid file, we will quickly display the file header using the *ncdump* command line utility and open the file using the Python library `xarray` to visualize its contents. "
   ]
  },
  {
   "cell_type": "code",
   "execution_count": null,
   "metadata": {
    "scrolled": true
   },
   "outputs": [],
   "source": [
    "%%bash\n",
    "\n",
    "cd ~/wrf-hydro-training/lesson-wps\n",
    "ncdump -h geo_em.d01.nc"
   ]
  },
  {
   "cell_type": "code",
   "execution_count": null,
   "metadata": {},
   "outputs": [],
   "source": [
    "import xarray as xr\n",
    "from matplotlib import pyplot as plt\n",
    "xr.set_options(display_style=\"html\")\n",
    "\n",
    "\n",
    "ds = xr.open_dataset('~/wrf-hydro-training/lesson-wps/geo_em.d01.nc')\n",
    "ds"
   ]
  },
  {
   "cell_type": "code",
   "execution_count": null,
   "metadata": {},
   "outputs": [],
   "source": [
    "p = ds.HGT_M.plot()\n",
    "p.axes.set_aspect('equal')"
   ]
  },
  {
   "cell_type": "markdown",
   "metadata": {},
   "source": [
    "### Create the wrfinput file"
   ]
  },
  {
   "cell_type": "code",
   "execution_count": null,
   "metadata": {},
   "outputs": [],
   "source": [
    "%%bash\n",
    "\n",
    "cd ~/wrf-hydro-training/lesson-wps\n",
    "cp ~/wrf-hydro-training/wrf_hydro_model_tools/parameters/create_wrfinput/*.R .\n",
    "Rscript create_wrfinput.R --geogrid=\"geo_em.d01.nc\""
   ]
  },
  {
   "cell_type": "markdown",
   "metadata": {},
   "source": [
    "**View the *wrfinput_d01.nc* file**"
   ]
  },
  {
   "cell_type": "code",
   "execution_count": null,
   "metadata": {
    "scrolled": true
   },
   "outputs": [],
   "source": [
    "%%bash\n",
    "\n",
    "cd ~/wrf-hydro-training/lesson-wps\n",
    "ncdump -h wrfinput_d01.nc"
   ]
  },
  {
   "cell_type": "markdown",
   "metadata": {},
   "source": [
    "### Create the soil properties file"
   ]
  },
  {
   "cell_type": "code",
   "execution_count": null,
   "metadata": {
    "scrolled": true
   },
   "outputs": [],
   "source": [
    "%%bash\n",
    "\n",
    "cd ~/wrf-hydro-training/lesson-wps\n",
    "\n",
    "cp ~/wrf-hydro-training/wrf_hydro_model_tools/parameters/create_soilproperties/*.R .\n",
    "\n",
    "cp ~/wrf-hydro-training/wrf_hydro_nwm_public/trunk/NDHMS/Land_models/NoahMP/run/*TBL .\n",
    "cp ~/wrf-hydro-training/wrf_hydro_nwm_public/trunk/NDHMS/template/HYDRO/*TBL .\n",
    "\n",
    "Rscript create_soilproperties.R"
   ]
  },
  {
   "cell_type": "code",
   "execution_count": null,
   "metadata": {},
   "outputs": [],
   "source": [
    "ds = xr.open_dataset('~/wrf-hydro-training/lesson-wps/wrfinput_d01.nc')\n",
    "ds"
   ]
  },
  {
   "cell_type": "code",
   "execution_count": null,
   "metadata": {},
   "outputs": [],
   "source": [
    "p = ds.SMOIS.sel(soil_layers_stag=0).plot()\n",
    "p.axes.set_aspect('equal')"
   ]
  },
  {
   "cell_type": "markdown",
   "metadata": {},
   "source": [
    "This concludes the lesson on domain definition and initial conditions for WRF-Hydro. \n",
    "\n",
    "© UCAR 2020"
   ]
  }
 ],
 "metadata": {
  "kernelspec": {
   "display_name": "Python 3",
   "language": "python",
   "name": "python3"
  },
  "language_info": {
   "codemirror_mode": {
    "name": "ipython",
    "version": 3
   },
   "file_extension": ".py",
   "mimetype": "text/x-python",
   "name": "python",
   "nbconvert_exporter": "python",
   "pygments_lexer": "ipython3",
   "version": "3.8.3"
  },
  "toc": {
   "base_numbering": 1,
   "nav_menu": {},
   "number_sections": true,
   "sideBar": true,
   "skip_h1_title": true,
   "title_cell": "Table of Contents",
   "title_sidebar": "Contents",
   "toc_cell": true,
   "toc_position": {},
   "toc_section_display": true,
   "toc_window_display": true
  },
  "toc-autonumbering": false,
  "toc-showcode": false,
  "toc-showmarkdowntxt": false
 },
 "nbformat": 4,
 "nbformat_minor": 4
}
