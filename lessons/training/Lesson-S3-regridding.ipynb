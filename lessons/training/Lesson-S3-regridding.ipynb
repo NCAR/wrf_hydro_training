{
 "cells": [
  {
   "cell_type": "markdown",
   "metadata": {},
   "source": [
    "# Lesson S3 - Regridding NLDAS forcing data to the WRF-Hydro domain"
   ]
  },
  {
   "cell_type": "markdown",
   "metadata": {},
   "source": [
    "## Overview\n",
    "In this lesson, we cover regridding NLDAS2 forcing data to a WRF-Hydro domain using the Python-based WRF-Hydro Forcing Engine"
   ]
  },
  {
   "cell_type": "markdown",
   "metadata": {},
   "source": [
    "## Required software and datasets"
   ]
  },
  {
   "cell_type": "markdown",
   "metadata": {},
   "source": [
    "### Meteorological Forcing Engine (MFE) software\n",
    "The WRF-Hydro Meteorological Forcing Engine (MFE) software can be downloaded from https://github.com/NCAR/WrfHydroForcing"
   ]
  },
  {
   "cell_type": "markdown",
   "metadata": {},
   "source": [
    "### Data sources\n",
    "For this training, data has already been included for the simulation time period. \n",
    "\n",
    "**NOTE: These data are for instructional purposes only and do not include forcing data used for model spinup**\n",
    "\n",
    "If you would like to acquire other data, NLDAS2 forcing data can be retrieved from the NASA data server at https://hydro1.gesdisc.eosdis.nasa.gov/data/NLDAS/NLDAS_FORA0125_H.002/. \n",
    "\n",
    "See the following site for information on how to access data:\n",
    "https://disc.gsfc.nasa.gov/data-access \n",
    "\n",
    "See the following instructions for how to download data files using wget:\n",
    "https://disc.gsfc.nasa.gov/information/howto?title=How%20to%20Download%20Data%20Files%20from%20HTTP%20Service%20with%20wget"
   ]
  },
  {
   "cell_type": "markdown",
   "metadata": {},
   "source": [
    "**Step 1: Extract the NLDAS2 forcing data provided with this tutorial**"
   ]
  },
  {
   "cell_type": "code",
   "execution_count": null,
   "metadata": {},
   "outputs": [],
   "source": [
    "%%bash\n",
    "cd ~/wrf-hydro-training/regridding\n",
    "tar -xf nldas_mfe_forcing.tar.gz"
   ]
  },
  {
   "cell_type": "markdown",
   "metadata": {},
   "source": [
    "**Step 2: View the contents of the input_files directory**"
   ]
  },
  {
   "cell_type": "code",
   "execution_count": null,
   "metadata": {},
   "outputs": [],
   "source": [
    "%%bash\n",
    "ls ~/wrf-hydro-training/regridding/NLDAS/input_files | head -10"
   ]
  },
  {
   "cell_type": "markdown",
   "metadata": {},
   "source": [
    "Let's view the data in the NLDAS2 inputs:"
   ]
  },
  {
   "cell_type": "code",
   "execution_count": null,
   "metadata": {},
   "outputs": [],
   "source": [
    "import xarray as xr\n",
    "import hvplot.xarray\n",
    "\n",
    "ldas_in = xr.open_mfdataset('/home/docker/wrf-hydro-training/regridding/NLDAS/input_files/NLDAS_FORA0125_H.A20170101.*.002.nc')\n",
    "\n",
    "input_field = ldas_in.APCP_surface\n",
    "\n",
    "input_field.hvplot(groupby='time', data_aspect=1.0, xaxis=None, yaxis=None,\n",
    "                   title=input_field.short_name, attr_labels=False, widget_location='bottom',\n",
    "                   cmap='gist_ncar', clim=(input_field.min(), input_field.max()))"
   ]
  },
  {
   "cell_type": "markdown",
   "metadata": {},
   "source": [
    "**Step 3: View the domain metadata files**\n",
    "\n",
    "The Forcing Engine requires two additional static input files; a WRF *geogrid* file (for grid information), and an optional Spatial Metadata template file to copy attributes from."
   ]
  },
  {
   "cell_type": "code",
   "execution_count": null,
   "metadata": {},
   "outputs": [],
   "source": [
    "%%bash\n",
    "ls ~/wrf-hydro-training/regridding/NLDAS/*nc"
   ]
  },
  {
   "cell_type": "markdown",
   "metadata": {},
   "source": [
    "We have the necessary files, now we can begin the regridding process."
   ]
  },
  {
   "cell_type": "markdown",
   "metadata": {},
   "source": [
    "## Editing the forcing engine configuration file\n",
    "The WRF-Hydro Forcing Engine requires a configuration file to specify the input types, forecast time periods, and other options needed for regridding and pre-processing the forcing data."
   ]
  },
  {
   "cell_type": "markdown",
   "metadata": {},
   "source": [
    "**Step 1: Examine the supplied *nldas_fe.config* configuration file and verify the times and forcing input types**"
   ]
  },
  {
   "cell_type": "code",
   "execution_count": null,
   "metadata": {
    "scrolled": true
   },
   "outputs": [],
   "source": [
    "%%bash\n",
    "cat ~/wrf-hydro-training/regridding/NLDAS/nldas_fe.config"
   ]
  },
  {
   "cell_type": "markdown",
   "metadata": {},
   "source": [
    "## Regridding the forcing data using the forcing engine\n",
    "In this section we will regrid all our forcing data using the configuration shown above"
   ]
  },
  {
   "cell_type": "markdown",
   "metadata": {},
   "source": [
    "**Step 1: Run the Forcing Engine driver (`genForcing.py`)**\n",
    "\n",
    "`genForcing.py` takes 3 arguments: the path to the configuration file, a version number, and a configuration name. The version and name are arbitrary and used for logging and are inserted as netCDF Global Attributes in the LDASIN output files."
   ]
  },
  {
   "cell_type": "code",
   "execution_count": null,
   "metadata": {},
   "outputs": [],
   "source": [
    "%%bash\n",
    "cd ~/wrf-hydro-training/regridding/NLDAS\n",
    "rm -r output_files/* LOG_NLDAS*          # clean up any existing runs\n",
    "python3 ../../WrfHydroForcing/genForcing.py nldas_fe.config 5.2.1 NLDAS"
   ]
  },
  {
   "cell_type": "markdown",
   "metadata": {},
   "source": [
    "The Forcing Engine sends most of its output to a log file specified in the configuration file. Only severe errors are printed to *stdout* so a successful run will produce no output."
   ]
  },
  {
   "cell_type": "markdown",
   "metadata": {},
   "source": [
    "**Step 2: View the Forcing Engine Log:**"
   ]
  },
  {
   "cell_type": "code",
   "execution_count": null,
   "metadata": {
    "scrolled": true
   },
   "outputs": [],
   "source": [
    "%%bash\n",
    "cat /home/docker/wrf-hydro-training/regridding/NLDAS/LOG_NLDAS*"
   ]
  },
  {
   "cell_type": "markdown",
   "metadata": {},
   "source": [
    "**Step 3: View the contents of the *output_files* directory**\n",
    "\n",
    "The Forcing Engine will generate output files in a directory heirarchy rooted in `output_files`. Lets view the contents of the directory:"
   ]
  },
  {
   "cell_type": "code",
   "execution_count": null,
   "metadata": {},
   "outputs": [],
   "source": [
    "%%bash\n",
    "ls -R ~/wrf-hydro-training/regridding/NLDAS/output_files"
   ]
  },
  {
   "cell_type": "markdown",
   "metadata": {},
   "source": [
    "**Step 4: View the contents of the LDASIN files**\n",
    "\n",
    "Now, let's look at the actual regridded data in the output files. Try changing the variable from \"RAINRATE\" to others in the file to see the other fields."
   ]
  },
  {
   "cell_type": "code",
   "execution_count": null,
   "metadata": {},
   "outputs": [],
   "source": [
    "import xarray as xr\n",
    "import hvplot.xarray\n",
    "\n",
    "ldas_in = xr.open_mfdataset('/home/docker/wrf-hydro-training/regridding/NLDAS/output_files/2017010100/2017010*.LDASIN_DOMAIN1')\n",
    "\n",
    "ldas_in"
   ]
  },
  {
   "cell_type": "code",
   "execution_count": null,
   "metadata": {},
   "outputs": [],
   "source": [
    "ldas_in.RAINRATE.hvplot(groupby='time', data_aspect=1.0, xaxis=None, yaxis=None,\n",
    "                        title=input_field.name, attr_labels=False, widget_location='bottom',\n",
    "                        cmap='gist_ncar', clim=(input_field.min(), input_field.max()))"
   ]
  },
  {
   "cell_type": "markdown",
   "metadata": {},
   "source": [
    "© UCAR 2020"
   ]
  }
 ],
 "metadata": {
  "kernelspec": {
   "display_name": "Python 3",
   "language": "python",
   "name": "python3"
  },
  "language_info": {
   "codemirror_mode": {
    "name": "ipython",
    "version": 3
   },
   "file_extension": ".py",
   "mimetype": "text/x-python",
   "name": "python",
   "nbconvert_exporter": "python",
   "pygments_lexer": "ipython3",
   "version": "3.8.3"
  },
  "toc": {
   "base_numbering": 1,
   "nav_menu": {},
   "number_sections": true,
   "sideBar": true,
   "skip_h1_title": true,
   "title_cell": "Table of Contents",
   "title_sidebar": "Contents",
   "toc_cell": true,
   "toc_position": {},
   "toc_section_display": true,
   "toc_window_display": false
  }
 },
 "nbformat": 4,
 "nbformat_minor": 4
}
