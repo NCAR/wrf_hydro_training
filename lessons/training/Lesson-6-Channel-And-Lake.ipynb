{
 "cells": [
  {
   "cell_type": "markdown",
   "metadata": {},
   "source": [
    "# Lesson 6 - NWM Channel, Data Assimilation, and Lake Experiments"
   ]
  },
  {
   "cell_type": "markdown",
   "metadata": {
    "toc": true
   },
   "source": [
    "<h1>Table of Contents<span class=\"tocSkip\"></span></h1>\n",
    "<div class=\"toc\"><ul class=\"toc-item\"><li><span><a href=\"#Overview\" data-toc-modified-id=\"Overview-1\"><span class=\"toc-item-num\">1&nbsp;&nbsp;</span>Overview</a></span><ul class=\"toc-item\"><li><span><a href=\"#Software-and-conventions\" data-toc-modified-id=\"Software-and-conventions-1.1\"><span class=\"toc-item-num\">1.1&nbsp;&nbsp;</span>Software and conventions</a></span></li></ul></li><li><span><a href=\"#NWM-Nudging\" data-toc-modified-id=\"NWM-Nudging-2\"><span class=\"toc-item-num\">2&nbsp;&nbsp;</span>NWM Nudging</a></span></li><li><span><a href=\"#Channel-only\" data-toc-modified-id=\"Channel-only-3\"><span class=\"toc-item-num\">3&nbsp;&nbsp;</span>Channel-only</a></span></li><li><span><a href=\"#Experimental-Design\" data-toc-modified-id=\"Experimental-Design-4\"><span class=\"toc-item-num\">4&nbsp;&nbsp;</span>Experimental Design</a></span><ul class=\"toc-item\"><li><span><a href=\"#Compiling-WRF-Hydro\" data-toc-modified-id=\"Compiling-WRF-Hydro-4.1\"><span class=\"toc-item-num\">4.1&nbsp;&nbsp;</span>Compiling WRF-Hydro</a></span></li><li><span><a href=\"#Experiment-1:-Full-model-experiment\" data-toc-modified-id=\"Experiment-1:-Full-model-experiment-4.2\"><span class=\"toc-item-num\">4.2&nbsp;&nbsp;</span>Experiment 1: Full model experiment</a></span><ul class=\"toc-item\"><li><span><a href=\"#Overview-of-directories\" data-toc-modified-id=\"Overview-of-directories-4.2.1\"><span class=\"toc-item-num\">4.2.1&nbsp;&nbsp;</span>Overview of directories</a></span></li></ul></li><li><span><a href=\"#Experiment-2:-Channel-only-experiment\" data-toc-modified-id=\"Experiment-2:-Channel-only-experiment-4.3\"><span class=\"toc-item-num\">4.3&nbsp;&nbsp;</span>Experiment 2: Channel-only experiment</a></span><ul class=\"toc-item\"><li><span><a href=\"#Caveates-of-outputting-channel-fluxes\" data-toc-modified-id=\"Caveates-of-outputting-channel-fluxes-4.3.1\"><span class=\"toc-item-num\">4.3.1&nbsp;&nbsp;</span>Caveates of outputting channel-fluxes</a></span></li></ul></li><li><span><a href=\"#Experiment-3:-Channel-only-with-nudging-experiment\" data-toc-modified-id=\"Experiment-3:-Channel-only-with-nudging-experiment-4.4\"><span class=\"toc-item-num\">4.4&nbsp;&nbsp;</span>Experiment 3: Channel-only with nudging experiment</a></span><ul class=\"toc-item\"><li><span><a href=\"#Assimilation-points-and-observations:\" data-toc-modified-id=\"Assimilation-points-and-observations:-4.4.1\"><span class=\"toc-item-num\">4.4.1&nbsp;&nbsp;</span>Assimilation points and observations:</a></span></li><li><span><a href=\"#Nudging-namelist\" data-toc-modified-id=\"Nudging-namelist-4.4.2\"><span class=\"toc-item-num\">4.4.2&nbsp;&nbsp;</span>Nudging namelist</a></span></li></ul></li><li><span><a href=\"#View-the-hydrographs\" data-toc-modified-id=\"View-the-hydrographs-4.5\"><span class=\"toc-item-num\">4.5&nbsp;&nbsp;</span>View the hydrographs</a></span></li></ul></li><li><span><a href=\"#Appendix\" data-toc-modified-id=\"Appendix-5\"><span class=\"toc-item-num\">5&nbsp;&nbsp;</span>Appendix</a></span></li><li><span><a href=\"#Experiment-4---Turn-off-compound-channel\" data-toc-modified-id=\"Experiment-4---Turn-off-compound-channel-6\"><span class=\"toc-item-num\">6&nbsp;&nbsp;</span>Experiment 4 - Turn off compound channel</a></span><ul class=\"toc-item\"><li><span><a href=\"#Background\" data-toc-modified-id=\"Background-6.1\"><span class=\"toc-item-num\">6.1&nbsp;&nbsp;</span>Background</a></span></li><li><span><a href=\"#Objective\" data-toc-modified-id=\"Objective-6.2\"><span class=\"toc-item-num\">6.2&nbsp;&nbsp;</span>Objective</a></span></li></ul></li><li><span><a href=\"#Experiment-5---Adjusting-compound-channel-parameters\" data-toc-modified-id=\"Experiment-5---Adjusting-compound-channel-parameters-7\"><span class=\"toc-item-num\">7&nbsp;&nbsp;</span>Experiment 5 - Adjusting compound channel parameters</a></span><ul class=\"toc-item\"><li><span><a href=\"#Background\" data-toc-modified-id=\"Background-7.1\"><span class=\"toc-item-num\">7.1&nbsp;&nbsp;</span>Background</a></span></li><li><span><a href=\"#Objective\" data-toc-modified-id=\"Objective-7.2\"><span class=\"toc-item-num\">7.2&nbsp;&nbsp;</span>Objective</a></span></li><li><span><a href=\"#Results\" data-toc-modified-id=\"Results-7.3\"><span class=\"toc-item-num\">7.3&nbsp;&nbsp;</span>Results</a></span></li><li><span><a href=\"#Discussion\" data-toc-modified-id=\"Discussion-7.4\"><span class=\"toc-item-num\">7.4&nbsp;&nbsp;</span>Discussion</a></span></li></ul></li><li><span><a href=\"#Experiment-6---Removing-lakes-from-the-simulation\" data-toc-modified-id=\"Experiment-6---Removing-lakes-from-the-simulation-8\"><span class=\"toc-item-num\">8&nbsp;&nbsp;</span>Experiment 6 - Removing lakes from the simulation</a></span><ul class=\"toc-item\"><li><span><a href=\"#Background\" data-toc-modified-id=\"Background-8.1\"><span class=\"toc-item-num\">8.1&nbsp;&nbsp;</span>Background</a></span></li><li><span><a href=\"#Objective\" data-toc-modified-id=\"Objective-8.2\"><span class=\"toc-item-num\">8.2&nbsp;&nbsp;</span>Objective</a></span></li><li><span><a href=\"#Results\" data-toc-modified-id=\"Results-8.3\"><span class=\"toc-item-num\">8.3&nbsp;&nbsp;</span>Results</a></span></li><li><span><a href=\"#Discussion\" data-toc-modified-id=\"Discussion-8.4\"><span class=\"toc-item-num\">8.4&nbsp;&nbsp;</span>Discussion</a></span></li></ul></li><li><span><a href=\"#Experiment-7---Modifying-lake-parameters-in-LAKEPARM.nc\" data-toc-modified-id=\"Experiment-7---Modifying-lake-parameters-in-LAKEPARM.nc-9\"><span class=\"toc-item-num\">9&nbsp;&nbsp;</span>Experiment 7 - Modifying lake parameters in <code>LAKEPARM.nc</code></a></span><ul class=\"toc-item\"><li><span><a href=\"#Background\" data-toc-modified-id=\"Background-9.1\"><span class=\"toc-item-num\">9.1&nbsp;&nbsp;</span>Background</a></span></li><li><span><a href=\"#Objective\" data-toc-modified-id=\"Objective-9.2\"><span class=\"toc-item-num\">9.2&nbsp;&nbsp;</span>Objective</a></span></li><li><span><a href=\"#Create-experiment-simulation-directory\" data-toc-modified-id=\"Create-experiment-simulation-directory-9.3\"><span class=\"toc-item-num\">9.3&nbsp;&nbsp;</span>Create experiment simulation directory</a></span></li><li><span><a href=\"#Edit-the-LAKEPARM.nc-file-and-run-the-simulation\" data-toc-modified-id=\"Edit-the-LAKEPARM.nc-file-and-run-the-simulation-9.4\"><span class=\"toc-item-num\">9.4&nbsp;&nbsp;</span>Edit the <em>LAKEPARM.nc</em> file and run the simulation</a></span></li><li><span><a href=\"#Results\" data-toc-modified-id=\"Results-9.5\"><span class=\"toc-item-num\">9.5&nbsp;&nbsp;</span>Results</a></span></li><li><span><a href=\"#Discussion\" data-toc-modified-id=\"Discussion-9.6\"><span class=\"toc-item-num\">9.6&nbsp;&nbsp;</span>Discussion</a></span></li></ul></li></ul></div>"
   ]
  },
  {
   "cell_type": "markdown",
   "metadata": {},
   "source": [
    "\n",
    "\n",
    "## Overview\n",
    "\n",
    "This document introduces users of the National Water Model v2.0 to the channel-only and nudging data assimilation features. While nudging data assimilation has been available since NWM v1.0, the channel-only mode is only available with v1.2. Here as mentioned in lesson 0, we are using the model code v2.0. \n",
    "\n",
    "The primary intent here is to show users how to configure and run the model using both channel-only and nudging data assimilation. The source of this document includes all code required to both run the model *and* do the complete analysis which includes generating all the figures.\n",
    "\n",
    "### Software and conventions\n",
    "The easiest way to run these lessons is via the [wrfhydro/nwm-training](https://cloud.docker.com/u/wrfhydro/repository/docker/wrfhydro/nwm-training) Docker container, which has all software dependencies and data pre-installed.\n",
    "\n",
    "For a complete description of the software environment used for this training please see [Lesson 0 - Getting started](Lesson-0-start.ipynb).\n",
    "\n",
    "You may either execute commands by running each cell of this notebook. Alternatively, you may open a terminal in Jupyter Lab by selecting `New -> Terminal` in your `Home` tab of Jupyter Lab and input the commands manually if you prefer. You can also use your own terminal by logging into the container with the command `docker exec -it nwm-training bash`\n",
    "\n",
    "All paths used in this lesson assume that the lesson materials are located under your home directory in a folder named `nwm-training`. If your materials are located in another directory, you will not be able to run the commands in this notebook inside Jupyter and will need to type them manually in your terminal session. \n",
    "\n",
    "\n",
    "## NWM Nudging\n",
    "\n",
    "Data assimilation (DA) is the process of correcting or improving model (prognostic) states using observations. There are several motivations for performing DA. The most common, as done within the NWM analysis and assimilation cycle, is improving model simulation and forecast initital conditions.\n",
    "\n",
    "There are various approaches to data assimilation. Modern methods of data assimilation are typically computer intensive (ensemble-based assimilation) and/or human intensive (4DVar). Modern methods also have a fundamental assumption that model errors are zero-mean (and Gaussian distributed). Faced with high cost and uncertain succes of modern methods with an uncalibrated model as of V1.0, nudging data assimilation was picked for the NWM Initial Operating Capability. Nudging is a simple and computationally cheap method of data assimilation where an observed state is inserted into the model with some uncertainty. When the observed value is inserted into the model without uncertainty, the method is refered to as \"direct insertion\". Nudging works well locally to observations, both in space and time.\n",
    "\n",
    "Away from observations, in space and time, the method has limited success. On one hand, our application applies nudging data assimilation on a network with the advantage that the corrections are propigated with the network flow. On the other hand, if little spatial or temporal smoothing of the correction is included with the nudging method, upstream errors immediately propigate past observed point with the initialization of each forecast. Various assumptions can be made to smooth the nudge (or correction) in space and/or time but these are highly parameterized and require tuning. In the NWM we have avoided spatial smoothing and have opted to pursue some temporal-interpolation approaches.\n",
    "\n",
    "The basic nudging equation solves $e_j$, the nudge on a spatial element $j$.\n",
    "<!-- jlm-comment: My AMS 2016 talk: https://drive.google.com/drive/u/0/folders/0B27jTgncDiX1OE9VWGdXRGZaWFU) -->\n",
    "\n",
    "$$e_j = \\frac{\\sum\\limits^{N_j}_{n=1}q_n*w^2_n(j,t)*(Q_n-\\hat{Q}_n)}{\\sum\\limits^{N_j}_{n=1}w^2_n(j,t)}$$\n",
    "\n",
    "The numerator is the sum, over the $N$ observations affecting element $j$, of the product of each observations' quality coefficient, $q_n$, the model error, $Q_n - \\hat(Q_n)$, and the squared weights. The squared weights is where all the action happens. The weights determine how the nudge is interpolated in both space and time. The weights term $w_n(j,t)$ in the above equation is the weights solved for observation $n$ as a function of both space, $j$, and time, $t$. It is expressed as the product of separate spatial and temporal weight terms:\n",
    "\n",
    "\n",
    "$$\n",
    "w_n(j,t) = w_{n_s}(j,t) * w_{n_t}(j,t)\n",
    "$$\n",
    "\n",
    "The temporal weight term takes the following specific piecewise function in the NWM.\n",
    "$$\n",
    "w_{n_t}(j,t) =\n",
    "\\left\\{\n",
    "\\begin{array}{ll}\n",
    "      10^{10} * (1/10)^\\frac{\\mid t - \\hat{t} \\mid }{tau_j/10} & \\text{if } \\mid t-\\hat{t} \\mid \\le tau_j \\\\\n",
    "      e^{-(t - \\hat{t})/a } & \\text{if } t-\\hat{t} > tau_j \\\\\n",
    "      0 & \\text{otherwise} \\\\\n",
    "\\end{array}\n",
    "\\right.\n",
    "$$\n",
    "\n",
    "\n",
    "$$\n",
    "w_{n_s}(j) =\n",
    "\\left\\{\n",
    "\\begin{array}{ll}\n",
    "      \\frac{R_n^2-d_{jn}^2}{R_n^2+d_{jn}^2} & \\text{if } R^2 > d_{jn}^2 \\\\\n",
    "      0 & \\text{otherwise} \\\\\n",
    "\\end{array}\n",
    "\\right.\n",
    "$$\n",
    "\n",
    "\n",
    "The parameters specified in v1.2 of the model are `tau=15` minutes, `a=120` minutes, and `R=.25` meters for all gages in CONUS. The very short `R` means that nudging is applied locally to the reach where the observation is associated. The `tau=15` means that within 15 minutes of an observation we are heavily weightin the observation and `a=120` means that nudging to the observation relaxes with e-folding time of two hours moving away from the observation.\n",
    "\n",
    "There are some extra details of nudging which were implemented for v1.2, but these are not described here in any details. We will see some of these options when we look at the nudging namelist below but they will not be detailed. Please contact me for information and discussion.\n",
    "\n",
    "## Channel-only\n",
    "Currently the NWM channel-model is 1-way coupled to the upstream model components, it only recieves inflow. Therefore the channel can be run in a stand-alone mode. This is what we call \"channel-only\". The channel-only mode has 2 options:\n",
    "\n",
    "  * Channel (including nudging) + lakes\n",
    "  * Channel (including nudging) + lakes + ground water buckets\n",
    "\n",
    "NWM v1.2 operational `channel_rt` output contains the forcing fields for running the NWM in channel-only mode. For this training it would have been desirable to demonstrate running the full NWM or a \"cut-out\" domain with the operational v1.2 \"channel_rt\" files. Where the full CONUS model is typically run with ~800 cores, the CONUS channel-only model can run with about 80 cores. Use of more than a single core was precluded by the hardware-software available in the class. To date, we have also only run channel-only on a few small basins and we are still refining the NWM subset scripts necessary to setup channel-only runs on v1.2 cut-out domains. This should be ready shortly, so please be in contact if you would like to use this capability. One issue with doing these runs is getting the operational Hydro restart (HYDRO_RST) files, but this hurdle should be surmountable.\n"
   ]
  },
  {
   "cell_type": "markdown",
   "metadata": {},
   "source": [
    "## Experimental Design\n",
    "\n",
    "To demonstrate the channel-only mode of the NWM and the streamflow nudging capabilites, we'll run three experiments:\n",
    "\n",
    "1. *Full-model run* with no data assimilation (open loop). \n",
    "2. *Channel-only run*: forced with channel outputs from full-model run in 1.\n",
    "3. *Channel-only run with assimilation*: as in 2 but incorporating observations in the interior of the basin.\n",
    "\n",
    "In all cases, we'll evaluate the streamflow simulation at the outlet of the basin against\n",
    "\n",
    "- USGS streamflow observations.\n",
    "\n",
    "### Compiling WRF-Hydro\n",
    "Below are the commands to compile WRF-Hydro for the NWM configuration with Nudging on."
   ]
  },
  {
   "cell_type": "code",
   "execution_count": null,
   "metadata": {},
   "outputs": [],
   "source": [
    "%%bash\n",
    "# Change to the trunk/NDHMS directory and configure for gfort\n",
    "cd ~/nwm-training/wrf_hydro_nwm_public/trunk/NDHMS/; ./configure 2\n",
    "\n",
    "# Make a copy of the template environment variable file, setEnvars.sh\n",
    "cp ~/nwm-training/wrf_hydro_nwm_public/trunk/NDHMS/template/setEnvar.sh \\\n",
    "~/nwm-training/wrf_hydro_nwm_public/trunk/NDHMS/configureEnvars.sh"
   ]
  },
  {
   "cell_type": "markdown",
   "metadata": {},
   "source": [
    "**Set compile-time options**\n",
    "\n",
    "Edit the `configureEnvars.sh` script to set environment variables required by the compile script. Your `configureEnvars.sh` should look like the bash script below when you are finished. WRF_HYDRO_NUDGING should be set to 1 if you would like to run the model with Nudging data assimilation. Note that if the code is compiled with the Nudging on but no obsevration is prvided to the model, then the solution would be the same as with no nudging.\n",
    "\n",
    "---\n",
    "\n",
    "```bash\n",
    "#!/bin/bash\n",
    "# WRF-Hydro compile time options\n",
    "\n",
    "# This is a WRF environment variable. Always set to 1=On for compiling WRF-Hydro.\n",
    "export WRF_HYDRO=1\n",
    "\n",
    "# Enhanced diagnostic output for debugging: 0=Off, 1=On.\n",
    "export HYDRO_D=1\n",
    "\n",
    "# Spatially distributed parameters for NoahMP: 0=Off, 1=On.\n",
    "export SPATIAL_SOIL=1  \n",
    "\n",
    "# RAPID model: 0=Off, 1=On.\n",
    "export WRF_HYDRO_RAPID=0\n",
    "\n",
    "# Large netcdf file support: 0=Off, 1=On.\n",
    "export WRFIO_NCD_LARGE_FILE_SUPPORT=1\n",
    "\n",
    "# WCOSS file units: 0=Off, 1=On. \n",
    "export NCEP_WCOSS=0\n",
    "\n",
    "# Streamflow nudging: 0=Off, 1=On.\n",
    "export WRF_HYDRO_NUDGING=1\n",
    "```\n",
    "\n",
    "---"
   ]
  },
  {
   "cell_type": "markdown",
   "metadata": {},
   "source": [
    "**Compile WRF-Hydro in standalone mode**"
   ]
  },
  {
   "cell_type": "code",
   "execution_count": null,
   "metadata": {},
   "outputs": [],
   "source": [
    "%%bash\n",
    "cd ~/nwm-training/wrf_hydro_nwm_public/trunk/NDHMS/; \\\n",
    "./compile_offline_NoahMP.sh configureEnvars.sh >> compile.log 2>&1\n",
    "\n",
    "tail -13 ~/nwm-training/wrf_hydro_nwm_public/trunk/NDHMS/compile.log"
   ]
  },
  {
   "cell_type": "markdown",
   "metadata": {},
   "source": [
    "**We have successfully compiled WRF-Hydro and we will use this binary and *.TBL files for the remaining simulations in this lesson**"
   ]
  },
  {
   "cell_type": "markdown",
   "metadata": {},
   "source": [
    "### Experiment 1: Full model experiment\n",
    "\n",
    "We will copy our template directory `~/nwm-training/output/lesson4/run_NWM_template` and check the `namelist.hrldas` and `hydro.namelist` files to start the model from a Full Model run. "
   ]
  },
  {
   "cell_type": "code",
   "execution_count": null,
   "metadata": {},
   "outputs": [],
   "source": [
    "%%bash\n",
    "# Make a new directory for the three experiments in this lesson\n",
    "mkdir -p ~/nwm-training/output/lesson6\n",
    "\n",
    "# copy the run_NWM_template directory to prepare the first experiment\n",
    "cp -r ~/nwm-training/output/lesson4/run_NWM_template ~/nwm-training/output/lesson6/run_full_model"
   ]
  },
  {
   "cell_type": "markdown",
   "metadata": {},
   "source": [
    "#### Overview of directories\n",
    "\n",
    "Let s take a look at the content of the run directory once more. \n"
   ]
  },
  {
   "cell_type": "code",
   "execution_count": null,
   "metadata": {},
   "outputs": [],
   "source": [
    "%%bash\n",
    "ls ~/nwm-training/output/lesson6/run_full_model"
   ]
  },
  {
   "cell_type": "markdown",
   "metadata": {},
   "source": [
    "As shown here, we ave all the required files, and inputs for running the file in the full model model (as opposed to DA or channel only). The required files for the other two experiment is slightly different and will be discussed below. This experiment is forcing using hourly NLDAS-2 data and therfore the forcing type in the namelist.hlrdas is set to 1 (FORC_TYP = 1). The FORC_TYP would change for the channel-only (or channel-bucket-only) experiments since the outputs from this run will be used to force the model for the other two experiments. To do this we need to output the necessary channel-only forcing/flux variables to the files and therefore we need the following in the hydro.namelist:\n",
    "\n",
    "`! Options to output channel & bucket influxes. Only active for UDMP_OPT=1.\n",
    "! Nonzero choice requires that out_dt above matches NOAH_TIMESTEP in namelist.hrldas.\n",
    "! 0=None (default) \n",
    "! 1=channel influxes (qSfcLatRunoff, qBucket)\n",
    "! 2=channel+bucket fluxes    (qSfcLatRunoff, qBucket, qBtmVertRunoff_toBucket)\n",
    "! 3=channel accumulations    (accSfcLatRunoff, accBucket) *** NOT TESTED ***\n",
    "output_channelBucket_influx = 2`\n",
    "\n",
    "This option in the *hydro.namelist* should be set to 1 if running channel-only or set to 2 if running channel-bucket-only. In the provided namelist in the test case, *output_channelBucket_influx* is set to 2 which will work for the channel-only also, you would just have extra inforamtion in the *CHRTOUT* files. \n",
    "\n",
    "Now let s run the model. "
   ]
  },
  {
   "cell_type": "code",
   "execution_count": null,
   "metadata": {},
   "outputs": [],
   "source": [
    "%%bash\n",
    "cd ~/nwm-training/output/lesson6/run_full_model\n",
    "mpirun -np 2 ./wrf_hydro.exe >> run.log 2>&1"
   ]
  },
  {
   "cell_type": "markdown",
   "metadata": {},
   "source": [
    "### Experiment 2: Channel-only experiment\n",
    "Let's skip the streamflow display for now, and set up the run directory for the channel-only experiment. We will copy our template directory `~/nwm-training/output/lesson4/run_NWM_template` and edit the *namelist.hrldas* and *hydro.namelist* files to start the channel only model run."
   ]
  },
  {
   "cell_type": "code",
   "execution_count": null,
   "metadata": {},
   "outputs": [],
   "source": [
    "%%bash\n",
    "# copy the run_NWM_template directory to prepare the channel-only experiment\n",
    "cp -r ~/nwm-training/output/lesson4/run_NWM_template ~/nwm-training/output/lesson6/run_channel_only"
   ]
  },
  {
   "cell_type": "markdown",
   "metadata": {},
   "source": [
    "The only difference between the two runs (full model versus channel-only) would be the forcing files. For the channel-only run, The **CHRTOUT** files from the full model run above become the forcing files. Let's remove the symlink to the NLDAS-2 files and create a symlink to the *CHRTOUT* files from the full model run. "
   ]
  },
  {
   "cell_type": "code",
   "execution_count": null,
   "metadata": {
    "scrolled": false
   },
   "outputs": [],
   "source": [
    "%%bash\n",
    "\n",
    "# remove the symlink to the NLDAS-2 forcing data\n",
    "rm -rf ~/nwm-training/output/lesson6/run_channel_only/FORCING\n",
    "\n",
    "# symlink the CHRTOUT files from the full model run to be the foricng for the channel-only run\n",
    "mkdir ~/nwm-training/output/lesson6/run_channel_only/FORCING\n",
    "cd ~/nwm-training/output/lesson6/run_channel_only/FORCING\n",
    "ln -s ~/nwm-training/output/lesson6/run_full_model/*CHRTOUT* .\n",
    "\n",
    "# let's check the content of the FORCING directory\n",
    "ls ~/nwm-training/output/lesson6/run_channel_only/FORCING | head"
   ]
  },
  {
   "cell_type": "markdown",
   "metadata": {},
   "source": [
    "Note that if you are using NWM output, you must transform the NWM channel_rt file names to match the above CHRTOUT file name format. This is typically done via symlinks, though it requires scripting a bit of math.\n",
    "\n",
    "Let’s take a quick look at the contents of a CHRTOUT files. "
   ]
  },
  {
   "cell_type": "code",
   "execution_count": null,
   "metadata": {},
   "outputs": [],
   "source": [
    "%%bash\n",
    "\n",
    "ncdump -h ~/nwm-training/output/lesson6/run_channel_only/FORCING/201108270100.CHRTOUT_DOMAIN1"
   ]
  },
  {
   "cell_type": "markdown",
   "metadata": {},
   "source": [
    "The two variables in the file, qSfcLatRunoff and qBucket, are the forcing fluxes for the channel-only run. The flux from the overland run off and subsurface exfiltration are collected in qSfcLatRunoff. The discharge from the bucket to the channel is in qBucket. The options also exists to get the flux to the bucket and run the bucket model with the channel, qBtmVertRunoff is for that purpose.\n",
    "\n",
    "Now edit the namelist. The *FORC_TYP* was set to 1 for the previous experiment since we were using the NLDAS-2 hourly dataset. This entry should be set to 9 for the channel-only model run. Here we are not running the bucket model. If we also wanted to run the bucket model as part of the channel-only run then we would need `output_channelBucket_influx = 2` in the full model run and `FORC_TYP=10` in the *namelist.hrldas*. So let's change the forcing type in *namelist.hrldas* from:\n",
    "\n",
    "` FORC_TYP = 1`\n",
    " \n",
    " to\n",
    " \n",
    "` FORC_TYP = 9`\n",
    "\n",
    "Note: This FORC_TYP option is currently an unreleased feature and not discussed in the Technical Description documentation.\n",
    "\n",
    "Nothing needs to be changed in the hydro.namelist. Run the model. "
   ]
  },
  {
   "cell_type": "code",
   "execution_count": null,
   "metadata": {},
   "outputs": [],
   "source": [
    "%%bash\n",
    "cd ~/nwm-training/output/lesson6/run_channel_only\n",
    "mpirun -np 2 ./wrf_hydro.exe >> run.log 2>&1"
   ]
  },
  {
   "cell_type": "markdown",
   "metadata": {},
   "source": [
    "You can check that your simulation ran successfully by examining the last line of the diag files, which should read  `The model finished successfully........`"
   ]
  },
  {
   "cell_type": "code",
   "execution_count": null,
   "metadata": {},
   "outputs": [],
   "source": [
    "%%bash\n",
    "tail -1 ~/nwm-training/output/lesson6/run_channel_only/diag_hydro.00000"
   ]
  },
  {
   "cell_type": "markdown",
   "metadata": {},
   "source": [
    "The channel-only simulation matches exactly over all streamflow reaches and all times except that the forcing field  `qSfcLatRunoff` is not exactly replicated in the output file. We will plot the streamflow simulations below however, it would be identical to the full model. \n",
    "\n",
    "#### Caveates of outputting channel-fluxes\n",
    "Note above that when selecting a non-zero output_channelBucket_influx from the hydro.namelist you should read the supplied advice\n",
    "\n",
    "`! Nonzero choice requires that out_dt above matches NOAH_TIMESTEP in namelist.hrldas.`\n",
    "\n",
    "Curently the model is configured to output the desired fluxes for channel-only forcing at the frequency of the output, which is specified by the out_dt option in hydro.namelist. Because these have to force the channel model at the frequency at which the LSM forced the hydro model, the out_dt must match NOAH_TIMESTEP which is specified in namelist.hrldas. If this is not true, the model will fail with an error that these two settings are in conflict when output_channelBucket_influx is non-zero. There exists the ability to relax this requirement, but this is the current state of the model. Note that for example, the medium-range NWM forecast cannot supply channel_rt files with channel-only forcing because out_dt (3hr) is less frequent than the NOAH_TIMESTEP (1hr).\n"
   ]
  },
  {
   "cell_type": "markdown",
   "metadata": {},
   "source": [
    "### Experiment 3: Channel-only with nudging experiment\n",
    "\n",
    "We could run either the full model or channel-only with DA, here we will run the channel-only with the nudging. Nearly all the setup should be identical to the channel-only run without assimilation, but with a few differences for the DA. We will copy our template directory `~/wrf-hydro-training/output/lesson4/run_NWM_template` to start the channel-only model with DA run. Also, remove the symlink to the NLDAS-2 files and create a symlink to the *CHRTOUT* files from the full model run."
   ]
  },
  {
   "cell_type": "code",
   "execution_count": null,
   "metadata": {
    "scrolled": true
   },
   "outputs": [],
   "source": [
    "%%bash\n",
    "# copy the run_NWM_template directory to prepare the channel-only with nudging experiment\n",
    "cp -r ~/nwm-training/output/lesson4/run_NWM_template ~/nwm-training/output/lesson6/run_channel_only_DA\n",
    "\n",
    "# replace the excutable with from run_NWM_template with the new compiled code with Nudging on\n",
    "cp ~/nwm-training/wrf_hydro_nwm_public/trunk/NDHMS/Run/wrf_hydro.exe \\\n",
    "~/nwm-training/output/lesson6/run_channel_only_DA\n",
    "\n",
    "# remove the symlink to the NLDAS-2 forcing data\n",
    "rm -rf ~/nwm-training/output/lesson6/run_channel_only_DA/FORCING\n",
    "\n",
    "# symlink the CHRTOUT files from the full model run to be the foricng for the channel-only run\n",
    "mkdir ~/nwm-training/output/lesson6/run_channel_only_DA/FORCING\n",
    "cd ~/nwm-training/output/lesson6/run_channel_only_DA/FORCING\n",
    "ln -s ~/nwm-training/output/lesson6/run_full_model/*CHRTOUT* .\n",
    "\n",
    "# let's check the content of the FORCING directory\n",
    "ls ~/nwm-training/output/lesson6/run_channel_only_DA/FORCING | head"
   ]
  },
  {
   "cell_type": "markdown",
   "metadata": {},
   "source": [
    "Now edit the namelist. Change the forcing type in *namelist.hrldas* from:\n",
    "\n",
    "` FORC_TYP = 1`\n",
    " \n",
    " to\n",
    " \n",
    "` FORC_TYP = 9`\n",
    "\n",
    "Up to here, we made all the necessary changes to have the channel-only run, let's talk about the data assimilation required files now. \n",
    "\n",
    "#### Assimilation points and observations:\n",
    "Now we need the streamflow observations that need to be assimilated. First question is at what locations we can assimilate streamflow observation. To answer this question, let's take a look at the Routelink file. All the channel parameters and channel geometry for WRF-Hydro NWM configration are specified in the routelink file. Each reach element may have a single gage identified with it as specified by a fixed-width 15 character string in the gages field. A blank entry indicates no gage is present on the reach. The gages field in Route_Link.nc tells the nudging module where to apply the observed values to the stream network. Gages which appear in the observation files but not in the Route_Link.nc file do not cause a problem, they are simply skipped and their identifiers collected and printed to the file *NWIS_gages_not_in_RLAndParams.txt* file, described later. The number of non-blank routelink gages must match the number of gages supplied in the nudging parameters file, described next. \n",
    "\n",
    "Let s take a look at the content of the Routelink. "
   ]
  },
  {
   "cell_type": "code",
   "execution_count": null,
   "metadata": {},
   "outputs": [],
   "source": [
    "%%bash\n",
    "ncdump -h ~/nwm-training/output/lesson6/run_channel_only_DA/DOMAIN/Route_Link.nc"
   ]
  },
  {
   "cell_type": "markdown",
   "metadata": {},
   "source": [
    "In this domain there is 374 links/reaches that are being simulated. The channel parameters such as bottom width, channel side slope, ... are provided for each link. Let's check the content of the variables `gages` in the routelink file. "
   ]
  },
  {
   "cell_type": "code",
   "execution_count": null,
   "metadata": {},
   "outputs": [],
   "source": [
    "%%bash\n",
    "ncdump -v gages ~/nwm-training/output/lesson6/run_channel_only_DA/DOMAIN/Route_Link.nc | uniq | tail"
   ]
  },
  {
   "cell_type": "markdown",
   "metadata": {},
   "source": [
    "As you can see there are two reaches with specified site ID. Those are the two USGS gages that were shown in the basin map below. When time slice files (the observation files) are provided for this domain, only at these two reaches will the assimilation be performed. If you would like to have streamflow assimilation at reaches other than the one specified in the routelink, you need to add that gage to the routelink and snap it to an existing link/reach. In the appendix, we provide an R function (from rwrfhydro package) that will add the gage to the routelink. \n",
    "![study_map.PNG](lesson2_img/study_map.png)\n",
    "Now that we know where the assimilation will happen, we need the obervation files. In the appendix to this lesson, we have provided instruction (Rscript) on how to create these files. For this lesson, the files are provided in the example case. Let's make a symlink to the observation directory. "
   ]
  },
  {
   "cell_type": "code",
   "execution_count": null,
   "metadata": {},
   "outputs": [],
   "source": [
    "%%bash\n",
    "# let's check the content of the FORCING directory\n",
    "\n",
    "cp -as $HOME/nwm-training/example_case/NWM/nudgingTimeSliceObs \\\n",
    "~/nwm-training/output/lesson6/run_channel_only_DA/"
   ]
  },
  {
   "cell_type": "markdown",
   "metadata": {},
   "source": [
    "#### Nudging namelist\n",
    "In the hydro.namelist file, there is a separate namelist which sets all the run-time options for nudging. Let's review the content of the nudging section togther. "
   ]
  },
  {
   "cell_type": "code",
   "execution_count": null,
   "metadata": {
    "scrolled": true
   },
   "outputs": [],
   "source": [
    "%%bash\n",
    "cat ~/nwm-training/output/lesson6/run_channel_only_DA/hydro.namelist"
   ]
  },
  {
   "cell_type": "markdown",
   "metadata": {},
   "source": [
    "Now, we can run the model. Note the only difference from the channel-only run is that there is a folder with the time slices in the run directory which will be assimilated into the model."
   ]
  },
  {
   "cell_type": "code",
   "execution_count": null,
   "metadata": {},
   "outputs": [],
   "source": [
    "%%bash\n",
    "cd ~/nwm-training/output/lesson6/run_channel_only_DA\n",
    "mpirun -np 2 ./wrf_hydro.exe >> run.log 2>&1"
   ]
  },
  {
   "cell_type": "markdown",
   "metadata": {},
   "source": [
    "You can check that your simulation ran successfully by examining the last line of the diag files, which should read  `The model finished successfully........`"
   ]
  },
  {
   "cell_type": "code",
   "execution_count": null,
   "metadata": {},
   "outputs": [],
   "source": [
    "%%bash\n",
    "tail -1 ~/nwm-training/output/lesson6/run_channel_only_DA/diag_hydro.00000"
   ]
  },
  {
   "cell_type": "markdown",
   "metadata": {},
   "source": [
    "### View the hydrographs\n",
    "**Load the xarray python package**"
   ]
  },
  {
   "cell_type": "code",
   "execution_count": null,
   "metadata": {},
   "outputs": [],
   "source": [
    "# Load the xarray package\n",
    "%matplotlib inline\n",
    "import xarray as xr\n",
    "import matplotlib.pyplot as plt\n",
    "import pandas as pd"
   ]
  },
  {
   "cell_type": "markdown",
   "metadata": {},
   "source": [
    "**Load the CHANOBS streamflow datasets**\n",
    "\n",
    "We are going to use the CHANOBS files because it will limit the number of grid cells to only those which we have specified have a gage."
   ]
  },
  {
   "cell_type": "code",
   "execution_count": null,
   "metadata": {},
   "outputs": [],
   "source": [
    "chanobs_full_model = xr.open_mfdataset('/home/docker/nwm-training/output/lesson6/run_full_model/*CHANOBS*',\n",
    "                            concat_dim='time')\n",
    "chanobs_channel_only = xr.open_mfdataset('/home/docker/nwm-training/output/lesson6/run_channel_only/*CHANOBS*',\n",
    "                            concat_dim='time')\n",
    "chanobs_DA = xr.open_mfdataset('/home/docker/nwm-training/output/lesson6/run_channel_only_DA/*CHANOBS*',\n",
    "                            concat_dim='time')\n",
    "obs = pd.read_csv('/home/docker/nwm-training/example_case/USGS_obs.csv',dtype=str)\n",
    "obs['dateTime'] = pd.to_datetime(obs['dateTime'])\n",
    "obs['streamflow_cms'] = pd.to_numeric(obs['streamflow_cms'])"
   ]
  },
  {
   "cell_type": "markdown",
   "metadata": {},
   "source": [
    "**Plot the hydrographs**"
   ]
  },
  {
   "cell_type": "code",
   "execution_count": null,
   "metadata": {},
   "outputs": [],
   "source": [
    "fig, axes = plt.subplots(ncols=1,figsize=(12, 6))\n",
    "plt.suptitle('Hydrographs at the upstream gage',fontsize=24)\n",
    "chanobs_full_model.sel(feature_id = 4185837).streamflow.plot(label='Full Model',\n",
    "                                                     color='black',\n",
    "                                                     linestyle='--')\n",
    "chanobs_channel_only.sel(feature_id = 4185837).streamflow.plot(label='Channel-only',\n",
    "                                                        color='blue',\n",
    "                                                        linestyle='--')\n",
    "obs[obs['site_no'] == '01447680'].plot(x='dateTime',\n",
    "                                       y='streamflow_cms',\n",
    "                                       ax=axes,\n",
    "                                       label='Observed',\n",
    "                                       color='grey')\n",
    "chanobs_DA.sel(feature_id = 4185837).streamflow.plot(label='DA',\n",
    "                                                        color='green',\n",
    "                                                        linestyle='dotted')\n",
    "plt.legend()\n",
    "plt.show()"
   ]
  },
  {
   "cell_type": "markdown",
   "metadata": {},
   "source": [
    "The above hydrograph is at the interior gage where we assimilated the observation. Note that the channel-only simulation matches exactly the full model simulation. And the suimulation with nudging matches the observation, since at this location all the observations have been assimilated into the model.  "
   ]
  },
  {
   "cell_type": "code",
   "execution_count": null,
   "metadata": {},
   "outputs": [],
   "source": [
    "\n",
    "\n",
    "fig, axes = plt.subplots(ncols=1,figsize=(12, 6))\n",
    "plt.suptitle('Hydrographs at the downstream gage',fontsize=24)\n",
    "chanobs_full_model.sel(feature_id = 4185779).streamflow.plot(label='Full Model',\n",
    "                                                     color='black',\n",
    "                                                     linestyle='--')\n",
    "chanobs_DA.sel(feature_id = 4185779).streamflow.plot(label='DA',\n",
    "                                                        color='green',\n",
    "                                                        linestyle='-')\n",
    "obs[obs['site_no'] == '01447720'].plot(x='dateTime',\n",
    "                                       y='streamflow_cms',\n",
    "                                       ax=axes,\n",
    "                                       label='Observed',\n",
    "                                       color='grey')\n",
    "plt.legend()\n",
    "plt.show()"
   ]
  },
  {
   "cell_type": "markdown",
   "metadata": {},
   "source": [
    "This hydrograph is showing the impact of assimilating observation at the interior location on the outlet of the domain. Since at the interior location, the simulation for both events was higher than the observation, a negative nudge is added to the model solution to match the observation. Therefore, the simulation with nudging at the outlet location is lowering the simulated streamflow compared to the open loop solution which is degrading the performance for the first event where the model was underestimating in open loop and improving the second event where the model was overestimating the flow. "
   ]
  },
  {
   "cell_type": "markdown",
   "metadata": {},
   "source": [
    "## Appendix\n",
    "Note that there is an appendix R notebook to this lesson explaining how to create the time slice files. "
   ]
  },
  {
   "cell_type": "markdown",
   "metadata": {},
   "source": [
    "## Experiment 4 - Turn off compound channel\n",
    "### Background\n",
    "As of NWM v2.0, a compound channel condition was added to allow some attenuation of water into a conceptual (rectangular) element during periods of 'out of bank' flow.  We will test the difference in the streamflow response due to the compound channel for this single event.   \n",
    "\n",
    "### Objective\n",
    "Learn how to turn off the compound channel and test streamflow sensitivity of activating and deactivating the compound channel formulation. "
   ]
  },
  {
   "cell_type": "code",
   "execution_count": null,
   "metadata": {},
   "outputs": [],
   "source": [
    "%%bash\n",
    "# Set up a new directory for our new simulation\n",
    "cp -r ~/nwm-training/output/lesson4/run_NWM_template \\\n",
    "~/nwm-training/output/lesson6/turn_off_cc"
   ]
  },
  {
   "cell_type": "markdown",
   "metadata": {},
   "source": [
    "**Set compound_channel to FALSE off in the `hydro.namelist` file**\n",
    "\n",
    "There is one change needed to deactivate the compound channel:\n",
    "Set, `compound_channel = .FALSE.`\n",
    "When the option is set to `.TRUE`, it will activate.  Note that you can supply the same input files (Route_Link), the code will read or ignore the compound channel parameters according to this option.\n",
    "\n",
    "**Next, run the simulation**"
   ]
  },
  {
   "cell_type": "code",
   "execution_count": null,
   "metadata": {},
   "outputs": [],
   "source": [
    "%%bash\n",
    "cd ~/nwm-training/output/lesson6/turn_off_cc\n",
    "mpirun -np 2 ./wrf_hydro.exe >> run.log 2>&1"
   ]
  },
  {
   "cell_type": "markdown",
   "metadata": {},
   "source": [
    "**We will examine the results after conducting the next experiment.**"
   ]
  },
  {
   "cell_type": "markdown",
   "metadata": {},
   "source": [
    "## Experiment 5 - Adjusting compound channel parameters\n",
    "### Background\n",
    "As of NWM v2.0, a compound channel condition was added to allow some attenuation of water into a conceptual (rectangular) element during periods of 'out of bank' flow. For the initial implementation in v2.0, default settings were used to define the compound channel's roughness `nCC` and width `TopWdthCC`, both set in the Routelink file.   \n",
    "\n",
    "### Objective\n",
    "Test sensitivity of the compound channel parameters by modifying `nCC` and `TopWdthCC` and viewing streamflow at the two gauge locations. "
   ]
  },
  {
   "cell_type": "code",
   "execution_count": null,
   "metadata": {},
   "outputs": [],
   "source": [
    "%%bash\n",
    "# Set up a new directory for our new simulation\n",
    "cp -r ~/nwm-training/output/lesson4/run_NWM_template \\\n",
    "~/nwm-training/output/lesson6/modify_channel_params"
   ]
  },
  {
   "cell_type": "markdown",
   "metadata": {},
   "source": [
    "We will modify the two compound channel parameters using nco commands. Note: we will overwrite our current (template) Route_Link file for the purposes of this test.\n",
    "The two modifications are to multiply the in channel Manning's roughness by 4, `nCC=4*n` and to represent the width of the compound channel as 10 times the top width at bankfull, `TopWdthCC=10*TopWdth`. \n",
    "The nco commands are: "
   ]
  },
  {
   "cell_type": "code",
   "execution_count": null,
   "metadata": {},
   "outputs": [],
   "source": [
    "%%bash\n",
    "ncap2 -O -s \"TopWdthCC=10*TopWdth\" ~/nwm-training/output/lesson6/modify_channel_params/DOMAIN/Route_Link.nc \\\n",
    "~/nwm-training/output/lesson6/modify_channel_params/DOMAIN/Route_Link.nc\n",
    "ncap2 -O -s \"nCC=4*n\" ~/nwm-training/output/lesson6/modify_channel_params/DOMAIN/Route_Link.nc \\\n",
    "~/nwm-training/output/lesson6/modify_channel_params/DOMAIN/Route_Link.nc"
   ]
  },
  {
   "cell_type": "markdown",
   "metadata": {},
   "source": [
    "**Next we will run the simulation.** "
   ]
  },
  {
   "cell_type": "code",
   "execution_count": null,
   "metadata": {},
   "outputs": [],
   "source": [
    "%%bash\n",
    "cd ~/nwm-training/output/lesson6/modify_channel_params\n",
    "mpirun -np 2 ./wrf_hydro.exe >> run.log 2>&1"
   ]
  },
  {
   "cell_type": "markdown",
   "metadata": {},
   "source": [
    "### Results\n",
    "We will now look at the differences in streamflow between our NWM baseline run, compound channel off, and with adjusted compound channel parameters.\n",
    "\n",
    "We will use Python and the `xarray` library to load the data and plot hydrographs. For an intro to these tools, please see lesson 3.\n",
    "\n",
    "**Load the xarray python package**"
   ]
  },
  {
   "cell_type": "code",
   "execution_count": null,
   "metadata": {},
   "outputs": [],
   "source": [
    "# Load the xarray package\n",
    "%matplotlib inline\n",
    "import xarray as xr\n",
    "import matplotlib.pyplot as plt\n",
    "import pandas as pd"
   ]
  },
  {
   "cell_type": "markdown",
   "metadata": {},
   "source": [
    "**Load the CHANOBS streamflow datasets**"
   ]
  },
  {
   "cell_type": "code",
   "execution_count": null,
   "metadata": {},
   "outputs": [],
   "source": [
    "chanobs_baseline = xr.open_mfdataset('/home/docker/nwm-training/output/lesson4/run_NWM_baseline/*CHANOBS*',\n",
    "                            concat_dim='time')\n",
    "chanobs_cc_off = xr.open_mfdataset('/home/docker/nwm-training/output/lesson6/turn_off_cc/*CHANOBS*',\n",
    "                            concat_dim='time')\n",
    "chanobs_twcc_10_ncc_4 = xr.open_mfdataset('/home/docker/nwm-training/output/lesson6/modify_channel_params/*CHANOBS*',\n",
    "                            concat_dim='time')\n",
    "obs = pd.read_csv('/home/docker/nwm-training/example_case/USGS_obs.csv',dtype=str)\n",
    "obs['dateTime'] = pd.to_datetime(obs['dateTime'])\n",
    "obs['streamflow_cms'] = pd.to_numeric(obs['streamflow_cms'])"
   ]
  },
  {
   "cell_type": "markdown",
   "metadata": {},
   "source": [
    "**First let's plot results at the gauge outlet.**"
   ]
  },
  {
   "cell_type": "code",
   "execution_count": null,
   "metadata": {},
   "outputs": [],
   "source": [
    "fig, axes = plt.subplots(ncols=1,figsize=(12, 6))\n",
    "plt.suptitle('Hydrographs at outlet for compound channel experiments.',fontsize=24)\n",
    "chanobs_cc_off.sel(feature_id = 4185779).streamflow.plot(label='Compound channel off',\n",
    "                                                        color='blue',\n",
    "                                                        linestyle='-')\n",
    "chanobs_baseline.sel(feature_id = 4185779).streamflow.plot(label='NWM Base, Twcc=3, ncc=2',\n",
    "                                                        color='black',\n",
    "                                                        linestyle='--')\n",
    "chanobs_twcc_10_ncc_4.sel(feature_id = 4185779).streamflow.plot(label='Twcc=10, ncc=4',\n",
    "                                                        color='green',\n",
    "                                                        linestyle='--')\n",
    "obs[obs['site_no'] == '01447720'].plot(x='dateTime',\n",
    "                                         y='streamflow_cms',\n",
    "                                         ax=axes,\n",
    "                                         label='Observed',\n",
    "                                         color='grey')\n",
    "plt.ylim(0,175)\n",
    "plt.legend()\n",
    "plt.show()"
   ]
  },
  {
   "cell_type": "markdown",
   "metadata": {},
   "source": [
    "**Next let's plot results on the tributary gauge.**"
   ]
  },
  {
   "cell_type": "code",
   "execution_count": null,
   "metadata": {},
   "outputs": [],
   "source": [
    "fig, axes = plt.subplots(ncols=1,figsize=(12, 6))\n",
    "plt.suptitle('Hydrographs on tributary, gauge 01447680 for compound channel experiments.',fontsize=24)\n",
    "chanobs_cc_off.sel(feature_id = 4185837).streamflow.plot(label='Compound channel off',\n",
    "                                                        color='blue',\n",
    "                                                        linestyle='-')\n",
    "chanobs_baseline.sel(feature_id = 4185837).streamflow.plot(label='NWM Base, Twcc=3, ncc=2',\n",
    "                                                        color='black',\n",
    "                                                        linestyle='--')\n",
    "chanobs_twcc_10_ncc_4.sel(feature_id = 4185837).streamflow.plot(label='Twcc=10, ncc=4',\n",
    "                                                        color='green',\n",
    "                                                        linestyle='--')\n",
    "obs[obs['site_no'] == '01447680'].plot(x='dateTime',\n",
    "                                         y='streamflow_cms',\n",
    "                                         ax=axes,\n",
    "                                         label='Observed',\n",
    "                                         color='grey')\n",
    "plt.ylim(0,30)\n",
    "plt.legend()\n",
    "plt.show()"
   ]
  },
  {
   "cell_type": "markdown",
   "metadata": {},
   "source": [
    "### Discussion\n",
    " The default compound channel parameterization (NWM Base) does not alter the peak flows significantly.  However, in testing higher multipliers of these values, we find that the flows can be noticably impacted. This is especially true for the tributary branch. "
   ]
  },
  {
   "cell_type": "markdown",
   "metadata": {},
   "source": [
    "## Experiment 6 - Removing lakes from the simulation\n",
    "### Background\n",
    "In the NWM channel routing configuration, WRF-Hydro can be run with lakes on or off because the network sees them as objects. Note: in the gridded simulation it is not as simple as flipping a switch because if lakes are to be included, then they need to be represented explicitly on the fine grid (i.e. in the `Fulldom_hires.nc` file).  \n",
    "The only modification needed between running with and without lakes is to edit the `hydro.namelist`. See below for details.\n",
    "\n",
    "### Objective\n",
    "Run a simulation for the NWM configuration without representing lakes and compare the resulting hydrographs at the outlet gage."
   ]
  },
  {
   "cell_type": "code",
   "execution_count": null,
   "metadata": {},
   "outputs": [],
   "source": [
    "%%bash\n",
    "# Set up a new directory for our new simulation\n",
    "cp -r ~/nwm-training/output/lesson4/run_NWM_template \\\n",
    "~/nwm-training/output/lesson6/turn_lakes_off"
   ]
  },
  {
   "cell_type": "markdown",
   "metadata": {},
   "source": [
    "**First: Turn lakes off in the `hydro.namelist` file**\n",
    "\n",
    "There are two changes necessary in the `hydro.namelist` to turn lakes off.\n",
    "\n",
    "First is commenting out the `route_lake_f` option by starting the line with `!`\n",
    "\n",
    "```\n",
    "! Specify the lake parameter file (e.g.: \"LAKEPARM.nc\" for netcdf or \"LAKEPARM.TBL\" for text).\n",
    "! Note REQUIRED if lakes are on.\n",
    "!route_lake_f = \"./DOMAIN/LAKEPARM.nc\"\n",
    "```\n",
    "\n",
    "Second is turning off the lakeout output files.\n",
    "\n",
    "```\n",
    "outlake  = 0                 ! Netcdf grid of lake values (1d)\n",
    "                             !      0 = no output, 1 = output\n",
    "```\n",
    "\n",
    "**Next: Run the simulation**"
   ]
  },
  {
   "cell_type": "code",
   "execution_count": null,
   "metadata": {},
   "outputs": [],
   "source": [
    "%%bash\n",
    "cd ~/nwm-training/output/lesson6/turn_lakes_off\n",
    "mpirun -np 2 ./wrf_hydro.exe >> run.log 2>&1"
   ]
  },
  {
   "cell_type": "markdown",
   "metadata": {},
   "source": [
    "### Results\n",
    "We will now look at the differences in streamflow between our baseline run with lakes on and our experiment with lakes off.\n",
    "\n",
    "We will use Python and the `xarray` library to load the data and plot hydrographs. For an intro to these tools, please see lesson 3.\n",
    "\n",
    "**Load the xarray python package**"
   ]
  },
  {
   "cell_type": "code",
   "execution_count": null,
   "metadata": {},
   "outputs": [],
   "source": [
    "# Load the xarray package\n",
    "%matplotlib inline\n",
    "import xarray as xr\n",
    "import matplotlib.pyplot as plt"
   ]
  },
  {
   "cell_type": "markdown",
   "metadata": {},
   "source": [
    "**Load the CHANOBS streamflow datasets**\n"
   ]
  },
  {
   "cell_type": "code",
   "execution_count": null,
   "metadata": {},
   "outputs": [],
   "source": [
    "chanobs_baseline = xr.open_mfdataset('/home/docker/nwm-training/output/lesson4/run_NWM_baseline/*CHANOBS*',\n",
    "                            concat_dim='time')\n",
    "chanobs_lakes_off = xr.open_mfdataset('/home/docker/nwm-training/output/lesson6/turn_lakes_off/*CHANOBS*',\n",
    "                            concat_dim='time')\n",
    "obs = pd.read_csv('/home/docker/nwm-training/example_case/USGS_obs.csv',dtype=str)\n",
    "obs['dateTime'] = pd.to_datetime(obs['dateTime'])\n",
    "obs['streamflow_cms'] = pd.to_numeric(obs['streamflow_cms'])"
   ]
  },
  {
   "cell_type": "markdown",
   "metadata": {},
   "source": [
    "**Plot the hydrographs at the outlet gage location downstream of the lake**"
   ]
  },
  {
   "cell_type": "code",
   "execution_count": null,
   "metadata": {},
   "outputs": [],
   "source": [
    "fig, axes = plt.subplots(ncols=1,figsize=(12, 6))\n",
    "plt.suptitle('Hydrographs for lakes on and off at stream location downstream of lake',fontsize=24)\n",
    "chanobs_lakes_off.sel(feature_id = 4185779).streamflow.plot(label='Lakes off',\n",
    "                                                        color='blue',\n",
    "                                                        linestyle='-')\n",
    "chanobs_baseline.sel(feature_id = 4185779).streamflow.plot(label='Lakes on',\n",
    "                                                        color='black',\n",
    "                                                        linestyle='--')\n",
    "obs[obs['site_no'] == '01447720'].plot(x='dateTime',\n",
    "                                         y='streamflow_cms',\n",
    "                                         ax=axes,\n",
    "                                         label='Observed',\n",
    "                                         color='grey')\n",
    "plt.legend()\n",
    "plt.show()"
   ]
  },
  {
   "cell_type": "markdown",
   "metadata": {},
   "source": [
    "### Discussion\n",
    "The streamflow values at the gauge downstream of both lakes show considerable differences between the two simulations. When the lakes are not included, streamflow is higher. This reflects the expected behavior of the lake attenuating streamflow at the outlet due to storage. "
   ]
  },
  {
   "cell_type": "markdown",
   "metadata": {},
   "source": [
    "## Experiment 7 - Modifying lake parameters in `LAKEPARM.nc`\n",
    "### Background\n",
    "The lake parameters populated into LAKEPARM.nc by the pre-processing tools are essentially placeholders for the user to replace with their own data. The accuracy of these parameters can have a significant impact on the storage and thus outflow of the lake. We will investigate the impact of modifying one of these parameters on streamflow and lake outflows.\n",
    "\n",
    "### Objective\n",
    "In this exercise, we will update one of these parameters, the maximum lake elevation, which controls the maximum depth - `LkMxE`, with an estimate from observations and explore the impact on the streamflow at the downstream gauge.\n",
    "\n",
    "### Create experiment simulation directory"
   ]
  },
  {
   "cell_type": "code",
   "execution_count": null,
   "metadata": {},
   "outputs": [],
   "source": [
    "%%bash\n",
    "cp -r ~/nwm-training/output/lesson4/run_NWM_template \\\n",
    "~/nwm-training/output/lesson6/run_lakeparm_edit"
   ]
  },
  {
   "cell_type": "markdown",
   "metadata": {},
   "source": [
    "### Edit the *LAKEPARM.nc* file and run the simulation\n",
    "**Step 1: Edit the *LAKEPARM.nc* file**\n",
    "\n",
    "NCO (NetCDF Operators, http://nco.sourceforge.net/) is a set of useful utilities to manipulate NetCDF files. We will use the NCO command `ncap2` to edit the LkMxE variable."
   ]
  },
  {
   "cell_type": "code",
   "execution_count": null,
   "metadata": {},
   "outputs": [],
   "source": [
    "%%bash\n",
    "ncap2 -s \"where(lake_id==4185089) LkMxE=553.75\" ~/nwm-training/output/lesson6/run_lakeparm_edit/DOMAIN/LAKEPARM.nc \\\n",
    "~/nwm-training/output/lesson6/run_lakeparm_edit/DOMAIN/LAKEPARM_LkMxE_edit.nc"
   ]
  },
  {
   "cell_type": "markdown",
   "metadata": {},
   "source": [
    "**Step 2: Verify that the change was made**\n",
    "\n",
    "We will check the value of the `LkMxE` variable in our new *LAKEPARM_LkMxE_edit.nc* file against the original *LAKEPARM.nc* file."
   ]
  },
  {
   "cell_type": "code",
   "execution_count": null,
   "metadata": {},
   "outputs": [],
   "source": [
    "%%bash\n",
    "ncdump -v LkMxE ~/nwm-training/output/lesson6/run_lakeparm_edit/DOMAIN/LAKEPARM_LkMxE_edit.nc | tail"
   ]
  },
  {
   "cell_type": "code",
   "execution_count": null,
   "metadata": {},
   "outputs": [],
   "source": [
    "%%bash\n",
    "ncdump -v LkMxE ~/nwm-training/output/lesson6/run_lakeparm_edit/DOMAIN/LAKEPARM.nc | tail"
   ]
  },
  {
   "cell_type": "markdown",
   "metadata": {},
   "source": [
    "**Step 3: Edit the *hydro.namelist* to use the new *LAKEPARM_LkMxE_edit.nc***\n",
    "We will change the `route_lake_f` option in the *hydro.namelist* to use the edited lakeparm file. \n",
    "\n",
    "```\n",
    "! Specify the lake parameter file (e.g.: \"LAKEPARM.nc\").\n",
    "! Note REQUIRED if lakes are on.\n",
    "route_lake_f = \"./DOMAIN/LAKEPARM_LkMxE_edit.nc\"\n",
    "```\n",
    "\n",
    "**Step 4: Run the simulation**"
   ]
  },
  {
   "cell_type": "code",
   "execution_count": null,
   "metadata": {},
   "outputs": [],
   "source": [
    "%%bash\n",
    "cd ~/nwm-training/output/lesson6/run_lakeparm_edit\n",
    "mpirun -np 2 ./wrf_hydro.exe >> run.log 2>&1"
   ]
  },
  {
   "cell_type": "markdown",
   "metadata": {},
   "source": [
    "### Results\n",
    "We will now look at the differences in streamflow between our baseline run with the original LkMxE of 552.25m and our edited LkMxE of 553.75m.  We basically added 1.5m of available depth in the lake. \n",
    "\n",
    "We will use Python and the `xarray` library to load the data and plot hydrographs. For an intro to these tools, please see Lesson 3.\n",
    "\n",
    "**Load the xarray python package**"
   ]
  },
  {
   "cell_type": "code",
   "execution_count": null,
   "metadata": {},
   "outputs": [],
   "source": [
    "# Load the xarray package\n",
    "%matplotlib inline\n",
    "import xarray as xr\n",
    "import matplotlib.pyplot as plt\n",
    "import pandas as pd"
   ]
  },
  {
   "cell_type": "markdown",
   "metadata": {},
   "source": [
    "**Load the LAKEOUT datasets.\n",
    "First we will examine how this modification changed the lake outflow and the water surface elevation of the modified lake (upstream lake, ID = 4185089**)\n",
    "\n",
    "To explore lake related outputs, we use the LAKEOUT files, which produce total inflow, outflow, and water surface elevation for each lake in the domain.  To generate these output files, ensure that outlake = 1 in the hydro.namelist file. Unfortunately, we do not have observations of the lake discharge nor is there a gauge downstream. "
   ]
  },
  {
   "cell_type": "code",
   "execution_count": null,
   "metadata": {},
   "outputs": [],
   "source": [
    "lakeout_baseline = xr.open_mfdataset('/home/docker/nwm-training/output/lesson4/run_NWM_baseline/*LAKEOUT*',\n",
    "                            concat_dim='time')\n",
    "lakeout_lakeparm_edit = xr.open_mfdataset('/home/docker/nwm-training/output/lesson6/run_lakeparm_edit/*LAKEOUT*',\n",
    "                            concat_dim='time')"
   ]
  },
  {
   "cell_type": "markdown",
   "metadata": {},
   "source": [
    "**Plot the lake outflows, comparing baseline to the modified simulation**"
   ]
  },
  {
   "cell_type": "code",
   "execution_count": null,
   "metadata": {},
   "outputs": [],
   "source": [
    "fig, axes = plt.subplots(ncols=1,figsize=(12, 6))\n",
    "plt.suptitle('Lake Outflow ...',fontsize=24)\n",
    "lakeout_lakeparm_edit.sel(feature_id = 4185089).outflow.plot(label='LkMxE = 553.75m',\n",
    "                                                        color='blue',\n",
    "                                                        linestyle='-')\n",
    "lakeout_baseline.sel(feature_id = 4185089).outflow.plot(label='LkMxE = 552.25m',\n",
    "                                                        color='black',\n",
    "                                                        linestyle='--')\n",
    "\n",
    "plt.legend()\n",
    "plt.show()"
   ]
  },
  {
   "cell_type": "code",
   "execution_count": null,
   "metadata": {},
   "outputs": [],
   "source": [
    "fig, axes = plt.subplots(ncols=1,figsize=(12, 6))\n",
    "plt.suptitle('Water Surface Elevations ...',fontsize=24)\n",
    "lakeout_lakeparm_edit.sel(feature_id = 4185089).water_sfc_elev.plot(label='LkMxE = 553.75m',\n",
    "                                                        color='blue',\n",
    "                                                        linestyle='-')\n",
    "lakeout_baseline.sel(feature_id = 4185089).water_sfc_elev.plot(label='LkMxE = 552.25m',\n",
    "                                                        color='black',\n",
    "                                                        linestyle='--')\n",
    "\n",
    "plt.legend()\n",
    "plt.show()"
   ]
  },
  {
   "cell_type": "markdown",
   "metadata": {},
   "source": [
    "**Load the CHANOBS streamflow datasets**\n",
    "\n",
    "To visualize streamflow, we are going to use the CHANOBS files because it will limit the number of grid cells to only those which we have specified have a gage."
   ]
  },
  {
   "cell_type": "code",
   "execution_count": null,
   "metadata": {},
   "outputs": [],
   "source": [
    "chanobs_baseline = xr.open_mfdataset('/home/docker/nwm-training/output/lesson4/run_NWM_baseline/*CHANOBS*',\n",
    "                            concat_dim='time')\n",
    "chanobs_lakeparm_edit = xr.open_mfdataset('/home/docker/nwm-training/output/lesson6/run_lakeparm_edit/*CHANOBS*',\n",
    "                            concat_dim='time')\n",
    "obs = pd.read_csv('/home/docker/nwm-training/example_case/USGS_obs.csv',dtype=str)\n",
    "obs['dateTime'] = pd.to_datetime(obs['dateTime'])\n",
    "obs['streamflow_cms'] = pd.to_numeric(obs['streamflow_cms'])"
   ]
  },
  {
   "cell_type": "markdown",
   "metadata": {},
   "source": [
    "**Now let's plot the streamflow at the outlet gauge as a result of this change**"
   ]
  },
  {
   "cell_type": "code",
   "execution_count": null,
   "metadata": {},
   "outputs": [],
   "source": [
    "fig, axes = plt.subplots(ncols=1,figsize=(12, 6))\n",
    "plt.suptitle('Hydrograph ...',fontsize=24)\n",
    "chanobs_lakeparm_edit.sel(feature_id = 4185779).streamflow.plot(label='LkMxE = 553.75m',\n",
    "                                                        color='blue',\n",
    "                                                        linestyle='-')\n",
    "chanobs_baseline.sel(feature_id = 4185779).streamflow.plot(label='LkMxE = 552.25m',\n",
    "                                                        color='black',\n",
    "                                                        linestyle='--')\n",
    "obs[obs['site_no'] == '01447720'].plot(x='dateTime',\n",
    "                                       y='streamflow_cms',\n",
    "                                       ax=axes,\n",
    "                                       label='Observed',\n",
    "                                       color='grey')\n",
    "plt.legend()\n",
    "plt.show()"
   ]
  },
  {
   "cell_type": "markdown",
   "metadata": {},
   "source": [
    "### Discussion\n",
    "Adding depth to the upstream lake via changes to the `LkMxE` parameter has reduced streamflow in the first event because the lake is storing more water. We see this in the changes in lake outflow and water surface elevations, as well as streamflow at the outlet gauge. The second event is not as impacted, likely beacuse the lake downstream is simply spilling. "
   ]
  },
  {
   "cell_type": "markdown",
   "metadata": {},
   "source": [
    "# Next up - Congratulate Yourself\n",
    "This concludes the lessons for model simulation and parameter experimentation.\n",
    "\n",
    "**IT IS BEST TO EITHER SHUTDOWN THIS LESSON OR CLOSE IT BEFORE PROCEEDING TO THE NEXT LESSON TO AVOID POSSIBLY EXCEEDING ALLOCATED MEMORY. Shutdown the lesson by either closing the browser tab for the lesson or selecting `KERNAL->SHUTDOWN` in the jupyter notebook toolbar.**\n",
    "\n",
    "© UCAR 2019"
   ]
  }
 ],
 "metadata": {
  "kernelspec": {
   "display_name": "Python 3",
   "language": "python",
   "name": "python3"
  },
  "language_info": {
   "codemirror_mode": {
    "name": "ipython",
    "version": 3
   },
   "file_extension": ".py",
   "mimetype": "text/x-python",
   "name": "python",
   "nbconvert_exporter": "python",
   "pygments_lexer": "ipython3",
   "version": "3.6.8"
  },
  "toc": {
   "base_numbering": 1,
   "nav_menu": {},
   "number_sections": true,
   "sideBar": true,
   "skip_h1_title": true,
   "title_cell": "Table of Contents",
   "title_sidebar": "Contents",
   "toc_cell": true,
   "toc_position": {
    "height": "calc(100% - 180px)",
    "left": "10px",
    "top": "150px",
    "width": "165px"
   },
   "toc_section_display": true,
   "toc_window_display": true
  }
 },
 "nbformat": 4,
 "nbformat_minor": 2
}
