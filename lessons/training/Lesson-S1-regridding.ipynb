{
 "cells": [
  {
   "cell_type": "markdown",
   "metadata": {
    "toc": true
   },
   "source": [
    "<h1>Table of Contents<span class=\"tocSkip\"></span></h1>\n",
    "<div class=\"toc\"><ul class=\"toc-item\"><li><span><a href=\"#Overview\" data-toc-modified-id=\"Overview-1\"><span class=\"toc-item-num\">1&nbsp;&nbsp;</span>Overview</a></span><ul class=\"toc-item\"><li><span><a href=\"#Software-and-conventions\" data-toc-modified-id=\"Software-and-conventions-1.1\"><span class=\"toc-item-num\">1.1&nbsp;&nbsp;</span>Software and conventions</a></span></li></ul></li><li><span><a href=\"#Required-scripts-and-datasets\" data-toc-modified-id=\"Required-scripts-and-datasets-2\"><span class=\"toc-item-num\">2&nbsp;&nbsp;</span>Required scripts and datasets</a></span><ul class=\"toc-item\"><li><span><a href=\"#Regridding-scripts\" data-toc-modified-id=\"Regridding-scripts-2.1\"><span class=\"toc-item-num\">2.1&nbsp;&nbsp;</span>Regridding scripts</a></span></li><li><span><a href=\"#Data-sources\" data-toc-modified-id=\"Data-sources-2.2\"><span class=\"toc-item-num\">2.2&nbsp;&nbsp;</span>Data sources</a></span></li></ul></li><li><span><a href=\"#Creating-the-directory-structure\" data-toc-modified-id=\"Creating-the-directory-structure-3\"><span class=\"toc-item-num\">3&nbsp;&nbsp;</span>Creating the directory structure</a></span></li><li><span><a href=\"#Creating-the-regridding-weight-file\" data-toc-modified-id=\"Creating-the-regridding-weight-file-4\"><span class=\"toc-item-num\">4&nbsp;&nbsp;</span>Creating the regridding weight file</a></span></li><li><span><a href=\"#Regridding-the-forcing-data-using-the-weight-file\" data-toc-modified-id=\"Regridding-the-forcing-data-using-the-weight-file-5\"><span class=\"toc-item-num\">5&nbsp;&nbsp;</span>Regridding the forcing data using the weight file</a></span></li></ul></div>"
   ]
  },
  {
   "cell_type": "markdown",
   "metadata": {},
   "source": [
    "# Lesson S1 - Regridding NLDAS Forcing Data to the WRF-Hydro Domain\n",
    "\n",
    "## Overview\n",
    "In this lesson, we will cover regridding NLDAS2 forcing data to a WRF-Hydro domain using the ESMF regridding functions within the NCAR Command Language (NCL).\n",
    "\n",
    "### Software and conventions\n",
    "The easiest way to run these lessons is via the [wrfhydro/training](https://hub.docker.com/r/wrfhydro/training/) Docker container, which has all software dependencies and data pre-installed.\n",
    "\n",
    "For a complete description of the software environment used for this training please see [Lesson 0](Lesson-0-start.ipynb).\n",
    "\n",
    "You may either execute commands by running each cell of this notebook. Alternatively, you may open a terminal in JupyterLab by selecting `File -> New -> Terminal` within JupyterLab and input the commands manually if you prefer. You can also use your own terminal by logging into the container with the command `docker exec -it wrf-hydro-training bash`.\n",
    "\n",
    "All paths used in this lesson assume that the lesson materials are located under your home directory in a folder named *wrf-hydro-training*. If your materials are located in another directory, you will not be able to run the commands in this notebook inside Jupyter and will need to type them manually in your terminal session. \n",
    "\n",
    "## Required scripts and datasets\n",
    "\n",
    "### Regridding scripts\n",
    "Scripts and documentation to regrid NLDAS2 forcing data can be downloaded from the WRF-Hydro website at https://ral.ucar.edu/projects/wrf_hydro/regridding-scripts.\n",
    "\n",
    "### Data sources\n",
    "For this training, data has already been included for simulation time period. \n",
    "\n",
    "**NOTE: These data are for instructional purposes only and do not include forcing data used for model spinup**\n",
    "\n",
    "If you would like to acquire other data, NLDAS2 forcing data can be retrieved from the NASA data server at https://hydro1.gesdisc.eosdis.nasa.gov/data/NLDAS/NLDAS_FORA0125_H.002/. \n",
    "\n",
    "See the following site for information on how to access data:\n",
    "https://disc.gsfc.nasa.gov/data-access \n",
    "\n",
    "See the following instructions for how to download data files using wget:\n",
    "https://disc.gsfc.nasa.gov/information/howto?title=How%20to%20Download%20Data%20Files%20from%20HTTP%20Service%20with%20wget\n",
    "\n",
    "## Creating the directory structure\n",
    "The NCL regridding scripts require a **very** specific directory structure, which is outlined below:\n",
    "\n",
    "```\n",
    "|\n",
    "input_files\n",
    "    |_NLDAS_FORA0125_H.*.grb - All the NLDAS2 input forcing data\n",
    "|_NLDAS2WRFHydro_generate_weights.ncl - NCL script for generating weight file\n",
    "|_NLDAS2WRFHydro_regrid.ncl - NCL script for regridding\n",
    "```\n",
    "\n",
    "In this section, we will create this directory structure\n",
    "\n",
    "**Step 1: Extract the NLDAS2 forcing data provided with this tutorial**"
   ]
  },
  {
   "cell_type": "code",
   "execution_count": null,
   "metadata": {},
   "outputs": [],
   "source": [
    "%%bash\n",
    "cd ~/wrf-hydro-training/regridding/data\n",
    "tar -xf ~/wrf-hydro-training/regridding/data/nldas_forcing.tar.gz"
   ]
  },
  {
   "cell_type": "markdown",
   "metadata": {},
   "source": [
    "**Step 2: Create an *input_files* directory to hold the forcing data and move the data to it.**"
   ]
  },
  {
   "cell_type": "code",
   "execution_count": null,
   "metadata": {},
   "outputs": [],
   "source": [
    "%%bash\n",
    "mkdir -p ~/wrf-hydro-training/output/lessonS2/input_files\n",
    "mv ~/wrf-hydro-training/regridding/data/nldas_forcing/*.grb \\\n",
    "~/wrf-hydro-training/output/lessonS2/input_files"
   ]
  },
  {
   "cell_type": "markdown",
   "metadata": {},
   "source": [
    "**Step 3: View the contents of the input_files directory files**"
   ]
  },
  {
   "cell_type": "code",
   "execution_count": null,
   "metadata": {
    "scrolled": true
   },
   "outputs": [],
   "source": [
    "%%bash\n",
    "ls ~/wrf-hydro-training/output/lessonS2/input_files | head -10"
   ]
  },
  {
   "cell_type": "markdown",
   "metadata": {},
   "source": [
    "**Step 4: View the contents of the input_files directory files**\n",
    "Bring in the ncl scripts"
   ]
  },
  {
   "cell_type": "code",
   "execution_count": null,
   "metadata": {},
   "outputs": [],
   "source": [
    "%%bash\n",
    "cp ~/wrf-hydro-training/regridding/*.ncl \\\n",
    "~/wrf-hydro-training/output/lessonS2/"
   ]
  },
  {
   "cell_type": "markdown",
   "metadata": {},
   "source": [
    "**Step 5: Check that your directory structure is correct** "
   ]
  },
  {
   "cell_type": "code",
   "execution_count": null,
   "metadata": {
    "scrolled": true
   },
   "outputs": [],
   "source": [
    "%%bash\n",
    "ls ~/wrf-hydro-training/output/lessonS2/"
   ]
  },
  {
   "cell_type": "markdown",
   "metadata": {},
   "source": [
    "Our directory structure is established, now we can begin the regridding process."
   ]
  },
  {
   "cell_type": "markdown",
   "metadata": {},
   "source": [
    "## Creating the regridding weight file\n",
    "The weight files are netCDF files which specify interpolation weights between the source coordinate data grids and destination coordinate data grids. \n",
    "\n",
    "We will use the script *NLDAS2WRFHydro_generate_weights.ncl* to generate the weight file. This script takes a geogrid file and a single NLDAS2 forcing *.grb* file as inputs and returns a weight file."
   ]
  },
  {
   "cell_type": "markdown",
   "metadata": {},
   "source": [
    "**Step 1: Creating the regridding weight file**\n",
    "We will use the *NLDAS2WRFHydro_generate_weights.ncl* script to create the weight file\n",
    "\n",
    "Recall that we created a geogrid file in Lesson S1. We will use this geogrid file as input to the regridding script along with a single NLDAS2 forcing file. We will run the NCL scripts from our output directory because outputs are written to the current working directory"
   ]
  },
  {
   "cell_type": "code",
   "execution_count": null,
   "metadata": {},
   "outputs": [],
   "source": [
    "%%bash\n",
    "cd ~/wrf-hydro-training/output/lessonS2\n",
    "ncl 'interp_opt=\"bilinear\"' \\\n",
    "    'srcGridName=\"./input_files/NLDAS_FORA0125_H.A20110826.0000.002.grb\"' \\\n",
    "    'dstGridName=\"~/wrf-hydro-training/example_case/Gridded/DOMAIN/geo_em.d01.nc\"' \\\n",
    "    NLDAS2WRFHydro_generate_weights.ncl"
   ]
  },
  {
   "cell_type": "code",
   "execution_count": null,
   "metadata": {},
   "outputs": [],
   "source": [
    "%%bash\n",
    "ls ~/wrf-hydro-training/output/lessonS2"
   ]
  },
  {
   "cell_type": "markdown",
   "metadata": {},
   "source": [
    "We have two new files: The *SCRIP_NLDAS_bilinear.nc* describes the NLDAS grids and the *SCRIP_WRFHydro_bilinear.nc* describes the WRF-Hydro grid from the geogrid file."
   ]
  },
  {
   "cell_type": "markdown",
   "metadata": {},
   "source": [
    "## Regridding the forcing data using the weight file\n",
    "In this section we will regrid all our forcing data using the weight file generated in the previous section. "
   ]
  },
  {
   "cell_type": "markdown",
   "metadata": {},
   "source": [
    "**Step 2: Run the *NLDAS2WRFHydro_regrid.ncl* regridding script**\n",
    "\n",
    "The *NLDAS2WRFHydro_regrid.ncl* script takes 2 arguments, the path to the geogrid file and the path to NLDAS2 forcing data. **NOTE: Wildcards can be used in the path to the forcing data to regrid multiple files.**\n",
    "\n",
    "The *NLDAS2WRFHydro_regrid.ncl* regridding script produces a large amount of standard output so we will pipe the output to a log file."
   ]
  },
  {
   "cell_type": "code",
   "execution_count": null,
   "metadata": {},
   "outputs": [],
   "source": [
    "%%bash\n",
    "cd ~/wrf-hydro-training/output/lessonS2\n",
    "ncl 'srcFileName=\"NLDAS_FORA0125_H.*.grb\"' \\\n",
    "'dstGridName=\"~/wrf-hydro-training/example_case/Gridded/DOMAIN/geo_em.d01.nc\"' \\\n",
    "NLDAS2WRFHydro_regrid.ncl &> regrid.log"
   ]
  },
  {
   "cell_type": "markdown",
   "metadata": {},
   "source": [
    "**Step 3: View the contents of the *output_files* directory**\n",
    "The *NLDAS2WRFHydro_regrid.ncl* regridding script will create a directory called *output_files* in the parent directory. Lets view the contents of the directory"
   ]
  },
  {
   "cell_type": "code",
   "execution_count": null,
   "metadata": {},
   "outputs": [],
   "source": [
    "%%bash\n",
    "ls ~/wrf-hydro-training/output/lessonS2/output_files"
   ]
  },
  {
   "cell_type": "markdown",
   "metadata": {},
   "source": [
    "© UCAR 2018"
   ]
  }
 ],
 "metadata": {
  "kernelspec": {
   "display_name": "Python 3",
   "language": "python",
   "name": "python3"
  },
  "language_info": {
   "codemirror_mode": {
    "name": "ipython",
    "version": 3
   },
   "file_extension": ".py",
   "mimetype": "text/x-python",
   "name": "python",
   "nbconvert_exporter": "python",
   "pygments_lexer": "ipython3",
   "version": "3.7.3"
  },
  "toc": {
   "base_numbering": 1,
   "nav_menu": {},
   "number_sections": true,
   "sideBar": true,
   "skip_h1_title": true,
   "title_cell": "Table of Contents",
   "title_sidebar": "Contents",
   "toc_cell": true,
   "toc_position": {},
   "toc_section_display": true,
   "toc_window_display": false
  }
 },
 "nbformat": 4,
 "nbformat_minor": 4
}
