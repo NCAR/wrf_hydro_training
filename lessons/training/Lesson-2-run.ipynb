{
 "cells": [
  {
   "cell_type": "markdown",
   "metadata": {},
   "source": [
    "<img src='https://repository-images.githubusercontent.com/121802384/c355bb80-7d42-11e9-9e0e-4729609f9fbc' alt='WRF-Hydro Logo' width=\"15%\"/>\n",
    "\n",
    "# Lesson 2 - Running WRF-Hydro"
   ]
  },
  {
   "cell_type": "markdown",
   "metadata": {},
   "source": [
    "## Overview\n",
    "In this lesson, we cover the basics of constructing and running a WRF-Hydro simulation using a prepared domain for the *gridded* routing configuration. \n",
    "\n",
    "For a detailed description of model see the [Technical Description](https://wrf-hydro.readthedocs.io/en/latest/index.html)."
   ]
  },
  {
   "cell_type": "markdown",
   "metadata": {},
   "source": [
    "## Constructing a simulation with a prepared domain\n",
    "In this section we describe the primary files needed to run a WRF-Hydro simulation. \n",
    "\n",
    "A WRF-Hydro simulation consists of the following major components:\n",
    "-  executable/binary file\n",
    "-  parameter files\n",
    "-  domain files\n",
    "-  forcing files\n",
    "-  namelists\n",
    "\n",
    "In this lesson we only cover basic descriptions of these elements. For an in-depth description of model see the [Technical Description](https://wrf-hydro.readthedocs.io/en/latest/index.html).\n",
    "\n",
    "The WRF-Hydro model code, compiled executable/binary, and associated parameter table files were described in [Lesson 1](Lesson-1-compile.ipynb). \n",
    "\n",
    "**If you have not already completed Lesson 1, please stop and do so now**\n",
    "\n",
    "Model run-time options are specified in two namelist files `hydro.namelist` and `namelist.hrldas`. These namelist files contain file path specifications, simulation duration, physics options, and output file selections, among others. We will cover many of these options in more depth in Lessons 4 and 5.   "
   ]
  },
  {
   "cell_type": "markdown",
   "metadata": {},
   "source": [
    "## Orientation to the *example_case*\n",
    "This lesson will use a prepared domain located in the `~/wrf-hydro-training/example_case` directory. The structure of the `example_case` directory serves as a good example of how to organize your domain files. If using another domain with this lesson, such as one you may have created in the geospatial pre-processing tutorial, it is **imperative** that the file names and directory structure match those described below.\n",
    "\n",
    "If using an official WRF-Hydro training example case, there will be a study area map and a readme file that describes the geographic setting, the directory, and the files.\n",
    "\n",
    "First lets take a look at the *study_map.PNG*.\n",
    "\n",
    "![study_map.PNG](images/study_map.PNG)\n",
    "\n",
    "Now, lets view the README file included with the domain for a brief description of the example case and its contents."
   ]
  },
  {
   "cell_type": "code",
   "execution_count": 1,
   "metadata": {
    "execution": {
     "iopub.execute_input": "2025-04-03T00:40:06.542886Z",
     "iopub.status.busy": "2025-04-03T00:40:06.542384Z",
     "iopub.status.idle": "2025-04-03T00:40:06.748358Z",
     "shell.execute_reply": "2025-04-03T00:40:06.747396Z"
    },
    "scrolled": true
   },
   "outputs": [
    {
     "name": "stdout",
     "output_type": "stream",
     "text": [
      "#Overview This test case includes prepared geospatial data and input files for a\n"
     ]
    },
    {
     "name": "stdout",
     "output_type": "stream",
     "text": [
      "sample domain (region of interest) and prepared forcing data.  This domain is a\n"
     ]
    },
    {
     "name": "stdout",
     "output_type": "stream",
     "text": [
      "small region (15km x 16km) encompassing the West Branch of the Croton River, NY,\n"
     ]
    },
    {
     "name": "stdout",
     "output_type": "stream",
     "text": [
      "USA (USGS stream gage 0137462010) during Hurricane Irene, 2011-08-26 to 2011-09-02.\n"
     ]
    },
    {
     "name": "stdout",
     "output_type": "stream",
     "text": [
      "The simulation begins with a restart from a spinup period from 2010-10-01 to\n"
     ]
    },
    {
     "name": "stdout",
     "output_type": "stream",
     "text": [
      "2011-08-26. The forcing data prepared for this test case is NOAA Analysis of Record\n"
     ]
    },
    {
     "name": "stdout",
     "output_type": "stream",
     "text": [
      "for Calibration (AORC) hourly data. There are 3 basic routing configurations\n"
     ]
    },
    {
     "name": "stdout",
     "output_type": "stream",
     "text": [
      "included in the test case, National Water Model (NWM), Gridded, and NCAR Reach.\n"
     ]
    },
    {
     "name": "stdout",
     "output_type": "stream",
     "text": [
      "\n"
     ]
    },
    {
     "name": "stdout",
     "output_type": "stream",
     "text": [
      "See the WRF-Hydro V5.4 Technical Description located at https://wrf-hydro.readthedocs.io/\n"
     ]
    },
    {
     "name": "stdout",
     "output_type": "stream",
     "text": [
      "for a more detailed description of model physics options, configurations, and input files.\n"
     ]
    },
    {
     "name": "stdout",
     "output_type": "stream",
     "text": [
      "However, some non-standard files will be described below.\n"
     ]
    },
    {
     "name": "stdout",
     "output_type": "stream",
     "text": [
      "\n"
     ]
    },
    {
     "name": "stdout",
     "output_type": "stream",
     "text": [
      "For instructions on how to set up and run this test case see the Test Case User\n"
     ]
    },
    {
     "name": "stdout",
     "output_type": "stream",
     "text": [
      "Guides available at https://wrf-hydro.readthedocs.io/en/latest/appendices.html\n"
     ]
    },
    {
     "name": "stdout",
     "output_type": "stream",
     "text": [
      "\n"
     ]
    },
    {
     "name": "stdout",
     "output_type": "stream",
     "text": [
      "#Directory contents Croton_NY: directory containing all input files for the\n"
     ]
    },
    {
     "name": "stdout",
     "output_type": "stream",
     "text": [
      "Croton, NY example test case\n"
     ]
    },
    {
     "name": "stdout",
     "output_type": "stream",
     "text": [
      "\t|\n"
     ]
    },
    {
     "name": "stdout",
     "output_type": "stream",
     "text": [
      "\t-FORCING: Directory containing all AORC hrldas formatted hourly\n"
     ]
    },
    {
     "name": "stdout",
     "output_type": "stream",
     "text": [
      "\tforcing data for the simulation period.\n"
     ]
    },
    {
     "name": "stdout",
     "output_type": "stream",
     "text": [
      "\t-Gridded: Directory containing all files required for the gridded routing\n"
     ]
    },
    {
     "name": "stdout",
     "output_type": "stream",
     "text": [
      "\tconfiguration with lakes included\n"
     ]
    },
    {
     "name": "stdout",
     "output_type": "stream",
     "text": [
      "\t\t|\n"
     ]
    },
    {
     "name": "stdout",
     "output_type": "stream",
     "text": [
      "\t\t-DOMAIN: Directory containing all geospatial data and input files for\n"
     ]
    },
    {
     "name": "stdout",
     "output_type": "stream",
     "text": [
      "\t\tthe Gridded routing option.\n"
     ]
    },
    {
     "name": "stdout",
     "output_type": "stream",
     "text": [
      "\t\t-lake_shapes: directory containing shape files that define lakes\n"
     ]
    },
    {
     "name": "stdout",
     "output_type": "stream",
     "text": [
      "\t\t-RESTART: Directory containing model restart files for the Gridded\n"
     ]
    },
    {
     "name": "stdout",
     "output_type": "stream",
     "text": [
      "\t\trouting option.\n"
     ]
    },
    {
     "name": "stdout",
     "output_type": "stream",
     "text": [
      "\t\t-referenceSim: Directory containing restart files and a hydrograph from\n"
     ]
    },
    {
     "name": "stdout",
     "output_type": "stream",
     "text": [
      "\t\ta successful run for reference\n"
     ]
    },
    {
     "name": "stdout",
     "output_type": "stream",
     "text": [
      "\t\t-hydro.namelist: Fortran namelist file for the hydro model.\n"
     ]
    },
    {
     "name": "stdout",
     "output_type": "stream",
     "text": [
      "\t\t-namelist.hrldas: Fortran namelist file for the Noah-MP land surface\n"
     ]
    },
    {
     "name": "stdout",
     "output_type": "stream",
     "text": [
      "\t\tmodel.\n"
     ]
    },
    {
     "name": "stdout",
     "output_type": "stream",
     "text": [
      "\t\t-croton_frxst_pts_csv.csv: .CSV formatted file of gage locations in\n"
     ]
    },
    {
     "name": "stdout",
     "output_type": "stream",
     "text": [
      "\t\tlatitude/longitude coordinates (WGS84)\n"
     ]
    },
    {
     "name": "stdout",
     "output_type": "stream",
     "text": [
      "\t-Gridded_no_lakes: Directory containing all files required for the gridded routing\n"
     ]
    },
    {
     "name": "stdout",
     "output_type": "stream",
     "text": [
      "\tconfiguration without lakes\n"
     ]
    },
    {
     "name": "stdout",
     "output_type": "stream",
     "text": [
      "\t\t|\n"
     ]
    },
    {
     "name": "stdout",
     "output_type": "stream",
     "text": [
      "\t\t-DOMAIN: Directory containing all geospatial data and input files for\n"
     ]
    },
    {
     "name": "stdout",
     "output_type": "stream",
     "text": [
      "\t\tthe Gridded routing option\n"
     ]
    },
    {
     "name": "stdout",
     "output_type": "stream",
     "text": [
      "\t\t-RESTART: Directory containing model restart files for the Gridded\n"
     ]
    },
    {
     "name": "stdout",
     "output_type": "stream",
     "text": [
      "\t\trouting option.\n"
     ]
    },
    {
     "name": "stdout",
     "output_type": "stream",
     "text": [
      "\t\t-referenceSim: Directory containing restart files and a hydrograph from\n"
     ]
    },
    {
     "name": "stdout",
     "output_type": "stream",
     "text": [
      "\t\ta successful run for reference\n"
     ]
    },
    {
     "name": "stdout",
     "output_type": "stream",
     "text": [
      "\t\t-hydro.namelist: Fortran namelist file for the hydro model.\n"
     ]
    },
    {
     "name": "stdout",
     "output_type": "stream",
     "text": [
      "\t\t-namelist.hrldas: Fortran namelist file for the Noah-MP land surface\n"
     ]
    },
    {
     "name": "stdout",
     "output_type": "stream",
     "text": [
      "\t\tmodel.\n"
     ]
    },
    {
     "name": "stdout",
     "output_type": "stream",
     "text": [
      "\t\t-croton_frxst_pts_csv.csv: .CSV formatted file of gage locations in\n"
     ]
    },
    {
     "name": "stdout",
     "output_type": "stream",
     "text": [
      "\t\tlatitude/longitude coordinates (WGS84)\n"
     ]
    },
    {
     "name": "stdout",
     "output_type": "stream",
     "text": [
      "\t-NWM: Directory containing all files required for the National Water Model\n"
     ]
    },
    {
     "name": "stdout",
     "output_type": "stream",
     "text": [
      "\t(NWM) routing configuration\n"
     ]
    },
    {
     "name": "stdout",
     "output_type": "stream",
     "text": [
      "\t\t|\n"
     ]
    },
    {
     "name": "stdout",
     "output_type": "stream",
     "text": [
      "\t\t-DOMAIN: Directory containing all geospatial data and input files for\n"
     ]
    },
    {
     "name": "stdout",
     "output_type": "stream",
     "text": [
      "\t\tthe NWM routing option.\n"
     ]
    },
    {
     "name": "stdout",
     "output_type": "stream",
     "text": [
      "\t\t\t|\n"
     ]
    },
    {
     "name": "stdout",
     "output_type": "stream",
     "text": [
      "\t\t\t-RouteLink_nudgeEdit.nc: An edited route link file with one gage\n"
     ]
    },
    {
     "name": "stdout",
     "output_type": "stream",
     "text": [
      "\t\t\tremoved from nudging\n"
     ]
    },
    {
     "name": "stdout",
     "output_type": "stream",
     "text": [
      "\t\t-RESTART: Directory containing model restart files for the NWM routing\n"
     ]
    },
    {
     "name": "stdout",
     "output_type": "stream",
     "text": [
      "\t\toption.\n"
     ]
    },
    {
     "name": "stdout",
     "output_type": "stream",
     "text": [
      "\t\t-referenceSim: Directory containing restart files and hydrograph from a\n"
     ]
    },
    {
     "name": "stdout",
     "output_type": "stream",
     "text": [
      "\t\tsuccessful run for reference\n"
     ]
    },
    {
     "name": "stdout",
     "output_type": "stream",
     "text": [
      "\t\t-nudgingTimeSliceObs: Directory containing nudging \"time slice\"\n"
     ]
    },
    {
     "name": "stdout",
     "output_type": "stream",
     "text": [
      "\t\tobservation files.\n"
     ]
    },
    {
     "name": "stdout",
     "output_type": "stream",
     "text": [
      "\t\t-hydro.namelist: Fortran namelist file for the hydro model.\n"
     ]
    },
    {
     "name": "stdout",
     "output_type": "stream",
     "text": [
      "\t\t-namelist.hrldas: Fortran namelist file for the Noah-MP land surface\n"
     ]
    },
    {
     "name": "stdout",
     "output_type": "stream",
     "text": [
      "\t\tmodel.\n"
     ]
    },
    {
     "name": "stdout",
     "output_type": "stream",
     "text": [
      "\t-Reach: Directory containing all files required for NCAR reach routing\n"
     ]
    },
    {
     "name": "stdout",
     "output_type": "stream",
     "text": [
      "\t\tconfiguration\n"
     ]
    },
    {
     "name": "stdout",
     "output_type": "stream",
     "text": [
      "\t\t|\n"
     ]
    },
    {
     "name": "stdout",
     "output_type": "stream",
     "text": [
      "\t\t-DOMAIN: Directory containing all geospatial data and input files for\n"
     ]
    },
    {
     "name": "stdout",
     "output_type": "stream",
     "text": [
      "\t\tthe NCAR reach routing option.\n"
     ]
    },
    {
     "name": "stdout",
     "output_type": "stream",
     "text": [
      "\t\t-stream_network: directory containing files that define the stream\n"
     ]
    },
    {
     "name": "stdout",
     "output_type": "stream",
     "text": [
      "\t\tnetwork.\n"
     ]
    },
    {
     "name": "stdout",
     "output_type": "stream",
     "text": [
      "\t\t-RESTART: Directory containing model restart files for the NCAR reach\n"
     ]
    },
    {
     "name": "stdout",
     "output_type": "stream",
     "text": [
      "\t\trouting option.\n"
     ]
    },
    {
     "name": "stdout",
     "output_type": "stream",
     "text": [
      "\t\t-referenceSim: Directory containing restart files and hydrograph from a\n"
     ]
    },
    {
     "name": "stdout",
     "output_type": "stream",
     "text": [
      "\t\tsuccessful run for reference\n"
     ]
    },
    {
     "name": "stdout",
     "output_type": "stream",
     "text": [
      "\t\t-hydro.namelist: Fortran namelist file for the hydro model.\n"
     ]
    },
    {
     "name": "stdout",
     "output_type": "stream",
     "text": [
      "\t\t-namelist.hrldas: Fortran namelist file for the Noah-MP land surface\n"
     ]
    },
    {
     "name": "stdout",
     "output_type": "stream",
     "text": [
      "\t\tmodel.\n"
     ]
    },
    {
     "name": "stdout",
     "output_type": "stream",
     "text": [
      "\t-Supplemental: Directory containing supplemental files used to create the example\n"
     ]
    },
    {
     "name": "stdout",
     "output_type": "stream",
     "text": [
      "\tcase, including forcing files used for spinup\n"
     ]
    },
    {
     "name": "stdout",
     "output_type": "stream",
     "text": [
      "\t\t|\n"
     ]
    },
    {
     "name": "stdout",
     "output_type": "stream",
     "text": [
      "\t\t-supplimental_forcing.tar.gz: Tar ball containing additional forcing\n"
     ]
    },
    {
     "name": "stdout",
     "output_type": "stream",
     "text": [
      "\t\tdata for spinup\n"
     ]
    },
    {
     "name": "stdout",
     "output_type": "stream",
     "text": [
      "\t\t-namelist.wps: Reduced namelist.wps used to create the geogrid file using\n"
     ]
    },
    {
     "name": "stdout",
     "output_type": "stream",
     "text": [
      "\t\tthe WRF-Hydro geogrid Docker utilitiy.\n"
     ]
    },
    {
     "name": "stdout",
     "output_type": "stream",
     "text": [
      "\t\t-supp_precip.tar.gz: Supplemental regridded StageIV precipitation data.\n"
     ]
    },
    {
     "name": "stdout",
     "output_type": "stream",
     "text": [
      "\t-USGS-Obs.csv: csv files containing USGS 15 minute streamflow data for\n"
     ]
    },
    {
     "name": "stdout",
     "output_type": "stream",
     "text": [
      "\tgages in the domain.\n"
     ]
    },
    {
     "name": "stdout",
     "output_type": "stream",
     "text": [
      "\t-study_map.PNG: Study area map\n"
     ]
    },
    {
     "name": "stdout",
     "output_type": "stream",
     "text": [
      "\t-namelist_patches.json: json file used by wrfhydropy python package for\n"
     ]
    },
    {
     "name": "stdout",
     "output_type": "stream",
     "text": [
      "\tnamelist parsing\n"
     ]
    }
   ],
   "source": [
    "cd ~/wrf-hydro-training/example_case\n",
    "cat README.txt"
   ]
  },
  {
   "cell_type": "markdown",
   "metadata": {
    "deletable": false
   },
   "source": [
    "Now lets take a look at the `example_case` directory."
   ]
  },
  {
   "cell_type": "code",
   "execution_count": 2,
   "metadata": {
    "execution": {
     "iopub.execute_input": "2025-04-03T00:40:06.751031Z",
     "iopub.status.busy": "2025-04-03T00:40:06.750773Z",
     "iopub.status.idle": "2025-04-03T00:40:06.876711Z",
     "shell.execute_reply": "2025-04-03T00:40:06.873662Z"
    }
   },
   "outputs": [
    {
     "name": "stdout",
     "output_type": "stream",
     "text": [
      "\u001b[0m\u001b[01;34mFORCING\u001b[0m           \u001b[01;34mReach\u001b[0m                         \u001b[01;32mstudy_map.PNG\u001b[0m\n"
     ]
    },
    {
     "name": "stdout",
     "output_type": "stream",
     "text": [
      "\u001b[01;34mGridded\u001b[0m           \u001b[01;34mReachLakes\u001b[0m                    \u001b[01;34msupplemental\u001b[0m\n"
     ]
    },
    {
     "name": "stdout",
     "output_type": "stream",
     "text": [
      "\u001b[01;34mGridded_no_lakes\u001b[0m  USGS_obs.csv                  testing_diff_feature_ids.json\n"
     ]
    },
    {
     "name": "stdout",
     "output_type": "stream",
     "text": [
      "\u001b[01;34mNWM\u001b[0m               hrldas_namelist_patches.json\n"
     ]
    },
    {
     "name": "stdout",
     "output_type": "stream",
     "text": [
      "README.txt        hydro_namelist_patches.json\n"
     ]
    }
   ],
   "source": [
    "ls"
   ]
  },
  {
   "cell_type": "markdown",
   "metadata": {},
   "source": [
    "In this example case we have created several configurations for WRF-Hydro: *National Water Model (NWM)*, *Gridded*, and *Reach*. For detailed descriptions of routing and physics configurations see the [Technical Description](https://wrf-hydro.readthedocs.io/en/latest/model-code-config.html#wrf-hydro-run-time-options). These model configurations have different geospatial data associated with them and thus are represented by separate directories in the `~/wrf-hydro-training/example_case` directory. "
   ]
  },
  {
   "cell_type": "markdown",
   "metadata": {},
   "source": [
    "### FORCING\n",
    "This directory contains all of the forcing data for our simulation. Note that there is only one `FORCING` directory. The same forcing data can be used with all the configurations."
   ]
  },
  {
   "cell_type": "markdown",
   "metadata": {},
   "source": [
    "### The Gridded configuration directory\n",
    "For this lesson, we will be running the *Gridded* configuration. Now we will explore the `~/wrf-hydro-training/example_case/Gridded` directory."
   ]
  },
  {
   "cell_type": "code",
   "execution_count": 3,
   "metadata": {
    "execution": {
     "iopub.execute_input": "2025-04-03T00:40:06.883517Z",
     "iopub.status.busy": "2025-04-03T00:40:06.882979Z",
     "iopub.status.idle": "2025-04-03T00:40:07.006864Z",
     "shell.execute_reply": "2025-04-03T00:40:07.002554Z"
    }
   },
   "outputs": [
    {
     "name": "stdout",
     "output_type": "stream",
     "text": [
      "\u001b[0m\u001b[01;34mDOMAIN\u001b[0m   croton_frxst_pts_csv.csv  namelist.hrldas\n"
     ]
    },
    {
     "name": "stdout",
     "output_type": "stream",
     "text": [
      "\u001b[01;34mRESTART\u001b[0m  hydro.namelist            \u001b[01;34mreferenceSim\u001b[0m\n"
     ]
    }
   ],
   "source": [
    "ls Gridded"
   ]
  },
  {
   "cell_type": "markdown",
   "metadata": {},
   "source": [
    "The contents of this directory are described briefly in the `README.txt` file that we viewed earlier, but we will discuss them again here. For a more detailed description of these files beyond what will be described below, see the [Technical Description](https://ral.ucar.edu/projects/wrf_hydro/technical-description-user-guide)\n",
    "\n",
    "**DOMAIN**: Directory containing all geospatial data and input files for\n",
    "the Gridded routing option with lakes included"
   ]
  },
  {
   "cell_type": "code",
   "execution_count": 4,
   "metadata": {
    "execution": {
     "iopub.execute_input": "2025-04-03T00:40:07.015127Z",
     "iopub.status.busy": "2025-04-03T00:40:07.014553Z",
     "iopub.status.idle": "2025-04-03T00:40:07.139797Z",
     "shell.execute_reply": "2025-04-03T00:40:07.136669Z"
    }
   },
   "outputs": [
    {
     "name": "stdout",
     "output_type": "stream",
     "text": [
      "Fulldom_hires.nc                     LAKEPARM.nc    soil_properties.nc\n"
     ]
    },
    {
     "name": "stdout",
     "output_type": "stream",
     "text": [
      "GEOGRID_LDASOUT_Spatial_Metadata.nc  geo_em.d01.nc  wrfinput_d01.nc\n"
     ]
    },
    {
     "name": "stdout",
     "output_type": "stream",
     "text": [
      "GWBASINS.nc                          hydro2dtbl.nc\n"
     ]
    },
    {
     "name": "stdout",
     "output_type": "stream",
     "text": [
      "GWBUCKPARM.nc                        \u001b[0m\u001b[01;34mlake_shapes\u001b[0m\n"
     ]
    }
   ],
   "source": [
    "ls Gridded/DOMAIN"
   ]
  },
  {
   "cell_type": "markdown",
   "metadata": {},
   "source": [
    "| Filename | Description | Source | Required |\n",
    "| ------------- | ------------- | ------------- | ------------- |\n",
    "| Fulldom_hires.nc | High resolution full domain file. Includes all fields specified on the routing grid. | WRF-Hydro GIS pre-processing toolkit | Yes |\n",
    "| GEOGRID_LDASOUT_Spatial_Metadata.nc | projection and coordinate information for the land surface model grid. | pre-processor | No, but allows for CF compliant outputs |\n",
    "| GWBASINS.nc | 2D file defining the locations of groundwater basins on a grid | WRF-Hydro GIS pre-processing toolkit | When the baseflow bucket model is turned on and user defined mapping is off |\n",
    "| GWBUCKPARM.nc | Groundwater parameter table containing bucket model parameters for each basin | WRF-Hydro GIS pre-processing toolkit | When the baseflow bucket model is turned on |\n",
    "| LAKEPARM.nc | Lake parameter table containing lake model parameters for each catchment | WRF-Hydro GIS pre-processing toolkit | When lake and reservoir routing is turned on |\n",
    "| geo_em.d01.nc | The data required to define the domain and geospatial attributes of a spatially-distributed, or gridded, 1-dimensional (vertical) land surface model (LSM) | GEOGRID utility in the WRF preprocessing system (WPS) | Yes |\n",
    "| hydro2dtbl.nc | Spatially distributed parameter table for lateral flow routing within WRF-Hydro. | create_SoilProperties.R script (will also be automatically generated by WRF-Hydro) | When using spatially distributed terrain routing parameters |\n",
    "| lake_shapes/ | supplemental shape files that define lakes | pre-processor | No |\n",
    "| wrfinput_d01.nc | file including all necessary fields for the Noah-MP land surface model, but with spatially uniform initial conditions. Users should be aware that the model will likely require additional spin-up time when initialized from this file. | create_Wrfinput.R script | Yes |\n"
   ]
  },
  {
   "cell_type": "markdown",
   "metadata": {},
   "source": [
    "**RESTART**: Directory containing model restart files"
   ]
  },
  {
   "cell_type": "code",
   "execution_count": 5,
   "metadata": {
    "execution": {
     "iopub.execute_input": "2025-04-03T00:40:07.147035Z",
     "iopub.status.busy": "2025-04-03T00:40:07.146544Z",
     "iopub.status.idle": "2025-04-03T00:40:07.269704Z",
     "shell.execute_reply": "2025-04-03T00:40:07.267678Z"
    }
   },
   "outputs": [
    {
     "name": "stdout",
     "output_type": "stream",
     "text": [
      "HYDRO_RST.2011-08-26_00:00_DOMAIN1  RESTART.2011082600_DOMAIN1\n"
     ]
    }
   ],
   "source": [
    "ls Gridded/RESTART"
   ]
  },
  {
   "cell_type": "markdown",
   "metadata": {},
   "source": [
    "Restart files are an essential part of the WRF-Hydro modeling system. They are output on a fixed timestep specified by the user in the `namelist.hrldas` and `hydro.namelist` files, and represent a complete 'snapshot' of the model state at that time. These files can be used to restart a WRF-Hydro simulation from where the previous simulation terminated with all the model states intact.\n",
    "\n",
    "When running a WRF-Hydro simulation, you may start your simulation with default initial conditions, referred to as a 'cold start'. When starting from a cold start, a model spinup period is needed to move the model state away from the default initial conditions to a more realistic, physically-based model state. Model output from the spinup period is generally not used for interpretation.\n",
    "\n",
    "Restart files output at the end the spinup period can be used as the initial conditions for subsequent simulations, referred to as a 'warm start'. Simulations that start from a 'warm start' are generally the primary target for interpretation. 'Warm' and 'cold' starting the model will be discussed more in Lesson 4. "
   ]
  },
  {
   "cell_type": "markdown",
   "metadata": {},
   "source": [
    "### Namelists\n",
    "Namelists are another key component of the WRF-Hydro modeling system and are the primary means of specifying inputs, outputs, and run-time options. There are two namelist files used by WRF-Hydro: `hydro.namelist` for the routing and hydrologic model and `namelist.hrldas` for the land surface model. \n",
    "\n",
    "**NOTE: These filenames are hard-coded into the model and can not be changed.**\n",
    "\n",
    "For all official WRF-Hydro domains, namelists will be included with each of the model configurations. This is done so that a user can easily run each configuration with minimal setup, and they serve as a starting point for users to specify their own namelists for a given configuration.\n",
    "\n",
    "There are different namelists for each configuration because certain namelist options are specific to the domain configuration used. We will cover the various namelist options in detail in Lesson 4, but for now we will simply view the namelist and use the default namelist provided with the Gridded configuration to construct our simulation.  \n",
    "\n",
    "Take a moment and read through the two namelists below and note how all filepaths are relative to the current directory containing the namelist. This is the recommended way of specifying filepaths."
   ]
  },
  {
   "cell_type": "code",
   "execution_count": 6,
   "metadata": {
    "execution": {
     "iopub.execute_input": "2025-04-03T00:40:07.277517Z",
     "iopub.status.busy": "2025-04-03T00:40:07.276027Z",
     "iopub.status.idle": "2025-04-03T00:40:07.439869Z",
     "shell.execute_reply": "2025-04-03T00:40:07.438456Z"
    },
    "scrolled": true
   },
   "outputs": [
    {
     "name": "stdout",
     "output_type": "stream",
     "text": [
      "&HYDRO_nlist\n"
     ]
    },
    {
     "name": "stdout",
     "output_type": "stream",
     "text": [
      "!!!! ---------------------- SYSTEM COUPLING ----------------------- !!!!\n"
     ]
    },
    {
     "name": "stdout",
     "output_type": "stream",
     "text": [
      "\n"
     ]
    },
    {
     "name": "stdout",
     "output_type": "stream",
     "text": [
      "! Specify what is being coupled:  1=HRLDAS (offline Noah-LSM), 2=WRF, 3=NASA/LIS, 4=CLM\n"
     ]
    },
    {
     "name": "stdout",
     "output_type": "stream",
     "text": [
      "sys_cpl = 1\n"
     ]
    },
    {
     "name": "stdout",
     "output_type": "stream",
     "text": [
      "\n"
     ]
    },
    {
     "name": "stdout",
     "output_type": "stream",
     "text": [
      "!!!! ------------------- MODEL INPUT DATA FILES ------------------- !!!!\n"
     ]
    },
    {
     "name": "stdout",
     "output_type": "stream",
     "text": [
      "\n"
     ]
    },
    {
     "name": "stdout",
     "output_type": "stream",
     "text": [
      "! Specify land surface model gridded input data file (e.g.: \"geo_em.d01.nc\")\n"
     ]
    },
    {
     "name": "stdout",
     "output_type": "stream",
     "text": [
      "GEO_STATIC_FLNM = \"./DOMAIN/geo_em.d01.nc\"\n"
     ]
    },
    {
     "name": "stdout",
     "output_type": "stream",
     "text": [
      "\n"
     ]
    },
    {
     "name": "stdout",
     "output_type": "stream",
     "text": [
      "! Specify the high-resolution routing terrain input data file (e.g.: \"Fulldom_hires.nc\")\n"
     ]
    },
    {
     "name": "stdout",
     "output_type": "stream",
     "text": [
      "GEO_FINEGRID_FLNM = \"./DOMAIN/Fulldom_hires.nc\"\n"
     ]
    },
    {
     "name": "stdout",
     "output_type": "stream",
     "text": [
      "\n"
     ]
    },
    {
     "name": "stdout",
     "output_type": "stream",
     "text": [
      "! Specify the spatial hydro parameters file (e.g.: \"hydro2dtbl.nc\")\n"
     ]
    },
    {
     "name": "stdout",
     "output_type": "stream",
     "text": [
      "! If you specify a filename and the file does not exist, it will be created for you.\n"
     ]
    },
    {
     "name": "stdout",
     "output_type": "stream",
     "text": [
      "HYDROTBL_F = \"./DOMAIN/hydro2dtbl.nc\"\n"
     ]
    },
    {
     "name": "stdout",
     "output_type": "stream",
     "text": [
      "\n"
     ]
    },
    {
     "name": "stdout",
     "output_type": "stream",
     "text": [
      "! Specify spatial metadata file for land surface grid. (e.g.: \"GEOGRID_LDASOUT_Spatial_Metadata.nc\")\n"
     ]
    },
    {
     "name": "stdout",
     "output_type": "stream",
     "text": [
      "LAND_SPATIAL_META_FLNM = \"./DOMAIN/GEOGRID_LDASOUT_Spatial_Metadata.nc\"\n"
     ]
    },
    {
     "name": "stdout",
     "output_type": "stream",
     "text": [
      "\n"
     ]
    },
    {
     "name": "stdout",
     "output_type": "stream",
     "text": [
      "! Specify the name of the restart file if starting from restart...comment out with '!' if not...\n"
     ]
    },
    {
     "name": "stdout",
     "output_type": "stream",
     "text": [
      "RESTART_FILE  = 'RESTART/HYDRO_RST.2011-08-26_00:00_DOMAIN1'\n"
     ]
    },
    {
     "name": "stdout",
     "output_type": "stream",
     "text": [
      "\n"
     ]
    },
    {
     "name": "stdout",
     "output_type": "stream",
     "text": [
      "!!!! --------------------- MODEL SETUP OPTIONS -------------------- !!!!\n"
     ]
    },
    {
     "name": "stdout",
     "output_type": "stream",
     "text": [
      "\n"
     ]
    },
    {
     "name": "stdout",
     "output_type": "stream",
     "text": [
      "! Specify the domain or nest number identifier...(integer)\n"
     ]
    },
    {
     "name": "stdout",
     "output_type": "stream",
     "text": [
      "IGRID = 1\n"
     ]
    },
    {
     "name": "stdout",
     "output_type": "stream",
     "text": [
      "\n"
     ]
    },
    {
     "name": "stdout",
     "output_type": "stream",
     "text": [
      "! Specify the restart file write frequency...(minutes)\n"
     ]
    },
    {
     "name": "stdout",
     "output_type": "stream",
     "text": [
      "! A value of -99999 will output restarts on the first day of the month only.\n"
     ]
    },
    {
     "name": "stdout",
     "output_type": "stream",
     "text": [
      "rst_dt = 1440\n"
     ]
    },
    {
     "name": "stdout",
     "output_type": "stream",
     "text": [
      "\n"
     ]
    },
    {
     "name": "stdout",
     "output_type": "stream",
     "text": [
      "! Reset the LSM soil states from the high-res routing restart file (1=overwrite, 0=no overwrite)\n"
     ]
    },
    {
     "name": "stdout",
     "output_type": "stream",
     "text": [
      "! NOTE: Only turn this option on if overland or subsurface rotuing is active!\n"
     ]
    },
    {
     "name": "stdout",
     "output_type": "stream",
     "text": [
      "rst_typ = 1\n"
     ]
    },
    {
     "name": "stdout",
     "output_type": "stream",
     "text": [
      "\n"
     ]
    },
    {
     "name": "stdout",
     "output_type": "stream",
     "text": [
      "! Restart file format control\n"
     ]
    },
    {
     "name": "stdout",
     "output_type": "stream",
     "text": [
      "rst_bi_in = 0       !0: use netcdf input restart file (default)\n"
     ]
    },
    {
     "name": "stdout",
     "output_type": "stream",
     "text": [
      "                    !1: use parallel io for reading multiple restart files, 1 per core\n"
     ]
    },
    {
     "name": "stdout",
     "output_type": "stream",
     "text": [
      "rst_bi_out = 0      !0: use netcdf output restart file (default)\n"
     ]
    },
    {
     "name": "stdout",
     "output_type": "stream",
     "text": [
      "                    !1: use parallel io for outputting multiple restart files, 1 per core\n"
     ]
    },
    {
     "name": "stdout",
     "output_type": "stream",
     "text": [
      "\n"
     ]
    },
    {
     "name": "stdout",
     "output_type": "stream",
     "text": [
      "! Restart switch to set restart accumulation variables to 0 (0=no reset, 1=yes reset to 0.0)\n"
     ]
    },
    {
     "name": "stdout",
     "output_type": "stream",
     "text": [
      "RSTRT_SWC = 1\n"
     ]
    },
    {
     "name": "stdout",
     "output_type": "stream",
     "text": [
      "\n"
     ]
    },
    {
     "name": "stdout",
     "output_type": "stream",
     "text": [
      "! Specify baseflow/bucket model initialization...(0=cold start from table, 1=restart file)\n"
     ]
    },
    {
     "name": "stdout",
     "output_type": "stream",
     "text": [
      "GW_RESTART = 1\n"
     ]
    },
    {
     "name": "stdout",
     "output_type": "stream",
     "text": [
      "\n"
     ]
    },
    {
     "name": "stdout",
     "output_type": "stream",
     "text": [
      "!!!! -------------------- MODEL OUTPUT CONTROL -------------------- !!!!\n"
     ]
    },
    {
     "name": "stdout",
     "output_type": "stream",
     "text": [
      "\n"
     ]
    },
    {
     "name": "stdout",
     "output_type": "stream",
     "text": [
      "! Specify the output file write frequency...(minutes)\n"
     ]
    },
    {
     "name": "stdout",
     "output_type": "stream",
     "text": [
      "out_dt = 60\n"
     ]
    },
    {
     "name": "stdout",
     "output_type": "stream",
     "text": [
      "\n"
     ]
    },
    {
     "name": "stdout",
     "output_type": "stream",
     "text": [
      "! Specify the number of output times to be contained within each output history file...(integer)\n"
     ]
    },
    {
     "name": "stdout",
     "output_type": "stream",
     "text": [
      "!   SET = 1 WHEN RUNNING CHANNEL ROUTING ONLY/CALIBRATION SIMS!!!\n"
     ]
    },
    {
     "name": "stdout",
     "output_type": "stream",
     "text": [
      "!   SET = 1 WHEN RUNNING COUPLED TO WRF!!!\n"
     ]
    },
    {
     "name": "stdout",
     "output_type": "stream",
     "text": [
      "SPLIT_OUTPUT_COUNT = 1\n"
     ]
    },
    {
     "name": "stdout",
     "output_type": "stream",
     "text": [
      "\n"
     ]
    },
    {
     "name": "stdout",
     "output_type": "stream",
     "text": [
      "! Specify the minimum stream order to output to netcdf point file...(integer)\n"
     ]
    },
    {
     "name": "stdout",
     "output_type": "stream",
     "text": [
      "! Note: lower value of stream order produces more output.\n"
     ]
    },
    {
     "name": "stdout",
     "output_type": "stream",
     "text": [
      "order_to_write = 1\n"
     ]
    },
    {
     "name": "stdout",
     "output_type": "stream",
     "text": [
      "\n"
     ]
    },
    {
     "name": "stdout",
     "output_type": "stream",
     "text": [
      "! Flag to turn on/off new I/O routines: 0 = deprecated output routines (use when running with Noah LSM),\n"
     ]
    },
    {
     "name": "stdout",
     "output_type": "stream",
     "text": [
      "! 1 = with scale/offset/compression, ! 2 = with scale/offset/NO compression, \n"
     ]
    },
    {
     "name": "stdout",
     "output_type": "stream",
     "text": [
      "! 3 = compression only, 4 = no scale/offset/compression (default)\n"
     ]
    },
    {
     "name": "stdout",
     "output_type": "stream",
     "text": [
      "io_form_outputs = 4\n"
     ]
    },
    {
     "name": "stdout",
     "output_type": "stream",
     "text": [
      "\n"
     ]
    },
    {
     "name": "stdout",
     "output_type": "stream",
     "text": [
      "! Realtime run configuration option:\n"
     ]
    },
    {
     "name": "stdout",
     "output_type": "stream",
     "text": [
      "! 0=all (default), 1=analysis, 2=short-range, 3=medium-range, 4=long-range, 5=retrospective,\n"
     ]
    },
    {
     "name": "stdout",
     "output_type": "stream",
     "text": [
      "! 6=diagnostic (includes all of 1-4 outputs combined)\n"
     ]
    },
    {
     "name": "stdout",
     "output_type": "stream",
     "text": [
      "io_config_outputs = 5\n"
     ]
    },
    {
     "name": "stdout",
     "output_type": "stream",
     "text": [
      "\n"
     ]
    },
    {
     "name": "stdout",
     "output_type": "stream",
     "text": [
      "! Option to write output files at time 0 (restart cold start time): 0=no, 1=yes (default)\n"
     ]
    },
    {
     "name": "stdout",
     "output_type": "stream",
     "text": [
      "t0OutputFlag = 1\n"
     ]
    },
    {
     "name": "stdout",
     "output_type": "stream",
     "text": [
      "\n"
     ]
    },
    {
     "name": "stdout",
     "output_type": "stream",
     "text": [
      "! Options to output channel & bucket influxes. Only active for UDMP_OPT=1.\n"
     ]
    },
    {
     "name": "stdout",
     "output_type": "stream",
     "text": [
      "! Nonzero choice requires that out_dt above matches NOAH_TIMESTEP in namelist.hrldas.\n"
     ]
    },
    {
     "name": "stdout",
     "output_type": "stream",
     "text": [
      "! 0=None (default), 1=channel influxes (qSfcLatRunoff, qBucket)\n"
     ]
    },
    {
     "name": "stdout",
     "output_type": "stream",
     "text": [
      "! 2=channel+bucket fluxes    (qSfcLatRunoff, qBucket, qBtmVertRunoff_toBucket)\n"
     ]
    },
    {
     "name": "stdout",
     "output_type": "stream",
     "text": [
      "! 3=channel accumulations    (accSfcLatRunoff, accBucket) *** NOT TESTED ***\n"
     ]
    },
    {
     "name": "stdout",
     "output_type": "stream",
     "text": [
      "output_channelBucket_influx = 0\n"
     ]
    },
    {
     "name": "stdout",
     "output_type": "stream",
     "text": [
      "\n"
     ]
    },
    {
     "name": "stdout",
     "output_type": "stream",
     "text": [
      "! Output netcdf file control\n"
     ]
    },
    {
     "name": "stdout",
     "output_type": "stream",
     "text": [
      "CHRTOUT_DOMAIN = 1           ! Netcdf point timeseries output at all channel points (1d)\n"
     ]
    },
    {
     "name": "stdout",
     "output_type": "stream",
     "text": [
      "                             !      0 = no output, 1 = output\n"
     ]
    },
    {
     "name": "stdout",
     "output_type": "stream",
     "text": [
      "CHANOBS_DOMAIN = 1           ! Netcdf point timeseries at forecast points or gage points (defined in Routelink)\n"
     ]
    },
    {
     "name": "stdout",
     "output_type": "stream",
     "text": [
      "                             !      0 = no output, 1 = output at forecast points or gage points.\n"
     ]
    },
    {
     "name": "stdout",
     "output_type": "stream",
     "text": [
      "CHRTOUT_GRID = 1             ! Netcdf grid of channel streamflow values (2d)\n"
     ]
    },
    {
     "name": "stdout",
     "output_type": "stream",
     "text": [
      "                             !      0 = no output, 1 = output\n"
     ]
    },
    {
     "name": "stdout",
     "output_type": "stream",
     "text": [
      "                             !      NOTE: Not available with reach-based routing\n"
     ]
    },
    {
     "name": "stdout",
     "output_type": "stream",
     "text": [
      "LSMOUT_DOMAIN = 1            ! Netcdf grid of variables passed between LSM and routing components (2d)\n"
     ]
    },
    {
     "name": "stdout",
     "output_type": "stream",
     "text": [
      "                             !      0 = no output, 1 = output\n"
     ]
    },
    {
     "name": "stdout",
     "output_type": "stream",
     "text": [
      "                             !      NOTE: No scale_factor/add_offset available\n"
     ]
    },
    {
     "name": "stdout",
     "output_type": "stream",
     "text": [
      "RTOUT_DOMAIN = 1             ! Netcdf grid of terrain routing variables on routing grid (2d)\n"
     ]
    },
    {
     "name": "stdout",
     "output_type": "stream",
     "text": [
      "                             !      0 = no output, 1 = output\n"
     ]
    },
    {
     "name": "stdout",
     "output_type": "stream",
     "text": [
      "output_gw = 1                ! Netcdf GW output\n"
     ]
    },
    {
     "name": "stdout",
     "output_type": "stream",
     "text": [
      "                             !      0 = no output, 1 = output\n"
     ]
    },
    {
     "name": "stdout",
     "output_type": "stream",
     "text": [
      "outlake  = 1                 ! Netcdf grid of lake values (1d)\n"
     ]
    },
    {
     "name": "stdout",
     "output_type": "stream",
     "text": [
      "                             !      0 = no output, 1 = output\n"
     ]
    },
    {
     "name": "stdout",
     "output_type": "stream",
     "text": [
      "frxst_pts_out = 0            ! ASCII text file of forecast points or gage points (defined in Routelink)\n"
     ]
    },
    {
     "name": "stdout",
     "output_type": "stream",
     "text": [
      "                             !      0 = no output, 1 = output\n"
     ]
    },
    {
     "name": "stdout",
     "output_type": "stream",
     "text": [
      "\n"
     ]
    },
    {
     "name": "stdout",
     "output_type": "stream",
     "text": [
      "!!!! ------------ PHYSICS OPTIONS AND RELATED SETTINGS ------------ !!!!\n"
     ]
    },
    {
     "name": "stdout",
     "output_type": "stream",
     "text": [
      "\n"
     ]
    },
    {
     "name": "stdout",
     "output_type": "stream",
     "text": [
      "! Specify the number of soil layers (integer) and the depth of the bottom of each layer... (meters)\n"
     ]
    },
    {
     "name": "stdout",
     "output_type": "stream",
     "text": [
      "! Notes: In Version 1 of WRF-Hydro these must be the same as in the namelist.input file.\n"
     ]
    },
    {
     "name": "stdout",
     "output_type": "stream",
     "text": [
      "!      Future versions will permit this to be different.\n"
     ]
    },
    {
     "name": "stdout",
     "output_type": "stream",
     "text": [
      "NSOIL=4\n"
     ]
    },
    {
     "name": "stdout",
     "output_type": "stream",
     "text": [
      "ZSOIL8(1) = -0.10\n"
     ]
    },
    {
     "name": "stdout",
     "output_type": "stream",
     "text": [
      "ZSOIL8(2) = -0.40\n"
     ]
    },
    {
     "name": "stdout",
     "output_type": "stream",
     "text": [
      "ZSOIL8(3) = -1.00\n"
     ]
    },
    {
     "name": "stdout",
     "output_type": "stream",
     "text": [
      "ZSOIL8(4) = -2.00\n"
     ]
    },
    {
     "name": "stdout",
     "output_type": "stream",
     "text": [
      "\n"
     ]
    },
    {
     "name": "stdout",
     "output_type": "stream",
     "text": [
      "! Specify the grid spacing of the terrain routing grid...(meters)\n"
     ]
    },
    {
     "name": "stdout",
     "output_type": "stream",
     "text": [
      "DXRT = 250.0\n"
     ]
    },
    {
     "name": "stdout",
     "output_type": "stream",
     "text": [
      "\n"
     ]
    },
    {
     "name": "stdout",
     "output_type": "stream",
     "text": [
      "! Specify the integer multiple between the land model grid and the terrain routing grid...(integer)\n"
     ]
    },
    {
     "name": "stdout",
     "output_type": "stream",
     "text": [
      "AGGFACTRT = 4\n"
     ]
    },
    {
     "name": "stdout",
     "output_type": "stream",
     "text": [
      "\n"
     ]
    },
    {
     "name": "stdout",
     "output_type": "stream",
     "text": [
      "! Specify the channel routing model timestep...(seconds)\n"
     ]
    },
    {
     "name": "stdout",
     "output_type": "stream",
     "text": [
      "DTRT_CH = 10\n"
     ]
    },
    {
     "name": "stdout",
     "output_type": "stream",
     "text": [
      "\n"
     ]
    },
    {
     "name": "stdout",
     "output_type": "stream",
     "text": [
      "! Specify the terrain routing model timestep...(seconds)\n"
     ]
    },
    {
     "name": "stdout",
     "output_type": "stream",
     "text": [
      "DTRT_TER = 10\n"
     ]
    },
    {
     "name": "stdout",
     "output_type": "stream",
     "text": [
      "\n"
     ]
    },
    {
     "name": "stdout",
     "output_type": "stream",
     "text": [
      "! Switch to activate subsurface routing...(0=no, 1=yes)\n"
     ]
    },
    {
     "name": "stdout",
     "output_type": "stream",
     "text": [
      "SUBRTSWCRT = 1\n"
     ]
    },
    {
     "name": "stdout",
     "output_type": "stream",
     "text": [
      "\n"
     ]
    },
    {
     "name": "stdout",
     "output_type": "stream",
     "text": [
      "! Switch to activate surface overland flow routing...(0=no, 1=yes)\n"
     ]
    },
    {
     "name": "stdout",
     "output_type": "stream",
     "text": [
      "OVRTSWCRT = 1\n"
     ]
    },
    {
     "name": "stdout",
     "output_type": "stream",
     "text": [
      "\n"
     ]
    },
    {
     "name": "stdout",
     "output_type": "stream",
     "text": [
      "! Specify overland flow routing option: 1=Seepest Descent (D8) 2=CASC2D (not active)\n"
     ]
    },
    {
     "name": "stdout",
     "output_type": "stream",
     "text": [
      "! NOTE: Currently subsurface flow is only steepest descent\n"
     ]
    },
    {
     "name": "stdout",
     "output_type": "stream",
     "text": [
      "rt_option = 1\n"
     ]
    },
    {
     "name": "stdout",
     "output_type": "stream",
     "text": [
      "\n"
     ]
    },
    {
     "name": "stdout",
     "output_type": "stream",
     "text": [
      "! Specify whether to adjust overland flow parameters based on imperviousness\n"
     ]
    },
    {
     "name": "stdout",
     "output_type": "stream",
     "text": [
      "imperv_adj = 0\n"
     ]
    },
    {
     "name": "stdout",
     "output_type": "stream",
     "text": [
      "\n"
     ]
    },
    {
     "name": "stdout",
     "output_type": "stream",
     "text": [
      "! Switch to activate channel routing...(0=no, 1=yes)\n"
     ]
    },
    {
     "name": "stdout",
     "output_type": "stream",
     "text": [
      "CHANRTSWCRT = 1\n"
     ]
    },
    {
     "name": "stdout",
     "output_type": "stream",
     "text": [
      "\n"
     ]
    },
    {
     "name": "stdout",
     "output_type": "stream",
     "text": [
      "! Specify channel routing option: 1=Muskingam-reach, 2=Musk.-Cunge-reach, 3=Diff.Wave-gridded\n"
     ]
    },
    {
     "name": "stdout",
     "output_type": "stream",
     "text": [
      "channel_option = 3\n"
     ]
    },
    {
     "name": "stdout",
     "output_type": "stream",
     "text": [
      "\n"
     ]
    },
    {
     "name": "stdout",
     "output_type": "stream",
     "text": [
      "! Specify the reach file for reach-based routing options (e.g.: \"Route_Link.nc\")\n"
     ]
    },
    {
     "name": "stdout",
     "output_type": "stream",
     "text": [
      "!route_link_f = \"\"\n"
     ]
    },
    {
     "name": "stdout",
     "output_type": "stream",
     "text": [
      "\n"
     ]
    },
    {
     "name": "stdout",
     "output_type": "stream",
     "text": [
      "! If using channel_option=2, activate the compound channel formulation? (Default=.FALSE.)\n"
     ]
    },
    {
     "name": "stdout",
     "output_type": "stream",
     "text": [
      "! This option is only supported if using reach-based routing with UDMP=1.\n"
     ]
    },
    {
     "name": "stdout",
     "output_type": "stream",
     "text": [
      "compound_channel = .FALSE.\n"
     ]
    },
    {
     "name": "stdout",
     "output_type": "stream",
     "text": [
      "\n"
     ]
    },
    {
     "name": "stdout",
     "output_type": "stream",
     "text": [
      "! Lake / Reservoir options (0=lakes off, 1=level pool (typical default),\n"
     ]
    },
    {
     "name": "stdout",
     "output_type": "stream",
     "text": [
      "!                           2=passthrough, 3=reservoir DA [see &reservoir_nlist below])\n"
     ]
    },
    {
     "name": "stdout",
     "output_type": "stream",
     "text": [
      "lake_option = 1\n"
     ]
    },
    {
     "name": "stdout",
     "output_type": "stream",
     "text": [
      "\n"
     ]
    },
    {
     "name": "stdout",
     "output_type": "stream",
     "text": [
      "! Specify the lake parameter file (e.g.: \"LAKEPARM.nc\").\n"
     ]
    },
    {
     "name": "stdout",
     "output_type": "stream",
     "text": [
      "! Note REQUIRED if lakes are on.\n"
     ]
    },
    {
     "name": "stdout",
     "output_type": "stream",
     "text": [
      "route_lake_f = \"./DOMAIN/LAKEPARM.nc\"\n"
     ]
    },
    {
     "name": "stdout",
     "output_type": "stream",
     "text": [
      "\n"
     ]
    },
    {
     "name": "stdout",
     "output_type": "stream",
     "text": [
      "! Switch to activate baseflow bucket model...(0=none, 1=exp. bucket, 2=pass-through)\n"
     ]
    },
    {
     "name": "stdout",
     "output_type": "stream",
     "text": [
      "GWBASESWCRT = 1\n"
     ]
    },
    {
     "name": "stdout",
     "output_type": "stream",
     "text": [
      "\n"
     ]
    },
    {
     "name": "stdout",
     "output_type": "stream",
     "text": [
      "! Switch to activate bucket model loss (0=no, 1=yes)\n"
     ]
    },
    {
     "name": "stdout",
     "output_type": "stream",
     "text": [
      "! This option is currently only supported if using reach-based routing with UDMP=1.\n"
     ]
    },
    {
     "name": "stdout",
     "output_type": "stream",
     "text": [
      "bucket_loss = 0\n"
     ]
    },
    {
     "name": "stdout",
     "output_type": "stream",
     "text": [
      "\n"
     ]
    },
    {
     "name": "stdout",
     "output_type": "stream",
     "text": [
      "! Groundwater/baseflow 2d mask specified on land surface model grid (e.g.: \"GWBASINS.nc\")\n"
     ]
    },
    {
     "name": "stdout",
     "output_type": "stream",
     "text": [
      "!Note: Only required if baseflow  model is active (1 or 2) and UDMP_OPT=0.\n"
     ]
    },
    {
     "name": "stdout",
     "output_type": "stream",
     "text": [
      "gwbasmskfil = \"./DOMAIN/GWBASINS.nc\"\n"
     ]
    },
    {
     "name": "stdout",
     "output_type": "stream",
     "text": [
      "\n"
     ]
    },
    {
     "name": "stdout",
     "output_type": "stream",
     "text": [
      "! Groundwater bucket parameter file (e.g.: \"GWBUCKPARM.nc\")\n"
     ]
    },
    {
     "name": "stdout",
     "output_type": "stream",
     "text": [
      "GWBUCKPARM_file = \"./DOMAIN/GWBUCKPARM.nc\"\n"
     ]
    },
    {
     "name": "stdout",
     "output_type": "stream",
     "text": [
      "\n"
     ]
    },
    {
     "name": "stdout",
     "output_type": "stream",
     "text": [
      "! User defined mapping, such NHDPlus: 0=no (default), 1=yes\n"
     ]
    },
    {
     "name": "stdout",
     "output_type": "stream",
     "text": [
      "UDMP_OPT = 0\n"
     ]
    },
    {
     "name": "stdout",
     "output_type": "stream",
     "text": [
      "\n"
     ]
    },
    {
     "name": "stdout",
     "output_type": "stream",
     "text": [
      "! If on, specify the user-defined mapping file (e.g.: \"spatialweights.nc\")\n"
     ]
    },
    {
     "name": "stdout",
     "output_type": "stream",
     "text": [
      "!udmap_file = \"\"\n"
     ]
    },
    {
     "name": "stdout",
     "output_type": "stream",
     "text": [
      "\n"
     ]
    },
    {
     "name": "stdout",
     "output_type": "stream",
     "text": [
      "/\n"
     ]
    },
    {
     "name": "stdout",
     "output_type": "stream",
     "text": [
      "\n"
     ]
    },
    {
     "name": "stdout",
     "output_type": "stream",
     "text": [
      "&NUDGING_nlist\n"
     ]
    },
    {
     "name": "stdout",
     "output_type": "stream",
     "text": [
      "\n"
     ]
    },
    {
     "name": "stdout",
     "output_type": "stream",
     "text": [
      "/\n"
     ]
    }
   ],
   "source": [
    "cat Gridded/hydro.namelist"
   ]
  },
  {
   "cell_type": "code",
   "execution_count": 7,
   "metadata": {
    "execution": {
     "iopub.execute_input": "2025-04-03T00:40:07.442705Z",
     "iopub.status.busy": "2025-04-03T00:40:07.442472Z",
     "iopub.status.idle": "2025-04-03T00:40:07.584873Z",
     "shell.execute_reply": "2025-04-03T00:40:07.583272Z"
    },
    "scrolled": true
   },
   "outputs": [
    {
     "name": "stdout",
     "output_type": "stream",
     "text": [
      "&NOAHLSM_OFFLINE\n"
     ]
    },
    {
     "name": "stdout",
     "output_type": "stream",
     "text": [
      "\n"
     ]
    },
    {
     "name": "stdout",
     "output_type": "stream",
     "text": [
      "HRLDAS_SETUP_FILE = \"./DOMAIN/wrfinput_d01.nc\"\n"
     ]
    },
    {
     "name": "stdout",
     "output_type": "stream",
     "text": [
      "INDIR = \"./FORCING\"\n"
     ]
    },
    {
     "name": "stdout",
     "output_type": "stream",
     "text": [
      "SPATIAL_FILENAME = \"./DOMAIN/soil_properties.nc\"\n"
     ]
    },
    {
     "name": "stdout",
     "output_type": "stream",
     "text": [
      "OUTDIR = \"./\"\n"
     ]
    },
    {
     "name": "stdout",
     "output_type": "stream",
     "text": [
      "\n"
     ]
    },
    {
     "name": "stdout",
     "output_type": "stream",
     "text": [
      "START_YEAR  = 2011\n"
     ]
    },
    {
     "name": "stdout",
     "output_type": "stream",
     "text": [
      "START_MONTH = 08\n"
     ]
    },
    {
     "name": "stdout",
     "output_type": "stream",
     "text": [
      "START_DAY   = 26\n"
     ]
    },
    {
     "name": "stdout",
     "output_type": "stream",
     "text": [
      "START_HOUR  = 00\n"
     ]
    },
    {
     "name": "stdout",
     "output_type": "stream",
     "text": [
      "START_MIN   = 00\n"
     ]
    },
    {
     "name": "stdout",
     "output_type": "stream",
     "text": [
      "\n"
     ]
    },
    {
     "name": "stdout",
     "output_type": "stream",
     "text": [
      "RESTART_FILENAME_REQUESTED = \"RESTART/RESTART.2011082600_DOMAIN1\"\n"
     ]
    },
    {
     "name": "stdout",
     "output_type": "stream",
     "text": [
      "\n"
     ]
    },
    {
     "name": "stdout",
     "output_type": "stream",
     "text": [
      "! Specification of simulation length in days OR hours\n"
     ]
    },
    {
     "name": "stdout",
     "output_type": "stream",
     "text": [
      "KDAY = 7\n"
     ]
    },
    {
     "name": "stdout",
     "output_type": "stream",
     "text": [
      "! KHOUR = 8\n"
     ]
    },
    {
     "name": "stdout",
     "output_type": "stream",
     "text": [
      "\n"
     ]
    },
    {
     "name": "stdout",
     "output_type": "stream",
     "text": [
      "! Physics options (see the documentation for details)\n"
     ]
    },
    {
     "name": "stdout",
     "output_type": "stream",
     "text": [
      "DYNAMIC_VEG_OPTION                = 4\n"
     ]
    },
    {
     "name": "stdout",
     "output_type": "stream",
     "text": [
      "CANOPY_STOMATAL_RESISTANCE_OPTION = 1\n"
     ]
    },
    {
     "name": "stdout",
     "output_type": "stream",
     "text": [
      "BTR_OPTION                        = 1\n"
     ]
    },
    {
     "name": "stdout",
     "output_type": "stream",
     "text": [
      "RUNOFF_OPTION                     = 3\n"
     ]
    },
    {
     "name": "stdout",
     "output_type": "stream",
     "text": [
      "SURFACE_DRAG_OPTION               = 1\n"
     ]
    },
    {
     "name": "stdout",
     "output_type": "stream",
     "text": [
      "FROZEN_SOIL_OPTION                = 1\n"
     ]
    },
    {
     "name": "stdout",
     "output_type": "stream",
     "text": [
      "SUPERCOOLED_WATER_OPTION          = 1\n"
     ]
    },
    {
     "name": "stdout",
     "output_type": "stream",
     "text": [
      "RADIATIVE_TRANSFER_OPTION         = 3\n"
     ]
    },
    {
     "name": "stdout",
     "output_type": "stream",
     "text": [
      "SNOW_ALBEDO_OPTION                = 2\n"
     ]
    },
    {
     "name": "stdout",
     "output_type": "stream",
     "text": [
      "PCP_PARTITION_OPTION              = 1\n"
     ]
    },
    {
     "name": "stdout",
     "output_type": "stream",
     "text": [
      "TBOT_OPTION                       = 2\n"
     ]
    },
    {
     "name": "stdout",
     "output_type": "stream",
     "text": [
      "TEMP_TIME_SCHEME_OPTION           = 3\n"
     ]
    },
    {
     "name": "stdout",
     "output_type": "stream",
     "text": [
      "GLACIER_OPTION                    = 2\n"
     ]
    },
    {
     "name": "stdout",
     "output_type": "stream",
     "text": [
      "SURFACE_RESISTANCE_OPTION         = 4\n"
     ]
    },
    {
     "name": "stdout",
     "output_type": "stream",
     "text": [
      "IMPERV_OPTION                     = 9  !(0->none; 1->total; 2->Alley&Veenhuis; 9->orig)\n"
     ]
    },
    {
     "name": "stdout",
     "output_type": "stream",
     "text": [
      "\n"
     ]
    },
    {
     "name": "stdout",
     "output_type": "stream",
     "text": [
      "! Timesteps in units of seconds\n"
     ]
    },
    {
     "name": "stdout",
     "output_type": "stream",
     "text": [
      "FORCING_TIMESTEP = 3600\n"
     ]
    },
    {
     "name": "stdout",
     "output_type": "stream",
     "text": [
      "NOAH_TIMESTEP    = 3600\n"
     ]
    },
    {
     "name": "stdout",
     "output_type": "stream",
     "text": [
      "OUTPUT_TIMESTEP  = 3600\n"
     ]
    },
    {
     "name": "stdout",
     "output_type": "stream",
     "text": [
      "\n"
     ]
    },
    {
     "name": "stdout",
     "output_type": "stream",
     "text": [
      "! Land surface model restart file write frequency\n"
     ]
    },
    {
     "name": "stdout",
     "output_type": "stream",
     "text": [
      "RESTART_FREQUENCY_HOURS = 24\n"
     ]
    },
    {
     "name": "stdout",
     "output_type": "stream",
     "text": [
      "\n"
     ]
    },
    {
     "name": "stdout",
     "output_type": "stream",
     "text": [
      "! Split output after split_output_count output times.\n"
     ]
    },
    {
     "name": "stdout",
     "output_type": "stream",
     "text": [
      "SPLIT_OUTPUT_COUNT = 1\n"
     ]
    },
    {
     "name": "stdout",
     "output_type": "stream",
     "text": [
      "\n"
     ]
    },
    {
     "name": "stdout",
     "output_type": "stream",
     "text": [
      "! Soil layer specification\n"
     ]
    },
    {
     "name": "stdout",
     "output_type": "stream",
     "text": [
      "NSOIL=4\n"
     ]
    },
    {
     "name": "stdout",
     "output_type": "stream",
     "text": [
      "soil_thick_input(1) = 0.10\n"
     ]
    },
    {
     "name": "stdout",
     "output_type": "stream",
     "text": [
      "soil_thick_input(2) = 0.30\n"
     ]
    },
    {
     "name": "stdout",
     "output_type": "stream",
     "text": [
      "soil_thick_input(3) = 0.60\n"
     ]
    },
    {
     "name": "stdout",
     "output_type": "stream",
     "text": [
      "soil_thick_input(4) = 1.00\n"
     ]
    },
    {
     "name": "stdout",
     "output_type": "stream",
     "text": [
      "\n"
     ]
    },
    {
     "name": "stdout",
     "output_type": "stream",
     "text": [
      "! Forcing data measurement height for winds, temp, humidity\n"
     ]
    },
    {
     "name": "stdout",
     "output_type": "stream",
     "text": [
      "ZLVL = 10.0\n"
     ]
    },
    {
     "name": "stdout",
     "output_type": "stream",
     "text": [
      "\n"
     ]
    },
    {
     "name": "stdout",
     "output_type": "stream",
     "text": [
      "! Restart file format options\n"
     ]
    },
    {
     "name": "stdout",
     "output_type": "stream",
     "text": [
      "rst_bi_in = 0      !0: use netcdf input restart file\n"
     ]
    },
    {
     "name": "stdout",
     "output_type": "stream",
     "text": [
      "                   !1: use parallel io for reading multiple restart files (1 per core)\n"
     ]
    },
    {
     "name": "stdout",
     "output_type": "stream",
     "text": [
      "rst_bi_out = 0     !0: use netcdf output restart file\n"
     ]
    },
    {
     "name": "stdout",
     "output_type": "stream",
     "text": [
      "                   !1: use parallel io for outputting multiple restart files (1 per core)\n"
     ]
    },
    {
     "name": "stdout",
     "output_type": "stream",
     "text": [
      "\n"
     ]
    },
    {
     "name": "stdout",
     "output_type": "stream",
     "text": [
      "! Forcing input variable names\n"
     ]
    },
    {
     "name": "stdout",
     "output_type": "stream",
     "text": [
      "forcing_name_T = \"T2D\"\n"
     ]
    },
    {
     "name": "stdout",
     "output_type": "stream",
     "text": [
      "forcing_name_Q = \"Q2D\"\n"
     ]
    },
    {
     "name": "stdout",
     "output_type": "stream",
     "text": [
      "forcing_name_U = \"U2D\"\n"
     ]
    },
    {
     "name": "stdout",
     "output_type": "stream",
     "text": [
      "forcing_name_V = \"V2D\"\n"
     ]
    },
    {
     "name": "stdout",
     "output_type": "stream",
     "text": [
      "forcing_name_P = \"PSFC\"\n"
     ]
    },
    {
     "name": "stdout",
     "output_type": "stream",
     "text": [
      "forcing_name_LW = \"LWDOWN\"\n"
     ]
    },
    {
     "name": "stdout",
     "output_type": "stream",
     "text": [
      "forcing_name_SW = \"SWDOWN\"\n"
     ]
    },
    {
     "name": "stdout",
     "output_type": "stream",
     "text": [
      "forcing_name_PR = \"RAINRATE\"\n"
     ]
    },
    {
     "name": "stdout",
     "output_type": "stream",
     "text": [
      "forcing_name_SN = \"\"\n"
     ]
    },
    {
     "name": "stdout",
     "output_type": "stream",
     "text": [
      "forcing_name_LF = \"LQFRAC\"\n"
     ]
    },
    {
     "name": "stdout",
     "output_type": "stream",
     "text": [
      "\n"
     ]
    },
    {
     "name": "stdout",
     "output_type": "stream",
     "text": [
      "/\n"
     ]
    },
    {
     "name": "stdout",
     "output_type": "stream",
     "text": [
      "\n"
     ]
    },
    {
     "name": "stdout",
     "output_type": "stream",
     "text": [
      "&WRF_HYDRO_OFFLINE\n"
     ]
    },
    {
     "name": "stdout",
     "output_type": "stream",
     "text": [
      "\n"
     ]
    },
    {
     "name": "stdout",
     "output_type": "stream",
     "text": [
      "! Specification of forcing data:  1=HRLDAS-hr format, 2=HRLDAS-min format, 3=WRF,\n"
     ]
    },
    {
     "name": "stdout",
     "output_type": "stream",
     "text": [
      "!    4=Idealized, 5=Ideal w/ Spec.Precip.,\n"
     ]
    },
    {
     "name": "stdout",
     "output_type": "stream",
     "text": [
      "!    6=HRLDAS-hrl y fomat w/ Spec. Precip., 7=WRF w/ Spec. Precip.,\n"
     ]
    },
    {
     "name": "stdout",
     "output_type": "stream",
     "text": [
      "!    9=Channel-only forcing, see hydro.namelist output_channelBucket_influxes\n"
     ]
    },
    {
     "name": "stdout",
     "output_type": "stream",
     "text": [
      "!    10=Channel+Bucket only forcing, see hydro.namelist output_channelBucket_influxes\n"
     ]
    },
    {
     "name": "stdout",
     "output_type": "stream",
     "text": [
      "FORC_TYP = 1\n"
     ]
    },
    {
     "name": "stdout",
     "output_type": "stream",
     "text": [
      "\n"
     ]
    },
    {
     "name": "stdout",
     "output_type": "stream",
     "text": [
      "/\n"
     ]
    },
    {
     "name": "stdout",
     "output_type": "stream",
     "text": [
      "\n"
     ]
    },
    {
     "name": "stdout",
     "output_type": "stream",
     "text": [
      "&CROCUS_nlist\n"
     ]
    },
    {
     "name": "stdout",
     "output_type": "stream",
     "text": [
      "  crocus_opt = 0   ! 0 model is off, 1 model is on\n"
     ]
    },
    {
     "name": "stdout",
     "output_type": "stream",
     "text": [
      "  act_lev = 40     ! 20-40 normal range, 1-50 acceptable\n"
     ]
    },
    {
     "name": "stdout",
     "output_type": "stream",
     "text": [
      "/\n"
     ]
    },
    {
     "name": "stdout",
     "output_type": "stream",
     "text": [
      "\n"
     ]
    }
   ],
   "source": [
    "cat Gridded/namelist.hrldas"
   ]
  },
  {
   "cell_type": "markdown",
   "metadata": {},
   "source": [
    "## Creating a simulation directory \n",
    "Now that we have covered the major functional elements that constitute a simulation, we will combine these elements and construct a simulation. This is done by placing the `FORCING`, `Gridded/DOMAIN`, `trunk/NDHMS/Run` directories and `namelist.hrldas` and `hydro.namelist` files together in a directory that will be our simulation directory. However, to save disk space it is often preferable to create symbolic links rather than copying the actual files. \n",
    "\n",
    "**NOTE: We will only use symbolic links with files that we will NOT be editing**    \n",
    "\n",
    "![fig2.png](images/fig2.png)\n",
    "\n",
    "In the following steps, we will construct our simulation directory.\n",
    "\n",
    "**Step 1. Create simulation directory**\n",
    "\n",
    "We will create a directory for our simulation"
   ]
  },
  {
   "cell_type": "code",
   "execution_count": 8,
   "metadata": {
    "execution": {
     "iopub.execute_input": "2025-04-03T00:40:07.588830Z",
     "iopub.status.busy": "2025-04-03T00:40:07.588529Z",
     "iopub.status.idle": "2025-04-03T00:40:07.763615Z",
     "shell.execute_reply": "2025-04-03T00:40:07.762208Z"
    },
    "scrolled": true
   },
   "outputs": [],
   "source": [
    "mkdir -p ~/wrf-hydro-training/output/lesson2/run_gridded_default\n",
    "cd ~/wrf-hydro-training/output/lesson2/run_gridded_default"
   ]
  },
  {
   "cell_type": "markdown",
   "metadata": {},
   "source": [
    "**Step 2. Copy model run files**\n",
    "\n",
    "We will copy the required model run files from the *~/wrf-hydro-training/wrf_hydro_nwm_public/trunk/NDHMS/Run* directory. These files are small so we will make actual copies rather than symbolic links in this case. Additionally, copies are preferred in this case because a user may want to edit the \\*.TBL files and as stated previously symbolic links should not be used with files that we may edit."
   ]
  },
  {
   "cell_type": "code",
   "execution_count": 9,
   "metadata": {
    "execution": {
     "iopub.execute_input": "2025-04-03T00:40:07.766953Z",
     "iopub.status.busy": "2025-04-03T00:40:07.766618Z",
     "iopub.status.idle": "2025-04-03T00:40:08.073846Z",
     "shell.execute_reply": "2025-04-03T00:40:08.069762Z"
    },
    "scrolled": true
   },
   "outputs": [
    {
     "name": "stdout",
     "output_type": "stream",
     "text": [
      "CHANPARM.TBL  GENPARM.TBL  HYDRO.TBL  MPTABLE.TBL  SOILPARM.TBL  \u001b[0m\u001b[01;32mwrf_hydro\u001b[0m\n"
     ]
    }
   ],
   "source": [
    "cp ~/wrf-hydro-training/wrf_hydro_nwm_public/build/Run/*.TBL .\n",
    "cp ~/wrf-hydro-training/wrf_hydro_nwm_public/build/Run/wrf_hydro .\n",
    "\n",
    "ls "
   ]
  },
  {
   "cell_type": "markdown",
   "metadata": {},
   "source": [
    "**Step 3. Symlink *DOMAIN* files**\n",
    "\n",
    "We will create symbolic links to the required *domain* files from the `~/wrf-hydro-training/DOMAIN/Gridded` directory. These files can be large so we will make symbolic links rather than copying the actual files. "
   ]
  },
  {
   "cell_type": "code",
   "execution_count": 10,
   "metadata": {
    "execution": {
     "iopub.execute_input": "2025-04-03T00:40:08.080605Z",
     "iopub.status.busy": "2025-04-03T00:40:08.080051Z",
     "iopub.status.idle": "2025-04-03T00:40:08.438887Z",
     "shell.execute_reply": "2025-04-03T00:40:08.434847Z"
    },
    "scrolled": true
   },
   "outputs": [
    {
     "name": "stdout",
     "output_type": "stream",
     "text": [
      "CHANPARM.TBL  \u001b[0m\u001b[01;36mFORCING\u001b[0m      HYDRO.TBL    \u001b[01;36mRESTART\u001b[0m       \u001b[01;32mwrf_hydro\u001b[0m\n"
     ]
    },
    {
     "name": "stdout",
     "output_type": "stream",
     "text": [
      "\u001b[01;36mDOMAIN\u001b[0m        GENPARM.TBL  MPTABLE.TBL  SOILPARM.TBL\n"
     ]
    }
   ],
   "source": [
    "ln -sf ~/wrf-hydro-training/example_case/FORCING .\n",
    "ln -sf ~/wrf-hydro-training/example_case/Gridded/DOMAIN .\n",
    "ln -sf ~/wrf-hydro-training/example_case/Gridded/RESTART .\n",
    "\n",
    "ls "
   ]
  },
  {
   "cell_type": "markdown",
   "metadata": {},
   "source": [
    "**Step 4. Copy *namelist* files**\n",
    "\n",
    "Because we are using the default prepared namelists from the example WRF-Hydro domain, we will copy those in as well. If you were using your own namelists, they would likely be edited and copied from elsewhere. These are small text files so we will make actual copies rather than symbolic links."
   ]
  },
  {
   "cell_type": "code",
   "execution_count": 11,
   "metadata": {
    "execution": {
     "iopub.execute_input": "2025-04-03T00:40:08.447440Z",
     "iopub.status.busy": "2025-04-03T00:40:08.446742Z",
     "iopub.status.idle": "2025-04-03T00:40:08.740655Z",
     "shell.execute_reply": "2025-04-03T00:40:08.737400Z"
    },
    "scrolled": true
   },
   "outputs": [
    {
     "name": "stdout",
     "output_type": "stream",
     "text": [
      "CHANPARM.TBL  GENPARM.TBL  \u001b[0m\u001b[01;36mRESTART\u001b[0m         namelist.hrldas\n"
     ]
    },
    {
     "name": "stdout",
     "output_type": "stream",
     "text": [
      "\u001b[01;36mDOMAIN\u001b[0m        HYDRO.TBL    SOILPARM.TBL    \u001b[01;32mwrf_hydro\u001b[0m\n"
     ]
    },
    {
     "name": "stdout",
     "output_type": "stream",
     "text": [
      "\u001b[01;36mFORCING\u001b[0m       MPTABLE.TBL  hydro.namelist\n"
     ]
    }
   ],
   "source": [
    "cp ~/wrf-hydro-training/example_case/Gridded/namelist.hrldas .\n",
    "cp ~/wrf-hydro-training/example_case/Gridded/hydro.namelist .\n",
    "\n",
    "ls "
   ]
  },
  {
   "cell_type": "markdown",
   "metadata": {},
   "source": [
    "We have now constructed our simulation directory with all the requisite files. \n",
    "\n",
    "In the next section we will run the simulation. "
   ]
  },
  {
   "cell_type": "markdown",
   "metadata": {},
   "source": [
    "## Running WRF-Hydro using default run-time options\n",
    "Now that we have constructed our simulation directory, we can run our simulation. For this we will be using the `mpirun` command, which has a number of arguments. For this simple case, we only need to supply one argument, the number of cores. This is done with the `-np` argument, and we will set it to 2 cores. \n",
    "\n",
    "We will pipe the output to a log file because running a simulation can generate a lot of standard output in the terminal."
   ]
  },
  {
   "cell_type": "code",
   "execution_count": 12,
   "metadata": {
    "execution": {
     "iopub.execute_input": "2025-04-03T00:40:08.747368Z",
     "iopub.status.busy": "2025-04-03T00:40:08.746746Z",
     "iopub.status.idle": "2025-04-03T00:40:26.271297Z",
     "shell.execute_reply": "2025-04-03T00:40:26.268630Z"
    },
    "scrolled": true
   },
   "outputs": [],
   "source": [
    "mpirun -np 2 ./wrf_hydro &> run.log"
   ]
  },
  {
   "cell_type": "markdown",
   "metadata": {},
   "source": [
    "If your simulation ran successfully, there should now be a large number of output files in the `~/wrf-hydro-training/output/lesson2/run_gridded_default`. We will describe these output files in more depth in Lesson 4. Additionally, detailed descriptions of the output files can be found in the [Technical Description](https://ral.ucar.edu/projects/wrf_hydro/technical-description-user-guide). \n",
    "\n",
    "List the contents of the run directory."
   ]
  },
  {
   "cell_type": "code",
   "execution_count": 13,
   "metadata": {
    "execution": {
     "iopub.execute_input": "2025-04-03T00:40:26.277630Z",
     "iopub.status.busy": "2025-04-03T00:40:26.277029Z",
     "iopub.status.idle": "2025-04-03T00:40:26.536414Z",
     "shell.execute_reply": "2025-04-03T00:40:26.535410Z"
    },
    "scrolled": true
   },
   "outputs": [
    {
     "name": "stdout",
     "output_type": "stream",
     "text": [
      "201108260000.LDASOUT_DOMAIN1  201108291500.CHANOBS_DOMAIN1\n"
     ]
    },
    {
     "name": "stdout",
     "output_type": "stream",
     "text": [
      "201108260100.CHANOBS_DOMAIN1  201108291500.CHRTOUT_DOMAIN1\n"
     ]
    },
    {
     "name": "stdout",
     "output_type": "stream",
     "text": [
      "201108260100.CHRTOUT_DOMAIN1  201108291500.CHRTOUT_GRID1\n"
     ]
    },
    {
     "name": "stdout",
     "output_type": "stream",
     "text": [
      "201108260100.CHRTOUT_GRID1    201108291500.GWOUT_DOMAIN1\n"
     ]
    },
    {
     "name": "stdout",
     "output_type": "stream",
     "text": [
      "201108260100.GWOUT_DOMAIN1    201108291500.LAKEOUT_DOMAIN1\n"
     ]
    },
    {
     "name": "stdout",
     "output_type": "stream",
     "text": [
      "201108260100.LAKEOUT_DOMAIN1  201108291500.LDASOUT_DOMAIN1\n"
     ]
    },
    {
     "name": "stdout",
     "output_type": "stream",
     "text": [
      "201108260100.LDASOUT_DOMAIN1  201108291500.LSMOUT_DOMAIN1\n"
     ]
    },
    {
     "name": "stdout",
     "output_type": "stream",
     "text": [
      "201108260100.LSMOUT_DOMAIN1   201108291500.RTOUT_DOMAIN1\n"
     ]
    },
    {
     "name": "stdout",
     "output_type": "stream",
     "text": [
      "201108260200.CHANOBS_DOMAIN1  201108291600.CHANOBS_DOMAIN1\n"
     ]
    },
    {
     "name": "stdout",
     "output_type": "stream",
     "text": [
      "201108260200.CHRTOUT_DOMAIN1  201108291600.CHRTOUT_DOMAIN1\n"
     ]
    },
    {
     "name": "stdout",
     "output_type": "stream",
     "text": [
      "201108260200.CHRTOUT_GRID1    201108291600.CHRTOUT_GRID1\n"
     ]
    },
    {
     "name": "stdout",
     "output_type": "stream",
     "text": [
      "201108260200.GWOUT_DOMAIN1    201108291600.GWOUT_DOMAIN1\n"
     ]
    },
    {
     "name": "stdout",
     "output_type": "stream",
     "text": [
      "201108260200.LAKEOUT_DOMAIN1  201108291600.LAKEOUT_DOMAIN1\n"
     ]
    },
    {
     "name": "stdout",
     "output_type": "stream",
     "text": [
      "201108260200.LDASOUT_DOMAIN1  201108291600.LDASOUT_DOMAIN1\n"
     ]
    },
    {
     "name": "stdout",
     "output_type": "stream",
     "text": [
      "201108260200.LSMOUT_DOMAIN1   201108291600.LSMOUT_DOMAIN1\n"
     ]
    },
    {
     "name": "stdout",
     "output_type": "stream",
     "text": [
      "201108260300.CHANOBS_DOMAIN1  201108291700.CHANOBS_DOMAIN1\n"
     ]
    },
    {
     "name": "stdout",
     "output_type": "stream",
     "text": [
      "201108260300.CHRTOUT_DOMAIN1  201108291700.CHRTOUT_DOMAIN1\n"
     ]
    },
    {
     "name": "stdout",
     "output_type": "stream",
     "text": [
      "201108260300.CHRTOUT_GRID1    201108291700.CHRTOUT_GRID1\n"
     ]
    },
    {
     "name": "stdout",
     "output_type": "stream",
     "text": [
      "201108260300.GWOUT_DOMAIN1    201108291700.GWOUT_DOMAIN1\n"
     ]
    },
    {
     "name": "stdout",
     "output_type": "stream",
     "text": [
      "201108260300.LAKEOUT_DOMAIN1  201108291700.LAKEOUT_DOMAIN1\n"
     ]
    },
    {
     "name": "stdout",
     "output_type": "stream",
     "text": [
      "201108260300.LDASOUT_DOMAIN1  201108291700.LDASOUT_DOMAIN1\n"
     ]
    },
    {
     "name": "stdout",
     "output_type": "stream",
     "text": [
      "201108260300.LSMOUT_DOMAIN1   201108291700.LSMOUT_DOMAIN1\n"
     ]
    },
    {
     "name": "stdout",
     "output_type": "stream",
     "text": [
      "201108260300.RTOUT_DOMAIN1    201108291800.CHANOBS_DOMAIN1\n"
     ]
    },
    {
     "name": "stdout",
     "output_type": "stream",
     "text": [
      "201108260400.CHANOBS_DOMAIN1  201108291800.CHRTOUT_DOMAIN1\n"
     ]
    },
    {
     "name": "stdout",
     "output_type": "stream",
     "text": [
      "201108260400.CHRTOUT_DOMAIN1  201108291800.CHRTOUT_GRID1\n"
     ]
    },
    {
     "name": "stdout",
     "output_type": "stream",
     "text": [
      "201108260400.CHRTOUT_GRID1    201108291800.GWOUT_DOMAIN1\n"
     ]
    },
    {
     "name": "stdout",
     "output_type": "stream",
     "text": [
      "201108260400.GWOUT_DOMAIN1    201108291800.LAKEOUT_DOMAIN1\n"
     ]
    },
    {
     "name": "stdout",
     "output_type": "stream",
     "text": [
      "201108260400.LAKEOUT_DOMAIN1  201108291800.LDASOUT_DOMAIN1\n"
     ]
    },
    {
     "name": "stdout",
     "output_type": "stream",
     "text": [
      "201108260400.LDASOUT_DOMAIN1  201108291800.LSMOUT_DOMAIN1\n"
     ]
    },
    {
     "name": "stdout",
     "output_type": "stream",
     "text": [
      "201108260400.LSMOUT_DOMAIN1   201108291800.RTOUT_DOMAIN1\n"
     ]
    },
    {
     "name": "stdout",
     "output_type": "stream",
     "text": [
      "201108260500.CHANOBS_DOMAIN1  201108291900.CHANOBS_DOMAIN1\n"
     ]
    },
    {
     "name": "stdout",
     "output_type": "stream",
     "text": [
      "201108260500.CHRTOUT_DOMAIN1  201108291900.CHRTOUT_DOMAIN1\n"
     ]
    },
    {
     "name": "stdout",
     "output_type": "stream",
     "text": [
      "201108260500.CHRTOUT_GRID1    201108291900.CHRTOUT_GRID1\n"
     ]
    },
    {
     "name": "stdout",
     "output_type": "stream",
     "text": [
      "201108260500.GWOUT_DOMAIN1    201108291900.GWOUT_DOMAIN1\n"
     ]
    },
    {
     "name": "stdout",
     "output_type": "stream",
     "text": [
      "201108260500.LAKEOUT_DOMAIN1  201108291900.LAKEOUT_DOMAIN1\n"
     ]
    },
    {
     "name": "stdout",
     "output_type": "stream",
     "text": [
      "201108260500.LDASOUT_DOMAIN1  201108291900.LDASOUT_DOMAIN1\n"
     ]
    },
    {
     "name": "stdout",
     "output_type": "stream",
     "text": [
      "201108260500.LSMOUT_DOMAIN1   201108291900.LSMOUT_DOMAIN1\n"
     ]
    },
    {
     "name": "stdout",
     "output_type": "stream",
     "text": [
      "201108260600.CHANOBS_DOMAIN1  201108292000.CHANOBS_DOMAIN1\n"
     ]
    },
    {
     "name": "stdout",
     "output_type": "stream",
     "text": [
      "201108260600.CHRTOUT_DOMAIN1  201108292000.CHRTOUT_DOMAIN1\n"
     ]
    },
    {
     "name": "stdout",
     "output_type": "stream",
     "text": [
      "201108260600.CHRTOUT_GRID1    201108292000.CHRTOUT_GRID1\n"
     ]
    },
    {
     "name": "stdout",
     "output_type": "stream",
     "text": [
      "201108260600.GWOUT_DOMAIN1    201108292000.GWOUT_DOMAIN1\n"
     ]
    },
    {
     "name": "stdout",
     "output_type": "stream",
     "text": [
      "201108260600.LAKEOUT_DOMAIN1  201108292000.LAKEOUT_DOMAIN1\n"
     ]
    },
    {
     "name": "stdout",
     "output_type": "stream",
     "text": [
      "201108260600.LDASOUT_DOMAIN1  201108292000.LDASOUT_DOMAIN1\n"
     ]
    },
    {
     "name": "stdout",
     "output_type": "stream",
     "text": [
      "201108260600.LSMOUT_DOMAIN1   201108292000.LSMOUT_DOMAIN1\n"
     ]
    },
    {
     "name": "stdout",
     "output_type": "stream",
     "text": [
      "201108260600.RTOUT_DOMAIN1    201108292100.CHANOBS_DOMAIN1\n"
     ]
    },
    {
     "name": "stdout",
     "output_type": "stream",
     "text": [
      "201108260700.CHANOBS_DOMAIN1  201108292100.CHRTOUT_DOMAIN1\n"
     ]
    },
    {
     "name": "stdout",
     "output_type": "stream",
     "text": [
      "201108260700.CHRTOUT_DOMAIN1  201108292100.CHRTOUT_GRID1\n"
     ]
    },
    {
     "name": "stdout",
     "output_type": "stream",
     "text": [
      "201108260700.CHRTOUT_GRID1    201108292100.GWOUT_DOMAIN1\n"
     ]
    },
    {
     "name": "stdout",
     "output_type": "stream",
     "text": [
      "201108260700.GWOUT_DOMAIN1    201108292100.LAKEOUT_DOMAIN1\n"
     ]
    },
    {
     "name": "stdout",
     "output_type": "stream",
     "text": [
      "201108260700.LAKEOUT_DOMAIN1  201108292100.LDASOUT_DOMAIN1\n"
     ]
    },
    {
     "name": "stdout",
     "output_type": "stream",
     "text": [
      "201108260700.LDASOUT_DOMAIN1  201108292100.LSMOUT_DOMAIN1\n"
     ]
    },
    {
     "name": "stdout",
     "output_type": "stream",
     "text": [
      "201108260700.LSMOUT_DOMAIN1   201108292100.RTOUT_DOMAIN1\n"
     ]
    },
    {
     "name": "stdout",
     "output_type": "stream",
     "text": [
      "201108260800.CHANOBS_DOMAIN1  201108292200.CHANOBS_DOMAIN1\n"
     ]
    },
    {
     "name": "stdout",
     "output_type": "stream",
     "text": [
      "201108260800.CHRTOUT_DOMAIN1  201108292200.CHRTOUT_DOMAIN1\n"
     ]
    },
    {
     "name": "stdout",
     "output_type": "stream",
     "text": [
      "201108260800.CHRTOUT_GRID1    201108292200.CHRTOUT_GRID1\n"
     ]
    },
    {
     "name": "stdout",
     "output_type": "stream",
     "text": [
      "201108260800.GWOUT_DOMAIN1    201108292200.GWOUT_DOMAIN1\n"
     ]
    },
    {
     "name": "stdout",
     "output_type": "stream",
     "text": [
      "201108260800.LAKEOUT_DOMAIN1  201108292200.LAKEOUT_DOMAIN1\n"
     ]
    },
    {
     "name": "stdout",
     "output_type": "stream",
     "text": [
      "201108260800.LDASOUT_DOMAIN1  201108292200.LDASOUT_DOMAIN1\n"
     ]
    },
    {
     "name": "stdout",
     "output_type": "stream",
     "text": [
      "201108260800.LSMOUT_DOMAIN1   201108292200.LSMOUT_DOMAIN1\n"
     ]
    },
    {
     "name": "stdout",
     "output_type": "stream",
     "text": [
      "201108260900.CHANOBS_DOMAIN1  201108292300.CHANOBS_DOMAIN1\n"
     ]
    },
    {
     "name": "stdout",
     "output_type": "stream",
     "text": [
      "201108260900.CHRTOUT_DOMAIN1  201108292300.CHRTOUT_DOMAIN1\n"
     ]
    },
    {
     "name": "stdout",
     "output_type": "stream",
     "text": [
      "201108260900.CHRTOUT_GRID1    201108292300.CHRTOUT_GRID1\n"
     ]
    },
    {
     "name": "stdout",
     "output_type": "stream",
     "text": [
      "201108260900.GWOUT_DOMAIN1    201108292300.GWOUT_DOMAIN1\n"
     ]
    },
    {
     "name": "stdout",
     "output_type": "stream",
     "text": [
      "201108260900.LAKEOUT_DOMAIN1  201108292300.LAKEOUT_DOMAIN1\n"
     ]
    },
    {
     "name": "stdout",
     "output_type": "stream",
     "text": [
      "201108260900.LDASOUT_DOMAIN1  201108292300.LDASOUT_DOMAIN1\n"
     ]
    },
    {
     "name": "stdout",
     "output_type": "stream",
     "text": [
      "201108260900.LSMOUT_DOMAIN1   201108292300.LSMOUT_DOMAIN1\n"
     ]
    },
    {
     "name": "stdout",
     "output_type": "stream",
     "text": [
      "201108260900.RTOUT_DOMAIN1    201108300000.CHANOBS_DOMAIN1\n"
     ]
    },
    {
     "name": "stdout",
     "output_type": "stream",
     "text": [
      "201108261000.CHANOBS_DOMAIN1  201108300000.CHRTOUT_DOMAIN1\n"
     ]
    },
    {
     "name": "stdout",
     "output_type": "stream",
     "text": [
      "201108261000.CHRTOUT_DOMAIN1  201108300000.CHRTOUT_GRID1\n"
     ]
    },
    {
     "name": "stdout",
     "output_type": "stream",
     "text": [
      "201108261000.CHRTOUT_GRID1    201108300000.GWOUT_DOMAIN1\n"
     ]
    },
    {
     "name": "stdout",
     "output_type": "stream",
     "text": [
      "201108261000.GWOUT_DOMAIN1    201108300000.LAKEOUT_DOMAIN1\n"
     ]
    },
    {
     "name": "stdout",
     "output_type": "stream",
     "text": [
      "201108261000.LAKEOUT_DOMAIN1  201108300000.LDASOUT_DOMAIN1\n"
     ]
    },
    {
     "name": "stdout",
     "output_type": "stream",
     "text": [
      "201108261000.LDASOUT_DOMAIN1  201108300000.LSMOUT_DOMAIN1\n"
     ]
    },
    {
     "name": "stdout",
     "output_type": "stream",
     "text": [
      "201108261000.LSMOUT_DOMAIN1   201108300000.RTOUT_DOMAIN1\n"
     ]
    },
    {
     "name": "stdout",
     "output_type": "stream",
     "text": [
      "201108261100.CHANOBS_DOMAIN1  201108300100.CHANOBS_DOMAIN1\n"
     ]
    },
    {
     "name": "stdout",
     "output_type": "stream",
     "text": [
      "201108261100.CHRTOUT_DOMAIN1  201108300100.CHRTOUT_DOMAIN1\n"
     ]
    },
    {
     "name": "stdout",
     "output_type": "stream",
     "text": [
      "201108261100.CHRTOUT_GRID1    201108300100.CHRTOUT_GRID1\n"
     ]
    },
    {
     "name": "stdout",
     "output_type": "stream",
     "text": [
      "201108261100.GWOUT_DOMAIN1    201108300100.GWOUT_DOMAIN1\n"
     ]
    },
    {
     "name": "stdout",
     "output_type": "stream",
     "text": [
      "201108261100.LAKEOUT_DOMAIN1  201108300100.LAKEOUT_DOMAIN1\n"
     ]
    },
    {
     "name": "stdout",
     "output_type": "stream",
     "text": [
      "201108261100.LDASOUT_DOMAIN1  201108300100.LDASOUT_DOMAIN1\n"
     ]
    },
    {
     "name": "stdout",
     "output_type": "stream",
     "text": [
      "201108261100.LSMOUT_DOMAIN1   201108300100.LSMOUT_DOMAIN1\n"
     ]
    },
    {
     "name": "stdout",
     "output_type": "stream",
     "text": [
      "201108261200.CHANOBS_DOMAIN1  201108300200.CHANOBS_DOMAIN1\n"
     ]
    },
    {
     "name": "stdout",
     "output_type": "stream",
     "text": [
      "201108261200.CHRTOUT_DOMAIN1  201108300200.CHRTOUT_DOMAIN1\n"
     ]
    },
    {
     "name": "stdout",
     "output_type": "stream",
     "text": [
      "201108261200.CHRTOUT_GRID1    201108300200.CHRTOUT_GRID1\n"
     ]
    },
    {
     "name": "stdout",
     "output_type": "stream",
     "text": [
      "201108261200.GWOUT_DOMAIN1    201108300200.GWOUT_DOMAIN1\n"
     ]
    },
    {
     "name": "stdout",
     "output_type": "stream",
     "text": [
      "201108261200.LAKEOUT_DOMAIN1  201108300200.LAKEOUT_DOMAIN1\n"
     ]
    },
    {
     "name": "stdout",
     "output_type": "stream",
     "text": [
      "201108261200.LDASOUT_DOMAIN1  201108300200.LDASOUT_DOMAIN1\n"
     ]
    },
    {
     "name": "stdout",
     "output_type": "stream",
     "text": [
      "201108261200.LSMOUT_DOMAIN1   201108300200.LSMOUT_DOMAIN1\n"
     ]
    },
    {
     "name": "stdout",
     "output_type": "stream",
     "text": [
      "201108261200.RTOUT_DOMAIN1    201108300300.CHANOBS_DOMAIN1\n"
     ]
    },
    {
     "name": "stdout",
     "output_type": "stream",
     "text": [
      "201108261300.CHANOBS_DOMAIN1  201108300300.CHRTOUT_DOMAIN1\n"
     ]
    },
    {
     "name": "stdout",
     "output_type": "stream",
     "text": [
      "201108261300.CHRTOUT_DOMAIN1  201108300300.CHRTOUT_GRID1\n"
     ]
    },
    {
     "name": "stdout",
     "output_type": "stream",
     "text": [
      "201108261300.CHRTOUT_GRID1    201108300300.GWOUT_DOMAIN1\n"
     ]
    },
    {
     "name": "stdout",
     "output_type": "stream",
     "text": [
      "201108261300.GWOUT_DOMAIN1    201108300300.LAKEOUT_DOMAIN1\n"
     ]
    },
    {
     "name": "stdout",
     "output_type": "stream",
     "text": [
      "201108261300.LAKEOUT_DOMAIN1  201108300300.LDASOUT_DOMAIN1\n"
     ]
    },
    {
     "name": "stdout",
     "output_type": "stream",
     "text": [
      "201108261300.LDASOUT_DOMAIN1  201108300300.LSMOUT_DOMAIN1\n"
     ]
    },
    {
     "name": "stdout",
     "output_type": "stream",
     "text": [
      "201108261300.LSMOUT_DOMAIN1   201108300300.RTOUT_DOMAIN1\n"
     ]
    },
    {
     "name": "stdout",
     "output_type": "stream",
     "text": [
      "201108261400.CHANOBS_DOMAIN1  201108300400.CHANOBS_DOMAIN1\n"
     ]
    },
    {
     "name": "stdout",
     "output_type": "stream",
     "text": [
      "201108261400.CHRTOUT_DOMAIN1  201108300400.CHRTOUT_DOMAIN1\n"
     ]
    },
    {
     "name": "stdout",
     "output_type": "stream",
     "text": [
      "201108261400.CHRTOUT_GRID1    201108300400.CHRTOUT_GRID1\n"
     ]
    },
    {
     "name": "stdout",
     "output_type": "stream",
     "text": [
      "201108261400.GWOUT_DOMAIN1    201108300400.GWOUT_DOMAIN1\n"
     ]
    },
    {
     "name": "stdout",
     "output_type": "stream",
     "text": [
      "201108261400.LAKEOUT_DOMAIN1  201108300400.LAKEOUT_DOMAIN1\n"
     ]
    },
    {
     "name": "stdout",
     "output_type": "stream",
     "text": [
      "201108261400.LDASOUT_DOMAIN1  201108300400.LDASOUT_DOMAIN1\n"
     ]
    },
    {
     "name": "stdout",
     "output_type": "stream",
     "text": [
      "201108261400.LSMOUT_DOMAIN1   201108300400.LSMOUT_DOMAIN1\n"
     ]
    },
    {
     "name": "stdout",
     "output_type": "stream",
     "text": [
      "201108261500.CHANOBS_DOMAIN1  201108300500.CHANOBS_DOMAIN1\n"
     ]
    },
    {
     "name": "stdout",
     "output_type": "stream",
     "text": [
      "201108261500.CHRTOUT_DOMAIN1  201108300500.CHRTOUT_DOMAIN1\n"
     ]
    },
    {
     "name": "stdout",
     "output_type": "stream",
     "text": [
      "201108261500.CHRTOUT_GRID1    201108300500.CHRTOUT_GRID1\n"
     ]
    },
    {
     "name": "stdout",
     "output_type": "stream",
     "text": [
      "201108261500.GWOUT_DOMAIN1    201108300500.GWOUT_DOMAIN1\n"
     ]
    },
    {
     "name": "stdout",
     "output_type": "stream",
     "text": [
      "201108261500.LAKEOUT_DOMAIN1  201108300500.LAKEOUT_DOMAIN1\n"
     ]
    },
    {
     "name": "stdout",
     "output_type": "stream",
     "text": [
      "201108261500.LDASOUT_DOMAIN1  201108300500.LDASOUT_DOMAIN1\n"
     ]
    },
    {
     "name": "stdout",
     "output_type": "stream",
     "text": [
      "201108261500.LSMOUT_DOMAIN1   201108300500.LSMOUT_DOMAIN1\n"
     ]
    },
    {
     "name": "stdout",
     "output_type": "stream",
     "text": [
      "201108261500.RTOUT_DOMAIN1    201108300600.CHANOBS_DOMAIN1\n"
     ]
    },
    {
     "name": "stdout",
     "output_type": "stream",
     "text": [
      "201108261600.CHANOBS_DOMAIN1  201108300600.CHRTOUT_DOMAIN1\n"
     ]
    },
    {
     "name": "stdout",
     "output_type": "stream",
     "text": [
      "201108261600.CHRTOUT_DOMAIN1  201108300600.CHRTOUT_GRID1\n"
     ]
    },
    {
     "name": "stdout",
     "output_type": "stream",
     "text": [
      "201108261600.CHRTOUT_GRID1    201108300600.GWOUT_DOMAIN1\n"
     ]
    },
    {
     "name": "stdout",
     "output_type": "stream",
     "text": [
      "201108261600.GWOUT_DOMAIN1    201108300600.LAKEOUT_DOMAIN1\n"
     ]
    },
    {
     "name": "stdout",
     "output_type": "stream",
     "text": [
      "201108261600.LAKEOUT_DOMAIN1  201108300600.LDASOUT_DOMAIN1\n"
     ]
    },
    {
     "name": "stdout",
     "output_type": "stream",
     "text": [
      "201108261600.LDASOUT_DOMAIN1  201108300600.LSMOUT_DOMAIN1\n"
     ]
    },
    {
     "name": "stdout",
     "output_type": "stream",
     "text": [
      "201108261600.LSMOUT_DOMAIN1   201108300600.RTOUT_DOMAIN1\n"
     ]
    },
    {
     "name": "stdout",
     "output_type": "stream",
     "text": [
      "201108261700.CHANOBS_DOMAIN1  201108300700.CHANOBS_DOMAIN1\n"
     ]
    },
    {
     "name": "stdout",
     "output_type": "stream",
     "text": [
      "201108261700.CHRTOUT_DOMAIN1  201108300700.CHRTOUT_DOMAIN1\n"
     ]
    },
    {
     "name": "stdout",
     "output_type": "stream",
     "text": [
      "201108261700.CHRTOUT_GRID1    201108300700.CHRTOUT_GRID1\n"
     ]
    },
    {
     "name": "stdout",
     "output_type": "stream",
     "text": [
      "201108261700.GWOUT_DOMAIN1    201108300700.GWOUT_DOMAIN1\n"
     ]
    },
    {
     "name": "stdout",
     "output_type": "stream",
     "text": [
      "201108261700.LAKEOUT_DOMAIN1  201108300700.LAKEOUT_DOMAIN1\n"
     ]
    },
    {
     "name": "stdout",
     "output_type": "stream",
     "text": [
      "201108261700.LDASOUT_DOMAIN1  201108300700.LDASOUT_DOMAIN1\n"
     ]
    },
    {
     "name": "stdout",
     "output_type": "stream",
     "text": [
      "201108261700.LSMOUT_DOMAIN1   201108300700.LSMOUT_DOMAIN1\n"
     ]
    },
    {
     "name": "stdout",
     "output_type": "stream",
     "text": [
      "201108261800.CHANOBS_DOMAIN1  201108300800.CHANOBS_DOMAIN1\n"
     ]
    },
    {
     "name": "stdout",
     "output_type": "stream",
     "text": [
      "201108261800.CHRTOUT_DOMAIN1  201108300800.CHRTOUT_DOMAIN1\n"
     ]
    },
    {
     "name": "stdout",
     "output_type": "stream",
     "text": [
      "201108261800.CHRTOUT_GRID1    201108300800.CHRTOUT_GRID1\n"
     ]
    },
    {
     "name": "stdout",
     "output_type": "stream",
     "text": [
      "201108261800.GWOUT_DOMAIN1    201108300800.GWOUT_DOMAIN1\n"
     ]
    },
    {
     "name": "stdout",
     "output_type": "stream",
     "text": [
      "201108261800.LAKEOUT_DOMAIN1  201108300800.LAKEOUT_DOMAIN1\n"
     ]
    },
    {
     "name": "stdout",
     "output_type": "stream",
     "text": [
      "201108261800.LDASOUT_DOMAIN1  201108300800.LDASOUT_DOMAIN1\n"
     ]
    },
    {
     "name": "stdout",
     "output_type": "stream",
     "text": [
      "201108261800.LSMOUT_DOMAIN1   201108300800.LSMOUT_DOMAIN1\n"
     ]
    },
    {
     "name": "stdout",
     "output_type": "stream",
     "text": [
      "201108261800.RTOUT_DOMAIN1    201108300900.CHANOBS_DOMAIN1\n"
     ]
    },
    {
     "name": "stdout",
     "output_type": "stream",
     "text": [
      "201108261900.CHANOBS_DOMAIN1  201108300900.CHRTOUT_DOMAIN1\n"
     ]
    },
    {
     "name": "stdout",
     "output_type": "stream",
     "text": [
      "201108261900.CHRTOUT_DOMAIN1  201108300900.CHRTOUT_GRID1\n"
     ]
    },
    {
     "name": "stdout",
     "output_type": "stream",
     "text": [
      "201108261900.CHRTOUT_GRID1    201108300900.GWOUT_DOMAIN1\n"
     ]
    },
    {
     "name": "stdout",
     "output_type": "stream",
     "text": [
      "201108261900.GWOUT_DOMAIN1    201108300900.LAKEOUT_DOMAIN1\n"
     ]
    },
    {
     "name": "stdout",
     "output_type": "stream",
     "text": [
      "201108261900.LAKEOUT_DOMAIN1  201108300900.LDASOUT_DOMAIN1\n"
     ]
    },
    {
     "name": "stdout",
     "output_type": "stream",
     "text": [
      "201108261900.LDASOUT_DOMAIN1  201108300900.LSMOUT_DOMAIN1\n"
     ]
    },
    {
     "name": "stdout",
     "output_type": "stream",
     "text": [
      "201108261900.LSMOUT_DOMAIN1   201108300900.RTOUT_DOMAIN1\n"
     ]
    },
    {
     "name": "stdout",
     "output_type": "stream",
     "text": [
      "201108262000.CHANOBS_DOMAIN1  201108301000.CHANOBS_DOMAIN1\n"
     ]
    },
    {
     "name": "stdout",
     "output_type": "stream",
     "text": [
      "201108262000.CHRTOUT_DOMAIN1  201108301000.CHRTOUT_DOMAIN1\n"
     ]
    },
    {
     "name": "stdout",
     "output_type": "stream",
     "text": [
      "201108262000.CHRTOUT_GRID1    201108301000.CHRTOUT_GRID1\n"
     ]
    },
    {
     "name": "stdout",
     "output_type": "stream",
     "text": [
      "201108262000.GWOUT_DOMAIN1    201108301000.GWOUT_DOMAIN1\n"
     ]
    },
    {
     "name": "stdout",
     "output_type": "stream",
     "text": [
      "201108262000.LAKEOUT_DOMAIN1  201108301000.LAKEOUT_DOMAIN1\n"
     ]
    },
    {
     "name": "stdout",
     "output_type": "stream",
     "text": [
      "201108262000.LDASOUT_DOMAIN1  201108301000.LDASOUT_DOMAIN1\n"
     ]
    },
    {
     "name": "stdout",
     "output_type": "stream",
     "text": [
      "201108262000.LSMOUT_DOMAIN1   201108301000.LSMOUT_DOMAIN1\n"
     ]
    },
    {
     "name": "stdout",
     "output_type": "stream",
     "text": [
      "201108262100.CHANOBS_DOMAIN1  201108301100.CHANOBS_DOMAIN1\n"
     ]
    },
    {
     "name": "stdout",
     "output_type": "stream",
     "text": [
      "201108262100.CHRTOUT_DOMAIN1  201108301100.CHRTOUT_DOMAIN1\n"
     ]
    },
    {
     "name": "stdout",
     "output_type": "stream",
     "text": [
      "201108262100.CHRTOUT_GRID1    201108301100.CHRTOUT_GRID1\n"
     ]
    },
    {
     "name": "stdout",
     "output_type": "stream",
     "text": [
      "201108262100.GWOUT_DOMAIN1    201108301100.GWOUT_DOMAIN1\n"
     ]
    },
    {
     "name": "stdout",
     "output_type": "stream",
     "text": [
      "201108262100.LAKEOUT_DOMAIN1  201108301100.LAKEOUT_DOMAIN1\n"
     ]
    },
    {
     "name": "stdout",
     "output_type": "stream",
     "text": [
      "201108262100.LDASOUT_DOMAIN1  201108301100.LDASOUT_DOMAIN1\n"
     ]
    },
    {
     "name": "stdout",
     "output_type": "stream",
     "text": [
      "201108262100.LSMOUT_DOMAIN1   201108301100.LSMOUT_DOMAIN1\n"
     ]
    },
    {
     "name": "stdout",
     "output_type": "stream",
     "text": [
      "201108262100.RTOUT_DOMAIN1    201108301200.CHANOBS_DOMAIN1\n"
     ]
    },
    {
     "name": "stdout",
     "output_type": "stream",
     "text": [
      "201108262200.CHANOBS_DOMAIN1  201108301200.CHRTOUT_DOMAIN1\n"
     ]
    },
    {
     "name": "stdout",
     "output_type": "stream",
     "text": [
      "201108262200.CHRTOUT_DOMAIN1  201108301200.CHRTOUT_GRID1\n"
     ]
    },
    {
     "name": "stdout",
     "output_type": "stream",
     "text": [
      "201108262200.CHRTOUT_GRID1    201108301200.GWOUT_DOMAIN1\n"
     ]
    },
    {
     "name": "stdout",
     "output_type": "stream",
     "text": [
      "201108262200.GWOUT_DOMAIN1    201108301200.LAKEOUT_DOMAIN1\n"
     ]
    },
    {
     "name": "stdout",
     "output_type": "stream",
     "text": [
      "201108262200.LAKEOUT_DOMAIN1  201108301200.LDASOUT_DOMAIN1\n"
     ]
    },
    {
     "name": "stdout",
     "output_type": "stream",
     "text": [
      "201108262200.LDASOUT_DOMAIN1  201108301200.LSMOUT_DOMAIN1\n"
     ]
    },
    {
     "name": "stdout",
     "output_type": "stream",
     "text": [
      "201108262200.LSMOUT_DOMAIN1   201108301200.RTOUT_DOMAIN1\n"
     ]
    },
    {
     "name": "stdout",
     "output_type": "stream",
     "text": [
      "201108262300.CHANOBS_DOMAIN1  201108301300.CHANOBS_DOMAIN1\n"
     ]
    },
    {
     "name": "stdout",
     "output_type": "stream",
     "text": [
      "201108262300.CHRTOUT_DOMAIN1  201108301300.CHRTOUT_DOMAIN1\n"
     ]
    },
    {
     "name": "stdout",
     "output_type": "stream",
     "text": [
      "201108262300.CHRTOUT_GRID1    201108301300.CHRTOUT_GRID1\n"
     ]
    },
    {
     "name": "stdout",
     "output_type": "stream",
     "text": [
      "201108262300.GWOUT_DOMAIN1    201108301300.GWOUT_DOMAIN1\n"
     ]
    },
    {
     "name": "stdout",
     "output_type": "stream",
     "text": [
      "201108262300.LAKEOUT_DOMAIN1  201108301300.LAKEOUT_DOMAIN1\n"
     ]
    },
    {
     "name": "stdout",
     "output_type": "stream",
     "text": [
      "201108262300.LDASOUT_DOMAIN1  201108301300.LDASOUT_DOMAIN1\n"
     ]
    },
    {
     "name": "stdout",
     "output_type": "stream",
     "text": [
      "201108262300.LSMOUT_DOMAIN1   201108301300.LSMOUT_DOMAIN1\n"
     ]
    },
    {
     "name": "stdout",
     "output_type": "stream",
     "text": [
      "201108270000.CHANOBS_DOMAIN1  201108301400.CHANOBS_DOMAIN1\n"
     ]
    },
    {
     "name": "stdout",
     "output_type": "stream",
     "text": [
      "201108270000.CHRTOUT_DOMAIN1  201108301400.CHRTOUT_DOMAIN1\n"
     ]
    },
    {
     "name": "stdout",
     "output_type": "stream",
     "text": [
      "201108270000.CHRTOUT_GRID1    201108301400.CHRTOUT_GRID1\n"
     ]
    },
    {
     "name": "stdout",
     "output_type": "stream",
     "text": [
      "201108270000.GWOUT_DOMAIN1    201108301400.GWOUT_DOMAIN1\n"
     ]
    },
    {
     "name": "stdout",
     "output_type": "stream",
     "text": [
      "201108270000.LAKEOUT_DOMAIN1  201108301400.LAKEOUT_DOMAIN1\n"
     ]
    },
    {
     "name": "stdout",
     "output_type": "stream",
     "text": [
      "201108270000.LDASOUT_DOMAIN1  201108301400.LDASOUT_DOMAIN1\n"
     ]
    },
    {
     "name": "stdout",
     "output_type": "stream",
     "text": [
      "201108270000.LSMOUT_DOMAIN1   201108301400.LSMOUT_DOMAIN1\n"
     ]
    },
    {
     "name": "stdout",
     "output_type": "stream",
     "text": [
      "201108270000.RTOUT_DOMAIN1    201108301500.CHANOBS_DOMAIN1\n"
     ]
    },
    {
     "name": "stdout",
     "output_type": "stream",
     "text": [
      "201108270100.CHANOBS_DOMAIN1  201108301500.CHRTOUT_DOMAIN1\n"
     ]
    },
    {
     "name": "stdout",
     "output_type": "stream",
     "text": [
      "201108270100.CHRTOUT_DOMAIN1  201108301500.CHRTOUT_GRID1\n"
     ]
    },
    {
     "name": "stdout",
     "output_type": "stream",
     "text": [
      "201108270100.CHRTOUT_GRID1    201108301500.GWOUT_DOMAIN1\n"
     ]
    },
    {
     "name": "stdout",
     "output_type": "stream",
     "text": [
      "201108270100.GWOUT_DOMAIN1    201108301500.LAKEOUT_DOMAIN1\n"
     ]
    },
    {
     "name": "stdout",
     "output_type": "stream",
     "text": [
      "201108270100.LAKEOUT_DOMAIN1  201108301500.LDASOUT_DOMAIN1\n"
     ]
    },
    {
     "name": "stdout",
     "output_type": "stream",
     "text": [
      "201108270100.LDASOUT_DOMAIN1  201108301500.LSMOUT_DOMAIN1\n"
     ]
    },
    {
     "name": "stdout",
     "output_type": "stream",
     "text": [
      "201108270100.LSMOUT_DOMAIN1   201108301500.RTOUT_DOMAIN1\n"
     ]
    },
    {
     "name": "stdout",
     "output_type": "stream",
     "text": [
      "201108270200.CHANOBS_DOMAIN1  201108301600.CHANOBS_DOMAIN1\n"
     ]
    },
    {
     "name": "stdout",
     "output_type": "stream",
     "text": [
      "201108270200.CHRTOUT_DOMAIN1  201108301600.CHRTOUT_DOMAIN1\n"
     ]
    },
    {
     "name": "stdout",
     "output_type": "stream",
     "text": [
      "201108270200.CHRTOUT_GRID1    201108301600.CHRTOUT_GRID1\n"
     ]
    },
    {
     "name": "stdout",
     "output_type": "stream",
     "text": [
      "201108270200.GWOUT_DOMAIN1    201108301600.GWOUT_DOMAIN1\n"
     ]
    },
    {
     "name": "stdout",
     "output_type": "stream",
     "text": [
      "201108270200.LAKEOUT_DOMAIN1  201108301600.LAKEOUT_DOMAIN1\n"
     ]
    },
    {
     "name": "stdout",
     "output_type": "stream",
     "text": [
      "201108270200.LDASOUT_DOMAIN1  201108301600.LDASOUT_DOMAIN1\n"
     ]
    },
    {
     "name": "stdout",
     "output_type": "stream",
     "text": [
      "201108270200.LSMOUT_DOMAIN1   201108301600.LSMOUT_DOMAIN1\n"
     ]
    },
    {
     "name": "stdout",
     "output_type": "stream",
     "text": [
      "201108270300.CHANOBS_DOMAIN1  201108301700.CHANOBS_DOMAIN1\n"
     ]
    },
    {
     "name": "stdout",
     "output_type": "stream",
     "text": [
      "201108270300.CHRTOUT_DOMAIN1  201108301700.CHRTOUT_DOMAIN1\n"
     ]
    },
    {
     "name": "stdout",
     "output_type": "stream",
     "text": [
      "201108270300.CHRTOUT_GRID1    201108301700.CHRTOUT_GRID1\n"
     ]
    },
    {
     "name": "stdout",
     "output_type": "stream",
     "text": [
      "201108270300.GWOUT_DOMAIN1    201108301700.GWOUT_DOMAIN1\n"
     ]
    },
    {
     "name": "stdout",
     "output_type": "stream",
     "text": [
      "201108270300.LAKEOUT_DOMAIN1  201108301700.LAKEOUT_DOMAIN1\n"
     ]
    },
    {
     "name": "stdout",
     "output_type": "stream",
     "text": [
      "201108270300.LDASOUT_DOMAIN1  201108301700.LDASOUT_DOMAIN1\n"
     ]
    },
    {
     "name": "stdout",
     "output_type": "stream",
     "text": [
      "201108270300.LSMOUT_DOMAIN1   201108301700.LSMOUT_DOMAIN1\n"
     ]
    },
    {
     "name": "stdout",
     "output_type": "stream",
     "text": [
      "201108270300.RTOUT_DOMAIN1    201108301800.CHANOBS_DOMAIN1\n"
     ]
    },
    {
     "name": "stdout",
     "output_type": "stream",
     "text": [
      "201108270400.CHANOBS_DOMAIN1  201108301800.CHRTOUT_DOMAIN1\n"
     ]
    },
    {
     "name": "stdout",
     "output_type": "stream",
     "text": [
      "201108270400.CHRTOUT_DOMAIN1  201108301800.CHRTOUT_GRID1\n"
     ]
    },
    {
     "name": "stdout",
     "output_type": "stream",
     "text": [
      "201108270400.CHRTOUT_GRID1    201108301800.GWOUT_DOMAIN1\n"
     ]
    },
    {
     "name": "stdout",
     "output_type": "stream",
     "text": [
      "201108270400.GWOUT_DOMAIN1    201108301800.LAKEOUT_DOMAIN1\n"
     ]
    },
    {
     "name": "stdout",
     "output_type": "stream",
     "text": [
      "201108270400.LAKEOUT_DOMAIN1  201108301800.LDASOUT_DOMAIN1\n"
     ]
    },
    {
     "name": "stdout",
     "output_type": "stream",
     "text": [
      "201108270400.LDASOUT_DOMAIN1  201108301800.LSMOUT_DOMAIN1\n"
     ]
    },
    {
     "name": "stdout",
     "output_type": "stream",
     "text": [
      "201108270400.LSMOUT_DOMAIN1   201108301800.RTOUT_DOMAIN1\n"
     ]
    },
    {
     "name": "stdout",
     "output_type": "stream",
     "text": [
      "201108270500.CHANOBS_DOMAIN1  201108301900.CHANOBS_DOMAIN1\n"
     ]
    },
    {
     "name": "stdout",
     "output_type": "stream",
     "text": [
      "201108270500.CHRTOUT_DOMAIN1  201108301900.CHRTOUT_DOMAIN1\n"
     ]
    },
    {
     "name": "stdout",
     "output_type": "stream",
     "text": [
      "201108270500.CHRTOUT_GRID1    201108301900.CHRTOUT_GRID1\n"
     ]
    },
    {
     "name": "stdout",
     "output_type": "stream",
     "text": [
      "201108270500.GWOUT_DOMAIN1    201108301900.GWOUT_DOMAIN1\n"
     ]
    },
    {
     "name": "stdout",
     "output_type": "stream",
     "text": [
      "201108270500.LAKEOUT_DOMAIN1  201108301900.LAKEOUT_DOMAIN1\n"
     ]
    },
    {
     "name": "stdout",
     "output_type": "stream",
     "text": [
      "201108270500.LDASOUT_DOMAIN1  201108301900.LDASOUT_DOMAIN1\n"
     ]
    },
    {
     "name": "stdout",
     "output_type": "stream",
     "text": [
      "201108270500.LSMOUT_DOMAIN1   201108301900.LSMOUT_DOMAIN1\n"
     ]
    },
    {
     "name": "stdout",
     "output_type": "stream",
     "text": [
      "201108270600.CHANOBS_DOMAIN1  201108302000.CHANOBS_DOMAIN1\n"
     ]
    },
    {
     "name": "stdout",
     "output_type": "stream",
     "text": [
      "201108270600.CHRTOUT_DOMAIN1  201108302000.CHRTOUT_DOMAIN1\n"
     ]
    },
    {
     "name": "stdout",
     "output_type": "stream",
     "text": [
      "201108270600.CHRTOUT_GRID1    201108302000.CHRTOUT_GRID1\n"
     ]
    },
    {
     "name": "stdout",
     "output_type": "stream",
     "text": [
      "201108270600.GWOUT_DOMAIN1    201108302000.GWOUT_DOMAIN1\n"
     ]
    },
    {
     "name": "stdout",
     "output_type": "stream",
     "text": [
      "201108270600.LAKEOUT_DOMAIN1  201108302000.LAKEOUT_DOMAIN1\n"
     ]
    },
    {
     "name": "stdout",
     "output_type": "stream",
     "text": [
      "201108270600.LDASOUT_DOMAIN1  201108302000.LDASOUT_DOMAIN1\n"
     ]
    },
    {
     "name": "stdout",
     "output_type": "stream",
     "text": [
      "201108270600.LSMOUT_DOMAIN1   201108302000.LSMOUT_DOMAIN1\n"
     ]
    },
    {
     "name": "stdout",
     "output_type": "stream",
     "text": [
      "201108270600.RTOUT_DOMAIN1    201108302100.CHANOBS_DOMAIN1\n"
     ]
    },
    {
     "name": "stdout",
     "output_type": "stream",
     "text": [
      "201108270700.CHANOBS_DOMAIN1  201108302100.CHRTOUT_DOMAIN1\n"
     ]
    },
    {
     "name": "stdout",
     "output_type": "stream",
     "text": [
      "201108270700.CHRTOUT_DOMAIN1  201108302100.CHRTOUT_GRID1\n"
     ]
    },
    {
     "name": "stdout",
     "output_type": "stream",
     "text": [
      "201108270700.CHRTOUT_GRID1    201108302100.GWOUT_DOMAIN1\n"
     ]
    },
    {
     "name": "stdout",
     "output_type": "stream",
     "text": [
      "201108270700.GWOUT_DOMAIN1    201108302100.LAKEOUT_DOMAIN1\n"
     ]
    },
    {
     "name": "stdout",
     "output_type": "stream",
     "text": [
      "201108270700.LAKEOUT_DOMAIN1  201108302100.LDASOUT_DOMAIN1\n"
     ]
    },
    {
     "name": "stdout",
     "output_type": "stream",
     "text": [
      "201108270700.LDASOUT_DOMAIN1  201108302100.LSMOUT_DOMAIN1\n"
     ]
    },
    {
     "name": "stdout",
     "output_type": "stream",
     "text": [
      "201108270700.LSMOUT_DOMAIN1   201108302100.RTOUT_DOMAIN1\n"
     ]
    },
    {
     "name": "stdout",
     "output_type": "stream",
     "text": [
      "201108270800.CHANOBS_DOMAIN1  201108302200.CHANOBS_DOMAIN1\n"
     ]
    },
    {
     "name": "stdout",
     "output_type": "stream",
     "text": [
      "201108270800.CHRTOUT_DOMAIN1  201108302200.CHRTOUT_DOMAIN1\n"
     ]
    },
    {
     "name": "stdout",
     "output_type": "stream",
     "text": [
      "201108270800.CHRTOUT_GRID1    201108302200.CHRTOUT_GRID1\n"
     ]
    },
    {
     "name": "stdout",
     "output_type": "stream",
     "text": [
      "201108270800.GWOUT_DOMAIN1    201108302200.GWOUT_DOMAIN1\n"
     ]
    },
    {
     "name": "stdout",
     "output_type": "stream",
     "text": [
      "201108270800.LAKEOUT_DOMAIN1  201108302200.LAKEOUT_DOMAIN1\n"
     ]
    },
    {
     "name": "stdout",
     "output_type": "stream",
     "text": [
      "201108270800.LDASOUT_DOMAIN1  201108302200.LDASOUT_DOMAIN1\n"
     ]
    },
    {
     "name": "stdout",
     "output_type": "stream",
     "text": [
      "201108270800.LSMOUT_DOMAIN1   201108302200.LSMOUT_DOMAIN1\n"
     ]
    },
    {
     "name": "stdout",
     "output_type": "stream",
     "text": [
      "201108270900.CHANOBS_DOMAIN1  201108302300.CHANOBS_DOMAIN1\n"
     ]
    },
    {
     "name": "stdout",
     "output_type": "stream",
     "text": [
      "201108270900.CHRTOUT_DOMAIN1  201108302300.CHRTOUT_DOMAIN1\n"
     ]
    },
    {
     "name": "stdout",
     "output_type": "stream",
     "text": [
      "201108270900.CHRTOUT_GRID1    201108302300.CHRTOUT_GRID1\n"
     ]
    },
    {
     "name": "stdout",
     "output_type": "stream",
     "text": [
      "201108270900.GWOUT_DOMAIN1    201108302300.GWOUT_DOMAIN1\n"
     ]
    },
    {
     "name": "stdout",
     "output_type": "stream",
     "text": [
      "201108270900.LAKEOUT_DOMAIN1  201108302300.LAKEOUT_DOMAIN1\n"
     ]
    },
    {
     "name": "stdout",
     "output_type": "stream",
     "text": [
      "201108270900.LDASOUT_DOMAIN1  201108302300.LDASOUT_DOMAIN1\n"
     ]
    },
    {
     "name": "stdout",
     "output_type": "stream",
     "text": [
      "201108270900.LSMOUT_DOMAIN1   201108302300.LSMOUT_DOMAIN1\n"
     ]
    },
    {
     "name": "stdout",
     "output_type": "stream",
     "text": [
      "201108270900.RTOUT_DOMAIN1    201108310000.CHANOBS_DOMAIN1\n"
     ]
    },
    {
     "name": "stdout",
     "output_type": "stream",
     "text": [
      "201108271000.CHANOBS_DOMAIN1  201108310000.CHRTOUT_DOMAIN1\n"
     ]
    },
    {
     "name": "stdout",
     "output_type": "stream",
     "text": [
      "201108271000.CHRTOUT_DOMAIN1  201108310000.CHRTOUT_GRID1\n"
     ]
    },
    {
     "name": "stdout",
     "output_type": "stream",
     "text": [
      "201108271000.CHRTOUT_GRID1    201108310000.GWOUT_DOMAIN1\n"
     ]
    },
    {
     "name": "stdout",
     "output_type": "stream",
     "text": [
      "201108271000.GWOUT_DOMAIN1    201108310000.LAKEOUT_DOMAIN1\n"
     ]
    },
    {
     "name": "stdout",
     "output_type": "stream",
     "text": [
      "201108271000.LAKEOUT_DOMAIN1  201108310000.LDASOUT_DOMAIN1\n"
     ]
    },
    {
     "name": "stdout",
     "output_type": "stream",
     "text": [
      "201108271000.LDASOUT_DOMAIN1  201108310000.LSMOUT_DOMAIN1\n"
     ]
    },
    {
     "name": "stdout",
     "output_type": "stream",
     "text": [
      "201108271000.LSMOUT_DOMAIN1   201108310000.RTOUT_DOMAIN1\n"
     ]
    },
    {
     "name": "stdout",
     "output_type": "stream",
     "text": [
      "201108271100.CHANOBS_DOMAIN1  201108310100.CHANOBS_DOMAIN1\n"
     ]
    },
    {
     "name": "stdout",
     "output_type": "stream",
     "text": [
      "201108271100.CHRTOUT_DOMAIN1  201108310100.CHRTOUT_DOMAIN1\n"
     ]
    },
    {
     "name": "stdout",
     "output_type": "stream",
     "text": [
      "201108271100.CHRTOUT_GRID1    201108310100.CHRTOUT_GRID1\n"
     ]
    },
    {
     "name": "stdout",
     "output_type": "stream",
     "text": [
      "201108271100.GWOUT_DOMAIN1    201108310100.GWOUT_DOMAIN1\n"
     ]
    },
    {
     "name": "stdout",
     "output_type": "stream",
     "text": [
      "201108271100.LAKEOUT_DOMAIN1  201108310100.LAKEOUT_DOMAIN1\n"
     ]
    },
    {
     "name": "stdout",
     "output_type": "stream",
     "text": [
      "201108271100.LDASOUT_DOMAIN1  201108310100.LDASOUT_DOMAIN1\n"
     ]
    },
    {
     "name": "stdout",
     "output_type": "stream",
     "text": [
      "201108271100.LSMOUT_DOMAIN1   201108310100.LSMOUT_DOMAIN1\n"
     ]
    },
    {
     "name": "stdout",
     "output_type": "stream",
     "text": [
      "201108271200.CHANOBS_DOMAIN1  201108310200.CHANOBS_DOMAIN1\n"
     ]
    },
    {
     "name": "stdout",
     "output_type": "stream",
     "text": [
      "201108271200.CHRTOUT_DOMAIN1  201108310200.CHRTOUT_DOMAIN1\n"
     ]
    },
    {
     "name": "stdout",
     "output_type": "stream",
     "text": [
      "201108271200.CHRTOUT_GRID1    201108310200.CHRTOUT_GRID1\n"
     ]
    },
    {
     "name": "stdout",
     "output_type": "stream",
     "text": [
      "201108271200.GWOUT_DOMAIN1    201108310200.GWOUT_DOMAIN1\n"
     ]
    },
    {
     "name": "stdout",
     "output_type": "stream",
     "text": [
      "201108271200.LAKEOUT_DOMAIN1  201108310200.LAKEOUT_DOMAIN1\n"
     ]
    },
    {
     "name": "stdout",
     "output_type": "stream",
     "text": [
      "201108271200.LDASOUT_DOMAIN1  201108310200.LDASOUT_DOMAIN1\n"
     ]
    },
    {
     "name": "stdout",
     "output_type": "stream",
     "text": [
      "201108271200.LSMOUT_DOMAIN1   201108310200.LSMOUT_DOMAIN1\n"
     ]
    },
    {
     "name": "stdout",
     "output_type": "stream",
     "text": [
      "201108271200.RTOUT_DOMAIN1    201108310300.CHANOBS_DOMAIN1\n"
     ]
    },
    {
     "name": "stdout",
     "output_type": "stream",
     "text": [
      "201108271300.CHANOBS_DOMAIN1  201108310300.CHRTOUT_DOMAIN1\n"
     ]
    },
    {
     "name": "stdout",
     "output_type": "stream",
     "text": [
      "201108271300.CHRTOUT_DOMAIN1  201108310300.CHRTOUT_GRID1\n"
     ]
    },
    {
     "name": "stdout",
     "output_type": "stream",
     "text": [
      "201108271300.CHRTOUT_GRID1    201108310300.GWOUT_DOMAIN1\n"
     ]
    },
    {
     "name": "stdout",
     "output_type": "stream",
     "text": [
      "201108271300.GWOUT_DOMAIN1    201108310300.LAKEOUT_DOMAIN1\n"
     ]
    },
    {
     "name": "stdout",
     "output_type": "stream",
     "text": [
      "201108271300.LAKEOUT_DOMAIN1  201108310300.LDASOUT_DOMAIN1\n"
     ]
    },
    {
     "name": "stdout",
     "output_type": "stream",
     "text": [
      "201108271300.LDASOUT_DOMAIN1  201108310300.LSMOUT_DOMAIN1\n"
     ]
    },
    {
     "name": "stdout",
     "output_type": "stream",
     "text": [
      "201108271300.LSMOUT_DOMAIN1   201108310300.RTOUT_DOMAIN1\n"
     ]
    },
    {
     "name": "stdout",
     "output_type": "stream",
     "text": [
      "201108271400.CHANOBS_DOMAIN1  201108310400.CHANOBS_DOMAIN1\n"
     ]
    },
    {
     "name": "stdout",
     "output_type": "stream",
     "text": [
      "201108271400.CHRTOUT_DOMAIN1  201108310400.CHRTOUT_DOMAIN1\n"
     ]
    },
    {
     "name": "stdout",
     "output_type": "stream",
     "text": [
      "201108271400.CHRTOUT_GRID1    201108310400.CHRTOUT_GRID1\n"
     ]
    },
    {
     "name": "stdout",
     "output_type": "stream",
     "text": [
      "201108271400.GWOUT_DOMAIN1    201108310400.GWOUT_DOMAIN1\n"
     ]
    },
    {
     "name": "stdout",
     "output_type": "stream",
     "text": [
      "201108271400.LAKEOUT_DOMAIN1  201108310400.LAKEOUT_DOMAIN1\n"
     ]
    },
    {
     "name": "stdout",
     "output_type": "stream",
     "text": [
      "201108271400.LDASOUT_DOMAIN1  201108310400.LDASOUT_DOMAIN1\n"
     ]
    },
    {
     "name": "stdout",
     "output_type": "stream",
     "text": [
      "201108271400.LSMOUT_DOMAIN1   201108310400.LSMOUT_DOMAIN1\n"
     ]
    },
    {
     "name": "stdout",
     "output_type": "stream",
     "text": [
      "201108271500.CHANOBS_DOMAIN1  201108310500.CHANOBS_DOMAIN1\n"
     ]
    },
    {
     "name": "stdout",
     "output_type": "stream",
     "text": [
      "201108271500.CHRTOUT_DOMAIN1  201108310500.CHRTOUT_DOMAIN1\n"
     ]
    },
    {
     "name": "stdout",
     "output_type": "stream",
     "text": [
      "201108271500.CHRTOUT_GRID1    201108310500.CHRTOUT_GRID1\n"
     ]
    },
    {
     "name": "stdout",
     "output_type": "stream",
     "text": [
      "201108271500.GWOUT_DOMAIN1    201108310500.GWOUT_DOMAIN1\n"
     ]
    },
    {
     "name": "stdout",
     "output_type": "stream",
     "text": [
      "201108271500.LAKEOUT_DOMAIN1  201108310500.LAKEOUT_DOMAIN1\n"
     ]
    },
    {
     "name": "stdout",
     "output_type": "stream",
     "text": [
      "201108271500.LDASOUT_DOMAIN1  201108310500.LDASOUT_DOMAIN1\n"
     ]
    },
    {
     "name": "stdout",
     "output_type": "stream",
     "text": [
      "201108271500.LSMOUT_DOMAIN1   201108310500.LSMOUT_DOMAIN1\n"
     ]
    },
    {
     "name": "stdout",
     "output_type": "stream",
     "text": [
      "201108271500.RTOUT_DOMAIN1    201108310600.CHANOBS_DOMAIN1\n"
     ]
    },
    {
     "name": "stdout",
     "output_type": "stream",
     "text": [
      "201108271600.CHANOBS_DOMAIN1  201108310600.CHRTOUT_DOMAIN1\n"
     ]
    },
    {
     "name": "stdout",
     "output_type": "stream",
     "text": [
      "201108271600.CHRTOUT_DOMAIN1  201108310600.CHRTOUT_GRID1\n"
     ]
    },
    {
     "name": "stdout",
     "output_type": "stream",
     "text": [
      "201108271600.CHRTOUT_GRID1    201108310600.GWOUT_DOMAIN1\n"
     ]
    },
    {
     "name": "stdout",
     "output_type": "stream",
     "text": [
      "201108271600.GWOUT_DOMAIN1    201108310600.LAKEOUT_DOMAIN1\n"
     ]
    },
    {
     "name": "stdout",
     "output_type": "stream",
     "text": [
      "201108271600.LAKEOUT_DOMAIN1  201108310600.LDASOUT_DOMAIN1\n"
     ]
    },
    {
     "name": "stdout",
     "output_type": "stream",
     "text": [
      "201108271600.LDASOUT_DOMAIN1  201108310600.LSMOUT_DOMAIN1\n"
     ]
    },
    {
     "name": "stdout",
     "output_type": "stream",
     "text": [
      "201108271600.LSMOUT_DOMAIN1   201108310600.RTOUT_DOMAIN1\n"
     ]
    },
    {
     "name": "stdout",
     "output_type": "stream",
     "text": [
      "201108271700.CHANOBS_DOMAIN1  201108310700.CHANOBS_DOMAIN1\n"
     ]
    },
    {
     "name": "stdout",
     "output_type": "stream",
     "text": [
      "201108271700.CHRTOUT_DOMAIN1  201108310700.CHRTOUT_DOMAIN1\n"
     ]
    },
    {
     "name": "stdout",
     "output_type": "stream",
     "text": [
      "201108271700.CHRTOUT_GRID1    201108310700.CHRTOUT_GRID1\n"
     ]
    },
    {
     "name": "stdout",
     "output_type": "stream",
     "text": [
      "201108271700.GWOUT_DOMAIN1    201108310700.GWOUT_DOMAIN1\n"
     ]
    },
    {
     "name": "stdout",
     "output_type": "stream",
     "text": [
      "201108271700.LAKEOUT_DOMAIN1  201108310700.LAKEOUT_DOMAIN1\n"
     ]
    },
    {
     "name": "stdout",
     "output_type": "stream",
     "text": [
      "201108271700.LDASOUT_DOMAIN1  201108310700.LDASOUT_DOMAIN1\n"
     ]
    },
    {
     "name": "stdout",
     "output_type": "stream",
     "text": [
      "201108271700.LSMOUT_DOMAIN1   201108310700.LSMOUT_DOMAIN1\n"
     ]
    },
    {
     "name": "stdout",
     "output_type": "stream",
     "text": [
      "201108271800.CHANOBS_DOMAIN1  201108310800.CHANOBS_DOMAIN1\n"
     ]
    },
    {
     "name": "stdout",
     "output_type": "stream",
     "text": [
      "201108271800.CHRTOUT_DOMAIN1  201108310800.CHRTOUT_DOMAIN1\n"
     ]
    },
    {
     "name": "stdout",
     "output_type": "stream",
     "text": [
      "201108271800.CHRTOUT_GRID1    201108310800.CHRTOUT_GRID1\n"
     ]
    },
    {
     "name": "stdout",
     "output_type": "stream",
     "text": [
      "201108271800.GWOUT_DOMAIN1    201108310800.GWOUT_DOMAIN1\n"
     ]
    },
    {
     "name": "stdout",
     "output_type": "stream",
     "text": [
      "201108271800.LAKEOUT_DOMAIN1  201108310800.LAKEOUT_DOMAIN1\n"
     ]
    },
    {
     "name": "stdout",
     "output_type": "stream",
     "text": [
      "201108271800.LDASOUT_DOMAIN1  201108310800.LDASOUT_DOMAIN1\n"
     ]
    },
    {
     "name": "stdout",
     "output_type": "stream",
     "text": [
      "201108271800.LSMOUT_DOMAIN1   201108310800.LSMOUT_DOMAIN1\n"
     ]
    },
    {
     "name": "stdout",
     "output_type": "stream",
     "text": [
      "201108271800.RTOUT_DOMAIN1    201108310900.CHANOBS_DOMAIN1\n"
     ]
    },
    {
     "name": "stdout",
     "output_type": "stream",
     "text": [
      "201108271900.CHANOBS_DOMAIN1  201108310900.CHRTOUT_DOMAIN1\n"
     ]
    },
    {
     "name": "stdout",
     "output_type": "stream",
     "text": [
      "201108271900.CHRTOUT_DOMAIN1  201108310900.CHRTOUT_GRID1\n"
     ]
    },
    {
     "name": "stdout",
     "output_type": "stream",
     "text": [
      "201108271900.CHRTOUT_GRID1    201108310900.GWOUT_DOMAIN1\n"
     ]
    },
    {
     "name": "stdout",
     "output_type": "stream",
     "text": [
      "201108271900.GWOUT_DOMAIN1    201108310900.LAKEOUT_DOMAIN1\n"
     ]
    },
    {
     "name": "stdout",
     "output_type": "stream",
     "text": [
      "201108271900.LAKEOUT_DOMAIN1  201108310900.LDASOUT_DOMAIN1\n"
     ]
    },
    {
     "name": "stdout",
     "output_type": "stream",
     "text": [
      "201108271900.LDASOUT_DOMAIN1  201108310900.LSMOUT_DOMAIN1\n"
     ]
    },
    {
     "name": "stdout",
     "output_type": "stream",
     "text": [
      "201108271900.LSMOUT_DOMAIN1   201108310900.RTOUT_DOMAIN1\n"
     ]
    },
    {
     "name": "stdout",
     "output_type": "stream",
     "text": [
      "201108272000.CHANOBS_DOMAIN1  201108311000.CHANOBS_DOMAIN1\n"
     ]
    },
    {
     "name": "stdout",
     "output_type": "stream",
     "text": [
      "201108272000.CHRTOUT_DOMAIN1  201108311000.CHRTOUT_DOMAIN1\n"
     ]
    },
    {
     "name": "stdout",
     "output_type": "stream",
     "text": [
      "201108272000.CHRTOUT_GRID1    201108311000.CHRTOUT_GRID1\n"
     ]
    },
    {
     "name": "stdout",
     "output_type": "stream",
     "text": [
      "201108272000.GWOUT_DOMAIN1    201108311000.GWOUT_DOMAIN1\n"
     ]
    },
    {
     "name": "stdout",
     "output_type": "stream",
     "text": [
      "201108272000.LAKEOUT_DOMAIN1  201108311000.LAKEOUT_DOMAIN1\n"
     ]
    },
    {
     "name": "stdout",
     "output_type": "stream",
     "text": [
      "201108272000.LDASOUT_DOMAIN1  201108311000.LDASOUT_DOMAIN1\n"
     ]
    },
    {
     "name": "stdout",
     "output_type": "stream",
     "text": [
      "201108272000.LSMOUT_DOMAIN1   201108311000.LSMOUT_DOMAIN1\n"
     ]
    },
    {
     "name": "stdout",
     "output_type": "stream",
     "text": [
      "201108272100.CHANOBS_DOMAIN1  201108311100.CHANOBS_DOMAIN1\n"
     ]
    },
    {
     "name": "stdout",
     "output_type": "stream",
     "text": [
      "201108272100.CHRTOUT_DOMAIN1  201108311100.CHRTOUT_DOMAIN1\n"
     ]
    },
    {
     "name": "stdout",
     "output_type": "stream",
     "text": [
      "201108272100.CHRTOUT_GRID1    201108311100.CHRTOUT_GRID1\n"
     ]
    },
    {
     "name": "stdout",
     "output_type": "stream",
     "text": [
      "201108272100.GWOUT_DOMAIN1    201108311100.GWOUT_DOMAIN1\n"
     ]
    },
    {
     "name": "stdout",
     "output_type": "stream",
     "text": [
      "201108272100.LAKEOUT_DOMAIN1  201108311100.LAKEOUT_DOMAIN1\n"
     ]
    },
    {
     "name": "stdout",
     "output_type": "stream",
     "text": [
      "201108272100.LDASOUT_DOMAIN1  201108311100.LDASOUT_DOMAIN1\n"
     ]
    },
    {
     "name": "stdout",
     "output_type": "stream",
     "text": [
      "201108272100.LSMOUT_DOMAIN1   201108311100.LSMOUT_DOMAIN1\n"
     ]
    },
    {
     "name": "stdout",
     "output_type": "stream",
     "text": [
      "201108272100.RTOUT_DOMAIN1    201108311200.CHANOBS_DOMAIN1\n"
     ]
    },
    {
     "name": "stdout",
     "output_type": "stream",
     "text": [
      "201108272200.CHANOBS_DOMAIN1  201108311200.CHRTOUT_DOMAIN1\n"
     ]
    },
    {
     "name": "stdout",
     "output_type": "stream",
     "text": [
      "201108272200.CHRTOUT_DOMAIN1  201108311200.CHRTOUT_GRID1\n"
     ]
    },
    {
     "name": "stdout",
     "output_type": "stream",
     "text": [
      "201108272200.CHRTOUT_GRID1    201108311200.GWOUT_DOMAIN1\n"
     ]
    },
    {
     "name": "stdout",
     "output_type": "stream",
     "text": [
      "201108272200.GWOUT_DOMAIN1    201108311200.LAKEOUT_DOMAIN1\n"
     ]
    },
    {
     "name": "stdout",
     "output_type": "stream",
     "text": [
      "201108272200.LAKEOUT_DOMAIN1  201108311200.LDASOUT_DOMAIN1\n"
     ]
    },
    {
     "name": "stdout",
     "output_type": "stream",
     "text": [
      "201108272200.LDASOUT_DOMAIN1  201108311200.LSMOUT_DOMAIN1\n"
     ]
    },
    {
     "name": "stdout",
     "output_type": "stream",
     "text": [
      "201108272200.LSMOUT_DOMAIN1   201108311200.RTOUT_DOMAIN1\n"
     ]
    },
    {
     "name": "stdout",
     "output_type": "stream",
     "text": [
      "201108272300.CHANOBS_DOMAIN1  201108311300.CHANOBS_DOMAIN1\n"
     ]
    },
    {
     "name": "stdout",
     "output_type": "stream",
     "text": [
      "201108272300.CHRTOUT_DOMAIN1  201108311300.CHRTOUT_DOMAIN1\n"
     ]
    },
    {
     "name": "stdout",
     "output_type": "stream",
     "text": [
      "201108272300.CHRTOUT_GRID1    201108311300.CHRTOUT_GRID1\n"
     ]
    },
    {
     "name": "stdout",
     "output_type": "stream",
     "text": [
      "201108272300.GWOUT_DOMAIN1    201108311300.GWOUT_DOMAIN1\n"
     ]
    },
    {
     "name": "stdout",
     "output_type": "stream",
     "text": [
      "201108272300.LAKEOUT_DOMAIN1  201108311300.LAKEOUT_DOMAIN1\n"
     ]
    },
    {
     "name": "stdout",
     "output_type": "stream",
     "text": [
      "201108272300.LDASOUT_DOMAIN1  201108311300.LDASOUT_DOMAIN1\n"
     ]
    },
    {
     "name": "stdout",
     "output_type": "stream",
     "text": [
      "201108272300.LSMOUT_DOMAIN1   201108311300.LSMOUT_DOMAIN1\n"
     ]
    },
    {
     "name": "stdout",
     "output_type": "stream",
     "text": [
      "201108280000.CHANOBS_DOMAIN1  201108311400.CHANOBS_DOMAIN1\n"
     ]
    },
    {
     "name": "stdout",
     "output_type": "stream",
     "text": [
      "201108280000.CHRTOUT_DOMAIN1  201108311400.CHRTOUT_DOMAIN1\n"
     ]
    },
    {
     "name": "stdout",
     "output_type": "stream",
     "text": [
      "201108280000.CHRTOUT_GRID1    201108311400.CHRTOUT_GRID1\n"
     ]
    },
    {
     "name": "stdout",
     "output_type": "stream",
     "text": [
      "201108280000.GWOUT_DOMAIN1    201108311400.GWOUT_DOMAIN1\n"
     ]
    },
    {
     "name": "stdout",
     "output_type": "stream",
     "text": [
      "201108280000.LAKEOUT_DOMAIN1  201108311400.LAKEOUT_DOMAIN1\n"
     ]
    },
    {
     "name": "stdout",
     "output_type": "stream",
     "text": [
      "201108280000.LDASOUT_DOMAIN1  201108311400.LDASOUT_DOMAIN1\n"
     ]
    },
    {
     "name": "stdout",
     "output_type": "stream",
     "text": [
      "201108280000.LSMOUT_DOMAIN1   201108311400.LSMOUT_DOMAIN1\n"
     ]
    },
    {
     "name": "stdout",
     "output_type": "stream",
     "text": [
      "201108280000.RTOUT_DOMAIN1    201108311500.CHANOBS_DOMAIN1\n"
     ]
    },
    {
     "name": "stdout",
     "output_type": "stream",
     "text": [
      "201108280100.CHANOBS_DOMAIN1  201108311500.CHRTOUT_DOMAIN1\n"
     ]
    },
    {
     "name": "stdout",
     "output_type": "stream",
     "text": [
      "201108280100.CHRTOUT_DOMAIN1  201108311500.CHRTOUT_GRID1\n"
     ]
    },
    {
     "name": "stdout",
     "output_type": "stream",
     "text": [
      "201108280100.CHRTOUT_GRID1    201108311500.GWOUT_DOMAIN1\n"
     ]
    },
    {
     "name": "stdout",
     "output_type": "stream",
     "text": [
      "201108280100.GWOUT_DOMAIN1    201108311500.LAKEOUT_DOMAIN1\n"
     ]
    },
    {
     "name": "stdout",
     "output_type": "stream",
     "text": [
      "201108280100.LAKEOUT_DOMAIN1  201108311500.LDASOUT_DOMAIN1\n"
     ]
    },
    {
     "name": "stdout",
     "output_type": "stream",
     "text": [
      "201108280100.LDASOUT_DOMAIN1  201108311500.LSMOUT_DOMAIN1\n"
     ]
    },
    {
     "name": "stdout",
     "output_type": "stream",
     "text": [
      "201108280100.LSMOUT_DOMAIN1   201108311500.RTOUT_DOMAIN1\n"
     ]
    },
    {
     "name": "stdout",
     "output_type": "stream",
     "text": [
      "201108280200.CHANOBS_DOMAIN1  201108311600.CHANOBS_DOMAIN1\n"
     ]
    },
    {
     "name": "stdout",
     "output_type": "stream",
     "text": [
      "201108280200.CHRTOUT_DOMAIN1  201108311600.CHRTOUT_DOMAIN1\n"
     ]
    },
    {
     "name": "stdout",
     "output_type": "stream",
     "text": [
      "201108280200.CHRTOUT_GRID1    201108311600.CHRTOUT_GRID1\n"
     ]
    },
    {
     "name": "stdout",
     "output_type": "stream",
     "text": [
      "201108280200.GWOUT_DOMAIN1    201108311600.GWOUT_DOMAIN1\n"
     ]
    },
    {
     "name": "stdout",
     "output_type": "stream",
     "text": [
      "201108280200.LAKEOUT_DOMAIN1  201108311600.LAKEOUT_DOMAIN1\n"
     ]
    },
    {
     "name": "stdout",
     "output_type": "stream",
     "text": [
      "201108280200.LDASOUT_DOMAIN1  201108311600.LDASOUT_DOMAIN1\n"
     ]
    },
    {
     "name": "stdout",
     "output_type": "stream",
     "text": [
      "201108280200.LSMOUT_DOMAIN1   201108311600.LSMOUT_DOMAIN1\n"
     ]
    },
    {
     "name": "stdout",
     "output_type": "stream",
     "text": [
      "201108280300.CHANOBS_DOMAIN1  201108311700.CHANOBS_DOMAIN1\n"
     ]
    },
    {
     "name": "stdout",
     "output_type": "stream",
     "text": [
      "201108280300.CHRTOUT_DOMAIN1  201108311700.CHRTOUT_DOMAIN1\n"
     ]
    },
    {
     "name": "stdout",
     "output_type": "stream",
     "text": [
      "201108280300.CHRTOUT_GRID1    201108311700.CHRTOUT_GRID1\n"
     ]
    },
    {
     "name": "stdout",
     "output_type": "stream",
     "text": [
      "201108280300.GWOUT_DOMAIN1    201108311700.GWOUT_DOMAIN1\n"
     ]
    },
    {
     "name": "stdout",
     "output_type": "stream",
     "text": [
      "201108280300.LAKEOUT_DOMAIN1  201108311700.LAKEOUT_DOMAIN1\n"
     ]
    },
    {
     "name": "stdout",
     "output_type": "stream",
     "text": [
      "201108280300.LDASOUT_DOMAIN1  201108311700.LDASOUT_DOMAIN1\n"
     ]
    },
    {
     "name": "stdout",
     "output_type": "stream",
     "text": [
      "201108280300.LSMOUT_DOMAIN1   201108311700.LSMOUT_DOMAIN1\n"
     ]
    },
    {
     "name": "stdout",
     "output_type": "stream",
     "text": [
      "201108280300.RTOUT_DOMAIN1    201108311800.CHANOBS_DOMAIN1\n"
     ]
    },
    {
     "name": "stdout",
     "output_type": "stream",
     "text": [
      "201108280400.CHANOBS_DOMAIN1  201108311800.CHRTOUT_DOMAIN1\n"
     ]
    },
    {
     "name": "stdout",
     "output_type": "stream",
     "text": [
      "201108280400.CHRTOUT_DOMAIN1  201108311800.CHRTOUT_GRID1\n"
     ]
    },
    {
     "name": "stdout",
     "output_type": "stream",
     "text": [
      "201108280400.CHRTOUT_GRID1    201108311800.GWOUT_DOMAIN1\n"
     ]
    },
    {
     "name": "stdout",
     "output_type": "stream",
     "text": [
      "201108280400.GWOUT_DOMAIN1    201108311800.LAKEOUT_DOMAIN1\n"
     ]
    },
    {
     "name": "stdout",
     "output_type": "stream",
     "text": [
      "201108280400.LAKEOUT_DOMAIN1  201108311800.LDASOUT_DOMAIN1\n"
     ]
    },
    {
     "name": "stdout",
     "output_type": "stream",
     "text": [
      "201108280400.LDASOUT_DOMAIN1  201108311800.LSMOUT_DOMAIN1\n"
     ]
    },
    {
     "name": "stdout",
     "output_type": "stream",
     "text": [
      "201108280400.LSMOUT_DOMAIN1   201108311800.RTOUT_DOMAIN1\n"
     ]
    },
    {
     "name": "stdout",
     "output_type": "stream",
     "text": [
      "201108280500.CHANOBS_DOMAIN1  201108311900.CHANOBS_DOMAIN1\n"
     ]
    },
    {
     "name": "stdout",
     "output_type": "stream",
     "text": [
      "201108280500.CHRTOUT_DOMAIN1  201108311900.CHRTOUT_DOMAIN1\n"
     ]
    },
    {
     "name": "stdout",
     "output_type": "stream",
     "text": [
      "201108280500.CHRTOUT_GRID1    201108311900.CHRTOUT_GRID1\n"
     ]
    },
    {
     "name": "stdout",
     "output_type": "stream",
     "text": [
      "201108280500.GWOUT_DOMAIN1    201108311900.GWOUT_DOMAIN1\n"
     ]
    },
    {
     "name": "stdout",
     "output_type": "stream",
     "text": [
      "201108280500.LAKEOUT_DOMAIN1  201108311900.LAKEOUT_DOMAIN1\n"
     ]
    },
    {
     "name": "stdout",
     "output_type": "stream",
     "text": [
      "201108280500.LDASOUT_DOMAIN1  201108311900.LDASOUT_DOMAIN1\n"
     ]
    },
    {
     "name": "stdout",
     "output_type": "stream",
     "text": [
      "201108280500.LSMOUT_DOMAIN1   201108311900.LSMOUT_DOMAIN1\n"
     ]
    },
    {
     "name": "stdout",
     "output_type": "stream",
     "text": [
      "201108280600.CHANOBS_DOMAIN1  201108312000.CHANOBS_DOMAIN1\n"
     ]
    },
    {
     "name": "stdout",
     "output_type": "stream",
     "text": [
      "201108280600.CHRTOUT_DOMAIN1  201108312000.CHRTOUT_DOMAIN1\n"
     ]
    },
    {
     "name": "stdout",
     "output_type": "stream",
     "text": [
      "201108280600.CHRTOUT_GRID1    201108312000.CHRTOUT_GRID1\n"
     ]
    },
    {
     "name": "stdout",
     "output_type": "stream",
     "text": [
      "201108280600.GWOUT_DOMAIN1    201108312000.GWOUT_DOMAIN1\n"
     ]
    },
    {
     "name": "stdout",
     "output_type": "stream",
     "text": [
      "201108280600.LAKEOUT_DOMAIN1  201108312000.LAKEOUT_DOMAIN1\n"
     ]
    },
    {
     "name": "stdout",
     "output_type": "stream",
     "text": [
      "201108280600.LDASOUT_DOMAIN1  201108312000.LDASOUT_DOMAIN1\n"
     ]
    },
    {
     "name": "stdout",
     "output_type": "stream",
     "text": [
      "201108280600.LSMOUT_DOMAIN1   201108312000.LSMOUT_DOMAIN1\n"
     ]
    },
    {
     "name": "stdout",
     "output_type": "stream",
     "text": [
      "201108280600.RTOUT_DOMAIN1    201108312100.CHANOBS_DOMAIN1\n"
     ]
    },
    {
     "name": "stdout",
     "output_type": "stream",
     "text": [
      "201108280700.CHANOBS_DOMAIN1  201108312100.CHRTOUT_DOMAIN1\n"
     ]
    },
    {
     "name": "stdout",
     "output_type": "stream",
     "text": [
      "201108280700.CHRTOUT_DOMAIN1  201108312100.CHRTOUT_GRID1\n"
     ]
    },
    {
     "name": "stdout",
     "output_type": "stream",
     "text": [
      "201108280700.CHRTOUT_GRID1    201108312100.GWOUT_DOMAIN1\n"
     ]
    },
    {
     "name": "stdout",
     "output_type": "stream",
     "text": [
      "201108280700.GWOUT_DOMAIN1    201108312100.LAKEOUT_DOMAIN1\n"
     ]
    },
    {
     "name": "stdout",
     "output_type": "stream",
     "text": [
      "201108280700.LAKEOUT_DOMAIN1  201108312100.LDASOUT_DOMAIN1\n"
     ]
    },
    {
     "name": "stdout",
     "output_type": "stream",
     "text": [
      "201108280700.LDASOUT_DOMAIN1  201108312100.LSMOUT_DOMAIN1\n"
     ]
    },
    {
     "name": "stdout",
     "output_type": "stream",
     "text": [
      "201108280700.LSMOUT_DOMAIN1   201108312100.RTOUT_DOMAIN1\n"
     ]
    },
    {
     "name": "stdout",
     "output_type": "stream",
     "text": [
      "201108280800.CHANOBS_DOMAIN1  201108312200.CHANOBS_DOMAIN1\n"
     ]
    },
    {
     "name": "stdout",
     "output_type": "stream",
     "text": [
      "201108280800.CHRTOUT_DOMAIN1  201108312200.CHRTOUT_DOMAIN1\n"
     ]
    },
    {
     "name": "stdout",
     "output_type": "stream",
     "text": [
      "201108280800.CHRTOUT_GRID1    201108312200.CHRTOUT_GRID1\n"
     ]
    },
    {
     "name": "stdout",
     "output_type": "stream",
     "text": [
      "201108280800.GWOUT_DOMAIN1    201108312200.GWOUT_DOMAIN1\n"
     ]
    },
    {
     "name": "stdout",
     "output_type": "stream",
     "text": [
      "201108280800.LAKEOUT_DOMAIN1  201108312200.LAKEOUT_DOMAIN1\n"
     ]
    },
    {
     "name": "stdout",
     "output_type": "stream",
     "text": [
      "201108280800.LDASOUT_DOMAIN1  201108312200.LDASOUT_DOMAIN1\n"
     ]
    },
    {
     "name": "stdout",
     "output_type": "stream",
     "text": [
      "201108280800.LSMOUT_DOMAIN1   201108312200.LSMOUT_DOMAIN1\n"
     ]
    },
    {
     "name": "stdout",
     "output_type": "stream",
     "text": [
      "201108280900.CHANOBS_DOMAIN1  201108312300.CHANOBS_DOMAIN1\n"
     ]
    },
    {
     "name": "stdout",
     "output_type": "stream",
     "text": [
      "201108280900.CHRTOUT_DOMAIN1  201108312300.CHRTOUT_DOMAIN1\n"
     ]
    },
    {
     "name": "stdout",
     "output_type": "stream",
     "text": [
      "201108280900.CHRTOUT_GRID1    201108312300.CHRTOUT_GRID1\n"
     ]
    },
    {
     "name": "stdout",
     "output_type": "stream",
     "text": [
      "201108280900.GWOUT_DOMAIN1    201108312300.GWOUT_DOMAIN1\n"
     ]
    },
    {
     "name": "stdout",
     "output_type": "stream",
     "text": [
      "201108280900.LAKEOUT_DOMAIN1  201108312300.LAKEOUT_DOMAIN1\n"
     ]
    },
    {
     "name": "stdout",
     "output_type": "stream",
     "text": [
      "201108280900.LDASOUT_DOMAIN1  201108312300.LDASOUT_DOMAIN1\n"
     ]
    },
    {
     "name": "stdout",
     "output_type": "stream",
     "text": [
      "201108280900.LSMOUT_DOMAIN1   201108312300.LSMOUT_DOMAIN1\n"
     ]
    },
    {
     "name": "stdout",
     "output_type": "stream",
     "text": [
      "201108280900.RTOUT_DOMAIN1    201109010000.CHANOBS_DOMAIN1\n"
     ]
    },
    {
     "name": "stdout",
     "output_type": "stream",
     "text": [
      "201108281000.CHANOBS_DOMAIN1  201109010000.CHRTOUT_DOMAIN1\n"
     ]
    },
    {
     "name": "stdout",
     "output_type": "stream",
     "text": [
      "201108281000.CHRTOUT_DOMAIN1  201109010000.CHRTOUT_GRID1\n"
     ]
    },
    {
     "name": "stdout",
     "output_type": "stream",
     "text": [
      "201108281000.CHRTOUT_GRID1    201109010000.GWOUT_DOMAIN1\n"
     ]
    },
    {
     "name": "stdout",
     "output_type": "stream",
     "text": [
      "201108281000.GWOUT_DOMAIN1    201109010000.LAKEOUT_DOMAIN1\n"
     ]
    },
    {
     "name": "stdout",
     "output_type": "stream",
     "text": [
      "201108281000.LAKEOUT_DOMAIN1  201109010000.LDASOUT_DOMAIN1\n"
     ]
    },
    {
     "name": "stdout",
     "output_type": "stream",
     "text": [
      "201108281000.LDASOUT_DOMAIN1  201109010000.LSMOUT_DOMAIN1\n"
     ]
    },
    {
     "name": "stdout",
     "output_type": "stream",
     "text": [
      "201108281000.LSMOUT_DOMAIN1   201109010000.RTOUT_DOMAIN1\n"
     ]
    },
    {
     "name": "stdout",
     "output_type": "stream",
     "text": [
      "201108281100.CHANOBS_DOMAIN1  201109010100.CHANOBS_DOMAIN1\n"
     ]
    },
    {
     "name": "stdout",
     "output_type": "stream",
     "text": [
      "201108281100.CHRTOUT_DOMAIN1  201109010100.CHRTOUT_DOMAIN1\n"
     ]
    },
    {
     "name": "stdout",
     "output_type": "stream",
     "text": [
      "201108281100.CHRTOUT_GRID1    201109010100.CHRTOUT_GRID1\n"
     ]
    },
    {
     "name": "stdout",
     "output_type": "stream",
     "text": [
      "201108281100.GWOUT_DOMAIN1    201109010100.GWOUT_DOMAIN1\n"
     ]
    },
    {
     "name": "stdout",
     "output_type": "stream",
     "text": [
      "201108281100.LAKEOUT_DOMAIN1  201109010100.LAKEOUT_DOMAIN1\n"
     ]
    },
    {
     "name": "stdout",
     "output_type": "stream",
     "text": [
      "201108281100.LDASOUT_DOMAIN1  201109010100.LDASOUT_DOMAIN1\n"
     ]
    },
    {
     "name": "stdout",
     "output_type": "stream",
     "text": [
      "201108281100.LSMOUT_DOMAIN1   201109010100.LSMOUT_DOMAIN1\n"
     ]
    },
    {
     "name": "stdout",
     "output_type": "stream",
     "text": [
      "201108281200.CHANOBS_DOMAIN1  201109010200.CHANOBS_DOMAIN1\n"
     ]
    },
    {
     "name": "stdout",
     "output_type": "stream",
     "text": [
      "201108281200.CHRTOUT_DOMAIN1  201109010200.CHRTOUT_DOMAIN1\n"
     ]
    },
    {
     "name": "stdout",
     "output_type": "stream",
     "text": [
      "201108281200.CHRTOUT_GRID1    201109010200.CHRTOUT_GRID1\n"
     ]
    },
    {
     "name": "stdout",
     "output_type": "stream",
     "text": [
      "201108281200.GWOUT_DOMAIN1    201109010200.GWOUT_DOMAIN1\n"
     ]
    },
    {
     "name": "stdout",
     "output_type": "stream",
     "text": [
      "201108281200.LAKEOUT_DOMAIN1  201109010200.LAKEOUT_DOMAIN1\n"
     ]
    },
    {
     "name": "stdout",
     "output_type": "stream",
     "text": [
      "201108281200.LDASOUT_DOMAIN1  201109010200.LDASOUT_DOMAIN1\r"
     ]
    },
    {
     "name": "stdout",
     "output_type": "stream",
     "text": [
      "\n"
     ]
    },
    {
     "name": "stdout",
     "output_type": "stream",
     "text": [
      "201108281200.LSMOUT_DOMAIN1   201109010200.LSMOUT_DOMAIN1\n"
     ]
    },
    {
     "name": "stdout",
     "output_type": "stream",
     "text": [
      "201108281200.RTOUT_DOMAIN1    201109010300.CHANOBS_DOMAIN1\n"
     ]
    },
    {
     "name": "stdout",
     "output_type": "stream",
     "text": [
      "201108281300.CHANOBS_DOMAIN1  201109010300.CHRTOUT_DOMAIN1\n"
     ]
    },
    {
     "name": "stdout",
     "output_type": "stream",
     "text": [
      "201108281300.CHRTOUT_DOMAIN1  201109010300.CHRTOUT_GRID1\n"
     ]
    },
    {
     "name": "stdout",
     "output_type": "stream",
     "text": [
      "201108281300.CHRTOUT_GRID1    201109010300.GWOUT_DOMAIN1\n"
     ]
    },
    {
     "name": "stdout",
     "output_type": "stream",
     "text": [
      "201108281300.GWOUT_DOMAIN1    201109010300.LAKEOUT_DOMAIN1\n"
     ]
    },
    {
     "name": "stdout",
     "output_type": "stream",
     "text": [
      "201108281300.LAKEOUT_DOMAIN1  201109010300.LDASOUT_DOMAIN1\n"
     ]
    },
    {
     "name": "stdout",
     "output_type": "stream",
     "text": [
      "201108281300.LDASOUT_DOMAIN1  201109010300.LSMOUT_DOMAIN1\n"
     ]
    },
    {
     "name": "stdout",
     "output_type": "stream",
     "text": [
      "201108281300.LSMOUT_DOMAIN1   201109010300.RTOUT_DOMAIN1\n"
     ]
    },
    {
     "name": "stdout",
     "output_type": "stream",
     "text": [
      "201108281400.CHANOBS_DOMAIN1  201109010400.CHANOBS_DOMAIN1\n"
     ]
    },
    {
     "name": "stdout",
     "output_type": "stream",
     "text": [
      "201108281400.CHRTOUT_DOMAIN1  201109010400.CHRTOUT_DOMAIN1\n"
     ]
    },
    {
     "name": "stdout",
     "output_type": "stream",
     "text": [
      "201108281400.CHRTOUT_GRID1    201109010400.CHRTOUT_GRID1\n"
     ]
    },
    {
     "name": "stdout",
     "output_type": "stream",
     "text": [
      "201108281400.GWOUT_DOMAIN1    201109010400.GWOUT_DOMAIN1\n"
     ]
    },
    {
     "name": "stdout",
     "output_type": "stream",
     "text": [
      "201108281400.LAKEOUT_DOMAIN1  201109010400.LAKEOUT_DOMAIN1\n"
     ]
    },
    {
     "name": "stdout",
     "output_type": "stream",
     "text": [
      "201108281400.LDASOUT_DOMAIN1  201109010400.LDASOUT_DOMAIN1\n"
     ]
    },
    {
     "name": "stdout",
     "output_type": "stream",
     "text": [
      "201108281400.LSMOUT_DOMAIN1   201109010400.LSMOUT_DOMAIN1\n"
     ]
    },
    {
     "name": "stdout",
     "output_type": "stream",
     "text": [
      "201108281500.CHANOBS_DOMAIN1  201109010500.CHANOBS_DOMAIN1\n"
     ]
    },
    {
     "name": "stdout",
     "output_type": "stream",
     "text": [
      "201108281500.CHRTOUT_DOMAIN1  201109010500.CHRTOUT_DOMAIN1\n"
     ]
    },
    {
     "name": "stdout",
     "output_type": "stream",
     "text": [
      "201108281500.CHRTOUT_GRID1    201109010500.CHRTOUT_GRID1\n"
     ]
    },
    {
     "name": "stdout",
     "output_type": "stream",
     "text": [
      "201108281500.GWOUT_DOMAIN1    201109010500.GWOUT_DOMAIN1\n"
     ]
    },
    {
     "name": "stdout",
     "output_type": "stream",
     "text": [
      "201108281500.LAKEOUT_DOMAIN1  201109010500.LAKEOUT_DOMAIN1\n"
     ]
    },
    {
     "name": "stdout",
     "output_type": "stream",
     "text": [
      "201108281500.LDASOUT_DOMAIN1  201109010500.LDASOUT_DOMAIN1\n"
     ]
    },
    {
     "name": "stdout",
     "output_type": "stream",
     "text": [
      "201108281500.LSMOUT_DOMAIN1   201109010500.LSMOUT_DOMAIN1\n"
     ]
    },
    {
     "name": "stdout",
     "output_type": "stream",
     "text": [
      "201108281500.RTOUT_DOMAIN1    201109010600.CHANOBS_DOMAIN1\n"
     ]
    },
    {
     "name": "stdout",
     "output_type": "stream",
     "text": [
      "201108281600.CHANOBS_DOMAIN1  201109010600.CHRTOUT_DOMAIN1\n"
     ]
    },
    {
     "name": "stdout",
     "output_type": "stream",
     "text": [
      "201108281600.CHRTOUT_DOMAIN1  201109010600.CHRTOUT_GRID1\n"
     ]
    },
    {
     "name": "stdout",
     "output_type": "stream",
     "text": [
      "201108281600.CHRTOUT_GRID1    201109010600.GWOUT_DOMAIN1\n"
     ]
    },
    {
     "name": "stdout",
     "output_type": "stream",
     "text": [
      "201108281600.GWOUT_DOMAIN1    201109010600.LAKEOUT_DOMAIN1\n"
     ]
    },
    {
     "name": "stdout",
     "output_type": "stream",
     "text": [
      "201108281600.LAKEOUT_DOMAIN1  201109010600.LDASOUT_DOMAIN1\n"
     ]
    },
    {
     "name": "stdout",
     "output_type": "stream",
     "text": [
      "201108281600.LDASOUT_DOMAIN1  201109010600.LSMOUT_DOMAIN1\n"
     ]
    },
    {
     "name": "stdout",
     "output_type": "stream",
     "text": [
      "201108281600.LSMOUT_DOMAIN1   201109010600.RTOUT_DOMAIN1\n"
     ]
    },
    {
     "name": "stdout",
     "output_type": "stream",
     "text": [
      "201108281700.CHANOBS_DOMAIN1  201109010700.CHANOBS_DOMAIN1\n"
     ]
    },
    {
     "name": "stdout",
     "output_type": "stream",
     "text": [
      "201108281700.CHRTOUT_DOMAIN1  201109010700.CHRTOUT_DOMAIN1\n"
     ]
    },
    {
     "name": "stdout",
     "output_type": "stream",
     "text": [
      "201108281700.CHRTOUT_GRID1    201109010700.CHRTOUT_GRID1\n"
     ]
    },
    {
     "name": "stdout",
     "output_type": "stream",
     "text": [
      "201108281700.GWOUT_DOMAIN1    201109010700.GWOUT_DOMAIN1\n"
     ]
    },
    {
     "name": "stdout",
     "output_type": "stream",
     "text": [
      "201108281700.LAKEOUT_DOMAIN1  201109010700.LAKEOUT_DOMAIN1\n"
     ]
    },
    {
     "name": "stdout",
     "output_type": "stream",
     "text": [
      "201108281700.LDASOUT_DOMAIN1  201109010700.LDASOUT_DOMAIN1\n"
     ]
    },
    {
     "name": "stdout",
     "output_type": "stream",
     "text": [
      "201108281700.LSMOUT_DOMAIN1   201109010700.LSMOUT_DOMAIN1\n"
     ]
    },
    {
     "name": "stdout",
     "output_type": "stream",
     "text": [
      "201108281800.CHANOBS_DOMAIN1  201109010800.CHANOBS_DOMAIN1\n"
     ]
    },
    {
     "name": "stdout",
     "output_type": "stream",
     "text": [
      "201108281800.CHRTOUT_DOMAIN1  201109010800.CHRTOUT_DOMAIN1\n"
     ]
    },
    {
     "name": "stdout",
     "output_type": "stream",
     "text": [
      "201108281800.CHRTOUT_GRID1    201109010800.CHRTOUT_GRID1\n"
     ]
    },
    {
     "name": "stdout",
     "output_type": "stream",
     "text": [
      "201108281800.GWOUT_DOMAIN1    201109010800.GWOUT_DOMAIN1\n"
     ]
    },
    {
     "name": "stdout",
     "output_type": "stream",
     "text": [
      "201108281800.LAKEOUT_DOMAIN1  201109010800.LAKEOUT_DOMAIN1\n"
     ]
    },
    {
     "name": "stdout",
     "output_type": "stream",
     "text": [
      "201108281800.LDASOUT_DOMAIN1  201109010800.LDASOUT_DOMAIN1\n"
     ]
    },
    {
     "name": "stdout",
     "output_type": "stream",
     "text": [
      "201108281800.LSMOUT_DOMAIN1   201109010800.LSMOUT_DOMAIN1\n"
     ]
    },
    {
     "name": "stdout",
     "output_type": "stream",
     "text": [
      "201108281800.RTOUT_DOMAIN1    201109010900.CHANOBS_DOMAIN1\n"
     ]
    },
    {
     "name": "stdout",
     "output_type": "stream",
     "text": [
      "201108281900.CHANOBS_DOMAIN1  201109010900.CHRTOUT_DOMAIN1\n"
     ]
    },
    {
     "name": "stdout",
     "output_type": "stream",
     "text": [
      "201108281900.CHRTOUT_DOMAIN1  201109010900.CHRTOUT_GRID1\n"
     ]
    },
    {
     "name": "stdout",
     "output_type": "stream",
     "text": [
      "201108281900.CHRTOUT_GRID1    201109010900.GWOUT_DOMAIN1\n"
     ]
    },
    {
     "name": "stdout",
     "output_type": "stream",
     "text": [
      "201108281900.GWOUT_DOMAIN1    201109010900.LAKEOUT_DOMAIN1\n"
     ]
    },
    {
     "name": "stdout",
     "output_type": "stream",
     "text": [
      "201108281900.LAKEOUT_DOMAIN1  201109010900.LDASOUT_DOMAIN1\n"
     ]
    },
    {
     "name": "stdout",
     "output_type": "stream",
     "text": [
      "201108281900.LDASOUT_DOMAIN1  201109010900.LSMOUT_DOMAIN1\n"
     ]
    },
    {
     "name": "stdout",
     "output_type": "stream",
     "text": [
      "201108281900.LSMOUT_DOMAIN1   201109010900.RTOUT_DOMAIN1\n"
     ]
    },
    {
     "name": "stdout",
     "output_type": "stream",
     "text": [
      "201108282000.CHANOBS_DOMAIN1  201109011000.CHANOBS_DOMAIN1\n"
     ]
    },
    {
     "name": "stdout",
     "output_type": "stream",
     "text": [
      "201108282000.CHRTOUT_DOMAIN1  201109011000.CHRTOUT_DOMAIN1\n"
     ]
    },
    {
     "name": "stdout",
     "output_type": "stream",
     "text": [
      "201108282000.CHRTOUT_GRID1    201109011000.CHRTOUT_GRID1\n"
     ]
    },
    {
     "name": "stdout",
     "output_type": "stream",
     "text": [
      "201108282000.GWOUT_DOMAIN1    201109011000.GWOUT_DOMAIN1\n"
     ]
    },
    {
     "name": "stdout",
     "output_type": "stream",
     "text": [
      "201108282000.LAKEOUT_DOMAIN1  201109011000.LAKEOUT_DOMAIN1\n"
     ]
    },
    {
     "name": "stdout",
     "output_type": "stream",
     "text": [
      "201108282000.LDASOUT_DOMAIN1  201109011000.LDASOUT_DOMAIN1\n"
     ]
    },
    {
     "name": "stdout",
     "output_type": "stream",
     "text": [
      "201108282000.LSMOUT_DOMAIN1   201109011000.LSMOUT_DOMAIN1\n"
     ]
    },
    {
     "name": "stdout",
     "output_type": "stream",
     "text": [
      "201108282100.CHANOBS_DOMAIN1  201109011100.CHANOBS_DOMAIN1\n"
     ]
    },
    {
     "name": "stdout",
     "output_type": "stream",
     "text": [
      "201108282100.CHRTOUT_DOMAIN1  201109011100.CHRTOUT_DOMAIN1\n"
     ]
    },
    {
     "name": "stdout",
     "output_type": "stream",
     "text": [
      "201108282100.CHRTOUT_GRID1    201109011100.CHRTOUT_GRID1\n"
     ]
    },
    {
     "name": "stdout",
     "output_type": "stream",
     "text": [
      "201108282100.GWOUT_DOMAIN1    201109011100.GWOUT_DOMAIN1\n"
     ]
    },
    {
     "name": "stdout",
     "output_type": "stream",
     "text": [
      "201108282100.LAKEOUT_DOMAIN1  201109011100.LAKEOUT_DOMAIN1\n"
     ]
    },
    {
     "name": "stdout",
     "output_type": "stream",
     "text": [
      "201108282100.LDASOUT_DOMAIN1  201109011100.LDASOUT_DOMAIN1\n"
     ]
    },
    {
     "name": "stdout",
     "output_type": "stream",
     "text": [
      "201108282100.LSMOUT_DOMAIN1   201109011100.LSMOUT_DOMAIN1\n"
     ]
    },
    {
     "name": "stdout",
     "output_type": "stream",
     "text": [
      "201108282100.RTOUT_DOMAIN1    201109011200.CHANOBS_DOMAIN1\n"
     ]
    },
    {
     "name": "stdout",
     "output_type": "stream",
     "text": [
      "201108282200.CHANOBS_DOMAIN1  201109011200.CHRTOUT_DOMAIN1\n"
     ]
    },
    {
     "name": "stdout",
     "output_type": "stream",
     "text": [
      "201108282200.CHRTOUT_DOMAIN1  201109011200.CHRTOUT_GRID1\n"
     ]
    },
    {
     "name": "stdout",
     "output_type": "stream",
     "text": [
      "201108282200.CHRTOUT_GRID1    201109011200.GWOUT_DOMAIN1\n"
     ]
    },
    {
     "name": "stdout",
     "output_type": "stream",
     "text": [
      "201108282200.GWOUT_DOMAIN1    201109011200.LAKEOUT_DOMAIN1\n"
     ]
    },
    {
     "name": "stdout",
     "output_type": "stream",
     "text": [
      "201108282200.LAKEOUT_DOMAIN1  201109011200.LDASOUT_DOMAIN1\n"
     ]
    },
    {
     "name": "stdout",
     "output_type": "stream",
     "text": [
      "201108282200.LDASOUT_DOMAIN1  201109011200.LSMOUT_DOMAIN1\n"
     ]
    },
    {
     "name": "stdout",
     "output_type": "stream",
     "text": [
      "201108282200.LSMOUT_DOMAIN1   201109011200.RTOUT_DOMAIN1\n"
     ]
    },
    {
     "name": "stdout",
     "output_type": "stream",
     "text": [
      "201108282300.CHANOBS_DOMAIN1  201109011300.CHANOBS_DOMAIN1\n"
     ]
    },
    {
     "name": "stdout",
     "output_type": "stream",
     "text": [
      "201108282300.CHRTOUT_DOMAIN1  201109011300.CHRTOUT_DOMAIN1\n"
     ]
    },
    {
     "name": "stdout",
     "output_type": "stream",
     "text": [
      "201108282300.CHRTOUT_GRID1    201109011300.CHRTOUT_GRID1\n"
     ]
    },
    {
     "name": "stdout",
     "output_type": "stream",
     "text": [
      "201108282300.GWOUT_DOMAIN1    201109011300.GWOUT_DOMAIN1\n"
     ]
    },
    {
     "name": "stdout",
     "output_type": "stream",
     "text": [
      "201108282300.LAKEOUT_DOMAIN1  201109011300.LAKEOUT_DOMAIN1\n"
     ]
    },
    {
     "name": "stdout",
     "output_type": "stream",
     "text": [
      "201108282300.LDASOUT_DOMAIN1  201109011300.LDASOUT_DOMAIN1\n"
     ]
    },
    {
     "name": "stdout",
     "output_type": "stream",
     "text": [
      "201108282300.LSMOUT_DOMAIN1   201109011300.LSMOUT_DOMAIN1\n"
     ]
    },
    {
     "name": "stdout",
     "output_type": "stream",
     "text": [
      "201108290000.CHANOBS_DOMAIN1  201109011400.CHANOBS_DOMAIN1\n"
     ]
    },
    {
     "name": "stdout",
     "output_type": "stream",
     "text": [
      "201108290000.CHRTOUT_DOMAIN1  201109011400.CHRTOUT_DOMAIN1\n"
     ]
    },
    {
     "name": "stdout",
     "output_type": "stream",
     "text": [
      "201108290000.CHRTOUT_GRID1    201109011400.CHRTOUT_GRID1\n"
     ]
    },
    {
     "name": "stdout",
     "output_type": "stream",
     "text": [
      "201108290000.GWOUT_DOMAIN1    201109011400.GWOUT_DOMAIN1\n"
     ]
    },
    {
     "name": "stdout",
     "output_type": "stream",
     "text": [
      "201108290000.LAKEOUT_DOMAIN1  201109011400.LAKEOUT_DOMAIN1\n"
     ]
    },
    {
     "name": "stdout",
     "output_type": "stream",
     "text": [
      "201108290000.LDASOUT_DOMAIN1  201109011400.LDASOUT_DOMAIN1\n"
     ]
    },
    {
     "name": "stdout",
     "output_type": "stream",
     "text": [
      "201108290000.LSMOUT_DOMAIN1   201109011400.LSMOUT_DOMAIN1\n"
     ]
    },
    {
     "name": "stdout",
     "output_type": "stream",
     "text": [
      "201108290000.RTOUT_DOMAIN1    201109011500.CHANOBS_DOMAIN1\n"
     ]
    },
    {
     "name": "stdout",
     "output_type": "stream",
     "text": [
      "201108290100.CHANOBS_DOMAIN1  201109011500.CHRTOUT_DOMAIN1\n"
     ]
    },
    {
     "name": "stdout",
     "output_type": "stream",
     "text": [
      "201108290100.CHRTOUT_DOMAIN1  201109011500.CHRTOUT_GRID1\n"
     ]
    },
    {
     "name": "stdout",
     "output_type": "stream",
     "text": [
      "201108290100.CHRTOUT_GRID1    201109011500.GWOUT_DOMAIN1\n"
     ]
    },
    {
     "name": "stdout",
     "output_type": "stream",
     "text": [
      "201108290100.GWOUT_DOMAIN1    201109011500.LAKEOUT_DOMAIN1\n"
     ]
    },
    {
     "name": "stdout",
     "output_type": "stream",
     "text": [
      "201108290100.LAKEOUT_DOMAIN1  201109011500.LDASOUT_DOMAIN1\n"
     ]
    },
    {
     "name": "stdout",
     "output_type": "stream",
     "text": [
      "201108290100.LDASOUT_DOMAIN1  201109011500.LSMOUT_DOMAIN1\n"
     ]
    },
    {
     "name": "stdout",
     "output_type": "stream",
     "text": [
      "201108290100.LSMOUT_DOMAIN1   201109011500.RTOUT_DOMAIN1\n"
     ]
    },
    {
     "name": "stdout",
     "output_type": "stream",
     "text": [
      "201108290200.CHANOBS_DOMAIN1  201109011600.CHANOBS_DOMAIN1\n"
     ]
    },
    {
     "name": "stdout",
     "output_type": "stream",
     "text": [
      "201108290200.CHRTOUT_DOMAIN1  201109011600.CHRTOUT_DOMAIN1\n"
     ]
    },
    {
     "name": "stdout",
     "output_type": "stream",
     "text": [
      "201108290200.CHRTOUT_GRID1    201109011600.CHRTOUT_GRID1\n"
     ]
    },
    {
     "name": "stdout",
     "output_type": "stream",
     "text": [
      "201108290200.GWOUT_DOMAIN1    201109011600.GWOUT_DOMAIN1\n"
     ]
    },
    {
     "name": "stdout",
     "output_type": "stream",
     "text": [
      "201108290200.LAKEOUT_DOMAIN1  201109011600.LAKEOUT_DOMAIN1\n"
     ]
    },
    {
     "name": "stdout",
     "output_type": "stream",
     "text": [
      "201108290200.LDASOUT_DOMAIN1  201109011600.LDASOUT_DOMAIN1\n"
     ]
    },
    {
     "name": "stdout",
     "output_type": "stream",
     "text": [
      "201108290200.LSMOUT_DOMAIN1   201109011600.LSMOUT_DOMAIN1\n"
     ]
    },
    {
     "name": "stdout",
     "output_type": "stream",
     "text": [
      "201108290300.CHANOBS_DOMAIN1  201109011700.CHANOBS_DOMAIN1\n"
     ]
    },
    {
     "name": "stdout",
     "output_type": "stream",
     "text": [
      "201108290300.CHRTOUT_DOMAIN1  201109011700.CHRTOUT_DOMAIN1\n"
     ]
    },
    {
     "name": "stdout",
     "output_type": "stream",
     "text": [
      "201108290300.CHRTOUT_GRID1    201109011700.CHRTOUT_GRID1\n"
     ]
    },
    {
     "name": "stdout",
     "output_type": "stream",
     "text": [
      "201108290300.GWOUT_DOMAIN1    201109011700.GWOUT_DOMAIN1\n"
     ]
    },
    {
     "name": "stdout",
     "output_type": "stream",
     "text": [
      "201108290300.LAKEOUT_DOMAIN1  201109011700.LAKEOUT_DOMAIN1\n"
     ]
    },
    {
     "name": "stdout",
     "output_type": "stream",
     "text": [
      "201108290300.LDASOUT_DOMAIN1  201109011700.LDASOUT_DOMAIN1\n"
     ]
    },
    {
     "name": "stdout",
     "output_type": "stream",
     "text": [
      "201108290300.LSMOUT_DOMAIN1   201109011700.LSMOUT_DOMAIN1\n"
     ]
    },
    {
     "name": "stdout",
     "output_type": "stream",
     "text": [
      "201108290300.RTOUT_DOMAIN1    201109011800.CHANOBS_DOMAIN1\n"
     ]
    },
    {
     "name": "stdout",
     "output_type": "stream",
     "text": [
      "201108290400.CHANOBS_DOMAIN1  201109011800.CHRTOUT_DOMAIN1\n"
     ]
    },
    {
     "name": "stdout",
     "output_type": "stream",
     "text": [
      "201108290400.CHRTOUT_DOMAIN1  201109011800.CHRTOUT_GRID1\n"
     ]
    },
    {
     "name": "stdout",
     "output_type": "stream",
     "text": [
      "201108290400.CHRTOUT_GRID1    201109011800.GWOUT_DOMAIN1\n"
     ]
    },
    {
     "name": "stdout",
     "output_type": "stream",
     "text": [
      "201108290400.GWOUT_DOMAIN1    201109011800.LAKEOUT_DOMAIN1\n"
     ]
    },
    {
     "name": "stdout",
     "output_type": "stream",
     "text": [
      "201108290400.LAKEOUT_DOMAIN1  201109011800.LDASOUT_DOMAIN1\n"
     ]
    },
    {
     "name": "stdout",
     "output_type": "stream",
     "text": [
      "201108290400.LDASOUT_DOMAIN1  201109011800.LSMOUT_DOMAIN1\n"
     ]
    },
    {
     "name": "stdout",
     "output_type": "stream",
     "text": [
      "201108290400.LSMOUT_DOMAIN1   201109011800.RTOUT_DOMAIN1\n"
     ]
    },
    {
     "name": "stdout",
     "output_type": "stream",
     "text": [
      "201108290500.CHANOBS_DOMAIN1  201109011900.CHANOBS_DOMAIN1\n"
     ]
    },
    {
     "name": "stdout",
     "output_type": "stream",
     "text": [
      "201108290500.CHRTOUT_DOMAIN1  201109011900.CHRTOUT_DOMAIN1\n"
     ]
    },
    {
     "name": "stdout",
     "output_type": "stream",
     "text": [
      "201108290500.CHRTOUT_GRID1    201109011900.CHRTOUT_GRID1\n"
     ]
    },
    {
     "name": "stdout",
     "output_type": "stream",
     "text": [
      "201108290500.GWOUT_DOMAIN1    201109011900.GWOUT_DOMAIN1\n"
     ]
    },
    {
     "name": "stdout",
     "output_type": "stream",
     "text": [
      "201108290500.LAKEOUT_DOMAIN1  201109011900.LAKEOUT_DOMAIN1\n"
     ]
    },
    {
     "name": "stdout",
     "output_type": "stream",
     "text": [
      "201108290500.LDASOUT_DOMAIN1  201109011900.LDASOUT_DOMAIN1\n"
     ]
    },
    {
     "name": "stdout",
     "output_type": "stream",
     "text": [
      "201108290500.LSMOUT_DOMAIN1   201109011900.LSMOUT_DOMAIN1\n"
     ]
    },
    {
     "name": "stdout",
     "output_type": "stream",
     "text": [
      "201108290600.CHANOBS_DOMAIN1  201109012000.CHANOBS_DOMAIN1\n"
     ]
    },
    {
     "name": "stdout",
     "output_type": "stream",
     "text": [
      "201108290600.CHRTOUT_DOMAIN1  201109012000.CHRTOUT_DOMAIN1\n"
     ]
    },
    {
     "name": "stdout",
     "output_type": "stream",
     "text": [
      "201108290600.CHRTOUT_GRID1    201109012000.CHRTOUT_GRID1\n"
     ]
    },
    {
     "name": "stdout",
     "output_type": "stream",
     "text": [
      "201108290600.GWOUT_DOMAIN1    201109012000.GWOUT_DOMAIN1\n"
     ]
    },
    {
     "name": "stdout",
     "output_type": "stream",
     "text": [
      "201108290600.LAKEOUT_DOMAIN1  201109012000.LAKEOUT_DOMAIN1\n"
     ]
    },
    {
     "name": "stdout",
     "output_type": "stream",
     "text": [
      "201108290600.LDASOUT_DOMAIN1  201109012000.LDASOUT_DOMAIN1\n"
     ]
    },
    {
     "name": "stdout",
     "output_type": "stream",
     "text": [
      "201108290600.LSMOUT_DOMAIN1   201109012000.LSMOUT_DOMAIN1\n"
     ]
    },
    {
     "name": "stdout",
     "output_type": "stream",
     "text": [
      "201108290600.RTOUT_DOMAIN1    201109012100.CHANOBS_DOMAIN1\n"
     ]
    },
    {
     "name": "stdout",
     "output_type": "stream",
     "text": [
      "201108290700.CHANOBS_DOMAIN1  201109012100.CHRTOUT_DOMAIN1\n"
     ]
    },
    {
     "name": "stdout",
     "output_type": "stream",
     "text": [
      "201108290700.CHRTOUT_DOMAIN1  201109012100.CHRTOUT_GRID1\n"
     ]
    },
    {
     "name": "stdout",
     "output_type": "stream",
     "text": [
      "201108290700.CHRTOUT_GRID1    201109012100.GWOUT_DOMAIN1\n"
     ]
    },
    {
     "name": "stdout",
     "output_type": "stream",
     "text": [
      "201108290700.GWOUT_DOMAIN1    201109012100.LAKEOUT_DOMAIN1\n"
     ]
    },
    {
     "name": "stdout",
     "output_type": "stream",
     "text": [
      "201108290700.LAKEOUT_DOMAIN1  201109012100.LDASOUT_DOMAIN1\n"
     ]
    },
    {
     "name": "stdout",
     "output_type": "stream",
     "text": [
      "201108290700.LDASOUT_DOMAIN1  201109012100.LSMOUT_DOMAIN1\n"
     ]
    },
    {
     "name": "stdout",
     "output_type": "stream",
     "text": [
      "201108290700.LSMOUT_DOMAIN1   201109012100.RTOUT_DOMAIN1\n"
     ]
    },
    {
     "name": "stdout",
     "output_type": "stream",
     "text": [
      "201108290800.CHANOBS_DOMAIN1  201109012200.CHANOBS_DOMAIN1\n"
     ]
    },
    {
     "name": "stdout",
     "output_type": "stream",
     "text": [
      "201108290800.CHRTOUT_DOMAIN1  201109012200.CHRTOUT_DOMAIN1\n"
     ]
    },
    {
     "name": "stdout",
     "output_type": "stream",
     "text": [
      "201108290800.CHRTOUT_GRID1    201109012200.CHRTOUT_GRID1\n"
     ]
    },
    {
     "name": "stdout",
     "output_type": "stream",
     "text": [
      "201108290800.GWOUT_DOMAIN1    201109012200.GWOUT_DOMAIN1\n"
     ]
    },
    {
     "name": "stdout",
     "output_type": "stream",
     "text": [
      "201108290800.LAKEOUT_DOMAIN1  201109012200.LAKEOUT_DOMAIN1\n"
     ]
    },
    {
     "name": "stdout",
     "output_type": "stream",
     "text": [
      "201108290800.LDASOUT_DOMAIN1  201109012200.LDASOUT_DOMAIN1\n"
     ]
    },
    {
     "name": "stdout",
     "output_type": "stream",
     "text": [
      "201108290800.LSMOUT_DOMAIN1   201109012200.LSMOUT_DOMAIN1\n"
     ]
    },
    {
     "name": "stdout",
     "output_type": "stream",
     "text": [
      "201108290900.CHANOBS_DOMAIN1  201109012300.CHANOBS_DOMAIN1\n"
     ]
    },
    {
     "name": "stdout",
     "output_type": "stream",
     "text": [
      "201108290900.CHRTOUT_DOMAIN1  201109012300.CHRTOUT_DOMAIN1\n"
     ]
    },
    {
     "name": "stdout",
     "output_type": "stream",
     "text": [
      "201108290900.CHRTOUT_GRID1    201109012300.CHRTOUT_GRID1\n"
     ]
    },
    {
     "name": "stdout",
     "output_type": "stream",
     "text": [
      "201108290900.GWOUT_DOMAIN1    201109012300.GWOUT_DOMAIN1\n"
     ]
    },
    {
     "name": "stdout",
     "output_type": "stream",
     "text": [
      "201108290900.LAKEOUT_DOMAIN1  201109012300.LAKEOUT_DOMAIN1\n"
     ]
    },
    {
     "name": "stdout",
     "output_type": "stream",
     "text": [
      "201108290900.LDASOUT_DOMAIN1  201109012300.LDASOUT_DOMAIN1\n"
     ]
    },
    {
     "name": "stdout",
     "output_type": "stream",
     "text": [
      "201108290900.LSMOUT_DOMAIN1   201109012300.LSMOUT_DOMAIN1\n"
     ]
    },
    {
     "name": "stdout",
     "output_type": "stream",
     "text": [
      "201108290900.RTOUT_DOMAIN1    201109020000.CHANOBS_DOMAIN1\n"
     ]
    },
    {
     "name": "stdout",
     "output_type": "stream",
     "text": [
      "201108291000.CHANOBS_DOMAIN1  201109020000.CHRTOUT_DOMAIN1\n"
     ]
    },
    {
     "name": "stdout",
     "output_type": "stream",
     "text": [
      "201108291000.CHRTOUT_DOMAIN1  201109020000.CHRTOUT_GRID1\n"
     ]
    },
    {
     "name": "stdout",
     "output_type": "stream",
     "text": [
      "201108291000.CHRTOUT_GRID1    201109020000.GWOUT_DOMAIN1\n"
     ]
    },
    {
     "name": "stdout",
     "output_type": "stream",
     "text": [
      "201108291000.GWOUT_DOMAIN1    201109020000.LAKEOUT_DOMAIN1\n"
     ]
    },
    {
     "name": "stdout",
     "output_type": "stream",
     "text": [
      "201108291000.LAKEOUT_DOMAIN1  201109020000.LDASOUT_DOMAIN1\n"
     ]
    },
    {
     "name": "stdout",
     "output_type": "stream",
     "text": [
      "201108291000.LDASOUT_DOMAIN1  201109020000.LSMOUT_DOMAIN1\n"
     ]
    },
    {
     "name": "stdout",
     "output_type": "stream",
     "text": [
      "201108291000.LSMOUT_DOMAIN1   201109020000.RTOUT_DOMAIN1\n"
     ]
    },
    {
     "name": "stdout",
     "output_type": "stream",
     "text": [
      "201108291100.CHANOBS_DOMAIN1  CHANPARM.TBL\n"
     ]
    },
    {
     "name": "stdout",
     "output_type": "stream",
     "text": [
      "201108291100.CHRTOUT_DOMAIN1  \u001b[0m\u001b[01;36mDOMAIN\u001b[0m\n"
     ]
    },
    {
     "name": "stdout",
     "output_type": "stream",
     "text": [
      "201108291100.CHRTOUT_GRID1    \u001b[01;36mFORCING\u001b[0m\n"
     ]
    },
    {
     "name": "stdout",
     "output_type": "stream",
     "text": [
      "201108291100.GWOUT_DOMAIN1    GENPARM.TBL\n"
     ]
    },
    {
     "name": "stdout",
     "output_type": "stream",
     "text": [
      "201108291100.LAKEOUT_DOMAIN1  HYDRO.TBL\n"
     ]
    },
    {
     "name": "stdout",
     "output_type": "stream",
     "text": [
      "201108291100.LDASOUT_DOMAIN1  HYDRO_RST.2011-08-27_00:00_DOMAIN1\n"
     ]
    },
    {
     "name": "stdout",
     "output_type": "stream",
     "text": [
      "201108291100.LSMOUT_DOMAIN1   HYDRO_RST.2011-08-28_00:00_DOMAIN1\n"
     ]
    },
    {
     "name": "stdout",
     "output_type": "stream",
     "text": [
      "201108291200.CHANOBS_DOMAIN1  HYDRO_RST.2011-08-29_00:00_DOMAIN1\n"
     ]
    },
    {
     "name": "stdout",
     "output_type": "stream",
     "text": [
      "201108291200.CHRTOUT_DOMAIN1  HYDRO_RST.2011-08-30_00:00_DOMAIN1\n"
     ]
    },
    {
     "name": "stdout",
     "output_type": "stream",
     "text": [
      "201108291200.CHRTOUT_GRID1    HYDRO_RST.2011-08-31_00:00_DOMAIN1\n"
     ]
    },
    {
     "name": "stdout",
     "output_type": "stream",
     "text": [
      "201108291200.GWOUT_DOMAIN1    HYDRO_RST.2011-09-01_00:00_DOMAIN1\n"
     ]
    },
    {
     "name": "stdout",
     "output_type": "stream",
     "text": [
      "201108291200.LAKEOUT_DOMAIN1  HYDRO_RST.2011-09-02_00:00_DOMAIN1\n"
     ]
    },
    {
     "name": "stdout",
     "output_type": "stream",
     "text": [
      "201108291200.LDASOUT_DOMAIN1  MPTABLE.TBL\n"
     ]
    },
    {
     "name": "stdout",
     "output_type": "stream",
     "text": [
      "201108291200.LSMOUT_DOMAIN1   \u001b[01;36mRESTART\u001b[0m\n"
     ]
    },
    {
     "name": "stdout",
     "output_type": "stream",
     "text": [
      "201108291200.RTOUT_DOMAIN1    RESTART.2011082700_DOMAIN1\n"
     ]
    },
    {
     "name": "stdout",
     "output_type": "stream",
     "text": [
      "201108291300.CHANOBS_DOMAIN1  RESTART.2011082800_DOMAIN1\n"
     ]
    },
    {
     "name": "stdout",
     "output_type": "stream",
     "text": [
      "201108291300.CHRTOUT_DOMAIN1  RESTART.2011082900_DOMAIN1\n"
     ]
    },
    {
     "name": "stdout",
     "output_type": "stream",
     "text": [
      "201108291300.CHRTOUT_GRID1    RESTART.2011083000_DOMAIN1\n"
     ]
    },
    {
     "name": "stdout",
     "output_type": "stream",
     "text": [
      "201108291300.GWOUT_DOMAIN1    RESTART.2011083100_DOMAIN1\n"
     ]
    },
    {
     "name": "stdout",
     "output_type": "stream",
     "text": [
      "201108291300.LAKEOUT_DOMAIN1  RESTART.2011090100_DOMAIN1\n"
     ]
    },
    {
     "name": "stdout",
     "output_type": "stream",
     "text": [
      "201108291300.LDASOUT_DOMAIN1  RESTART.2011090200_DOMAIN1\n"
     ]
    },
    {
     "name": "stdout",
     "output_type": "stream",
     "text": [
      "201108291300.LSMOUT_DOMAIN1   SOILPARM.TBL\n"
     ]
    },
    {
     "name": "stdout",
     "output_type": "stream",
     "text": [
      "201108291400.CHANOBS_DOMAIN1  diag_hydro.00000\n"
     ]
    },
    {
     "name": "stdout",
     "output_type": "stream",
     "text": [
      "201108291400.CHRTOUT_DOMAIN1  diag_hydro.00001\n"
     ]
    },
    {
     "name": "stdout",
     "output_type": "stream",
     "text": [
      "201108291400.CHRTOUT_GRID1    hydro.namelist\n"
     ]
    },
    {
     "name": "stdout",
     "output_type": "stream",
     "text": [
      "201108291400.GWOUT_DOMAIN1    namelist.hrldas\n"
     ]
    },
    {
     "name": "stdout",
     "output_type": "stream",
     "text": [
      "201108291400.LAKEOUT_DOMAIN1  run.log\n"
     ]
    },
    {
     "name": "stdout",
     "output_type": "stream",
     "text": [
      "201108291400.LDASOUT_DOMAIN1  \u001b[01;32mwrf_hydro\u001b[0m\n"
     ]
    },
    {
     "name": "stdout",
     "output_type": "stream",
     "text": [
      "201108291400.LSMOUT_DOMAIN1\n"
     ]
    }
   ],
   "source": [
    "ls"
   ]
  },
  {
   "cell_type": "markdown",
   "metadata": {},
   "source": [
    "There are also four important files for determining the success or failure of the run, diag_hydro.0000\\*. The number of diag files is equal to the number of cores used for the run. These diag_hydro.0000\\* files contain logs and diagnostics on the simulation run. \n",
    "\n",
    "You can check that your simulation ran successfully by examining the last line of the diag files, which should read  `The model finished successfully........`"
   ]
  },
  {
   "cell_type": "code",
   "execution_count": 14,
   "metadata": {
    "execution": {
     "iopub.execute_input": "2025-04-03T00:40:26.639901Z",
     "iopub.status.busy": "2025-04-03T00:40:26.639611Z",
     "iopub.status.idle": "2025-04-03T00:40:26.762117Z",
     "shell.execute_reply": "2025-04-03T00:40:26.758675Z"
    }
   },
   "outputs": [
    {
     "name": "stdout",
     "output_type": "stream",
     "text": [
      " The model finished successfully.......\n"
     ]
    }
   ],
   "source": [
    "tail -1 diag_hydro.00000"
   ]
  },
  {
   "cell_type": "markdown",
   "metadata": {},
   "source": [
    "# Next up - Basics of working with WRF-Hydro outputs\n",
    "This concludes Lesson 2. In the next lesson, we will **briefly** discuss working with some of the output files. The output files from WRF-Hydro are standard netCDF4 files, and thus there are many way to work with these data. We simply cover a few Python libraries and commands that are needed for later lessons in this tutorial. \n",
    "\n",
    "[Lesson 3](Lesson-3-visualize.ipynb) is by no means a comprehensive guide to working with netCDF files. \n",
    "\n",
    "**IT IS BEST TO EITHER SHUTDOWN THIS LESSON OR CLOSE IT BEFORE PROCEEDING TO THE NEXT LESSON TO AVOID POSSIBLY EXCEEDING ALLOCATED MEMORY. Shutdown the lesson be either closing the browser tab for the lesson or selecting `Kernel -> Shut Down Kernel` in JupyterLab.**\n",
    "\n",
    "© UCAR 2025"
   ]
  }
 ],
 "metadata": {
  "kernelspec": {
   "display_name": "Bash",
   "language": "bash",
   "name": "bash"
  },
  "language_info": {
   "codemirror_mode": "shell",
   "file_extension": ".sh",
   "mimetype": "text/x-sh",
   "name": "bash"
  },
  "toc": {
   "base_numbering": 1,
   "nav_menu": {},
   "number_sections": true,
   "sideBar": true,
   "skip_h1_title": true,
   "title_cell": "Table of Contents",
   "title_sidebar": "Contents",
   "toc_cell": true,
   "toc_position": {},
   "toc_section_display": true,
   "toc_window_display": true
  }
 },
 "nbformat": 4,
 "nbformat_minor": 4
}
